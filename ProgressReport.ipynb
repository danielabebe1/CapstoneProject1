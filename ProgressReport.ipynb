{
 "cells": [
  {
   "cell_type": "code",
   "execution_count": null,
   "metadata": {},
   "outputs": [],
   "source": []
  },
  {
   "cell_type": "code",
   "execution_count": 1,
   "metadata": {},
   "outputs": [],
   "source": [
    "#For this project we will need the following libraries and modules\n",
    "import numpy as np\n",
    "import pandas as pd\n",
    "import statsmodels.api as sm\n",
    "import matplotlib.pyplot as plt\n",
    "import seaborn as sns\n",
    "from sklearn.linear_model import LinearRegression\n",
    "from scipy.stats import ttest_ind\n",
    "sns.set()\n",
    "%matplotlib inline"
   ]
  },
  {
   "cell_type": "code",
   "execution_count": 2,
   "metadata": {},
   "outputs": [],
   "source": [
    "#the dataset is in csv format so we'll use read_csv function in pandas and replace blank space with NaN by \"na_values=' ' \"\n",
    "df=pd.read_csv('webmd.csv', na_values=' ')"
   ]
  },
  {
   "cell_type": "code",
   "execution_count": 3,
   "metadata": {},
   "outputs": [
    {
     "data": {
      "text/html": [
       "<div>\n",
       "<style scoped>\n",
       "    .dataframe tbody tr th:only-of-type {\n",
       "        vertical-align: middle;\n",
       "    }\n",
       "\n",
       "    .dataframe tbody tr th {\n",
       "        vertical-align: top;\n",
       "    }\n",
       "\n",
       "    .dataframe thead th {\n",
       "        text-align: right;\n",
       "    }\n",
       "</style>\n",
       "<table border=\"1\" class=\"dataframe\">\n",
       "  <thead>\n",
       "    <tr style=\"text-align: right;\">\n",
       "      <th></th>\n",
       "      <th>Age</th>\n",
       "      <th>Condition</th>\n",
       "      <th>Date</th>\n",
       "      <th>Drug</th>\n",
       "      <th>DrugId</th>\n",
       "      <th>EaseofUse</th>\n",
       "      <th>Effectiveness</th>\n",
       "      <th>Reviews</th>\n",
       "      <th>Satisfaction</th>\n",
       "      <th>Sex</th>\n",
       "      <th>Sides</th>\n",
       "      <th>UsefulCount</th>\n",
       "    </tr>\n",
       "  </thead>\n",
       "  <tbody>\n",
       "    <tr>\n",
       "      <td>0</td>\n",
       "      <td>75 or over</td>\n",
       "      <td>Stuffy Nose</td>\n",
       "      <td>9/21/2014</td>\n",
       "      <td>25dph-7.5peh</td>\n",
       "      <td>146724</td>\n",
       "      <td>5</td>\n",
       "      <td>5</td>\n",
       "      <td>I'm a retired physician and of all the meds I ...</td>\n",
       "      <td>5</td>\n",
       "      <td>Male</td>\n",
       "      <td>Drowsiness,  dizziness ,  dry mouth /nose/thro...</td>\n",
       "      <td>0</td>\n",
       "    </tr>\n",
       "    <tr>\n",
       "      <td>1</td>\n",
       "      <td>25-34</td>\n",
       "      <td>Cold Symptoms</td>\n",
       "      <td>1/13/2011</td>\n",
       "      <td>25dph-7.5peh</td>\n",
       "      <td>146724</td>\n",
       "      <td>5</td>\n",
       "      <td>5</td>\n",
       "      <td>cleared me right up even with my throat hurtin...</td>\n",
       "      <td>5</td>\n",
       "      <td>Female</td>\n",
       "      <td>Drowsiness,  dizziness ,  dry mouth /nose/thro...</td>\n",
       "      <td>1</td>\n",
       "    </tr>\n",
       "  </tbody>\n",
       "</table>\n",
       "</div>"
      ],
      "text/plain": [
       "          Age      Condition       Date          Drug  DrugId  EaseofUse  \\\n",
       "0  75 or over    Stuffy Nose  9/21/2014  25dph-7.5peh  146724          5   \n",
       "1       25-34  Cold Symptoms  1/13/2011  25dph-7.5peh  146724          5   \n",
       "\n",
       "   Effectiveness                                            Reviews  \\\n",
       "0              5  I'm a retired physician and of all the meds I ...   \n",
       "1              5  cleared me right up even with my throat hurtin...   \n",
       "\n",
       "   Satisfaction     Sex                                              Sides  \\\n",
       "0             5    Male  Drowsiness,  dizziness ,  dry mouth /nose/thro...   \n",
       "1             5  Female  Drowsiness,  dizziness ,  dry mouth /nose/thro...   \n",
       "\n",
       "   UsefulCount  \n",
       "0            0  \n",
       "1            1  "
      ]
     },
     "execution_count": 3,
     "metadata": {},
     "output_type": "execute_result"
    }
   ],
   "source": [
    "df.head(2)"
   ]
  },
  {
   "cell_type": "code",
   "execution_count": 4,
   "metadata": {},
   "outputs": [
    {
     "data": {
      "text/plain": [
       "(362806, 12)"
      ]
     },
     "execution_count": 4,
     "metadata": {},
     "output_type": "execute_result"
    }
   ],
   "source": [
    "df.shape"
   ]
  },
  {
   "cell_type": "code",
   "execution_count": 5,
   "metadata": {},
   "outputs": [],
   "source": [
    "#Only some attributes are considered in this project we'll drop attributes that aren't considered.\n",
    "df=df.drop(['Date', 'DrugId', 'Reviews', 'Sides', 'UsefulCount'], axis=1)"
   ]
  },
  {
   "cell_type": "code",
   "execution_count": 6,
   "metadata": {},
   "outputs": [],
   "source": [
    "df1=df[~df.Condition.isin(['Pain','Other'])]"
   ]
  },
  {
   "cell_type": "code",
   "execution_count": 7,
   "metadata": {},
   "outputs": [
    {
     "data": {
      "text/plain": [
       "(287809, 7)"
      ]
     },
     "execution_count": 7,
     "metadata": {},
     "output_type": "execute_result"
    }
   ],
   "source": [
    "df1.shape"
   ]
  },
  {
   "cell_type": "code",
   "execution_count": 8,
   "metadata": {},
   "outputs": [
    {
     "data": {
      "text/html": [
       "<div>\n",
       "<style scoped>\n",
       "    .dataframe tbody tr th:only-of-type {\n",
       "        vertical-align: middle;\n",
       "    }\n",
       "\n",
       "    .dataframe tbody tr th {\n",
       "        vertical-align: top;\n",
       "    }\n",
       "\n",
       "    .dataframe thead th {\n",
       "        text-align: right;\n",
       "    }\n",
       "</style>\n",
       "<table border=\"1\" class=\"dataframe\">\n",
       "  <thead>\n",
       "    <tr style=\"text-align: right;\">\n",
       "      <th></th>\n",
       "      <th>Age</th>\n",
       "      <th>Condition</th>\n",
       "      <th>Drug</th>\n",
       "      <th>EaseofUse</th>\n",
       "      <th>Effectiveness</th>\n",
       "      <th>Satisfaction</th>\n",
       "      <th>Sex</th>\n",
       "    </tr>\n",
       "  </thead>\n",
       "  <tbody>\n",
       "    <tr>\n",
       "      <td>count</td>\n",
       "      <td>278605</td>\n",
       "      <td>287766</td>\n",
       "      <td>287809</td>\n",
       "      <td>287809.000000</td>\n",
       "      <td>287809.000000</td>\n",
       "      <td>287809.000000</td>\n",
       "      <td>264971</td>\n",
       "    </tr>\n",
       "    <tr>\n",
       "      <td>unique</td>\n",
       "      <td>11</td>\n",
       "      <td>1803</td>\n",
       "      <td>5588</td>\n",
       "      <td>NaN</td>\n",
       "      <td>NaN</td>\n",
       "      <td>NaN</td>\n",
       "      <td>2</td>\n",
       "    </tr>\n",
       "    <tr>\n",
       "      <td>top</td>\n",
       "      <td>45-54</td>\n",
       "      <td>High Blood Pressure</td>\n",
       "      <td>lisinopril</td>\n",
       "      <td>NaN</td>\n",
       "      <td>NaN</td>\n",
       "      <td>NaN</td>\n",
       "      <td>Female</td>\n",
       "    </tr>\n",
       "    <tr>\n",
       "      <td>freq</td>\n",
       "      <td>62074</td>\n",
       "      <td>23275</td>\n",
       "      <td>4158</td>\n",
       "      <td>NaN</td>\n",
       "      <td>NaN</td>\n",
       "      <td>NaN</td>\n",
       "      <td>189224</td>\n",
       "    </tr>\n",
       "    <tr>\n",
       "      <td>mean</td>\n",
       "      <td>NaN</td>\n",
       "      <td>NaN</td>\n",
       "      <td>NaN</td>\n",
       "      <td>4.020382</td>\n",
       "      <td>3.550577</td>\n",
       "      <td>3.123565</td>\n",
       "      <td>NaN</td>\n",
       "    </tr>\n",
       "    <tr>\n",
       "      <td>std</td>\n",
       "      <td>NaN</td>\n",
       "      <td>NaN</td>\n",
       "      <td>NaN</td>\n",
       "      <td>1.316201</td>\n",
       "      <td>1.451841</td>\n",
       "      <td>1.613679</td>\n",
       "      <td>NaN</td>\n",
       "    </tr>\n",
       "    <tr>\n",
       "      <td>min</td>\n",
       "      <td>NaN</td>\n",
       "      <td>NaN</td>\n",
       "      <td>NaN</td>\n",
       "      <td>1.000000</td>\n",
       "      <td>1.000000</td>\n",
       "      <td>1.000000</td>\n",
       "      <td>NaN</td>\n",
       "    </tr>\n",
       "    <tr>\n",
       "      <td>25%</td>\n",
       "      <td>NaN</td>\n",
       "      <td>NaN</td>\n",
       "      <td>NaN</td>\n",
       "      <td>3.000000</td>\n",
       "      <td>3.000000</td>\n",
       "      <td>1.000000</td>\n",
       "      <td>NaN</td>\n",
       "    </tr>\n",
       "    <tr>\n",
       "      <td>50%</td>\n",
       "      <td>NaN</td>\n",
       "      <td>NaN</td>\n",
       "      <td>NaN</td>\n",
       "      <td>5.000000</td>\n",
       "      <td>4.000000</td>\n",
       "      <td>3.000000</td>\n",
       "      <td>NaN</td>\n",
       "    </tr>\n",
       "    <tr>\n",
       "      <td>75%</td>\n",
       "      <td>NaN</td>\n",
       "      <td>NaN</td>\n",
       "      <td>NaN</td>\n",
       "      <td>5.000000</td>\n",
       "      <td>5.000000</td>\n",
       "      <td>5.000000</td>\n",
       "      <td>NaN</td>\n",
       "    </tr>\n",
       "    <tr>\n",
       "      <td>max</td>\n",
       "      <td>NaN</td>\n",
       "      <td>NaN</td>\n",
       "      <td>NaN</td>\n",
       "      <td>6.000000</td>\n",
       "      <td>6.000000</td>\n",
       "      <td>6.000000</td>\n",
       "      <td>NaN</td>\n",
       "    </tr>\n",
       "  </tbody>\n",
       "</table>\n",
       "</div>"
      ],
      "text/plain": [
       "           Age            Condition        Drug      EaseofUse  Effectiveness  \\\n",
       "count   278605               287766      287809  287809.000000  287809.000000   \n",
       "unique      11                 1803        5588            NaN            NaN   \n",
       "top      45-54  High Blood Pressure  lisinopril            NaN            NaN   \n",
       "freq     62074                23275        4158            NaN            NaN   \n",
       "mean       NaN                  NaN         NaN       4.020382       3.550577   \n",
       "std        NaN                  NaN         NaN       1.316201       1.451841   \n",
       "min        NaN                  NaN         NaN       1.000000       1.000000   \n",
       "25%        NaN                  NaN         NaN       3.000000       3.000000   \n",
       "50%        NaN                  NaN         NaN       5.000000       4.000000   \n",
       "75%        NaN                  NaN         NaN       5.000000       5.000000   \n",
       "max        NaN                  NaN         NaN       6.000000       6.000000   \n",
       "\n",
       "         Satisfaction     Sex  \n",
       "count   287809.000000  264971  \n",
       "unique            NaN       2  \n",
       "top               NaN  Female  \n",
       "freq              NaN  189224  \n",
       "mean         3.123565     NaN  \n",
       "std          1.613679     NaN  \n",
       "min          1.000000     NaN  \n",
       "25%          1.000000     NaN  \n",
       "50%          3.000000     NaN  \n",
       "75%          5.000000     NaN  \n",
       "max          6.000000     NaN  "
      ]
     },
     "execution_count": 8,
     "metadata": {},
     "output_type": "execute_result"
    }
   ],
   "source": [
    "df1.describe(include='all')"
   ]
  },
  {
   "cell_type": "code",
   "execution_count": 9,
   "metadata": {},
   "outputs": [
    {
     "data": {
      "text/html": [
       "<div>\n",
       "<style scoped>\n",
       "    .dataframe tbody tr th:only-of-type {\n",
       "        vertical-align: middle;\n",
       "    }\n",
       "\n",
       "    .dataframe tbody tr th {\n",
       "        vertical-align: top;\n",
       "    }\n",
       "\n",
       "    .dataframe thead th {\n",
       "        text-align: right;\n",
       "    }\n",
       "</style>\n",
       "<table border=\"1\" class=\"dataframe\">\n",
       "  <thead>\n",
       "    <tr style=\"text-align: right;\">\n",
       "      <th></th>\n",
       "      <th>Age</th>\n",
       "      <th>Condition</th>\n",
       "      <th>Drug</th>\n",
       "      <th>EaseofUse</th>\n",
       "      <th>Effectiveness</th>\n",
       "      <th>Satisfaction</th>\n",
       "      <th>Sex</th>\n",
       "    </tr>\n",
       "  </thead>\n",
       "  <tbody>\n",
       "    <tr>\n",
       "      <td>195073</td>\n",
       "      <td>35-44</td>\n",
       "      <td>Migraine Prevention</td>\n",
       "      <td>topamax capsule, sprinkle</td>\n",
       "      <td>6</td>\n",
       "      <td>6</td>\n",
       "      <td>6</td>\n",
       "      <td>Female</td>\n",
       "    </tr>\n",
       "    <tr>\n",
       "      <td>195282</td>\n",
       "      <td>35-44</td>\n",
       "      <td>Migraine Prevention</td>\n",
       "      <td>topamax</td>\n",
       "      <td>6</td>\n",
       "      <td>6</td>\n",
       "      <td>6</td>\n",
       "      <td>Female</td>\n",
       "    </tr>\n",
       "  </tbody>\n",
       "</table>\n",
       "</div>"
      ],
      "text/plain": [
       "          Age            Condition                       Drug  EaseofUse  \\\n",
       "195073  35-44  Migraine Prevention  topamax capsule, sprinkle          6   \n",
       "195282  35-44  Migraine Prevention                    topamax          6   \n",
       "\n",
       "        Effectiveness  Satisfaction     Sex  \n",
       "195073              6             6  Female  \n",
       "195282              6             6  Female  "
      ]
     },
     "execution_count": 9,
     "metadata": {},
     "output_type": "execute_result"
    }
   ],
   "source": [
    "df1[df1.Satisfaction==6]"
   ]
  },
  {
   "cell_type": "code",
   "execution_count": 10,
   "metadata": {},
   "outputs": [
    {
     "data": {
      "text/plain": [
       "(287807, 7)"
      ]
     },
     "execution_count": 10,
     "metadata": {},
     "output_type": "execute_result"
    }
   ],
   "source": [
    "df1=df1.drop([195073,195282])\n",
    "df1.shape"
   ]
  },
  {
   "cell_type": "code",
   "execution_count": 11,
   "metadata": {},
   "outputs": [
    {
     "data": {
      "text/html": [
       "<div>\n",
       "<style scoped>\n",
       "    .dataframe tbody tr th:only-of-type {\n",
       "        vertical-align: middle;\n",
       "    }\n",
       "\n",
       "    .dataframe tbody tr th {\n",
       "        vertical-align: top;\n",
       "    }\n",
       "\n",
       "    .dataframe thead th {\n",
       "        text-align: right;\n",
       "    }\n",
       "</style>\n",
       "<table border=\"1\" class=\"dataframe\">\n",
       "  <thead>\n",
       "    <tr style=\"text-align: right;\">\n",
       "      <th></th>\n",
       "      <th>Age</th>\n",
       "      <th>Condition</th>\n",
       "      <th>Drug</th>\n",
       "      <th>EaseofUse</th>\n",
       "      <th>Effectiveness</th>\n",
       "      <th>Satisfaction</th>\n",
       "      <th>Sex</th>\n",
       "    </tr>\n",
       "  </thead>\n",
       "  <tbody>\n",
       "    <tr>\n",
       "      <td>count</td>\n",
       "      <td>278603</td>\n",
       "      <td>287764</td>\n",
       "      <td>287807</td>\n",
       "      <td>287807.000000</td>\n",
       "      <td>287807.000000</td>\n",
       "      <td>287807.000000</td>\n",
       "      <td>264969</td>\n",
       "    </tr>\n",
       "    <tr>\n",
       "      <td>unique</td>\n",
       "      <td>11</td>\n",
       "      <td>1803</td>\n",
       "      <td>5588</td>\n",
       "      <td>NaN</td>\n",
       "      <td>NaN</td>\n",
       "      <td>NaN</td>\n",
       "      <td>2</td>\n",
       "    </tr>\n",
       "    <tr>\n",
       "      <td>top</td>\n",
       "      <td>45-54</td>\n",
       "      <td>High Blood Pressure</td>\n",
       "      <td>lisinopril</td>\n",
       "      <td>NaN</td>\n",
       "      <td>NaN</td>\n",
       "      <td>NaN</td>\n",
       "      <td>Female</td>\n",
       "    </tr>\n",
       "    <tr>\n",
       "      <td>freq</td>\n",
       "      <td>62074</td>\n",
       "      <td>23275</td>\n",
       "      <td>4158</td>\n",
       "      <td>NaN</td>\n",
       "      <td>NaN</td>\n",
       "      <td>NaN</td>\n",
       "      <td>189222</td>\n",
       "    </tr>\n",
       "    <tr>\n",
       "      <td>mean</td>\n",
       "      <td>NaN</td>\n",
       "      <td>NaN</td>\n",
       "      <td>NaN</td>\n",
       "      <td>4.020368</td>\n",
       "      <td>3.550560</td>\n",
       "      <td>3.123545</td>\n",
       "      <td>NaN</td>\n",
       "    </tr>\n",
       "    <tr>\n",
       "      <td>std</td>\n",
       "      <td>NaN</td>\n",
       "      <td>NaN</td>\n",
       "      <td>NaN</td>\n",
       "      <td>1.316195</td>\n",
       "      <td>1.451832</td>\n",
       "      <td>1.613667</td>\n",
       "      <td>NaN</td>\n",
       "    </tr>\n",
       "    <tr>\n",
       "      <td>min</td>\n",
       "      <td>NaN</td>\n",
       "      <td>NaN</td>\n",
       "      <td>NaN</td>\n",
       "      <td>1.000000</td>\n",
       "      <td>1.000000</td>\n",
       "      <td>1.000000</td>\n",
       "      <td>NaN</td>\n",
       "    </tr>\n",
       "    <tr>\n",
       "      <td>25%</td>\n",
       "      <td>NaN</td>\n",
       "      <td>NaN</td>\n",
       "      <td>NaN</td>\n",
       "      <td>3.000000</td>\n",
       "      <td>3.000000</td>\n",
       "      <td>1.000000</td>\n",
       "      <td>NaN</td>\n",
       "    </tr>\n",
       "    <tr>\n",
       "      <td>50%</td>\n",
       "      <td>NaN</td>\n",
       "      <td>NaN</td>\n",
       "      <td>NaN</td>\n",
       "      <td>5.000000</td>\n",
       "      <td>4.000000</td>\n",
       "      <td>3.000000</td>\n",
       "      <td>NaN</td>\n",
       "    </tr>\n",
       "    <tr>\n",
       "      <td>75%</td>\n",
       "      <td>NaN</td>\n",
       "      <td>NaN</td>\n",
       "      <td>NaN</td>\n",
       "      <td>5.000000</td>\n",
       "      <td>5.000000</td>\n",
       "      <td>5.000000</td>\n",
       "      <td>NaN</td>\n",
       "    </tr>\n",
       "    <tr>\n",
       "      <td>max</td>\n",
       "      <td>NaN</td>\n",
       "      <td>NaN</td>\n",
       "      <td>NaN</td>\n",
       "      <td>5.000000</td>\n",
       "      <td>5.000000</td>\n",
       "      <td>5.000000</td>\n",
       "      <td>NaN</td>\n",
       "    </tr>\n",
       "  </tbody>\n",
       "</table>\n",
       "</div>"
      ],
      "text/plain": [
       "           Age            Condition        Drug      EaseofUse  Effectiveness  \\\n",
       "count   278603               287764      287807  287807.000000  287807.000000   \n",
       "unique      11                 1803        5588            NaN            NaN   \n",
       "top      45-54  High Blood Pressure  lisinopril            NaN            NaN   \n",
       "freq     62074                23275        4158            NaN            NaN   \n",
       "mean       NaN                  NaN         NaN       4.020368       3.550560   \n",
       "std        NaN                  NaN         NaN       1.316195       1.451832   \n",
       "min        NaN                  NaN         NaN       1.000000       1.000000   \n",
       "25%        NaN                  NaN         NaN       3.000000       3.000000   \n",
       "50%        NaN                  NaN         NaN       5.000000       4.000000   \n",
       "75%        NaN                  NaN         NaN       5.000000       5.000000   \n",
       "max        NaN                  NaN         NaN       5.000000       5.000000   \n",
       "\n",
       "         Satisfaction     Sex  \n",
       "count   287807.000000  264969  \n",
       "unique            NaN       2  \n",
       "top               NaN  Female  \n",
       "freq              NaN  189222  \n",
       "mean         3.123545     NaN  \n",
       "std          1.613667     NaN  \n",
       "min          1.000000     NaN  \n",
       "25%          1.000000     NaN  \n",
       "50%          3.000000     NaN  \n",
       "75%          5.000000     NaN  \n",
       "max          5.000000     NaN  "
      ]
     },
     "execution_count": 11,
     "metadata": {},
     "output_type": "execute_result"
    }
   ],
   "source": [
    "df1.describe(include='all')"
   ]
  },
  {
   "cell_type": "code",
   "execution_count": 12,
   "metadata": {},
   "outputs": [
    {
     "data": {
      "text/plain": [
       "Age               9204\n",
       "Condition           43\n",
       "Drug                 0\n",
       "EaseofUse            0\n",
       "Effectiveness        0\n",
       "Satisfaction         0\n",
       "Sex              22838\n",
       "dtype: int64"
      ]
     },
     "execution_count": 12,
     "metadata": {},
     "output_type": "execute_result"
    }
   ],
   "source": [
    "df1.isnull().sum()"
   ]
  },
  {
   "cell_type": "code",
   "execution_count": 13,
   "metadata": {},
   "outputs": [
    {
     "data": {
      "text/html": [
       "<div>\n",
       "<style scoped>\n",
       "    .dataframe tbody tr th:only-of-type {\n",
       "        vertical-align: middle;\n",
       "    }\n",
       "\n",
       "    .dataframe tbody tr th {\n",
       "        vertical-align: top;\n",
       "    }\n",
       "\n",
       "    .dataframe thead th {\n",
       "        text-align: right;\n",
       "    }\n",
       "</style>\n",
       "<table border=\"1\" class=\"dataframe\">\n",
       "  <thead>\n",
       "    <tr style=\"text-align: right;\">\n",
       "      <th></th>\n",
       "      <th>Age</th>\n",
       "      <th>Condition</th>\n",
       "      <th>Drug</th>\n",
       "      <th>EaseofUse</th>\n",
       "      <th>Effectiveness</th>\n",
       "      <th>Satisfaction</th>\n",
       "      <th>Sex</th>\n",
       "    </tr>\n",
       "  </thead>\n",
       "  <tbody>\n",
       "    <tr>\n",
       "      <td>184</td>\n",
       "      <td>NaN</td>\n",
       "      <td>Neuropathic Pain</td>\n",
       "      <td>lyrica</td>\n",
       "      <td>5</td>\n",
       "      <td>5</td>\n",
       "      <td>5</td>\n",
       "      <td>NaN</td>\n",
       "    </tr>\n",
       "    <tr>\n",
       "      <td>185</td>\n",
       "      <td>NaN</td>\n",
       "      <td>Nerve Pain after Herpes</td>\n",
       "      <td>lyrica</td>\n",
       "      <td>5</td>\n",
       "      <td>5</td>\n",
       "      <td>5</td>\n",
       "      <td>Male</td>\n",
       "    </tr>\n",
       "    <tr>\n",
       "      <td>186</td>\n",
       "      <td>65-74</td>\n",
       "      <td>Neuropathic Pain</td>\n",
       "      <td>lyrica</td>\n",
       "      <td>5</td>\n",
       "      <td>5</td>\n",
       "      <td>5</td>\n",
       "      <td>Female</td>\n",
       "    </tr>\n",
       "    <tr>\n",
       "      <td>187</td>\n",
       "      <td>19-24</td>\n",
       "      <td>Neuropathic Pain</td>\n",
       "      <td>lyrica</td>\n",
       "      <td>1</td>\n",
       "      <td>3</td>\n",
       "      <td>1</td>\n",
       "      <td>Female</td>\n",
       "    </tr>\n",
       "    <tr>\n",
       "      <td>188</td>\n",
       "      <td>35-44</td>\n",
       "      <td>Neuropathic Pain</td>\n",
       "      <td>lyrica</td>\n",
       "      <td>5</td>\n",
       "      <td>5</td>\n",
       "      <td>5</td>\n",
       "      <td>NaN</td>\n",
       "    </tr>\n",
       "    <tr>\n",
       "      <td>...</td>\n",
       "      <td>...</td>\n",
       "      <td>...</td>\n",
       "      <td>...</td>\n",
       "      <td>...</td>\n",
       "      <td>...</td>\n",
       "      <td>...</td>\n",
       "      <td>...</td>\n",
       "    </tr>\n",
       "    <tr>\n",
       "      <td>359701</td>\n",
       "      <td>25-34</td>\n",
       "      <td>Painful Periods</td>\n",
       "      <td>camrese</td>\n",
       "      <td>4</td>\n",
       "      <td>2</td>\n",
       "      <td>1</td>\n",
       "      <td>Female</td>\n",
       "    </tr>\n",
       "    <tr>\n",
       "      <td>361400</td>\n",
       "      <td>35-44</td>\n",
       "      <td>Throat Pain</td>\n",
       "      <td>chloraseptic total</td>\n",
       "      <td>1</td>\n",
       "      <td>1</td>\n",
       "      <td>1</td>\n",
       "      <td>NaN</td>\n",
       "    </tr>\n",
       "    <tr>\n",
       "      <td>361535</td>\n",
       "      <td>3-6</td>\n",
       "      <td>Head Pain</td>\n",
       "      <td>children's acetaminophen</td>\n",
       "      <td>5</td>\n",
       "      <td>4</td>\n",
       "      <td>5</td>\n",
       "      <td>Female</td>\n",
       "    </tr>\n",
       "    <tr>\n",
       "      <td>361615</td>\n",
       "      <td>13-18</td>\n",
       "      <td>Painful Periods</td>\n",
       "      <td>chateal</td>\n",
       "      <td>5</td>\n",
       "      <td>5</td>\n",
       "      <td>4</td>\n",
       "      <td>Female</td>\n",
       "    </tr>\n",
       "    <tr>\n",
       "      <td>361623</td>\n",
       "      <td>19-24</td>\n",
       "      <td>Painful Periods</td>\n",
       "      <td>chateal</td>\n",
       "      <td>5</td>\n",
       "      <td>5</td>\n",
       "      <td>5</td>\n",
       "      <td>NaN</td>\n",
       "    </tr>\n",
       "  </tbody>\n",
       "</table>\n",
       "<p>28417 rows × 7 columns</p>\n",
       "</div>"
      ],
      "text/plain": [
       "          Age                Condition                      Drug  EaseofUse  \\\n",
       "184       NaN         Neuropathic Pain                    lyrica          5   \n",
       "185       NaN  Nerve Pain after Herpes                    lyrica          5   \n",
       "186     65-74         Neuropathic Pain                    lyrica          5   \n",
       "187     19-24         Neuropathic Pain                    lyrica          1   \n",
       "188     35-44         Neuropathic Pain                    lyrica          5   \n",
       "...       ...                      ...                       ...        ...   \n",
       "359701  25-34          Painful Periods                   camrese          4   \n",
       "361400  35-44              Throat Pain        chloraseptic total          1   \n",
       "361535    3-6                Head Pain  children's acetaminophen          5   \n",
       "361615  13-18          Painful Periods                   chateal          5   \n",
       "361623  19-24          Painful Periods                   chateal          5   \n",
       "\n",
       "        Effectiveness  Satisfaction     Sex  \n",
       "184                 5             5     NaN  \n",
       "185                 5             5    Male  \n",
       "186                 5             5  Female  \n",
       "187                 3             1  Female  \n",
       "188                 5             5     NaN  \n",
       "...               ...           ...     ...  \n",
       "359701              2             1  Female  \n",
       "361400              1             1     NaN  \n",
       "361535              4             5  Female  \n",
       "361615              5             4  Female  \n",
       "361623              5             5     NaN  \n",
       "\n",
       "[28417 rows x 7 columns]"
      ]
     },
     "execution_count": 13,
     "metadata": {},
     "output_type": "execute_result"
    }
   ],
   "source": [
    "df2=df1[df1.Condition.str.contains('Pain', na=False)]\n",
    "df2"
   ]
  },
  {
   "cell_type": "code",
   "execution_count": 14,
   "metadata": {},
   "outputs": [
    {
     "data": {
      "text/plain": [
       "Other                                                      49765\n",
       "Pain                                                       25232\n",
       "High Blood Pressure                                        23275\n",
       "Depression                                                 14509\n",
       "Birth Control                                              12253\n",
       "                                                           ...  \n",
       "Infection of the Prostate Gland caused by Klebsiella           1\n",
       "aggressive systemic mastocytosis                               1\n",
       "Aluminum Poisoning                                             1\n",
       "Anemia in Non-Dialysis-Dependent Chronic Kidney Disease        1\n",
       "Inclusion Body Myositis                                        1\n",
       "Name: Condition, Length: 1805, dtype: int64"
      ]
     },
     "execution_count": 14,
     "metadata": {},
     "output_type": "execute_result"
    }
   ],
   "source": [
    "df.Condition.value_counts()"
   ]
  },
  {
   "cell_type": "code",
   "execution_count": 15,
   "metadata": {},
   "outputs": [],
   "source": [
    "data=df[df['Drug'].isin(['hydrocodone-acetaminophen','lyrica', 'neurontin', 'neurontin capsule','cymbalta,gabapentin solution',\n",
    "      'cymbalta','savella','oxycodone hcl','oxycodone hcl solution','oxycodone tablet, oral only', 'oxycodone hcl er',\n",
    "      'gabapentin tablet, extended release 24 hr', 'cymbalta','oxycontin','tramadol hcl','tramadol hcl er','meloxicam',\n",
    "      'mobic','gabapentin'])]"
   ]
  },
  {
   "cell_type": "code",
   "execution_count": 16,
   "metadata": {},
   "outputs": [
    {
     "data": {
      "text/plain": [
       "Pain                                                                                    13071\n",
       "Neuropathic Pain                                                                         7251\n",
       "Other                                                                                    4220\n",
       "Disorder characterized by Stiff, Tender & Painful Muscles                                2628\n",
       "Major Depressive Disorder                                                                1939\n",
       "Pain Originating From a Nerve                                                            1936\n",
       "Chronic Pain                                                                             1662\n",
       "Joint Damage causing Pain and Loss of Function                                            965\n",
       "Repeated Episodes of Anxiety                                                              580\n",
       "Acute Pain Following an Operation                                                         406\n",
       "Chronic Muscle or Bone Pain                                                               405\n",
       "Chronic Pain with Narcotic Drug Tolerance                                                 315\n",
       "Extreme Discomfort in Calves when Sitting or Lying Down                                   264\n",
       "Nerve Pain after Herpes                                                                   250\n",
       "Rheumatoid Arthritis                                                                      235\n",
       "Diabetic Complication causing Injury to some Body Nerves                                  175\n",
       "\"Change of Life\" Signs                                                                    152\n",
       "Epileptic Seizure                                                                          96\n",
       "Nerve Pain from Spinal Cord Injury                                                         91\n",
       "Rheumatic Disease causing Pain & Stiffness in Backbone                                     87\n",
       "Essential Tremor                                                                           82\n",
       "Simple Partial Seizures                                                                    70\n",
       "Involuntary Quivering                                                                      70\n",
       "Additional Medication to Treat Partial Seizures                                            66\n",
       "Joint Inflammatory Disease in Children and Young Adults                                    58\n",
       "Anxiousness associated with Depression                                                     55\n",
       "Convulsive Seizures                                                                        34\n",
       "Severe Pain                                                                                17\n",
       "Severe Pain with Opioid Tolerance                                                          15\n",
       "Habit of Drinking Too Much Alcohol                                                          6\n",
       "Gout                                                                                        3\n",
       "Non-Radiographic Axial Spondyloarthritis                                                    1\n",
       "Severe Chronic Pain in Opioid-Tolerant Pediatric Patient (11 Years of Age and Older)        1\n",
       "Name: Condition, dtype: int64"
      ]
     },
     "execution_count": 16,
     "metadata": {},
     "output_type": "execute_result"
    }
   ],
   "source": [
    "data.Condition.value_counts()"
   ]
  },
  {
   "cell_type": "code",
   "execution_count": 17,
   "metadata": {},
   "outputs": [],
   "source": [
    "data=data[~data['Condition'].isin(['Other','Severe Pain'])]"
   ]
  },
  {
   "cell_type": "code",
   "execution_count": 18,
   "metadata": {},
   "outputs": [
    {
     "data": {
      "text/plain": [
       "Pain                                                                                    13071\n",
       "Neuropathic Pain                                                                         7251\n",
       "Disorder characterized by Stiff, Tender & Painful Muscles                                2628\n",
       "Major Depressive Disorder                                                                1939\n",
       "Pain Originating From a Nerve                                                            1936\n",
       "Chronic Pain                                                                             1662\n",
       "Joint Damage causing Pain and Loss of Function                                            965\n",
       "Repeated Episodes of Anxiety                                                              580\n",
       "Acute Pain Following an Operation                                                         406\n",
       "Chronic Muscle or Bone Pain                                                               405\n",
       "Chronic Pain with Narcotic Drug Tolerance                                                 315\n",
       "Extreme Discomfort in Calves when Sitting or Lying Down                                   264\n",
       "Nerve Pain after Herpes                                                                   250\n",
       "Rheumatoid Arthritis                                                                      235\n",
       "Diabetic Complication causing Injury to some Body Nerves                                  175\n",
       "\"Change of Life\" Signs                                                                    152\n",
       "Epileptic Seizure                                                                          96\n",
       "Nerve Pain from Spinal Cord Injury                                                         91\n",
       "Rheumatic Disease causing Pain & Stiffness in Backbone                                     87\n",
       "Essential Tremor                                                                           82\n",
       "Involuntary Quivering                                                                      70\n",
       "Simple Partial Seizures                                                                    70\n",
       "Additional Medication to Treat Partial Seizures                                            66\n",
       "Joint Inflammatory Disease in Children and Young Adults                                    58\n",
       "Anxiousness associated with Depression                                                     55\n",
       "Convulsive Seizures                                                                        34\n",
       "Severe Pain with Opioid Tolerance                                                          15\n",
       "Habit of Drinking Too Much Alcohol                                                          6\n",
       "Gout                                                                                        3\n",
       "Non-Radiographic Axial Spondyloarthritis                                                    1\n",
       "Severe Chronic Pain in Opioid-Tolerant Pediatric Patient (11 Years of Age and Older)        1\n",
       "Name: Condition, dtype: int64"
      ]
     },
     "execution_count": 18,
     "metadata": {},
     "output_type": "execute_result"
    }
   ],
   "source": [
    "data.Condition.value_counts()"
   ]
  },
  {
   "cell_type": "code",
   "execution_count": 19,
   "metadata": {},
   "outputs": [],
   "source": [
    "data=data[data['Condition'].isin(['Neuropathic Pain', 'Pain', 'Disorder characterized by Stiff, Tender & Painful Muscles','Chronic Pain','Pain Originating From a Nerve'])]"
   ]
  },
  {
   "cell_type": "code",
   "execution_count": 20,
   "metadata": {},
   "outputs": [
    {
     "data": {
      "text/plain": [
       "Age               976\n",
       "Condition           0\n",
       "Drug                0\n",
       "EaseofUse           0\n",
       "Effectiveness       0\n",
       "Satisfaction        0\n",
       "Sex              1610\n",
       "dtype: int64"
      ]
     },
     "execution_count": 20,
     "metadata": {},
     "output_type": "execute_result"
    }
   ],
   "source": [
    "data.isnull().sum()"
   ]
  },
  {
   "cell_type": "code",
   "execution_count": 21,
   "metadata": {},
   "outputs": [],
   "source": [
    "data.dropna(inplace=True)"
   ]
  },
  {
   "cell_type": "code",
   "execution_count": 22,
   "metadata": {},
   "outputs": [
    {
     "data": {
      "text/html": [
       "<div>\n",
       "<style scoped>\n",
       "    .dataframe tbody tr th:only-of-type {\n",
       "        vertical-align: middle;\n",
       "    }\n",
       "\n",
       "    .dataframe tbody tr th {\n",
       "        vertical-align: top;\n",
       "    }\n",
       "\n",
       "    .dataframe thead th {\n",
       "        text-align: right;\n",
       "    }\n",
       "</style>\n",
       "<table border=\"1\" class=\"dataframe\">\n",
       "  <thead>\n",
       "    <tr style=\"text-align: right;\">\n",
       "      <th></th>\n",
       "      <th>Age</th>\n",
       "      <th>Condition</th>\n",
       "      <th>Drug</th>\n",
       "      <th>EaseofUse</th>\n",
       "      <th>Effectiveness</th>\n",
       "      <th>Satisfaction</th>\n",
       "      <th>Sex</th>\n",
       "    </tr>\n",
       "  </thead>\n",
       "  <tbody>\n",
       "    <tr>\n",
       "      <td>count</td>\n",
       "      <td>24621</td>\n",
       "      <td>24621</td>\n",
       "      <td>24621</td>\n",
       "      <td>24621.000000</td>\n",
       "      <td>24621.000000</td>\n",
       "      <td>24621.000000</td>\n",
       "      <td>24621</td>\n",
       "    </tr>\n",
       "    <tr>\n",
       "      <td>unique</td>\n",
       "      <td>11</td>\n",
       "      <td>5</td>\n",
       "      <td>15</td>\n",
       "      <td>NaN</td>\n",
       "      <td>NaN</td>\n",
       "      <td>NaN</td>\n",
       "      <td>2</td>\n",
       "    </tr>\n",
       "    <tr>\n",
       "      <td>top</td>\n",
       "      <td>45-54</td>\n",
       "      <td>Pain</td>\n",
       "      <td>hydrocodone-acetaminophen</td>\n",
       "      <td>NaN</td>\n",
       "      <td>NaN</td>\n",
       "      <td>NaN</td>\n",
       "      <td>Female</td>\n",
       "    </tr>\n",
       "    <tr>\n",
       "      <td>freq</td>\n",
       "      <td>6978</td>\n",
       "      <td>12081</td>\n",
       "      <td>3504</td>\n",
       "      <td>NaN</td>\n",
       "      <td>NaN</td>\n",
       "      <td>NaN</td>\n",
       "      <td>15757</td>\n",
       "    </tr>\n",
       "    <tr>\n",
       "      <td>mean</td>\n",
       "      <td>NaN</td>\n",
       "      <td>NaN</td>\n",
       "      <td>NaN</td>\n",
       "      <td>4.208318</td>\n",
       "      <td>3.548353</td>\n",
       "      <td>3.346290</td>\n",
       "      <td>NaN</td>\n",
       "    </tr>\n",
       "    <tr>\n",
       "      <td>std</td>\n",
       "      <td>NaN</td>\n",
       "      <td>NaN</td>\n",
       "      <td>NaN</td>\n",
       "      <td>1.141822</td>\n",
       "      <td>1.345747</td>\n",
       "      <td>1.503307</td>\n",
       "      <td>NaN</td>\n",
       "    </tr>\n",
       "    <tr>\n",
       "      <td>min</td>\n",
       "      <td>NaN</td>\n",
       "      <td>NaN</td>\n",
       "      <td>NaN</td>\n",
       "      <td>1.000000</td>\n",
       "      <td>1.000000</td>\n",
       "      <td>1.000000</td>\n",
       "      <td>NaN</td>\n",
       "    </tr>\n",
       "    <tr>\n",
       "      <td>25%</td>\n",
       "      <td>NaN</td>\n",
       "      <td>NaN</td>\n",
       "      <td>NaN</td>\n",
       "      <td>4.000000</td>\n",
       "      <td>3.000000</td>\n",
       "      <td>2.000000</td>\n",
       "      <td>NaN</td>\n",
       "    </tr>\n",
       "    <tr>\n",
       "      <td>50%</td>\n",
       "      <td>NaN</td>\n",
       "      <td>NaN</td>\n",
       "      <td>NaN</td>\n",
       "      <td>5.000000</td>\n",
       "      <td>4.000000</td>\n",
       "      <td>4.000000</td>\n",
       "      <td>NaN</td>\n",
       "    </tr>\n",
       "    <tr>\n",
       "      <td>75%</td>\n",
       "      <td>NaN</td>\n",
       "      <td>NaN</td>\n",
       "      <td>NaN</td>\n",
       "      <td>5.000000</td>\n",
       "      <td>5.000000</td>\n",
       "      <td>5.000000</td>\n",
       "      <td>NaN</td>\n",
       "    </tr>\n",
       "    <tr>\n",
       "      <td>max</td>\n",
       "      <td>NaN</td>\n",
       "      <td>NaN</td>\n",
       "      <td>NaN</td>\n",
       "      <td>5.000000</td>\n",
       "      <td>5.000000</td>\n",
       "      <td>5.000000</td>\n",
       "      <td>NaN</td>\n",
       "    </tr>\n",
       "  </tbody>\n",
       "</table>\n",
       "</div>"
      ],
      "text/plain": [
       "          Age Condition                       Drug     EaseofUse  \\\n",
       "count   24621     24621                      24621  24621.000000   \n",
       "unique     11         5                         15           NaN   \n",
       "top     45-54      Pain  hydrocodone-acetaminophen           NaN   \n",
       "freq     6978     12081                       3504           NaN   \n",
       "mean      NaN       NaN                        NaN      4.208318   \n",
       "std       NaN       NaN                        NaN      1.141822   \n",
       "min       NaN       NaN                        NaN      1.000000   \n",
       "25%       NaN       NaN                        NaN      4.000000   \n",
       "50%       NaN       NaN                        NaN      5.000000   \n",
       "75%       NaN       NaN                        NaN      5.000000   \n",
       "max       NaN       NaN                        NaN      5.000000   \n",
       "\n",
       "        Effectiveness  Satisfaction     Sex  \n",
       "count    24621.000000  24621.000000   24621  \n",
       "unique            NaN           NaN       2  \n",
       "top               NaN           NaN  Female  \n",
       "freq              NaN           NaN   15757  \n",
       "mean         3.548353      3.346290     NaN  \n",
       "std          1.345747      1.503307     NaN  \n",
       "min          1.000000      1.000000     NaN  \n",
       "25%          3.000000      2.000000     NaN  \n",
       "50%          4.000000      4.000000     NaN  \n",
       "75%          5.000000      5.000000     NaN  \n",
       "max          5.000000      5.000000     NaN  "
      ]
     },
     "execution_count": 22,
     "metadata": {},
     "output_type": "execute_result"
    }
   ],
   "source": [
    "data.describe(include='all')"
   ]
  },
  {
   "cell_type": "code",
   "execution_count": 23,
   "metadata": {},
   "outputs": [
    {
     "data": {
      "text/plain": [
       "<matplotlib.axes._subplots.AxesSubplot at 0x1e546d7b548>"
      ]
     },
     "execution_count": 23,
     "metadata": {},
     "output_type": "execute_result"
    },
    {
     "data": {
      "image/png": "[encoded data removed]",
      "text/plain": [
       "<Figure size 432x288 with 1 Axes>"
      ]
     },
     "metadata": {
      "needs_background": "light"
     },
     "output_type": "display_data"
    }
   ],
   "source": [
    "data.Condition.value_counts().plot(kind='barh')"
   ]
  },
  {
   "cell_type": "code",
   "execution_count": 24,
   "metadata": {},
   "outputs": [
    {
     "data": {
      "text/plain": [
       "Pain                                                         12081\n",
       "Neuropathic Pain                                              6726\n",
       "Disorder characterized by Stiff, Tender & Painful Muscles     2517\n",
       "Pain Originating From a Nerve                                 1824\n",
       "Chronic Pain                                                  1473\n",
       "Name: Condition, dtype: int64"
      ]
     },
     "execution_count": 24,
     "metadata": {},
     "output_type": "execute_result"
    }
   ],
   "source": [
    "data.Condition.value_counts()"
   ]
  },
  {
   "cell_type": "code",
   "execution_count": 25,
   "metadata": {},
   "outputs": [
    {
     "data": {
      "text/plain": [
       "hydrocodone-acetaminophen                    3504\n",
       "tramadol hcl                                 2491\n",
       "tramadol hcl er                              2491\n",
       "lyrica                                       1905\n",
       "oxycodone hcl solution                       1711\n",
       "oxycodone hcl er                             1711\n",
       "oxycodone hcl                                1711\n",
       "oxycodone tablet, oral only                  1711\n",
       "neurontin                                    1243\n",
       "neurontin capsule                            1243\n",
       "cymbalta                                     1059\n",
       "oxycontin                                    1024\n",
       "gabapentin tablet, extended release 24 hr    1016\n",
       "gabapentin                                   1016\n",
       "savella                                       785\n",
       "Name: Drug, dtype: int64"
      ]
     },
     "execution_count": 25,
     "metadata": {},
     "output_type": "execute_result"
    }
   ],
   "source": [
    "data.Drug.value_counts()"
   ]
  },
  {
   "cell_type": "code",
   "execution_count": 26,
   "metadata": {},
   "outputs": [
    {
     "data": {
      "text/plain": [
       "Pain                                                         5153\n",
       "Neuropathic Pain                                             3614\n",
       "Disorder characterized by Stiff, Tender & Painful Muscles    1415\n",
       "Chronic Pain                                                 1148\n",
       "Pain Originating From a Nerve                                 912\n",
       "Name: Condition, dtype: int64"
      ]
     },
     "execution_count": 26,
     "metadata": {},
     "output_type": "execute_result"
    }
   ],
   "source": [
    "drug=data[data['Drug'].isin(['lyrica','neurontin','cymbalta','gabapentin','tramadol hcl',\n",
    "                            'hydrocodone-acetaminophen','oxycontin'])] \n",
    "drug.Condition.value_counts()"
   ]
  },
  {
   "cell_type": "code",
   "execution_count": 27,
   "metadata": {},
   "outputs": [],
   "source": [
    "c1=drug[drug['Condition']=='Pain'].sample(frac=0.388,replace=True)"
   ]
  },
  {
   "cell_type": "code",
   "execution_count": 28,
   "metadata": {},
   "outputs": [],
   "source": [
    "c2=drug[drug['Condition']=='Neuropathic Pain'].sample(frac=0.5534,replace=True)"
   ]
  },
  {
   "cell_type": "code",
   "execution_count": 29,
   "metadata": {},
   "outputs": [],
   "source": [
    "c3=drug[drug['Condition']=='Disorder characterized by Stiff, Tender & Painful Muscles'].sample(frac=1.4134,replace=True)"
   ]
  },
  {
   "cell_type": "code",
   "execution_count": 30,
   "metadata": {},
   "outputs": [],
   "source": [
    "c4=drug[drug['Condition']=='Chronic Pain'].sample(frac=1.742,replace=True)"
   ]
  },
  {
   "cell_type": "code",
   "execution_count": 31,
   "metadata": {},
   "outputs": [],
   "source": [
    "c5=drug[drug['Condition']=='Pain Originating From a Nerve'].sample(frac=2.193,replace=True)"
   ]
  },
  {
   "cell_type": "code",
   "execution_count": 32,
   "metadata": {},
   "outputs": [],
   "source": [
    "df=pd.concat([c1,c2,c3,c4,c5])"
   ]
  },
  {
   "cell_type": "code",
   "execution_count": 33,
   "metadata": {},
   "outputs": [],
   "source": [
    "df=drug.reset_index(drop=True)"
   ]
  },
  {
   "cell_type": "code",
   "execution_count": 34,
   "metadata": {},
   "outputs": [],
   "source": [
    "df=df.sample(frac=10,replace=True)"
   ]
  },
  {
   "cell_type": "code",
   "execution_count": 35,
   "metadata": {},
   "outputs": [],
   "source": [
    "# cond=data[data['Condition']=='Pain'].sample(frac=.165, replace=True)\n",
    "# cond1=data[data['Condition']=='Neuropathic Pain'].sample(frac=0.297, replace=True)\n",
    "# cond2=data[data['Condition']=='Disorder characterized by Stiff, Tender & Painful Muscles'].sample(frac=0.794, replace=True)\n",
    "# cond3=data[data['Condition']=='Chronic Pain'].sample(frac=1.36, replace=True)\n",
    "# cond4=data[data['Condition']=='Pain Originating From a Nerve'].sample(frac=1.05, replace=True)\n",
    "# df=pd.concat([cond,cond1,cond2,cond3,cond4])\n",
    "# df.reset_index(drop=True)"
   ]
  },
  {
   "cell_type": "code",
   "execution_count": 42,
   "metadata": {},
   "outputs": [],
   "source": [
    "df['Condition']=df['Condition'].replace({'Pain':'Pain','Pain Originating From a Nerve':'Pain Originating From a Nerve',\n",
    "                                         'Disorder characterized by Stiff, Tender & Painful Muscles': 'Muscles Disorder',\n",
    "                                        'Neuropathic Pain':'Neuropathic Pain'})"
   ]
  },
  {
   "cell_type": "code",
   "execution_count": 43,
   "metadata": {},
   "outputs": [
    {
     "data": {
      "text/plain": [
       "Pain                             51613\n",
       "Neuropathic Pain                 35979\n",
       "Muscles Disorder                 14079\n",
       "Chronic Pain                     11439\n",
       "Pain Originating From a Nerve     9310\n",
       "Name: Condition, dtype: int64"
      ]
     },
     "execution_count": 43,
     "metadata": {},
     "output_type": "execute_result"
    }
   ],
   "source": [
    "df.Condition.value_counts()"
   ]
  },
  {
   "cell_type": "code",
   "execution_count": 44,
   "metadata": {},
   "outputs": [],
   "source": [
    "#sns.pairplot(df,hue='Sex')"
   ]
  },
  {
   "cell_type": "code",
   "execution_count": 45,
   "metadata": {},
   "outputs": [],
   "source": [
    "#df.Drug.value_counts().plot(kind='barh')"
   ]
  },
  {
   "cell_type": "code",
   "execution_count": 46,
   "metadata": {},
   "outputs": [],
   "source": [
    "# prepare input data\n",
    "def prepare_inputs(X_train, X_test):\n",
    "\toe = OrdinalEncoder()\n",
    "\toe.fit(X_train)\n",
    "\tX_train_enc = oe.transform(X_train)\n",
    "\tX_test_enc = oe.transform(X_test)\n",
    "\treturn X_train_enc, X_test_enc"
   ]
  },
  {
   "cell_type": "code",
   "execution_count": 47,
   "metadata": {},
   "outputs": [],
   "source": [
    "# df=df.replace(to_replace=['0-2','3-6','7-12','13-18','19-24','25-34','35-44','45-54','55-64','65-74','75 or over'],\n",
    "#                                   value=[1,5,10,15,20,30,40,50,60,70,80])"
   ]
  },
  {
   "cell_type": "code",
   "execution_count": 48,
   "metadata": {},
   "outputs": [],
   "source": [
    "from sklearn.linear_model import LinearRegression\n",
    "from sklearn.linear_model import LogisticRegression\n",
    "from sklearn.model_selection import train_test_split\n",
    "from sklearn import preprocessing, metrics\n",
    "from sklearn import preprocessing\n",
    "from sklearn import utils\n",
    "from sklearn.preprocessing import RobustScaler\n",
    "from sklearn.datasets import load_svmlight_file\n",
    "from sklearn.svm import LinearSVC\n",
    "from sklearn.tree import DecisionTreeClassifier\n",
    "from sklearn.ensemble import RandomForestClassifier\n",
    "from sklearn.metrics import *"
   ]
  },
  {
   "cell_type": "code",
   "execution_count": 49,
   "metadata": {},
   "outputs": [],
   "source": [
    "from sklearn.cluster import KMeans\n",
    "from sklearn.naive_bayes import GaussianNB\n",
    "from sklearn.neighbors import KNeighborsClassifier\n",
    "from sklearn.ensemble import ExtraTreesClassifier\n",
    "from sklearn.ensemble import BaggingClassifier\n",
    "from sklearn.ensemble import AdaBoostClassifier\n",
    "from sklearn.ensemble import GradientBoostingClassifier\n",
    "from xgboost import XGBClassifier\n",
    "from sklearn.ensemble import VotingClassifier\n",
    "from sklearn.naive_bayes import GaussianNB"
   ]
  },
  {
   "cell_type": "code",
   "execution_count": 50,
   "metadata": {},
   "outputs": [],
   "source": [
    "#preparing input data\n",
    "from sklearn.preprocessing import LabelEncoder\n",
    "from sklearn.preprocessing import OrdinalEncoder\n",
    "X=df.drop('Drug', axis=1)\n",
    "y=df['Drug']\n",
    "X_train, X_test, y_train, y_test = train_test_split(X,y,test_size=0.25, random_state=123)"
   ]
  },
  {
   "cell_type": "code",
   "execution_count": 51,
   "metadata": {},
   "outputs": [],
   "source": [
    "def prepare_inpus(X_train,X_test):\n",
    "    enc=OrdinalEncoder()\n",
    "    enc.fit(X_train)\n",
    "    X_train_enc = enc.transform(X_train)\n",
    "    X_test_enc = enc.transform(X_test)\n",
    "    return X_train_enc,X_test_enc"
   ]
  },
  {
   "cell_type": "code",
   "execution_count": 52,
   "metadata": {},
   "outputs": [],
   "source": [
    "def prepare_targets(y_train,y_test):\n",
    "    enc=OrdinalEncoder()\n",
    "    enc.fit(y_train)\n",
    "    y_train_enc = enc.transform(y_train)\n",
    "    y_test_enc = enc.transform(y_test)\n",
    "    return y_train_enc,y_test_enc"
   ]
  },
  {
   "cell_type": "code",
   "execution_count": 53,
   "metadata": {},
   "outputs": [],
   "source": [
    "# prepare input data\n",
    "X_train_enc, X_test_enc = prepare_inputs(X_train, X_test)\n"
   ]
  },
  {
   "cell_type": "code",
   "execution_count": 54,
   "metadata": {},
   "outputs": [],
   "source": [
    "# prepare output dat\n",
    "y_train  = pd.DataFrame(y_train)\n",
    "y_test = pd.DataFrame(y_test)\n",
    "y_train_enc, y_test_enc = prepare_targets(y_train, y_test)"
   ]
  },
  {
   "cell_type": "code",
   "execution_count": 69,
   "metadata": {},
   "outputs": [
    {
     "name": "stderr",
     "output_type": "stream",
     "text": [
      "C:\\ProgramData\\Anaconda3\\lib\\site-packages\\sklearn\\preprocessing\\label.py:235: DataConversionWarning: A column-vector y was passed when a 1d array was expected. Please change the shape of y to (n_samples, ), for example using ravel().\n",
      "  y = column_or_1d(y, warn=True)\n"
     ]
    }
   ],
   "source": [
    "lab_enc = preprocessing.LabelEncoder()\n",
    "y_test_ency = lab_enc.fit_transform(y_test_enc)\n",
    "log_pred_y = lab_enc.fit_transform(y_log_pred)\n",
    "linSVC_pred_y = lab_enc.fit_transform(y_linSVC_pred)\n",
    "dtree_pred_y = lab_enc.fit_transform(y_dtree_pred)\n",
    "rf_pred_y = lab_enc.fit_transform(y_rf_pred)\n",
    "ex_pred_y = lab_enc.fit_transform(y_ext_pred)\n",
    "ga_pred_y = lab_enc.fit_transform(y_gas_pred)\n",
    "kn_pred_y = lab_enc.fit_transform(y_knn_pred)\n",
    "km_pred_y = lab_enc.fit_transform(y_kms_pred)\n",
    "gb_pred_y = lab_enc.fit_transform(y_gbc_pred)\n",
    "xgb_pred_y = lab_enc.fit_transform(y_xgbc_pred)\n",
    "ba_pred_y = lab_enc.fit_transform(y_bag_pred)\n",
    "y_testt=lab_enc.fit_transform(y_test)"
   ]
  },
  {
   "cell_type": "code",
   "execution_count": 56,
   "metadata": {},
   "outputs": [],
   "source": [
    "from sklearn import preprocessing\n",
    "\n",
    "def multiclass_roc_auc_score(y_test,y_pred,average=\"macro\"):\n",
    "    lb = preprocessing.LabelBinarizer()\n",
    "    lb.fit(y_test)\n",
    "    y_test=lb.transform(y_test)\n",
    "    y_pred=lb.transform(y_pred)\n",
    "    return roc_auc_score(y_test,y_pred,average=average)"
   ]
  },
  {
   "cell_type": "code",
   "execution_count": 70,
   "metadata": {},
   "outputs": [
    {
     "name": "stderr",
     "output_type": "stream",
     "text": [
      "C:\\ProgramData\\Anaconda3\\lib\\site-packages\\sklearn\\linear_model\\logistic.py:432: FutureWarning: Default solver will be changed to 'lbfgs' in 0.22. Specify a solver to silence this warning.\n",
      "  FutureWarning)\n",
      "C:\\ProgramData\\Anaconda3\\lib\\site-packages\\sklearn\\utils\\validation.py:724: DataConversionWarning: A column-vector y was passed when a 1d array was expected. Please change the shape of y to (n_samples, ), for example using ravel().\n",
      "  y = column_or_1d(y, warn=True)\n",
      "C:\\ProgramData\\Anaconda3\\lib\\site-packages\\sklearn\\linear_model\\logistic.py:469: FutureWarning: Default multi_class will be changed to 'auto' in 0.22. Specify the multi_class option to silence this warning.\n",
      "  \"this warning.\", FutureWarning)\n"
     ]
    },
    {
     "name": "stdout",
     "output_type": "stream",
     "text": [
      "Logistic Regression Result\n",
      "              precision    recall  f1-score   support\n",
      "\n",
      "           0      0.132     0.006     0.012      2651\n",
      "           1      0.087     0.573     0.151      2520\n",
      "           2      0.000     0.000     0.000      8770\n",
      "           3      0.045     0.026     0.033      4737\n",
      "           4      0.179     0.335     0.233      3158\n",
      "           5      0.000     0.000     0.000      2568\n",
      "           6      0.000     0.000     0.000      6201\n",
      "\n",
      "    accuracy                          0.086     30605\n",
      "   macro avg      0.063     0.134     0.061     30605\n",
      "weighted avg      0.044     0.086     0.043     30605\n",
      "\n",
      "roc_auc_score of Logistic regression is: 0.49139091563637033\n"
     ]
    },
    {
     "name": "stderr",
     "output_type": "stream",
     "text": [
      "C:\\ProgramData\\Anaconda3\\lib\\site-packages\\sklearn\\metrics\\classification.py:1437: UndefinedMetricWarning: Precision and F-score are ill-defined and being set to 0.0 in labels with no predicted samples.\n",
      "  'precision', 'predicted', average, warn_for)\n"
     ]
    }
   ],
   "source": [
    "logis=LogisticRegression()\n",
    "logis.fit(X_train_enc, y_train_enc)\n",
    "y_log_pred = logis.predict(X_test_enc)\n",
    "sk_report = classification_report(\n",
    "    digits=3, y_true=y_test_ency, y_pred=log_pred_y)\n",
    "print('Logistic Regression Result')\n",
    "print(sk_report)\n",
    "print('roc_auc_score of Logistic regression is: '+str(multiclass_roc_auc_score(y_test_ency, log_pred_y)))"
   ]
  },
  {
   "cell_type": "code",
   "execution_count": 71,
   "metadata": {},
   "outputs": [
    {
     "name": "stdout",
     "output_type": "stream",
     "text": [
      "Decision Tree Result\n",
      "              precision    recall  f1-score   support\n",
      "\n",
      "           0      0.460     0.399     0.427      2651\n",
      "           1      0.633     0.481     0.546      2520\n",
      "           2      0.753     0.920     0.828      8770\n",
      "           3      0.499     0.748     0.598      4737\n",
      "           4      0.595     0.515     0.552      3158\n",
      "           5      0.824     0.798     0.811      2568\n",
      "           6      0.669     0.362     0.470      6201\n",
      "\n",
      "    accuracy                          0.647     30605\n",
      "   macro avg      0.633     0.603     0.605     30605\n",
      "weighted avg      0.651     0.647     0.632     30605\n",
      "\n",
      "roc_auc_score of Decision Tree is: 0.7708713956716223\n"
     ]
    }
   ],
   "source": [
    "dtree = DecisionTreeClassifier()\n",
    "dtree.fit(X_train_enc, y_train_enc)\n",
    "y_dtree_pred = dtree.predict(X_test_enc)\n",
    "sk_report = classification_report(\n",
    "    digits=3, y_true=y_test_ency, y_pred=dtree_pred_y)\n",
    "print('Decision Tree Result')\n",
    "print(sk_report)\n",
    "print('roc_auc_score of Decision Tree is: '+str(multiclass_roc_auc_score(y_test_ency, dtree_pred_y)))"
   ]
  },
  {
   "cell_type": "code",
   "execution_count": 72,
   "metadata": {},
   "outputs": [
    {
     "name": "stderr",
     "output_type": "stream",
     "text": [
      "C:\\ProgramData\\Anaconda3\\lib\\site-packages\\sklearn\\ensemble\\forest.py:245: FutureWarning: The default value of n_estimators will change from 10 in version 0.20 to 100 in 0.22.\n",
      "  \"10 in version 0.20 to 100 in 0.22.\", FutureWarning)\n",
      "C:\\ProgramData\\Anaconda3\\lib\\site-packages\\ipykernel_launcher.py:2: DataConversionWarning: A column-vector y was passed when a 1d array was expected. Please change the shape of y to (n_samples,), for example using ravel().\n",
      "  \n"
     ]
    },
    {
     "name": "stdout",
     "output_type": "stream",
     "text": [
      "Random Forest Result\n",
      "              precision    recall  f1-score   support\n",
      "\n",
      "           0      0.456     0.398     0.425      2651\n",
      "           1      0.645     0.473     0.546      2520\n",
      "           2      0.752     0.919     0.828      8770\n",
      "           3      0.496     0.739     0.593      4737\n",
      "           4      0.595     0.515     0.552      3158\n",
      "           5      0.829     0.792     0.810      2568\n",
      "           6      0.656     0.368     0.471      6201\n",
      "\n",
      "    accuracy                          0.645     30605\n",
      "   macro avg      0.633     0.601     0.604     30605\n",
      "weighted avg      0.649     0.645     0.631     30605\n",
      "\n",
      "roc_auc_score of Random Forest is: 0.7694318941850715\n"
     ]
    }
   ],
   "source": [
    "rf = RandomForestClassifier()\n",
    "rf.fit(X_train_enc, y_train_enc)\n",
    "y_rf_pred = rf.predict(X_test_enc);\n",
    "sk_report = classification_report(\n",
    "    digits=3, y_true=y_test_ency, y_pred=rf_pred_y)\n",
    "print('Random Forest Result')\n",
    "print(sk_report)\n",
    "print('roc_auc_score of Random Forest is: '+str(multiclass_roc_auc_score(y_test_ency, rf_pred_y)))"
   ]
  },
  {
   "cell_type": "code",
   "execution_count": 73,
   "metadata": {},
   "outputs": [
    {
     "name": "stderr",
     "output_type": "stream",
     "text": [
      "C:\\ProgramData\\Anaconda3\\lib\\site-packages\\ipykernel_launcher.py:2: DataConversionWarning: A column-vector y was passed when a 1d array was expected. Please change the shape of y to (n_samples, ), for example using ravel().\n",
      "  \n"
     ]
    },
    {
     "name": "stdout",
     "output_type": "stream",
     "text": [
      "KNeighborsClassifier Result\n",
      "              precision    recall  f1-score   support\n",
      "\n",
      "           0      0.370     0.455     0.408      2651\n",
      "           1      0.559     0.519     0.538      2520\n",
      "           2      0.748     0.886     0.811      8770\n",
      "           3      0.517     0.601     0.556      4737\n",
      "           4      0.551     0.484     0.515      3158\n",
      "           5      0.799     0.793     0.796      2568\n",
      "           6      0.593     0.361     0.449      6201\n",
      "\n",
      "    accuracy                          0.619     30605\n",
      "   macro avg      0.591     0.586     0.582     30605\n",
      "weighted avg      0.616     0.619     0.609     30605\n",
      "\n",
      "roc_auc_score of KNeighborsClassifier is: 0.7600328708690613\n"
     ]
    }
   ],
   "source": [
    "knn = KNeighborsClassifier()\n",
    "knn.fit(X_train_enc, y_train_enc)\n",
    "y_knn_pred = knn.predict(X_test_enc)\n",
    "sk_report = classification_report(\n",
    "    digits=3, y_true=y_test_ency, y_pred=kn_pred_y)\n",
    "print('KNeighborsClassifier Result')\n",
    "print(sk_report)\n",
    "print('roc_auc_score of KNeighborsClassifier is: '+str(multiclass_roc_auc_score(y_test_ency, kn_pred_y)))"
   ]
  },
  {
   "cell_type": "code",
   "execution_count": 75,
   "metadata": {},
   "outputs": [
    {
     "name": "stdout",
     "output_type": "stream",
     "text": [
      "GuasianNB Result\n",
      "              precision    recall  f1-score   support\n",
      "\n",
      "           0      0.293     0.095     0.143      2651\n",
      "           1      0.532     0.128     0.206      2520\n",
      "           2      0.680     1.000     0.810      8770\n",
      "           3      0.382     0.704     0.495      4737\n",
      "           4      0.526     0.189     0.278      3158\n",
      "           5      0.683     0.743     0.712      2568\n",
      "           6      0.121     0.070     0.089      6201\n",
      "\n",
      "    accuracy                          0.510     30605\n",
      "   macro avg      0.459     0.418     0.390     30605\n",
      "weighted avg      0.459     0.510     0.444     30605\n",
      "\n",
      "roc_auc_score of GuasianNB is: 0.6655923803119956\n"
     ]
    },
    {
     "name": "stderr",
     "output_type": "stream",
     "text": [
      "C:\\ProgramData\\Anaconda3\\lib\\site-packages\\sklearn\\utils\\validation.py:724: DataConversionWarning: A column-vector y was passed when a 1d array was expected. Please change the shape of y to (n_samples, ), for example using ravel().\n",
      "  y = column_or_1d(y, warn=True)\n"
     ]
    }
   ],
   "source": [
    "gas = GaussianNB()\n",
    "gas.fit(X_train_enc, y_train_enc)\n",
    "y_gas_pred = gas.predict(X_test_enc)\n",
    "sk_report = classification_report(\n",
    "    digits=3, y_true=y_test_ency, y_pred=ga_pred_y)\n",
    "print('GuasianNB Result')\n",
    "print(sk_report)\n",
    "print('roc_auc_score of GuasianNB is: '+str(multiclass_roc_auc_score(y_test_ency, ga_pred_y)))"
   ]
  },
  {
   "cell_type": "code",
   "execution_count": 76,
   "metadata": {},
   "outputs": [
    {
     "name": "stdout",
     "output_type": "stream",
     "text": [
      "KMeans Result\n",
      "              precision    recall  f1-score   support\n",
      "\n",
      "           0      0.120     0.190     0.148      2651\n",
      "           1      0.082     0.171     0.111      2520\n",
      "           2      0.000     0.000     0.000      8770\n",
      "           3      0.082     0.047     0.060      4737\n",
      "           4      0.107     0.085     0.095      3158\n",
      "           5      0.031     0.102     0.047      2568\n",
      "           6      0.180     0.073     0.104      6201\n",
      "           7      0.000     0.000     0.000         0\n",
      "\n",
      "    accuracy                          0.070     30605\n",
      "   macro avg      0.075     0.084     0.071     30605\n",
      "weighted avg      0.080     0.070     0.066     30605\n",
      "\n",
      "roc_auc_score of KMeans is: 0.47628810974895147\n"
     ]
    },
    {
     "name": "stderr",
     "output_type": "stream",
     "text": [
      "C:\\ProgramData\\Anaconda3\\lib\\site-packages\\sklearn\\metrics\\classification.py:1439: UndefinedMetricWarning: Recall and F-score are ill-defined and being set to 0.0 in labels with no true samples.\n",
      "  'recall', 'true', average, warn_for)\n"
     ]
    }
   ],
   "source": [
    "kms = KMeans()\n",
    "kms.fit(X_train_enc, y_train_enc)\n",
    "y_kms_pred = kms.predict(X_test_enc)\n",
    "sk_report = classification_report(\n",
    "    digits=3, y_true=y_test_ency, y_pred=km_pred_y)\n",
    "print('KMeans Result')\n",
    "print(sk_report)\n",
    "print('roc_auc_score of KMeans is: '+str(multiclass_roc_auc_score(y_test_ency, km_pred_y)))"
   ]
  },
  {
   "cell_type": "code",
   "execution_count": 77,
   "metadata": {},
   "outputs": [
    {
     "name": "stderr",
     "output_type": "stream",
     "text": [
      "C:\\ProgramData\\Anaconda3\\lib\\site-packages\\sklearn\\ensemble\\gradient_boosting.py:1450: DataConversionWarning: A column-vector y was passed when a 1d array was expected. Please change the shape of y to (n_samples, ), for example using ravel().\n",
      "  y = column_or_1d(y, warn=True)\n"
     ]
    },
    {
     "name": "stdout",
     "output_type": "stream",
     "text": [
      "GradientBoostingClassifier Result\n",
      "              precision    recall  f1-score   support\n",
      "\n",
      "           0      0.399     0.070     0.119      2651\n",
      "           1      0.545     0.272     0.363      2520\n",
      "           2      0.715     0.940     0.812      8770\n",
      "           3      0.383     0.937     0.544      4737\n",
      "           4      0.618     0.281     0.386      3158\n",
      "           5      0.770     0.776     0.773      2568\n",
      "           6      0.605     0.172     0.267      6201\n",
      "\n",
      "    accuracy                          0.572     30605\n",
      "   macro avg      0.576     0.493     0.466     30605\n",
      "weighted avg      0.595     0.572     0.516     30605\n",
      "\n",
      "roc_auc_score of GradientBoostingClassifier is: 0.7086797322654618\n"
     ]
    }
   ],
   "source": [
    "gbc = GradientBoostingClassifier()\n",
    "gbc.fit(X_train_enc, y_train_enc)\n",
    "y_gbc_pred = gbc.predict(X_test_enc)\n",
    "sk_report = classification_report(\n",
    "    digits=3, y_true=y_test_ency, y_pred=gb_pred_y)\n",
    "print('GradientBoostingClassifier Result')\n",
    "print(sk_report)\n",
    "print('roc_auc_score of GradientBoostingClassifier is: '+str(multiclass_roc_auc_score(y_test_ency, gb_pred_y)))"
   ]
  },
  {
   "cell_type": "code",
   "execution_count": 78,
   "metadata": {},
   "outputs": [
    {
     "name": "stderr",
     "output_type": "stream",
     "text": [
      "C:\\ProgramData\\Anaconda3\\lib\\site-packages\\sklearn\\preprocessing\\label.py:219: DataConversionWarning: A column-vector y was passed when a 1d array was expected. Please change the shape of y to (n_samples, ), for example using ravel().\n",
      "  y = column_or_1d(y, warn=True)\n",
      "C:\\ProgramData\\Anaconda3\\lib\\site-packages\\sklearn\\preprocessing\\label.py:252: DataConversionWarning: A column-vector y was passed when a 1d array was expected. Please change the shape of y to (n_samples, ), for example using ravel().\n",
      "  y = column_or_1d(y, warn=True)\n"
     ]
    },
    {
     "name": "stdout",
     "output_type": "stream",
     "text": [
      "XGBClassifier Result\n",
      "              precision    recall  f1-score   support\n",
      "\n",
      "           0      0.437     0.252     0.320      2651\n",
      "           1      0.656     0.423     0.514      2520\n",
      "           2      0.740     0.936     0.826      8770\n",
      "           3      0.449     0.844     0.586      4737\n",
      "           4      0.606     0.458     0.522      3158\n",
      "           5      0.813     0.795     0.804      2568\n",
      "           6      0.694     0.285     0.404      6201\n",
      "\n",
      "    accuracy                          0.627     30605\n",
      "   macro avg      0.628     0.570     0.568     30605\n",
      "weighted avg      0.645     0.627     0.601     30605\n",
      "\n",
      "roc_auc_score of XGBClassifier is: 0.752649759221972\n"
     ]
    }
   ],
   "source": [
    "xgbc = XGBClassifier()\n",
    "xgbc.fit(X_train_enc, y_train_enc)\n",
    "y_xgbc_pred = xgbc.predict(X_test_enc)\n",
    "sk_report = classification_report(\n",
    "    digits=3, y_true=y_test_ency, y_pred=xgb_pred_y)\n",
    "print('XGBClassifier Result')\n",
    "print(sk_report)\n",
    "print('roc_auc_score of XGBClassifier is: '+str(multiclass_roc_auc_score(y_test_ency, xgb_pred_y)))"
   ]
  },
  {
   "cell_type": "code",
   "execution_count": 79,
   "metadata": {},
   "outputs": [
    {
     "name": "stderr",
     "output_type": "stream",
     "text": [
      "C:\\ProgramData\\Anaconda3\\lib\\site-packages\\sklearn\\ensemble\\forest.py:245: FutureWarning: The default value of n_estimators will change from 10 in version 0.20 to 100 in 0.22.\n",
      "  \"10 in version 0.20 to 100 in 0.22.\", FutureWarning)\n",
      "C:\\ProgramData\\Anaconda3\\lib\\site-packages\\ipykernel_launcher.py:2: DataConversionWarning: A column-vector y was passed when a 1d array was expected. Please change the shape of y to (n_samples,), for example using ravel().\n",
      "  \n"
     ]
    },
    {
     "name": "stdout",
     "output_type": "stream",
     "text": [
      "ExtracTreeClassifier Result\n",
      "              precision    recall  f1-score   support\n",
      "\n",
      "           0      0.460     0.399     0.427      2651\n",
      "           1      0.633     0.481     0.546      2520\n",
      "           2      0.753     0.920     0.828      8770\n",
      "           3      0.499     0.748     0.598      4737\n",
      "           4      0.595     0.515     0.552      3158\n",
      "           5      0.824     0.798     0.811      2568\n",
      "           6      0.669     0.362     0.470      6201\n",
      "\n",
      "    accuracy                          0.647     30605\n",
      "   macro avg      0.633     0.603     0.605     30605\n",
      "weighted avg      0.651     0.647     0.632     30605\n",
      "\n",
      "roc_auc_score of ExtracTreeClassifier is: 0.7708713956716223\n"
     ]
    }
   ],
   "source": [
    "ext = ExtraTreesClassifier()\n",
    "ext.fit(X_train_enc, y_train_enc)\n",
    "y_ext_pred = ext.predict(X_test_enc)\n",
    "sk_report = classification_report(\n",
    "    digits=3, y_true=y_test_ency, y_pred=ex_pred_y)\n",
    "print('ExtracTreeClassifier Result')\n",
    "print(sk_report)\n",
    "print('roc_auc_score of ExtracTreeClassifier is: '+str(multiclass_roc_auc_score(y_test_ency, ex_pred_y)))"
   ]
  },
  {
   "cell_type": "code",
   "execution_count": 80,
   "metadata": {},
   "outputs": [
    {
     "name": "stderr",
     "output_type": "stream",
     "text": [
      "C:\\ProgramData\\Anaconda3\\lib\\site-packages\\sklearn\\ensemble\\bagging.py:623: DataConversionWarning: A column-vector y was passed when a 1d array was expected. Please change the shape of y to (n_samples, ), for example using ravel().\n",
      "  y = column_or_1d(y, warn=True)\n"
     ]
    },
    {
     "name": "stdout",
     "output_type": "stream",
     "text": [
      "BaggingClassifier Result\n",
      "              precision    recall  f1-score   support\n",
      "\n",
      "           0      0.460     0.398     0.426      2651\n",
      "           1      0.623     0.480     0.542      2520\n",
      "           2      0.753     0.921     0.828      8770\n",
      "           3      0.501     0.743     0.598      4737\n",
      "           4      0.596     0.510     0.550      3158\n",
      "           5      0.828     0.795     0.811      2568\n",
      "           6      0.664     0.369     0.474      6201\n",
      "\n",
      "    accuracy                          0.647     30605\n",
      "   macro avg      0.632     0.602     0.604     30605\n",
      "weighted avg      0.650     0.647     0.632     30605\n",
      "\n",
      "roc_auc_score of BaggingClassifier is: 0.7703699916859613\n"
     ]
    }
   ],
   "source": [
    "bag =  BaggingClassifier()\n",
    "bag.fit(X_train_enc, y_train_enc)\n",
    "y_bag_pred = bag.predict(X_test_enc)\n",
    "sk_report = classification_report(\n",
    "    digits=3, y_true=y_test_ency, y_pred=ba_pred_y)\n",
    "print('BaggingClassifier Result')\n",
    "print(sk_report)\n",
    "print('roc_auc_score of BaggingClassifier is: '+str(multiclass_roc_auc_score(y_test_ency, ba_pred_y)))"
   ]
  },
  {
   "cell_type": "code",
   "execution_count": 81,
   "metadata": {},
   "outputs": [
    {
     "name": "stderr",
     "output_type": "stream",
     "text": [
      "C:\\ProgramData\\Anaconda3\\lib\\site-packages\\sklearn\\utils\\validation.py:724: DataConversionWarning: A column-vector y was passed when a 1d array was expected. Please change the shape of y to (n_samples, ), for example using ravel().\n",
      "  y = column_or_1d(y, warn=True)\n"
     ]
    },
    {
     "name": "stdout",
     "output_type": "stream",
     "text": [
      "LinearSVC Result\n",
      "              precision    recall  f1-score   support\n",
      "\n",
      "           0      0.235     0.006     0.012      2651\n",
      "           1      0.088     0.651     0.155      2520\n",
      "           2      0.000     0.000     0.000      8770\n",
      "           3      0.099     0.071     0.083      4737\n",
      "           4      0.177     0.191     0.184      3158\n",
      "           5      0.000     0.000     0.000      2568\n",
      "           6      0.000     0.000     0.000      6201\n",
      "\n",
      "    accuracy                          0.085     30605\n",
      "   macro avg      0.086     0.131     0.062     30605\n",
      "weighted avg      0.061     0.085     0.046     30605\n",
      "\n",
      "roc_auc_score of LinearSVC is: 0.48984704071957674\n"
     ]
    },
    {
     "name": "stderr",
     "output_type": "stream",
     "text": [
      "C:\\ProgramData\\Anaconda3\\lib\\site-packages\\sklearn\\svm\\base.py:929: ConvergenceWarning: Liblinear failed to converge, increase the number of iterations.\n",
      "  \"the number of iterations.\", ConvergenceWarning)\n",
      "C:\\ProgramData\\Anaconda3\\lib\\site-packages\\sklearn\\metrics\\classification.py:1437: UndefinedMetricWarning: Precision and F-score are ill-defined and being set to 0.0 in labels with no predicted samples.\n",
      "  'precision', 'predicted', average, warn_for)\n"
     ]
    }
   ],
   "source": [
    "linSVC=LinearSVC()\n",
    "linSVC.fit(X_train_enc, y_train_enc)\n",
    "y_linSVC_pred=linSVC.predict(X_test_enc);\n",
    "sk_report = classification_report(\n",
    "    digits=3, y_true=y_test_ency, y_pred=linSVC_pred_y)\n",
    "print('LinearSVC Result')\n",
    "print(sk_report)\n",
    "print('roc_auc_score of LinearSVC is: '+str(multiclass_roc_auc_score(y_test_ency, linSVC_pred_y)))"
   ]
  },
  {
   "cell_type": "code",
   "execution_count": 82,
   "metadata": {},
   "outputs": [],
   "source": [
    "dict={'ModelName':['LogisticRegression','LinearSVC','DecisionTree',\n",
    "                   'RandomForest','ExtracTreeClassifier','KNeighborsClassifier','KMeans',\n",
    "                   'GradientBoostingClassifier','XGBClassifier','BaggingClassifier','GuasianNB'],\n",
    "      'Result':[0.05,0.09,0.65,0.64,0.65,0.61,0.142,0.58,0.63,0.65,0.51]}"
   ]
  },
  {
   "cell_type": "code",
   "execution_count": 83,
   "metadata": {},
   "outputs": [
    {
     "data": {
      "text/html": [
       "<div>\n",
       "<style scoped>\n",
       "    .dataframe tbody tr th:only-of-type {\n",
       "        vertical-align: middle;\n",
       "    }\n",
       "\n",
       "    .dataframe tbody tr th {\n",
       "        vertical-align: top;\n",
       "    }\n",
       "\n",
       "    .dataframe thead th {\n",
       "        text-align: right;\n",
       "    }\n",
       "</style>\n",
       "<table border=\"1\" class=\"dataframe\">\n",
       "  <thead>\n",
       "    <tr style=\"text-align: right;\">\n",
       "      <th></th>\n",
       "      <th>ModelName</th>\n",
       "      <th>Result</th>\n",
       "    </tr>\n",
       "  </thead>\n",
       "  <tbody>\n",
       "    <tr>\n",
       "      <td>0</td>\n",
       "      <td>LogisticRegression</td>\n",
       "      <td>0.050</td>\n",
       "    </tr>\n",
       "    <tr>\n",
       "      <td>1</td>\n",
       "      <td>LinearSVC</td>\n",
       "      <td>0.090</td>\n",
       "    </tr>\n",
       "    <tr>\n",
       "      <td>2</td>\n",
       "      <td>DecisionTree</td>\n",
       "      <td>0.650</td>\n",
       "    </tr>\n",
       "    <tr>\n",
       "      <td>3</td>\n",
       "      <td>RandomForest</td>\n",
       "      <td>0.640</td>\n",
       "    </tr>\n",
       "    <tr>\n",
       "      <td>4</td>\n",
       "      <td>ExtracTreeClassifier</td>\n",
       "      <td>0.650</td>\n",
       "    </tr>\n",
       "    <tr>\n",
       "      <td>5</td>\n",
       "      <td>KNeighborsClassifier</td>\n",
       "      <td>0.610</td>\n",
       "    </tr>\n",
       "    <tr>\n",
       "      <td>6</td>\n",
       "      <td>KMeans</td>\n",
       "      <td>0.142</td>\n",
       "    </tr>\n",
       "    <tr>\n",
       "      <td>7</td>\n",
       "      <td>GradientBoostingClassifier</td>\n",
       "      <td>0.580</td>\n",
       "    </tr>\n",
       "    <tr>\n",
       "      <td>8</td>\n",
       "      <td>XGBClassifier</td>\n",
       "      <td>0.630</td>\n",
       "    </tr>\n",
       "    <tr>\n",
       "      <td>9</td>\n",
       "      <td>BaggingClassifier</td>\n",
       "      <td>0.650</td>\n",
       "    </tr>\n",
       "    <tr>\n",
       "      <td>10</td>\n",
       "      <td>GuasianNB</td>\n",
       "      <td>0.510</td>\n",
       "    </tr>\n",
       "  </tbody>\n",
       "</table>\n",
       "</div>"
      ],
      "text/plain": [
       "                     ModelName  Result\n",
       "0           LogisticRegression   0.050\n",
       "1                    LinearSVC   0.090\n",
       "2                 DecisionTree   0.650\n",
       "3                 RandomForest   0.640\n",
       "4         ExtracTreeClassifier   0.650\n",
       "5         KNeighborsClassifier   0.610\n",
       "6                       KMeans   0.142\n",
       "7   GradientBoostingClassifier   0.580\n",
       "8                XGBClassifier   0.630\n",
       "9            BaggingClassifier   0.650\n",
       "10                   GuasianNB   0.510"
      ]
     },
     "execution_count": 83,
     "metadata": {},
     "output_type": "execute_result"
    }
   ],
   "source": [
    "Accuracy =pd.DataFrame.from_dict(dict)\n",
    "Accuracy"
   ]
  },
  {
   "cell_type": "code",
   "execution_count": 84,
   "metadata": {},
   "outputs": [
    {
     "data": {
      "text/html": [
       "<div>\n",
       "<style scoped>\n",
       "    .dataframe tbody tr th:only-of-type {\n",
       "        vertical-align: middle;\n",
       "    }\n",
       "\n",
       "    .dataframe tbody tr th {\n",
       "        vertical-align: top;\n",
       "    }\n",
       "\n",
       "    .dataframe thead th {\n",
       "        text-align: right;\n",
       "    }\n",
       "</style>\n",
       "<table border=\"1\" class=\"dataframe\">\n",
       "  <thead>\n",
       "    <tr style=\"text-align: right;\">\n",
       "      <th></th>\n",
       "      <th>ModelName</th>\n",
       "      <th>Result</th>\n",
       "    </tr>\n",
       "  </thead>\n",
       "  <tbody>\n",
       "    <tr>\n",
       "      <td>2</td>\n",
       "      <td>DecisionTree</td>\n",
       "      <td>0.65</td>\n",
       "    </tr>\n",
       "    <tr>\n",
       "      <td>4</td>\n",
       "      <td>ExtracTreeClassifier</td>\n",
       "      <td>0.65</td>\n",
       "    </tr>\n",
       "    <tr>\n",
       "      <td>9</td>\n",
       "      <td>BaggingClassifier</td>\n",
       "      <td>0.65</td>\n",
       "    </tr>\n",
       "  </tbody>\n",
       "</table>\n",
       "</div>"
      ],
      "text/plain": [
       "              ModelName  Result\n",
       "2          DecisionTree    0.65\n",
       "4  ExtracTreeClassifier    0.65\n",
       "9     BaggingClassifier    0.65"
      ]
     },
     "execution_count": 84,
     "metadata": {},
     "output_type": "execute_result"
    }
   ],
   "source": [
    "Accuracy['Result'].max()\n",
    "Accuracy[Accuracy['Result']==0.65]"
   ]
  },
  {
   "cell_type": "code",
   "execution_count": 86,
   "metadata": {},
   "outputs": [
    {
     "name": "stdout",
     "output_type": "stream",
     "text": [
      "MAE of Logistric Regression: 2.0307792844306487\n",
      "MSE of Logistric Regression: 6.426335566083973\n",
      "RMSE of Logistric Regression: 2.5350218078123063\n",
      "______________________________________________\n",
      "MAE of LinearSVC: 2.059107988890704\n",
      "MSE of LinearSVC: 6.589609540924686\n",
      "RMSE of LinearSVC: 2.5670234788417274\n",
      "______________________________________________\n",
      "MAE of Decision Tree: 1.0476719490279367\n",
      "MSE of Decision Tree: 3.6370527691553667\n",
      "RMSE of Decision Tree: 1.907105862073568\n",
      "______________________________________________\n",
      "MAE of Random Forest: 1.0533899689593205\n",
      "MSE of Random Forest: 3.656036595327561\n",
      "RMSE of Random Forest: 1.9120765139835698\n",
      "______________________________________________\n",
      "MAE of GuasianNB: 1.4762947230844634\n",
      "MSE of GuasianNB: 5.226923705276915\n",
      "RMSE of GuasianNB: 2.2862466413921565\n",
      "______________________________________________\n",
      "MAE of KNeighborsClassifier: 1.1618036268583565\n",
      "MSE of KNeighborsClassifier: 4.15471328214344\n",
      "RMSE of KNeighborsClassifier: 2.0383113800750463\n",
      "______________________________________________\n",
      "MAE of KMeans: 2.478941349452704\n",
      "MSE of KMeans: 8.679366116647607\n",
      "RMSE of KMeans: 2.946076393552551\n",
      "______________________________________________\n",
      "MAE of GradientBoostingClassifier: 1.1862440777650711\n",
      "MSE of GradientBoostingClassifier: 3.7911125633066494\n",
      "RMSE of GradientBoostingClassifier: 1.9470779551180404\n",
      "______________________________________________\n",
      "MAE of XGBClassifier: 1.075020421499755\n",
      "MSE of XGBClassifier: 3.6034308119588303\n",
      "RMSE of XGBClassifier: 1.8982704791358975\n",
      "______________________________________________\n",
      "MAE of ExtracTreeClassifier: 1.0476719490279367\n",
      "MSE of ExtracTreeClassifier: 3.6370527691553667\n",
      "RMSE of ExtracTreeClassifier: 1.907105862073568\n",
      "______________________________________________\n",
      "MAE of BaggingClassifier: 1.047508577029897\n",
      "MSE of BaggingClassifier: 3.637608233948701\n",
      "RMSE of BaggingClassifier: 1.9072514868125547\n",
      "______________________________________________\n"
     ]
    }
   ],
   "source": [
    "print('MAE of Logistric Regression:', metrics.mean_absolute_error(y_test_ency,log_pred_y))\n",
    "print('MSE of Logistric Regression:', metrics.mean_squared_error(y_test_ency,log_pred_y))\n",
    "print('RMSE of Logistric Regression:', np.sqrt(metrics.mean_squared_error(y_test_ency,log_pred_y)))\n",
    "print(\"______________________________________________\")\n",
    "print('MAE of LinearSVC:', metrics.mean_absolute_error(y_test_ency,linSVC_pred_y))\n",
    "print('MSE of LinearSVC:', metrics.mean_squared_error(y_test_ency,linSVC_pred_y))\n",
    "print('RMSE of LinearSVC:', np.sqrt(metrics.mean_squared_error(y_test_ency,linSVC_pred_y)))\n",
    "print(\"______________________________________________\")\n",
    "print('MAE of Decision Tree:', metrics.mean_absolute_error(y_test_ency,dtree_pred_y))\n",
    "print('MSE of Decision Tree:', metrics.mean_squared_error(y_test_ency,dtree_pred_y))\n",
    "print('RMSE of Decision Tree:', np.sqrt(metrics.mean_squared_error(y_test_ency,dtree_pred_y)))\n",
    "print(\"______________________________________________\")\n",
    "print('MAE of Random Forest:', metrics.mean_absolute_error(y_test_ency,rf_pred_y))\n",
    "print('MSE of Random Forest:', metrics.mean_squared_error(y_test_ency,rf_pred_y))\n",
    "print('RMSE of Random Forest:', np.sqrt(metrics.mean_squared_error(y_test_ency,rf_pred_y)))\n",
    "print(\"______________________________________________\")\n",
    "print('MAE of GuasianNB:', metrics.mean_absolute_error(y_test_ency,ga_pred_y))\n",
    "print('MSE of GuasianNB:', metrics.mean_squared_error(y_test_ency,ga_pred_y))\n",
    "print('RMSE of GuasianNB:', np.sqrt(metrics.mean_squared_error(y_test_ency,ga_pred_y)))\n",
    "print(\"______________________________________________\")\n",
    "print('MAE of KNeighborsClassifier:', metrics.mean_absolute_error(y_test_ency,kn_pred_y))\n",
    "print('MSE of KNeighborsClassifier:', metrics.mean_squared_error(y_test_ency,kn_pred_y))\n",
    "print('RMSE of KNeighborsClassifier:', np.sqrt(metrics.mean_squared_error(y_test_ency,kn_pred_y)))\n",
    "print(\"______________________________________________\")\n",
    "print('MAE of KMeans:', metrics.mean_absolute_error(y_test_ency,km_pred_y))\n",
    "print('MSE of KMeans:', metrics.mean_squared_error(y_test_ency,km_pred_y))\n",
    "print('RMSE of KMeans:', np.sqrt(metrics.mean_squared_error(y_test_ency,km_pred_y)))\n",
    "print(\"______________________________________________\")\n",
    "print('MAE of GradientBoostingClassifier:', metrics.mean_absolute_error(y_test_ency,gb_pred_y))\n",
    "print('MSE of GradientBoostingClassifier:', metrics.mean_squared_error(y_test_ency,gb_pred_y))\n",
    "print('RMSE of GradientBoostingClassifier:', np.sqrt(metrics.mean_squared_error(y_test_ency,gb_pred_y)))\n",
    "print(\"______________________________________________\")\n",
    "print('MAE of XGBClassifier:', metrics.mean_absolute_error(y_test_ency,xgb_pred_y))\n",
    "print('MSE of XGBClassifier:', metrics.mean_squared_error(y_test_ency,xgb_pred_y))\n",
    "print('RMSE of XGBClassifier:', np.sqrt(metrics.mean_squared_error(y_test_ency,xgb_pred_y)))\n",
    "print(\"______________________________________________\")\n",
    "print('MAE of ExtracTreeClassifier:', metrics.mean_absolute_error(y_test_ency,ex_pred_y))\n",
    "print('MSE of ExtracTreeClassifier:', metrics.mean_squared_error(y_test_ency,ex_pred_y))\n",
    "print('RMSE of ExtracTreeClassifier:', np.sqrt(metrics.mean_squared_error(y_test_ency,ex_pred_y)))\n",
    "print(\"______________________________________________\")\n",
    "print('MAE of BaggingClassifier:', metrics.mean_absolute_error(y_test_ency,ba_pred_y))\n",
    "print('MSE of BaggingClassifier:', metrics.mean_squared_error(y_test_ency,ba_pred_y))\n",
    "print('RMSE of BaggingClassifier:', np.sqrt(metrics.mean_squared_error(y_test_ency,ba_pred_y)))\n",
    "print(\"______________________________________________\")"
   ]
  },
  {
   "cell_type": "code",
   "execution_count": 104,
   "metadata": {},
   "outputs": [
    {
     "data": {
      "text/plain": [
       "<Figure size 432x288 with 0 Axes>"
      ]
     },
     "execution_count": 104,
     "metadata": {},
     "output_type": "execute_result"
    },
    {
     "data": {
      "text/plain": [
       "<Figure size 432x288 with 0 Axes>"
      ]
     },
     "metadata": {},
     "output_type": "display_data"
    }
   ],
   "source": [
    "from sklearn.metrics import roc_curve\n",
    "fpr, tpr, thresholds = roc_curve(y_test_ency, logis.predict_proba(X_test_enc)[:,1],pos_label=2)\n",
    "rf_fpr, rf_tpr, rf_thresholds = roc_curve(y_test_ency, rf.predict_proba(X_test_enc)[:,1],pos_label=2)\n",
    "dt_fpr, dt_tpr, dt_thresholds = roc_curve(y_test_ency, dtree.predict_proba(X_test_enc)[:,1],pos_label=2)\n",
    "knn_fpr, knn_tpr, knn_thresholds = roc_curve(y_test_ency, knn.predict_proba(X_test_enc)[:,1],pos_label=2)\n",
    "gas_fpr, gas_tpr, gas_thresholds = roc_curve(y_test_ency, gas.predict_proba(X_test_enc)[:,1],pos_label=2)\n",
    "#kms_fpr, kms_tpr, kms_thresholds = roc_curve(y_test_ency, kms.predict_proba(X_test_enc)[:,1],pos_label=2)\n",
    "gbc_fpr, gbc_tpr, gbc_thresholds = roc_curve(y_test_ency, gbc.predict_proba(X_test_enc)[:,1],pos_label=2)\n",
    "ext_fpr, ext_tpr, ext_thresholds = roc_curve(y_test_ency, ext.predict_proba(X_test_enc)[:,1],pos_label=2)\n",
    "#linSVC_fpr, linSVC_tpr, linSVC_thresholds = roc_curve(y_test_ency, linSVC.predict_proba(X_test_enc)[:,1],pos_label=2)\n",
    "bag_fpr, bag_tpr, bag_thresholds = roc_curve(y_test_ency, bag.predict_proba(X_test_enc)[:,1],pos_label=2)\n",
    "xgbc_fpr, xgbc_tpr, xgbc_thresholds = roc_curve(y_test_ency, xgbc.predict_proba(X_test_enc)[:,1],pos_label=2)\n",
    "\n",
    "plt.figure()\n"
   ]
  },
  {
   "cell_type": "code",
   "execution_count": null,
   "metadata": {},
   "outputs": [],
   "source": [
    "# Plot Logistic Regression ROC\n",
    "logit_roc_auc = multiclass_roc_auc_score(y_test_ency, log_pred_y)\n",
    "plt.plot(fpr, tpr, label='Logistic Regression (area = %0.2f)' % logit_roc_auc)\n",
    "\n",
    "# Plot Random Forest ROC\n",
    "rf_roc_auc = multiclass_roc_auc_score(y_test_ency, rf_pred_y)\n",
    "plt.plot(rf_fpr, rf_tpr, label='Random Forest (area = %0.2f)' % rf_roc_auc)\n",
    "\n",
    "# Plot Decision Tree ROC\n",
    "dtree_roc_auc = multiclass_roc_auc_score(y_test_ency, dtree_pred_y)\n",
    "plt.plot(dt_fpr, dt_tpr, label='Decision Tree (area = %0.2f)' % dtree_roc_auc)\n",
    "\n",
    "# Plot XBoosts ROC\n",
    "xgb_roc_auc = multiclass_roc_auc_score(y_test_ency, xgb_pred_y)\n",
    "plt.plot(xgbc_fpr, xgbc_tpr, label='XBoosts (area = %0.2f)' % xgb_roc_auc)\n",
    "\n",
    "# Plot ExtracTree ROC\n",
    "ex_roc_auc = multiclass_roc_auc_score(y_test_ency, ex_pred_y)\n",
    "plt.plot(ext_fpr, ext_tpr, label='ExtracTree (area = %0.2f)' % ex_roc_auc)\n",
    "\n",
    "# Plot GradientBoosting ROC\n",
    "gbc_roc_auc = multiclass_roc_auc_score(y_test_ency, gb_pred_y)\n",
    "plt.plot(gbc, gbc_tpr, label='GradientBoosting (area = %0.2f)' % gbc_roc_auc)\n",
    "\n",
    "# Plot Bagging ROC\n",
    "bag_roc_auc = multiclass_roc_auc_score(y_test_ency, bag_pred_y)\n",
    "plt.plot(bag_fpr, bag_tpr, label='Bagging (area = %0.2f)' % bag_roc_auc)\n",
    "\n",
    "# Plot GuasianNB ROC\n",
    "gas_roc_auc = multiclass_roc_auc_score(y_test_ency, ga_pred_y)\n",
    "plt.plot(bag_fpr, bag_tpr, label='GuasianNB (area = %0.2f)' % gas_roc_auc)\n",
    "\n",
    "# Plot Base Rate ROC\n",
    "plt.plot([0,1], [0,1],label='Base Rate' 'k--')\n",
    "\n",
    "plt.xlim([0.0, 1.0])\n",
    "plt.ylim([0.0, 1.05])\n",
    "plt.xlabel('False Positive Rate')\n",
    "plt.ylabel('True Positive Rate')\n",
    "plt.title('ROC Graph')\n",
    "plt.legend(loc=\"lower right\")\n",
    "plt.show()"
   ]
  },
  {
   "cell_type": "code",
   "execution_count": 100,
   "metadata": {},
   "outputs": [
    {
     "data": {
      "text/plain": [
       "[<matplotlib.lines.Line2D at 0x1e547f06548>]"
      ]
     },
     "execution_count": 100,
     "metadata": {},
     "output_type": "execute_result"
    },
    {
     "data": {
      "image/png": "[encoded data removed]",
      "text/plain": [
       "<Figure size 432x288 with 1 Axes>"
      ]
     },
     "metadata": {
      "needs_background": "light"
     },
     "output_type": "display_data"
    }
   ],
   "source": [
    "logit_roc_auc = multiclass_roc_auc_score(y_test_ency, log_pred_y)\n",
    "plt.plot(fpr, tpr, label='Logistic Regression (area = %0.2f)' % logit_roc_auc)"
   ]
  },
  {
   "cell_type": "code",
   "execution_count": null,
   "metadata": {},
   "outputs": [],
   "source": []
  },
  {
   "cell_type": "code",
   "execution_count": null,
   "metadata": {},
   "outputs": [],
   "source": []
  },
  {
   "cell_type": "code",
   "execution_count": null,
   "metadata": {},
   "outputs": [],
   "source": []
  },
  {
   "cell_type": "code",
   "execution_count": null,
   "metadata": {},
   "outputs": [],
   "source": []
  },
  {
   "cell_type": "code",
   "execution_count": null,
   "metadata": {},
   "outputs": [],
   "source": []
  },
  {
   "cell_type": "code",
   "execution_count": null,
   "metadata": {},
   "outputs": [],
   "source": []
  },
  {
   "cell_type": "code",
   "execution_count": null,
   "metadata": {},
   "outputs": [],
   "source": []
  },
  {
   "cell_type": "code",
   "execution_count": null,
   "metadata": {},
   "outputs": [],
   "source": []
  },
  {
   "cell_type": "code",
   "execution_count": null,
   "metadata": {},
   "outputs": [],
   "source": []
  },
  {
   "cell_type": "code",
   "execution_count": null,
   "metadata": {},
   "outputs": [],
   "source": []
  },
  {
   "cell_type": "code",
   "execution_count": null,
   "metadata": {},
   "outputs": [],
   "source": []
  },
  {
   "cell_type": "code",
   "execution_count": null,
   "metadata": {},
   "outputs": [],
   "source": []
  },
  {
   "cell_type": "code",
   "execution_count": null,
   "metadata": {},
   "outputs": [],
   "source": []
  },
  {
   "cell_type": "code",
   "execution_count": null,
   "metadata": {},
   "outputs": [],
   "source": []
  },
  {
   "cell_type": "code",
   "execution_count": null,
   "metadata": {},
   "outputs": [],
   "source": []
  },
  {
   "cell_type": "code",
   "execution_count": null,
   "metadata": {},
   "outputs": [],
   "source": []
  },
  {
   "cell_type": "code",
   "execution_count": null,
   "metadata": {},
   "outputs": [],
   "source": []
  },
  {
   "cell_type": "code",
   "execution_count": null,
   "metadata": {},
   "outputs": [],
   "source": []
  },
  {
   "cell_type": "code",
   "execution_count": null,
   "metadata": {},
   "outputs": [],
   "source": []
  },
  {
   "cell_type": "code",
   "execution_count": null,
   "metadata": {},
   "outputs": [],
   "source": []
  },
  {
   "cell_type": "code",
   "execution_count": null,
   "metadata": {},
   "outputs": [],
   "source": []
  },
  {
   "cell_type": "code",
   "execution_count": null,
   "metadata": {},
   "outputs": [],
   "source": []
  },
  {
   "cell_type": "code",
   "execution_count": null,
   "metadata": {},
   "outputs": [],
   "source": []
  },
  {
   "cell_type": "code",
   "execution_count": null,
   "metadata": {},
   "outputs": [],
   "source": []
  },
  {
   "cell_type": "code",
   "execution_count": null,
   "metadata": {},
   "outputs": [],
   "source": []
  },
  {
   "cell_type": "code",
   "execution_count": null,
   "metadata": {},
   "outputs": [],
   "source": []
  },
  {
   "cell_type": "code",
   "execution_count": null,
   "metadata": {},
   "outputs": [],
   "source": []
  },
  {
   "cell_type": "code",
   "execution_count": null,
   "metadata": {},
   "outputs": [],
   "source": []
  },
  {
   "cell_type": "code",
   "execution_count": null,
   "metadata": {},
   "outputs": [],
   "source": []
  },
  {
   "cell_type": "code",
   "execution_count": null,
   "metadata": {},
   "outputs": [],
   "source": []
  },
  {
   "cell_type": "code",
   "execution_count": null,
   "metadata": {},
   "outputs": [],
   "source": []
  },
  {
   "cell_type": "code",
   "execution_count": null,
   "metadata": {},
   "outputs": [],
   "source": []
  },
  {
   "cell_type": "code",
   "execution_count": null,
   "metadata": {},
   "outputs": [],
   "source": []
  },
  {
   "cell_type": "code",
   "execution_count": null,
   "metadata": {},
   "outputs": [],
   "source": []
  },
  {
   "cell_type": "code",
   "execution_count": null,
   "metadata": {},
   "outputs": [],
   "source": []
  },
  {
   "cell_type": "code",
   "execution_count": null,
   "metadata": {},
   "outputs": [],
   "source": []
  },
  {
   "cell_type": "code",
   "execution_count": null,
   "metadata": {},
   "outputs": [],
   "source": []
  },
  {
   "cell_type": "code",
   "execution_count": null,
   "metadata": {},
   "outputs": [],
   "source": []
  },
  {
   "cell_type": "code",
   "execution_count": null,
   "metadata": {},
   "outputs": [],
   "source": []
  },
  {
   "cell_type": "code",
   "execution_count": null,
   "metadata": {},
   "outputs": [],
   "source": []
  },
  {
   "cell_type": "code",
   "execution_count": null,
   "metadata": {},
   "outputs": [],
   "source": []
  },
  {
   "cell_type": "code",
   "execution_count": null,
   "metadata": {},
   "outputs": [],
   "source": []
  }
 ],
 "metadata": {
  "kernelspec": {
   "display_name": "Python 3",
   "language": "python",
   "name": "python3"
  },
  "language_info": {
   "codemirror_mode": {
    "name": "ipython",
    "version": 3
   },
   "file_extension": ".py",
   "mimetype": "text/x-python",
   "name": "python",
   "nbconvert_exporter": "python",
   "pygments_lexer": "ipython3",
   "version": "3.7.4"
  }
 },
 "nbformat": 4,
 "nbformat_minor": 2
}
