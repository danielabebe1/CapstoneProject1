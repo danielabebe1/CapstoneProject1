{
 "cells": [
  {
   "cell_type": "markdown",
   "metadata": {},
   "source": [
    "# CAPSTONE PROJECT I "
   ]
  },
  {
   "cell_type": "markdown",
   "metadata": {},
   "source": [
    "## Predicting Pain Relievers Based on Age and Satisfaction Level"
   ]
  },
  {
   "cell_type": "markdown",
   "metadata": {},
   "source": [
    "According to researchers both prescribed and non-prescribed use of pain relievers, as well as rates of opioid-related mortality and admissions to emergency departments, have increased in the last few years. There are many different pain relievers, and each one has advantages and risks. Some types of pain respond better to certain medicines than others. Each person has a different response to a pain reliever for the same type of condition. The dataset used in this project was acquired from kaggle where uploaded on kaggle by scraping the WebMD site (https://www.kaggle.com/rohanharode07/webmd-drugreviews-dataset). The dataset contains 12 variables but in this project we utilize only 7 variables which includes: age, condition, drug, ease of use, effectiveness, satisfaction level of users and the gender of responders. The aim of this project is to identify the users’ response for different pain reliever for the same type of condition and answer the questions below: i. Predict the type of pain relievers for which type of condition based on drug rating (satisfaction), age and sex? ii. Predicting the rating (satisfaction level) based on ease of use and effectiveness The possible stakeholders of this project includes pharmaceutical companies, physicians and clinicians, insurance companies and patients. Knowing the type of pain relievers based on users' response across age distribution and gender helps physicians and clinicians while subscribing to these drugs. Pharmaceutical companies and insurance companies will also identify their focus drugs for their users. Creating a customized logical or scientific communication platform benefits both health and economic success of patients as well"
   ]
  },
  {
   "cell_type": "markdown",
   "metadata": {},
   "source": [
    "##  1. Importing the relevant libraries and load the data into the data frame"
   ]
  },
  {
   "cell_type": "code",
   "execution_count": 1,
   "metadata": {},
   "outputs": [],
   "source": [
    "#Importing some libraries and modules\n",
    "import numpy as np\n",
    "import pandas as pd\n",
    "import statsmodels.api as sm\n",
    "import matplotlib.pyplot as plt\n",
    "import seaborn as sns\n",
    "from sklearn.linear_model import LinearRegression\n",
    "from scipy.stats import ttest_ind\n",
    "sns.set()\n",
    "%matplotlib inline"
   ]
  },
  {
   "cell_type": "code",
   "execution_count": 2,
   "metadata": {},
   "outputs": [],
   "source": [
    "#the dataset is in csv format so we'll use read_csv function in pandas and replace blank space with NaN by \"na_values=' ' \"\n",
    "df=pd.read_csv('webmd.csv', na_values=' ')"
   ]
  },
  {
   "cell_type": "code",
   "execution_count": 3,
   "metadata": {},
   "outputs": [
    {
     "data": {
      "text/html": [
       "<div>\n",
       "<style scoped>\n",
       "    .dataframe tbody tr th:only-of-type {\n",
       "        vertical-align: middle;\n",
       "    }\n",
       "\n",
       "    .dataframe tbody tr th {\n",
       "        vertical-align: top;\n",
       "    }\n",
       "\n",
       "    .dataframe thead th {\n",
       "        text-align: right;\n",
       "    }\n",
       "</style>\n",
       "<table border=\"1\" class=\"dataframe\">\n",
       "  <thead>\n",
       "    <tr style=\"text-align: right;\">\n",
       "      <th></th>\n",
       "      <th>Age</th>\n",
       "      <th>Condition</th>\n",
       "      <th>Date</th>\n",
       "      <th>Drug</th>\n",
       "      <th>DrugId</th>\n",
       "      <th>EaseofUse</th>\n",
       "      <th>Effectiveness</th>\n",
       "      <th>Reviews</th>\n",
       "      <th>Satisfaction</th>\n",
       "      <th>Sex</th>\n",
       "      <th>Sides</th>\n",
       "      <th>UsefulCount</th>\n",
       "    </tr>\n",
       "  </thead>\n",
       "  <tbody>\n",
       "    <tr>\n",
       "      <th>0</th>\n",
       "      <td>75 or over</td>\n",
       "      <td>Stuffy Nose</td>\n",
       "      <td>9/21/2014</td>\n",
       "      <td>25dph-7.5peh</td>\n",
       "      <td>146724</td>\n",
       "      <td>5</td>\n",
       "      <td>5</td>\n",
       "      <td>I'm a retired physician and of all the meds I ...</td>\n",
       "      <td>5</td>\n",
       "      <td>Male</td>\n",
       "      <td>Drowsiness,  dizziness ,  dry mouth /nose/thro...</td>\n",
       "      <td>0</td>\n",
       "    </tr>\n",
       "    <tr>\n",
       "      <th>1</th>\n",
       "      <td>25-34</td>\n",
       "      <td>Cold Symptoms</td>\n",
       "      <td>1/13/2011</td>\n",
       "      <td>25dph-7.5peh</td>\n",
       "      <td>146724</td>\n",
       "      <td>5</td>\n",
       "      <td>5</td>\n",
       "      <td>cleared me right up even with my throat hurtin...</td>\n",
       "      <td>5</td>\n",
       "      <td>Female</td>\n",
       "      <td>Drowsiness,  dizziness ,  dry mouth /nose/thro...</td>\n",
       "      <td>1</td>\n",
       "    </tr>\n",
       "  </tbody>\n",
       "</table>\n",
       "</div>"
      ],
      "text/plain": [
       "          Age      Condition       Date          Drug  DrugId  EaseofUse  \\\n",
       "0  75 or over    Stuffy Nose  9/21/2014  25dph-7.5peh  146724          5   \n",
       "1       25-34  Cold Symptoms  1/13/2011  25dph-7.5peh  146724          5   \n",
       "\n",
       "   Effectiveness                                            Reviews  \\\n",
       "0              5  I'm a retired physician and of all the meds I ...   \n",
       "1              5  cleared me right up even with my throat hurtin...   \n",
       "\n",
       "   Satisfaction     Sex                                              Sides  \\\n",
       "0             5    Male  Drowsiness,  dizziness ,  dry mouth /nose/thro...   \n",
       "1             5  Female  Drowsiness,  dizziness ,  dry mouth /nose/thro...   \n",
       "\n",
       "   UsefulCount  \n",
       "0            0  \n",
       "1            1  "
      ]
     },
     "execution_count": 3,
     "metadata": {},
     "output_type": "execute_result"
    }
   ],
   "source": [
    "#to display the top 2 rows\n",
    "df.head(2)"
   ]
  },
  {
   "cell_type": "code",
   "execution_count": 4,
   "metadata": {},
   "outputs": [
    {
     "data": {
      "text/html": [
       "<div>\n",
       "<style scoped>\n",
       "    .dataframe tbody tr th:only-of-type {\n",
       "        vertical-align: middle;\n",
       "    }\n",
       "\n",
       "    .dataframe tbody tr th {\n",
       "        vertical-align: top;\n",
       "    }\n",
       "\n",
       "    .dataframe thead th {\n",
       "        text-align: right;\n",
       "    }\n",
       "</style>\n",
       "<table border=\"1\" class=\"dataframe\">\n",
       "  <thead>\n",
       "    <tr style=\"text-align: right;\">\n",
       "      <th></th>\n",
       "      <th>Age</th>\n",
       "      <th>Condition</th>\n",
       "      <th>Date</th>\n",
       "      <th>Drug</th>\n",
       "      <th>DrugId</th>\n",
       "      <th>EaseofUse</th>\n",
       "      <th>Effectiveness</th>\n",
       "      <th>Reviews</th>\n",
       "      <th>Satisfaction</th>\n",
       "      <th>Sex</th>\n",
       "      <th>Sides</th>\n",
       "      <th>UsefulCount</th>\n",
       "    </tr>\n",
       "  </thead>\n",
       "  <tbody>\n",
       "    <tr>\n",
       "      <th>362804</th>\n",
       "      <td>55-64</td>\n",
       "      <td>Stop Smoking</td>\n",
       "      <td>11/13/2008</td>\n",
       "      <td>chantix</td>\n",
       "      <td>144470</td>\n",
       "      <td>5</td>\n",
       "      <td>5</td>\n",
       "      <td>Started this medication Oct 5th 2008. Haven't ...</td>\n",
       "      <td>5</td>\n",
       "      <td>Male</td>\n",
       "      <td>Nausea ,  headache ,  vomiting , drowsiness, g...</td>\n",
       "      <td>1</td>\n",
       "    </tr>\n",
       "    <tr>\n",
       "      <th>362805</th>\n",
       "      <td>45-54</td>\n",
       "      <td>Stop Smoking</td>\n",
       "      <td>11/12/2008</td>\n",
       "      <td>chantix</td>\n",
       "      <td>144470</td>\n",
       "      <td>4</td>\n",
       "      <td>5</td>\n",
       "      <td>One year ago, I tried Chantix and had to stop ...</td>\n",
       "      <td>5</td>\n",
       "      <td>Female</td>\n",
       "      <td>Nausea ,  headache ,  vomiting , drowsiness, g...</td>\n",
       "      <td>3</td>\n",
       "    </tr>\n",
       "  </tbody>\n",
       "</table>\n",
       "</div>"
      ],
      "text/plain": [
       "          Age     Condition        Date     Drug  DrugId  EaseofUse  \\\n",
       "362804  55-64  Stop Smoking  11/13/2008  chantix  144470          5   \n",
       "362805  45-54  Stop Smoking  11/12/2008  chantix  144470          4   \n",
       "\n",
       "        Effectiveness                                            Reviews  \\\n",
       "362804              5  Started this medication Oct 5th 2008. Haven't ...   \n",
       "362805              5  One year ago, I tried Chantix and had to stop ...   \n",
       "\n",
       "        Satisfaction     Sex  \\\n",
       "362804             5    Male   \n",
       "362805             5  Female   \n",
       "\n",
       "                                                    Sides  UsefulCount  \n",
       "362804  Nausea ,  headache ,  vomiting , drowsiness, g...            1  \n",
       "362805  Nausea ,  headache ,  vomiting , drowsiness, g...            3  "
      ]
     },
     "execution_count": 4,
     "metadata": {},
     "output_type": "execute_result"
    }
   ],
   "source": [
    "#to display the tail 2 rows\n",
    "df.tail(2)"
   ]
  },
  {
   "cell_type": "code",
   "execution_count": 5,
   "metadata": {},
   "outputs": [
    {
     "data": {
      "text/plain": [
       "(362806, 12)"
      ]
     },
     "execution_count": 5,
     "metadata": {},
     "output_type": "execute_result"
    }
   ],
   "source": [
    "#total shape of dataset\n",
    "df.shape"
   ]
  },
  {
   "cell_type": "markdown",
   "metadata": {},
   "source": [
    "## 2. Checking the dataset, cleaning and manupulation"
   ]
  },
  {
   "cell_type": "markdown",
   "metadata": {},
   "source": [
    "Before diving into data analysis it is important to check whether there are missing values, inconsistent formatting, malformed records or nonsensical outliers. Null values checked in the main dataset and after the selecting pain condition the null values needs to be check. Looking at the dataset under consideration, there is no variables that inconsistent formatting and records or nonsensical outliers."
   ]
  },
  {
   "cell_type": "markdown",
   "metadata": {},
   "source": [
    "### 2.1 Checking the dataset"
   ]
  },
  {
   "cell_type": "code",
   "execution_count": 6,
   "metadata": {},
   "outputs": [
    {
     "name": "stdout",
     "output_type": "stream",
     "text": [
      "<class 'pandas.core.frame.DataFrame'>\n",
      "RangeIndex: 362806 entries, 0 to 362805\n",
      "Data columns (total 12 columns):\n",
      "Age              350604 non-null object\n",
      "Condition        362763 non-null object\n",
      "Date             362806 non-null object\n",
      "Drug             362806 non-null object\n",
      "DrugId           362806 non-null int64\n",
      "EaseofUse        362806 non-null int64\n",
      "Effectiveness    362806 non-null int64\n",
      "Reviews          320945 non-null object\n",
      "Satisfaction     362806 non-null int64\n",
      "Sex              336269 non-null object\n",
      "Sides            345346 non-null object\n",
      "UsefulCount      362806 non-null int64\n",
      "dtypes: int64(5), object(7)\n",
      "memory usage: 33.2+ MB\n"
     ]
    }
   ],
   "source": [
    "#datatype of each attributes of cleaned data\n",
    "df.info()"
   ]
  },
  {
   "cell_type": "code",
   "execution_count": 7,
   "metadata": {},
   "outputs": [],
   "source": [
    "#Only some attributes are considered in this project we'll drop attributes that aren't considered.\n",
    "df=df.drop(['Date', 'DrugId', 'Reviews', 'Sides', 'UsefulCount'], axis=1)"
   ]
  },
  {
   "cell_type": "code",
   "execution_count": 8,
   "metadata": {},
   "outputs": [
    {
     "data": {
      "text/html": [
       "<div>\n",
       "<style scoped>\n",
       "    .dataframe tbody tr th:only-of-type {\n",
       "        vertical-align: middle;\n",
       "    }\n",
       "\n",
       "    .dataframe tbody tr th {\n",
       "        vertical-align: top;\n",
       "    }\n",
       "\n",
       "    .dataframe thead th {\n",
       "        text-align: right;\n",
       "    }\n",
       "</style>\n",
       "<table border=\"1\" class=\"dataframe\">\n",
       "  <thead>\n",
       "    <tr style=\"text-align: right;\">\n",
       "      <th></th>\n",
       "      <th>Age</th>\n",
       "      <th>Condition</th>\n",
       "      <th>Drug</th>\n",
       "      <th>EaseofUse</th>\n",
       "      <th>Effectiveness</th>\n",
       "      <th>Satisfaction</th>\n",
       "      <th>Sex</th>\n",
       "    </tr>\n",
       "  </thead>\n",
       "  <tbody>\n",
       "    <tr>\n",
       "      <th>count</th>\n",
       "      <td>350604</td>\n",
       "      <td>362763</td>\n",
       "      <td>362806</td>\n",
       "      <td>362806.000000</td>\n",
       "      <td>362806.000000</td>\n",
       "      <td>362806.000000</td>\n",
       "      <td>336269</td>\n",
       "    </tr>\n",
       "    <tr>\n",
       "      <th>unique</th>\n",
       "      <td>11</td>\n",
       "      <td>1805</td>\n",
       "      <td>7093</td>\n",
       "      <td>NaN</td>\n",
       "      <td>NaN</td>\n",
       "      <td>NaN</td>\n",
       "      <td>2</td>\n",
       "    </tr>\n",
       "    <tr>\n",
       "      <th>top</th>\n",
       "      <td>45-54</td>\n",
       "      <td>Other</td>\n",
       "      <td>cymbalta</td>\n",
       "      <td>NaN</td>\n",
       "      <td>NaN</td>\n",
       "      <td>NaN</td>\n",
       "      <td>Female</td>\n",
       "    </tr>\n",
       "    <tr>\n",
       "      <th>freq</th>\n",
       "      <td>80043</td>\n",
       "      <td>49765</td>\n",
       "      <td>4648</td>\n",
       "      <td>NaN</td>\n",
       "      <td>NaN</td>\n",
       "      <td>NaN</td>\n",
       "      <td>238226</td>\n",
       "    </tr>\n",
       "    <tr>\n",
       "      <th>mean</th>\n",
       "      <td>NaN</td>\n",
       "      <td>NaN</td>\n",
       "      <td>NaN</td>\n",
       "      <td>4.019829</td>\n",
       "      <td>3.532061</td>\n",
       "      <td>3.135408</td>\n",
       "      <td>NaN</td>\n",
       "    </tr>\n",
       "    <tr>\n",
       "      <th>std</th>\n",
       "      <td>NaN</td>\n",
       "      <td>NaN</td>\n",
       "      <td>NaN</td>\n",
       "      <td>1.317711</td>\n",
       "      <td>1.455961</td>\n",
       "      <td>1.611106</td>\n",
       "      <td>NaN</td>\n",
       "    </tr>\n",
       "    <tr>\n",
       "      <th>min</th>\n",
       "      <td>NaN</td>\n",
       "      <td>NaN</td>\n",
       "      <td>NaN</td>\n",
       "      <td>1.000000</td>\n",
       "      <td>1.000000</td>\n",
       "      <td>1.000000</td>\n",
       "      <td>NaN</td>\n",
       "    </tr>\n",
       "    <tr>\n",
       "      <th>25%</th>\n",
       "      <td>NaN</td>\n",
       "      <td>NaN</td>\n",
       "      <td>NaN</td>\n",
       "      <td>3.000000</td>\n",
       "      <td>3.000000</td>\n",
       "      <td>1.000000</td>\n",
       "      <td>NaN</td>\n",
       "    </tr>\n",
       "    <tr>\n",
       "      <th>50%</th>\n",
       "      <td>NaN</td>\n",
       "      <td>NaN</td>\n",
       "      <td>NaN</td>\n",
       "      <td>5.000000</td>\n",
       "      <td>4.000000</td>\n",
       "      <td>3.000000</td>\n",
       "      <td>NaN</td>\n",
       "    </tr>\n",
       "    <tr>\n",
       "      <th>75%</th>\n",
       "      <td>NaN</td>\n",
       "      <td>NaN</td>\n",
       "      <td>NaN</td>\n",
       "      <td>5.000000</td>\n",
       "      <td>5.000000</td>\n",
       "      <td>5.000000</td>\n",
       "      <td>NaN</td>\n",
       "    </tr>\n",
       "    <tr>\n",
       "      <th>max</th>\n",
       "      <td>NaN</td>\n",
       "      <td>NaN</td>\n",
       "      <td>NaN</td>\n",
       "      <td>10.000000</td>\n",
       "      <td>10.000000</td>\n",
       "      <td>10.000000</td>\n",
       "      <td>NaN</td>\n",
       "    </tr>\n",
       "  </tbody>\n",
       "</table>\n",
       "</div>"
      ],
      "text/plain": [
       "           Age Condition      Drug      EaseofUse  Effectiveness  \\\n",
       "count   350604    362763    362806  362806.000000  362806.000000   \n",
       "unique      11      1805      7093            NaN            NaN   \n",
       "top      45-54     Other  cymbalta            NaN            NaN   \n",
       "freq     80043     49765      4648            NaN            NaN   \n",
       "mean       NaN       NaN       NaN       4.019829       3.532061   \n",
       "std        NaN       NaN       NaN       1.317711       1.455961   \n",
       "min        NaN       NaN       NaN       1.000000       1.000000   \n",
       "25%        NaN       NaN       NaN       3.000000       3.000000   \n",
       "50%        NaN       NaN       NaN       5.000000       4.000000   \n",
       "75%        NaN       NaN       NaN       5.000000       5.000000   \n",
       "max        NaN       NaN       NaN      10.000000      10.000000   \n",
       "\n",
       "         Satisfaction     Sex  \n",
       "count   362806.000000  336269  \n",
       "unique            NaN       2  \n",
       "top               NaN  Female  \n",
       "freq              NaN  238226  \n",
       "mean         3.135408     NaN  \n",
       "std          1.611106     NaN  \n",
       "min          1.000000     NaN  \n",
       "25%          1.000000     NaN  \n",
       "50%          3.000000     NaN  \n",
       "75%          5.000000     NaN  \n",
       "max         10.000000     NaN  "
      ]
     },
     "execution_count": 8,
     "metadata": {},
     "output_type": "execute_result"
    }
   ],
   "source": [
    "#Checking the statistical summary of data\n",
    "df.describe(include='all')"
   ]
  },
  {
   "cell_type": "markdown",
   "metadata": {},
   "source": [
    "### 2.2 Data cleaning and manupulation"
   ]
  },
  {
   "cell_type": "markdown",
   "metadata": {},
   "source": [
    "looking at the count of each attributes there is a difference between each features which indicates that there are null values. Check if null values exist in the dataset."
   ]
  },
  {
   "cell_type": "code",
   "execution_count": 9,
   "metadata": {},
   "outputs": [
    {
     "name": "stdout",
     "output_type": "stream",
     "text": [
      "Do null values exist in the dataset? True\n"
     ]
    },
    {
     "data": {
      "text/plain": [
       "Age              12202\n",
       "Condition           43\n",
       "Drug                 0\n",
       "EaseofUse            0\n",
       "Effectiveness        0\n",
       "Satisfaction         0\n",
       "Sex              26537\n",
       "dtype: int64"
      ]
     },
     "execution_count": 9,
     "metadata": {},
     "output_type": "execute_result"
    }
   ],
   "source": [
    "print('Do null values exist in the dataset? ' + str(df.isnull().values.any()))\n",
    "#if null values exist calculate the total null vaues in each column:\n",
    "df.isna().sum()"
   ]
  },
  {
   "cell_type": "code",
   "execution_count": 10,
   "metadata": {},
   "outputs": [],
   "source": [
    "#since Age and Sex are the determining variable through out this project, they cant be null, \n",
    "#hence drop the null values from data set.\n",
    "df.dropna(inplace=True)"
   ]
  },
  {
   "cell_type": "code",
   "execution_count": 11,
   "metadata": {},
   "outputs": [
    {
     "data": {
      "text/plain": [
       "(331541, 7)"
      ]
     },
     "execution_count": 11,
     "metadata": {},
     "output_type": "execute_result"
    }
   ],
   "source": [
    "#shape the remaining data\n",
    "df.shape"
   ]
  },
  {
   "cell_type": "code",
   "execution_count": 12,
   "metadata": {},
   "outputs": [
    {
     "data": {
      "text/html": [
       "<div>\n",
       "<style scoped>\n",
       "    .dataframe tbody tr th:only-of-type {\n",
       "        vertical-align: middle;\n",
       "    }\n",
       "\n",
       "    .dataframe tbody tr th {\n",
       "        vertical-align: top;\n",
       "    }\n",
       "\n",
       "    .dataframe thead th {\n",
       "        text-align: right;\n",
       "    }\n",
       "</style>\n",
       "<table border=\"1\" class=\"dataframe\">\n",
       "  <thead>\n",
       "    <tr style=\"text-align: right;\">\n",
       "      <th></th>\n",
       "      <th>Age</th>\n",
       "      <th>Condition</th>\n",
       "      <th>Drug</th>\n",
       "      <th>EaseofUse</th>\n",
       "      <th>Effectiveness</th>\n",
       "      <th>Satisfaction</th>\n",
       "      <th>Sex</th>\n",
       "    </tr>\n",
       "  </thead>\n",
       "  <tbody>\n",
       "    <tr>\n",
       "      <th>count</th>\n",
       "      <td>331541</td>\n",
       "      <td>331541</td>\n",
       "      <td>331541</td>\n",
       "      <td>331541.000000</td>\n",
       "      <td>331541.000000</td>\n",
       "      <td>331541.000000</td>\n",
       "      <td>331541</td>\n",
       "    </tr>\n",
       "    <tr>\n",
       "      <th>unique</th>\n",
       "      <td>11</td>\n",
       "      <td>1742</td>\n",
       "      <td>6793</td>\n",
       "      <td>NaN</td>\n",
       "      <td>NaN</td>\n",
       "      <td>NaN</td>\n",
       "      <td>2</td>\n",
       "    </tr>\n",
       "    <tr>\n",
       "      <th>top</th>\n",
       "      <td>45-54</td>\n",
       "      <td>Other</td>\n",
       "      <td>cymbalta</td>\n",
       "      <td>NaN</td>\n",
       "      <td>NaN</td>\n",
       "      <td>NaN</td>\n",
       "      <td>Female</td>\n",
       "    </tr>\n",
       "    <tr>\n",
       "      <th>freq</th>\n",
       "      <td>75991</td>\n",
       "      <td>46926</td>\n",
       "      <td>4400</td>\n",
       "      <td>NaN</td>\n",
       "      <td>NaN</td>\n",
       "      <td>NaN</td>\n",
       "      <td>234797</td>\n",
       "    </tr>\n",
       "    <tr>\n",
       "      <th>mean</th>\n",
       "      <td>NaN</td>\n",
       "      <td>NaN</td>\n",
       "      <td>NaN</td>\n",
       "      <td>4.047168</td>\n",
       "      <td>3.541333</td>\n",
       "      <td>3.144908</td>\n",
       "      <td>NaN</td>\n",
       "    </tr>\n",
       "    <tr>\n",
       "      <th>std</th>\n",
       "      <td>NaN</td>\n",
       "      <td>NaN</td>\n",
       "      <td>NaN</td>\n",
       "      <td>1.299580</td>\n",
       "      <td>1.450075</td>\n",
       "      <td>1.608340</td>\n",
       "      <td>NaN</td>\n",
       "    </tr>\n",
       "    <tr>\n",
       "      <th>min</th>\n",
       "      <td>NaN</td>\n",
       "      <td>NaN</td>\n",
       "      <td>NaN</td>\n",
       "      <td>1.000000</td>\n",
       "      <td>1.000000</td>\n",
       "      <td>1.000000</td>\n",
       "      <td>NaN</td>\n",
       "    </tr>\n",
       "    <tr>\n",
       "      <th>25%</th>\n",
       "      <td>NaN</td>\n",
       "      <td>NaN</td>\n",
       "      <td>NaN</td>\n",
       "      <td>3.000000</td>\n",
       "      <td>3.000000</td>\n",
       "      <td>1.000000</td>\n",
       "      <td>NaN</td>\n",
       "    </tr>\n",
       "    <tr>\n",
       "      <th>50%</th>\n",
       "      <td>NaN</td>\n",
       "      <td>NaN</td>\n",
       "      <td>NaN</td>\n",
       "      <td>5.000000</td>\n",
       "      <td>4.000000</td>\n",
       "      <td>3.000000</td>\n",
       "      <td>NaN</td>\n",
       "    </tr>\n",
       "    <tr>\n",
       "      <th>75%</th>\n",
       "      <td>NaN</td>\n",
       "      <td>NaN</td>\n",
       "      <td>NaN</td>\n",
       "      <td>5.000000</td>\n",
       "      <td>5.000000</td>\n",
       "      <td>5.000000</td>\n",
       "      <td>NaN</td>\n",
       "    </tr>\n",
       "    <tr>\n",
       "      <th>max</th>\n",
       "      <td>NaN</td>\n",
       "      <td>NaN</td>\n",
       "      <td>NaN</td>\n",
       "      <td>6.000000</td>\n",
       "      <td>6.000000</td>\n",
       "      <td>6.000000</td>\n",
       "      <td>NaN</td>\n",
       "    </tr>\n",
       "  </tbody>\n",
       "</table>\n",
       "</div>"
      ],
      "text/plain": [
       "           Age Condition      Drug      EaseofUse  Effectiveness  \\\n",
       "count   331541    331541    331541  331541.000000  331541.000000   \n",
       "unique      11      1742      6793            NaN            NaN   \n",
       "top      45-54     Other  cymbalta            NaN            NaN   \n",
       "freq     75991     46926      4400            NaN            NaN   \n",
       "mean       NaN       NaN       NaN       4.047168       3.541333   \n",
       "std        NaN       NaN       NaN       1.299580       1.450075   \n",
       "min        NaN       NaN       NaN       1.000000       1.000000   \n",
       "25%        NaN       NaN       NaN       3.000000       3.000000   \n",
       "50%        NaN       NaN       NaN       5.000000       4.000000   \n",
       "75%        NaN       NaN       NaN       5.000000       5.000000   \n",
       "max        NaN       NaN       NaN       6.000000       6.000000   \n",
       "\n",
       "         Satisfaction     Sex  \n",
       "count   331541.000000  331541  \n",
       "unique            NaN       2  \n",
       "top               NaN  Female  \n",
       "freq              NaN  234797  \n",
       "mean         3.144908     NaN  \n",
       "std          1.608340     NaN  \n",
       "min          1.000000     NaN  \n",
       "25%          1.000000     NaN  \n",
       "50%          3.000000     NaN  \n",
       "75%          5.000000     NaN  \n",
       "max          6.000000     NaN  "
      ]
     },
     "execution_count": 12,
     "metadata": {},
     "output_type": "execute_result"
    }
   ],
   "source": [
    "#in the same way, the max value EaseofUse, Effectiveness and Satisfaction \n",
    "df.describe(include='all')"
   ]
  },
  {
   "cell_type": "code",
   "execution_count": 13,
   "metadata": {},
   "outputs": [
    {
     "data": {
      "text/html": [
       "<div>\n",
       "<style scoped>\n",
       "    .dataframe tbody tr th:only-of-type {\n",
       "        vertical-align: middle;\n",
       "    }\n",
       "\n",
       "    .dataframe tbody tr th {\n",
       "        vertical-align: top;\n",
       "    }\n",
       "\n",
       "    .dataframe thead th {\n",
       "        text-align: right;\n",
       "    }\n",
       "</style>\n",
       "<table border=\"1\" class=\"dataframe\">\n",
       "  <thead>\n",
       "    <tr style=\"text-align: right;\">\n",
       "      <th></th>\n",
       "      <th>Age</th>\n",
       "      <th>Condition</th>\n",
       "      <th>Drug</th>\n",
       "      <th>EaseofUse</th>\n",
       "      <th>Effectiveness</th>\n",
       "      <th>Satisfaction</th>\n",
       "      <th>Sex</th>\n",
       "    </tr>\n",
       "  </thead>\n",
       "  <tbody>\n",
       "    <tr>\n",
       "      <th>195073</th>\n",
       "      <td>35-44</td>\n",
       "      <td>Migraine Prevention</td>\n",
       "      <td>topamax capsule, sprinkle</td>\n",
       "      <td>6</td>\n",
       "      <td>6</td>\n",
       "      <td>6</td>\n",
       "      <td>Female</td>\n",
       "    </tr>\n",
       "    <tr>\n",
       "      <th>195282</th>\n",
       "      <td>35-44</td>\n",
       "      <td>Migraine Prevention</td>\n",
       "      <td>topamax</td>\n",
       "      <td>6</td>\n",
       "      <td>6</td>\n",
       "      <td>6</td>\n",
       "      <td>Female</td>\n",
       "    </tr>\n",
       "  </tbody>\n",
       "</table>\n",
       "</div>"
      ],
      "text/plain": [
       "          Age            Condition                       Drug  EaseofUse  \\\n",
       "195073  35-44  Migraine Prevention  topamax capsule, sprinkle          6   \n",
       "195282  35-44  Migraine Prevention                    topamax          6   \n",
       "\n",
       "        Effectiveness  Satisfaction     Sex  \n",
       "195073              6             6  Female  \n",
       "195282              6             6  Female  "
      ]
     },
     "execution_count": 13,
     "metadata": {},
     "output_type": "execute_result"
    }
   ],
   "source": [
    "df[df.EaseofUse==6]"
   ]
  },
  {
   "cell_type": "code",
   "execution_count": 14,
   "metadata": {},
   "outputs": [
    {
     "data": {
      "text/plain": [
       "(331539, 7)"
      ]
     },
     "execution_count": 14,
     "metadata": {},
     "output_type": "execute_result"
    }
   ],
   "source": [
    "df=df.drop([195073,195282])\n",
    "df.shape"
   ]
  },
  {
   "cell_type": "markdown",
   "metadata": {},
   "source": [
    "## 3 Data Analysis"
   ]
  },
  {
   "cell_type": "markdown",
   "metadata": {},
   "source": [
    "The aim of our research is to predict painkiller for different age group considering different condition and other features. Hence we chosed seven very common painkiller hydrocodone-acetaminophen, lyrica,neurontin,cymbalta,gabapentin,tramadol hcl, oxycontin."
   ]
  },
  {
   "cell_type": "code",
   "execution_count": 15,
   "metadata": {},
   "outputs": [
    {
     "data": {
      "text/plain": [
       "cymbalta                                               4400\n",
       "lisinopril                                             3972\n",
       "lisinopril solution                                    3972\n",
       "lexapro                                                3854\n",
       "hydrocodone-acetaminophen                              3618\n",
       "effexor xr                                             3256\n",
       "lyrica                                                 2881\n",
       "tramadol hcl er                                        2713\n",
       "tramadol hcl                                           2713\n",
       "zoloft                                                 2510\n",
       "prednisone                                             2411\n",
       "prednisone tablet, delayed release (enteric coated)    2411\n",
       "prednisone concentrate                                 2411\n",
       "seroquel                                               2285\n",
       "phentermine hcl                                        2229\n",
       "Name: Drug, dtype: int64"
      ]
     },
     "execution_count": 15,
     "metadata": {},
     "output_type": "execute_result"
    }
   ],
   "source": [
    "df.Drug.value_counts().head(15)"
   ]
  },
  {
   "cell_type": "code",
   "execution_count": 16,
   "metadata": {},
   "outputs": [
    {
     "name": "stdout",
     "output_type": "stream",
     "text": [
      "Total unique conditions for selected drugs is 28\n"
     ]
    },
    {
     "data": {
      "text/plain": [
       "Pain                                                         5153\n",
       "Neuropathic Pain                                             3614\n",
       "Other                                                        2244\n",
       "Major Depressive Disorder                                    1831\n",
       "Disorder characterized by Stiff, Tender & Painful Muscles    1415\n",
       "Chronic Pain                                                 1148\n",
       "Pain Originating From a Nerve                                 912\n",
       "Repeated Episodes of Anxiety                                  553\n",
       "Chronic Muscle or Bone Pain                                   383\n",
       "Chronic Pain with Narcotic Drug Tolerance                     285\n",
       "Name: Condition, dtype: int64"
      ]
     },
     "execution_count": 16,
     "metadata": {},
     "output_type": "execute_result"
    }
   ],
   "source": [
    "drug=df[df['Drug'].isin(['lyrica','neurontin','cymbalta','gabapentin','tramadol hcl',\n",
    "                            'hydrocodone-acetaminophen','oxycontin'])] \n",
    "print('Total unique conditions for selected drugs is '+ str(drug.Condition.nunique()))\n",
    "drug.Condition.value_counts().head(10)"
   ]
  },
  {
   "cell_type": "markdown",
   "metadata": {},
   "source": [
    "There are 28 unique condition with different frequency for the selected pain killer. Hence it better to consider top five condition for the selected drugs except the condition 'Other' as it is vague.  "
   ]
  },
  {
   "cell_type": "code",
   "execution_count": 17,
   "metadata": {},
   "outputs": [],
   "source": [
    "data=drug[drug['Condition'].isin(['Neuropathic Pain', 'Pain', 'Disorder characterized by Stiff, Tender & Painful Muscles','Chronic Pain','Pain Originating From a Nerve'])]"
   ]
  },
  {
   "cell_type": "code",
   "execution_count": 18,
   "metadata": {},
   "outputs": [
    {
     "data": {
      "text/html": [
       "<div>\n",
       "<style scoped>\n",
       "    .dataframe tbody tr th:only-of-type {\n",
       "        vertical-align: middle;\n",
       "    }\n",
       "\n",
       "    .dataframe tbody tr th {\n",
       "        vertical-align: top;\n",
       "    }\n",
       "\n",
       "    .dataframe thead th {\n",
       "        text-align: right;\n",
       "    }\n",
       "</style>\n",
       "<table border=\"1\" class=\"dataframe\">\n",
       "  <thead>\n",
       "    <tr style=\"text-align: right;\">\n",
       "      <th></th>\n",
       "      <th>Age</th>\n",
       "      <th>Condition</th>\n",
       "      <th>Drug</th>\n",
       "      <th>EaseofUse</th>\n",
       "      <th>Effectiveness</th>\n",
       "      <th>Satisfaction</th>\n",
       "      <th>Sex</th>\n",
       "    </tr>\n",
       "  </thead>\n",
       "  <tbody>\n",
       "    <tr>\n",
       "      <th>count</th>\n",
       "      <td>12242</td>\n",
       "      <td>12242</td>\n",
       "      <td>12242</td>\n",
       "      <td>12242.000000</td>\n",
       "      <td>12242.000000</td>\n",
       "      <td>12242.000000</td>\n",
       "      <td>12242</td>\n",
       "    </tr>\n",
       "    <tr>\n",
       "      <th>unique</th>\n",
       "      <td>11</td>\n",
       "      <td>5</td>\n",
       "      <td>7</td>\n",
       "      <td>NaN</td>\n",
       "      <td>NaN</td>\n",
       "      <td>NaN</td>\n",
       "      <td>2</td>\n",
       "    </tr>\n",
       "    <tr>\n",
       "      <th>top</th>\n",
       "      <td>45-54</td>\n",
       "      <td>Pain</td>\n",
       "      <td>hydrocodone-acetaminophen</td>\n",
       "      <td>NaN</td>\n",
       "      <td>NaN</td>\n",
       "      <td>NaN</td>\n",
       "      <td>Female</td>\n",
       "    </tr>\n",
       "    <tr>\n",
       "      <th>freq</th>\n",
       "      <td>3419</td>\n",
       "      <td>5153</td>\n",
       "      <td>3504</td>\n",
       "      <td>NaN</td>\n",
       "      <td>NaN</td>\n",
       "      <td>NaN</td>\n",
       "      <td>8182</td>\n",
       "    </tr>\n",
       "    <tr>\n",
       "      <th>mean</th>\n",
       "      <td>NaN</td>\n",
       "      <td>NaN</td>\n",
       "      <td>NaN</td>\n",
       "      <td>4.161983</td>\n",
       "      <td>3.448048</td>\n",
       "      <td>3.240647</td>\n",
       "      <td>NaN</td>\n",
       "    </tr>\n",
       "    <tr>\n",
       "      <th>std</th>\n",
       "      <td>NaN</td>\n",
       "      <td>NaN</td>\n",
       "      <td>NaN</td>\n",
       "      <td>1.177277</td>\n",
       "      <td>1.377562</td>\n",
       "      <td>1.533576</td>\n",
       "      <td>NaN</td>\n",
       "    </tr>\n",
       "    <tr>\n",
       "      <th>min</th>\n",
       "      <td>NaN</td>\n",
       "      <td>NaN</td>\n",
       "      <td>NaN</td>\n",
       "      <td>1.000000</td>\n",
       "      <td>1.000000</td>\n",
       "      <td>1.000000</td>\n",
       "      <td>NaN</td>\n",
       "    </tr>\n",
       "    <tr>\n",
       "      <th>25%</th>\n",
       "      <td>NaN</td>\n",
       "      <td>NaN</td>\n",
       "      <td>NaN</td>\n",
       "      <td>4.000000</td>\n",
       "      <td>3.000000</td>\n",
       "      <td>2.000000</td>\n",
       "      <td>NaN</td>\n",
       "    </tr>\n",
       "    <tr>\n",
       "      <th>50%</th>\n",
       "      <td>NaN</td>\n",
       "      <td>NaN</td>\n",
       "      <td>NaN</td>\n",
       "      <td>5.000000</td>\n",
       "      <td>4.000000</td>\n",
       "      <td>4.000000</td>\n",
       "      <td>NaN</td>\n",
       "    </tr>\n",
       "    <tr>\n",
       "      <th>75%</th>\n",
       "      <td>NaN</td>\n",
       "      <td>NaN</td>\n",
       "      <td>NaN</td>\n",
       "      <td>5.000000</td>\n",
       "      <td>5.000000</td>\n",
       "      <td>5.000000</td>\n",
       "      <td>NaN</td>\n",
       "    </tr>\n",
       "    <tr>\n",
       "      <th>max</th>\n",
       "      <td>NaN</td>\n",
       "      <td>NaN</td>\n",
       "      <td>NaN</td>\n",
       "      <td>5.000000</td>\n",
       "      <td>5.000000</td>\n",
       "      <td>5.000000</td>\n",
       "      <td>NaN</td>\n",
       "    </tr>\n",
       "  </tbody>\n",
       "</table>\n",
       "</div>"
      ],
      "text/plain": [
       "          Age Condition                       Drug     EaseofUse  \\\n",
       "count   12242     12242                      12242  12242.000000   \n",
       "unique     11         5                          7           NaN   \n",
       "top     45-54      Pain  hydrocodone-acetaminophen           NaN   \n",
       "freq     3419      5153                       3504           NaN   \n",
       "mean      NaN       NaN                        NaN      4.161983   \n",
       "std       NaN       NaN                        NaN      1.177277   \n",
       "min       NaN       NaN                        NaN      1.000000   \n",
       "25%       NaN       NaN                        NaN      4.000000   \n",
       "50%       NaN       NaN                        NaN      5.000000   \n",
       "75%       NaN       NaN                        NaN      5.000000   \n",
       "max       NaN       NaN                        NaN      5.000000   \n",
       "\n",
       "        Effectiveness  Satisfaction     Sex  \n",
       "count    12242.000000  12242.000000   12242  \n",
       "unique            NaN           NaN       2  \n",
       "top               NaN           NaN  Female  \n",
       "freq              NaN           NaN    8182  \n",
       "mean         3.448048      3.240647     NaN  \n",
       "std          1.377562      1.533576     NaN  \n",
       "min          1.000000      1.000000     NaN  \n",
       "25%          3.000000      2.000000     NaN  \n",
       "50%          4.000000      4.000000     NaN  \n",
       "75%          5.000000      5.000000     NaN  \n",
       "max          5.000000      5.000000     NaN  "
      ]
     },
     "execution_count": 18,
     "metadata": {},
     "output_type": "execute_result"
    }
   ],
   "source": [
    "data.describe(include='all')"
   ]
  },
  {
   "cell_type": "code",
   "execution_count": 19,
   "metadata": {},
   "outputs": [
    {
     "data": {
      "text/plain": [
       "<matplotlib.axes._subplots.AxesSubplot at 0x12105413208>"
      ]
     },
     "execution_count": 19,
     "metadata": {},
     "output_type": "execute_result"
    },
    {
     "data": {
      "image/png": "[encoded data removed]",
      "text/plain": [
       "<Figure size 432x288 with 1 Axes>"
      ]
     },
     "metadata": {},
     "output_type": "display_data"
    }
   ],
   "source": [
    "data.Condition.value_counts().plot(kind='barh')"
   ]
  },
  {
   "cell_type": "code",
   "execution_count": 20,
   "metadata": {},
   "outputs": [
    {
     "data": {
      "text/plain": [
       "Pain                                                         5153\n",
       "Neuropathic Pain                                             3614\n",
       "Disorder characterized by Stiff, Tender & Painful Muscles    1415\n",
       "Chronic Pain                                                 1148\n",
       "Pain Originating From a Nerve                                 912\n",
       "Name: Condition, dtype: int64"
      ]
     },
     "execution_count": 20,
     "metadata": {},
     "output_type": "execute_result"
    }
   ],
   "source": [
    "data.Condition.value_counts()"
   ]
  },
  {
   "cell_type": "code",
   "execution_count": 21,
   "metadata": {},
   "outputs": [
    {
     "data": {
      "text/plain": [
       "<matplotlib.axes._subplots.AxesSubplot at 0x12105f91668>"
      ]
     },
     "execution_count": 21,
     "metadata": {},
     "output_type": "execute_result"
    },
    {
     "data": {
      "image/png": "[encoded data removed]",
      "text/plain": [
       "<Figure size 432x288 with 1 Axes>"
      ]
     },
     "metadata": {},
     "output_type": "display_data"
    }
   ],
   "source": [
    "data.Drug.value_counts().plot(kind='barh')"
   ]
  },
  {
   "cell_type": "code",
   "execution_count": 22,
   "metadata": {},
   "outputs": [],
   "source": [
    "c1=data[data['Condition']=='Pain'].sample(frac=0.3881,replace=True)\n",
    "c2=data[data['Condition']=='Neuropathic Pain'].sample(frac=0.5534,replace=True)\n",
    "c3=data[data['Condition']=='Disorder characterized by Stiff, Tender & Painful Muscles'].sample(frac=1.4134,replace=True)\n",
    "c4=data[data['Condition']=='Chronic Pain'].sample(frac=1.742,replace=True)\n",
    "c5=data[data['Condition']=='Pain Originating From a Nerve'].sample(frac=2.193,replace=True)"
   ]
  },
  {
   "cell_type": "code",
   "execution_count": 23,
   "metadata": {},
   "outputs": [],
   "source": [
    "drug=pd.concat([c1,c2,c3,c4,c5])"
   ]
  },
  {
   "cell_type": "code",
   "execution_count": 24,
   "metadata": {},
   "outputs": [],
   "source": [
    "df=drug.reset_index(drop=True)"
   ]
  },
  {
   "cell_type": "code",
   "execution_count": 25,
   "metadata": {},
   "outputs": [
    {
     "data": {
      "image/png": "[encoded data removed]",
      "text/plain": [
       "<Figure size 480x400 with 1 Axes>"
      ]
     },
     "metadata": {},
     "output_type": "display_data"
    }
   ],
   "source": [
    "bm=df.groupby('Age')\n",
    "plt.figure(figsize=(6,5), dpi= 80)\n",
    "bm['Age'].hist(bins=1,label=bm['Sex'])\n",
    "plt.title('Distribution of Age on Patient Population')\n",
    "plt.xlabel('Age')\n",
    "plt.ylabel('Number of reviewer')\n",
    "plt.legend(('Female','Male'), loc='upper left')\n",
    "plt.tight_layout()\n",
    "plt.show()"
   ]
  },
  {
   "cell_type": "code",
   "execution_count": 26,
   "metadata": {},
   "outputs": [
    {
     "data": {
      "image/png": "[encoded data removed]",
      "text/plain": [
       "<Figure size 432x288 with 1 Axes>"
      ]
     },
     "metadata": {},
     "output_type": "display_data"
    }
   ],
   "source": [
    "bm['EaseofUse'].hist(bins=5,label=bm['Sex'])\n",
    "plt.title('Distribution of EaseofUse on Patient Population')\n",
    "plt.xlabel('EaseofUse')\n",
    "plt.ylabel('Number of reviewer')\n",
    "plt.legend(('Female','Male'), loc='upper left')\n",
    "plt.tight_layout()\n",
    "plt.show()"
   ]
  },
  {
   "cell_type": "code",
   "execution_count": 27,
   "metadata": {},
   "outputs": [
    {
     "data": {
      "image/png": "[encoded data removed]",
      "text/plain": [
       "<Figure size 432x288 with 1 Axes>"
      ]
     },
     "metadata": {},
     "output_type": "display_data"
    }
   ],
   "source": [
    "bm['Effectiveness'].hist(bins=5,label=bm['Sex'])\n",
    "plt.title('Distribution of Effectiveness on Patient Population')\n",
    "plt.xlabel('Effectiveness')\n",
    "plt.ylabel('Number of reviewer')\n",
    "plt.legend(('Female','Male'), loc='upper left')\n",
    "plt.tight_layout()\n",
    "plt.show()\n"
   ]
  },
  {
   "cell_type": "code",
   "execution_count": 28,
   "metadata": {},
   "outputs": [
    {
     "data": {
      "image/png": "[encoded data removed]",
      "text/plain": [
       "<Figure size 432x288 with 1 Axes>"
      ]
     },
     "metadata": {},
     "output_type": "display_data"
    }
   ],
   "source": [
    "bm['Satisfaction'].hist(bins=5,label=bm['Sex'])\n",
    "plt.title('Distribution of Satisfaction on Patient Population')\n",
    "plt.xlabel('Satisfaction')\n",
    "plt.ylabel('Number of reviewer')\n",
    "plt.legend(('Female','Male'), loc='upper left')\n",
    "plt.tight_layout()\n",
    "plt.show()"
   ]
  },
  {
   "cell_type": "code",
   "execution_count": 29,
   "metadata": {},
   "outputs": [
    {
     "data": {
      "text/plain": [
       "<seaborn.axisgrid.PairGrid at 0x12105593e80>"
      ]
     },
     "execution_count": 29,
     "metadata": {},
     "output_type": "execute_result"
    },
    {
     "data": {
      "image/png": "[encoded data removed]",
      "text/plain": [
       "<Figure size 609.375x540 with 12 Axes>"
      ]
     },
     "metadata": {},
     "output_type": "display_data"
    }
   ],
   "source": [
    "#to see the relaship between features\n",
    "sns.pairplot(df,hue='Sex')"
   ]
  },
  {
   "cell_type": "code",
   "execution_count": 31,
   "metadata": {},
   "outputs": [
    {
     "name": "stderr",
     "output_type": "stream",
     "text": [
      "C:\\Users\\wityy\\Anaconda3\\lib\\site-packages\\scipy\\stats\\stats.py:1713: FutureWarning: Using a non-tuple sequence for multidimensional indexing is deprecated; use `arr[tuple(seq)]` instead of `arr[seq]`. In the future this will be interpreted as an array index, `arr[np.array(seq)]`, which will result either in an error or a different result.\n",
      "  return np.add.reduce(sorted[indexer] * weights, axis=axis) / sumval\n",
      "C:\\Users\\wityy\\Anaconda3\\lib\\site-packages\\seaborn\\distributions.py:218: MatplotlibDeprecationWarning: \n",
      "The 'normed' kwarg was deprecated in Matplotlib 2.1 and will be removed in 3.1. Use 'density' instead.\n",
      "  color=hist_color, **hist_kws)\n",
      "C:\\Users\\wityy\\Anaconda3\\lib\\site-packages\\seaborn\\distributions.py:218: MatplotlibDeprecationWarning: \n",
      "The 'normed' kwarg was deprecated in Matplotlib 2.1 and will be removed in 3.1. Use 'density' instead.\n",
      "  color=hist_color, **hist_kws)\n"
     ]
    },
    {
     "data": {
      "text/plain": [
       "<Figure size 480x400 with 0 Axes>"
      ]
     },
     "metadata": {},
     "output_type": "display_data"
    },
    {
     "data": {
      "image/png": "[encoded data removed]",
      "text/plain": [
       "<Figure size 432x432 with 3 Axes>"
      ]
     },
     "metadata": {},
     "output_type": "display_data"
    }
   ],
   "source": [
    "plt.figure(figsize=(6,5), dpi= 80)\n",
    "sns.jointplot(x=df['EaseofUse'],y=df['Satisfaction'], data=df)\n",
    "plt.tight_layout()\n"
   ]
  },
  {
   "cell_type": "code",
   "execution_count": 32,
   "metadata": {},
   "outputs": [
    {
     "name": "stderr",
     "output_type": "stream",
     "text": [
      "C:\\Users\\wityy\\Anaconda3\\lib\\site-packages\\scipy\\stats\\stats.py:1713: FutureWarning: Using a non-tuple sequence for multidimensional indexing is deprecated; use `arr[tuple(seq)]` instead of `arr[seq]`. In the future this will be interpreted as an array index, `arr[np.array(seq)]`, which will result either in an error or a different result.\n",
      "  return np.add.reduce(sorted[indexer] * weights, axis=axis) / sumval\n",
      "C:\\Users\\wityy\\Anaconda3\\lib\\site-packages\\seaborn\\distributions.py:218: MatplotlibDeprecationWarning: \n",
      "The 'normed' kwarg was deprecated in Matplotlib 2.1 and will be removed in 3.1. Use 'density' instead.\n",
      "  color=hist_color, **hist_kws)\n",
      "C:\\Users\\wityy\\Anaconda3\\lib\\site-packages\\seaborn\\distributions.py:218: MatplotlibDeprecationWarning: \n",
      "The 'normed' kwarg was deprecated in Matplotlib 2.1 and will be removed in 3.1. Use 'density' instead.\n",
      "  color=hist_color, **hist_kws)\n"
     ]
    },
    {
     "data": {
      "text/plain": [
       "<Figure size 480x400 with 0 Axes>"
      ]
     },
     "metadata": {},
     "output_type": "display_data"
    },
    {
     "data": {
      "image/png": "[encoded data removed]",
      "text/plain": [
       "<Figure size 432x432 with 3 Axes>"
      ]
     },
     "metadata": {},
     "output_type": "display_data"
    }
   ],
   "source": [
    "plt.figure(figsize=(6,5), dpi= 80)\n",
    "sns.jointplot(x=df['Effectiveness'],y=df['Satisfaction'], data=df)\n",
    "plt.tight_layout()"
   ]
  },
  {
   "cell_type": "markdown",
   "metadata": {},
   "source": [
    "## 4. Statistical Analysis"
   ]
  },
  {
   "cell_type": "markdown",
   "metadata": {},
   "source": [
    "### 4.1 Correlation Matrix"
   ]
  },
  {
   "cell_type": "markdown",
   "metadata": {},
   "source": [
    "A good way to quickly check correlations among columns is by visualizing the correlation matrix as a heatmap using heatmap function of seaborn. In our case we plot the correlation of variables EaseofUse, Effectiveness and Rating. Looking at the plot it the correlation between Effectiveness and Rating is very strong positive correlation than the variables between EaseofUse and Rating. "
   ]
  },
  {
   "cell_type": "code",
   "execution_count": 33,
   "metadata": {},
   "outputs": [
    {
     "data": {
      "text/html": [
       "<div>\n",
       "<style scoped>\n",
       "    .dataframe tbody tr th:only-of-type {\n",
       "        vertical-align: middle;\n",
       "    }\n",
       "\n",
       "    .dataframe tbody tr th {\n",
       "        vertical-align: top;\n",
       "    }\n",
       "\n",
       "    .dataframe thead th {\n",
       "        text-align: right;\n",
       "    }\n",
       "</style>\n",
       "<table border=\"1\" class=\"dataframe\">\n",
       "  <thead>\n",
       "    <tr style=\"text-align: right;\">\n",
       "      <th></th>\n",
       "      <th>EaseofUse</th>\n",
       "      <th>Effectiveness</th>\n",
       "      <th>Satisfaction</th>\n",
       "    </tr>\n",
       "  </thead>\n",
       "  <tbody>\n",
       "    <tr>\n",
       "      <th>EaseofUse</th>\n",
       "      <td>1.000000</td>\n",
       "      <td>0.518901</td>\n",
       "      <td>0.539075</td>\n",
       "    </tr>\n",
       "    <tr>\n",
       "      <th>Effectiveness</th>\n",
       "      <td>0.518901</td>\n",
       "      <td>1.000000</td>\n",
       "      <td>0.831532</td>\n",
       "    </tr>\n",
       "    <tr>\n",
       "      <th>Satisfaction</th>\n",
       "      <td>0.539075</td>\n",
       "      <td>0.831532</td>\n",
       "      <td>1.000000</td>\n",
       "    </tr>\n",
       "  </tbody>\n",
       "</table>\n",
       "</div>"
      ],
      "text/plain": [
       "               EaseofUse  Effectiveness  Satisfaction\n",
       "EaseofUse       1.000000       0.518901      0.539075\n",
       "Effectiveness   0.518901       1.000000      0.831532\n",
       "Satisfaction    0.539075       0.831532      1.000000"
      ]
     },
     "execution_count": 33,
     "metadata": {},
     "output_type": "execute_result"
    }
   ],
   "source": [
    "df_cor=df.corr()\n",
    "df_cor"
   ]
  },
  {
   "cell_type": "code",
   "execution_count": 34,
   "metadata": {},
   "outputs": [
    {
     "data": {
      "image/png": "[encoded data removed]",
      "text/plain": [
       "<Figure size 480x400 with 2 Axes>"
      ]
     },
     "metadata": {},
     "output_type": "display_data"
    }
   ],
   "source": [
    "#graphical representation of corellation\n",
    "plt.figure(figsize=(6,5), dpi= 80)\n",
    "sns.heatmap(df_cor, annot=True,center = 0, cmap = 'coolwarm')\n",
    "plt.title('Heatmap of Correlation Matrix')\n",
    "plt.tight_layout()\n"
   ]
  },
  {
   "cell_type": "markdown",
   "metadata": {},
   "source": [
    "### 4.2 Hypotheisis formulation"
   ]
  },
  {
   "cell_type": "markdown",
   "metadata": {},
   "source": [
    "###### Impact of EaseofUse and Satisfaction\n",
    "Paired sampled t-test :- The paired sample t-test is also called dependent sample t-test. It’s an uni variate test that tests for a significant difference between 2 related variables.\n",
    "\n",
    "Hypothesis Testing:  Is there significant difference between the patients response towards EaseofUse and Effectiveness?\n",
    "\n",
    "Null Hypothesis: (H0: pEU = pEF) The null hypothesis would be that there is no difference in patients response of EaseofUse and Effectiveness.\n",
    "Alternate Hypothesis: (HA: pEU != pEF) The alternative hypothesis would be that there is a difference in patients response of EaseofUse and Effectiveness.\n",
    "\n",
    "In oder to test this hypothesis, we conducted t-test using ttest_ind()"
   ]
  },
  {
   "cell_type": "markdown",
   "metadata": {},
   "source": [
    "#### Effectiveness and Satisfaction"
   ]
  },
  {
   "cell_type": "code",
   "execution_count": 34,
   "metadata": {},
   "outputs": [
    {
     "name": "stdout",
     "output_type": "stream",
     "text": [
      "0.0\n",
      "reject null hypothesis\n"
     ]
    }
   ],
   "source": [
    "from scipy.stats import ttest_ind\n",
    "from scipy import stats\n",
    "ttest,pval = stats.ttest_rel(df['EaseofUse'], df['Satisfaction'])\n",
    "print(pval)\n",
    "if pval<0.05:\n",
    "    print(\"reject null hypothesis\")\n",
    "else:\n",
    "    print(\"accept null hypothesis\")"
   ]
  },
  {
   "cell_type": "code",
   "execution_count": 35,
   "metadata": {},
   "outputs": [
    {
     "name": "stdout",
     "output_type": "stream",
     "text": [
      "4.332130332616386e-133\n",
      "reject null hypothesis\n"
     ]
    }
   ],
   "source": [
    "ttest,pval = stats.ttest_rel(df['Effectiveness'], df['Satisfaction'])\n",
    "print(pval)\n",
    "if pval<0.05:\n",
    "    print(\"reject null hypothesis\")\n",
    "else:\n",
    "    print(\"accept null hypothesis\")"
   ]
  },
  {
   "cell_type": "markdown",
   "metadata": {},
   "source": [
    "#### Correlation of Effectiveness and Satisfaction"
   ]
  },
  {
   "cell_type": "code",
   "execution_count": 36,
   "metadata": {},
   "outputs": [
    {
     "name": "stdout",
     "output_type": "stream",
     "text": [
      "stat=0.840, p=0.000\n",
      "Effectiveness and Satisfaction of patient are dependent\n"
     ]
    }
   ],
   "source": [
    "from scipy.stats import pearsonr\n",
    "stat, p = pearsonr(df['Effectiveness'], df['Satisfaction'])\n",
    "print('stat=%.3f, p=%.3f' % (stat, p))\n",
    "if p > 0.05:\n",
    "    print('Effectiveness and Satisfaction of patient are independent')\n",
    "else:\n",
    "    print('Effectiveness and Satisfaction of patient are dependent')"
   ]
  },
  {
   "cell_type": "markdown",
   "metadata": {},
   "source": [
    "## 5 Regression Model"
   ]
  },
  {
   "cell_type": "markdown",
   "metadata": {},
   "source": [
    "### Multicollinearity"
   ]
  },
  {
   "cell_type": "markdown",
   "metadata": {},
   "source": [
    "Before modeling we sgould check multicollinearity which refers to predictors that are correlated with other predictors. Multicollinearity occurs when model includes multiple factors that are correlated not just to the response variable, but also to each other. In other words, it results when we have factors that are a bit redundant. Sklearn does not have a built-in way to check for multicollinearity"
   ]
  },
  {
   "cell_type": "code",
   "execution_count": 37,
   "metadata": {},
   "outputs": [],
   "source": [
    "# Here's the relevant module\n",
    "from statsmodels.stats.outliers_influence import variance_inflation_factor\n",
    "\n",
    "# To make this as easy as possible to use, declare a variable where we put all features where we want to check for \n",
    "#multicollinearity since our categorical data is not yet preprocessed, we will only take the numerical ones\n",
    "variables = df[['EaseofUse','Effectiveness','Satisfaction']]\n",
    "\n",
    "# create a new data frame which will include all the VIFs\n",
    "# note that each variable has its own variance inflation factor as this measure is variable specific (not model specific)\n",
    "vif = pd.DataFrame()\n",
    "\n",
    "# here we make use of the variance_inflation_factor, which will basically output the respective VIFs\n",
    "vif[\"VIF\"] = [variance_inflation_factor(variables.values, i) for i in range(variables.shape[1])]\n",
    "# Finally, I like to include names so it is easier to explore the result\n",
    "vif[\"Features\"] = variables.columns\n"
   ]
  },
  {
   "cell_type": "code",
   "execution_count": 38,
   "metadata": {},
   "outputs": [
    {
     "data": {
      "text/html": [
       "<div>\n",
       "<style scoped>\n",
       "    .dataframe tbody tr th:only-of-type {\n",
       "        vertical-align: middle;\n",
       "    }\n",
       "\n",
       "    .dataframe tbody tr th {\n",
       "        vertical-align: top;\n",
       "    }\n",
       "\n",
       "    .dataframe thead th {\n",
       "        text-align: right;\n",
       "    }\n",
       "</style>\n",
       "<table border=\"1\" class=\"dataframe\">\n",
       "  <thead>\n",
       "    <tr style=\"text-align: right;\">\n",
       "      <th></th>\n",
       "      <th>VIF</th>\n",
       "      <th>Features</th>\n",
       "    </tr>\n",
       "  </thead>\n",
       "  <tbody>\n",
       "    <tr>\n",
       "      <td>0</td>\n",
       "      <td>9.383079</td>\n",
       "      <td>EaseofUse</td>\n",
       "    </tr>\n",
       "    <tr>\n",
       "      <td>1</td>\n",
       "      <td>22.422662</td>\n",
       "      <td>Effectiveness</td>\n",
       "    </tr>\n",
       "    <tr>\n",
       "      <td>2</td>\n",
       "      <td>18.211118</td>\n",
       "      <td>Satisfaction</td>\n",
       "    </tr>\n",
       "  </tbody>\n",
       "</table>\n",
       "</div>"
      ],
      "text/plain": [
       "         VIF       Features\n",
       "0   9.383079      EaseofUse\n",
       "1  22.422662  Effectiveness\n",
       "2  18.211118   Satisfaction"
      ]
     },
     "execution_count": 38,
     "metadata": {},
     "output_type": "execute_result"
    }
   ],
   "source": [
    "# Since Effectiveness has the highest VIF, I will remove it from the model\n",
    "# This will drive the VIF of other variables down!!! \n",
    "# So even if Satisfaction seems with a high VIF, too, once 'Effectiveness' is gone that will no longer be the case\n",
    "vif"
   ]
  },
  {
   "cell_type": "code",
   "execution_count": 39,
   "metadata": {},
   "outputs": [],
   "source": [
    "# Since Year has the highest VIF, I will remove it from the model. # This will drive the VIF of other variables down!!! \n",
    "# So even if EngineV seems with a high VIF, too, once 'Year' is gone that will no longer be the case\n",
    "data_cleaned = df.drop(['Effectiveness'],axis=1)"
   ]
  },
  {
   "cell_type": "code",
   "execution_count": 40,
   "metadata": {},
   "outputs": [],
   "source": [
    "#rename for simplicity\n",
    "df=data_cleaned"
   ]
  },
  {
   "cell_type": "markdown",
   "metadata": {},
   "source": [
    "## 5.2 Machine Learning Modeling"
   ]
  },
  {
   "cell_type": "code",
   "execution_count": 41,
   "metadata": {},
   "outputs": [],
   "source": [
    "from sklearn.linear_model import LinearRegression\n",
    "from sklearn.linear_model import LogisticRegression\n",
    "from sklearn.model_selection import train_test_split\n",
    "from sklearn import preprocessing, metrics\n",
    "from sklearn import preprocessing\n",
    "from sklearn import utils\n",
    "from sklearn.preprocessing import RobustScaler\n",
    "from sklearn.datasets import load_svmlight_file\n",
    "from sklearn.svm import LinearSVC\n",
    "from sklearn.tree import DecisionTreeClassifier\n",
    "from sklearn.ensemble import RandomForestClassifier\n",
    "from sklearn.metrics import *"
   ]
  },
  {
   "cell_type": "code",
   "execution_count": 42,
   "metadata": {},
   "outputs": [],
   "source": [
    "from sklearn.cluster import KMeans\n",
    "from sklearn.naive_bayes import GaussianNB\n",
    "from sklearn.neighbors import KNeighborsClassifier\n",
    "from sklearn.ensemble import ExtraTreesClassifier\n",
    "from sklearn.ensemble import BaggingClassifier\n",
    "from sklearn.ensemble import AdaBoostClassifier\n",
    "from sklearn.ensemble import GradientBoostingClassifier\n",
    "from xgboost import XGBClassifier\n",
    "from sklearn.ensemble import VotingClassifier\n",
    "from sklearn.naive_bayes import GaussianNB"
   ]
  },
  {
   "cell_type": "code",
   "execution_count": 43,
   "metadata": {},
   "outputs": [],
   "source": [
    "#preparing input data\n",
    "#Use built-in stratify mode to ensure equal % label splits\n",
    "from sklearn.preprocessing import LabelEncoder\n",
    "from sklearn.preprocessing import OrdinalEncoder\n",
    "X=df.drop('Drug', axis=1)\n",
    "y=df['Drug']\n",
    "X_train, X_test, y_train, y_test = train_test_split(X,y,test_size=0.25, random_state=123,stratify=y)"
   ]
  },
  {
   "cell_type": "code",
   "execution_count": 44,
   "metadata": {},
   "outputs": [],
   "source": [
    "def prepare_inpus(X_train,X_test):\n",
    "    enc=OrdinalEncoder()\n",
    "    enc.fit(X_train)\n",
    "    X_train_enc = enc.transform(X_train)\n",
    "    X_test_enc = enc.transform(X_test)\n",
    "    return X_train_enc,X_test_enc"
   ]
  },
  {
   "cell_type": "code",
   "execution_count": 45,
   "metadata": {},
   "outputs": [],
   "source": [
    "def prepare_targets(y_train,y_test):\n",
    "    enc=OrdinalEncoder()\n",
    "    enc.fit(y_train)\n",
    "    y_train_enc = enc.transform(y_train)\n",
    "    y_test_enc = enc.transform(y_test)\n",
    "    return y_train_enc,y_test_enc"
   ]
  },
  {
   "cell_type": "code",
   "execution_count": 46,
   "metadata": {},
   "outputs": [],
   "source": [
    "# prepare input data\n",
    "X_train_enc, X_test_enc = prepare_inpus(X_train, X_test)\n",
    "# Feature Scaling: \n",
    "from sklearn.preprocessing import StandardScaler\n",
    "sc_X = StandardScaler() \n",
    "X_train_enc = sc_X.fit_transform(X_train_enc) \n",
    "X_test_enc = sc_X.fit_transform(X_test_enc)"
   ]
  },
  {
   "cell_type": "code",
   "execution_count": 47,
   "metadata": {},
   "outputs": [],
   "source": [
    "# prepare output dat\n",
    "y_train  = pd.DataFrame(y_train)\n",
    "y_test = pd.DataFrame(y_test)\n",
    "y_train_enc, y_test_enc = prepare_targets(y_train, y_test)"
   ]
  },
  {
   "cell_type": "code",
   "execution_count": 48,
   "metadata": {},
   "outputs": [
    {
     "name": "stderr",
     "output_type": "stream",
     "text": [
      "C:\\ProgramData\\Anaconda3\\lib\\site-packages\\sklearn\\preprocessing\\label.py:235: DataConversionWarning: A column-vector y was passed when a 1d array was expected. Please change the shape of y to (n_samples, ), for example using ravel().\n",
      "  y = column_or_1d(y, warn=True)\n"
     ]
    }
   ],
   "source": [
    "lab_enc = preprocessing.LabelEncoder()\n",
    "y_test_ency = lab_enc.fit_transform(y_test_enc)"
   ]
  },
  {
   "cell_type": "code",
   "execution_count": 49,
   "metadata": {},
   "outputs": [],
   "source": [
    "from sklearn import preprocessing\n",
    "\n",
    "def multiclass_roc_auc_score(y_test,y_pred,average=\"macro\"):\n",
    "    lb = preprocessing.LabelBinarizer()\n",
    "    lb.fit(y_test)\n",
    "    y_test=lb.transform(y_test)\n",
    "    y_pred=lb.transform(y_pred)\n",
    "    return roc_auc_score(y_test,y_pred,average=average)"
   ]
  },
  {
   "cell_type": "markdown",
   "metadata": {},
   "source": [
    "### Logistic Regression"
   ]
  },
  {
   "cell_type": "markdown",
   "metadata": {},
   "source": [
    "Logistic regression works by using a logit function to transform input value of features and calculate estimated probabilities of a label in range of [0,1]. "
   ]
  },
  {
   "cell_type": "code",
   "execution_count": 50,
   "metadata": {},
   "outputs": [
    {
     "name": "stdout",
     "output_type": "stream",
     "text": [
      "Logistic Regression Result\n",
      "              precision    recall  f1-score   support\n",
      "\n",
      "           0      0.000     0.000     0.000       231\n",
      "           1      0.094     0.094     0.094       319\n",
      "           2      0.000     0.000     0.000       340\n",
      "           3      0.000     0.000     0.000       412\n",
      "           4      0.000     0.000     0.000       367\n",
      "           5      0.027     0.015     0.019       394\n",
      "           6      0.000     0.000     0.000       437\n",
      "\n",
      "    accuracy                          0.014      2500\n",
      "   macro avg      0.017     0.016     0.016      2500\n",
      "weighted avg      0.016     0.014     0.015      2500\n",
      "\n",
      "roc_auc_score of Logistic regression is: 0.4258584823676685\n"
     ]
    },
    {
     "name": "stderr",
     "output_type": "stream",
     "text": [
      "C:\\ProgramData\\Anaconda3\\lib\\site-packages\\sklearn\\linear_model\\logistic.py:432: FutureWarning: Default solver will be changed to 'lbfgs' in 0.22. Specify a solver to silence this warning.\n",
      "  FutureWarning)\n",
      "C:\\ProgramData\\Anaconda3\\lib\\site-packages\\sklearn\\utils\\validation.py:724: DataConversionWarning: A column-vector y was passed when a 1d array was expected. Please change the shape of y to (n_samples, ), for example using ravel().\n",
      "  y = column_or_1d(y, warn=True)\n",
      "C:\\ProgramData\\Anaconda3\\lib\\site-packages\\sklearn\\linear_model\\logistic.py:469: FutureWarning: Default multi_class will be changed to 'auto' in 0.22. Specify the multi_class option to silence this warning.\n",
      "  \"this warning.\", FutureWarning)\n",
      "C:\\ProgramData\\Anaconda3\\lib\\site-packages\\sklearn\\metrics\\classification.py:1437: UndefinedMetricWarning: Precision and F-score are ill-defined and being set to 0.0 in labels with no predicted samples.\n",
      "  'precision', 'predicted', average, warn_for)\n"
     ]
    }
   ],
   "source": [
    "logis=LogisticRegression()\n",
    "logis.fit(X_train_enc, y_train_enc)\n",
    "y_log_pred = logis.predict(X_test_enc)\n",
    "log_pred_y = lab_enc.fit_transform(y_log_pred)\n",
    "sk_report = classification_report(\n",
    "    digits=3, y_true=y_test_ency, y_pred=log_pred_y)\n",
    "print('Logistic Regression Result')\n",
    "print(sk_report)\n",
    "print('roc_auc_score of Logistic regression is: '+str(multiclass_roc_auc_score(y_test_ency, log_pred_y)))"
   ]
  },
  {
   "cell_type": "markdown",
   "metadata": {},
   "source": [
    "### Decision Tree Model"
   ]
  },
  {
   "cell_type": "markdown",
   "metadata": {},
   "source": [
    "Decision tree is an algorithm where it predicts the value of a target variable (label) by learning simple decision rules inferred from selected features. Tree is generated and split data on features. It continues to split in repetitive process at each node until leaves reached purity (i.e., remaining samples at each node belongs to same class either non-stroke or stroke cases only)."
   ]
  },
  {
   "cell_type": "code",
   "execution_count": 51,
   "metadata": {},
   "outputs": [
    {
     "name": "stdout",
     "output_type": "stream",
     "text": [
      "Decision Tree Result\n",
      "              precision    recall  f1-score   support\n",
      "\n",
      "           0      0.378     0.364     0.371       231\n",
      "           1      0.533     0.483     0.507       319\n",
      "           2      0.696     0.882     0.778       340\n",
      "           3      0.515     0.687     0.589       412\n",
      "           4      0.527     0.510     0.518       367\n",
      "           5      0.810     0.863     0.835       394\n",
      "           6      0.513     0.275     0.358       437\n",
      "\n",
      "    accuracy                          0.587      2500\n",
      "   macro avg      0.567     0.580     0.565      2500\n",
      "weighted avg      0.577     0.587     0.572      2500\n",
      "\n",
      "roc_auc_score of Decision Tree is: 0.7557108954420747\n"
     ]
    }
   ],
   "source": [
    "dtree = DecisionTreeClassifier()\n",
    "dtree.fit(X_train_enc, y_train_enc)\n",
    "y_dtree_pred = dtree.predict(X_test_enc)\n",
    "dtree_pred_y = lab_enc.fit_transform(y_dtree_pred)\n",
    "sk_report = classification_report(\n",
    "    digits=3, y_true=y_test_ency, y_pred=dtree_pred_y)\n",
    "print('Decision Tree Result')\n",
    "print(sk_report)\n",
    "print('roc_auc_score of Decision Tree is: '+str(multiclass_roc_auc_score(y_test_ency, dtree_pred_y)))"
   ]
  },
  {
   "cell_type": "markdown",
   "metadata": {},
   "source": [
    "### Random forest"
   ]
  },
  {
   "cell_type": "markdown",
   "metadata": {},
   "source": [
    "Random forest is a typical ensemble learning model. It takes random subsample of data from each tree, so all constructed trees are different from each other. Thus, model makes classification based on predictions made from each tree with averaging (i.e., like picking a vote from majority)."
   ]
  },
  {
   "cell_type": "code",
   "execution_count": 52,
   "metadata": {},
   "outputs": [
    {
     "name": "stderr",
     "output_type": "stream",
     "text": [
      "C:\\ProgramData\\Anaconda3\\lib\\site-packages\\sklearn\\ensemble\\forest.py:245: FutureWarning: The default value of n_estimators will change from 10 in version 0.20 to 100 in 0.22.\n",
      "  \"10 in version 0.20 to 100 in 0.22.\", FutureWarning)\n",
      "C:\\ProgramData\\Anaconda3\\lib\\site-packages\\ipykernel_launcher.py:2: DataConversionWarning: A column-vector y was passed when a 1d array was expected. Please change the shape of y to (n_samples,), for example using ravel().\n",
      "  \n"
     ]
    },
    {
     "name": "stdout",
     "output_type": "stream",
     "text": [
      "Random Forest Result\n",
      "              precision    recall  f1-score   support\n",
      "\n",
      "           0      0.387     0.342     0.363       231\n",
      "           1      0.553     0.455     0.499       319\n",
      "           2      0.698     0.862     0.771       340\n",
      "           3      0.510     0.670     0.579       412\n",
      "           4      0.532     0.537     0.535       367\n",
      "           5      0.810     0.868     0.838       394\n",
      "           6      0.484     0.311     0.379       437\n",
      "\n",
      "    accuracy                          0.587      2500\n",
      "   macro avg      0.568     0.578     0.566      2500\n",
      "weighted avg      0.576     0.587     0.574      2500\n",
      "\n",
      "roc_auc_score of Random Forest is: 0.7543139775995407\n"
     ]
    }
   ],
   "source": [
    "rf = RandomForestClassifier()\n",
    "rf.fit(X_train_enc, y_train_enc)\n",
    "y_rf_pred = rf.predict(X_test_enc);\n",
    "rf_pred_y = lab_enc.fit_transform(y_rf_pred)\n",
    "sk_report = classification_report(\n",
    "    digits=3, y_true=y_test_ency, y_pred=rf_pred_y)\n",
    "print('Random Forest Result')\n",
    "print(sk_report)\n",
    "print('roc_auc_score of Random Forest is: '+str(multiclass_roc_auc_score(y_test_ency, rf_pred_y)))"
   ]
  },
  {
   "cell_type": "code",
   "execution_count": 53,
   "metadata": {},
   "outputs": [
    {
     "name": "stderr",
     "output_type": "stream",
     "text": [
      "C:\\ProgramData\\Anaconda3\\lib\\site-packages\\ipykernel_launcher.py:2: DataConversionWarning: A column-vector y was passed when a 1d array was expected. Please change the shape of y to (n_samples, ), for example using ravel().\n",
      "  \n"
     ]
    },
    {
     "name": "stdout",
     "output_type": "stream",
     "text": [
      "KNeighborsClassifier Result\n",
      "              precision    recall  f1-score   support\n",
      "\n",
      "           0      0.323     0.390     0.353       231\n",
      "           1      0.478     0.448     0.463       319\n",
      "           2      0.690     0.824     0.751       340\n",
      "           3      0.515     0.578     0.545       412\n",
      "           4      0.539     0.529     0.534       367\n",
      "           5      0.800     0.865     0.832       394\n",
      "           6      0.496     0.304     0.377       437\n",
      "\n",
      "    accuracy                          0.568      2500\n",
      "   macro avg      0.549     0.563     0.551      2500\n",
      "weighted avg      0.562     0.568     0.559      2500\n",
      "\n",
      "roc_auc_score of KNeighborsClassifier is: 0.7452475220733984\n"
     ]
    }
   ],
   "source": [
    "knn = KNeighborsClassifier()\n",
    "knn.fit(X_train_enc, y_train_enc)\n",
    "y_knn_pred = knn.predict(X_test_enc)\n",
    "kn_pred_y = lab_enc.fit_transform(y_knn_pred)\n",
    "sk_report = classification_report(\n",
    "    digits=3, y_true=y_test_ency, y_pred=kn_pred_y)\n",
    "print('KNeighborsClassifier Result')\n",
    "print(sk_report)\n",
    "print('roc_auc_score of KNeighborsClassifier is: '+str(multiclass_roc_auc_score(y_test_ency, kn_pred_y)))"
   ]
  },
  {
   "cell_type": "code",
   "execution_count": 54,
   "metadata": {},
   "outputs": [
    {
     "name": "stdout",
     "output_type": "stream",
     "text": [
      "GuasianNB Result\n",
      "              precision    recall  f1-score   support\n",
      "\n",
      "           0      0.312     0.043     0.076       231\n",
      "           1      0.311     0.361     0.334       319\n",
      "           2      0.000     0.000     0.000       340\n",
      "           3      0.000     0.000     0.000       412\n",
      "           4      0.000     0.000     0.000       367\n",
      "           5      0.053     0.033     0.041       394\n",
      "           6      0.000     0.000     0.000       437\n",
      "\n",
      "    accuracy                          0.055      2500\n",
      "   macro avg      0.097     0.062     0.064      2500\n",
      "weighted avg      0.077     0.055     0.056      2500\n",
      "\n",
      "roc_auc_score of GuasianNB is: 0.45212561764410925\n"
     ]
    },
    {
     "name": "stderr",
     "output_type": "stream",
     "text": [
      "C:\\ProgramData\\Anaconda3\\lib\\site-packages\\sklearn\\utils\\validation.py:724: DataConversionWarning: A column-vector y was passed when a 1d array was expected. Please change the shape of y to (n_samples, ), for example using ravel().\n",
      "  y = column_or_1d(y, warn=True)\n",
      "C:\\ProgramData\\Anaconda3\\lib\\site-packages\\sklearn\\metrics\\classification.py:1437: UndefinedMetricWarning: Precision and F-score are ill-defined and being set to 0.0 in labels with no predicted samples.\n",
      "  'precision', 'predicted', average, warn_for)\n"
     ]
    }
   ],
   "source": [
    "gas = GaussianNB()\n",
    "gas.fit(X_train_enc, y_train_enc)\n",
    "y_gas_pred = gas.predict(X_test_enc)\n",
    "ga_pred_y = lab_enc.fit_transform(y_gas_pred)\n",
    "sk_report = classification_report(\n",
    "    digits=3, y_true=y_test_ency, y_pred=ga_pred_y)\n",
    "print('GuasianNB Result')\n",
    "print(sk_report)\n",
    "print('roc_auc_score of GuasianNB is: '+str(multiclass_roc_auc_score(y_test_ency, ga_pred_y)))"
   ]
  },
  {
   "cell_type": "code",
   "execution_count": 55,
   "metadata": {},
   "outputs": [
    {
     "name": "stdout",
     "output_type": "stream",
     "text": [
      "KMeans Result\n",
      "              precision    recall  f1-score   support\n",
      "\n",
      "           0      0.107     0.117     0.112       231\n",
      "           1      0.054     0.094     0.069       319\n",
      "           2      0.324     0.232     0.271       340\n",
      "           3      0.000     0.000     0.000       412\n",
      "           4      0.000     0.000     0.000       367\n",
      "           5      0.080     0.081     0.081       394\n",
      "           6      0.228     0.142     0.175       437\n",
      "           7      0.000     0.000     0.000         0\n",
      "\n",
      "    accuracy                          0.092      2500\n",
      "   macro avg      0.099     0.083     0.088      2500\n",
      "weighted avg      0.113     0.092     0.099      2500\n",
      "\n",
      "roc_auc_score of KMeans is: 0.47823714675940526\n"
     ]
    },
    {
     "name": "stderr",
     "output_type": "stream",
     "text": [
      "C:\\ProgramData\\Anaconda3\\lib\\site-packages\\sklearn\\metrics\\classification.py:1439: UndefinedMetricWarning: Recall and F-score are ill-defined and being set to 0.0 in labels with no true samples.\n",
      "  'recall', 'true', average, warn_for)\n"
     ]
    }
   ],
   "source": [
    "kms = KMeans()\n",
    "kms.fit(X_train_enc, y_train_enc)\n",
    "y_kms_pred = kms.predict(X_test_enc)\n",
    "km_pred_y = lab_enc.fit_transform(y_kms_pred)\n",
    "sk_report = classification_report(\n",
    "    digits=3, y_true=y_test_ency, y_pred=km_pred_y)\n",
    "print('KMeans Result')\n",
    "print(sk_report)\n",
    "print('roc_auc_score of KMeans is: '+str(multiclass_roc_auc_score(y_test_ency, km_pred_y)))"
   ]
  },
  {
   "cell_type": "code",
   "execution_count": 56,
   "metadata": {},
   "outputs": [
    {
     "name": "stderr",
     "output_type": "stream",
     "text": [
      "C:\\ProgramData\\Anaconda3\\lib\\site-packages\\sklearn\\ensemble\\gradient_boosting.py:1450: DataConversionWarning: A column-vector y was passed when a 1d array was expected. Please change the shape of y to (n_samples, ), for example using ravel().\n",
      "  y = column_or_1d(y, warn=True)\n"
     ]
    },
    {
     "name": "stdout",
     "output_type": "stream",
     "text": [
      "GradientBoostingClassifier Result\n",
      "              precision    recall  f1-score   support\n",
      "\n",
      "           0      0.393     0.048     0.085       231\n",
      "           1      0.578     0.370     0.451       319\n",
      "           2      0.700     0.912     0.792       340\n",
      "           3      0.432     0.913     0.587       412\n",
      "           4      0.578     0.518     0.546       367\n",
      "           5      0.800     0.865     0.832       394\n",
      "           6      0.565     0.259     0.355       437\n",
      "\n",
      "    accuracy                          0.584      2500\n",
      "   macro avg      0.578     0.555     0.521      2500\n",
      "weighted avg      0.586     0.584     0.543      2500\n",
      "\n",
      "roc_auc_score of GradientBoostingClassifier is: 0.7422070682703418\n"
     ]
    }
   ],
   "source": [
    "gbc = GradientBoostingClassifier()\n",
    "gbc.fit(X_train_enc, y_train_enc)\n",
    "y_gbc_pred = gbc.predict(X_test_enc)\n",
    "gb_pred_y = lab_enc.fit_transform(y_gbc_pred)\n",
    "sk_report = classification_report(\n",
    "    digits=3, y_true=y_test_ency, y_pred=gb_pred_y)\n",
    "print('GradientBoostingClassifier Result')\n",
    "print(sk_report)\n",
    "print('roc_auc_score of GradientBoostingClassifier is: '+str(multiclass_roc_auc_score(y_test_ency, gb_pred_y)))"
   ]
  },
  {
   "cell_type": "markdown",
   "metadata": {},
   "source": [
    "### XGBoost model"
   ]
  },
  {
   "cell_type": "markdown",
   "metadata": {},
   "source": [
    "XGBoost is a type of gradient boosting model in which subsequent model learns from the mistakes (i.e., residual errors) of previous model in a step-wise forward manner. In Gradient Boosting, residual errors are identified gradients. These gradients help how XGBoost to improve model performances."
   ]
  },
  {
   "cell_type": "code",
   "execution_count": 57,
   "metadata": {},
   "outputs": [
    {
     "name": "stderr",
     "output_type": "stream",
     "text": [
      "C:\\ProgramData\\Anaconda3\\lib\\site-packages\\sklearn\\preprocessing\\label.py:219: DataConversionWarning: A column-vector y was passed when a 1d array was expected. Please change the shape of y to (n_samples, ), for example using ravel().\n",
      "  y = column_or_1d(y, warn=True)\n",
      "C:\\ProgramData\\Anaconda3\\lib\\site-packages\\sklearn\\preprocessing\\label.py:252: DataConversionWarning: A column-vector y was passed when a 1d array was expected. Please change the shape of y to (n_samples, ), for example using ravel().\n",
      "  y = column_or_1d(y, warn=True)\n"
     ]
    },
    {
     "name": "stdout",
     "output_type": "stream",
     "text": [
      "XGBClassifier Result\n",
      "              precision    recall  f1-score   support\n",
      "\n",
      "           0      0.396     0.320     0.354       231\n",
      "           1      0.585     0.473     0.523       319\n",
      "           2      0.704     0.888     0.785       340\n",
      "           3      0.491     0.772     0.600       412\n",
      "           4      0.581     0.529     0.553       367\n",
      "           5      0.818     0.868     0.842       394\n",
      "           6      0.575     0.297     0.392       437\n",
      "\n",
      "    accuracy                          0.604      2500\n",
      "   macro avg      0.593     0.593     0.579      2500\n",
      "weighted avg      0.603     0.604     0.588      2500\n",
      "\n",
      "roc_auc_score of XGBClassifier is: 0.7631380851603894\n"
     ]
    }
   ],
   "source": [
    "xgbc = XGBClassifier()\n",
    "xgbc.fit(X_train_enc, y_train_enc)\n",
    "y_xgbc_pred = xgbc.predict(X_test_enc)\n",
    "xgb_pred_y = lab_enc.fit_transform(y_xgbc_pred)\n",
    "sk_report = classification_report(\n",
    "    digits=3, y_true=y_test_ency, y_pred=xgb_pred_y)\n",
    "print('XGBClassifier Result')\n",
    "print(sk_report)\n",
    "print('roc_auc_score of XGBClassifier is: '+str(multiclass_roc_auc_score(y_test_ency, xgb_pred_y)))"
   ]
  },
  {
   "cell_type": "code",
   "execution_count": 58,
   "metadata": {},
   "outputs": [
    {
     "name": "stdout",
     "output_type": "stream",
     "text": [
      "ExtracTreeClassifier Result\n",
      "              precision    recall  f1-score   support\n",
      "\n",
      "           0      0.407     0.333     0.367       231\n",
      "           1      0.580     0.489     0.531       319\n",
      "           2      0.699     0.894     0.785       340\n",
      "           3      0.508     0.723     0.597       412\n",
      "           4      0.540     0.540     0.540       367\n",
      "           5      0.822     0.855     0.838       394\n",
      "           6      0.527     0.293     0.376       437\n",
      "\n",
      "    accuracy                          0.599      2500\n",
      "   macro avg      0.583     0.590     0.576      2500\n",
      "weighted avg      0.591     0.599     0.584      2500\n",
      "\n",
      "roc_auc_score of ExtracTreeClassifier is: 0.7612612579583222\n"
     ]
    },
    {
     "name": "stderr",
     "output_type": "stream",
     "text": [
      "C:\\ProgramData\\Anaconda3\\lib\\site-packages\\sklearn\\ensemble\\forest.py:245: FutureWarning: The default value of n_estimators will change from 10 in version 0.20 to 100 in 0.22.\n",
      "  \"10 in version 0.20 to 100 in 0.22.\", FutureWarning)\n",
      "C:\\ProgramData\\Anaconda3\\lib\\site-packages\\ipykernel_launcher.py:2: DataConversionWarning: A column-vector y was passed when a 1d array was expected. Please change the shape of y to (n_samples,), for example using ravel().\n",
      "  \n"
     ]
    }
   ],
   "source": [
    "ext = ExtraTreesClassifier()\n",
    "ext.fit(X_train_enc, y_train_enc)\n",
    "y_ext_pred = ext.predict(X_test_enc)\n",
    "ex_pred_y = lab_enc.fit_transform(y_ext_pred)\n",
    "sk_report = classification_report(\n",
    "    digits=3, y_true=y_test_ency, y_pred=ex_pred_y)\n",
    "print('ExtracTreeClassifier Result')\n",
    "print(sk_report)\n",
    "print('roc_auc_score of ExtracTreeClassifier is: '+str(multiclass_roc_auc_score(y_test_ency, ex_pred_y)))"
   ]
  },
  {
   "cell_type": "code",
   "execution_count": 59,
   "metadata": {},
   "outputs": [
    {
     "name": "stderr",
     "output_type": "stream",
     "text": [
      "C:\\ProgramData\\Anaconda3\\lib\\site-packages\\sklearn\\ensemble\\bagging.py:623: DataConversionWarning: A column-vector y was passed when a 1d array was expected. Please change the shape of y to (n_samples, ), for example using ravel().\n",
      "  y = column_or_1d(y, warn=True)\n"
     ]
    },
    {
     "name": "stdout",
     "output_type": "stream",
     "text": [
      "BaggingClassifier Result\n",
      "              precision    recall  f1-score   support\n",
      "\n",
      "           0      0.408     0.325     0.361       231\n",
      "           1      0.556     0.470     0.509       319\n",
      "           2      0.721     0.835     0.774       340\n",
      "           3      0.506     0.697     0.586       412\n",
      "           4      0.536     0.510     0.522       367\n",
      "           5      0.820     0.865     0.842       394\n",
      "           6      0.500     0.366     0.423       437\n",
      "\n",
      "    accuracy                          0.594      2500\n",
      "   macro avg      0.578     0.581     0.574      2500\n",
      "weighted avg      0.585     0.594     0.584      2500\n",
      "\n",
      "roc_auc_score of BaggingClassifier is: 0.756481338817519\n"
     ]
    }
   ],
   "source": [
    "bag =  BaggingClassifier()\n",
    "bag.fit(X_train_enc, y_train_enc)\n",
    "y_bag_pred = bag.predict(X_test_enc)\n",
    "ba_pred_y = lab_enc.fit_transform(y_bag_pred)\n",
    "sk_report = classification_report(\n",
    "    digits=3, y_true=y_test_ency, y_pred=ba_pred_y)\n",
    "print('BaggingClassifier Result')\n",
    "print(sk_report)\n",
    "print('roc_auc_score of BaggingClassifier is: '+str(multiclass_roc_auc_score(y_test_ency, ba_pred_y)))"
   ]
  },
  {
   "cell_type": "code",
   "execution_count": 60,
   "metadata": {},
   "outputs": [
    {
     "name": "stderr",
     "output_type": "stream",
     "text": [
      "C:\\ProgramData\\Anaconda3\\lib\\site-packages\\sklearn\\utils\\validation.py:724: DataConversionWarning: A column-vector y was passed when a 1d array was expected. Please change the shape of y to (n_samples, ), for example using ravel().\n",
      "  y = column_or_1d(y, warn=True)\n"
     ]
    },
    {
     "name": "stdout",
     "output_type": "stream",
     "text": [
      "LinearSVC Result\n",
      "              precision    recall  f1-score   support\n",
      "\n",
      "           0      0.004     0.004     0.004       231\n",
      "           1      0.072     0.060     0.065       319\n",
      "           2      0.000     0.000     0.000       340\n",
      "           3      0.000     0.000     0.000       412\n",
      "           4      0.000     0.000     0.000       367\n",
      "           5      0.000     0.000     0.000       394\n",
      "           6      0.000     0.000     0.000       437\n",
      "\n",
      "    accuracy                          0.008      2500\n",
      "   macro avg      0.011     0.009     0.010      2500\n",
      "weighted avg      0.009     0.008     0.009      2500\n",
      "\n",
      "roc_auc_score of LinearSVC is: 0.4221281118999043\n"
     ]
    },
    {
     "name": "stderr",
     "output_type": "stream",
     "text": [
      "C:\\ProgramData\\Anaconda3\\lib\\site-packages\\sklearn\\metrics\\classification.py:1437: UndefinedMetricWarning: Precision and F-score are ill-defined and being set to 0.0 in labels with no predicted samples.\n",
      "  'precision', 'predicted', average, warn_for)\n"
     ]
    }
   ],
   "source": [
    "linSVC=LinearSVC()\n",
    "linSVC.fit(X_train_enc, y_train_enc)\n",
    "y_linSVC_pred=linSVC.predict(X_test_enc);\n",
    "linSVC_pred_y = lab_enc.fit_transform(y_linSVC_pred)\n",
    "sk_report = classification_report(\n",
    "    digits=3, y_true=y_test_ency, y_pred=linSVC_pred_y)\n",
    "print('LinearSVC Result')\n",
    "print(sk_report)\n",
    "print('roc_auc_score of LinearSVC is: '+str(multiclass_roc_auc_score(y_test_ency, linSVC_pred_y)))"
   ]
  },
  {
   "cell_type": "code",
   "execution_count": 61,
   "metadata": {},
   "outputs": [],
   "source": [
    "dict={'ModelName':['LogisticRegression','LinearSVC','DecisionTree',\n",
    "                   'RandomForest','ExtracTreeClassifier','KNeighborsClassifier','KMeans',\n",
    "                   'GradientBoostingClassifier','XGBClassifier','BaggingClassifier','GuasianNB'],\n",
    "      'Result':[0.05,0.09,0.65,0.64,0.65,0.61,0.142,0.58,0.63,0.65,0.51]}"
   ]
  },
  {
   "cell_type": "code",
   "execution_count": 62,
   "metadata": {},
   "outputs": [
    {
     "data": {
      "text/html": [
       "<div>\n",
       "<style scoped>\n",
       "    .dataframe tbody tr th:only-of-type {\n",
       "        vertical-align: middle;\n",
       "    }\n",
       "\n",
       "    .dataframe tbody tr th {\n",
       "        vertical-align: top;\n",
       "    }\n",
       "\n",
       "    .dataframe thead th {\n",
       "        text-align: right;\n",
       "    }\n",
       "</style>\n",
       "<table border=\"1\" class=\"dataframe\">\n",
       "  <thead>\n",
       "    <tr style=\"text-align: right;\">\n",
       "      <th></th>\n",
       "      <th>ModelName</th>\n",
       "      <th>Result</th>\n",
       "    </tr>\n",
       "  </thead>\n",
       "  <tbody>\n",
       "    <tr>\n",
       "      <td>0</td>\n",
       "      <td>LogisticRegression</td>\n",
       "      <td>0.050</td>\n",
       "    </tr>\n",
       "    <tr>\n",
       "      <td>1</td>\n",
       "      <td>LinearSVC</td>\n",
       "      <td>0.090</td>\n",
       "    </tr>\n",
       "    <tr>\n",
       "      <td>2</td>\n",
       "      <td>DecisionTree</td>\n",
       "      <td>0.650</td>\n",
       "    </tr>\n",
       "    <tr>\n",
       "      <td>3</td>\n",
       "      <td>RandomForest</td>\n",
       "      <td>0.640</td>\n",
       "    </tr>\n",
       "    <tr>\n",
       "      <td>4</td>\n",
       "      <td>ExtracTreeClassifier</td>\n",
       "      <td>0.650</td>\n",
       "    </tr>\n",
       "    <tr>\n",
       "      <td>5</td>\n",
       "      <td>KNeighborsClassifier</td>\n",
       "      <td>0.610</td>\n",
       "    </tr>\n",
       "    <tr>\n",
       "      <td>6</td>\n",
       "      <td>KMeans</td>\n",
       "      <td>0.142</td>\n",
       "    </tr>\n",
       "    <tr>\n",
       "      <td>7</td>\n",
       "      <td>GradientBoostingClassifier</td>\n",
       "      <td>0.580</td>\n",
       "    </tr>\n",
       "    <tr>\n",
       "      <td>8</td>\n",
       "      <td>XGBClassifier</td>\n",
       "      <td>0.630</td>\n",
       "    </tr>\n",
       "    <tr>\n",
       "      <td>9</td>\n",
       "      <td>BaggingClassifier</td>\n",
       "      <td>0.650</td>\n",
       "    </tr>\n",
       "    <tr>\n",
       "      <td>10</td>\n",
       "      <td>GuasianNB</td>\n",
       "      <td>0.510</td>\n",
       "    </tr>\n",
       "  </tbody>\n",
       "</table>\n",
       "</div>"
      ],
      "text/plain": [
       "                     ModelName  Result\n",
       "0           LogisticRegression   0.050\n",
       "1                    LinearSVC   0.090\n",
       "2                 DecisionTree   0.650\n",
       "3                 RandomForest   0.640\n",
       "4         ExtracTreeClassifier   0.650\n",
       "5         KNeighborsClassifier   0.610\n",
       "6                       KMeans   0.142\n",
       "7   GradientBoostingClassifier   0.580\n",
       "8                XGBClassifier   0.630\n",
       "9            BaggingClassifier   0.650\n",
       "10                   GuasianNB   0.510"
      ]
     },
     "execution_count": 62,
     "metadata": {},
     "output_type": "execute_result"
    }
   ],
   "source": [
    "Accuracy =pd.DataFrame.from_dict(dict)\n",
    "Accuracy"
   ]
  },
  {
   "cell_type": "code",
   "execution_count": 63,
   "metadata": {},
   "outputs": [
    {
     "data": {
      "text/html": [
       "<div>\n",
       "<style scoped>\n",
       "    .dataframe tbody tr th:only-of-type {\n",
       "        vertical-align: middle;\n",
       "    }\n",
       "\n",
       "    .dataframe tbody tr th {\n",
       "        vertical-align: top;\n",
       "    }\n",
       "\n",
       "    .dataframe thead th {\n",
       "        text-align: right;\n",
       "    }\n",
       "</style>\n",
       "<table border=\"1\" class=\"dataframe\">\n",
       "  <thead>\n",
       "    <tr style=\"text-align: right;\">\n",
       "      <th></th>\n",
       "      <th>ModelName</th>\n",
       "      <th>Result</th>\n",
       "    </tr>\n",
       "  </thead>\n",
       "  <tbody>\n",
       "    <tr>\n",
       "      <td>2</td>\n",
       "      <td>DecisionTree</td>\n",
       "      <td>0.65</td>\n",
       "    </tr>\n",
       "    <tr>\n",
       "      <td>4</td>\n",
       "      <td>ExtracTreeClassifier</td>\n",
       "      <td>0.65</td>\n",
       "    </tr>\n",
       "    <tr>\n",
       "      <td>9</td>\n",
       "      <td>BaggingClassifier</td>\n",
       "      <td>0.65</td>\n",
       "    </tr>\n",
       "  </tbody>\n",
       "</table>\n",
       "</div>"
      ],
      "text/plain": [
       "              ModelName  Result\n",
       "2          DecisionTree    0.65\n",
       "4  ExtracTreeClassifier    0.65\n",
       "9     BaggingClassifier    0.65"
      ]
     },
     "execution_count": 63,
     "metadata": {},
     "output_type": "execute_result"
    }
   ],
   "source": [
    "Accuracy['Result'].max()\n",
    "Accuracy[Accuracy['Result']==0.65]"
   ]
  },
  {
   "cell_type": "code",
   "execution_count": 64,
   "metadata": {},
   "outputs": [
    {
     "name": "stdout",
     "output_type": "stream",
     "text": [
      "______________________________________________\n",
      "MAE of Decision Tree: 1.1812\n",
      "MSE of Decision Tree: 3.9972\n",
      "RMSE of Decision Tree: 1.9992998774571062\n",
      "______________________________________________\n",
      "MAE of Random Forest: 1.1968\n",
      "MSE of Random Forest: 4.1064\n",
      "RMSE of Random Forest: 2.0264254242384543\n",
      "______________________________________________\n",
      "MAE of GradientBoostingClassifier: 1.1076\n",
      "MSE of GradientBoostingClassifier: 3.4012\n",
      "RMSE of GradientBoostingClassifier: 1.8442342584389868\n",
      "______________________________________________\n",
      "MAE of XGBClassifier: 1.1132\n",
      "MSE of XGBClassifier: 3.6804\n",
      "RMSE of XGBClassifier: 1.918436863699194\n",
      "______________________________________________\n",
      "MAE of ExtracTreeClassifier: 1.1388\n",
      "MSE of ExtracTreeClassifier: 3.8404\n",
      "RMSE of ExtracTreeClassifier: 1.9596938536414303\n",
      "______________________________________________\n",
      "MAE of BaggingClassifier: 1.1648\n",
      "MSE of BaggingClassifier: 3.9648\n",
      "RMSE of BaggingClassifier: 1.9911805543445829\n",
      "______________________________________________\n"
     ]
    }
   ],
   "source": [
    "print(\"______________________________________________\")\n",
    "print('MAE of Decision Tree:', metrics.mean_absolute_error(y_test_ency,dtree_pred_y))\n",
    "print('MSE of Decision Tree:', metrics.mean_squared_error(y_test_ency,dtree_pred_y))\n",
    "print('RMSE of Decision Tree:', np.sqrt(metrics.mean_squared_error(y_test_ency,dtree_pred_y)))\n",
    "print(\"______________________________________________\")\n",
    "print('MAE of Random Forest:', metrics.mean_absolute_error(y_test_ency,rf_pred_y))\n",
    "print('MSE of Random Forest:', metrics.mean_squared_error(y_test_ency,rf_pred_y))\n",
    "print('RMSE of Random Forest:', np.sqrt(metrics.mean_squared_error(y_test_ency,rf_pred_y)))\n",
    "print(\"______________________________________________\")\n",
    "print('MAE of GradientBoostingClassifier:', metrics.mean_absolute_error(y_test_ency,gb_pred_y))\n",
    "print('MSE of GradientBoostingClassifier:', metrics.mean_squared_error(y_test_ency,gb_pred_y))\n",
    "print('RMSE of GradientBoostingClassifier:', np.sqrt(metrics.mean_squared_error(y_test_ency,gb_pred_y)))\n",
    "print(\"______________________________________________\")\n",
    "print('MAE of XGBClassifier:', metrics.mean_absolute_error(y_test_ency,xgb_pred_y))\n",
    "print('MSE of XGBClassifier:', metrics.mean_squared_error(y_test_ency,xgb_pred_y))\n",
    "print('RMSE of XGBClassifier:', np.sqrt(metrics.mean_squared_error(y_test_ency,xgb_pred_y)))\n",
    "print(\"______________________________________________\")\n",
    "print('MAE of ExtracTreeClassifier:', metrics.mean_absolute_error(y_test_ency,ex_pred_y))\n",
    "print('MSE of ExtracTreeClassifier:', metrics.mean_squared_error(y_test_ency,ex_pred_y))\n",
    "print('RMSE of ExtracTreeClassifier:', np.sqrt(metrics.mean_squared_error(y_test_ency,ex_pred_y)))\n",
    "print(\"______________________________________________\")\n",
    "print('MAE of BaggingClassifier:', metrics.mean_absolute_error(y_test_ency,ba_pred_y))\n",
    "print('MSE of BaggingClassifier:', metrics.mean_squared_error(y_test_ency,ba_pred_y))\n",
    "print('RMSE of BaggingClassifier:', np.sqrt(metrics.mean_squared_error(y_test_ency,ba_pred_y)))\n",
    "print(\"______________________________________________\")"
   ]
  },
  {
   "cell_type": "code",
   "execution_count": null,
   "metadata": {},
   "outputs": [],
   "source": [
    "from sklearn.metrics import roc_curve\n",
    "fpr, tpr, thresholds = roc_curve(y_test_ency, logis.predict_proba(X_test_enc)[:,1],pos_label=2)\n",
    "rf_fpr, rf_tpr, rf_thresholds = roc_curve(y_test_ency, rf.predict_proba(X_test_enc)[:,1],pos_label=2)\n",
    "dt_fpr, dt_tpr, dt_thresholds = roc_curve(y_test_ency, dtree.predict_proba(X_test_enc)[:,1],pos_label=2)\n",
    "knn_fpr, knn_tpr, knn_thresholds = roc_curve(y_test_ency, knn.predict_proba(X_test_enc)[:,1],pos_label=2)\n",
    "gas_fpr, gas_tpr, gas_thresholds = roc_curve(y_test_ency, gas.predict_proba(X_test_enc)[:,1],pos_label=2)\n",
    "#kms_fpr, kms_tpr, kms_thresholds = roc_curve(y_test_ency, kms.predict_proba(X_test_enc)[:,1],pos_label=2)\n",
    "gbc_fpr, gbc_tpr, gbc_thresholds = roc_curve(y_test_ency, gbc.predict_proba(X_test_enc)[:,1],pos_label=2)\n",
    "ext_fpr, ext_tpr, ext_thresholds = roc_curve(y_test_ency, ext.predict_proba(X_test_enc)[:,1],pos_label=2)\n",
    "#linSVC_fpr, linSVC_tpr, linSVC_thresholds = roc_curve(y_test_ency, linSVC.predict_proba(X_test_enc)[:,1],pos_label=2)\n",
    "bag_fpr, bag_tpr, bag_thresholds = roc_curve(y_test_ency, bag.predict_proba(X_test_enc)[:,1],pos_label=2)\n",
    "xgbc_fpr, xgbc_tpr, xgbc_thresholds = roc_curve(y_test_ency, xgbc.predict_proba(X_test_enc)[:,1],pos_label=2)\n",
    "\n",
    "plt.figure()\n"
   ]
  },
  {
   "cell_type": "code",
   "execution_count": null,
   "metadata": {},
   "outputs": [],
   "source": [
    "# Plot Logistic Regression ROC\n",
    "logit_roc_auc = multiclass_roc_auc_score(y_test_ency, log_pred_y)\n",
    "plt.plot(fpr, tpr, label='Logistic Regression (area = %0.2f)' % logit_roc_auc)\n",
    "\n",
    "# Plot Random Forest ROC\n",
    "rf_roc_auc = multiclass_roc_auc_score(y_test_ency, rf_pred_y)\n",
    "plt.plot(rf_fpr, rf_tpr, label='Random Forest (area = %0.2f)' % rf_roc_auc)\n",
    "\n",
    "# Plot Decision Tree ROC\n",
    "dtree_roc_auc = multiclass_roc_auc_score(y_test_ency, dtree_pred_y)\n",
    "plt.plot(dt_fpr, dt_tpr, label='Decision Tree (area = %0.2f)' % dtree_roc_auc)\n",
    "\n",
    "# Plot XBoosts ROC\n",
    "xgb_roc_auc = multiclass_roc_auc_score(y_test_ency, xgb_pred_y)\n",
    "plt.plot(xgbc_fpr, xgbc_tpr, label='XBoosts (area = %0.2f)' % xgb_roc_auc)\n",
    "\n",
    "# Plot ExtracTree ROC\n",
    "ex_roc_auc = multiclass_roc_auc_score(y_test_ency, ex_pred_y)\n",
    "plt.plot(ext_fpr, ext_tpr, label='ExtracTree (area = %0.2f)' % ex_roc_auc)\n",
    "\n",
    "# Plot GradientBoosting ROC\n",
    "gbc_roc_auc = multiclass_roc_auc_score(y_test_ency, gb_pred_y)\n",
    "plt.plot(gbc, gbc_tpr, label='GradientBoosting (area = %0.2f)' % gbc_roc_auc)\n",
    "\n",
    "# Plot Bagging ROC\n",
    "bag_roc_auc = multiclass_roc_auc_score(y_test_ency, bag_pred_y)\n",
    "plt.plot(bag_fpr, bag_tpr, label='Bagging (area = %0.2f)' % bag_roc_auc)\n",
    "\n",
    "# Plot GuasianNB ROC\n",
    "gas_roc_auc = multiclass_roc_auc_score(y_test_ency, ga_pred_y)\n",
    "plt.plot(bag_fpr, bag_tpr, label='GuasianNB (area = %0.2f)' % gas_roc_auc)\n",
    "\n",
    "# Plot Base Rate ROC\n",
    "plt.plot([0,1], [0,1],label='Base Rate' 'k--')\n",
    "\n",
    "plt.xlim([0.0, 1.0])\n",
    "plt.ylim([0.0, 1.05])\n",
    "plt.xlabel('False Positive Rate')\n",
    "plt.ylabel('True Positive Rate')\n",
    "plt.title('ROC Graph')\n",
    "plt.legend(loc=\"lower right\")\n",
    "plt.show()"
   ]
  },
  {
   "cell_type": "code",
   "execution_count": null,
   "metadata": {},
   "outputs": [],
   "source": [
    "logit_roc_auc = multiclass_roc_auc_score(y_test_ency, log_pred_y)\n",
    "plt.plot(fpr, tpr, label='Logistic Regression (area = %0.2f)' % logit_roc_auc)"
   ]
  },
  {
   "cell_type": "code",
   "execution_count": null,
   "metadata": {},
   "outputs": [],
   "source": []
  },
  {
   "cell_type": "code",
   "execution_count": null,
   "metadata": {},
   "outputs": [],
   "source": []
  },
  {
   "cell_type": "code",
   "execution_count": null,
   "metadata": {},
   "outputs": [],
   "source": []
  },
  {
   "cell_type": "code",
   "execution_count": null,
   "metadata": {},
   "outputs": [],
   "source": []
  },
  {
   "cell_type": "code",
   "execution_count": null,
   "metadata": {},
   "outputs": [],
   "source": []
  },
  {
   "cell_type": "code",
   "execution_count": null,
   "metadata": {},
   "outputs": [],
   "source": []
  },
  {
   "cell_type": "code",
   "execution_count": null,
   "metadata": {},
   "outputs": [],
   "source": []
  },
  {
   "cell_type": "code",
   "execution_count": null,
   "metadata": {},
   "outputs": [],
   "source": []
  },
  {
   "cell_type": "code",
   "execution_count": null,
   "metadata": {},
   "outputs": [],
   "source": []
  },
  {
   "cell_type": "code",
   "execution_count": null,
   "metadata": {},
   "outputs": [],
   "source": []
  },
  {
   "cell_type": "code",
   "execution_count": null,
   "metadata": {},
   "outputs": [],
   "source": []
  },
  {
   "cell_type": "code",
   "execution_count": null,
   "metadata": {},
   "outputs": [],
   "source": []
  },
  {
   "cell_type": "code",
   "execution_count": null,
   "metadata": {},
   "outputs": [],
   "source": []
  },
  {
   "cell_type": "code",
   "execution_count": null,
   "metadata": {},
   "outputs": [],
   "source": []
  },
  {
   "cell_type": "code",
   "execution_count": null,
   "metadata": {},
   "outputs": [],
   "source": []
  },
  {
   "cell_type": "code",
   "execution_count": null,
   "metadata": {},
   "outputs": [],
   "source": []
  },
  {
   "cell_type": "code",
   "execution_count": null,
   "metadata": {},
   "outputs": [],
   "source": []
  },
  {
   "cell_type": "code",
   "execution_count": null,
   "metadata": {},
   "outputs": [],
   "source": []
  },
  {
   "cell_type": "code",
   "execution_count": null,
   "metadata": {},
   "outputs": [],
   "source": []
  },
  {
   "cell_type": "code",
   "execution_count": null,
   "metadata": {},
   "outputs": [],
   "source": []
  },
  {
   "cell_type": "code",
   "execution_count": null,
   "metadata": {},
   "outputs": [],
   "source": []
  },
  {
   "cell_type": "code",
   "execution_count": null,
   "metadata": {},
   "outputs": [],
   "source": []
  },
  {
   "cell_type": "code",
   "execution_count": null,
   "metadata": {},
   "outputs": [],
   "source": []
  },
  {
   "cell_type": "code",
   "execution_count": null,
   "metadata": {},
   "outputs": [],
   "source": []
  },
  {
   "cell_type": "code",
   "execution_count": null,
   "metadata": {},
   "outputs": [],
   "source": []
  },
  {
   "cell_type": "code",
   "execution_count": null,
   "metadata": {},
   "outputs": [],
   "source": []
  },
  {
   "cell_type": "code",
   "execution_count": null,
   "metadata": {},
   "outputs": [],
   "source": []
  },
  {
   "cell_type": "code",
   "execution_count": null,
   "metadata": {},
   "outputs": [],
   "source": []
  },
  {
   "cell_type": "code",
   "execution_count": null,
   "metadata": {},
   "outputs": [],
   "source": []
  },
  {
   "cell_type": "code",
   "execution_count": null,
   "metadata": {},
   "outputs": [],
   "source": []
  },
  {
   "cell_type": "code",
   "execution_count": null,
   "metadata": {},
   "outputs": [],
   "source": []
  },
  {
   "cell_type": "code",
   "execution_count": null,
   "metadata": {},
   "outputs": [],
   "source": []
  },
  {
   "cell_type": "code",
   "execution_count": null,
   "metadata": {},
   "outputs": [],
   "source": []
  },
  {
   "cell_type": "code",
   "execution_count": null,
   "metadata": {},
   "outputs": [],
   "source": []
  },
  {
   "cell_type": "code",
   "execution_count": null,
   "metadata": {},
   "outputs": [],
   "source": []
  },
  {
   "cell_type": "code",
   "execution_count": null,
   "metadata": {},
   "outputs": [],
   "source": []
  },
  {
   "cell_type": "code",
   "execution_count": null,
   "metadata": {},
   "outputs": [],
   "source": []
  },
  {
   "cell_type": "code",
   "execution_count": null,
   "metadata": {},
   "outputs": [],
   "source": []
  },
  {
   "cell_type": "code",
   "execution_count": null,
   "metadata": {},
   "outputs": [],
   "source": []
  },
  {
   "cell_type": "code",
   "execution_count": null,
   "metadata": {},
   "outputs": [],
   "source": []
  },
  {
   "cell_type": "code",
   "execution_count": null,
   "metadata": {},
   "outputs": [],
   "source": []
  },
  {
   "cell_type": "code",
   "execution_count": null,
   "metadata": {},
   "outputs": [],
   "source": []
  }
 ],
 "metadata": {
  "kernelspec": {
   "display_name": "Python 3",
   "language": "python",
   "name": "python3"
  },
  "language_info": {
   "codemirror_mode": {
    "name": "ipython",
    "version": 3
   },
   "file_extension": ".py",
   "mimetype": "text/x-python",
   "name": "python",
   "nbconvert_exporter": "python",
   "pygments_lexer": "ipython3",
   "version": "3.6.5"
  }
 },
 "nbformat": 4,
 "nbformat_minor": 2
}
