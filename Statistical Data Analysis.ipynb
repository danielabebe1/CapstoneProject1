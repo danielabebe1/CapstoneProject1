{
 "cells": [
  {
   "cell_type": "markdown",
   "metadata": {},
   "source": [
    "# Statistical Data Analysis of CAPSTONE PROJECT I "
   ]
  },
  {
   "cell_type": "markdown",
   "metadata": {},
   "source": [
    "## Predicting Pain Relievers Based on Age and Satisfaction Level"
   ]
  },
  {
   "cell_type": "markdown",
   "metadata": {},
   "source": [
    "## 3. Statistical Analysis"
   ]
  },
  {
   "cell_type": "markdown",
   "metadata": {},
   "source": [
    "### 3.1 Correlation between features"
   ]
  },
  {
   "cell_type": "markdown",
   "metadata": {},
   "source": [
    "#### EaseofUse vs Effectiveness vs Satisfaction\n",
    "we compare the means of EaseofUse, Effectivness and Satisfaction. The mean value of EaseofUse and Satisfaction for the first three age group showed strong association compared to the mean of Effectiveness and Satisfaction mean which showed weak association. For the remaining age group,  the mean of Effectiveness and Satisfaction mean showed very strong association relative to the mean of EaseofUse and Satisfaction mean. "
   ]
  },
  {
   "cell_type": "code",
   "execution_count": 31,
   "metadata": {},
   "outputs": [],
   "source": [
    "# Nominal feature encoding for calculation purpose\n",
    "# Define manual map for Age\n",
    "Age_map={'0-2':1,'3-6':5,'7-12':10,'13-18':15,'19-24':20,'25-34':30,'35-44':40,'45-54':50,'55-64':60,'65-74':70,'75 or over':80}\n",
    "df['Age_map']=df['Age'].map(Age_map)    \n"
   ]
  },
  {
   "cell_type": "code",
   "execution_count": 33,
   "metadata": {},
   "outputs": [
    {
     "data": {
      "text/html": [
       "<div>\n",
       "<style scoped>\n",
       "    .dataframe tbody tr th:only-of-type {\n",
       "        vertical-align: middle;\n",
       "    }\n",
       "\n",
       "    .dataframe tbody tr th {\n",
       "        vertical-align: top;\n",
       "    }\n",
       "\n",
       "    .dataframe thead th {\n",
       "        text-align: right;\n",
       "    }\n",
       "</style>\n",
       "<table border=\"1\" class=\"dataframe\">\n",
       "  <thead>\n",
       "    <tr style=\"text-align: right;\">\n",
       "      <th></th>\n",
       "      <th>EaseofUse</th>\n",
       "      <th>Effectiveness</th>\n",
       "      <th>Satisfaction</th>\n",
       "    </tr>\n",
       "    <tr>\n",
       "      <th>Age_map</th>\n",
       "      <th></th>\n",
       "      <th></th>\n",
       "      <th></th>\n",
       "    </tr>\n",
       "  </thead>\n",
       "  <tbody>\n",
       "    <tr>\n",
       "      <td>5</td>\n",
       "      <td>1.750000</td>\n",
       "      <td>1.750000</td>\n",
       "      <td>1.500000</td>\n",
       "    </tr>\n",
       "    <tr>\n",
       "      <td>10</td>\n",
       "      <td>4.500000</td>\n",
       "      <td>4.000000</td>\n",
       "      <td>5.000000</td>\n",
       "    </tr>\n",
       "    <tr>\n",
       "      <td>15</td>\n",
       "      <td>4.106383</td>\n",
       "      <td>3.680851</td>\n",
       "      <td>3.468085</td>\n",
       "    </tr>\n",
       "    <tr>\n",
       "      <td>20</td>\n",
       "      <td>4.191617</td>\n",
       "      <td>3.592814</td>\n",
       "      <td>3.365269</td>\n",
       "    </tr>\n",
       "    <tr>\n",
       "      <td>30</td>\n",
       "      <td>3.996587</td>\n",
       "      <td>3.234642</td>\n",
       "      <td>2.942833</td>\n",
       "    </tr>\n",
       "    <tr>\n",
       "      <td>40</td>\n",
       "      <td>4.046296</td>\n",
       "      <td>3.401559</td>\n",
       "      <td>3.123782</td>\n",
       "    </tr>\n",
       "    <tr>\n",
       "      <td>50</td>\n",
       "      <td>4.049808</td>\n",
       "      <td>3.330386</td>\n",
       "      <td>3.101385</td>\n",
       "    </tr>\n",
       "    <tr>\n",
       "      <td>60</td>\n",
       "      <td>4.114654</td>\n",
       "      <td>3.409018</td>\n",
       "      <td>3.185829</td>\n",
       "    </tr>\n",
       "    <tr>\n",
       "      <td>70</td>\n",
       "      <td>4.121482</td>\n",
       "      <td>3.412491</td>\n",
       "      <td>3.258751</td>\n",
       "    </tr>\n",
       "    <tr>\n",
       "      <td>80</td>\n",
       "      <td>4.301402</td>\n",
       "      <td>3.350467</td>\n",
       "      <td>3.168224</td>\n",
       "    </tr>\n",
       "  </tbody>\n",
       "</table>\n",
       "</div>"
      ],
      "text/plain": [
       "         EaseofUse  Effectiveness  Satisfaction\n",
       "Age_map                                        \n",
       "5         1.750000       1.750000      1.500000\n",
       "10        4.500000       4.000000      5.000000\n",
       "15        4.106383       3.680851      3.468085\n",
       "20        4.191617       3.592814      3.365269\n",
       "30        3.996587       3.234642      2.942833\n",
       "40        4.046296       3.401559      3.123782\n",
       "50        4.049808       3.330386      3.101385\n",
       "60        4.114654       3.409018      3.185829\n",
       "70        4.121482       3.412491      3.258751\n",
       "80        4.301402       3.350467      3.168224"
      ]
     },
     "execution_count": 33,
     "metadata": {},
     "output_type": "execute_result"
    }
   ],
   "source": [
    "df_mean=df.groupby('Age_map').mean()\n",
    "df_mean"
   ]
  },
  {
   "cell_type": "code",
   "execution_count": 34,
   "metadata": {},
   "outputs": [
    {
     "data": {
      "text/plain": [
       "<matplotlib.legend.Legend at 0x24c817f3e08>"
      ]
     },
     "execution_count": 34,
     "metadata": {},
     "output_type": "execute_result"
    },
    {
     "data": {
      "text/plain": [
       "<Figure size 480x400 with 0 Axes>"
      ]
     },
     "metadata": {},
     "output_type": "display_data"
    },
    {
     "data": {
      "image/png": "[encoded data removed]",
      "text/plain": [
       "<Figure size 432x288 with 1 Axes>"
      ]
     },
     "metadata": {
      "needs_background": "light"
     },
     "output_type": "display_data"
    }
   ],
   "source": [
    "plt.figure(figsize=(6,5), dpi= 80)\n",
    "df_mean.plot(style='o')\n",
    "# Plot formatting\n",
    "plt.xlabel('Age')\n",
    "plt.ylabel('mean value')\n",
    "plt.xlim(0,90)\n",
    "plt.ylim(0,5)\n",
    "plt.title('Comparison of mean value')\n",
    "plt.legend(loc='lower right')"
   ]
  },
  {
   "cell_type": "markdown",
   "metadata": {},
   "source": [
    "Let's estimate the mean difference beween effectiveness and satisfaction means of population using bootstraping."
   ]
  },
  {
   "cell_type": "code",
   "execution_count": 47,
   "metadata": {},
   "outputs": [],
   "source": [
    "#function for bootstrap sampling\n",
    "def bootstrap_replicate (data,func):\n",
    "    bs_sample = np.random.choice(data, len(data))\n",
    "    return func(bs_sample)\n",
    "    \n",
    "#function for bootstarap replicates\n",
    "def draw_bs_reps(data, func, size=10000):\n",
    "    \"\"\"Draw bootstrap replicates.\"\"\"\n",
    "\n",
    "    # Initialize array of replicates: bs_replicates\n",
    "    bs_replicates = np.empty(size)\n",
    "    # Generate replicates\n",
    "    for i in range(size):\n",
    "        bs_replicates[i] = bootstrap_replicate(data,func)\n",
    "    return bs_replicates"
   ]
  },
  {
   "cell_type": "code",
   "execution_count": 52,
   "metadata": {},
   "outputs": [
    {
     "name": "stdout",
     "output_type": "stream",
     "text": [
      "difference of means = 0.23066666666666658\n",
      "95% confidence interval = [0.19316667 0.26758542]\n"
     ]
    }
   ],
   "source": [
    "# Making aliases\n",
    "effectiveness = np.array(df['Effectiveness'])\n",
    "satisfaction = np.array(df['Satisfaction'])\n",
    "\n",
    "# Computing confidence intervals\n",
    "# Compute the observed difference of the sample means: mean_diff\n",
    "mean_diff = np.mean(effectiveness) - np.mean(satisfaction)\n",
    "\n",
    "# Get bootstrap replicates of means\n",
    "bs_replicates_effectiveness = draw_bs_reps(effectiveness, np.mean, size=100000)\n",
    "bs_replicates_satisfaction = draw_bs_reps(satisfaction, np.mean, size=100000)\n",
    "\n",
    "# Compute samples of difference of means: bs_diff_replicates\n",
    "bs_diff_replicates = bs_replicates_effectiveness - bs_replicates_satisfaction\n",
    "\n",
    "# Compute 95% confidence interval: conf_int\n",
    "conf_int = np.percentile(bs_diff_replicates, [2.5, 97.5])\n",
    "\n",
    "# Print the results\n",
    "print('difference of means =', mean_diff)\n",
    "print('95% confidence interval =', conf_int)"
   ]
  },
  {
   "cell_type": "markdown",
   "metadata": {},
   "source": [
    "The difference of means is 0.231, and our 95% confidence interval is 0.1932 and 0.2676. Since we get a range of values for the specified confidence interval, there is a specified probability that the value of a parameter lies within this range. "
   ]
  },
  {
   "cell_type": "markdown",
   "metadata": {},
   "source": [
    "#### Correlation using heatmap"
   ]
  },
  {
   "cell_type": "markdown",
   "metadata": {},
   "source": [
    "A good way to quickly check correlations among features is by visualizing the correlation matrix as a heatmap using heatmap function of seaborn. "
   ]
  },
  {
   "cell_type": "markdown",
   "metadata": {},
   "source": [
    "We can note that the effectiveness and satisfaction showed very strong positive correlation with correlation value of 0.83 compared to EaseofUse and Satisfaction of correlation 0.54. "
   ]
  },
  {
   "cell_type": "code",
   "execution_count": 45,
   "metadata": {},
   "outputs": [
    {
     "data": {
      "text/html": [
       "<div>\n",
       "<style scoped>\n",
       "    .dataframe tbody tr th:only-of-type {\n",
       "        vertical-align: middle;\n",
       "    }\n",
       "\n",
       "    .dataframe tbody tr th {\n",
       "        vertical-align: top;\n",
       "    }\n",
       "\n",
       "    .dataframe thead th {\n",
       "        text-align: right;\n",
       "    }\n",
       "</style>\n",
       "<table border=\"1\" class=\"dataframe\">\n",
       "  <thead>\n",
       "    <tr style=\"text-align: right;\">\n",
       "      <th></th>\n",
       "      <th>EaseofUse</th>\n",
       "      <th>Effectiveness</th>\n",
       "      <th>Satisfaction</th>\n",
       "      <th>Age_map</th>\n",
       "    </tr>\n",
       "  </thead>\n",
       "  <tbody>\n",
       "    <tr>\n",
       "      <td>EaseofUse</td>\n",
       "      <td>1.522775</td>\n",
       "      <td>0.907094</td>\n",
       "      <td>1.038513</td>\n",
       "      <td>0.613642</td>\n",
       "    </tr>\n",
       "    <tr>\n",
       "      <td>Effectiveness</td>\n",
       "      <td>0.907094</td>\n",
       "      <td>1.981636</td>\n",
       "      <td>1.808782</td>\n",
       "      <td>0.202298</td>\n",
       "    </tr>\n",
       "    <tr>\n",
       "      <td>Satisfaction</td>\n",
       "      <td>1.038513</td>\n",
       "      <td>1.808782</td>\n",
       "      <td>2.401451</td>\n",
       "      <td>0.639402</td>\n",
       "    </tr>\n",
       "    <tr>\n",
       "      <td>Age_map</td>\n",
       "      <td>0.613642</td>\n",
       "      <td>0.202298</td>\n",
       "      <td>0.639402</td>\n",
       "      <td>192.475739</td>\n",
       "    </tr>\n",
       "  </tbody>\n",
       "</table>\n",
       "</div>"
      ],
      "text/plain": [
       "               EaseofUse  Effectiveness  Satisfaction     Age_map\n",
       "EaseofUse       1.522775       0.907094      1.038513    0.613642\n",
       "Effectiveness   0.907094       1.981636      1.808782    0.202298\n",
       "Satisfaction    1.038513       1.808782      2.401451    0.639402\n",
       "Age_map         0.613642       0.202298      0.639402  192.475739"
      ]
     },
     "execution_count": 45,
     "metadata": {},
     "output_type": "execute_result"
    }
   ],
   "source": [
    "df_cov=df.cov()\n",
    "df_cov"
   ]
  },
  {
   "cell_type": "code",
   "execution_count": 40,
   "metadata": {},
   "outputs": [
    {
     "data": {
      "text/html": [
       "<div>\n",
       "<style scoped>\n",
       "    .dataframe tbody tr th:only-of-type {\n",
       "        vertical-align: middle;\n",
       "    }\n",
       "\n",
       "    .dataframe tbody tr th {\n",
       "        vertical-align: top;\n",
       "    }\n",
       "\n",
       "    .dataframe thead th {\n",
       "        text-align: right;\n",
       "    }\n",
       "</style>\n",
       "<table border=\"1\" class=\"dataframe\">\n",
       "  <thead>\n",
       "    <tr style=\"text-align: right;\">\n",
       "      <th></th>\n",
       "      <th>EaseofUse</th>\n",
       "      <th>Effectiveness</th>\n",
       "      <th>Satisfaction</th>\n",
       "      <th>Age_map</th>\n",
       "    </tr>\n",
       "  </thead>\n",
       "  <tbody>\n",
       "    <tr>\n",
       "      <td>EaseofUse</td>\n",
       "      <td>1.000000</td>\n",
       "      <td>0.522183</td>\n",
       "      <td>0.543072</td>\n",
       "      <td>0.035843</td>\n",
       "    </tr>\n",
       "    <tr>\n",
       "      <td>Effectiveness</td>\n",
       "      <td>0.522183</td>\n",
       "      <td>1.000000</td>\n",
       "      <td>0.829158</td>\n",
       "      <td>0.010358</td>\n",
       "    </tr>\n",
       "    <tr>\n",
       "      <td>Satisfaction</td>\n",
       "      <td>0.543072</td>\n",
       "      <td>0.829158</td>\n",
       "      <td>1.000000</td>\n",
       "      <td>0.029741</td>\n",
       "    </tr>\n",
       "    <tr>\n",
       "      <td>Age_map</td>\n",
       "      <td>0.035843</td>\n",
       "      <td>0.010358</td>\n",
       "      <td>0.029741</td>\n",
       "      <td>1.000000</td>\n",
       "    </tr>\n",
       "  </tbody>\n",
       "</table>\n",
       "</div>"
      ],
      "text/plain": [
       "               EaseofUse  Effectiveness  Satisfaction   Age_map\n",
       "EaseofUse       1.000000       0.522183      0.543072  0.035843\n",
       "Effectiveness   0.522183       1.000000      0.829158  0.010358\n",
       "Satisfaction    0.543072       0.829158      1.000000  0.029741\n",
       "Age_map         0.035843       0.010358      0.029741  1.000000"
      ]
     },
     "execution_count": 40,
     "metadata": {},
     "output_type": "execute_result"
    }
   ],
   "source": [
    "#df=df.drop('Age_map', axis=1)\n",
    "df_cor=df.corr()\n",
    "df_cor"
   ]
  },
  {
   "cell_type": "code",
   "execution_count": 46,
   "metadata": {},
   "outputs": [
    {
     "name": "stdout",
     "output_type": "stream",
     "text": [
      "0.23.1\n"
     ]
    }
   ],
   "source": [
    "# check scikit-learn version\n",
    "import sklearn\n",
    "print(sklearn.__version__)"
   ]
  },
  {
   "cell_type": "code",
   "execution_count": 41,
   "metadata": {},
   "outputs": [
    {
     "data": {
      "image/png": "[encoded data removed]",
      "text/plain": [
       "<Figure size 480x400 with 2 Axes>"
      ]
     },
     "metadata": {
      "needs_background": "light"
     },
     "output_type": "display_data"
    }
   ],
   "source": [
    "#graphical representation of corellation\n",
    "plt.figure(figsize=(6,5), dpi= 80)\n",
    "hm=sns.heatmap(df_cor, annot=True,center = 0,cmap='RdBu_r', cbar=True)\n",
    "plt.title('Heatmap of Correlation Matrix')\n",
    "plt.tight_layout()\n"
   ]
  },
  {
   "cell_type": "markdown",
   "metadata": {},
   "source": [
    "### 3.2 Hypotheisis formulation"
   ]
  },
  {
   "cell_type": "markdown",
   "metadata": {},
   "source": [
    "From the correlation analysis we noted that the correlation between effectiveness and satisfaction very strong positive correlation with correlation value of 0.83. Hence, it is fair to ask that does Effectivness has an impact on Satisfaction or are both correlated? "
   ]
  },
  {
   "cell_type": "markdown",
   "metadata": {},
   "source": [
    "#### Impact of Effectiveness and Satisfaction\n",
    "\n",
    "Paired sampled t-test :- The paired sample t-test is also called dependent sample t-test. It’s an uni variate test that tests for a significant difference between 2 related variables.\n",
    "\n",
    "Hypothesis Testing:  Is there significant difference between the patients response towards Effectiveness and Satisfaction?\n",
    "\n",
    "\n",
    "##### Null  Hypothesis: \n",
    "\\begin{array}{c}\n",
    "H_0: \\rho_{Effectiveness} = \\rho_{Satisfaction}\n",
    "\\end{array}\n",
    "\n",
    "The null hypothesis would be that there is no difference in patients response of Effectiveness and Satisfaction:\n",
    "\n",
    "##### Alternate Hypothesis:  \n",
    "\\begin{array}{c}\n",
    "H_A: \\rho_{Effectiveness} \\neq \\rho_{Satisfaction}\n",
    "\\end{array}\n",
    "\n",
    "\n",
    "The alternative hypothesis would be that there is a difference in patients response of Effectiveness and Satisfaction.\n",
    "\n",
    "In oder to test this hypothesis, we conducted t-test using ttest_ind()"
   ]
  },
  {
   "cell_type": "code",
   "execution_count": 63,
   "metadata": {},
   "outputs": [
    {
     "name": "stdout",
     "output_type": "stream",
     "text": [
      "stat=378.746, p=0.000\n",
      "fail to accept the null hypothesis\n"
     ]
    }
   ],
   "source": [
    "from scipy.stats import ttest_ind\n",
    "from scipy import stats\n",
    "ttest,pval = stats.ttest_ind(df['Effectiveness'], df['Satisfaction'])\n",
    "print('stat=%.3f, p=%.3f' % (ttest,pval))\n",
    "if pval < 0.05:\n",
    "    print(\"fail to accept the null hypothesis\")\n",
    "else:\n",
    "    print(\"accept null hypothesis\")"
   ]
  },
  {
   "cell_type": "markdown",
   "metadata": {},
   "source": [
    "The p-value = 0 means that we could not see a single value that is similar or higher than the observed correlation, which goes against our Null Hypothesis (Ho)."
   ]
  },
  {
   "cell_type": "markdown",
   "metadata": {},
   "source": [
    "#### Impact of Age and Satisfaction\n"
   ]
  },
  {
   "cell_type": "markdown",
   "metadata": {},
   "source": [
    "Hypothesis Testing:  Is there significant difference between the Satisfaction level the patients based on the age?\n",
    "\n",
    "\n",
    "##### Null  Hypothesis: \n",
    "\\begin{array}{c}\n",
    "H_0: \\rho_{Age} = \\rho_{Satisfaction}\n",
    "\\end{array}\n",
    "\n",
    "The null hypothesis would be that there is no difference in Satisfaction level the patients based on the age:\n",
    "\n",
    "##### Alternate Hypothesis:  \n",
    "\\begin{array}{c}\n",
    "H_A: \\rho_{Age} \\neq \\rho_{Satisfaction}\n",
    "\\end{array}\n",
    "\n",
    "\n",
    "The alternative hypothesis would be that there is a difference in Satisfaction level the patients based on the age.\n"
   ]
  },
  {
   "cell_type": "code",
   "execution_count": 67,
   "metadata": {},
   "outputs": [
    {
     "name": "stdout",
     "output_type": "stream",
     "text": [
      "stat=378.746, p=0.000\n",
      "fail to accept the null hypothesis\n"
     ]
    }
   ],
   "source": [
    "ttest,pval = stats.ttest_ind(df['Age_map'], df['Satisfaction'])\n",
    "print('stat=%.3f, p=%.3f' % (ttest,pval))\n",
    "if pval < 0.05:\n",
    "    print(\"fail to accept the null hypothesis\")\n",
    "else:\n",
    "    print(\"accept null hypothesis\")"
   ]
  },
  {
   "cell_type": "markdown",
   "metadata": {},
   "source": [
    "The p-value = 0 means that we could not see a single value that is similar or higher than the observed correlation, which goes against our Null Hypothesis (Ho)."
   ]
  },
  {
   "cell_type": "code",
   "execution_count": null,
   "metadata": {},
   "outputs": [],
   "source": []
  },
  {
   "cell_type": "code",
   "execution_count": null,
   "metadata": {},
   "outputs": [],
   "source": []
  },
  {
   "cell_type": "code",
   "execution_count": null,
   "metadata": {},
   "outputs": [],
   "source": []
  }
 ],
 "metadata": {
  "kernelspec": {
   "display_name": "Python 3",
   "language": "python",
   "name": "python3"
  },
  "language_info": {
   "codemirror_mode": {
    "name": "ipython",
    "version": 3
   },
   "file_extension": ".py",
   "mimetype": "text/x-python",
   "name": "python",
   "nbconvert_exporter": "python",
   "pygments_lexer": "ipython3",
   "version": "3.7.4"
  }
 },
 "nbformat": 4,
 "nbformat_minor": 2
}
