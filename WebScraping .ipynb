{
 "cells": [
  {
   "cell_type": "code",
   "execution_count": 1,
   "metadata": {},
   "outputs": [],
   "source": [
    "import requests\n",
    "from bs4 import BeautifulSoup\n"
   ]
  },
  {
   "cell_type": "code",
   "execution_count": 2,
   "metadata": {},
   "outputs": [],
   "source": [
    "source = requests.get('https://www.webmd.com/drugs/drugreview-4398-tramadol-oral.aspx?drugid=4398&drugname=tramadol-oral').text"
   ]
  },
  {
   "cell_type": "code",
   "execution_count": 3,
   "metadata": {},
   "outputs": [],
   "source": [
    "soup=BeautifulSoup(source, 'lxml')"
   ]
  },
  {
   "cell_type": "code",
   "execution_count": 4,
   "metadata": {},
   "outputs": [],
   "source": [
    "user=soup.find('div', class_='userPost')"
   ]
  },
  {
   "cell_type": "code",
   "execution_count": 5,
   "metadata": {},
   "outputs": [],
   "source": [
    "Condition=user.find('div', class_='conditionInfo').text"
   ]
  },
  {
   "cell_type": "code",
   "execution_count": 6,
   "metadata": {},
   "outputs": [
    {
     "name": "stdout",
     "output_type": "stream",
     "text": [
      "\r\n",
      "\t\t\t\t\tCondition: Pain\n"
     ]
    }
   ],
   "source": [
    "print(Condition)"
   ]
  },
  {
   "cell_type": "code",
   "execution_count": 7,
   "metadata": {},
   "outputs": [],
   "source": [
    "Date=soup.find('div', class_='date').text"
   ]
  },
  {
   "cell_type": "code",
   "execution_count": 8,
   "metadata": {},
   "outputs": [
    {
     "name": "stdout",
     "output_type": "stream",
     "text": [
      "4/23/2020 6:34:30 AM\n"
     ]
    }
   ],
   "source": [
    "print(Date)"
   ]
  },
  {
   "cell_type": "code",
   "execution_count": 9,
   "metadata": {},
   "outputs": [],
   "source": [
    "user_detail=user.p.text"
   ]
  },
  {
   "cell_type": "code",
   "execution_count": 10,
   "metadata": {},
   "outputs": [],
   "source": [
    "Age=user_detail.split(' ')[1]"
   ]
  },
  {
   "cell_type": "code",
   "execution_count": 11,
   "metadata": {},
   "outputs": [
    {
     "name": "stdout",
     "output_type": "stream",
     "text": [
      "\n"
     ]
    }
   ],
   "source": [
    "print(Age)"
   ]
  },
  {
   "cell_type": "code",
   "execution_count": 12,
   "metadata": {},
   "outputs": [],
   "source": [
    "Sex=user_detail.split(' ')[2]"
   ]
  },
  {
   "cell_type": "code",
   "execution_count": 13,
   "metadata": {},
   "outputs": [
    {
     "name": "stdout",
     "output_type": "stream",
     "text": [
      "(Patient)\n"
     ]
    }
   ],
   "source": [
    "print(Sex)"
   ]
  },
  {
   "cell_type": "code",
   "execution_count": 41,
   "metadata": {},
   "outputs": [],
   "source": [
    "Rev=user.find('div', id='ctnStars')"
   ]
  },
  {
   "cell_type": "code",
   "execution_count": 49,
   "metadata": {},
   "outputs": [],
   "source": [
    "Eff=Rev.find('div', class_='catRatings firstEl clearfix').p.text"
   ]
  },
  {
   "cell_type": "code",
   "execution_count": 47,
   "metadata": {},
   "outputs": [
    {
     "data": {
      "text/plain": [
       "'Effectiveness'"
      ]
     },
     "execution_count": 47,
     "metadata": {},
     "output_type": "execute_result"
    }
   ],
   "source": [
    "Eff"
   ]
  },
  {
   "cell_type": "code",
   "execution_count": null,
   "metadata": {},
   "outputs": [],
   "source": []
  },
  {
   "cell_type": "code",
   "execution_count": 51,
   "metadata": {},
   "outputs": [
    {
     "ename": "TypeError",
     "evalue": "find() takes no keyword arguments",
     "output_type": "error",
     "traceback": [
      "\u001b[1;31m---------------------------------------------------------------------------\u001b[0m",
      "\u001b[1;31mTypeError\u001b[0m                                 Traceback (most recent call last)",
      "\u001b[1;32m<ipython-input-51-123d28aae661>\u001b[0m in \u001b[0;36m<module>\u001b[1;34m\u001b[0m\n\u001b[1;32m----> 1\u001b[1;33m \u001b[0mEffecs\u001b[0m\u001b[1;33m=\u001b[0m\u001b[0mEff\u001b[0m\u001b[1;33m.\u001b[0m\u001b[0mfind\u001b[0m\u001b[1;33m(\u001b[0m\u001b[1;34m'p'\u001b[0m\u001b[1;33m,\u001b[0m \u001b[0mclass_\u001b[0m\u001b[1;33m=\u001b[0m\u001b[1;34m'inlineRating starRating'\u001b[0m\u001b[1;33m)\u001b[0m\u001b[1;33m.\u001b[0m\u001b[0mspan\u001b[0m\u001b[1;33m.\u001b[0m\u001b[0mtext\u001b[0m\u001b[1;33m\u001b[0m\u001b[1;33m\u001b[0m\u001b[0m\n\u001b[0m",
      "\u001b[1;31mTypeError\u001b[0m: find() takes no keyword arguments"
     ]
    }
   ],
   "source": [
    "Effecs=Eff.find('p', class_='inlineRating starRating').span.text"
   ]
  },
  {
   "cell_type": "code",
   "execution_count": null,
   "metadata": {},
   "outputs": [],
   "source": [
    "print(Effectiveness[-1])"
   ]
  },
  {
   "cell_type": "code",
   "execution_count": 19,
   "metadata": {},
   "outputs": [],
   "source": [
    "Ease=Rev.find('div', class_='catRatings clearfix')"
   ]
  },
  {
   "cell_type": "code",
   "execution_count": 20,
   "metadata": {},
   "outputs": [],
   "source": [
    "Ease=Ease.find(class_='category').text"
   ]
  },
  {
   "cell_type": "code",
   "execution_count": 21,
   "metadata": {},
   "outputs": [
    {
     "name": "stdout",
     "output_type": "stream",
     "text": [
      "Ease of Use\n"
     ]
    }
   ],
   "source": [
    "print(Ease)"
   ]
  },
  {
   "cell_type": "code",
   "execution_count": 23,
   "metadata": {},
   "outputs": [
    {
     "ename": "TypeError",
     "evalue": "find() takes no keyword arguments",
     "output_type": "error",
     "traceback": [
      "\u001b[1;31m---------------------------------------------------------------------------\u001b[0m",
      "\u001b[1;31mTypeError\u001b[0m                                 Traceback (most recent call last)",
      "\u001b[1;32m<ipython-input-23-3df83ab2a108>\u001b[0m in \u001b[0;36m<module>\u001b[1;34m\u001b[0m\n\u001b[1;32m----> 1\u001b[1;33m \u001b[0mEsrat\u001b[0m\u001b[1;33m=\u001b[0m\u001b[0mEase\u001b[0m\u001b[1;33m.\u001b[0m\u001b[0mfind\u001b[0m\u001b[1;33m(\u001b[0m\u001b[0mclass_\u001b[0m\u001b[1;33m=\u001b[0m\u001b[1;34m'inlineRating starRating'\u001b[0m\u001b[1;33m)\u001b[0m\u001b[1;33m.\u001b[0m\u001b[0mtext\u001b[0m\u001b[1;33m\u001b[0m\u001b[1;33m\u001b[0m\u001b[0m\n\u001b[0m",
      "\u001b[1;31mTypeError\u001b[0m: find() takes no keyword arguments"
     ]
    }
   ],
   "source": [
    "Esrat=Ease.find(class_='inlineRating starRating').text"
   ]
  },
  {
   "cell_type": "code",
   "execution_count": null,
   "metadata": {},
   "outputs": [],
   "source": [
    "print(Ease + ' ' + Esrat[-1])"
   ]
  },
  {
   "cell_type": "code",
   "execution_count": null,
   "metadata": {},
   "outputs": [],
   "source": [
    "Sat=Rev.find('div', class_='catRatings lastEl clearfix')"
   ]
  },
  {
   "cell_type": "code",
   "execution_count": null,
   "metadata": {},
   "outputs": [],
   "source": [
    "Sat1=Sat.find(class_='category').text"
   ]
  },
  {
   "cell_type": "code",
   "execution_count": null,
   "metadata": {},
   "outputs": [],
   "source": [
    "print(Sat1)"
   ]
  },
  {
   "cell_type": "code",
   "execution_count": null,
   "metadata": {},
   "outputs": [],
   "source": [
    "Sarat=Sat.find(class_='inlineRating starRating').text"
   ]
  },
  {
   "cell_type": "code",
   "execution_count": null,
   "metadata": {},
   "outputs": [],
   "source": [
    "print(Sarat[-1])"
   ]
  },
  {
   "cell_type": "code",
   "execution_count": null,
   "metadata": {},
   "outputs": [],
   "source": [
    "Review=user.find('p', class_='comment', id='comTrunc1').text[9:]"
   ]
  },
  {
   "cell_type": "code",
   "execution_count": null,
   "metadata": {},
   "outputs": [],
   "source": [
    "print(Review)"
   ]
  },
  {
   "cell_type": "code",
   "execution_count": null,
   "metadata": {},
   "outputs": [],
   "source": [
    "Count=user.find('div', class_='actionLinks clearfix')"
   ]
  },
  {
   "cell_type": "code",
   "execution_count": null,
   "metadata": {},
   "outputs": [],
   "source": [
    "Count=Count.find('p', class_='helpful').text[0]"
   ]
  },
  {
   "cell_type": "code",
   "execution_count": null,
   "metadata": {},
   "outputs": [],
   "source": [
    "print(Count)"
   ]
  },
  {
   "cell_type": "code",
   "execution_count": null,
   "metadata": {},
   "outputs": [],
   "source": [
    "for user in soup.find_all('div', class_='userPost'):\n",
    "    for Condition in user.find('div', class_='conditionInfo').text:\n",
    "        print(Condition)\n",
    "    for Date in user.find('div', class_='date').text:\n",
    "        print(Date)\n",
    "    try:\n",
    "        for user_detail in user.p.text:\n",
    "            Age=user_detail.split(' ')[1]\n",
    "    except Exception as e:\n",
    "            Age=' '\n",
    "        print(Age)\n",
    "        try:\n",
    "            Sex=user_detail.split(' ')[2]\n",
    "        except Exception as e:\n",
    "            Sex=' '\n",
    "        print(Sex)\n",
    "    for Rev in user.find_all('div', id='ctnStars'):\n",
    "        for Eff in Rev.find('div', class_='catRatings firstEl clearfix'):\n",
    "            Effectiveness=Eff.find(class_='category').text\n",
    "            Efrat=Effectiveness.find(class_='inlineRating starRating').text\n",
    "            print(Eff1 + ' ' + Efrat[-1])\n",
    "        for Ease in Rev.find('div', class_='catRatings clearfix'):\n",
    "            Ease=Ease.find(class_='category').text\n",
    "            Esrat=Ease.find(class_='inlineRating starRating').text\n",
    "            print(Ease + ' ' + Esrat[-1])\n",
    "        for Sat in Rev.find('div', class_='catRatings lastEl clearfix'):\n",
    "            Sat=Sat.find(class_='category').text\n",
    "            Sarat=Sat.find(class_='inlineRating starRating').text\n",
    "            print(Sat + ' ' + Sasrat[-1])\n",
    "    for Review in user.find('p', class_='comment', id='comTrunc1').text[9:]:\n",
    "        print(Review)\n",
    "    for Count in user.find('div', class_='actionLinks clearfix'):\n",
    "        try:\n",
    "            Count=Count.find('p', class_='helpful').text[0]\n",
    "        except Exception as e:\n",
    "            Count=0\n",
    "        print(Count)\n",
    "print()"
   ]
  },
  {
   "cell_type": "code",
   "execution_count": null,
   "metadata": {},
   "outputs": [],
   "source": [
    "for user in soup.find_all('div', class_='userPost'):\n",
    "    Condition = user.find('div', class_='conditionInfo').text\n",
    "    print(Condition)\n",
    "    Date = user.find('div', class_='date').text\n",
    "    print(Date)\n",
    "    user_detail=user.p.text\n",
    "    try:\n",
    "        Age=user_detail.split(' ')[1]\n",
    "    except Exception as e:\n",
    "        Age=' '\n",
    "    print(Age)\n",
    "    try:\n",
    "        Sex=user_detail.split(' ')[2]\n",
    "    except Exception as e:\n",
    "        Sex=' '\n",
    "    print(Sex)\n",
    "    Rev = user.find('div', id='ctnStars')\n",
    "    Eff = Rev.find('div', class_='catRatings firstEl clearfix')\n",
    "    Eff = Eff.find(class_='category').text\n",
    "    Effectiveness=Eff.find(class_='inlineRating starRating').text\n",
    "    print(Effectiveness[-1])\n",
    "    Ease = Rev.find('div', class_='catRatings clearfix')\n",
    "    Ease=Ease.find(class_='category').text\n",
    "    Esrat=Ease.find(class_='inlineRating starRating').text\n",
    "    print(Esrat[-1])\n",
    "    Sat = Rev.find('div', class_='catRatings lastEl clearfix')\n",
    "    Sat=Sat.find(class_='category').text\n",
    "    Sarat=Sat.find(class_='inlineRating starRating').text\n",
    "    print(Sasrat[-1])\n",
    "    Review = user.find('p', class_='comment', id='comTrunc1').text[9:]\n",
    "    print(Review)\n",
    "    Count = user.find('div', class_='actionLinks clearfix')\n",
    "    try:\n",
    "        Count=Count.find('p', class_='helpful').text[0]\n",
    "    except Exception as e:\n",
    "        Count=0\n",
    "    print(Count)\n",
    "print()"
   ]
  },
  {
   "cell_type": "code",
   "execution_count": 25,
   "metadata": {},
   "outputs": [
    {
     "name": "stdout",
     "output_type": "stream",
     "text": [
      "\r\n",
      "\t\t\t\t\tCondition: Pain\n",
      "4/23/2020 6:34:30 AM\n",
      "\n",
      "(Patient)\n"
     ]
    },
    {
     "ename": "TypeError",
     "evalue": "find() takes no keyword arguments",
     "output_type": "error",
     "traceback": [
      "\u001b[1;31m---------------------------------------------------------------------------\u001b[0m",
      "\u001b[1;31mTypeError\u001b[0m                                 Traceback (most recent call last)",
      "\u001b[1;32m<ipython-input-25-5bcbe52d6840>\u001b[0m in \u001b[0;36m<module>\u001b[1;34m\u001b[0m\n\u001b[0;32m     18\u001b[0m \u001b[0mEff\u001b[0m \u001b[1;33m=\u001b[0m \u001b[0mRev\u001b[0m\u001b[1;33m.\u001b[0m\u001b[0mfind\u001b[0m\u001b[1;33m(\u001b[0m\u001b[1;34m'div'\u001b[0m\u001b[1;33m,\u001b[0m \u001b[0mclass_\u001b[0m\u001b[1;33m=\u001b[0m\u001b[1;34m'catRatings firstEl clearfix'\u001b[0m\u001b[1;33m)\u001b[0m\u001b[1;33m\u001b[0m\u001b[1;33m\u001b[0m\u001b[0m\n\u001b[0;32m     19\u001b[0m \u001b[0mEff\u001b[0m \u001b[1;33m=\u001b[0m \u001b[0mEff\u001b[0m\u001b[1;33m.\u001b[0m\u001b[0mfind\u001b[0m\u001b[1;33m(\u001b[0m\u001b[0mclass_\u001b[0m\u001b[1;33m=\u001b[0m\u001b[1;34m'category'\u001b[0m\u001b[1;33m)\u001b[0m\u001b[1;33m.\u001b[0m\u001b[0mtext\u001b[0m\u001b[1;33m\u001b[0m\u001b[1;33m\u001b[0m\u001b[0m\n\u001b[1;32m---> 20\u001b[1;33m \u001b[0mEffectiveness\u001b[0m\u001b[1;33m=\u001b[0m\u001b[0mEff\u001b[0m\u001b[1;33m.\u001b[0m\u001b[0mfind\u001b[0m\u001b[1;33m(\u001b[0m\u001b[0mclass_\u001b[0m\u001b[1;33m=\u001b[0m\u001b[1;34m'inlineRating starRating'\u001b[0m\u001b[1;33m)\u001b[0m\u001b[1;33m.\u001b[0m\u001b[0mtext\u001b[0m\u001b[1;33m\u001b[0m\u001b[1;33m\u001b[0m\u001b[0m\n\u001b[0m\u001b[0;32m     21\u001b[0m \u001b[0mprint\u001b[0m\u001b[1;33m(\u001b[0m\u001b[0mEffectiveness\u001b[0m\u001b[1;33m[\u001b[0m\u001b[1;33m-\u001b[0m\u001b[1;36m1\u001b[0m\u001b[1;33m]\u001b[0m\u001b[1;33m)\u001b[0m\u001b[1;33m\u001b[0m\u001b[1;33m\u001b[0m\u001b[0m\n\u001b[0;32m     22\u001b[0m \u001b[0mEase\u001b[0m \u001b[1;33m=\u001b[0m \u001b[0mRev\u001b[0m\u001b[1;33m.\u001b[0m\u001b[0mfind\u001b[0m\u001b[1;33m(\u001b[0m\u001b[1;34m'div'\u001b[0m\u001b[1;33m,\u001b[0m \u001b[0mclass_\u001b[0m\u001b[1;33m=\u001b[0m\u001b[1;34m'catRatings clearfix'\u001b[0m\u001b[1;33m)\u001b[0m\u001b[1;33m\u001b[0m\u001b[1;33m\u001b[0m\u001b[0m\n",
      "\u001b[1;31mTypeError\u001b[0m: find() takes no keyword arguments"
     ]
    }
   ],
   "source": [
    "user = soup.find('div', class_='userPost')\n",
    "Condition = user.find('div', class_='conditionInfo').text\n",
    "print(Condition)\n",
    "Date = user.find('div', class_='date').text\n",
    "print(Date)\n",
    "user_detail=user.p.text\n",
    "try:\n",
    "    Age=user_detail.split(' ')[1]\n",
    "except Exception as e:\n",
    "    Age=' '\n",
    "print(Age)\n",
    "try:\n",
    "    Sex=user_detail.split(' ')[2]\n",
    "except Exception as e:\n",
    "    Sex=' '\n",
    "print(Sex)\n",
    "Rev = user.find('div', id='ctnStars')\n",
    "Eff = Rev.find('div', class_='catRatings firstEl clearfix')\n",
    "Eff = Eff.find(class_='category').text\n",
    "Effectiveness=Eff.find(class_='inlineRating starRating').text\n",
    "print(Effectiveness[-1])\n",
    "Ease = Rev.find('div', class_='catRatings clearfix')\n",
    "Ease=Ease.find(class_='category').text\n",
    "Esrat=Ease.find(class_='inlineRating starRating').text\n",
    "print(Esrat[-1])\n",
    "Sat = Rev.find('div', class_='catRatings lastEl clearfix')\n",
    "Sat=Sat.find(class_='category').text\n",
    "Sarat=Sat.find(class_='inlineRating starRating').text\n",
    "print(Sasrat[-1])\n",
    "Review = user.find('p', class_='comment', id='comTrunc1').text[9:]\n",
    "print(Review)\n",
    "Count = user.find('div', class_='actionLinks clearfix')\n",
    "try:\n",
    "    Count=Count.find('p', class_='helpful').text[0]\n",
    "except Exception as e:\n",
    "    Count=0\n",
    "print(Count)\n"
   ]
  },
  {
   "cell_type": "code",
   "execution_count": null,
   "metadata": {},
   "outputs": [],
   "source": []
  },
  {
   "cell_type": "code",
   "execution_count": null,
   "metadata": {},
   "outputs": [],
   "source": []
  },
  {
   "cell_type": "code",
   "execution_count": null,
   "metadata": {},
   "outputs": [],
   "source": []
  },
  {
   "cell_type": "code",
   "execution_count": null,
   "metadata": {},
   "outputs": [],
   "source": []
  },
  {
   "cell_type": "code",
   "execution_count": null,
   "metadata": {},
   "outputs": [],
   "source": [
    "\n"
   ]
  },
  {
   "cell_type": "code",
   "execution_count": null,
   "metadata": {},
   "outputs": [],
   "source": []
  },
  {
   "cell_type": "code",
   "execution_count": null,
   "metadata": {},
   "outputs": [],
   "source": []
  },
  {
   "cell_type": "code",
   "execution_count": null,
   "metadata": {},
   "outputs": [],
   "source": [
    "0\n",
    "3\n",
    "7\n",
    "13\n",
    "19\n",
    "25\n",
    "35\n",
    "45\n",
    "55\n",
    "65\n",
    "75"
   ]
  },
  {
   "cell_type": "code",
   "execution_count": 71,
   "metadata": {},
   "outputs": [],
   "source": [
    "import pandas as pd\n",
    "import numpy as np\n",
    "import seaborn as sns\n",
    "import matplotlib.pyplot as plt\n",
    "from sklearn.linear_model import LinearRegression\n",
    "%matplotlib inline"
   ]
  },
  {
   "cell_type": "code",
   "execution_count": 61,
   "metadata": {},
   "outputs": [],
   "source": [
    "data=pd.read_excel('original.xls')"
   ]
  },
  {
   "cell_type": "code",
   "execution_count": 69,
   "metadata": {},
   "outputs": [
    {
     "data": {
      "text/plain": [
       "3.0"
      ]
     },
     "execution_count": 69,
     "metadata": {},
     "output_type": "execute_result"
    }
   ],
   "source": [
    "getcontext().prec=1\n",
    "round(5.5/2.1, 0)"
   ]
  },
  {
   "cell_type": "code",
   "execution_count": null,
   "metadata": {},
   "outputs": [],
   "source": []
  },
  {
   "cell_type": "code",
   "execution_count": null,
   "metadata": {},
   "outputs": [],
   "source": []
  },
  {
   "cell_type": "code",
   "execution_count": null,
   "metadata": {},
   "outputs": [],
   "source": []
  },
  {
   "cell_type": "code",
   "execution_count": null,
   "metadata": {},
   "outputs": [],
   "source": []
  },
  {
   "cell_type": "code",
   "execution_count": null,
   "metadata": {},
   "outputs": [],
   "source": []
  },
  {
   "cell_type": "code",
   "execution_count": null,
   "metadata": {},
   "outputs": [],
   "source": []
  },
  {
   "cell_type": "code",
   "execution_count": null,
   "metadata": {},
   "outputs": [],
   "source": []
  },
  {
   "cell_type": "code",
   "execution_count": null,
   "metadata": {},
   "outputs": [],
   "source": []
  },
  {
   "cell_type": "code",
   "execution_count": null,
   "metadata": {},
   "outputs": [],
   "source": []
  },
  {
   "cell_type": "code",
   "execution_count": null,
   "metadata": {},
   "outputs": [],
   "source": []
  },
  {
   "cell_type": "code",
   "execution_count": null,
   "metadata": {},
   "outputs": [],
   "source": []
  }
 ],
 "metadata": {
  "kernelspec": {
   "display_name": "Python 3",
   "language": "python",
   "name": "python3"
  },
  "language_info": {
   "codemirror_mode": {
    "name": "ipython",
    "version": 3
   },
   "file_extension": ".py",
   "mimetype": "text/x-python",
   "name": "python",
   "nbconvert_exporter": "python",
   "pygments_lexer": "ipython3",
   "version": "3.7.4"
  }
 },
 "nbformat": 4,
 "nbformat_minor": 2
}
