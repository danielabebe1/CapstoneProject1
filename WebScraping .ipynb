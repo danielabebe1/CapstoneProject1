{
 "cells": [
  {
   "cell_type": "code",
   "execution_count": null,
   "metadata": {},
   "outputs": [],
   "source": [
    "import requests\n",
    "from bs4 import BeautifulSoup"
   ]
  },
  {
   "cell_type": "code",
   "execution_count": null,
   "metadata": {},
   "outputs": [],
   "source": [
    "source = requests.get('https://www.webmd.com/drugs/drugreview-4398-tramadol-oral.aspx?drugid=4398&drugname=tramadol-oral').text\n",
    "soup=BeautifulSoup(source, 'lxml')\n",
    "user=soup.find('div', class_='userPost')\n",
    "Condition=user.find('div', class_='conditionInfo').text\n",
    "print(Condition)"
   ]
  },
  {
   "cell_type": "code",
   "execution_count": null,
   "metadata": {},
   "outputs": [],
   "source": [
    "Date=soup.find('div', class_='date').text\n",
    "print(Date)\n",
    "user_detail=user.p.text\n",
    "Age=user_detail.split(' ')[1]\n",
    "print(Age)"
   ]
  },
  {
   "cell_type": "code",
   "execution_count": null,
   "metadata": {},
   "outputs": [],
   "source": [
    "Sex=user_detail.split(' ')[2]\n",
    "print(Sex)"
   ]
  },
  {
   "cell_type": "code",
   "execution_count": null,
   "metadata": {},
   "outputs": [],
   "source": [
    "Rev=user.find('div', id='ctnStars')\n",
    "Eff=Rev.find('div', class_='catRatings firstEl clearfix').p.text\n",
    "Effecs=Eff.find('p', class_='inlineRating starRating').span.text\n",
    "print(Effectiveness[-1])"
   ]
  },
  {
   "cell_type": "code",
   "execution_count": null,
   "metadata": {},
   "outputs": [],
   "source": [
    "Ease=Rev.find('div', class_='catRatings clearfix')\n",
    "Ease=Ease.find(class_='category').text\n",
    "Esrat=Ease.find(class_='inlineRating starRating').text\n",
    "print(Esrat[-1])"
   ]
  },
  {
   "cell_type": "code",
   "execution_count": null,
   "metadata": {},
   "outputs": [],
   "source": [
    "Sat=Rev.find('div', class_='catRatings lastEl clearfix')\n",
    "Sat1=Sat.find(class_='category').text\n",
    "Sarat=Sat.find(class_='inlineRating starRating').text\n",
    "print(Sarat[-1])"
   ]
  },
  {
   "cell_type": "code",
   "execution_count": null,
   "metadata": {},
   "outputs": [],
   "source": [
    "Review=user.find('p', class_='comment', id='comTrunc1').text[9:]\n",
    "print(Review)"
   ]
  },
  {
   "cell_type": "code",
   "execution_count": null,
   "metadata": {},
   "outputs": [],
   "source": [
    "Count=user.find('div', class_='actionLinks clearfix')\n",
    "Count=Count.find('p', class_='helpful').text[0]\n",
    "print(Count)"
   ]
  },
  {
   "cell_type": "markdown",
   "metadata": {},
   "source": [
    "After figuring out the exact location of the variables that I need, then I want to loop over all pages "
   ]
  },
  {
   "cell_type": "code",
   "execution_count": null,
   "metadata": {},
   "outputs": [],
   "source": [
    "for user in soup.find_all('div', class_='userPost'):\n",
    "    for Condition in user.find('div', class_='conditionInfo').text:\n",
    "        print(Condition)\n",
    "    for Date in user.find('div', class_='date').text:\n",
    "        print(Date)\n",
    "    try:\n",
    "        for user_detail in user.p.text:\n",
    "            Age=user_detail.split(' ')[1]\n",
    "    except Exception as e:\n",
    "            Age=' '\n",
    "        print(Age)\n",
    "        try:\n",
    "            Sex=user_detail.split(' ')[2]\n",
    "        except Exception as e:\n",
    "            Sex=' '\n",
    "        print(Sex)\n",
    "    for Rev in user.find_all('div', id='ctnStars'):\n",
    "        for Eff in Rev.find('div', class_='catRatings firstEl clearfix'):\n",
    "            Effectiveness=Eff.find(class_='category').text\n",
    "            Efrat=Effectiveness.find(class_='inlineRating starRating').text\n",
    "            print(Eff1 + ' ' + Efrat[-1])\n",
    "        for Ease in Rev.find('div', class_='catRatings clearfix'):\n",
    "            Ease=Ease.find(class_='category').text\n",
    "            Esrat=Ease.find(class_='inlineRating starRating').text\n",
    "            print(Ease + ' ' + Esrat[-1])\n",
    "        for Sat in Rev.find('div', class_='catRatings lastEl clearfix'):\n",
    "            Sat=Sat.find(class_='category').text\n",
    "            Sarat=Sat.find(class_='inlineRating starRating').text\n",
    "            print(Sat + ' ' + Sasrat[-1])\n",
    "    for Review in user.find('p', class_='comment', id='comTrunc1').text[9:]:\n",
    "        print(Review)\n",
    "    for Count in user.find('div', class_='actionLinks clearfix'):\n",
    "        try:\n",
    "            Count=Count.find('p', class_='helpful').text[0]\n",
    "        except Exception as e:\n",
    "            Count=0\n",
    "        print(Count)\n",
    "print()"
   ]
  },
  {
   "cell_type": "code",
   "execution_count": null,
   "metadata": {},
   "outputs": [],
   "source": []
  },
  {
   "cell_type": "code",
   "execution_count": null,
   "metadata": {},
   "outputs": [],
   "source": []
  },
  {
   "cell_type": "code",
   "execution_count": null,
   "metadata": {},
   "outputs": [],
   "source": [
    "for user in soup.find_all('div', class_='userPost'):\n",
    "    Condition = user.find('div', class_='conditionInfo').text\n",
    "    print(Condition)\n",
    "    Date = user.find('div', class_='date').text\n",
    "    print(Date)\n",
    "    user_detail=user.p.text\n",
    "    try:\n",
    "        Age=user_detail.split(' ')[1]\n",
    "    except Exception as e:\n",
    "        Age=' '\n",
    "    print(Age)\n",
    "    try:\n",
    "        Sex=user_detail.split(' ')[2]\n",
    "    except Exception as e:\n",
    "        Sex=' '\n",
    "    print(Sex)\n",
    "    Rev = user.find('div', id='ctnStars')\n",
    "    Eff = Rev.find('div', class_='catRatings firstEl clearfix')\n",
    "    Eff = Eff.find(class_='category').text\n",
    "    Effectiveness=Eff.find(class_='inlineRating starRating').text\n",
    "    print(Effectiveness[-1])\n",
    "    Ease = Rev.find('div', class_='catRatings clearfix')\n",
    "    Ease=Ease.find(class_='category').text\n",
    "    Esrat=Ease.find(class_='inlineRating starRating').text\n",
    "    print(Esrat[-1])\n",
    "    Sat = Rev.find('div', class_='catRatings lastEl clearfix')\n",
    "    Sat=Sat.find(class_='category').text\n",
    "    Sarat=Sat.find(class_='inlineRating starRating').text\n",
    "    print(Sasrat[-1])\n",
    "    Review = user.find('p', class_='comment', id='comTrunc1').text[9:]\n",
    "    print(Review)\n",
    "    Count = user.find('div', class_='actionLinks clearfix')\n",
    "    try:\n",
    "        Count=Count.find('p', class_='helpful').text[0]\n",
    "    except Exception as e:\n",
    "        Count=0\n",
    "    print(Count)\n",
    "print()"
   ]
  },
  {
   "cell_type": "code",
   "execution_count": null,
   "metadata": {},
   "outputs": [],
   "source": []
  },
  {
   "cell_type": "code",
   "execution_count": null,
   "metadata": {},
   "outputs": [],
   "source": []
  },
  {
   "cell_type": "code",
   "execution_count": null,
   "metadata": {},
   "outputs": [],
   "source": [
    "user = soup.find('div', class_='userPost')\n",
    "Condition = user.find('div', class_='conditionInfo').text\n",
    "print(Condition)\n",
    "Date = user.find('div', class_='date').text\n",
    "print(Date)\n",
    "user_detail=user.p.text\n",
    "try:\n",
    "    Age=user_detail.split(' ')[1]\n",
    "except Exception as e:\n",
    "    Age=' '\n",
    "print(Age)\n",
    "try:\n",
    "    Sex=user_detail.split(' ')[2]\n",
    "except Exception as e:\n",
    "    Sex=' '\n",
    "print(Sex)\n",
    "Rev = user.find('div', id='ctnStars')\n",
    "Eff = Rev.find('div', class_='catRatings firstEl clearfix')\n",
    "Eff = Eff.find(class_='category').text\n",
    "Effectiveness=Eff.find(class_='inlineRating starRating').text\n",
    "print(Effectiveness[-1])\n",
    "Ease = Rev.find('div', class_='catRatings clearfix')\n",
    "Ease=Ease.find(class_='category').text\n",
    "Esrat=Ease.find(class_='inlineRating starRating').text\n",
    "print(Esrat[-1])\n",
    "Sat = Rev.find('div', class_='catRatings lastEl clearfix')\n",
    "Sat=Sat.find(class_='category').text\n",
    "Sarat=Sat.find(class_='inlineRating starRating').text\n",
    "print(Sasrat[-1])\n",
    "Review = user.find('p', class_='comment', id='comTrunc1').text[9:]\n",
    "print(Review)\n",
    "Count = user.find('div', class_='actionLinks clearfix')\n",
    "try:\n",
    "    Count=Count.find('p', class_='helpful').text[0]\n",
    "except Exception as e:\n",
    "    Count=0\n",
    "print(Count)\n"
   ]
  },
  {
   "cell_type": "code",
   "execution_count": null,
   "metadata": {},
   "outputs": [],
   "source": []
  },
  {
   "cell_type": "code",
   "execution_count": null,
   "metadata": {},
   "outputs": [],
   "source": []
  },
  {
   "cell_type": "code",
   "execution_count": null,
   "metadata": {},
   "outputs": [],
   "source": []
  },
  {
   "cell_type": "code",
   "execution_count": null,
   "metadata": {},
   "outputs": [],
   "source": [
    "\n"
   ]
  },
  {
   "cell_type": "code",
   "execution_count": null,
   "metadata": {},
   "outputs": [],
   "source": []
  },
  {
   "cell_type": "code",
   "execution_count": null,
   "metadata": {},
   "outputs": [],
   "source": []
  },
  {
   "cell_type": "code",
   "execution_count": null,
   "metadata": {},
   "outputs": [],
   "source": [
    "0\n",
    "3\n",
    "7\n",
    "13\n",
    "19\n",
    "25\n",
    "35\n",
    "45\n",
    "55\n",
    "65\n",
    "75"
   ]
  },
  {
   "cell_type": "code",
   "execution_count": 71,
   "metadata": {},
   "outputs": [],
   "source": [
    "import pandas as pd\n",
    "import numpy as np\n",
    "import seaborn as sns\n",
    "import matplotlib.pyplot as plt\n",
    "from sklearn.linear_model import LinearRegression\n",
    "%matplotlib inline"
   ]
  },
  {
   "cell_type": "code",
   "execution_count": 61,
   "metadata": {},
   "outputs": [],
   "source": [
    "data=pd.read_excel('original.xls')"
   ]
  },
  {
   "cell_type": "code",
   "execution_count": 69,
   "metadata": {},
   "outputs": [
    {
     "data": {
      "text/plain": [
       "3.0"
      ]
     },
     "execution_count": 69,
     "metadata": {},
     "output_type": "execute_result"
    }
   ],
   "source": [
    "getcontext().prec=1\n",
    "round(5.5/2.1, 0)"
   ]
  },
  {
   "cell_type": "code",
   "execution_count": null,
   "metadata": {},
   "outputs": [],
   "source": []
  },
  {
   "cell_type": "code",
   "execution_count": null,
   "metadata": {},
   "outputs": [],
   "source": []
  },
  {
   "cell_type": "code",
   "execution_count": null,
   "metadata": {},
   "outputs": [],
   "source": []
  },
  {
   "cell_type": "code",
   "execution_count": null,
   "metadata": {},
   "outputs": [],
   "source": []
  },
  {
   "cell_type": "code",
   "execution_count": null,
   "metadata": {},
   "outputs": [],
   "source": []
  },
  {
   "cell_type": "code",
   "execution_count": null,
   "metadata": {},
   "outputs": [],
   "source": []
  },
  {
   "cell_type": "code",
   "execution_count": null,
   "metadata": {},
   "outputs": [],
   "source": []
  },
  {
   "cell_type": "code",
   "execution_count": null,
   "metadata": {},
   "outputs": [],
   "source": []
  },
  {
   "cell_type": "code",
   "execution_count": null,
   "metadata": {},
   "outputs": [],
   "source": []
  },
  {
   "cell_type": "code",
   "execution_count": null,
   "metadata": {},
   "outputs": [],
   "source": []
  },
  {
   "cell_type": "code",
   "execution_count": null,
   "metadata": {},
   "outputs": [],
   "source": []
  }
 ],
 "metadata": {
  "kernelspec": {
   "display_name": "Python 3",
   "language": "python",
   "name": "python3"
  },
  "language_info": {
   "codemirror_mode": {
    "name": "ipython",
    "version": 3
   },
   "file_extension": ".py",
   "mimetype": "text/x-python",
   "name": "python",
   "nbconvert_exporter": "python",
   "pygments_lexer": "ipython3",
   "version": "3.6.5"
  }
 },
 "nbformat": 4,
 "nbformat_minor": 2
}
