{
  "nbformat": 4,
  "nbformat_minor": 0,
  "metadata": {
    "kernelspec": {
      "display_name": "Python 3",
      "language": "python",
      "name": "python3"
    },
    "language_info": {
      "codemirror_mode": {
        "name": "ipython",
        "version": 3
      },
      "file_extension": ".py",
      "mimetype": "text/x-python",
      "name": "python",
      "nbconvert_exporter": "python",
      "pygments_lexer": "ipython3",
      "version": "3.7.7"
    },
    "colab": {
      "name": "Copy of Copy of Part-1.ipynb",
      "provenance": [],
      "collapsed_sections": [
        "1pBIPbSwnHjN",
        "8PK4hdDinSR4"
      ],
      "toc_visible": true,
      "machine_shape": "hm",
      "include_colab_link": true
    }
  },
  "cells": [
    {
      "cell_type": "markdown",
      "metadata": {
        "id": "view-in-github",
        "colab_type": "text"
      },
      "source": [
        "<a href=\"https://colab.research.google.com/github/danielabebe1/CapstoneProject1/blob/master/Copy_of_Copy_of_Part_1.ipynb\" target=\"_parent\"><img src=\"https://colab.research.google.com/assets/colab-badge.svg\" alt=\"Open In Colab\"/></a>"
      ]
    },
    {
      "cell_type": "markdown",
      "metadata": {
        "id": "ZNrWmOqjC_tU",
        "colab_type": "text"
      },
      "source": [
        "# Capstone Project I"
      ]
    },
    {
      "cell_type": "markdown",
      "metadata": {
        "id": "tur5lZpTDBwP",
        "colab_type": "text"
      },
      "source": [
        "## Predicting Pain Relievers "
      ]
    },
    {
      "cell_type": "markdown",
      "metadata": {
        "id": "WoouTxEiDRDf",
        "colab_type": "text"
      },
      "source": [
        "Both prescribed and non-prescribed use of pain relievers, as well as rates of opioid-related mortality and admissions to emergency departments, have increased in the last few years. There is no exact figure on how many people are affected by this problem but the number has increased according to ‘National Center for Biotechnology Information’. There are many different pain relievers, and each one has advantages and risks. Some types of pain respond better to certain medicines than others. Each person has a different response to a pain reliever for the same type of condition. This is mainly because the conditions that cause pain are very complicated, which is one of the reasons why pain management is so difficult. This difficulty decreases the quality of life of patients that, in many cases, can suffer from constant pain with little to no relief. General-purpose pain-relieving medication is often ineffective even the best painkiller like morphine can sometimes fail to inhibit pain in cancer patients. Painkillers are working by activating a receptor cell call REV_ERBs that sends chemical signals inside the cell to block the production of certain genes regulates pain-causing and inflammatory molecules inside the body. The goal of this project is to build a model that can predict painkiller selected conditions and for different age groups. \n",
        "The possible stakeholders of this project includes pharmaceutical companies, physicians and clinicians, insurance companies and patients. Knowing the consumers’ response for the product is crucial in many majors in addition to the available research and development in the field will help physicians and clinicians while subscribing to these drugs. Pharmaceutical companies and insurance companies will also identify their focus drugs for their consumers. \n",
        "The dataset used in this project was acquired from kaggle where uploaded on kaggle by scraping the WebMD site (https://www.kaggle.com/rohanharode07/webmd-drug-reviews-dataset). The dataset provides user reviews on specific drugs along with related conditions, side effects, age, sex, and ratings reflecting overall patient satisfaction. The dataset contains 12 features with mixed variables including categorical, numerical and date. There are above 360 thousands of rows of unique reviews and are updated till Mar 2020.\n"
      ]
    },
    {
      "cell_type": "code",
      "metadata": {
        "id": "9X4k8qgKwC-c",
        "colab_type": "code",
        "colab": {
          "base_uri": "https://localhost:8080/",
          "height": 74
        },
        "outputId": "c2c7e00e-b44c-413a-a943-bb9500230416"
      },
      "source": [
        "#Importing the relevant libraries and load the data into the data frameles\n",
        "import numpy as np\n",
        "import pandas as pd\n",
        "import statsmodels.api as sm\n",
        "import matplotlib.pyplot as plt\n",
        "import seaborn as sns\n",
        "sns.set\n",
        "from scipy.stats import ttest_ind,randint\n",
        "from sklearn.utils import resample\n",
        "from sklearn.model_selection import train_test_split, StratifiedKFold,RandomizedSearchCV\n",
        "from sklearn.svm import SVC\n",
        "from sklearn.linear_model import LogisticRegression\n",
        "from sklearn import preprocessing, metrics\n",
        "from sklearn import utils\n",
        "from sklearn.preprocessing import StandardScaler, LabelEncoder, LabelBinarizer\n",
        "from sklearn.tree import DecisionTreeClassifier\n",
        "from sklearn.ensemble import RandomForestClassifier, ExtraTreesClassifier, BaggingClassifier, AdaBoostClassifier, GradientBoostingClassifier, VotingClassifier\n",
        "from sklearn.neighbors import KNeighborsClassifier\n",
        "from xgboost import XGBClassifier\n",
        "from sklearn.metrics import *\n",
        "import warnings\n",
        "warnings.filterwarnings('ignore')\n",
        "%matplotlib inline"
      ],
      "execution_count": 1,
      "outputs": [
        {
          "output_type": "stream",
          "text": [
            "/usr/local/lib/python3.6/dist-packages/statsmodels/tools/_testing.py:19: FutureWarning: pandas.util.testing is deprecated. Use the functions in the public API at pandas.testing instead.\n",
            "  import pandas.util.testing as tm\n"
          ],
          "name": "stderr"
        }
      ]
    },
    {
      "cell_type": "code",
      "metadata": {
        "id": "Xfub0K4KwC-o",
        "colab_type": "code",
        "colab": {
          "base_uri": "https://localhost:8080/",
          "height": 35
        },
        "outputId": "211e908c-3f57-4df0-9c01-d57635019350"
      },
      "source": [
        "from google.colab import drive\n",
        "drive.mount('/content/drive')\n",
        "path='/content/drive/My Drive/webmd.csv'\n",
        "#the dataset is in csv format so we'll use read_csv function in pandas and replace blank space with NaN by \"na_values=' '\"\n",
        "df=pd.read_csv(path, na_values=' ')"
      ],
      "execution_count": 2,
      "outputs": [
        {
          "output_type": "stream",
          "text": [
            "Mounted at /content/drive\n"
          ],
          "name": "stdout"
        }
      ]
    },
    {
      "cell_type": "code",
      "metadata": {
        "id": "uRs-L0fdwC-u",
        "colab_type": "code",
        "colab": {
          "base_uri": "https://localhost:8080/",
          "height": 145
        },
        "outputId": "360137aa-fe46-48ce-c9b3-6fac7c3e12cf"
      },
      "source": [
        "#Only some attributes are considered in this project we'll drop attributes that aren't considered.\n",
        "df=df.drop(['Date', 'DrugId', 'Reviews', 'Sides', 'UsefulCount'], axis=1)\n",
        "\n",
        "#Since our focus to predict painkiller, we'll chose conditions that have a word pain in them \n",
        "df=df[df.Condition.str.contains('Pain', na=False)]\n",
        "\n",
        "#check the number of features and rows of remaining data\n",
        "print(\"Dataset contains: \" + str(df.shape[0]) + \" rows and \" + str(df.shape[1]) + \" columns\")\n",
        "\n",
        "#display top 5 rows\n",
        "df.Condition.value_counts().head(5)"
      ],
      "execution_count": 3,
      "outputs": [
        {
          "output_type": "stream",
          "text": [
            "Dataset contains: 53649 rows and 7 columns\n"
          ],
          "name": "stdout"
        },
        {
          "output_type": "execute_result",
          "data": {
            "text/plain": [
              "Pain                                                         25232\n",
              "Neuropathic Pain                                              8988\n",
              "Disorder characterized by Stiff, Tender & Painful Muscles     3472\n",
              "Chronic Pain                                                  2913\n",
              "Joint Damage causing Pain and Loss of Function                2451\n",
              "Name: Condition, dtype: int64"
            ]
          },
          "metadata": {
            "tags": []
          },
          "execution_count": 3
        }
      ]
    },
    {
      "cell_type": "markdown",
      "metadata": {
        "id": "qW5FjGEnzcAC",
        "colab_type": "text"
      },
      "source": [
        "For this project let's use one condition that is frequently occured in the dataset. Looking at the value_counts() above the top condition is 'Pain' but it is very general so we chose Neuropathic Pain for our model. "
      ]
    },
    {
      "cell_type": "code",
      "metadata": {
        "id": "YTxy9iLVwC_H",
        "colab_type": "code",
        "colab": {
          "base_uri": "https://localhost:8080/",
          "height": 126
        },
        "outputId": "55304ff4-efbe-4027-9328-b651db2e67bb"
      },
      "source": [
        "df=df[df['Condition']=='Neuropathic Pain']\n",
        "df.Drug.value_counts().head()"
      ],
      "execution_count": 5,
      "outputs": [
        {
          "output_type": "execute_result",
          "data": {
            "text/plain": [
              "lyrica                 1283\n",
              "neurontin               790\n",
              "neurontin capsule       790\n",
              "cymbalta                699\n",
              "gabapentin solution     661\n",
              "Name: Drug, dtype: int64"
            ]
          },
          "metadata": {
            "tags": []
          },
          "execution_count": 5
        }
      ]
    },
    {
      "cell_type": "markdown",
      "metadata": {
        "id": "Qy1HYMJmEBdN",
        "colab_type": "text"
      },
      "source": [
        "We merged drugs in one family for instance 'tramadol hcl' and 'tramadol hcl er' are the same chemical composition with minor difference."
      ]
    },
    {
      "cell_type": "code",
      "metadata": {
        "id": "UHW-Ay99wC_a",
        "colab_type": "code",
        "colab": {}
      },
      "source": [
        "df.replace(to_replace=['gabapentin tablet, extended release 24 hr','gabapentin solution','neurontin capsule', 'oxycodone tablet, oral only',\n",
        "                       'oxycodone hcl er','oxycodone hcl','oxycodone hcl solution', 'tramadol hcl','tramadol hcl er','methadone hcl',\n",
        "                       'methadone hcl tablet, soluble','methadone hcl solution', 'morphine sulfate er tablet, extended release', \n",
        "                       'morphine sulfate', 'morphine sulfate er capsule, extended release multiphase 24 hr',\n",
        "                       'morphine tablet,oral only, extended release','morphine sulfate er'], \n",
        "           value=['gabapentin','gabapentin','neurontin','oxycodone','oxycodone','oxycodone','oxycodone',\n",
        "                 'tramadol','tramadol','methadone','methadone','methadone','morphine','morphine','morphine','morphine',\n",
        "                  'morphine'], inplace=True)"
      ],
      "execution_count": 6,
      "outputs": []
    },
    {
      "cell_type": "code",
      "metadata": {
        "id": "q3Dm4Z_8wC_g",
        "colab_type": "code",
        "colab": {
          "base_uri": "https://localhost:8080/",
          "height": 163
        },
        "outputId": "9cfc6db1-322e-49f4-ee09-c228f36c6ccc"
      },
      "source": [
        "df.Drug.value_counts().head(7)"
      ],
      "execution_count": 7,
      "outputs": [
        {
          "output_type": "execute_result",
          "data": {
            "text/plain": [
              "gabapentin           1983\n",
              "oxycodone            1608\n",
              "neurontin            1580\n",
              "lyrica               1283\n",
              "cymbalta              699\n",
              "tramadol              654\n",
              "amitriptyline hcl     240\n",
              "Name: Drug, dtype: int64"
            ]
          },
          "metadata": {
            "tags": []
          },
          "execution_count": 7
        }
      ]
    },
    {
      "cell_type": "code",
      "metadata": {
        "id": "REcv5QNGwC_n",
        "colab_type": "code",
        "colab": {
          "base_uri": "https://localhost:8080/",
          "height": 54
        },
        "outputId": "0301f942-d83d-4923-a233-4abe275eb094"
      },
      "source": [
        "#Let's chose top four drugs with high frequency\n",
        "df=df[df['Drug'].isin(['gabapentin','oxycodone','neurontin','lyrica'])]\n",
        "df.Condition.value_counts()"
      ],
      "execution_count": 8,
      "outputs": [
        {
          "output_type": "execute_result",
          "data": {
            "text/plain": [
              "Neuropathic Pain    6454\n",
              "Name: Condition, dtype: int64"
            ]
          },
          "metadata": {
            "tags": []
          },
          "execution_count": 8
        }
      ]
    },
    {
      "cell_type": "code",
      "metadata": {
        "id": "E1QbygYI-I2L",
        "colab_type": "code",
        "colab": {
          "base_uri": "https://localhost:8080/",
          "height": 54
        },
        "outputId": "bf7f5669-d56a-4cf4-d8dd-25ec64f8e6ae"
      },
      "source": [
        "#check if there are missing values\n",
        "print('Do null values exist in the dataset? ' + str(df.isnull().values.any()))\n",
        "#fill missing values using method 'pad' and drop if there are any unfilled null values using pad method\n",
        "df.fillna(method ='pad', inplace=True) \n",
        "df.dropna(inplace=True)\n",
        "#check agin missing values\n",
        "print('Do null values exist in the dataset? ' + str(df.isnull().values.any()))\n"
      ],
      "execution_count": 9,
      "outputs": [
        {
          "output_type": "stream",
          "text": [
            "Do null values exist in the dataset? True\n",
            "Do null values exist in the dataset? False\n"
          ],
          "name": "stdout"
        }
      ]
    },
    {
      "cell_type": "markdown",
      "metadata": {
        "id": "EhmWp13Ppmaq",
        "colab_type": "text"
      },
      "source": [
        "# Exploratory Data Analysis"
      ]
    },
    {
      "cell_type": "markdown",
      "metadata": {
        "id": "qfN9ZfjXwkiP",
        "colab_type": "text"
      },
      "source": [
        "In this section we try to visualize and statistically hypothesize to understand the dataset better and and the best way to represent it to actually gain meaningful insights.  "
      ]
    },
    {
      "cell_type": "code",
      "metadata": {
        "id": "4tHP3gJvLvPG",
        "colab_type": "code",
        "colab": {}
      },
      "source": [
        "# Feature engineering: discretization on age for age_group & age_bin_label\n",
        "# before getting into grouping, lets replace the existing group to approximate age. \n",
        "df.replace(to_replace=['0-2', '3-6','7-12', '13-18','19-24','25-34','35-44','45-54','55-64','65-74','75 or over'], \n",
        "           value=[0,5,10,15,20,30,40,50,60,70,80], inplace=True)\n",
        "\n",
        "age_bins = [0, 20, 30, 40, 50, 60, 70,80]\n",
        "age_bin_labels = [1,2,3,4,5,6,7]\n",
        "# Stratification: age_group, Generate age_group and age_group_label\n",
        "df['Age_group'] = pd.cut(np.array(df['Age']),bins=age_bins) \n",
        "df['Age_group_label'] = pd.cut(np.array(df['Age']),bins=age_bins, labels=age_bin_labels) "
      ],
      "execution_count": 10,
      "outputs": []
    },
    {
      "cell_type": "code",
      "metadata": {
        "id": "hTpo_GgbADlP",
        "colab_type": "code",
        "colab": {
          "base_uri": "https://localhost:8080/",
          "height": 351
        },
        "outputId": "2c3f27c1-cb72-4706-e511-e6c617267902"
      },
      "source": [
        "# Count frequencies and shows patients breakdown by stroke condition:\n",
        "df_sex = pd.DataFrame(df.groupby('Sex')['Sex'].count())\n",
        "df_sex.columns = ['count']\n",
        "plt.figure(figsize=(6,5), dpi= 80)\n",
        "plt.pie(df_sex, labels=['Female','Male'], autopct='%.0f%%', colors=['pink','blue'], shadow=True)\n",
        "plt.title('Patients gender proportion')\n",
        "plt.show()"
      ],
      "execution_count": 11,
      "outputs": [
        {
          "output_type": "display_data",
          "data": {
            "image/png": "[encoded data removed]",
            "text/plain": [
              "<Figure size 480x400 with 1 Axes>"
            ]
          },
          "metadata": {
            "tags": []
          }
        }
      ]
    },
    {
      "cell_type": "code",
      "metadata": {
        "id": "KPVaO2JjSL_P",
        "colab_type": "code",
        "colab": {
          "base_uri": "https://localhost:8080/",
          "height": 401
        },
        "outputId": "b8fdea30-812d-4cc2-a33e-ea2dd5ecc33f"
      },
      "source": [
        "#visualize age distribution of the patient \n",
        "plt.figure(figsize=(12,5), dpi= 80)\n",
        "plt.subplot(1, 2, 1)\n",
        "sns.countplot(x=\"Age\", data=df,);\n",
        "plt.ylabel('Age frequency')\n",
        "plt.title('Age distribution')\n",
        "plt.subplot(1, 2, 2)\n",
        "sns.countplot(x=\"Age\", hue=\"Sex\",data=df,);\n",
        "plt.ylabel('Age frequency')\n",
        "plt.title('Age distribution')\n",
        "# plt.subplot(1, 3, 2)\n",
        "# sns.countplot(x=\"Effectiveness\", hue=\"Sex\",data=df);\n",
        "# plt.subplot(1, 3, 3)\n",
        "# sns.countplot(x=\"Satisfaction\", hue=\"Sex\",data=df);"
      ],
      "execution_count": 12,
      "outputs": [
        {
          "output_type": "execute_result",
          "data": {
            "text/plain": [
              "Text(0.5, 1.0, 'Age distribution')"
            ]
          },
          "metadata": {
            "tags": []
          },
          "execution_count": 12
        },
        {
          "output_type": "display_data",
          "data": {
            "image/png": "[encoded data removed]",
            "text/plain": [
              "<Figure size 960x400 with 2 Axes>"
            ]
          },
          "metadata": {
            "tags": [],
            "needs_background": "light"
          }
        }
      ]
    },
    {
      "cell_type": "code",
      "metadata": {
        "id": "to1Kbv_kw4U4",
        "colab_type": "code",
        "colab": {
          "base_uri": "https://localhost:8080/",
          "height": 401
        },
        "outputId": "9e354891-a90a-4f9c-86ce-4cf83406117a"
      },
      "source": [
        "#The frequency of selected drugs across age.\n",
        "plt.figure(figsize=(12,5), dpi= 80)\n",
        "\n",
        "sns.countplot(x=\"Age\", hue=\"Drug\",data=df,);\n",
        "plt.ylabel('Drug frequency')\n",
        "plt.title('Age distribution ')\n",
        "plt.legend(loc='upper left')"
      ],
      "execution_count": 13,
      "outputs": [
        {
          "output_type": "execute_result",
          "data": {
            "text/plain": [
              "<matplotlib.legend.Legend at 0x7f6cfa937f28>"
            ]
          },
          "metadata": {
            "tags": []
          },
          "execution_count": 13
        },
        {
          "output_type": "display_data",
          "data": {
            "image/png": "[encoded data removed]",
            "text/plain": [
              "<Figure size 960x400 with 1 Axes>"
            ]
          },
          "metadata": {
            "tags": [],
            "needs_background": "light"
          }
        }
      ]
    },
    {
      "cell_type": "code",
      "metadata": {
        "id": "ypER7VexwDBM",
        "colab_type": "code",
        "colab": {
          "base_uri": "https://localhost:8080/",
          "height": 301
        },
        "outputId": "ca0ea999-3052-4358-ab5b-10c9f03967f2"
      },
      "source": [
        "plt.figure(figsize=(18,6), dpi= 80)\n",
        "plt.subplot(1, 3, 1)\n",
        "sns.countplot(x=\"EaseofUse\", hue=\"Sex\",data=df,);\n",
        "plt.subplot(1, 3, 2)\n",
        "sns.countplot(x=\"Effectiveness\", hue=\"Sex\",data=df);\n",
        "plt.subplot(1, 3, 3)\n",
        "sns.countplot(x=\"Satisfaction\", hue=\"Sex\",data=df);"
      ],
      "execution_count": 14,
      "outputs": [
        {
          "output_type": "display_data",
          "data": {
            "image/png": "[encoded data removed]",
            "text/plain": [
              "<Figure size 1440x480 with 3 Axes>"
            ]
          },
          "metadata": {
            "tags": [],
            "needs_background": "light"
          }
        }
      ]
    },
    {
      "cell_type": "code",
      "metadata": {
        "id": "c7o4V3NaS45k",
        "colab_type": "code",
        "colab": {
          "base_uri": "https://localhost:8080/",
          "height": 443
        },
        "outputId": "e283f9e0-610f-49ac-e5fc-f0429ed8e949"
      },
      "source": [
        "plt.figure(figsize=(6,5), dpi= 80)\n",
        "av=sns.countplot(x=\"Drug\", data=df,);\n",
        "av.set_xticklabels(av.get_xticklabels(), rotation=45);\n",
        "av.set_title('Frequency of Drug')\n"
      ],
      "execution_count": 15,
      "outputs": [
        {
          "output_type": "execute_result",
          "data": {
            "text/plain": [
              "Text(0.5, 1.0, 'Frequency of Drug')"
            ]
          },
          "metadata": {
            "tags": []
          },
          "execution_count": 15
        },
        {
          "output_type": "display_data",
          "data": {
            "image/png": "[encoded data removed]",
            "text/plain": [
              "<Figure size 480x400 with 1 Axes>"
            ]
          },
          "metadata": {
            "tags": [],
            "needs_background": "light"
          }
        }
      ]
    },
    {
      "cell_type": "code",
      "metadata": {
        "id": "4M0500xPwDBT",
        "colab_type": "code",
        "colab": {
          "base_uri": "https://localhost:8080/",
          "height": 378
        },
        "outputId": "ff2abef8-deac-4d9e-ee80-2e9c109840f1"
      },
      "source": [
        "df_mean=df.groupby('Age').mean()\n",
        "df_mean"
      ],
      "execution_count": 16,
      "outputs": [
        {
          "output_type": "execute_result",
          "data": {
            "text/html": [
              "<div>\n",
              "<style scoped>\n",
              "    .dataframe tbody tr th:only-of-type {\n",
              "        vertical-align: middle;\n",
              "    }\n",
              "\n",
              "    .dataframe tbody tr th {\n",
              "        vertical-align: top;\n",
              "    }\n",
              "\n",
              "    .dataframe thead th {\n",
              "        text-align: right;\n",
              "    }\n",
              "</style>\n",
              "<table border=\"1\" class=\"dataframe\">\n",
              "  <thead>\n",
              "    <tr style=\"text-align: right;\">\n",
              "      <th></th>\n",
              "      <th>EaseofUse</th>\n",
              "      <th>Effectiveness</th>\n",
              "      <th>Satisfaction</th>\n",
              "    </tr>\n",
              "    <tr>\n",
              "      <th>Age</th>\n",
              "      <th></th>\n",
              "      <th></th>\n",
              "      <th></th>\n",
              "    </tr>\n",
              "  </thead>\n",
              "  <tbody>\n",
              "    <tr>\n",
              "      <th>5</th>\n",
              "      <td>5.000000</td>\n",
              "      <td>5.000000</td>\n",
              "      <td>5.000000</td>\n",
              "    </tr>\n",
              "    <tr>\n",
              "      <th>10</th>\n",
              "      <td>3.000000</td>\n",
              "      <td>4.000000</td>\n",
              "      <td>3.000000</td>\n",
              "    </tr>\n",
              "    <tr>\n",
              "      <th>15</th>\n",
              "      <td>4.750000</td>\n",
              "      <td>3.625000</td>\n",
              "      <td>3.375000</td>\n",
              "    </tr>\n",
              "    <tr>\n",
              "      <th>20</th>\n",
              "      <td>3.820225</td>\n",
              "      <td>3.505618</td>\n",
              "      <td>3.258427</td>\n",
              "    </tr>\n",
              "    <tr>\n",
              "      <th>30</th>\n",
              "      <td>4.026258</td>\n",
              "      <td>3.527352</td>\n",
              "      <td>3.236324</td>\n",
              "    </tr>\n",
              "    <tr>\n",
              "      <th>40</th>\n",
              "      <td>4.161359</td>\n",
              "      <td>3.537155</td>\n",
              "      <td>3.249469</td>\n",
              "    </tr>\n",
              "    <tr>\n",
              "      <th>50</th>\n",
              "      <td>4.126623</td>\n",
              "      <td>3.550325</td>\n",
              "      <td>3.287338</td>\n",
              "    </tr>\n",
              "    <tr>\n",
              "      <th>60</th>\n",
              "      <td>4.194681</td>\n",
              "      <td>3.565426</td>\n",
              "      <td>3.375532</td>\n",
              "    </tr>\n",
              "    <tr>\n",
              "      <th>70</th>\n",
              "      <td>4.110991</td>\n",
              "      <td>3.368534</td>\n",
              "      <td>3.134698</td>\n",
              "    </tr>\n",
              "    <tr>\n",
              "      <th>80</th>\n",
              "      <td>4.175676</td>\n",
              "      <td>3.300676</td>\n",
              "      <td>3.054054</td>\n",
              "    </tr>\n",
              "  </tbody>\n",
              "</table>\n",
              "</div>"
            ],
            "text/plain": [
              "     EaseofUse  Effectiveness  Satisfaction\n",
              "Age                                        \n",
              "5     5.000000       5.000000      5.000000\n",
              "10    3.000000       4.000000      3.000000\n",
              "15    4.750000       3.625000      3.375000\n",
              "20    3.820225       3.505618      3.258427\n",
              "30    4.026258       3.527352      3.236324\n",
              "40    4.161359       3.537155      3.249469\n",
              "50    4.126623       3.550325      3.287338\n",
              "60    4.194681       3.565426      3.375532\n",
              "70    4.110991       3.368534      3.134698\n",
              "80    4.175676       3.300676      3.054054"
            ]
          },
          "metadata": {
            "tags": []
          },
          "execution_count": 16
        }
      ]
    },
    {
      "cell_type": "code",
      "metadata": {
        "id": "Y0qhMy9AwDBg",
        "colab_type": "code",
        "colab": {
          "base_uri": "https://localhost:8080/",
          "height": 331
        },
        "outputId": "2e75bc9c-5619-40f6-9eaf-be51cc4b4bd2"
      },
      "source": [
        "plt.figure(figsize=(6,5), dpi= 80)\n",
        "df_mean.plot(style='o')\n",
        "# Plot formatting\n",
        "plt.xlabel('Age')\n",
        "plt.ylabel('mean value')\n",
        "plt.xlim(0,90)\n",
        "plt.ylim(0,5)\n",
        "plt.title('Comparison of mean value')\n",
        "plt.legend(loc='lower right')"
      ],
      "execution_count": 17,
      "outputs": [
        {
          "output_type": "execute_result",
          "data": {
            "text/plain": [
              "<matplotlib.legend.Legend at 0x7f6cfb3ac9b0>"
            ]
          },
          "metadata": {
            "tags": []
          },
          "execution_count": 17
        },
        {
          "output_type": "display_data",
          "data": {
            "text/plain": [
              "<Figure size 480x400 with 0 Axes>"
            ]
          },
          "metadata": {
            "tags": []
          }
        },
        {
          "output_type": "display_data",
          "data": {
            "image/png": "[encoded data removed]",
            "text/plain": [
              "<Figure size 432x288 with 1 Axes>"
            ]
          },
          "metadata": {
            "tags": [],
            "needs_background": "light"
          }
        }
      ]
    },
    {
      "cell_type": "code",
      "metadata": {
        "id": "z39irRSeC8xw",
        "colab_type": "code",
        "colab": {
          "base_uri": "https://localhost:8080/",
          "height": 404
        },
        "outputId": "766f70c9-4aaa-4ec4-e1ec-49cc8054e4b6"
      },
      "source": [
        "#graphical representation of corellation\n",
        "plt.figure(figsize=(6,5), dpi= 80)\n",
        "hm=sns.heatmap(df.corr(), annot=True,center = 0,cmap='bwr_r', cbar=True)\n",
        "plt.title('Heatmap of Correlation Matrix')\n",
        "plt.tight_layout()"
      ],
      "execution_count": 18,
      "outputs": [
        {
          "output_type": "display_data",
          "data": {
            "image/png": "[encoded data removed]",
            "text/plain": [
              "<Figure size 480x400 with 2 Axes>"
            ]
          },
          "metadata": {
            "tags": [],
            "needs_background": "light"
          }
        }
      ]
    },
    {
      "cell_type": "code",
      "metadata": {
        "id": "0VpoDq19obRp",
        "colab_type": "code",
        "colab": {
          "base_uri": "https://localhost:8080/",
          "height": 181
        },
        "outputId": "a28e942b-e07f-47ad-9337-9d3d6d1870ac"
      },
      "source": [
        "# Filter dataframe by a target label\n",
        "df_gab=df[df['Drug']=='gabapentin']\n",
        "df_oxy=df[df['Drug']=='oxycodone']\n",
        "df_neu=df[df['Drug']=='neurontin']\n",
        "df_lyr=df[df['Drug']=='lyrica']\n",
        "# Stratified by age_group_label of oxycodone drug:\n",
        "df_oxy_grp1 = df_oxy[df_oxy['Age_group_label'] == 1] # age: <20 \n",
        "df_oxy_grp2 = df_oxy[df_oxy['Age_group_label'] == 2] # age: 20-30\n",
        "df_oxy_grp3 = df_oxy[df_oxy['Age_group_label'] == 3] # age: 30-40\n",
        "df_oxy_grp4 = df_oxy[df_oxy['Age_group_label'] == 4] # age: 40-50\n",
        "df_oxy_grp5 = df_oxy[df_oxy['Age_group_label'] == 5] # age: 50-60\n",
        "df_oxy_grp6 = df_oxy[df_oxy['Age_group_label'] == 6] # age: 60-70\n",
        "df_oxy_grp7 = df_oxy[df_oxy['Age_group_label'] == 7] # age: >70\n",
        "\n",
        "# Stratified by age_group_label of neurontin drug: \n",
        "df_neu_grp1 = df_neu[df_neu['Age_group_label'] == 1] \n",
        "df_neu_grp2 = df_neu[df_neu['Age_group_label'] == 2] \n",
        "df_neu_grp3 = df_neu[df_neu['Age_group_label'] == 3] \n",
        "df_neu_grp4 = df_neu[df_neu['Age_group_label'] == 4] \n",
        "df_neu_grp5 = df_neu[df_neu['Age_group_label'] == 5] \n",
        "df_neu_grp6 = df_neu[df_neu['Age_group_label'] == 6] \n",
        "df_neu_grp7 = df_neu[df_neu['Age_group_label'] == 7] \n",
        "\n",
        "# Stratified by age_group_label of lyrica drug:\n",
        "df_lyr_grp1 = df_lyr[df_lyr['Age_group_label'] == 1]  \n",
        "df_lyr_grp2 = df_lyr[df_lyr['Age_group_label'] == 2] \n",
        "df_lyr_grp3 = df_lyr[df_lyr['Age_group_label'] == 3] \n",
        "df_lyr_grp4 = df_lyr[df_lyr['Age_group_label'] == 4] \n",
        "df_lyr_grp5 = df_lyr[df_lyr['Age_group_label'] == 5] \n",
        "df_lyr_grp6 = df_lyr[df_lyr['Age_group_label'] == 6] \n",
        "df_lyr_grp7 = df_lyr[df_lyr['Age_group_label'] == 7] \n",
        "\n",
        "# Age group counts index for stratification by major class \"drug\" %:\n",
        "df_gab_counts = df_gab[['Age_group','Age_group_label']]\n",
        "df_gab_counts = pd.DataFrame(df_gab_counts.groupby('Age_group_label')['Age_group'].count())\n",
        "df_gab_counts.columns = ['counts']\n",
        "\n",
        "# Compute age group label proporiton % on gabapentin drug:\n",
        "df_gab_counts['Age_group_pct'] = df_gab_counts['counts']/df_gab_counts['counts'].sum()\n",
        "\n",
        "# Print the count index for each age group from gabapentin drug:\n",
        "print(df_gab_counts)"
      ],
      "execution_count": 19,
      "outputs": [
        {
          "output_type": "stream",
          "text": [
            "                 counts  Age_group_pct\n",
            "Age_group_label                       \n",
            "1                    19       0.009581\n",
            "2                   100       0.050429\n",
            "3                   184       0.092789\n",
            "4                   498       0.251135\n",
            "5                   582       0.293495\n",
            "6                   453       0.228442\n",
            "7                   147       0.074130\n"
          ],
          "name": "stdout"
        }
      ]
    },
    {
      "cell_type": "code",
      "metadata": {
        "id": "JJHxh6eWoPh3",
        "colab_type": "code",
        "colab": {}
      },
      "source": [
        "# Upsampling on oxycodone drug by gabapentin drug proporition %\n",
        "\n",
        "sampled_oxy_grp1 = resample(df_oxy_grp1, replace=True, n_samples=20,random_state=0)\n",
        "sampled_oxy_grp2 = resample(df_oxy_grp2, replace=True, n_samples=100,random_state=0)\n",
        "sampled_oxy_grp3 = resample(df_oxy_grp3, replace=True, n_samples=185,random_state=0)\n",
        "sampled_oxy_grp4 = resample(df_oxy_grp4, replace=True, n_samples=500,random_state=0)\n",
        "sampled_oxy_grp5 = resample(df_oxy_grp5, replace=True, n_samples=580,random_state=0)\n",
        "sampled_oxy_grp6 = resample(df_oxy_grp6, replace=True, n_samples=455,random_state=0)\n",
        "sampled_oxy_grp7 = resample(df_oxy_grp7, replace=True, n_samples=150,random_state=0)\n",
        "\n",
        "# Concatentate upsampled minority class: \"oxycodone\" drug of all age groups\n",
        "df_oxy_upsampled = pd.concat([sampled_oxy_grp1,sampled_oxy_grp2,sampled_oxy_grp3, sampled_oxy_grp4,sampled_oxy_grp5,sampled_oxy_grp6,\n",
        "                              sampled_oxy_grp7], axis=0)"
      ],
      "execution_count": 20,
      "outputs": []
    },
    {
      "cell_type": "code",
      "metadata": {
        "id": "PwtyaKspuFbw",
        "colab_type": "code",
        "colab": {}
      },
      "source": [
        "# Upsampling on neurontin drug by gabapentin drug proporition %\n",
        "\n",
        "sampled_neu_grp1 = resample(df_neu_grp1, replace=True, n_samples=20,random_state=0)\n",
        "sampled_neu_grp2 = resample(df_neu_grp2, replace=True, n_samples=100,random_state=0)\n",
        "sampled_neu_grp3 = resample(df_neu_grp3, replace=True, n_samples=185,random_state=0)\n",
        "sampled_neu_grp4 = resample(df_neu_grp4, replace=True, n_samples=500,random_state=0)\n",
        "sampled_neu_grp5 = resample(df_neu_grp5, replace=True, n_samples=580,random_state=0)\n",
        "sampled_neu_grp6 = resample(df_neu_grp6, replace=True, n_samples=455,random_state=0)\n",
        "sampled_neu_grp7 = resample(df_neu_grp7, replace=True, n_samples=150,random_state=0)\n",
        "\n",
        "# Concatentate upsampled minority class: \"neurontin\" drug of all age groups\n",
        "df_neu_upsampled = pd.concat([sampled_neu_grp1,sampled_neu_grp2,sampled_neu_grp3, sampled_neu_grp4,sampled_neu_grp5,sampled_neu_grp6,\n",
        "                               sampled_neu_grp7], axis=0)"
      ],
      "execution_count": 21,
      "outputs": []
    },
    {
      "cell_type": "code",
      "metadata": {
        "id": "PWajzAyHuGQr",
        "colab_type": "code",
        "colab": {}
      },
      "source": [
        "# Upsampling on lyrica drug by gabapentin drug proporition %\n",
        "\n",
        "sampled_lyr_grp1 = resample(df_lyr_grp1, replace=True, n_samples=20,random_state=0)\n",
        "sampled_lyr_grp2 = resample(df_lyr_grp2, replace=True, n_samples=100,random_state=0)\n",
        "sampled_lyr_grp3 = resample(df_lyr_grp3, replace=True, n_samples=185,random_state=0)\n",
        "sampled_lyr_grp4 = resample(df_lyr_grp4, replace=True, n_samples=500,random_state=0)\n",
        "sampled_lyr_grp5 = resample(df_lyr_grp5, replace=True, n_samples=580,random_state=0)\n",
        "sampled_lyr_grp6 = resample(df_lyr_grp6, replace=True, n_samples=455,random_state=0)\n",
        "sampled_lyr_grp7 = resample(df_lyr_grp7, replace=True, n_samples=150,random_state=0)\n",
        "\n",
        "# Concatentate upsampled minority class: \"lyrica\" drug of all age groups\n",
        "df_lyr_upsampled = pd.concat([sampled_lyr_grp1,sampled_lyr_grp2,sampled_lyr_grp3, sampled_lyr_grp4,sampled_lyr_grp5,sampled_lyr_grp6,\n",
        "                              sampled_lyr_grp7], axis=0)\n",
        "\n",
        "# Conbine upsampled minority classes: \"oxycodone,neurontin,lyrica\" drug with upsampled gabapentin drug\n",
        "df = pd.concat([df_oxy_upsampled,df_neu_upsampled,df_lyr_upsampled,df_gab],axis=0)"
      ],
      "execution_count": 22,
      "outputs": []
    },
    {
      "cell_type": "code",
      "metadata": {
        "id": "dewAZ-BgZYfl",
        "colab_type": "code",
        "colab": {
          "base_uri": "https://localhost:8080/",
          "height": 285
        },
        "outputId": "2715df54-eb80-469f-b883-87f46bb93f9c"
      },
      "source": [
        "#reset index\n",
        "df.reset_index(drop=True, inplace=True)\n",
        "#pickle dataframe for later use\n",
        "df.to_pickle(\"Neuropathic Pain.pkl\")\n",
        "#Let's see the first 5 rows\n",
        "df.head()"
      ],
      "execution_count": 23,
      "outputs": [
        {
          "output_type": "execute_result",
          "data": {
            "text/html": [
              "<div>\n",
              "<style scoped>\n",
              "    .dataframe tbody tr th:only-of-type {\n",
              "        vertical-align: middle;\n",
              "    }\n",
              "\n",
              "    .dataframe tbody tr th {\n",
              "        vertical-align: top;\n",
              "    }\n",
              "\n",
              "    .dataframe thead th {\n",
              "        text-align: right;\n",
              "    }\n",
              "</style>\n",
              "<table border=\"1\" class=\"dataframe\">\n",
              "  <thead>\n",
              "    <tr style=\"text-align: right;\">\n",
              "      <th></th>\n",
              "      <th>Age</th>\n",
              "      <th>Condition</th>\n",
              "      <th>Drug</th>\n",
              "      <th>EaseofUse</th>\n",
              "      <th>Effectiveness</th>\n",
              "      <th>Satisfaction</th>\n",
              "      <th>Sex</th>\n",
              "      <th>Age_group</th>\n",
              "      <th>Age_group_label</th>\n",
              "    </tr>\n",
              "  </thead>\n",
              "  <tbody>\n",
              "    <tr>\n",
              "      <th>0</th>\n",
              "      <td>20</td>\n",
              "      <td>Neuropathic Pain</td>\n",
              "      <td>oxycodone</td>\n",
              "      <td>1</td>\n",
              "      <td>1</td>\n",
              "      <td>1</td>\n",
              "      <td>Female</td>\n",
              "      <td>(0, 20]</td>\n",
              "      <td>1</td>\n",
              "    </tr>\n",
              "    <tr>\n",
              "      <th>1</th>\n",
              "      <td>20</td>\n",
              "      <td>Neuropathic Pain</td>\n",
              "      <td>oxycodone</td>\n",
              "      <td>4</td>\n",
              "      <td>4</td>\n",
              "      <td>4</td>\n",
              "      <td>Male</td>\n",
              "      <td>(0, 20]</td>\n",
              "      <td>1</td>\n",
              "    </tr>\n",
              "    <tr>\n",
              "      <th>2</th>\n",
              "      <td>20</td>\n",
              "      <td>Neuropathic Pain</td>\n",
              "      <td>oxycodone</td>\n",
              "      <td>4</td>\n",
              "      <td>4</td>\n",
              "      <td>4</td>\n",
              "      <td>Male</td>\n",
              "      <td>(0, 20]</td>\n",
              "      <td>1</td>\n",
              "    </tr>\n",
              "    <tr>\n",
              "      <th>3</th>\n",
              "      <td>20</td>\n",
              "      <td>Neuropathic Pain</td>\n",
              "      <td>oxycodone</td>\n",
              "      <td>3</td>\n",
              "      <td>3</td>\n",
              "      <td>4</td>\n",
              "      <td>Female</td>\n",
              "      <td>(0, 20]</td>\n",
              "      <td>1</td>\n",
              "    </tr>\n",
              "    <tr>\n",
              "      <th>4</th>\n",
              "      <td>20</td>\n",
              "      <td>Neuropathic Pain</td>\n",
              "      <td>oxycodone</td>\n",
              "      <td>5</td>\n",
              "      <td>5</td>\n",
              "      <td>5</td>\n",
              "      <td>Female</td>\n",
              "      <td>(0, 20]</td>\n",
              "      <td>1</td>\n",
              "    </tr>\n",
              "  </tbody>\n",
              "</table>\n",
              "</div>"
            ],
            "text/plain": [
              "   Age         Condition       Drug  ...     Sex  Age_group  Age_group_label\n",
              "0   20  Neuropathic Pain  oxycodone  ...  Female    (0, 20]                1\n",
              "1   20  Neuropathic Pain  oxycodone  ...    Male    (0, 20]                1\n",
              "2   20  Neuropathic Pain  oxycodone  ...    Male    (0, 20]                1\n",
              "3   20  Neuropathic Pain  oxycodone  ...  Female    (0, 20]                1\n",
              "4   20  Neuropathic Pain  oxycodone  ...  Female    (0, 20]                1\n",
              "\n",
              "[5 rows x 9 columns]"
            ]
          },
          "metadata": {
            "tags": []
          },
          "execution_count": 23
        }
      ]
    },
    {
      "cell_type": "code",
      "metadata": {
        "id": "wro0dTrOZgba",
        "colab_type": "code",
        "colab": {
          "base_uri": "https://localhost:8080/",
          "height": 285
        },
        "outputId": "b5d7a508-7432-4968-8fa9-626af0bdfb71"
      },
      "source": [
        "import pickle\n",
        "path='/content/Neuropathic Pain.pkl'\n",
        "df=pd.read_pickle(path)\n",
        "df.head()"
      ],
      "execution_count": 24,
      "outputs": [
        {
          "output_type": "execute_result",
          "data": {
            "text/html": [
              "<div>\n",
              "<style scoped>\n",
              "    .dataframe tbody tr th:only-of-type {\n",
              "        vertical-align: middle;\n",
              "    }\n",
              "\n",
              "    .dataframe tbody tr th {\n",
              "        vertical-align: top;\n",
              "    }\n",
              "\n",
              "    .dataframe thead th {\n",
              "        text-align: right;\n",
              "    }\n",
              "</style>\n",
              "<table border=\"1\" class=\"dataframe\">\n",
              "  <thead>\n",
              "    <tr style=\"text-align: right;\">\n",
              "      <th></th>\n",
              "      <th>Age</th>\n",
              "      <th>Condition</th>\n",
              "      <th>Drug</th>\n",
              "      <th>EaseofUse</th>\n",
              "      <th>Effectiveness</th>\n",
              "      <th>Satisfaction</th>\n",
              "      <th>Sex</th>\n",
              "      <th>Age_group</th>\n",
              "      <th>Age_group_label</th>\n",
              "    </tr>\n",
              "  </thead>\n",
              "  <tbody>\n",
              "    <tr>\n",
              "      <th>0</th>\n",
              "      <td>20</td>\n",
              "      <td>Neuropathic Pain</td>\n",
              "      <td>oxycodone</td>\n",
              "      <td>1</td>\n",
              "      <td>1</td>\n",
              "      <td>1</td>\n",
              "      <td>Female</td>\n",
              "      <td>(0, 20]</td>\n",
              "      <td>1</td>\n",
              "    </tr>\n",
              "    <tr>\n",
              "      <th>1</th>\n",
              "      <td>20</td>\n",
              "      <td>Neuropathic Pain</td>\n",
              "      <td>oxycodone</td>\n",
              "      <td>4</td>\n",
              "      <td>4</td>\n",
              "      <td>4</td>\n",
              "      <td>Male</td>\n",
              "      <td>(0, 20]</td>\n",
              "      <td>1</td>\n",
              "    </tr>\n",
              "    <tr>\n",
              "      <th>2</th>\n",
              "      <td>20</td>\n",
              "      <td>Neuropathic Pain</td>\n",
              "      <td>oxycodone</td>\n",
              "      <td>4</td>\n",
              "      <td>4</td>\n",
              "      <td>4</td>\n",
              "      <td>Male</td>\n",
              "      <td>(0, 20]</td>\n",
              "      <td>1</td>\n",
              "    </tr>\n",
              "    <tr>\n",
              "      <th>3</th>\n",
              "      <td>20</td>\n",
              "      <td>Neuropathic Pain</td>\n",
              "      <td>oxycodone</td>\n",
              "      <td>3</td>\n",
              "      <td>3</td>\n",
              "      <td>4</td>\n",
              "      <td>Female</td>\n",
              "      <td>(0, 20]</td>\n",
              "      <td>1</td>\n",
              "    </tr>\n",
              "    <tr>\n",
              "      <th>4</th>\n",
              "      <td>20</td>\n",
              "      <td>Neuropathic Pain</td>\n",
              "      <td>oxycodone</td>\n",
              "      <td>5</td>\n",
              "      <td>5</td>\n",
              "      <td>5</td>\n",
              "      <td>Female</td>\n",
              "      <td>(0, 20]</td>\n",
              "      <td>1</td>\n",
              "    </tr>\n",
              "  </tbody>\n",
              "</table>\n",
              "</div>"
            ],
            "text/plain": [
              "   Age         Condition       Drug  ...     Sex  Age_group  Age_group_label\n",
              "0   20  Neuropathic Pain  oxycodone  ...  Female    (0, 20]                1\n",
              "1   20  Neuropathic Pain  oxycodone  ...    Male    (0, 20]                1\n",
              "2   20  Neuropathic Pain  oxycodone  ...    Male    (0, 20]                1\n",
              "3   20  Neuropathic Pain  oxycodone  ...  Female    (0, 20]                1\n",
              "4   20  Neuropathic Pain  oxycodone  ...  Female    (0, 20]                1\n",
              "\n",
              "[5 rows x 9 columns]"
            ]
          },
          "metadata": {
            "tags": []
          },
          "execution_count": 24
        }
      ]
    },
    {
      "cell_type": "code",
      "metadata": {
        "id": "cySZEOWk0cjQ",
        "colab_type": "code",
        "colab": {
          "base_uri": "https://localhost:8080/",
          "height": 404
        },
        "outputId": "9fac0c19-79cc-413b-f60e-1075e6ba881f"
      },
      "source": [
        "#graphical representation of corellation\n",
        "plt.figure(figsize=(6,5), dpi= 80)\n",
        "hm=sns.heatmap(df .corr(), annot=True,center = 0,cmap='bwr_r', cbar=True)\n",
        "plt.title('Heatmap of Correlation Matrix')\n",
        "plt.tight_layout()"
      ],
      "execution_count": 25,
      "outputs": [
        {
          "output_type": "display_data",
          "data": {
            "image/png": "[encoded data removed]",
            "text/plain": [
              "<Figure size 480x400 with 2 Axes>"
            ]
          },
          "metadata": {
            "tags": [],
            "needs_background": "light"
          }
        }
      ]
    },
    {
      "cell_type": "markdown",
      "metadata": {
        "id": "1pBIPbSwnHjN",
        "colab_type": "text"
      },
      "source": [
        "# Statistical Test"
      ]
    },
    {
      "cell_type": "markdown",
      "metadata": {
        "id": "8PK4hdDinSR4",
        "colab_type": "text"
      },
      "source": [
        "#### Impact of EaseofUse and Satisfaction\n",
        "\n",
        "Paired sampled t-test :- The paired sample t-test is also called dependent sample t-test. It’s an uni variate test that tests for a significant difference between 2 related variables.\n",
        "\n",
        "Hypothesis Testing:  Is there significant difference between the patients response towards EaseofUse and Satisfaction?\n",
        "\n",
        "\n",
        "##### Null  Hypothesis: \n",
        "\\begin{array}{c}\n",
        "H_0: \\rho_{EaseofUse} = \\rho_{Satisfaction}\n",
        "\\end{array}\n",
        "\n",
        "The null hypothesis would be that there is no difference in patients response of EaseofUse and Satisfaction:\n",
        "\n",
        "##### Alternate Hypothesis:  \n",
        "\\begin{array}{c}\n",
        "H_A: \\rho_{EaseofUse} \\neq \\rho_{Satisfaction}\n",
        "\\end{array}\n",
        "\n",
        "\n",
        "The alternative hypothesis would be that there is a difference in patients response of EaseofUse and Satisfaction.\n",
        "\n",
        "In oder to test this hypothesis, we conducted t-test using ttest_ind()"
      ]
    },
    {
      "cell_type": "code",
      "metadata": {
        "id": "coQvzmAAO0vU",
        "colab_type": "code",
        "colab": {
          "base_uri": "https://localhost:8080/",
          "height": 0
        },
        "outputId": "764a30a6-5f97-41a8-a09c-6602eb26b13e"
      },
      "source": [
        "from scipy.stats import ttest_ind\n",
        "from scipy import stats\n",
        "ttest,pval = stats.ttest_ind(df['EaseofUse'], df['Satisfaction'])\n",
        "print(ttest,pval)\n",
        "if pval < 0.05:\n",
        "    print(\"fail to accepet null hypothesis\")\n",
        "else:\n",
        "    print(\"accept null hypothesis\")"
      ],
      "execution_count": 26,
      "outputs": [
        {
          "output_type": "stream",
          "text": [
            "40.6586087199659 0.0\n",
            "fail to accepet null hypothesis\n"
          ],
          "name": "stdout"
        }
      ]
    },
    {
      "cell_type": "markdown",
      "metadata": {
        "id": "S3erwhfKb-0r",
        "colab_type": "text"
      },
      "source": [
        "#### Impact of Effectiveness and Satisfaction\n",
        "\n",
        "Hypothesis Testing:  Is there significant difference between the patients response towards Effectiveness and Satisfaction?\n",
        "\n",
        "\n",
        "##### Null  Hypothesis: \n",
        "\\begin{array}{c}\n",
        "H_0: \\rho_{Effectiveness} = \\rho_{Satisfaction}\n",
        "\\end{array}\n",
        "\n",
        "The null hypothesis would be that there is no difference in patients response of Effectiveness and Satisfaction:\n",
        "\n",
        "##### Alternate Hypothesis:  \n",
        "\\begin{array}{c}\n",
        "H_A: \\rho_{Effectiveness} \\neq \\rho_{Satisfaction}\n",
        "\\end{array}\n",
        "\n",
        "The alternative hypothesis would be that there is a difference in patients response of Effectiveness and Satisfaction.\n",
        "\n",
        "In oder to test this hypothesis, we conducted t-test using ttest_ind()"
      ]
    },
    {
      "cell_type": "code",
      "metadata": {
        "id": "sIBe_UvybwHL",
        "colab_type": "code",
        "colab": {
          "base_uri": "https://localhost:8080/",
          "height": 0
        },
        "outputId": "3aee32da-c135-4d8b-a397-e302c4d1b1a8"
      },
      "source": [
        "from scipy.stats import ttest_ind\n",
        "from scipy import stats\n",
        "ttest,pval = stats.ttest_ind(df['Effectiveness'], df['Satisfaction'])\n",
        "print(ttest,pval)\n",
        "if pval < 0.05:\n",
        "    print(\"fail to accept null hypothesis\")\n",
        "else:\n",
        "    print(\"accept null hypothesis\")"
      ],
      "execution_count": 27,
      "outputs": [
        {
          "output_type": "stream",
          "text": [
            "11.317109888665783 1.4009999799830085e-29\n",
            "fail to accept null hypothesis\n"
          ],
          "name": "stdout"
        }
      ]
    },
    {
      "cell_type": "markdown",
      "metadata": {
        "id": "xVrq-_K5cy6_",
        "colab_type": "text"
      },
      "source": [
        "#### Impact of EaseofUse and Effectiveness\n",
        "\n",
        "Hypothesis Testing:  Is there significant difference between the patients response towards EaseofUse and Effectiveness?\n",
        "\n",
        "\n",
        "##### Null  Hypothesis: \n",
        "\\begin{array}{c}\n",
        "H_0: \\rho_{EaseofUse} = \\rho_{Effectiveness}\n",
        "\\end{array}\n",
        "\n",
        "The null hypothesis would be that there is no difference in patients response of EaseofUse and Effectiveness:\n",
        "\n",
        "##### Alternate Hypothesis:  \n",
        "\\begin{array}{c}\n",
        "H_A: \\rho_{EaseofUse} \\neq \\rho_{Effectiveness}\n",
        "\\end{array}\n",
        "\n",
        "The alternative hypothesis would be that there is a difference in patients response of EaseofUse and Effectiveness.\n",
        "\n",
        "In oder to test this hypothesis, we conducted t-test using ttest_ind()"
      ]
    },
    {
      "cell_type": "code",
      "metadata": {
        "id": "fg4M8H6jclnn",
        "colab_type": "code",
        "colab": {
          "base_uri": "https://localhost:8080/",
          "height": 0
        },
        "outputId": "4af2c180-bb05-44cf-ae5a-99e198668c03"
      },
      "source": [
        "from scipy.stats import ttest_ind\n",
        "from scipy import stats\n",
        "ttest,pval = stats.ttest_ind(df['EaseofUse'], df['Effectiveness'])\n",
        "print(ttest,pval)\n",
        "if pval < 0.05:\n",
        "  print(\"fail to accept null hypothesis\")\n",
        "else:\n",
        "  print(\"accept null hypothesis\")"
      ],
      "execution_count": 28,
      "outputs": [
        {
          "output_type": "stream",
          "text": [
            "30.797822502772792 2.334344815019319e-202\n",
            "fail to accept null hypothesis\n"
          ],
          "name": "stdout"
        }
      ]
    },
    {
      "cell_type": "markdown",
      "metadata": {
        "id": "GcrsSAa2lQlt",
        "colab_type": "text"
      },
      "source": [
        "#### Impact of Age and Satisfaction\n",
        "\n",
        "Hypothesis Testing:  Is there significant difference between the patients response towards Age and Satisfaction?\n",
        "\n",
        "\n",
        "##### Null  Hypothesis: \n",
        "\\begin{array}{c}\n",
        "H_0: \\rho_{Age} = \\rho_{Satisfaction}\n",
        "\\end{array}\n",
        "\n",
        "The null hypothesis would be that there is no difference in patients response of Age and Satisfaction:\n",
        "\n",
        "##### Alternate Hypothesis:  \n",
        "\\begin{array}{c}\n",
        "H_A: \\rho_{Age} \\neq \\rho_{Satisfaction}\n",
        "\\end{array}\n",
        "\n",
        "The alternative hypothesis would be that there is a difference in patients response of Age and Satisfaction.\n",
        "\n",
        "In oder to test this hypothesis, we conducted t-test using ttest_ind()"
      ]
    },
    {
      "cell_type": "code",
      "metadata": {
        "id": "6dq_ytZHljca",
        "colab_type": "code",
        "colab": {
          "base_uri": "https://localhost:8080/",
          "height": 0
        },
        "outputId": "7d72882f-bb1f-4720-da14-a2f6374ac51f"
      },
      "source": [
        "from scipy.stats import ttest_ind\n",
        "from scipy import stats\n",
        "ttest,pval = stats.ttest_ind(df['Age'], df['Satisfaction'])\n",
        "print(ttest,pval)\n",
        "if pval < 0.05:\n",
        "  print(\"fail to accept null hypothesis\")\n",
        "else:\n",
        "  print(\"accept null hypothesis\")"
      ],
      "execution_count": 29,
      "outputs": [
        {
          "output_type": "stream",
          "text": [
            "367.2134476748819 0.0\n",
            "fail to accept null hypothesis\n"
          ],
          "name": "stdout"
        }
      ]
    },
    {
      "cell_type": "markdown",
      "metadata": {
        "id": "pL24wYk0w9WZ",
        "colab_type": "text"
      },
      "source": [
        "### Multicollinearity\n",
        "Multicollinearity refers to predictors that are correlated with other predictors. Multicollinearity occurs when model includes multiple factors that are correlated not just to the response variable, but also to each other. In other words, it results when we have factors that are a bit redundant. Sklearn does not have a built-in way to check for multicollinearity\n"
      ]
    },
    {
      "cell_type": "code",
      "metadata": {
        "id": "A5ftTsOjxA3N",
        "colab_type": "code",
        "colab": {
          "base_uri": "https://localhost:8080/",
          "height": 0
        },
        "outputId": "78981adb-93b9-47eb-dc1c-163741bae0ad"
      },
      "source": [
        "# Here's the relevant module\n",
        "from statsmodels.stats.outliers_influence import variance_inflation_factor\n",
        "\n",
        "# To make this as easy as possible to use, we declare a variable where we put\n",
        "# all features where we want to check for multicollinearity\n",
        "# since our categorical data is not yet preprocessed, we will only take the numerical ones\n",
        "variables = df[['Age','EaseofUse','Effectiveness','Satisfaction']]\n",
        "\n",
        "# we create a new data frame which will include all the VIFs\n",
        "# note that each variable has its own variance inflation factor as this measure is variable specific (not model specific)\n",
        "vif = pd.DataFrame()\n",
        "\n",
        "# here we make use of the variance_inflation_factor, which will basically output the respective VIFs\n",
        "vif[\"VIF\"] = [variance_inflation_factor(variables.values, i) for i in range(variables.shape[1])]\n",
        "# Finally, I like to include names so it is easier to explore the result\n",
        "vif[\"Features\"] = variables.columns\n",
        "vif"
      ],
      "execution_count": 30,
      "outputs": [
        {
          "output_type": "execute_result",
          "data": {
            "text/html": [
              "<div>\n",
              "<style scoped>\n",
              "    .dataframe tbody tr th:only-of-type {\n",
              "        vertical-align: middle;\n",
              "    }\n",
              "\n",
              "    .dataframe tbody tr th {\n",
              "        vertical-align: top;\n",
              "    }\n",
              "\n",
              "    .dataframe thead th {\n",
              "        text-align: right;\n",
              "    }\n",
              "</style>\n",
              "<table border=\"1\" class=\"dataframe\">\n",
              "  <thead>\n",
              "    <tr style=\"text-align: right;\">\n",
              "      <th></th>\n",
              "      <th>VIF</th>\n",
              "      <th>Features</th>\n",
              "    </tr>\n",
              "  </thead>\n",
              "  <tbody>\n",
              "    <tr>\n",
              "      <th>0</th>\n",
              "      <td>9.113766</td>\n",
              "      <td>Age</td>\n",
              "    </tr>\n",
              "    <tr>\n",
              "      <th>1</th>\n",
              "      <td>15.852152</td>\n",
              "      <td>EaseofUse</td>\n",
              "    </tr>\n",
              "    <tr>\n",
              "      <th>2</th>\n",
              "      <td>23.313341</td>\n",
              "      <td>Effectiveness</td>\n",
              "    </tr>\n",
              "    <tr>\n",
              "      <th>3</th>\n",
              "      <td>18.253835</td>\n",
              "      <td>Satisfaction</td>\n",
              "    </tr>\n",
              "  </tbody>\n",
              "</table>\n",
              "</div>"
            ],
            "text/plain": [
              "         VIF       Features\n",
              "0   9.113766            Age\n",
              "1  15.852152      EaseofUse\n",
              "2  23.313341  Effectiveness\n",
              "3  18.253835   Satisfaction"
            ]
          },
          "metadata": {
            "tags": []
          },
          "execution_count": 30
        }
      ]
    },
    {
      "cell_type": "markdown",
      "metadata": {
        "id": "efGvHc2mxDg1",
        "colab_type": "text"
      },
      "source": [
        "Looking at the result of variance inflation factor, all numerical features have high multicolinearity. However, the VIF of Effectiveness is highest, so we will remove it from the model."
      ]
    },
    {
      "cell_type": "code",
      "metadata": {
        "id": "ecSPY7c1xGiB",
        "colab_type": "code",
        "colab": {
          "base_uri": "https://localhost:8080/",
          "height": 0
        },
        "outputId": "c7ea0195-d1c8-4c30-e804-96de9982c3e9"
      },
      "source": [
        "#drop effectiveness\n",
        "df = df.drop(['Effectiveness'],axis=1)\n",
        "#display new dataframe\n",
        "df.head()"
      ],
      "execution_count": 31,
      "outputs": [
        {
          "output_type": "execute_result",
          "data": {
            "text/html": [
              "<div>\n",
              "<style scoped>\n",
              "    .dataframe tbody tr th:only-of-type {\n",
              "        vertical-align: middle;\n",
              "    }\n",
              "\n",
              "    .dataframe tbody tr th {\n",
              "        vertical-align: top;\n",
              "    }\n",
              "\n",
              "    .dataframe thead th {\n",
              "        text-align: right;\n",
              "    }\n",
              "</style>\n",
              "<table border=\"1\" class=\"dataframe\">\n",
              "  <thead>\n",
              "    <tr style=\"text-align: right;\">\n",
              "      <th></th>\n",
              "      <th>Age</th>\n",
              "      <th>Condition</th>\n",
              "      <th>Drug</th>\n",
              "      <th>EaseofUse</th>\n",
              "      <th>Satisfaction</th>\n",
              "      <th>Sex</th>\n",
              "      <th>Age_group</th>\n",
              "      <th>Age_group_label</th>\n",
              "    </tr>\n",
              "  </thead>\n",
              "  <tbody>\n",
              "    <tr>\n",
              "      <th>0</th>\n",
              "      <td>20</td>\n",
              "      <td>Neuropathic Pain</td>\n",
              "      <td>oxycodone</td>\n",
              "      <td>1</td>\n",
              "      <td>1</td>\n",
              "      <td>Female</td>\n",
              "      <td>(0, 20]</td>\n",
              "      <td>1</td>\n",
              "    </tr>\n",
              "    <tr>\n",
              "      <th>1</th>\n",
              "      <td>20</td>\n",
              "      <td>Neuropathic Pain</td>\n",
              "      <td>oxycodone</td>\n",
              "      <td>4</td>\n",
              "      <td>4</td>\n",
              "      <td>Male</td>\n",
              "      <td>(0, 20]</td>\n",
              "      <td>1</td>\n",
              "    </tr>\n",
              "    <tr>\n",
              "      <th>2</th>\n",
              "      <td>20</td>\n",
              "      <td>Neuropathic Pain</td>\n",
              "      <td>oxycodone</td>\n",
              "      <td>4</td>\n",
              "      <td>4</td>\n",
              "      <td>Male</td>\n",
              "      <td>(0, 20]</td>\n",
              "      <td>1</td>\n",
              "    </tr>\n",
              "    <tr>\n",
              "      <th>3</th>\n",
              "      <td>20</td>\n",
              "      <td>Neuropathic Pain</td>\n",
              "      <td>oxycodone</td>\n",
              "      <td>3</td>\n",
              "      <td>4</td>\n",
              "      <td>Female</td>\n",
              "      <td>(0, 20]</td>\n",
              "      <td>1</td>\n",
              "    </tr>\n",
              "    <tr>\n",
              "      <th>4</th>\n",
              "      <td>20</td>\n",
              "      <td>Neuropathic Pain</td>\n",
              "      <td>oxycodone</td>\n",
              "      <td>5</td>\n",
              "      <td>5</td>\n",
              "      <td>Female</td>\n",
              "      <td>(0, 20]</td>\n",
              "      <td>1</td>\n",
              "    </tr>\n",
              "  </tbody>\n",
              "</table>\n",
              "</div>"
            ],
            "text/plain": [
              "   Age         Condition       Drug  ...     Sex  Age_group Age_group_label\n",
              "0   20  Neuropathic Pain  oxycodone  ...  Female    (0, 20]               1\n",
              "1   20  Neuropathic Pain  oxycodone  ...    Male    (0, 20]               1\n",
              "2   20  Neuropathic Pain  oxycodone  ...    Male    (0, 20]               1\n",
              "3   20  Neuropathic Pain  oxycodone  ...  Female    (0, 20]               1\n",
              "4   20  Neuropathic Pain  oxycodone  ...  Female    (0, 20]               1\n",
              "\n",
              "[5 rows x 8 columns]"
            ]
          },
          "metadata": {
            "tags": []
          },
          "execution_count": 31
        }
      ]
    },
    {
      "cell_type": "markdown",
      "metadata": {
        "id": "XeWAu8N1iiNR",
        "colab_type": "text"
      },
      "source": [
        "# **MACHINE LEARNING MODELING**"
      ]
    },
    {
      "cell_type": "markdown",
      "metadata": {
        "id": "VN5a0Pw8MJ3-",
        "colab_type": "text"
      },
      "source": [
        "## Create dummy variable\n",
        "To include the categorical data in the regression, let's create dummy variable encoding on nominal features using a very 'convenient method called: get_dummies' which does that seemlessly. It is extremely important that we drop one of the dummies, alternatively will introduce multicollinearity."
      ]
    },
    {
      "cell_type": "code",
      "metadata": {
        "id": "xLv_OpzPqmOp",
        "colab_type": "code",
        "colab": {}
      },
      "source": [
        "df2 = pd.get_dummies(df[['Age','EaseofUse','Satisfaction','Sex']], drop_first=True)\n",
        "\n",
        "# Concatenated with a Drug label on transformed dataframe: \n",
        "df = pd.concat([df2, df['Drug']], axis=1)"
      ],
      "execution_count": 32,
      "outputs": []
    },
    {
      "cell_type": "markdown",
      "metadata": {
        "id": "7AsS2is6M9hK",
        "colab_type": "text"
      },
      "source": [
        "## Split input features and output label\n",
        "Using split_train_test function partition original data into training and test sets for training and evaluation of any machine learning modeling task.  \n",
        "After partitioning the data, we feature scale, the features to re-scale them into a similar range on each feature using scaler function.\n"
      ]
    },
    {
      "cell_type": "code",
      "metadata": {
        "id": "5ruExE1BwDCZ",
        "colab_type": "code",
        "colab": {}
      },
      "source": [
        "#Split train and test\n",
        "X=df.drop('Drug', axis=1)\n",
        "#Feature Scaling\n",
        "scaler=StandardScaler()\n",
        "X=scaler.fit_transform(X)\n",
        "\n",
        "y=df['Drug']\n",
        "#encoding the categical classes using label encoder\n",
        "lab_enc = preprocessing.LabelEncoder()\n",
        "y=lab_enc.fit_transform(y)\n",
        "y = y.astype(np.int)\n",
        "\n",
        "X_train, X_test, y_train, y_test = train_test_split(X,y,test_size = 0.25,stratify=y)"
      ],
      "execution_count": 33,
      "outputs": []
    },
    {
      "cell_type": "markdown",
      "metadata": {
        "id": "e1j3wlOJQZVj",
        "colab_type": "text"
      },
      "source": [
        "## **Data Modeling**"
      ]
    },
    {
      "cell_type": "markdown",
      "metadata": {
        "id": "JaDjXFET10vx",
        "colab_type": "text"
      },
      "source": [
        "We modeled the data using different classification: Decission Tree, Random Forest, Gradient Boosting, XGBoosting, Extra tree and KNeighbors classifiers and the best model performance out of six will be selected.  \n",
        "\n",
        "#### Tune Hyperparameters for Classification\n",
        "Machine learning algorithms have hyperparameters that allow us to tailor the behavior of the algorithm to your specific dataset. In order to find out the best hyperparameters, we modeled cross-validation on the training dataset and create hyperparameter options then selected the best hyperparameter."
      ]
    },
    {
      "cell_type": "markdown",
      "metadata": {
        "id": "x2lorwKc3Zf4",
        "colab_type": "text"
      },
      "source": [
        "### Logistic Regression\n",
        "Logistic regression works by using a logit function to transform input value of features and calculate estimated probabilities of a label in range of [0,1]."
      ]
    },
    {
      "cell_type": "code",
      "metadata": {
        "id": "za_76seq3Zrj",
        "colab_type": "code",
        "colab": {
          "base_uri": "https://localhost:8080/",
          "height": 54
        },
        "outputId": "7a6b8def-b94e-468d-cda5-f4b033cff9cd"
      },
      "source": [
        "# Model: Logistic Regression\n",
        "lr_cv = LogisticRegression(C=0.1,penalty='l2',random_state=0)\n",
        "lr_cv.fit(X_train, y_train)\n",
        "\n",
        "# Hyperparameters Tuning:\n",
        "###############################################################################\n",
        "# RandomizedSearchCV: LogisticRegression #\n",
        "# Create hyperparameter options:\n",
        "param_dist = dict(C=randint(2,100), penalty=['l1','l2'])\n",
        "random_search = RandomizedSearchCV(estimator=lr_cv, param_distributions=param_dist, random_state=0, n_iter=100, cv=4)\n",
        "random_search_lr = random_search.fit(X_train, y_train)\n",
        "\n",
        "# View best hyperparameters\n",
        "print('Best Penalty:', random_search_lr.best_estimator_.get_params()['penalty'])\n",
        "print('Best C:', random_search_lr.best_estimator_.get_params()['C'])\n"
      ],
      "execution_count": 34,
      "outputs": [
        {
          "output_type": "stream",
          "text": [
            "Best Penalty: l2\n",
            "Best C: 46\n"
          ],
          "name": "stdout"
        }
      ]
    },
    {
      "cell_type": "code",
      "metadata": {
        "id": "fyYjfYvp57F8",
        "colab_type": "code",
        "colab": {}
      },
      "source": [
        "lr= LogisticRegression(C=46,penalty='l2',random_state=0)\n",
        "lr.fit(X_train, y_train)\n",
        "y_lr_pred = lr.predict(X_test);"
      ],
      "execution_count": 35,
      "outputs": []
    },
    {
      "cell_type": "markdown",
      "metadata": {
        "id": "z0jqc62c3aKW",
        "colab_type": "text"
      },
      "source": [
        "### Support vector machine\n",
        "\n",
        "Support Vector Machine is used for both regression and classification tasks. In SVM algorithm is to find a hyperplane in an n-dimensional space(n: the number of features) that distinctly classifies the data points. Hyperplanes are decision boundaries that help classify the data points. "
      ]
    },
    {
      "cell_type": "code",
      "metadata": {
        "id": "DU2KpMFNId0c",
        "colab_type": "code",
        "colab": {}
      },
      "source": [
        "# Model: support vector machine\n",
        "svm_cv = SVC(C=1.0, kernel='rbf', degree=3, gamma='scale', coef0=0.0, shrinking=True, probability=False, tol=0.001, \n",
        "                                 random_state=0)\n",
        "svm_cv.fit(X_train, y_train)\n",
        "\n",
        "# Hyperparameters Tuning: Create hyperparameter options\n",
        "param_dist_svm = {\"C\": randint(1, 100),\n",
        "                  \"kernel\": ['linear', 'poly', 'rbf', 'sigmoid'],\n",
        "                  \"gamma\": ['scale', 'auto'],\n",
        "                  \"shrinking\":[True, False],\n",
        "                  }\n",
        "random_search = RandomizedSearchCV(estimator=svm_cv, param_distributions=param_dist_svm, random_state=0, n_iter=100, cv=4)\n",
        "random_search_svm = random_search.fit(X_train, y_train)\n",
        "\n",
        "# View best hyperparameters\n",
        "print('Best shrinking:', random_search_svm.best_estimator_.get_params()['shrinking'])\n",
        "print('Best gamma:', random_search_svm.best_estimator_.get_params()['gamma'])\n",
        "print('Best kernel:', random_search_svm.best_estimator_.get_params()['kernel'])\n",
        "print('Best C:', random_search_svm.best_estimator_.get_params()['C'])"
      ],
      "execution_count": null,
      "outputs": []
    },
    {
      "cell_type": "code",
      "metadata": {
        "id": "9CcEC6DF9-II",
        "colab_type": "code",
        "colab": {}
      },
      "source": [
        "svm = SVC(C=94, kernel='rbf', degree=3, gamma='auto', coef0=0.0, shrinking=True, probability=False, tol=0.001, random_state=0)\n",
        "svm.fit(X_train, y_train)\n",
        "y_svm_pred = svm.predict(X_test);"
      ],
      "execution_count": 37,
      "outputs": []
    },
    {
      "cell_type": "markdown",
      "metadata": {
        "id": "4BlIco8xEW-B",
        "colab_type": "text"
      },
      "source": [
        "### Decision Tree Classifier"
      ]
    },
    {
      "cell_type": "markdown",
      "metadata": {
        "id": "RhMcqSkPUrLg",
        "colab_type": "text"
      },
      "source": [
        "Decision tree is a Supervised Machine Learning where the data is continuously split according to a certain parameter. Decision tree classifier: using the decision algorithm, we start at the tree root and split the data on the feature that results in the largest information gain (IG). In an iterative process, we can then repeat this splitting procedure at each child node until the leaves are pure.\n"
      ]
    },
    {
      "cell_type": "code",
      "metadata": {
        "id": "KROygY2zi3e3",
        "colab_type": "code",
        "colab": {
          "base_uri": "https://localhost:8080/",
          "height": 105
        },
        "outputId": "e2266995-cc92-4861-bdcd-af63f7a3f49e"
      },
      "source": [
        "# Model: DecisionTree [cross-validated train set]\n",
        "tree_cv = DecisionTreeClassifier(criterion='gini', max_depth=8, min_samples_split=2, min_samples_leaf=2, random_state=0)\n",
        "tree_cv.fit(X_train, y_train)\n",
        "\n",
        "# Hyperparameters Tuning: Create hyperparameter options\n",
        "param_dist_dt = {\"criterion\": [\"gini\", \"entropy\"],\n",
        "                  \"max_depth\": randint(10, 100),\n",
        "                  \"max_leaf_nodes\": randint(10, 20),\n",
        "                  \"min_samples_split\": randint(2, 10),\n",
        "                  \"min_samples_leaf\": randint(2, 10)}\n",
        "random_search = RandomizedSearchCV(estimator=tree_cv, param_distributions=param_dist_dt, random_state=0, n_iter=100, cv=4)\n",
        "random_search_dt = random_search.fit(X_train, y_train)\n",
        "\n",
        "# View best hyperparameters\n",
        "print('Best min_samples_split:', random_search_dt.best_estimator_.get_params()['min_samples_split'])\n",
        "print('Best min_samples_leaf:', random_search_dt.best_estimator_.get_params()['min_samples_leaf'])\n",
        "print('Best max_leaf_nodes:', random_search_dt.best_estimator_.get_params()['max_leaf_nodes'])\n",
        "print('Best max_depth:', random_search_dt.best_estimator_.get_params()['max_depth'])\n",
        "print('Best criterion:', random_search_dt.best_estimator_.get_params()['criterion'])"
      ],
      "execution_count": null,
      "outputs": [
        {
          "output_type": "stream",
          "text": [
            "Best min_samples_split: 8\n",
            "Best min_samples_leaf: 8\n",
            "Best max_leaf_nodes: 19\n",
            "Best max_depth: 83\n",
            "Best criterion: gini\n"
          ],
          "name": "stdout"
        }
      ]
    },
    {
      "cell_type": "code",
      "metadata": {
        "id": "BBn5nl9RwDDS",
        "colab_type": "code",
        "colab": {
          "base_uri": "https://localhost:8080/",
          "height": 403
        },
        "outputId": "1c8f2729-688f-429e-f36a-20ff33e7db58"
      },
      "source": [
        "tree = DecisionTreeClassifier(criterion='entropy', max_depth=51, min_samples_split=8, min_samples_leaf=5, max_leaf_nodes=19,\n",
        "                               random_state=0)\n",
        "feat_labels = df.columns[:-1]\n",
        "tree.fit(X_train, y_train)\n",
        "y_tree_pred = tree.predict(X_test);\n",
        "importances = tree.feature_importances_\n",
        "indices = np.argsort(importances)[::-1]\n",
        "\n",
        "for f in range(X_train.shape[1]):\n",
        "  print(\"%2d) %-*s %f\" % (f + 1, 30,  feat_labels[indices[f]], importances[indices[f]]))\n",
        "\n",
        "plt.title('Feature Importance: Decision Tree')\n",
        "plt.bar(range(X_train.shape[1]), importances[indices],  align='center')\n",
        "plt.xticks(range(X_train.shape[1]), feat_labels[indices], rotation=90)\n",
        "plt.xlim(-1, X_train.shape[1])\n",
        "plt.show()"
      ],
      "execution_count": 38,
      "outputs": [
        {
          "output_type": "stream",
          "text": [
            " 1) Satisfaction                   0.490499\n",
            " 2) Age                            0.171873\n",
            " 3) EaseofUse                      0.169652\n",
            " 4) Sex_Male                       0.167975\n"
          ],
          "name": "stdout"
        },
        {
          "output_type": "display_data",
          "data": {
            "image/png": "[encoded data removed]",
            "text/plain": [
              "<Figure size 432x288 with 1 Axes>"
            ]
          },
          "metadata": {
            "tags": [],
            "needs_background": "light"
          }
        }
      ]
    },
    {
      "cell_type": "markdown",
      "metadata": {
        "id": "l5RNzkUi24WU",
        "colab_type": "text"
      },
      "source": [
        "### Random Forest Classifier\n",
        "\n",
        "random forest is comprised of trees that the more trees it has, the more robust a forest is. Random forests creates decision trees on randomly selected data samples, gets prediction from each tree and selects the best solution by means of voting. \n",
        "\n",
        "\n"
      ]
    },
    {
      "cell_type": "code",
      "metadata": {
        "id": "ihwY8F0SjEIB",
        "colab_type": "code",
        "colab": {}
      },
      "source": [
        "# Model: RandomForest [cross-validated and train set]\n",
        "rf_cv = RandomForestClassifier(criterion='gini',n_estimators=50, max_depth=1, min_samples_split=2, random_state=0, n_jobs=1)\n",
        "rf_cv.fit(X_train, y_train)\n",
        "\n",
        "# Hyperparameters Tuning: Create hyperparameter options\n",
        "param_dist_rf = {\"n_estimators\": randint(20, 200), \n",
        "                 \"max_depth\": randint(10, 100),\n",
        "                  \"min_samples_split\": randint(2, 10),\n",
        "                  \"min_samples_leaf\": randint(2, 10),\n",
        "                  \"bootstrap\": [True, False],\n",
        "                  \"criterion\": [\"gini\", \"entropy\"]}\n",
        "random_search = RandomizedSearchCV(estimator=rf_cv, param_distributions=param_dist_rf, random_state=0, n_iter=100, cv=4)\n",
        "random_search_rf = random_search.fit(X_train, y_train)\n",
        "\n",
        "# View best hyperparameters\n",
        "print('Best n_estimators:', random_search_rf.best_estimator_.get_params()['n_estimators'])\n",
        "print('Best max_depth:', random_search_rf.best_estimator_.get_params()['max_depth'])\n",
        "print('Best min_samples_split:', random_search_rf.best_estimator_.get_params()['min_samples_split'])\n",
        "print('Best bootstrap:', random_search_rf.best_estimator_.get_params()['bootstrap'])\n",
        "print('Best min_samples_leaf:', random_search_rf.best_estimator_.get_params()['min_samples_leaf'])"
      ],
      "execution_count": null,
      "outputs": []
    },
    {
      "cell_type": "code",
      "metadata": {
        "id": "8Qfm1qxRwDDY",
        "colab_type": "code",
        "colab": {
          "base_uri": "https://localhost:8080/",
          "height": 403
        },
        "outputId": "2a3ca09a-b91e-4f8b-d55c-b674ed747c24"
      },
      "source": [
        "# Model prediction: Using a Random Forest:\n",
        "rf = RandomForestClassifier(criterion='entropy', max_depth=33, min_samples_split=6, min_samples_leaf=2, n_estimators=120, \n",
        "                            bootstrap= True,random_state=0)\n",
        "rf.fit(X_train, y_train)\n",
        "y_rf_pred = rf.predict(X_test);\n",
        "feat_labels = df.columns[:-1]\n",
        "importances = rf.feature_importances_\n",
        "indices = np.argsort(importances)[::-1]\n",
        "\n",
        "for f in range(X_train.shape[1]):\n",
        "  print(\"%2d) %-*s %f\" % (f + 1, 30, feat_labels[indices[f]], importances[indices[f]]))\n",
        "\n",
        "plt.figure()    \n",
        "plt.title('Feature Importance: Random Forest')\n",
        "plt.bar(range(X_train.shape[1]), importances[indices], align='center')\n",
        "plt.xticks(range(X_train.shape[1]), feat_labels[indices], rotation=90)\n",
        "plt.xlim(-1, X_train.shape[1])\n",
        "plt.show()"
      ],
      "execution_count": 39,
      "outputs": [
        {
          "output_type": "stream",
          "text": [
            " 1) Age                            0.399935\n",
            " 2) EaseofUse                      0.261097\n",
            " 3) Satisfaction                   0.258259\n",
            " 4) Sex_Male                       0.080709\n"
          ],
          "name": "stdout"
        },
        {
          "output_type": "display_data",
          "data": {
            "image/png": "[encoded data removed]",
            "text/plain": [
              "<Figure size 432x288 with 1 Axes>"
            ]
          },
          "metadata": {
            "tags": [],
            "needs_background": "light"
          }
        }
      ]
    },
    {
      "cell_type": "markdown",
      "metadata": {
        "id": "5lP8aNwWHNBK",
        "colab_type": "text"
      },
      "source": [
        "### KNeighbors Classifier\n",
        "The KNN algorithm assumes that similar things exist in close proximity. It involves three steps: calculating the distance between points, finding the closest neighbors and voting for the labels."
      ]
    },
    {
      "cell_type": "code",
      "metadata": {
        "id": "JvEBBkfWwDD5",
        "colab_type": "code",
        "colab": {
          "base_uri": "https://localhost:8080/",
          "height": 571
        },
        "outputId": "199b9f22-9bbf-4a33-c01b-76fae763c030"
      },
      "source": [
        "knn = KNeighborsClassifier(3)\n",
        "knn.fit(X_train, y_train)\n",
        "y_knn_pred = knn.predict(X_test)\n",
        "sk_report = classification_report(digits=3, y_true=y_test, y_pred=y_knn_pred)\n",
        "print('KNeighborsClassifier Result')\n",
        "print(sk_report)\n",
        "print('roc_auc_score of KNeighborsClassifier is: '+str(roc_auc_score(y_test, y_knn_pred)))"
      ],
      "execution_count": 42,
      "outputs": [
        {
          "output_type": "stream",
          "text": [
            "KNeighborsClassifier Result\n",
            "              precision    recall  f1-score   support\n",
            "\n",
            "           0      0.315     0.496     0.386       496\n",
            "           1      0.314     0.267     0.289       498\n",
            "           2      0.357     0.225     0.276       498\n",
            "           3      0.419     0.398     0.409       497\n",
            "\n",
            "    accuracy                          0.346      1989\n",
            "   macro avg      0.351     0.347     0.340      1989\n",
            "weighted avg      0.351     0.346     0.340      1989\n",
            "\n"
          ],
          "name": "stdout"
        },
        {
          "output_type": "error",
          "ename": "ValueError",
          "evalue": "ignored",
          "traceback": [
            "\u001b[0;31m---------------------------------------------------------------------------\u001b[0m",
            "\u001b[0;31mValueError\u001b[0m                                Traceback (most recent call last)",
            "\u001b[0;32m<ipython-input-42-f9038aae8484>\u001b[0m in \u001b[0;36m<module>\u001b[0;34m()\u001b[0m\n\u001b[1;32m      5\u001b[0m \u001b[0mprint\u001b[0m\u001b[0;34m(\u001b[0m\u001b[0;34m'KNeighborsClassifier Result'\u001b[0m\u001b[0;34m)\u001b[0m\u001b[0;34m\u001b[0m\u001b[0;34m\u001b[0m\u001b[0m\n\u001b[1;32m      6\u001b[0m \u001b[0mprint\u001b[0m\u001b[0;34m(\u001b[0m\u001b[0msk_report\u001b[0m\u001b[0;34m)\u001b[0m\u001b[0;34m\u001b[0m\u001b[0;34m\u001b[0m\u001b[0m\n\u001b[0;32m----> 7\u001b[0;31m \u001b[0mprint\u001b[0m\u001b[0;34m(\u001b[0m\u001b[0;34m'roc_auc_score of KNeighborsClassifier is: '\u001b[0m\u001b[0;34m+\u001b[0m\u001b[0mstr\u001b[0m\u001b[0;34m(\u001b[0m\u001b[0mroc_auc_score\u001b[0m\u001b[0;34m(\u001b[0m\u001b[0my_test\u001b[0m\u001b[0;34m,\u001b[0m \u001b[0my_knn_pred\u001b[0m\u001b[0;34m)\u001b[0m\u001b[0;34m)\u001b[0m\u001b[0;34m)\u001b[0m\u001b[0;34m\u001b[0m\u001b[0;34m\u001b[0m\u001b[0m\n\u001b[0m",
            "\u001b[0;32m/usr/local/lib/python3.6/dist-packages/sklearn/metrics/_ranking.py\u001b[0m in \u001b[0;36mroc_auc_score\u001b[0;34m(y_true, y_score, average, sample_weight, max_fpr, multi_class, labels)\u001b[0m\n\u001b[1;32m    379\u001b[0m                              \"instead\".format(max_fpr))\n\u001b[1;32m    380\u001b[0m         \u001b[0;32mif\u001b[0m \u001b[0mmulti_class\u001b[0m \u001b[0;34m==\u001b[0m \u001b[0;34m'raise'\u001b[0m\u001b[0;34m:\u001b[0m\u001b[0;34m\u001b[0m\u001b[0;34m\u001b[0m\u001b[0m\n\u001b[0;32m--> 381\u001b[0;31m             \u001b[0;32mraise\u001b[0m \u001b[0mValueError\u001b[0m\u001b[0;34m(\u001b[0m\u001b[0;34m\"multi_class must be in ('ovo', 'ovr')\"\u001b[0m\u001b[0;34m)\u001b[0m\u001b[0;34m\u001b[0m\u001b[0;34m\u001b[0m\u001b[0m\n\u001b[0m\u001b[1;32m    382\u001b[0m         return _multiclass_roc_auc_score(y_true, y_score, labels,\n\u001b[1;32m    383\u001b[0m                                          multi_class, average, sample_weight)\n",
            "\u001b[0;31mValueError\u001b[0m: multi_class must be in ('ovo', 'ovr')"
          ]
        }
      ]
    },
    {
      "cell_type": "markdown",
      "metadata": {
        "id": "t2H5M8VTHzGA",
        "colab_type": "text"
      },
      "source": [
        "In order to address the issue of the above error \"ValueError: multiclass format is not supported\" we converted the target class Label binarizer using the following function."
      ]
    },
    {
      "cell_type": "code",
      "metadata": {
        "id": "SXQ83EkTHrs6",
        "colab_type": "code",
        "colab": {}
      },
      "source": [
        "def multiclass_roc_auc_score(y_test,y_pred,average=\"macro\"):\n",
        "  lb = preprocessing.LabelBinarizer()\n",
        "  lb.fit(y_test)\n",
        "  y_test=lb.transform(y_test)\n",
        "  y_pred=lb.transform(y_pred)\n",
        "  return roc_auc_score(y_test,y_pred,average=average)"
      ],
      "execution_count": 43,
      "outputs": []
    },
    {
      "cell_type": "code",
      "metadata": {
        "id": "RB79oRETH49d",
        "colab_type": "code",
        "colab": {
          "base_uri": "https://localhost:8080/",
          "height": 35
        },
        "outputId": "68343da0-5f89-4861-de24-41ab4c8d47ae"
      },
      "source": [
        "print('roc_auc_score of KNeighborsClassifier is: '+str(multiclass_roc_auc_score(y_test, y_knn_pred)))"
      ],
      "execution_count": 44,
      "outputs": [
        {
          "output_type": "stream",
          "text": [
            "roc_auc_score of KNeighborsClassifier is: 0.5643788551281936\n"
          ],
          "name": "stdout"
        }
      ]
    },
    {
      "cell_type": "markdown",
      "metadata": {
        "id": "bBR3nArnG4z2",
        "colab_type": "text"
      },
      "source": [
        "Compare the accuracy the models so far."
      ]
    },
    {
      "cell_type": "code",
      "metadata": {
        "id": "ETCkhnZiG5HD",
        "colab_type": "code",
        "colab": {
          "base_uri": "https://localhost:8080/",
          "height": 108
        },
        "outputId": "4b174ebd-2cc3-4ffc-e709-717aba28a5bf"
      },
      "source": [
        "names = [\"Logistic Regression\", \"Support Vector Machine\",\"Decision Tree\", \"Random Forest\", \"KNeighbors\", ]\n",
        "\n",
        "classifiers = [\n",
        "    LogisticRegression(C=46,penalty='l2',random_state=0),\n",
        "    SVC(C=94, kernel='rbf', degree=3, gamma='auto', coef0=0.0, shrinking=True, probability=False, tol=0.001, random_state=0),\n",
        "    DecisionTreeClassifier(criterion='entropy', max_depth=51, min_samples_split=8, min_samples_leaf=5, max_leaf_nodes=19,\n",
        "                               random_state=0),\n",
        "    RandomForestClassifier(criterion='entropy', max_depth=33, min_samples_split=6, min_samples_leaf=2, n_estimators=120, \n",
        "                            bootstrap= True,random_state=0),\n",
        "    KNeighborsClassifier(3)\n",
        "    ]\n",
        "\n",
        "res = []\n",
        "res2 = []\n",
        "for name, clf in zip(names, classifiers):\n",
        "    clf.fit(X_train, y_train)\n",
        "    res.append(clf.predict(X_test))\n",
        "    temp = clf.predict(X_train)\n",
        "    res2.append(temp)\n",
        "    print(name, \" : \", accuracy_score(y_train, temp))"
      ],
      "execution_count": 45,
      "outputs": [
        {
          "output_type": "stream",
          "text": [
            "Logistic Regression  :  0.33601609657947684\n",
            "Support Vector Machine  :  0.43326626425217973\n",
            "Decision Tree  :  0.3670355466130114\n",
            "Random Forest  :  0.4520456069751844\n",
            "KNeighbors  :  0.375083836351442\n"
          ],
          "name": "stdout"
        }
      ]
    },
    {
      "cell_type": "markdown",
      "metadata": {
        "id": "c7IwLnv3SjWg",
        "colab_type": "text"
      },
      "source": [
        "Looking at the model accuracies above, Decision Tree and Random Forest performs well compared to othe models (Logistic Regression, Support Vector Machine and KNeighbors Classifier). Hence, let's explore more with an ensemble of decision trees and other related ensembles of decision trees algorithms. "
      ]
    },
    {
      "cell_type": "markdown",
      "metadata": {
        "id": "VG--MeTL3JpV",
        "colab_type": "text"
      },
      "source": [
        "### Gradient Boosting Classifier\n",
        "Gradient Boosting Classifiers are a group of machine learning algorithms that combine many weak learning models together to create a strong predictive model. The idea behind is to take a weak hypothesis or weak learning algorithm and make a series of tweaks to it that will improve the strength of the hypothesis/learner based on the idea of Probability Approximately Correct Learning (PAC).\n",
        "\n",
        "\n",
        " "
      ]
    },
    {
      "cell_type": "code",
      "metadata": {
        "id": "Ord4Vwh1jWHd",
        "colab_type": "code",
        "colab": {}
      },
      "source": [
        "# Model: Gradient Boosting Classifier [cross-validated and train set]\n",
        "gbc_cv = GradientBoostingClassifier(criterion='mse',n_estimators=50, max_depth=1, min_samples_split=2, random_state=0)\n",
        "gbc_cv.fit(X_train, y_train)\n",
        "\n",
        "# Hyperparameters Tuning: Create hyperparameter options\n",
        "param_dist_gbc = {\"n_estimators\": randint(20, 200), \n",
        "                 \"max_depth\": randint(10, 100),\n",
        "                 \"min_samples_split\": randint(2, 10),\n",
        "                 \"min_samples_leaf\": randint(2, 10),\n",
        "                 \"criterion\": [\"friedman_mse\", \"mse\", \"mae\"]}\n",
        "random_search = RandomizedSearchCV(estimator=gbc_cv, param_distributions=param_dist_gbc, random_state=0, n_iter=100, cv=4)\n",
        "random_search_gbc = random_search.fit(X_train, y_train)\n",
        "\n",
        "# View best hyperparameters\n",
        "print('Best n_estimators:', random_search_gbc.best_estimator_.get_params()['n_estimators'])\n",
        "print('Best max_depth:', random_search_gbc.best_estimator_.get_params()['max_depth'])\n",
        "print('Best min_samples_split:', random_search_gbc.best_estimator_.get_params()['min_samples_split'])\n",
        "print('Best min_samples_leaf:', random_search_gbc.best_estimator_.get_params()['min_samples_leaf'])\n"
      ],
      "execution_count": null,
      "outputs": []
    },
    {
      "cell_type": "code",
      "metadata": {
        "id": "lG_ik9lawDDc",
        "colab_type": "code",
        "colab": {
          "base_uri": "https://localhost:8080/",
          "height": 403
        },
        "outputId": "54ce93f8-b485-422c-d750-0a5326255474"
      },
      "source": [
        "# Feature Selection: Using a Gradient Boosting Classifier:\n",
        "gbc = GradientBoostingClassifier(criterion='mse', max_depth=89, min_samples_split=7, min_samples_leaf=9, n_estimators=159, \n",
        "                            random_state=0)\n",
        "gbc.fit(X_train, y_train)\n",
        "y_gbc_pred = gbc.predict(X_test)\n",
        "feat_labels = df.columns[:-1]\n",
        "importances = gbc.feature_importances_\n",
        "indices = np.argsort(importances)[::-1]\n",
        "\n",
        "for f in range(X_train.shape[1]):\n",
        "  print(\"%2d) %-*s %f\" % (f + 1, 30, feat_labels[indices[f]], importances[indices[f]]))\n",
        "\n",
        "plt.figure()    \n",
        "plt.title('Feature Importance: Gradient Boosting')\n",
        "plt.bar(range(X_train.shape[1]), importances[indices], align='center')\n",
        "plt.xticks(range(X_train.shape[1]), feat_labels[indices], rotation=90)\n",
        "plt.xlim(-1, X_train.shape[1])\n",
        "plt.show()"
      ],
      "execution_count": 46,
      "outputs": [
        {
          "output_type": "stream",
          "text": [
            " 1) Satisfaction                   0.332368\n",
            " 2) Age                            0.310077\n",
            " 3) EaseofUse                      0.255352\n",
            " 4) Sex_Male                       0.102203\n"
          ],
          "name": "stdout"
        },
        {
          "output_type": "display_data",
          "data": {
            "image/png": "[encoded data removed]",
            "text/plain": [
              "<Figure size 432x288 with 1 Axes>"
            ]
          },
          "metadata": {
            "tags": [],
            "needs_background": "light"
          }
        }
      ]
    },
    {
      "cell_type": "markdown",
      "metadata": {
        "id": "3IitN2Et3Rp7",
        "colab_type": "text"
      },
      "source": [
        "### XGBoost Classifier\n",
        "XGBoost (eXtreme Gradient Boosting) is an advanced implementation of gradient boosting algorithm designed to be highly efficient, flexible and portable."
      ]
    },
    {
      "cell_type": "code",
      "metadata": {
        "id": "-wxWpvlR7CyA",
        "colab_type": "code",
        "colab": {
          "base_uri": "https://localhost:8080/",
          "height": 105
        },
        "outputId": "843a51ae-2645-4ad2-844c-43b62aeb7e31"
      },
      "source": [
        "# Model: XGBClassifier [cross-validated and standardization of train set]\n",
        "xgb_cv = XGBClassifier(n_estimators=50, learning_rate=0.2, max_depth=1, random_state=0, n_jobs=1)\n",
        "xgb_cv.fit(X_train, y_train)\n",
        "\n",
        "# Hyperparameters Tuning: Create hyperparameter options:\n",
        "param_dist_xgb = {\"n_estimators\": randint(20, 200), \n",
        "                 \"max_depth\": randint(10, 100),\n",
        "                  \"learning_rate\": np.random.uniform(0,1,10),\n",
        "                  \"objective\": ['binary:logistic','reg:linear'],\n",
        "                  \"booster\": ['gbtree','gblinear']}\n",
        "random_search = RandomizedSearchCV(estimator=xgb_cv, param_distributions=param_dist_xgb,\n",
        "                                   random_state=0, n_iter=100, cv=4)\n",
        "random_search_xgb = random_search.fit(X_train, y_train)\n",
        "\n",
        "# View best hyperparameters\n",
        "print('Best n_estimators:', random_search_xgb.best_estimator_.get_params()['n_estimators'])\n",
        "print('Best max_depth:', random_search_xgb.best_estimator_.get_params()['max_depth'])\n",
        "print('Best learning_rate:', random_search_xgb.best_estimator_.get_params()['learning_rate'])\n",
        "print('Best objective:', random_search_xgb.best_estimator_.get_params()['objective'])\n",
        "print('Best booster:', random_search_xgb.best_estimator_.get_params()['booster'])\n"
      ],
      "execution_count": null,
      "outputs": [
        {
          "output_type": "stream",
          "text": [
            "Best n_estimators: 63\n",
            "Best max_depth: 45\n",
            "Best learning_rate: 0.9707161877673031\n",
            "Best objective: multi:softprob\n",
            "Best booster: gbtree\n"
          ],
          "name": "stdout"
        }
      ]
    },
    {
      "cell_type": "code",
      "metadata": {
        "id": "uGwe-ZTDwDDh",
        "colab_type": "code",
        "colab": {
          "base_uri": "https://localhost:8080/",
          "height": 403
        },
        "outputId": "cf33e4ac-f8ac-4751-a5fc-5bdf82e7aefb"
      },
      "source": [
        "# Model prediction using a XGBClassifier: hold-out test set:  \n",
        "xgb = XGBClassifier(n_estimators=63, learning_rate=0.97, max_depth=45, objective=\"multi:softprob\",  random_state=0)\n",
        "xgb.fit(X_train, y_train)\n",
        "y_xgb_pred = xgb.predict(X_test)\n",
        "feat_labels = df.columns[:-1]\n",
        "importances = xgb.feature_importances_\n",
        "indices = np.argsort(importances)[::-1]\n",
        "\n",
        "for f in range(X_train.shape[1]):\n",
        "  print(\"%2d) %-*s %f\" % (f + 1, 30, feat_labels[indices[f]], importances[indices[f]]))\n",
        "\n",
        "plt.figure()    \n",
        "plt.title('Feature Importance: XGBClassifier')\n",
        "plt.bar(range(X_train.shape[1]), importances[indices], align='center')\n",
        "plt.xticks(range(X_train.shape[1]), feat_labels[indices], rotation=90)\n",
        "plt.xlim(-1, X_train.shape[1])\n",
        "plt.show()"
      ],
      "execution_count": 47,
      "outputs": [
        {
          "output_type": "stream",
          "text": [
            " 1) Satisfaction                   0.287248\n",
            " 2) EaseofUse                      0.252757\n",
            " 3) Age                            0.230583\n",
            " 4) Sex_Male                       0.229411\n"
          ],
          "name": "stdout"
        },
        {
          "output_type": "display_data",
          "data": {
            "image/png": "[encoded data removed]",
            "text/plain": [
              "<Figure size 432x288 with 1 Axes>"
            ]
          },
          "metadata": {
            "tags": [],
            "needs_background": "light"
          }
        }
      ]
    },
    {
      "cell_type": "markdown",
      "metadata": {
        "id": "LejjtG_i3Yr4",
        "colab_type": "text"
      },
      "source": [
        "### Extra Trees Classifier\n",
        "The predictions of the trees are aggregated to yield the final prediction, by majority vote in classification problems and arithmetic average in regression problems.\n"
      ]
    },
    {
      "cell_type": "code",
      "metadata": {
        "id": "vm-hhCOAQHDB",
        "colab_type": "code",
        "colab": {}
      },
      "source": [
        "# Model: XGBClassifier [cross-validated and standardization of train set]\n",
        "etc_cv = ExtraTreesClassifier(n_estimators=50, criterion='gini', max_depth=1, random_state=0, n_jobs=1)\n",
        "etc_cv.fit(X_train, y_train)\n",
        "\n",
        "# Hyperparameters Tuning: Create hyperparameter options:\n",
        "param_dist_etc = {\"n_estimators\": randint(20, 200), \n",
        "                 \"max_depth\": randint(10, 100),\n",
        "                  \"min_samples_split\": randint(2, 10),\n",
        "                  \"min_samples_leaf\": randint(2, 10),\n",
        "                  \"criterion\": ['gini', 'entropy'],\n",
        "                  \"bootstrap\": ['True','False']}\n",
        "random_search = RandomizedSearchCV(estimator=etc_cv, param_distributions=param_dist_etc,\n",
        "                                   random_state=0, n_iter=100, cv=4)\n",
        "random_search_etc = random_search.fit(X_train, y_train)\n",
        "\n",
        "# View best hyperparameters\n",
        "print('Best n_estimators:', random_search_etc.best_estimator_.get_params()['n_estimators'])\n",
        "print('Best max_depth:', random_search_etc.best_estimator_.get_params()['max_depth'])\n",
        "print('Best criterion:', random_search_etc.best_estimator_.get_params()['criterion'])\n",
        "print('Best min_samples_split:', random_search_etc.best_estimator_.get_params()['min_samples_split'])\n",
        "print('Best min_samples_leaf:', random_search_etc.best_estimator_.get_params()['min_samples_leaf'])\n"
      ],
      "execution_count": null,
      "outputs": []
    },
    {
      "cell_type": "code",
      "metadata": {
        "id": "_RQz15igwDDn",
        "colab_type": "code",
        "colab": {
          "base_uri": "https://localhost:8080/",
          "height": 403
        },
        "outputId": "832e1984-ad07-4d7b-a2d9-8e7976894fe9"
      },
      "source": [
        "# Feature Selection: Using a Extra Trees Classifier:\n",
        "etc = ExtraTreesClassifier(n_estimators=72, max_depth=55, criterion= 'entropy', min_samples_split=7, min_samples_leaf=9,random_state=0)\n",
        "etc.fit(X_train, y_train)\n",
        "y_etc_pred = etc.predict(X_test)\n",
        "feat_labels = df.columns[:-1]\n",
        "importances = etc.feature_importances_\n",
        "indices = np.argsort(importances)[::-1]\n",
        "\n",
        "for f in range(X_train.shape[1]):\n",
        "  print(\"%2d) %-*s %f\" % (f + 1, 30, feat_labels[indices[f]], importances[indices[f]]))\n",
        "\n",
        "plt.figure()    \n",
        "plt.title('Feature Importance: Extra Trees')\n",
        "plt.bar(range(X_train.shape[1]), importances[indices], align='center')\n",
        "plt.xticks(range(X_train.shape[1]), feat_labels[indices], rotation=90)\n",
        "plt.xlim(-1, X_train.shape[1])\n",
        "plt.show()"
      ],
      "execution_count": 48,
      "outputs": [
        {
          "output_type": "stream",
          "text": [
            " 1) Age                            0.348117\n",
            " 2) Satisfaction                   0.318980\n",
            " 3) EaseofUse                      0.216653\n",
            " 4) Sex_Male                       0.116251\n"
          ],
          "name": "stdout"
        },
        {
          "output_type": "display_data",
          "data": {
            "image/png": "[encoded data removed]",
            "text/plain": [
              "<Figure size 432x288 with 1 Axes>"
            ]
          },
          "metadata": {
            "tags": [],
            "needs_background": "light"
          }
        }
      ]
    },
    {
      "cell_type": "markdown",
      "metadata": {
        "id": "S4IstWE64GOO",
        "colab_type": "text"
      },
      "source": [
        "### Bagging Classifier\n",
        "In bagging classifier the algorithm builds multiple models from randomly taken subsets of train dataset and aggregates learners to build overall stronger learner."
      ]
    },
    {
      "cell_type": "code",
      "metadata": {
        "id": "8OAh1AFOb0vm",
        "colab_type": "code",
        "colab": {}
      },
      "source": [
        "# Model: XGBClassifier [cross-validated and standardization of train set]\n",
        "bag_cv = BaggingClassifier(n_estimators=50, max_samples=1.0, max_features=1.0, random_state=0, n_jobs=1)\n",
        "bag_cv.fit(X_train, y_train)\n",
        "\n",
        "# Hyperparameters Tuning: Create hyperparameter options:\n",
        "param_dist_bag = {\"n_estimators\": randint(20, 200), \n",
        "                 \"max_features\": randint(1, 100),\n",
        "                  \"max_samples\": randint(1, 10),\n",
        "                  \"bootstrap\":[True, False]\n",
        "                  }\n",
        "random_search = RandomizedSearchCV(estimator=bag_cv, param_distributions=param_dist_bag,\n",
        "                                   random_state=0, n_iter=100, cv=4)\n",
        "random_search_bag = random_search.fit(X_train, y_train)\n",
        "\n",
        "# View best hyperparameters\n",
        "print('Best n_estimators:', random_search_bag.best_estimator_.get_params()['n_estimators'])\n",
        "print('Best max_features:', random_search_bag.best_estimator_.get_params()['max_features'])\n",
        "print('Best max_samples:', random_search_bag.best_estimator_.get_params()['max_samples'])\n",
        "print('Best bootstrap:', random_search_bag.best_estimator_.get_params()['bootstrap'])\n"
      ],
      "execution_count": null,
      "outputs": []
    },
    {
      "cell_type": "code",
      "metadata": {
        "id": "TYelfSptwDD-",
        "colab_type": "code",
        "colab": {
          "base_uri": "https://localhost:8080/",
          "height": 254
        },
        "outputId": "801ec17b-20ad-4bd3-9fe3-b84ec079f99a"
      },
      "source": [
        "bag =  BaggingClassifier(n_estimators=83,  max_features=1.0, random_state=0, bootstrap= True)\n",
        "bag.fit(X_train, y_train)\n",
        "y_bag_pred = bag.predict(X_test)\n",
        "sk_report = classification_report(digits=3, y_true=y_test, y_pred=y_bag_pred)\n",
        "print('BaggingClassifier Result')\n",
        "print(sk_report)\n",
        "print('roc_auc_score of BaggingClassifier is: '+str(multiclass_roc_auc_score(y_test, y_bag_pred)))"
      ],
      "execution_count": 49,
      "outputs": [
        {
          "output_type": "stream",
          "text": [
            "BaggingClassifier Result\n",
            "              precision    recall  f1-score   support\n",
            "\n",
            "           0      0.439     0.238     0.308       496\n",
            "           1      0.388     0.295     0.335       498\n",
            "           2      0.362     0.476     0.411       498\n",
            "           3      0.443     0.612     0.514       497\n",
            "\n",
            "    accuracy                          0.405      1989\n",
            "   macro avg      0.408     0.405     0.392      1989\n",
            "weighted avg      0.408     0.405     0.392      1989\n",
            "\n",
            "roc_auc_score of BaggingClassifier is: 0.6034422171471321\n"
          ],
          "name": "stdout"
        }
      ]
    },
    {
      "cell_type": "markdown",
      "metadata": {
        "id": "1olbYFXrnSNj",
        "colab_type": "text"
      },
      "source": [
        "## Majority Vote Classifier (Ensemble Learning)"
      ]
    },
    {
      "cell_type": "code",
      "metadata": {
        "id": "9Kw_HL_L0MZy",
        "colab_type": "code",
        "colab": {
          "base_uri": "https://localhost:8080/",
          "height": 181
        },
        "outputId": "28fce9a6-2396-4fde-8cb3-f1b0228e806b"
      },
      "source": [
        "names = [\"LogisticRegression\",\"Support Vector Machine\",\"Decision Tree\", \"Random Forest\", \"Gradient Boosting\", \"XGBoost\", \"Extra Tree\", \"KNeighbors\", \"Bagging\"]\n",
        "\n",
        "classifiers = [\n",
        "     LogisticRegression(C=46,penalty='l2',random_state=0),          \n",
        "    SVC(C=94, kernel='rbf', degree=3, gamma='auto', coef0=0.0, shrinking=True, probability=False, tol=0.001, random_state=0),\n",
        "    DecisionTreeClassifier(criterion='entropy', max_depth=51, min_samples_split=8, min_samples_leaf=5, max_leaf_nodes=19,\n",
        "                               random_state=0),\n",
        "    RandomForestClassifier(criterion='entropy', max_depth=33, min_samples_split=6, min_samples_leaf=2, n_estimators=120, \n",
        "                            bootstrap= True,random_state=0),\n",
        "    KNeighborsClassifier(3),\n",
        "    GradientBoostingClassifier(criterion='mse', max_depth=89, min_samples_split=7, min_samples_leaf=9, n_estimators=159, \n",
        "                            random_state=0),\n",
        "    XGBClassifier(n_estimators=107, learning_rate=0.33, max_depth=49, objective=\"multi:softprob\",  random_state=0),\n",
        "    ExtraTreesClassifier(n_estimators=72, max_depth=55, criterion= 'entropy', min_samples_split=7, min_samples_leaf=9,random_state=0),\n",
        "    BaggingClassifier(n_estimators=83,  max_features=1.0, random_state=0, bootstrap= True)\n",
        "    ]\n",
        "\n",
        "res = []\n",
        "res2 = []\n",
        "for name, clf in zip(names, classifiers):\n",
        "    clf.fit(X_train, y_train)\n",
        "    res.append(clf.predict(X_test))\n",
        "    temp = clf.predict(X_train)\n",
        "    res2.append(temp)\n",
        "    print(name, \" accuracy is : \", accuracy_score(y_train, temp))\n",
        "    \n",
        "    \n",
        "# res.append(res1)"
      ],
      "execution_count": 50,
      "outputs": [
        {
          "output_type": "stream",
          "text": [
            "LogisticRegression  accuracy is :  0.33601609657947684\n",
            "Support Vector Machine  accuracy is :  0.43326626425217973\n",
            "Decision Tree  accuracy is :  0.3670355466130114\n",
            "Random Forest  accuracy is :  0.4520456069751844\n",
            "Gradient Boosting  accuracy is :  0.375083836351442\n",
            "XGBoost  accuracy is :  0.45288397048960427\n",
            "Extra Tree  accuracy is :  0.45288397048960427\n",
            "KNeighbors  accuracy is :  0.43594902749832326\n",
            "Bagging  accuracy is :  0.45288397048960427\n"
          ],
          "name": "stdout"
        }
      ]
    },
    {
      "cell_type": "markdown",
      "metadata": {
        "id": "8GCrcVa3Fubc",
        "colab_type": "text"
      },
      "source": [
        "# Evaluation of Model using Confusion Matrix\n",
        "Confusion matix is one of the methods to evaluate the performance of a classifies and it a tabular summay of classifiers with their corresponding number of correct and incorrrect predictions. \n",
        "Since we already knew the accuracy of each model, we'll draw the confusion matrix of selected models."
      ]
    },
    {
      "cell_type": "code",
      "metadata": {
        "id": "afle99rWwDEJ",
        "colab_type": "code",
        "colab": {}
      },
      "source": [
        "#Confussion matrix plotting function\n",
        "def plot_cm (cm, classes):\n",
        "  fig, ax = plt.subplots(figsize=(10,10))\n",
        "  cmn = cm.astype('float') / cm.sum(axis=1)[:, np.newaxis]\n",
        "  sns.heatmap(cmn, annot=True, fmt='.2f', xticklabels=class_labels, yticklabels=class_labels)\n",
        "  plt.ylabel('Actual')\n",
        "  plt.xlabel('Predicted')   \n",
        "    \n",
        "class_labels=np.array(['gabapentin','oxycodone','neurontin','lyrica'],dtype=str)"
      ],
      "execution_count": 51,
      "outputs": []
    },
    {
      "cell_type": "code",
      "metadata": {
        "id": "oDyv5PzlLBPW",
        "colab_type": "code",
        "colab": {
          "base_uri": "https://localhost:8080/",
          "height": 857
        },
        "outputId": "a309a120-62b8-4936-f182-4a4bc957cf1d"
      },
      "source": [
        "# Confusion matrix of Support vector Machine\n",
        "cm=confusion_matrix(y_test, y_svm_pred)\n",
        "plot_cm(cm, class_labels)\n",
        "plt.title('Normilized Decision Tree Confusion Matrix')\n",
        "plt.show()\n",
        "sk_report = classification_report(digits=3, y_true=y_test, y_pred=y_svm_pred,target_names=class_labels)\n",
        "print('Support vector Machine')\n",
        "print(sk_report)\n",
        "print('ROC score of Support vector Machine is %0.2f'% (multiclass_roc_auc_score(y_test, y_svm_pred)))\n"
      ],
      "execution_count": 52,
      "outputs": [
        {
          "output_type": "display_data",
          "data": {
            "image/png": "[encoded data removed]",
            "text/plain": [
              "<Figure size 720x720 with 2 Axes>"
            ]
          },
          "metadata": {
            "tags": [],
            "needs_background": "light"
          }
        },
        {
          "output_type": "stream",
          "text": [
            "Support vector Machine\n",
            "              precision    recall  f1-score   support\n",
            "\n",
            "  gabapentin      0.348     0.248     0.290       496\n",
            "   oxycodone      0.381     0.281     0.324       498\n",
            "   neurontin      0.348     0.454     0.394       498\n",
            "      lyrica      0.437     0.545     0.485       497\n",
            "\n",
            "    accuracy                          0.382      1989\n",
            "   macro avg      0.379     0.382     0.373      1989\n",
            "weighted avg      0.379     0.382     0.373      1989\n",
            "\n",
            "ROC score of Support vector Machine is 0.59\n"
          ],
          "name": "stdout"
        }
      ]
    },
    {
      "cell_type": "code",
      "metadata": {
        "id": "3tYot8QSs1qA",
        "colab_type": "code",
        "colab": {
          "base_uri": "https://localhost:8080/",
          "height": 857
        },
        "outputId": "183dbf4d-2ede-45ba-eb2f-787d6f68fc1e"
      },
      "source": [
        "# Confusion matrix of Decision Tree\n",
        "cm=confusion_matrix(y_test, y_tree_pred)\n",
        "plot_cm(cm, class_labels)\n",
        "plt.title('Normilized Decision Tree Confusion Matrix')\n",
        "plt.show()\n",
        "sk_report = classification_report(digits=3, y_true=y_test, y_pred=y_tree_pred,target_names=class_labels)\n",
        "print('Decision Tree Result')\n",
        "print(sk_report)\n",
        "print('ROC score of Decision Tree is %0.2f'% (multiclass_roc_auc_score(y_test, y_tree_pred)))\n"
      ],
      "execution_count": 53,
      "outputs": [
        {
          "output_type": "display_data",
          "data": {
            "image/png": "[encoded data removed]",
            "text/plain": [
              "<Figure size 720x720 with 2 Axes>"
            ]
          },
          "metadata": {
            "tags": [],
            "needs_background": "light"
          }
        },
        {
          "output_type": "stream",
          "text": [
            "Decision Tree Result\n",
            "              precision    recall  f1-score   support\n",
            "\n",
            "  gabapentin      0.389     0.056     0.099       496\n",
            "   oxycodone      0.333     0.414     0.369       498\n",
            "   neurontin      0.442     0.183     0.259       498\n",
            "      lyrica      0.363     0.797     0.498       497\n",
            "\n",
            "    accuracy                          0.362      1989\n",
            "   macro avg      0.382     0.362     0.306      1989\n",
            "weighted avg      0.382     0.362     0.306      1989\n",
            "\n",
            "ROC score of Decision Tree is 0.57\n"
          ],
          "name": "stdout"
        }
      ]
    },
    {
      "cell_type": "code",
      "metadata": {
        "id": "n5blfOmvwDEW",
        "colab_type": "code",
        "colab": {
          "base_uri": "https://localhost:8080/",
          "height": 857
        },
        "outputId": "7e58dc1e-f5e4-402a-d609-bea038071dd1"
      },
      "source": [
        "# Confusion matrix of Random Forest\n",
        "cm=confusion_matrix(y_test, y_rf_pred)\n",
        "plot_cm(cm, class_labels)\n",
        "plt.title('Normilized Random Forest Confusion Matrix')\n",
        "plt.show()\n",
        "sk_report = classification_report(digits=3, y_true=y_test, y_pred=y_rf_pred,target_names=class_labels)\n",
        "print('Random Forest Result')\n",
        "print(sk_report)\n",
        "print('ROC score of Random Forest is %0.2f'% (multiclass_roc_auc_score(y_test, y_rf_pred)))\n"
      ],
      "execution_count": 54,
      "outputs": [
        {
          "output_type": "display_data",
          "data": {
            "image/png": "[encoded data removed]",
            "text/plain": [
              "<Figure size 720x720 with 2 Axes>"
            ]
          },
          "metadata": {
            "tags": [],
            "needs_background": "light"
          }
        },
        {
          "output_type": "stream",
          "text": [
            "Random Forest Result\n",
            "              precision    recall  f1-score   support\n",
            "\n",
            "  gabapentin      0.433     0.234     0.304       496\n",
            "   oxycodone      0.387     0.297     0.336       498\n",
            "   neurontin      0.359     0.470     0.407       498\n",
            "      lyrica      0.443     0.612     0.514       497\n",
            "\n",
            "    accuracy                          0.403      1989\n",
            "   macro avg      0.405     0.403     0.390      1989\n",
            "weighted avg      0.405     0.403     0.390      1989\n",
            "\n",
            "ROC score of Random Forest is 0.60\n"
          ],
          "name": "stdout"
        }
      ]
    },
    {
      "cell_type": "code",
      "metadata": {
        "id": "7ei5LX4owDEa",
        "colab_type": "code",
        "colab": {
          "base_uri": "https://localhost:8080/",
          "height": 857
        },
        "outputId": "724af3b1-7a6c-4547-b679-b7b8e84edd5a"
      },
      "source": [
        " # Confusion matrix of KNeighbors\n",
        "cm=confusion_matrix(y_test, y_knn_pred)\n",
        "plot_cm(cm, class_labels)\n",
        "plt.title('Normilized KNeighbors Confusion Matrix')\n",
        "plt.show()\n",
        "sk_report = classification_report(digits=3, y_true=y_test, y_pred=y_knn_pred,target_names=class_labels)\n",
        "print('KNeighbors Result')\n",
        "print(sk_report)\n",
        "print('ROC score of KNeighbors is %0.2f'% (multiclass_roc_auc_score(y_test, y_knn_pred)))\n"
      ],
      "execution_count": 55,
      "outputs": [
        {
          "output_type": "display_data",
          "data": {
            "image/png": "[encoded data removed]",
            "text/plain": [
              "<Figure size 720x720 with 2 Axes>"
            ]
          },
          "metadata": {
            "tags": [],
            "needs_background": "light"
          }
        },
        {
          "output_type": "stream",
          "text": [
            "KNeighbors Result\n",
            "              precision    recall  f1-score   support\n",
            "\n",
            "  gabapentin      0.315     0.496     0.386       496\n",
            "   oxycodone      0.314     0.267     0.289       498\n",
            "   neurontin      0.357     0.225     0.276       498\n",
            "      lyrica      0.419     0.398     0.409       497\n",
            "\n",
            "    accuracy                          0.346      1989\n",
            "   macro avg      0.351     0.347     0.340      1989\n",
            "weighted avg      0.351     0.346     0.340      1989\n",
            "\n",
            "ROC score of KNeighbors is 0.56\n"
          ],
          "name": "stdout"
        }
      ]
    },
    {
      "cell_type": "code",
      "metadata": {
        "id": "Ei9CoIJMwDEf",
        "colab_type": "code",
        "colab": {
          "base_uri": "https://localhost:8080/",
          "height": 857
        },
        "outputId": "c0e287b2-dde1-47cd-a4d9-60722a7249ba"
      },
      "source": [
        "# Confusion matrix of Gradient Boosting\n",
        "cm=confusion_matrix(y_test, y_gbc_pred)\n",
        "plot_cm(cm, class_labels)\n",
        "plt.title('Normilized Gradient Boosting Confusion Matrix')\n",
        "plt.show()\n",
        "sk_report = classification_report(digits=3, y_true=y_test, y_pred=y_gbc_pred,target_names=class_labels)\n",
        "print('Gradient Boosting Result')\n",
        "print(sk_report)\n",
        "print('ROC score of Gradient Boosting is %0.2f'% (multiclass_roc_auc_score(y_test, y_gbc_pred)))\n"
      ],
      "execution_count": 56,
      "outputs": [
        {
          "output_type": "display_data",
          "data": {
            "image/png": "[encoded data removed]",
            "text/plain": [
              "<Figure size 720x720 with 2 Axes>"
            ]
          },
          "metadata": {
            "tags": [],
            "needs_background": "light"
          }
        },
        {
          "output_type": "stream",
          "text": [
            "Gradient Boosting Result\n",
            "              precision    recall  f1-score   support\n",
            "\n",
            "  gabapentin      0.439     0.232     0.303       496\n",
            "   oxycodone      0.393     0.311     0.348       498\n",
            "   neurontin      0.362     0.476     0.411       498\n",
            "      lyrica      0.445     0.608     0.514       497\n",
            "\n",
            "    accuracy                          0.407      1989\n",
            "   macro avg      0.410     0.407     0.394      1989\n",
            "weighted avg      0.410     0.407     0.394      1989\n",
            "\n",
            "ROC score of Gradient Boosting is 0.60\n"
          ],
          "name": "stdout"
        }
      ]
    },
    {
      "cell_type": "code",
      "metadata": {
        "id": "Le85z83jwDEm",
        "colab_type": "code",
        "colab": {
          "base_uri": "https://localhost:8080/",
          "height": 857
        },
        "outputId": "8ac1a8df-d6be-4c29-ea97-268271c11782"
      },
      "source": [
        "# Confusion matrix of XGBClassifier\n",
        "cm=confusion_matrix(y_test, y_xgb_pred)\n",
        "plot_cm(cm, class_labels)\n",
        "plt.title('Normilized XGBClassifier Confusion Matrix')\n",
        "plt.show()\n",
        "sk_report = classification_report(digits=3, y_true=y_test, y_pred=y_xgb_pred,target_names=class_labels)\n",
        "print('XGBClassifier Result')\n",
        "print(sk_report)\n",
        "print('ROC score of XGBClassifier is %0.2f'% (multiclass_roc_auc_score(y_test, y_xgb_pred)))\n"
      ],
      "execution_count": 57,
      "outputs": [
        {
          "output_type": "display_data",
          "data": {
            "image/png": "[encoded data removed]",
            "text/plain": [
              "<Figure size 720x720 with 2 Axes>"
            ]
          },
          "metadata": {
            "tags": [],
            "needs_background": "light"
          }
        },
        {
          "output_type": "stream",
          "text": [
            "XGBClassifier Result\n",
            "              precision    recall  f1-score   support\n",
            "\n",
            "  gabapentin      0.442     0.232     0.304       496\n",
            "   oxycodone      0.391     0.305     0.343       498\n",
            "   neurontin      0.364     0.480     0.414       498\n",
            "      lyrica      0.443     0.610     0.513       497\n",
            "\n",
            "    accuracy                          0.407      1989\n",
            "   macro avg      0.410     0.407     0.394      1989\n",
            "weighted avg      0.410     0.407     0.394      1989\n",
            "\n",
            "ROC score of XGBClassifier is 0.60\n"
          ],
          "name": "stdout"
        }
      ]
    },
    {
      "cell_type": "code",
      "metadata": {
        "id": "HMBagLS5MoQp",
        "colab_type": "code",
        "colab": {
          "base_uri": "https://localhost:8080/",
          "height": 857
        },
        "outputId": "98db25c5-55c2-4726-9d45-1343bb7a511b"
      },
      "source": [
        "# Confusion matrix of ExtraTreelassifier\n",
        "cm=confusion_matrix(y_test, y_etc_pred)\n",
        "plot_cm(cm, class_labels)\n",
        "plt.title('Normilized ExtraTreelassifier Confusion Matrix')\n",
        "plt.show()\n",
        "sk_report = classification_report(digits=3, y_true=y_test, y_pred=y_etc_pred,target_names=class_labels)\n",
        "print('ExtraTreelassifier Result')\n",
        "print(sk_report)\n",
        "print('ROC score of ExtraTreelassifier is %0.2f'% (multiclass_roc_auc_score(y_test, y_etc_pred)))\n"
      ],
      "execution_count": 58,
      "outputs": [
        {
          "output_type": "display_data",
          "data": {
            "image/png": "[encoded data removed]",
            "text/plain": [
              "<Figure size 720x720 with 2 Axes>"
            ]
          },
          "metadata": {
            "tags": [],
            "needs_background": "light"
          }
        },
        {
          "output_type": "stream",
          "text": [
            "ExtraTreelassifier Result\n",
            "              precision    recall  f1-score   support\n",
            "\n",
            "  gabapentin      0.443     0.228     0.301       496\n",
            "   oxycodone      0.386     0.295     0.334       498\n",
            "   neurontin      0.348     0.454     0.394       498\n",
            "      lyrica      0.419     0.594     0.491       497\n",
            "\n",
            "    accuracy                          0.393      1989\n",
            "   macro avg      0.399     0.393     0.380      1989\n",
            "weighted avg      0.399     0.393     0.380      1989\n",
            "\n",
            "ROC score of ExtraTreelassifier is 0.60\n"
          ],
          "name": "stdout"
        }
      ]
    },
    {
      "cell_type": "code",
      "metadata": {
        "id": "Nu3jK2-1M6LR",
        "colab_type": "code",
        "colab": {
          "base_uri": "https://localhost:8080/",
          "height": 857
        },
        "outputId": "a6b3eccb-4a77-4eec-96c4-7f58b8bc2988"
      },
      "source": [
        "# Confusion matrix of  BaggingClassifier\n",
        "cm=confusion_matrix(y_test, y_bag_pred)\n",
        "plot_cm(cm, class_labels)\n",
        "plt.title('Normilized  BaggingClassifier Confusion Matrix')\n",
        "plt.show()\n",
        "sk_report = classification_report(digits=3, y_true=y_test, y_pred=y_bag_pred,target_names=class_labels)\n",
        "print(' BaggingClassifier Result')\n",
        "print(sk_report)\n",
        "print('ROC score of  BaggingClassifier is %0.2f'% (multiclass_roc_auc_score(y_test, y_bag_pred)))\n"
      ],
      "execution_count": 60,
      "outputs": [
        {
          "output_type": "display_data",
          "data": {
            "image/png": "[encoded data removed]",
            "text/plain": [
              "<Figure size 720x720 with 2 Axes>"
            ]
          },
          "metadata": {
            "tags": [],
            "needs_background": "light"
          }
        },
        {
          "output_type": "stream",
          "text": [
            " BaggingClassifier Result\n",
            "              precision    recall  f1-score   support\n",
            "\n",
            "  gabapentin      0.439     0.238     0.308       496\n",
            "   oxycodone      0.388     0.295     0.335       498\n",
            "   neurontin      0.362     0.476     0.411       498\n",
            "      lyrica      0.443     0.612     0.514       497\n",
            "\n",
            "    accuracy                          0.405      1989\n",
            "   macro avg      0.408     0.405     0.392      1989\n",
            "weighted avg      0.408     0.405     0.392      1989\n",
            "\n",
            "ROC score of  BaggingClassifier is 0.60\n"
          ],
          "name": "stdout"
        }
      ]
    },
    {
      "cell_type": "markdown",
      "metadata": {
        "id": "DGXKmNA08d_6",
        "colab_type": "text"
      },
      "source": [
        "# Evaluation of Model using precision-recall curve"
      ]
    },
    {
      "cell_type": "code",
      "metadata": {
        "id": "dv37kUP38f4b",
        "colab_type": "code",
        "colab": {
          "base_uri": "https://localhost:8080/",
          "height": 431
        },
        "outputId": "8c71dee4-b17b-4471-977e-682cd9ad3560"
      },
      "source": [
        "# Create ROC Graph\n",
        "#https://stackoverflow.com/questions/59666138/sklearn-roc-auc-score-with-multi-class-ovr-should-have-none-average-available\n",
        "#(reference for ROC)\n",
        "rf_ev, rf_evn, rf_thresholds = roc_curve(y_test, rf.predict_proba(X_test)[:,1])\n",
        "xgb_ev, xgb_evn, xgb_thresholds = roc_curve(y_test, xgb.predict_proba(X_test)[:,1])\n",
        "knn_ev, knn_evn, knn_thresholds = roc_curve(y_test, knn.predict_proba(X_test)[:,1])\n",
        "gbc_ev, gbc_evn, gbc_thresholds = roc_curve(y_test, gbc.predict_proba(X_test)[:,1])\n",
        "xgb_ev, xgb_evn, xgb_thresholds = roc_curve(y_test, xgb.predict_proba(X_test)[:,1])\n",
        "\n",
        "plt.figure()\n",
        "\n",
        "# Plot Random Forest ROC\n",
        "plt.plot(rf_ev, rf_evn, label='Random Forest (area = %0.2f)' % rf_roc_auc)\n",
        "\n",
        "# Plot KNeighbors ROC\n",
        "plt.plot(knn_ev, knn_evn, label='KNeighbors (area = %0.2f)' % knn_roc_auc)\n",
        "\n",
        "# Plot Gradient Boosting ROC\n",
        "plt.plot(gbc_ev, gbc_evn, label='Gradient Boosting (area = %0.2f)' % gbc_roc_auc)\n",
        "\n",
        "# Plot XGBClassifier ROC\n",
        "plt.plot(xbc_ev, xbc_evn, label='XGBClassifier (area = %0.2f)' % xgb_roc_auc)\n",
        "\n",
        "# Plot Base Rate ROC\n",
        "plt.plot([0,1], [0,1],label='Base Rate' 'k--')\n",
        "\n",
        "plt.xlim([0.0, 1.0])\n",
        "plt.ylim([0.0, 1.05])\n",
        "plt.xlabel('False Positive Rate')\n",
        "plt.ylabel('True Positive Rate')\n",
        "plt.title('ROC Graph')\n",
        "plt.legend(loc=\"lower right\")\n",
        "plt.show()"
      ],
      "execution_count": 67,
      "outputs": [
        {
          "output_type": "error",
          "ename": "ValueError",
          "evalue": "ignored",
          "traceback": [
            "\u001b[0;31m---------------------------------------------------------------------------\u001b[0m",
            "\u001b[0;31mValueError\u001b[0m                                Traceback (most recent call last)",
            "\u001b[0;32m<ipython-input-67-86cf1a489cf5>\u001b[0m in \u001b[0;36m<module>\u001b[0;34m()\u001b[0m\n\u001b[1;32m      2\u001b[0m \u001b[0;31m#https://stackoverflow.com/questions/59666138/sklearn-roc-auc-score-with-multi-class-ovr-should-have-none-average-available\u001b[0m\u001b[0;34m\u001b[0m\u001b[0;34m\u001b[0m\u001b[0;34m\u001b[0m\u001b[0m\n\u001b[1;32m      3\u001b[0m \u001b[0;31m#(reference for ROC)\u001b[0m\u001b[0;34m\u001b[0m\u001b[0;34m\u001b[0m\u001b[0;34m\u001b[0m\u001b[0m\n\u001b[0;32m----> 4\u001b[0;31m \u001b[0mrf_ev\u001b[0m\u001b[0;34m,\u001b[0m \u001b[0mrf_evn\u001b[0m\u001b[0;34m,\u001b[0m \u001b[0mrf_thresholds\u001b[0m \u001b[0;34m=\u001b[0m \u001b[0mroc_curve\u001b[0m\u001b[0;34m(\u001b[0m\u001b[0my_test\u001b[0m\u001b[0;34m,\u001b[0m \u001b[0mrf\u001b[0m\u001b[0;34m.\u001b[0m\u001b[0mpredict_proba\u001b[0m\u001b[0;34m(\u001b[0m\u001b[0mX_test\u001b[0m\u001b[0;34m)\u001b[0m\u001b[0;34m[\u001b[0m\u001b[0;34m:\u001b[0m\u001b[0;34m,\u001b[0m\u001b[0;36m1\u001b[0m\u001b[0;34m]\u001b[0m\u001b[0;34m)\u001b[0m\u001b[0;34m\u001b[0m\u001b[0;34m\u001b[0m\u001b[0m\n\u001b[0m\u001b[1;32m      5\u001b[0m \u001b[0mxgb_ev\u001b[0m\u001b[0;34m,\u001b[0m \u001b[0mxgb_evn\u001b[0m\u001b[0;34m,\u001b[0m \u001b[0mxgb_thresholds\u001b[0m \u001b[0;34m=\u001b[0m \u001b[0mroc_curve\u001b[0m\u001b[0;34m(\u001b[0m\u001b[0my_test\u001b[0m\u001b[0;34m,\u001b[0m \u001b[0mxgb\u001b[0m\u001b[0;34m.\u001b[0m\u001b[0mpredict_proba\u001b[0m\u001b[0;34m(\u001b[0m\u001b[0mX_test\u001b[0m\u001b[0;34m)\u001b[0m\u001b[0;34m[\u001b[0m\u001b[0;34m:\u001b[0m\u001b[0;34m,\u001b[0m\u001b[0;36m1\u001b[0m\u001b[0;34m]\u001b[0m\u001b[0;34m)\u001b[0m\u001b[0;34m\u001b[0m\u001b[0;34m\u001b[0m\u001b[0m\n\u001b[1;32m      6\u001b[0m \u001b[0mknn_ev\u001b[0m\u001b[0;34m,\u001b[0m \u001b[0mknn_evn\u001b[0m\u001b[0;34m,\u001b[0m \u001b[0mknn_thresholds\u001b[0m \u001b[0;34m=\u001b[0m \u001b[0mroc_curve\u001b[0m\u001b[0;34m(\u001b[0m\u001b[0my_test\u001b[0m\u001b[0;34m,\u001b[0m \u001b[0mknn\u001b[0m\u001b[0;34m.\u001b[0m\u001b[0mpredict_proba\u001b[0m\u001b[0;34m(\u001b[0m\u001b[0mX_test\u001b[0m\u001b[0;34m)\u001b[0m\u001b[0;34m[\u001b[0m\u001b[0;34m:\u001b[0m\u001b[0;34m,\u001b[0m\u001b[0;36m1\u001b[0m\u001b[0;34m]\u001b[0m\u001b[0;34m)\u001b[0m\u001b[0;34m\u001b[0m\u001b[0;34m\u001b[0m\u001b[0m\n",
            "\u001b[0;32m/usr/local/lib/python3.6/dist-packages/sklearn/metrics/_ranking.py\u001b[0m in \u001b[0;36mroc_curve\u001b[0;34m(y_true, y_score, pos_label, sample_weight, drop_intermediate)\u001b[0m\n\u001b[1;32m    769\u001b[0m     \"\"\"\n\u001b[1;32m    770\u001b[0m     fps, tps, thresholds = _binary_clf_curve(\n\u001b[0;32m--> 771\u001b[0;31m         y_true, y_score, pos_label=pos_label, sample_weight=sample_weight)\n\u001b[0m\u001b[1;32m    772\u001b[0m \u001b[0;34m\u001b[0m\u001b[0m\n\u001b[1;32m    773\u001b[0m     \u001b[0;31m# Attempt to drop thresholds corresponding to points in between and\u001b[0m\u001b[0;34m\u001b[0m\u001b[0;34m\u001b[0m\u001b[0;34m\u001b[0m\u001b[0m\n",
            "\u001b[0;32m/usr/local/lib/python3.6/dist-packages/sklearn/metrics/_ranking.py\u001b[0m in \u001b[0;36m_binary_clf_curve\u001b[0;34m(y_true, y_score, pos_label, sample_weight)\u001b[0m\n\u001b[1;32m    534\u001b[0m     if not (y_type == \"binary\" or\n\u001b[1;32m    535\u001b[0m             (y_type == \"multiclass\" and pos_label is not None)):\n\u001b[0;32m--> 536\u001b[0;31m         \u001b[0;32mraise\u001b[0m \u001b[0mValueError\u001b[0m\u001b[0;34m(\u001b[0m\u001b[0;34m\"{0} format is not supported\"\u001b[0m\u001b[0;34m.\u001b[0m\u001b[0mformat\u001b[0m\u001b[0;34m(\u001b[0m\u001b[0my_type\u001b[0m\u001b[0;34m)\u001b[0m\u001b[0;34m)\u001b[0m\u001b[0;34m\u001b[0m\u001b[0;34m\u001b[0m\u001b[0m\n\u001b[0m\u001b[1;32m    537\u001b[0m \u001b[0;34m\u001b[0m\u001b[0m\n\u001b[1;32m    538\u001b[0m     \u001b[0mcheck_consistent_length\u001b[0m\u001b[0;34m(\u001b[0m\u001b[0my_true\u001b[0m\u001b[0;34m,\u001b[0m \u001b[0my_score\u001b[0m\u001b[0;34m,\u001b[0m \u001b[0msample_weight\u001b[0m\u001b[0;34m)\u001b[0m\u001b[0;34m\u001b[0m\u001b[0;34m\u001b[0m\u001b[0m\n",
            "\u001b[0;31mValueError\u001b[0m: multiclass format is not supported"
          ]
        }
      ]
    },
    {
      "cell_type": "code",
      "metadata": {
        "id": "TFhK5h8O4WTT",
        "colab_type": "code",
        "colab": {}
      },
      "source": [
        "def multiclass_roc_auc_score(y_test,y_pred,average=\"macro\"):\n",
        "  lb = preprocessing.LabelBinarizer()\n",
        "  lb.fit(y_test)\n",
        "  y_test=lb.transform(y_test)\n",
        "  y_pred=lb.transform(y_pred)\n",
        "  return roc_auc_score(y_test,y_pred,average=average)"
      ],
      "execution_count": 64,
      "outputs": []
    },
    {
      "cell_type": "code",
      "metadata": {
        "id": "SBumkrOZ4ZaA",
        "colab_type": "code",
        "colab": {
          "base_uri": "https://localhost:8080/",
          "height": 431
        },
        "outputId": "aa1f0f17-b0d5-4913-f270-d55ae43d3069"
      },
      "source": [
        "# Create ROC Graph\n",
        "#https://stackoverflow.com/questions/59666138/sklearn-roc-auc-score-with-multi-class-ovr-should-have-none-average-available\n",
        "#(reference for ROC)\n",
        "rf_ev, rf_evn, rf_thresholds = multiclass_roc_auc_score(y_test, rf.predict_proba(X_test)[:,1])\n",
        "xgb_ev, xgb_evn, xgb_thresholds = multiclass_roc_auc_score(y_test, xgb.predict_proba(X_test)[:,1])\n",
        "knn_ev, knn_evn, knn_thresholds = multiclass_roc_auc_score(y_test, knn.predict_proba(X_test)[:,1])\n",
        "gbc_ev, gbc_evn, gbc_thresholds = multiclass_roc_auc_score(y_test, gbc.predict_proba(X_test)[:,1])\n",
        "xgb_ev, xgb_evn, xgb_thresholds = multiclass_roc_auc_score(y_test, xgb.predict_proba(X_test)[:,1])\n",
        "\n",
        "plt.figure()\n",
        "\n",
        "# Plot Random Forest ROC\n",
        "plt.plot(rf_ev, rf_evn, label='Random Forest (area = %0.2f)' % rf_roc_auc)\n",
        "\n",
        "# Plot KNeighbors ROC\n",
        "plt.plot(knn_ev, knn_evn, label='KNeighbors (area = %0.2f)' % knn_roc_auc)\n",
        "\n",
        "# Plot Gradient Boosting ROC\n",
        "plt.plot(gbc_ev, gbc_evn, label='Gradient Boosting (area = %0.2f)' % gbc_roc_auc)\n",
        "\n",
        "# Plot XGBClassifier ROC\n",
        "plt.plot(xbc_ev, xbc_evn, label='XGBClassifier (area = %0.2f)' % xgb_roc_auc)\n",
        "\n",
        "# Plot Base Rate ROC\n",
        "plt.plot([0,1], [0,1],label='Base Rate' 'k--')\n",
        "\n",
        "plt.xlim([0.0, 1.0])\n",
        "plt.ylim([0.0, 1.05])\n",
        "plt.xlabel('False Positive Rate')\n",
        "plt.ylabel('True Positive Rate')\n",
        "plt.title('ROC Graph')\n",
        "plt.legend(loc=\"lower right\")\n",
        "plt.show()"
      ],
      "execution_count": 65,
      "outputs": [
        {
          "output_type": "error",
          "ename": "ValueError",
          "evalue": "ignored",
          "traceback": [
            "\u001b[0;31m---------------------------------------------------------------------------\u001b[0m",
            "\u001b[0;31mValueError\u001b[0m                                Traceback (most recent call last)",
            "\u001b[0;32m<ipython-input-65-236583199a8d>\u001b[0m in \u001b[0;36m<module>\u001b[0;34m()\u001b[0m\n\u001b[1;32m      2\u001b[0m \u001b[0;31m#https://stackoverflow.com/questions/59666138/sklearn-roc-auc-score-with-multi-class-ovr-should-have-none-average-available\u001b[0m\u001b[0;34m\u001b[0m\u001b[0;34m\u001b[0m\u001b[0;34m\u001b[0m\u001b[0m\n\u001b[1;32m      3\u001b[0m \u001b[0;31m#(reference for ROC)\u001b[0m\u001b[0;34m\u001b[0m\u001b[0;34m\u001b[0m\u001b[0;34m\u001b[0m\u001b[0m\n\u001b[0;32m----> 4\u001b[0;31m \u001b[0mrf_ev\u001b[0m\u001b[0;34m,\u001b[0m \u001b[0mrf_evn\u001b[0m\u001b[0;34m,\u001b[0m \u001b[0mrf_thresholds\u001b[0m \u001b[0;34m=\u001b[0m \u001b[0mmulticlass_roc_auc_score\u001b[0m\u001b[0;34m(\u001b[0m\u001b[0my_test\u001b[0m\u001b[0;34m,\u001b[0m \u001b[0mrf\u001b[0m\u001b[0;34m.\u001b[0m\u001b[0mpredict_proba\u001b[0m\u001b[0;34m(\u001b[0m\u001b[0mX_test\u001b[0m\u001b[0;34m)\u001b[0m\u001b[0;34m[\u001b[0m\u001b[0;34m:\u001b[0m\u001b[0;34m,\u001b[0m\u001b[0;36m1\u001b[0m\u001b[0;34m]\u001b[0m\u001b[0;34m)\u001b[0m\u001b[0;34m\u001b[0m\u001b[0;34m\u001b[0m\u001b[0m\n\u001b[0m\u001b[1;32m      5\u001b[0m \u001b[0mxgb_ev\u001b[0m\u001b[0;34m,\u001b[0m \u001b[0mxgb_evn\u001b[0m\u001b[0;34m,\u001b[0m \u001b[0mxgb_thresholds\u001b[0m \u001b[0;34m=\u001b[0m \u001b[0mmulticlass_roc_auc_score\u001b[0m\u001b[0;34m(\u001b[0m\u001b[0my_test\u001b[0m\u001b[0;34m,\u001b[0m \u001b[0mxgb\u001b[0m\u001b[0;34m.\u001b[0m\u001b[0mpredict_proba\u001b[0m\u001b[0;34m(\u001b[0m\u001b[0mX_test\u001b[0m\u001b[0;34m)\u001b[0m\u001b[0;34m[\u001b[0m\u001b[0;34m:\u001b[0m\u001b[0;34m,\u001b[0m\u001b[0;36m1\u001b[0m\u001b[0;34m]\u001b[0m\u001b[0;34m)\u001b[0m\u001b[0;34m\u001b[0m\u001b[0;34m\u001b[0m\u001b[0m\n\u001b[1;32m      6\u001b[0m \u001b[0mknn_ev\u001b[0m\u001b[0;34m,\u001b[0m \u001b[0mknn_evn\u001b[0m\u001b[0;34m,\u001b[0m \u001b[0mknn_thresholds\u001b[0m \u001b[0;34m=\u001b[0m \u001b[0mmulticlass_roc_auc_score\u001b[0m\u001b[0;34m(\u001b[0m\u001b[0my_test\u001b[0m\u001b[0;34m,\u001b[0m \u001b[0mknn\u001b[0m\u001b[0;34m.\u001b[0m\u001b[0mpredict_proba\u001b[0m\u001b[0;34m(\u001b[0m\u001b[0mX_test\u001b[0m\u001b[0;34m)\u001b[0m\u001b[0;34m[\u001b[0m\u001b[0;34m:\u001b[0m\u001b[0;34m,\u001b[0m\u001b[0;36m1\u001b[0m\u001b[0;34m]\u001b[0m\u001b[0;34m)\u001b[0m\u001b[0;34m\u001b[0m\u001b[0;34m\u001b[0m\u001b[0m\n",
            "\u001b[0;32m<ipython-input-64-d30c696a47e2>\u001b[0m in \u001b[0;36mmulticlass_roc_auc_score\u001b[0;34m(y_test, y_pred, average)\u001b[0m\n\u001b[1;32m      3\u001b[0m   \u001b[0mlb\u001b[0m\u001b[0;34m.\u001b[0m\u001b[0mfit\u001b[0m\u001b[0;34m(\u001b[0m\u001b[0my_test\u001b[0m\u001b[0;34m)\u001b[0m\u001b[0;34m\u001b[0m\u001b[0;34m\u001b[0m\u001b[0m\n\u001b[1;32m      4\u001b[0m   \u001b[0my_test\u001b[0m\u001b[0;34m=\u001b[0m\u001b[0mlb\u001b[0m\u001b[0;34m.\u001b[0m\u001b[0mtransform\u001b[0m\u001b[0;34m(\u001b[0m\u001b[0my_test\u001b[0m\u001b[0;34m)\u001b[0m\u001b[0;34m\u001b[0m\u001b[0;34m\u001b[0m\u001b[0m\n\u001b[0;32m----> 5\u001b[0;31m   \u001b[0my_pred\u001b[0m\u001b[0;34m=\u001b[0m\u001b[0mlb\u001b[0m\u001b[0;34m.\u001b[0m\u001b[0mtransform\u001b[0m\u001b[0;34m(\u001b[0m\u001b[0my_pred\u001b[0m\u001b[0;34m)\u001b[0m\u001b[0;34m\u001b[0m\u001b[0;34m\u001b[0m\u001b[0m\n\u001b[0m\u001b[1;32m      6\u001b[0m   \u001b[0;32mreturn\u001b[0m \u001b[0mroc_auc_score\u001b[0m\u001b[0;34m(\u001b[0m\u001b[0my_test\u001b[0m\u001b[0;34m,\u001b[0m\u001b[0my_pred\u001b[0m\u001b[0;34m,\u001b[0m\u001b[0maverage\u001b[0m\u001b[0;34m=\u001b[0m\u001b[0maverage\u001b[0m\u001b[0;34m)\u001b[0m\u001b[0;34m\u001b[0m\u001b[0;34m\u001b[0m\u001b[0m\n",
            "\u001b[0;32m/usr/local/lib/python3.6/dist-packages/sklearn/preprocessing/_label.py\u001b[0m in \u001b[0;36mtransform\u001b[0;34m(self, y)\u001b[0m\n\u001b[1;32m    484\u001b[0m                               \u001b[0mpos_label\u001b[0m\u001b[0;34m=\u001b[0m\u001b[0mself\u001b[0m\u001b[0;34m.\u001b[0m\u001b[0mpos_label\u001b[0m\u001b[0;34m,\u001b[0m\u001b[0;34m\u001b[0m\u001b[0;34m\u001b[0m\u001b[0m\n\u001b[1;32m    485\u001b[0m                               \u001b[0mneg_label\u001b[0m\u001b[0;34m=\u001b[0m\u001b[0mself\u001b[0m\u001b[0;34m.\u001b[0m\u001b[0mneg_label\u001b[0m\u001b[0;34m,\u001b[0m\u001b[0;34m\u001b[0m\u001b[0;34m\u001b[0m\u001b[0m\n\u001b[0;32m--> 486\u001b[0;31m                               sparse_output=self.sparse_output)\n\u001b[0m\u001b[1;32m    487\u001b[0m \u001b[0;34m\u001b[0m\u001b[0m\n\u001b[1;32m    488\u001b[0m     \u001b[0;32mdef\u001b[0m \u001b[0minverse_transform\u001b[0m\u001b[0;34m(\u001b[0m\u001b[0mself\u001b[0m\u001b[0;34m,\u001b[0m \u001b[0mY\u001b[0m\u001b[0;34m,\u001b[0m \u001b[0mthreshold\u001b[0m\u001b[0;34m=\u001b[0m\u001b[0;32mNone\u001b[0m\u001b[0;34m)\u001b[0m\u001b[0;34m:\u001b[0m\u001b[0;34m\u001b[0m\u001b[0;34m\u001b[0m\u001b[0m\n",
            "\u001b[0;32m/usr/local/lib/python3.6/dist-packages/sklearn/preprocessing/_label.py\u001b[0m in \u001b[0;36mlabel_binarize\u001b[0;34m(y, classes, neg_label, pos_label, sparse_output)\u001b[0m\n\u001b[1;32m    671\u001b[0m     \u001b[0;32melse\u001b[0m\u001b[0;34m:\u001b[0m\u001b[0;34m\u001b[0m\u001b[0;34m\u001b[0m\u001b[0m\n\u001b[1;32m    672\u001b[0m         raise ValueError(\"%s target data is not supported with label \"\n\u001b[0;32m--> 673\u001b[0;31m                          \"binarization\" % y_type)\n\u001b[0m\u001b[1;32m    674\u001b[0m \u001b[0;34m\u001b[0m\u001b[0m\n\u001b[1;32m    675\u001b[0m     \u001b[0;32mif\u001b[0m \u001b[0;32mnot\u001b[0m \u001b[0msparse_output\u001b[0m\u001b[0;34m:\u001b[0m\u001b[0;34m\u001b[0m\u001b[0;34m\u001b[0m\u001b[0m\n",
            "\u001b[0;31mValueError\u001b[0m: continuous target data is not supported with label binarization"
          ]
        }
      ]
    },
    {
      "cell_type": "code",
      "metadata": {
        "id": "ynDrzqF4HPbd",
        "colab_type": "code",
        "colab": {}
      },
      "source": [
        "def multiclass_roc_auc_score(y_test,y_pred,average=\"macro\"):\n",
        "  lb = preprocessing.MultiLabelBinarizer()\n",
        "  lb.fit(y_test)\n",
        "  y_test=lb.transform(y_test)\n",
        "  y_pred=lb.transform(y_pred)\n",
        "  return roc_auc_score(y_test,y_pred,average=average)\n",
        "  "
      ],
      "execution_count": 68,
      "outputs": []
    },
    {
      "cell_type": "code",
      "metadata": {
        "id": "gZF6OfVIHXR-",
        "colab_type": "code",
        "colab": {
          "base_uri": "https://localhost:8080/",
          "height": 413
        },
        "outputId": "28d9720b-74ba-48c0-89e3-2242afa9229b"
      },
      "source": [
        "# Create ROC Graph\n",
        "#https://stackoverflow.com/questions/59666138/sklearn-roc-auc-score-with-multi-class-ovr-should-have-none-average-available\n",
        "#(reference for ROC)\n",
        "rf_ev, rf_evn, rf_thresholds = multiclass_roc_auc_score(y_test, rf.predict_proba(X_test)[:,1])\n",
        "xgb_ev, xgb_evn, xgb_thresholds = multiclass_roc_auc_score(y_test, xgb.predict_proba(X_test)[:,1])\n",
        "knn_ev, knn_evn, knn_thresholds = multiclass_roc_auc_score(y_test, knn.predict_proba(X_test)[:,1])\n",
        "gbc_ev, gbc_evn, gbc_thresholds = multiclass_roc_auc_score(y_test, gbc.predict_proba(X_test)[:,1])\n",
        "xgb_ev, xgb_evn, xgb_thresholds = multiclass_roc_auc_score(y_test, xgb.predict_proba(X_test)[:,1])\n",
        "\n",
        "plt.figure()\n",
        "\n",
        "# Plot Random Forest ROC\n",
        "plt.plot(rf_ev, rf_evn, label='Random Forest (area = %0.2f)' % rf_roc_auc)\n",
        "\n",
        "# Plot KNeighbors ROC\n",
        "plt.plot(knn_ev, knn_evn, label='KNeighbors (area = %0.2f)' % knn_roc_auc)\n",
        "\n",
        "# Plot Gradient Boosting ROC\n",
        "plt.plot(gbc_ev, gbc_evn, label='Gradient Boosting (area = %0.2f)' % gbc_roc_auc)\n",
        "\n",
        "# Plot XGBClassifier ROC\n",
        "plt.plot(xbc_ev, xbc_evn, label='XGBClassifier (area = %0.2f)' % xgb_roc_auc)\n",
        "\n",
        "# Plot Base Rate ROC\n",
        "plt.plot([0,1], [0,1],label='Base Rate' 'k--')\n",
        "\n",
        "plt.xlim([0.0, 1.0])\n",
        "plt.ylim([0.0, 1.05])\n",
        "plt.xlabel('False Positive Rate')\n",
        "plt.ylabel('True Positive Rate')\n",
        "plt.title('ROC Graph')\n",
        "plt.legend(loc=\"lower right\")\n",
        "plt.show()"
      ],
      "execution_count": 69,
      "outputs": [
        {
          "output_type": "error",
          "ename": "TypeError",
          "evalue": "ignored",
          "traceback": [
            "\u001b[0;31m---------------------------------------------------------------------------\u001b[0m",
            "\u001b[0;31mTypeError\u001b[0m                                 Traceback (most recent call last)",
            "\u001b[0;32m<ipython-input-69-023878c23ae2>\u001b[0m in \u001b[0;36m<module>\u001b[0;34m()\u001b[0m\n\u001b[1;32m      2\u001b[0m \u001b[0;31m#https://stackoverflow.com/questions/59666138/sklearn-roc-auc-score-with-multi-class-ovr-should-have-none-average-available\u001b[0m\u001b[0;34m\u001b[0m\u001b[0;34m\u001b[0m\u001b[0;34m\u001b[0m\u001b[0m\n\u001b[1;32m      3\u001b[0m \u001b[0;31m#(reference for ROC)\u001b[0m\u001b[0;34m\u001b[0m\u001b[0;34m\u001b[0m\u001b[0;34m\u001b[0m\u001b[0m\n\u001b[0;32m----> 4\u001b[0;31m \u001b[0mrf_ev\u001b[0m\u001b[0;34m,\u001b[0m \u001b[0mrf_evn\u001b[0m\u001b[0;34m,\u001b[0m \u001b[0mrf_thresholds\u001b[0m \u001b[0;34m=\u001b[0m \u001b[0mmulticlass_roc_auc_score\u001b[0m\u001b[0;34m(\u001b[0m\u001b[0my_test\u001b[0m\u001b[0;34m,\u001b[0m \u001b[0mrf\u001b[0m\u001b[0;34m.\u001b[0m\u001b[0mpredict_proba\u001b[0m\u001b[0;34m(\u001b[0m\u001b[0mX_test\u001b[0m\u001b[0;34m)\u001b[0m\u001b[0;34m[\u001b[0m\u001b[0;34m:\u001b[0m\u001b[0;34m,\u001b[0m\u001b[0;36m1\u001b[0m\u001b[0;34m]\u001b[0m\u001b[0;34m)\u001b[0m\u001b[0;34m\u001b[0m\u001b[0;34m\u001b[0m\u001b[0m\n\u001b[0m\u001b[1;32m      5\u001b[0m \u001b[0mxgb_ev\u001b[0m\u001b[0;34m,\u001b[0m \u001b[0mxgb_evn\u001b[0m\u001b[0;34m,\u001b[0m \u001b[0mxgb_thresholds\u001b[0m \u001b[0;34m=\u001b[0m \u001b[0mmulticlass_roc_auc_score\u001b[0m\u001b[0;34m(\u001b[0m\u001b[0my_test\u001b[0m\u001b[0;34m,\u001b[0m \u001b[0mxgb\u001b[0m\u001b[0;34m.\u001b[0m\u001b[0mpredict_proba\u001b[0m\u001b[0;34m(\u001b[0m\u001b[0mX_test\u001b[0m\u001b[0;34m)\u001b[0m\u001b[0;34m[\u001b[0m\u001b[0;34m:\u001b[0m\u001b[0;34m,\u001b[0m\u001b[0;36m1\u001b[0m\u001b[0;34m]\u001b[0m\u001b[0;34m)\u001b[0m\u001b[0;34m\u001b[0m\u001b[0;34m\u001b[0m\u001b[0m\n\u001b[1;32m      6\u001b[0m \u001b[0mknn_ev\u001b[0m\u001b[0;34m,\u001b[0m \u001b[0mknn_evn\u001b[0m\u001b[0;34m,\u001b[0m \u001b[0mknn_thresholds\u001b[0m \u001b[0;34m=\u001b[0m \u001b[0mmulticlass_roc_auc_score\u001b[0m\u001b[0;34m(\u001b[0m\u001b[0my_test\u001b[0m\u001b[0;34m,\u001b[0m \u001b[0mknn\u001b[0m\u001b[0;34m.\u001b[0m\u001b[0mpredict_proba\u001b[0m\u001b[0;34m(\u001b[0m\u001b[0mX_test\u001b[0m\u001b[0;34m)\u001b[0m\u001b[0;34m[\u001b[0m\u001b[0;34m:\u001b[0m\u001b[0;34m,\u001b[0m\u001b[0;36m1\u001b[0m\u001b[0;34m]\u001b[0m\u001b[0;34m)\u001b[0m\u001b[0;34m\u001b[0m\u001b[0;34m\u001b[0m\u001b[0m\n",
            "\u001b[0;32m<ipython-input-68-8beca0c65fa7>\u001b[0m in \u001b[0;36mmulticlass_roc_auc_score\u001b[0;34m(y_test, y_pred, average)\u001b[0m\n\u001b[1;32m      1\u001b[0m \u001b[0;32mdef\u001b[0m \u001b[0mmulticlass_roc_auc_score\u001b[0m\u001b[0;34m(\u001b[0m\u001b[0my_test\u001b[0m\u001b[0;34m,\u001b[0m\u001b[0my_pred\u001b[0m\u001b[0;34m,\u001b[0m\u001b[0maverage\u001b[0m\u001b[0;34m=\u001b[0m\u001b[0;34m\"macro\"\u001b[0m\u001b[0;34m)\u001b[0m\u001b[0;34m:\u001b[0m\u001b[0;34m\u001b[0m\u001b[0;34m\u001b[0m\u001b[0m\n\u001b[1;32m      2\u001b[0m   \u001b[0mlb\u001b[0m \u001b[0;34m=\u001b[0m \u001b[0mpreprocessing\u001b[0m\u001b[0;34m.\u001b[0m\u001b[0mMultiLabelBinarizer\u001b[0m\u001b[0;34m(\u001b[0m\u001b[0;34m)\u001b[0m\u001b[0;34m\u001b[0m\u001b[0;34m\u001b[0m\u001b[0m\n\u001b[0;32m----> 3\u001b[0;31m   \u001b[0mlb\u001b[0m\u001b[0;34m.\u001b[0m\u001b[0mfit\u001b[0m\u001b[0;34m(\u001b[0m\u001b[0my_test\u001b[0m\u001b[0;34m)\u001b[0m\u001b[0;34m\u001b[0m\u001b[0;34m\u001b[0m\u001b[0m\n\u001b[0m\u001b[1;32m      4\u001b[0m   \u001b[0my_test\u001b[0m\u001b[0;34m=\u001b[0m\u001b[0mlb\u001b[0m\u001b[0;34m.\u001b[0m\u001b[0mtransform\u001b[0m\u001b[0;34m(\u001b[0m\u001b[0my_test\u001b[0m\u001b[0;34m)\u001b[0m\u001b[0;34m\u001b[0m\u001b[0;34m\u001b[0m\u001b[0m\n\u001b[1;32m      5\u001b[0m   \u001b[0my_pred\u001b[0m\u001b[0;34m=\u001b[0m\u001b[0mlb\u001b[0m\u001b[0;34m.\u001b[0m\u001b[0mtransform\u001b[0m\u001b[0;34m(\u001b[0m\u001b[0my_pred\u001b[0m\u001b[0;34m)\u001b[0m\u001b[0;34m\u001b[0m\u001b[0;34m\u001b[0m\u001b[0m\n",
            "\u001b[0;32m/usr/local/lib/python3.6/dist-packages/sklearn/preprocessing/_label.py\u001b[0m in \u001b[0;36mfit\u001b[0;34m(self, y)\u001b[0m\n\u001b[1;32m    869\u001b[0m         \u001b[0mself\u001b[0m\u001b[0;34m.\u001b[0m\u001b[0m_cached_dict\u001b[0m \u001b[0;34m=\u001b[0m \u001b[0;32mNone\u001b[0m\u001b[0;34m\u001b[0m\u001b[0;34m\u001b[0m\u001b[0m\n\u001b[1;32m    870\u001b[0m         \u001b[0;32mif\u001b[0m \u001b[0mself\u001b[0m\u001b[0;34m.\u001b[0m\u001b[0mclasses\u001b[0m \u001b[0;32mis\u001b[0m \u001b[0;32mNone\u001b[0m\u001b[0;34m:\u001b[0m\u001b[0;34m\u001b[0m\u001b[0;34m\u001b[0m\u001b[0m\n\u001b[0;32m--> 871\u001b[0;31m             \u001b[0mclasses\u001b[0m \u001b[0;34m=\u001b[0m \u001b[0msorted\u001b[0m\u001b[0;34m(\u001b[0m\u001b[0mset\u001b[0m\u001b[0;34m(\u001b[0m\u001b[0mitertools\u001b[0m\u001b[0;34m.\u001b[0m\u001b[0mchain\u001b[0m\u001b[0;34m.\u001b[0m\u001b[0mfrom_iterable\u001b[0m\u001b[0;34m(\u001b[0m\u001b[0my\u001b[0m\u001b[0;34m)\u001b[0m\u001b[0;34m)\u001b[0m\u001b[0;34m)\u001b[0m\u001b[0;34m\u001b[0m\u001b[0;34m\u001b[0m\u001b[0m\n\u001b[0m\u001b[1;32m    872\u001b[0m         \u001b[0;32melif\u001b[0m \u001b[0mlen\u001b[0m\u001b[0;34m(\u001b[0m\u001b[0mset\u001b[0m\u001b[0;34m(\u001b[0m\u001b[0mself\u001b[0m\u001b[0;34m.\u001b[0m\u001b[0mclasses\u001b[0m\u001b[0;34m)\u001b[0m\u001b[0;34m)\u001b[0m \u001b[0;34m<\u001b[0m \u001b[0mlen\u001b[0m\u001b[0;34m(\u001b[0m\u001b[0mself\u001b[0m\u001b[0;34m.\u001b[0m\u001b[0mclasses\u001b[0m\u001b[0;34m)\u001b[0m\u001b[0;34m:\u001b[0m\u001b[0;34m\u001b[0m\u001b[0;34m\u001b[0m\u001b[0m\n\u001b[1;32m    873\u001b[0m             raise ValueError(\"The classes argument contains duplicate \"\n",
            "\u001b[0;31mTypeError\u001b[0m: 'numpy.int64' object is not iterable"
          ]
        }
      ]
    },
    {
      "cell_type": "code",
      "metadata": {
        "id": "Hxn09jdD3sWb",
        "colab_type": "code",
        "colab": {
          "base_uri": "https://localhost:8080/",
          "height": 413
        },
        "outputId": "1d4d4904-2d15-498a-e4bc-cd0e0ce7bb02"
      },
      "source": [
        "y_score_dt = etc.fit(X_train,y_train).predict_proba(X_test)[:,1]\n",
        "avg_precision = multiclass_roc_auc_score(y_test, y_score_dt)\n",
        "\n",
        "print('Average precision-recall score of Etra tree model: {0:0.2f}'.format(\n",
        "      avg_precision))\n",
        "\n",
        "# Plot Precision-Recall curve:\n",
        "###############################################################################\n",
        "precision, recall, _ = multiclass_roc_auc_score(y_test_enc, y_score_dt)\n",
        "\n",
        "sns.set_style('whitegrid')\n",
        "\n",
        "plt.step(recall, precision, color='navy', where='post',label='Precision-Recall curve')\n",
        "#plt.fill_between(recall, precision, step='post', alpha=0.2, color='navy')\n",
        "plt.title('Precision-Recall curve: Decission Tree [test set] AP={0:0.2f}'\n",
        "          .format(avg_precision))\n",
        "plt.xlabel('Recall (Sensitivity)')\n",
        "plt.ylabel('Precision (PPV)')\n",
        "plt.ylim([0.0, 1.05])\n",
        "plt.xlim([0.0, 1.0])\n",
        "plt.legend(loc='lower right')\n",
        "plt.show()"
      ],
      "execution_count": 66,
      "outputs": [
        {
          "output_type": "error",
          "ename": "ValueError",
          "evalue": "ignored",
          "traceback": [
            "\u001b[0;31m---------------------------------------------------------------------------\u001b[0m",
            "\u001b[0;31mValueError\u001b[0m                                Traceback (most recent call last)",
            "\u001b[0;32m<ipython-input-66-13c780eda95e>\u001b[0m in \u001b[0;36m<module>\u001b[0;34m()\u001b[0m\n\u001b[1;32m      1\u001b[0m \u001b[0my_score_dt\u001b[0m \u001b[0;34m=\u001b[0m \u001b[0metc\u001b[0m\u001b[0;34m.\u001b[0m\u001b[0mfit\u001b[0m\u001b[0;34m(\u001b[0m\u001b[0mX_train\u001b[0m\u001b[0;34m,\u001b[0m\u001b[0my_train\u001b[0m\u001b[0;34m)\u001b[0m\u001b[0;34m.\u001b[0m\u001b[0mpredict_proba\u001b[0m\u001b[0;34m(\u001b[0m\u001b[0mX_test\u001b[0m\u001b[0;34m)\u001b[0m\u001b[0;34m[\u001b[0m\u001b[0;34m:\u001b[0m\u001b[0;34m,\u001b[0m\u001b[0;36m1\u001b[0m\u001b[0;34m]\u001b[0m\u001b[0;34m\u001b[0m\u001b[0;34m\u001b[0m\u001b[0m\n\u001b[0;32m----> 2\u001b[0;31m \u001b[0mavg_precision\u001b[0m \u001b[0;34m=\u001b[0m \u001b[0mmulticlass_roc_auc_score\u001b[0m\u001b[0;34m(\u001b[0m\u001b[0my_test\u001b[0m\u001b[0;34m,\u001b[0m \u001b[0my_score_dt\u001b[0m\u001b[0;34m)\u001b[0m\u001b[0;34m\u001b[0m\u001b[0;34m\u001b[0m\u001b[0m\n\u001b[0m\u001b[1;32m      3\u001b[0m \u001b[0;34m\u001b[0m\u001b[0m\n\u001b[1;32m      4\u001b[0m print('Average precision-recall score of Etra tree model: {0:0.2f}'.format(\n\u001b[1;32m      5\u001b[0m       avg_precision))\n",
            "\u001b[0;32m<ipython-input-64-d30c696a47e2>\u001b[0m in \u001b[0;36mmulticlass_roc_auc_score\u001b[0;34m(y_test, y_pred, average)\u001b[0m\n\u001b[1;32m      3\u001b[0m   \u001b[0mlb\u001b[0m\u001b[0;34m.\u001b[0m\u001b[0mfit\u001b[0m\u001b[0;34m(\u001b[0m\u001b[0my_test\u001b[0m\u001b[0;34m)\u001b[0m\u001b[0;34m\u001b[0m\u001b[0;34m\u001b[0m\u001b[0m\n\u001b[1;32m      4\u001b[0m   \u001b[0my_test\u001b[0m\u001b[0;34m=\u001b[0m\u001b[0mlb\u001b[0m\u001b[0;34m.\u001b[0m\u001b[0mtransform\u001b[0m\u001b[0;34m(\u001b[0m\u001b[0my_test\u001b[0m\u001b[0;34m)\u001b[0m\u001b[0;34m\u001b[0m\u001b[0;34m\u001b[0m\u001b[0m\n\u001b[0;32m----> 5\u001b[0;31m   \u001b[0my_pred\u001b[0m\u001b[0;34m=\u001b[0m\u001b[0mlb\u001b[0m\u001b[0;34m.\u001b[0m\u001b[0mtransform\u001b[0m\u001b[0;34m(\u001b[0m\u001b[0my_pred\u001b[0m\u001b[0;34m)\u001b[0m\u001b[0;34m\u001b[0m\u001b[0;34m\u001b[0m\u001b[0m\n\u001b[0m\u001b[1;32m      6\u001b[0m   \u001b[0;32mreturn\u001b[0m \u001b[0mroc_auc_score\u001b[0m\u001b[0;34m(\u001b[0m\u001b[0my_test\u001b[0m\u001b[0;34m,\u001b[0m\u001b[0my_pred\u001b[0m\u001b[0;34m,\u001b[0m\u001b[0maverage\u001b[0m\u001b[0;34m=\u001b[0m\u001b[0maverage\u001b[0m\u001b[0;34m)\u001b[0m\u001b[0;34m\u001b[0m\u001b[0;34m\u001b[0m\u001b[0m\n",
            "\u001b[0;32m/usr/local/lib/python3.6/dist-packages/sklearn/preprocessing/_label.py\u001b[0m in \u001b[0;36mtransform\u001b[0;34m(self, y)\u001b[0m\n\u001b[1;32m    484\u001b[0m                               \u001b[0mpos_label\u001b[0m\u001b[0;34m=\u001b[0m\u001b[0mself\u001b[0m\u001b[0;34m.\u001b[0m\u001b[0mpos_label\u001b[0m\u001b[0;34m,\u001b[0m\u001b[0;34m\u001b[0m\u001b[0;34m\u001b[0m\u001b[0m\n\u001b[1;32m    485\u001b[0m                               \u001b[0mneg_label\u001b[0m\u001b[0;34m=\u001b[0m\u001b[0mself\u001b[0m\u001b[0;34m.\u001b[0m\u001b[0mneg_label\u001b[0m\u001b[0;34m,\u001b[0m\u001b[0;34m\u001b[0m\u001b[0;34m\u001b[0m\u001b[0m\n\u001b[0;32m--> 486\u001b[0;31m                               sparse_output=self.sparse_output)\n\u001b[0m\u001b[1;32m    487\u001b[0m \u001b[0;34m\u001b[0m\u001b[0m\n\u001b[1;32m    488\u001b[0m     \u001b[0;32mdef\u001b[0m \u001b[0minverse_transform\u001b[0m\u001b[0;34m(\u001b[0m\u001b[0mself\u001b[0m\u001b[0;34m,\u001b[0m \u001b[0mY\u001b[0m\u001b[0;34m,\u001b[0m \u001b[0mthreshold\u001b[0m\u001b[0;34m=\u001b[0m\u001b[0;32mNone\u001b[0m\u001b[0;34m)\u001b[0m\u001b[0;34m:\u001b[0m\u001b[0;34m\u001b[0m\u001b[0;34m\u001b[0m\u001b[0m\n",
            "\u001b[0;32m/usr/local/lib/python3.6/dist-packages/sklearn/preprocessing/_label.py\u001b[0m in \u001b[0;36mlabel_binarize\u001b[0;34m(y, classes, neg_label, pos_label, sparse_output)\u001b[0m\n\u001b[1;32m    671\u001b[0m     \u001b[0;32melse\u001b[0m\u001b[0;34m:\u001b[0m\u001b[0;34m\u001b[0m\u001b[0;34m\u001b[0m\u001b[0m\n\u001b[1;32m    672\u001b[0m         raise ValueError(\"%s target data is not supported with label \"\n\u001b[0;32m--> 673\u001b[0;31m                          \"binarization\" % y_type)\n\u001b[0m\u001b[1;32m    674\u001b[0m \u001b[0;34m\u001b[0m\u001b[0m\n\u001b[1;32m    675\u001b[0m     \u001b[0;32mif\u001b[0m \u001b[0;32mnot\u001b[0m \u001b[0msparse_output\u001b[0m\u001b[0;34m:\u001b[0m\u001b[0;34m\u001b[0m\u001b[0;34m\u001b[0m\u001b[0m\n",
            "\u001b[0;31mValueError\u001b[0m: continuous target data is not supported with label binarization"
          ]
        }
      ]
    },
    {
      "cell_type": "markdown",
      "metadata": {
        "id": "C_Sc2Owm8h7t",
        "colab_type": "text"
      },
      "source": [
        "# Practical Utilization of Model"
      ]
    },
    {
      "cell_type": "markdown",
      "metadata": {
        "id": "KPbZbsgdXFCo",
        "colab_type": "text"
      },
      "source": [
        "After modeling"
      ]
    },
    {
      "cell_type": "code",
      "metadata": {
        "id": "YtvEZfYgwDEr",
        "colab_type": "code",
        "colab": {}
      },
      "source": [
        "# https://stackoverflow.com/questions/58250823/add-filters-to-scatter-plot-based-on-a-pandas-dataframe"
      ],
      "execution_count": null,
      "outputs": []
    },
    {
      "cell_type": "code",
      "metadata": {
        "id": "wGcUfCh0wDEv",
        "colab_type": "code",
        "colab": {}
      },
      "source": [
        ""
      ],
      "execution_count": null,
      "outputs": []
    },
    {
      "cell_type": "code",
      "metadata": {
        "id": "2rFHeyaFwDEz",
        "colab_type": "code",
        "colab": {}
      },
      "source": [
        ""
      ],
      "execution_count": null,
      "outputs": []
    },
    {
      "cell_type": "code",
      "metadata": {
        "id": "fPJOs618wDE2",
        "colab_type": "code",
        "colab": {}
      },
      "source": [
        ""
      ],
      "execution_count": null,
      "outputs": []
    },
    {
      "cell_type": "code",
      "metadata": {
        "id": "9-ZHk0ZX4rhi",
        "colab_type": "code",
        "colab": {}
      },
      "source": [
        ""
      ],
      "execution_count": null,
      "outputs": []
    },
    {
      "cell_type": "code",
      "metadata": {
        "id": "UzF8nJOP7k-w",
        "colab_type": "code",
        "colab": {}
      },
      "source": [
        ""
      ],
      "execution_count": null,
      "outputs": []
    },
    {
      "cell_type": "code",
      "metadata": {
        "id": "7jRrvaFv7k6n",
        "colab_type": "code",
        "colab": {}
      },
      "source": [
        ""
      ],
      "execution_count": null,
      "outputs": []
    }
  ]
}