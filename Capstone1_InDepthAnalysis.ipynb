{
  "nbformat": 4,
  "nbformat_minor": 0,
  "metadata": {
    "accelerator": "GPU",
    "colab": {
      "name": "Capstone1-InDepthAnalysis.ipynb",
      "provenance": [],
      "collapsed_sections": [
        "8PK4hdDinSR4"
      ],
      "toc_visible": true,
      "machine_shape": "hm",
      "include_colab_link": true
    },
    "kernelspec": {
      "display_name": "Python 3",
      "language": "python",
      "name": "python3"
    },
    "language_info": {
      "codemirror_mode": {
        "name": "ipython",
        "version": 3
      },
      "file_extension": ".py",
      "mimetype": "text/x-python",
      "name": "python",
      "nbconvert_exporter": "python",
      "pygments_lexer": "ipython3",
      "version": "3.7.7"
    }
  },
  "cells": [
    {
      "cell_type": "markdown",
      "metadata": {
        "id": "view-in-github",
        "colab_type": "text"
      },
      "source": [
        "<a href=\"https://colab.research.google.com/github/danielabebe1/CapstoneProject1/blob/master/Capstone1_InDepthAnalysis.ipynb\" target=\"_parent\"><img src=\"https://colab.research.google.com/assets/colab-badge.svg\" alt=\"Open In Colab\"/></a>"
      ]
    },
    {
      "cell_type": "markdown",
      "metadata": {
        "id": "ZNrWmOqjC_tU"
      },
      "source": [
        "# Capstone Project I"
      ]
    },
    {
      "cell_type": "markdown",
      "metadata": {
        "id": "tur5lZpTDBwP"
      },
      "source": [
        "## Predicting Pain Relievers "
      ]
    },
    {
      "cell_type": "markdown",
      "metadata": {
        "id": "WoouTxEiDRDf"
      },
      "source": [
        "Both prescribed and non-prescribed use of pain relievers, as well as rates of opioid-related mortality and admissions to emergency departments, have increased in the last few years. There is no exact figure on how many people are affected by this problem but the number has increased according to ‘National Center for Biotechnology Information’. There are many different pain relievers, and each one has advantages and risks. Some types of pain respond better to certain medicines than others. Each person has a different response to a pain reliever for the same type of condition. This is mainly because the conditions that cause pain are very complicated, which is one of the reasons why pain management is so difficult. This difficulty decreases the quality of life of patients that, in many cases, can suffer from constant pain with little to no relief. General-purpose pain-relieving medication is often ineffective even the best painkiller like morphine can sometimes fail to inhibit pain in cancer patients. Painkillers are working by activating a receptor cell call REV_ERBs that sends chemical signals inside the cell to block the production of certain genes regulates pain-causing and inflammatory molecules inside the body. The goal of this project is to build a model that can predict painkiller selected conditions and for different age groups. \n",
        "The possible stakeholders of this project includes pharmaceutical companies, physicians and clinicians, insurance companies and patients. Knowing the consumers’ response for the product is crucial in many majors in addition to the available research and development in the field will help physicians and clinicians while subscribing to these drugs. Pharmaceutical companies and insurance companies will also identify their focus drugs for their consumers. \n",
        "The dataset used in this project was acquired from kaggle where uploaded on kaggle by scraping the WebMD site (https://www.kaggle.com/rohanharode07/webmd-drug-reviews-dataset). The dataset provides user reviews on specific drugs along with related conditions, side effects, age, sex, and ratings reflecting overall patient satisfaction. The dataset contains 12 features with mixed variables including categorical, numerical and date. There are above 360 thousands of rows of unique reviews and are updated till Mar 2020.\n"
      ]
    },
    {
      "cell_type": "code",
      "metadata": {
        "colab": {
          "base_uri": "https://localhost:8080/"
        },
        "id": "9X4k8qgKwC-c",
        "outputId": "c1de251a-72b9-4ac8-b882-f64a65b5a140"
      },
      "source": [
        "#Importing the relevant libraries and load the data into the data frameles\n",
        "import numpy as np\n",
        "import pandas as pd\n",
        "import statsmodels.api as sm\n",
        "import matplotlib.pyplot as plt\n",
        "import seaborn as sns\n",
        "sns.set\n",
        "from scipy.stats import ttest_ind,randint\n",
        "from sklearn.utils import resample\n",
        "from sklearn.model_selection import train_test_split, StratifiedKFold,RandomizedSearchCV\n",
        "from sklearn.svm import SVC\n",
        "from sklearn.linear_model import LogisticRegression\n",
        "from sklearn import preprocessing, metrics\n",
        "from sklearn import utils\n",
        "from sklearn.preprocessing import StandardScaler, LabelEncoder, LabelBinarizer\n",
        "from sklearn.tree import DecisionTreeClassifier\n",
        "from sklearn.ensemble import RandomForestClassifier, ExtraTreesClassifier, BaggingClassifier, AdaBoostClassifier, GradientBoostingClassifier, VotingClassifier\n",
        "from sklearn.neighbors import KNeighborsClassifier\n",
        "from xgboost import XGBClassifier\n",
        "from sklearn.metrics import *\n",
        "import warnings\n",
        "warnings.filterwarnings('ignore')\n",
        "%matplotlib inline"
      ],
      "execution_count": null,
      "outputs": [
        {
          "output_type": "stream",
          "text": [
            "/usr/local/lib/python3.6/dist-packages/statsmodels/tools/_testing.py:19: FutureWarning: pandas.util.testing is deprecated. Use the functions in the public API at pandas.testing instead.\n",
            "  import pandas.util.testing as tm\n"
          ],
          "name": "stderr"
        }
      ]
    },
    {
      "cell_type": "markdown",
      "metadata": {
        "id": "PUgLr0ZHDEQS"
      },
      "source": [
        "# Data Wrangling and Manupulation\n",
        "\n",
        "In this section we will deal with the outliers, missing values and manupulatig the dataset for for further analysis"
      ]
    },
    {
      "cell_type": "code",
      "metadata": {
        "colab": {
          "base_uri": "https://localhost:8080/"
        },
        "id": "Xfub0K4KwC-o",
        "outputId": "ebbdd52b-6e0c-4440-b62c-d9d4bf9874dc"
      },
      "source": [
        "from google.colab import drive\n",
        "drive.mount('/content/drive')\n",
        "path='/content/drive/My Drive/webmd.csv'\n",
        "#the dataset is in csv format so we'll use read_csv function in pandas and replace blank space with NaN by \"na_values=' '\"\n",
        "df=pd.read_csv(path, na_values=' ')"
      ],
      "execution_count": null,
      "outputs": [
        {
          "output_type": "stream",
          "text": [
            "Mounted at /content/drive\n"
          ],
          "name": "stdout"
        }
      ]
    },
    {
      "cell_type": "code",
      "metadata": {
        "colab": {
          "base_uri": "https://localhost:8080/"
        },
        "id": "uRs-L0fdwC-u",
        "outputId": "5bf206b6-dffa-45db-ea72-a017f2edd7d9"
      },
      "source": [
        "#Only some attributes are considered in this project we'll drop attributes that aren't considered.\n",
        "df1=df.drop(['Date', 'DrugId', 'Reviews', 'Sides', 'UsefulCount'], axis=1)\n",
        "\n",
        "#Since our focus to predict painkiller, we'll chose conditions that have a word pain in them \n",
        "df2=df1[df1.Condition.str.contains('Pain', na=False)]\n",
        "\n",
        "#check the number of features and rows of remaining data\n",
        "print(\"Dataset contains: \" + str(df.shape[0]) + \" rows and \" + str(df.shape[1]) + \" columns\")\n",
        "\n",
        "#display top 5 rows\n",
        "df2.Condition.value_counts().head(5)"
      ],
      "execution_count": null,
      "outputs": [
        {
          "output_type": "stream",
          "text": [
            "Dataset contains: 362806 rows and 12 columns\n"
          ],
          "name": "stdout"
        },
        {
          "output_type": "execute_result",
          "data": {
            "text/plain": [
              "Pain                                                         25232\n",
              "Neuropathic Pain                                              8988\n",
              "Disorder characterized by Stiff, Tender & Painful Muscles     3472\n",
              "Chronic Pain                                                  2913\n",
              "Joint Damage causing Pain and Loss of Function                2451\n",
              "Name: Condition, dtype: int64"
            ]
          },
          "metadata": {
            "tags": []
          },
          "execution_count": 3
        }
      ]
    },
    {
      "cell_type": "markdown",
      "metadata": {
        "id": "qW5FjGEnzcAC"
      },
      "source": [
        "For this project let's choose top five conditions that is frequently occured in the dataset. Looking at the value_counts() above the top conditions are Neuropathic Pain', 'Pain', 'Disorder characterized by Stiff, Tender & Painful Muscles','Chronic Pain' and'Pain Originating From a Nerve'\n",
        "\n",
        "\n"
      ]
    },
    {
      "cell_type": "code",
      "metadata": {
        "colab": {
          "base_uri": "https://localhost:8080/"
        },
        "id": "YTxy9iLVwC_H",
        "outputId": "625609be-1f51-40e5-c74d-a1c030afe861"
      },
      "source": [
        "df3=df2[df2['Condition'].isin(['Neuropathic Pain', 'Pain', 'Disorder characterized by Stiff, Tender & Painful Muscles','Chronic Pain',\n",
        "                              'Pain Originating From a Nerve'])]\n",
        "df3.Drug.value_counts().head()"
      ],
      "execution_count": null,
      "outputs": [
        {
          "output_type": "execute_result",
          "data": {
            "text/plain": [
              "hydrocodone-acetaminophen      3818\n",
              "tramadol hcl er                2691\n",
              "tramadol hcl                   2691\n",
              "lyrica                         2015\n",
              "oxycodone tablet, oral only    1865\n",
              "Name: Drug, dtype: int64"
            ]
          },
          "metadata": {
            "tags": []
          },
          "execution_count": 4
        }
      ]
    },
    {
      "cell_type": "markdown",
      "metadata": {
        "id": "Qy1HYMJmEBdN"
      },
      "source": [
        "We merged drugs in one family for instance 'tramadol hcl' and 'tramadol hcl er' are the same chemical composition with minor difference. "
      ]
    },
    {
      "cell_type": "code",
      "metadata": {
        "id": "UHW-Ay99wC_a"
      },
      "source": [
        "df3.replace(to_replace=['gabapentin tablet, extended release 24 hr','gabapentin solution','neurontin capsule', 'oxycodone tablet, oral only',\n",
        "                       'oxycodone hcl er','oxycodone hcl','oxycodone hcl solution', 'tramadol hcl','tramadol hcl er','methadone hcl',\n",
        "                       'methadone hcl tablet, soluble','methadone hcl solution', 'morphine sulfate er tablet, extended release', \n",
        "                       'morphine sulfate', 'morphine sulfate er capsule, extended release multiphase 24 hr',\n",
        "                       'morphine tablet,oral only, extended release','morphine sulfate er'], \n",
        "           value=['gabapentin','gabapentin','neurontin','oxycodone','oxycodone','oxycodone','oxycodone',\n",
        "                 'tramadol','tramadol','methadone','methadone','methadone','morphine','morphine','morphine','morphine',\n",
        "                  'morphine'], inplace=True)"
      ],
      "execution_count": null,
      "outputs": []
    },
    {
      "cell_type": "code",
      "metadata": {
        "id": "mfEZHH1sAqh0"
      },
      "source": [
        "df3.replace(to_replace=['Pain Originating From a Nerve','Disorder characterized by Stiff, Tender & Painful Muscles'], \n",
        "           value=['Pain from Nerve','Painful Muscles'], inplace=True)\n",
        "df3.replace(to_replace=['oxycodone-acetaminophen', 'tramadol hcl-acetaminophen','acetaminophen-codeine', 'acetaminophen-diphenhydramine','acetaminophen tablet', \n",
        "                        'acetaminophen-pamabrom-pyrilam tablet','acetaminophen suppository, rectal', 'acetaminophen solution', 'acetaminophen extra strength', \n",
        "                        'acetaminophen pm xtra strength', 'acetaminophen pm', 'acetaminophen', 'hydrocodone-acetaminophen', \"children's acetaminophen\"], \n",
        "           value=['hydrocodone','hydrocodone','hydrocodone','hydrocodone','hydrocodone','hydrocodone','hydrocodone','hydrocodone','hydrocodone','hydrocodone',\n",
        "                  'hydrocodone','hydrocodone','hydrocodone','hydrocodone',], inplace=True)"
      ],
      "execution_count": null,
      "outputs": []
    },
    {
      "cell_type": "code",
      "metadata": {
        "colab": {
          "base_uri": "https://localhost:8080/"
        },
        "id": "q3Dm4Z_8wC_g",
        "outputId": "dd396fcc-3fc3-41b7-942b-42ec462fbea8"
      },
      "source": [
        "df3.Drug.value_counts().head(10)"
      ],
      "execution_count": null,
      "outputs": [
        {
          "output_type": "execute_result",
          "data": {
            "text/plain": [
              "oxycodone      7460\n",
              "tramadol       5382\n",
              "hydrocodone    4707\n",
              "gabapentin     3369\n",
              "neurontin      2592\n",
              "methadone      2040\n",
              "lyrica         2015\n",
              "morphine       1800\n",
              "vicodin        1376\n",
              "oxycontin      1112\n",
              "Name: Drug, dtype: int64"
            ]
          },
          "metadata": {
            "tags": []
          },
          "execution_count": 7
        }
      ]
    },
    {
      "cell_type": "code",
      "metadata": {
        "colab": {
          "base_uri": "https://localhost:8080/"
        },
        "id": "REcv5QNGwC_n",
        "outputId": "307170bd-1344-446f-edd7-5a3475a3bf0e"
      },
      "source": [
        "#Let's chose top ten drugs with high frequency\n",
        "df4=df3[df3['Drug'].isin(['oxycodone','tramadol', 'hydrocodone','gabapentin', 'neurontin', 'morphine','methadone','lyrica',\n",
        "                       'cymbalta','oxycontin'])]\n",
        "df4.Condition.value_counts()"
      ],
      "execution_count": null,
      "outputs": [
        {
          "output_type": "execute_result",
          "data": {
            "text/plain": [
              "Pain                17658\n",
              "Neuropathic Pain     7912\n",
              "Pain from Nerve      2398\n",
              "Painful Muscles      1839\n",
              "Chronic Pain         1778\n",
              "Name: Condition, dtype: int64"
            ]
          },
          "metadata": {
            "tags": []
          },
          "execution_count": 8
        }
      ]
    },
    {
      "cell_type": "code",
      "metadata": {
        "colab": {
          "base_uri": "https://localhost:8080/"
        },
        "id": "LK7SV3wnBVwW",
        "outputId": "b110cdb6-9cd4-42ec-fa92-d354ee72a21f"
      },
      "source": [
        "#the frequency of drugs for the selected conditions\n",
        "df5=df4[df4['Condition'].isin(['Pain','Neuropathic Pain','Pain from Nerve','Painful Muscles','Chronic Pain'])]\n",
        "df5.Drug.value_counts()"
      ],
      "execution_count": null,
      "outputs": [
        {
          "output_type": "execute_result",
          "data": {
            "text/plain": [
              "oxycodone      7460\n",
              "tramadol       5382\n",
              "hydrocodone    4707\n",
              "gabapentin     3369\n",
              "neurontin      2592\n",
              "methadone      2040\n",
              "lyrica         2015\n",
              "morphine       1800\n",
              "oxycontin      1112\n",
              "cymbalta       1108\n",
              "Name: Drug, dtype: int64"
            ]
          },
          "metadata": {
            "tags": []
          },
          "execution_count": 9
        }
      ]
    },
    {
      "cell_type": "code",
      "metadata": {
        "colab": {
          "base_uri": "https://localhost:8080/"
        },
        "id": "TcSETA0NBrN8",
        "outputId": "dd9de5cc-2ab9-4c82-c354-50d3e1fb4911"
      },
      "source": [
        "#Looking at the frequency of drugs above the number of drugs of the last three small compared to the the other, hence let's drop them\n",
        "df6=df5[df5['Drug'].isin(['oxycodone','tramadol', 'hydrocodone','gabapentin','neurontin','methadone','lyrica'])]\n",
        "df6.Condition.value_counts()"
      ],
      "execution_count": null,
      "outputs": [
        {
          "output_type": "execute_result",
          "data": {
            "text/plain": [
              "Pain                15795\n",
              "Neuropathic Pain     7108\n",
              "Pain from Nerve      2398\n",
              "Painful Muscles      1430\n",
              "Chronic Pain          834\n",
              "Name: Condition, dtype: int64"
            ]
          },
          "metadata": {
            "tags": []
          },
          "execution_count": 10
        }
      ]
    },
    {
      "cell_type": "code",
      "metadata": {
        "colab": {
          "base_uri": "https://localhost:8080/"
        },
        "id": "GQOSJpZHCBHa",
        "outputId": "e6edbaa7-d788-473d-9319-63ce3077763c"
      },
      "source": [
        "#the frequency of the last condition \"\"Chronic Pain\" very small so in order to reduce the imbalance problem let's take the first three.\n",
        "df7=df6[df6['Condition'].isin(['Pain','Neuropathic Pain','Pain from Nerve'])]\n",
        "df7.Drug.value_counts()"
      ],
      "execution_count": null,
      "outputs": [
        {
          "output_type": "execute_result",
          "data": {
            "text/plain": [
              "oxycodone      7412\n",
              "hydrocodone    4681\n",
              "tramadol       4020\n",
              "gabapentin     3369\n",
              "neurontin      2592\n",
              "methadone      1944\n",
              "lyrica         1283\n",
              "Name: Drug, dtype: int64"
            ]
          },
          "metadata": {
            "tags": []
          },
          "execution_count": 11
        }
      ]
    },
    {
      "cell_type": "code",
      "metadata": {
        "colab": {
          "base_uri": "https://localhost:8080/"
        },
        "id": "UtZd4nEhCi6o",
        "outputId": "e76c3b31-0734-4bad-c9d0-c93b7ec4860c"
      },
      "source": [
        "#Finally the top five drugs that are relatively high frequencies are picked for modeling \n",
        "df8=df7[df7['Drug'].isin(['oxycodone','tramadol', 'hydrocodone','gabapentin','neurontin'])]\n",
        "df8.Condition.value_counts()"
      ],
      "execution_count": null,
      "outputs": [
        {
          "output_type": "execute_result",
          "data": {
            "text/plain": [
              "Pain                13851\n",
              "Neuropathic Pain     5825\n",
              "Pain from Nerve      2398\n",
              "Name: Condition, dtype: int64"
            ]
          },
          "metadata": {
            "tags": []
          },
          "execution_count": 12
        }
      ]
    },
    {
      "cell_type": "code",
      "metadata": {
        "colab": {
          "base_uri": "https://localhost:8080/"
        },
        "id": "E1QbygYI-I2L",
        "outputId": "23b8a0ba-27fd-4c6d-9428-5c3fa2f3a1f4"
      },
      "source": [
        "#check if there are missing values\n",
        "print('Do null values exist in the dataset? ' + str(df8.isnull().values.any()))\n",
        "#fill missing values using method 'pad' and drop if there are any unfilled null values using pad method\n",
        "df8.fillna(method ='pad', inplace=True) \n",
        "df8.dropna(inplace=True)\n",
        "#check agin missing values\n",
        "print('Do null values exist in the dataset? ' + str(df8.isnull().values.any()))\n"
      ],
      "execution_count": null,
      "outputs": [
        {
          "output_type": "stream",
          "text": [
            "Do null values exist in the dataset? True\n",
            "Do null values exist in the dataset? False\n"
          ],
          "name": "stdout"
        }
      ]
    },
    {
      "cell_type": "code",
      "metadata": {
        "colab": {
          "base_uri": "https://localhost:8080/",
          "height": 386
        },
        "id": "ze0o0FSU9bx8",
        "outputId": "6e362fe8-657e-488b-a26e-1a589eb6ae98"
      },
      "source": [
        "# the describe() function helps us to summarize the statistics of the dataset and \n",
        "df8.describe(include='all')"
      ],
      "execution_count": null,
      "outputs": [
        {
          "output_type": "execute_result",
          "data": {
            "text/html": [
              "<div>\n",
              "<style scoped>\n",
              "    .dataframe tbody tr th:only-of-type {\n",
              "        vertical-align: middle;\n",
              "    }\n",
              "\n",
              "    .dataframe tbody tr th {\n",
              "        vertical-align: top;\n",
              "    }\n",
              "\n",
              "    .dataframe thead th {\n",
              "        text-align: right;\n",
              "    }\n",
              "</style>\n",
              "<table border=\"1\" class=\"dataframe\">\n",
              "  <thead>\n",
              "    <tr style=\"text-align: right;\">\n",
              "      <th></th>\n",
              "      <th>Age</th>\n",
              "      <th>Condition</th>\n",
              "      <th>Drug</th>\n",
              "      <th>EaseofUse</th>\n",
              "      <th>Effectiveness</th>\n",
              "      <th>Satisfaction</th>\n",
              "      <th>Sex</th>\n",
              "    </tr>\n",
              "  </thead>\n",
              "  <tbody>\n",
              "    <tr>\n",
              "      <th>count</th>\n",
              "      <td>22073</td>\n",
              "      <td>22073</td>\n",
              "      <td>22073</td>\n",
              "      <td>22073.000000</td>\n",
              "      <td>22073.000000</td>\n",
              "      <td>22073.000000</td>\n",
              "      <td>22073</td>\n",
              "    </tr>\n",
              "    <tr>\n",
              "      <th>unique</th>\n",
              "      <td>11</td>\n",
              "      <td>3</td>\n",
              "      <td>5</td>\n",
              "      <td>NaN</td>\n",
              "      <td>NaN</td>\n",
              "      <td>NaN</td>\n",
              "      <td>2</td>\n",
              "    </tr>\n",
              "    <tr>\n",
              "      <th>top</th>\n",
              "      <td>45-54</td>\n",
              "      <td>Pain</td>\n",
              "      <td>oxycodone</td>\n",
              "      <td>NaN</td>\n",
              "      <td>NaN</td>\n",
              "      <td>NaN</td>\n",
              "      <td>Female</td>\n",
              "    </tr>\n",
              "    <tr>\n",
              "      <th>freq</th>\n",
              "      <td>6010</td>\n",
              "      <td>13851</td>\n",
              "      <td>7412</td>\n",
              "      <td>NaN</td>\n",
              "      <td>NaN</td>\n",
              "      <td>NaN</td>\n",
              "      <td>13434</td>\n",
              "    </tr>\n",
              "    <tr>\n",
              "      <th>mean</th>\n",
              "      <td>NaN</td>\n",
              "      <td>NaN</td>\n",
              "      <td>NaN</td>\n",
              "      <td>4.209305</td>\n",
              "      <td>3.570652</td>\n",
              "      <td>3.389571</td>\n",
              "      <td>NaN</td>\n",
              "    </tr>\n",
              "    <tr>\n",
              "      <th>std</th>\n",
              "      <td>NaN</td>\n",
              "      <td>NaN</td>\n",
              "      <td>NaN</td>\n",
              "      <td>1.125486</td>\n",
              "      <td>1.318932</td>\n",
              "      <td>1.471905</td>\n",
              "      <td>NaN</td>\n",
              "    </tr>\n",
              "    <tr>\n",
              "      <th>min</th>\n",
              "      <td>NaN</td>\n",
              "      <td>NaN</td>\n",
              "      <td>NaN</td>\n",
              "      <td>1.000000</td>\n",
              "      <td>1.000000</td>\n",
              "      <td>1.000000</td>\n",
              "      <td>NaN</td>\n",
              "    </tr>\n",
              "    <tr>\n",
              "      <th>25%</th>\n",
              "      <td>NaN</td>\n",
              "      <td>NaN</td>\n",
              "      <td>NaN</td>\n",
              "      <td>4.000000</td>\n",
              "      <td>3.000000</td>\n",
              "      <td>2.000000</td>\n",
              "      <td>NaN</td>\n",
              "    </tr>\n",
              "    <tr>\n",
              "      <th>50%</th>\n",
              "      <td>NaN</td>\n",
              "      <td>NaN</td>\n",
              "      <td>NaN</td>\n",
              "      <td>5.000000</td>\n",
              "      <td>4.000000</td>\n",
              "      <td>4.000000</td>\n",
              "      <td>NaN</td>\n",
              "    </tr>\n",
              "    <tr>\n",
              "      <th>75%</th>\n",
              "      <td>NaN</td>\n",
              "      <td>NaN</td>\n",
              "      <td>NaN</td>\n",
              "      <td>5.000000</td>\n",
              "      <td>5.000000</td>\n",
              "      <td>5.000000</td>\n",
              "      <td>NaN</td>\n",
              "    </tr>\n",
              "    <tr>\n",
              "      <th>max</th>\n",
              "      <td>NaN</td>\n",
              "      <td>NaN</td>\n",
              "      <td>NaN</td>\n",
              "      <td>5.000000</td>\n",
              "      <td>5.000000</td>\n",
              "      <td>5.000000</td>\n",
              "      <td>NaN</td>\n",
              "    </tr>\n",
              "  </tbody>\n",
              "</table>\n",
              "</div>"
            ],
            "text/plain": [
              "          Age Condition       Drug  ...  Effectiveness  Satisfaction     Sex\n",
              "count   22073     22073      22073  ...   22073.000000  22073.000000   22073\n",
              "unique     11         3          5  ...            NaN           NaN       2\n",
              "top     45-54      Pain  oxycodone  ...            NaN           NaN  Female\n",
              "freq     6010     13851       7412  ...            NaN           NaN   13434\n",
              "mean      NaN       NaN        NaN  ...       3.570652      3.389571     NaN\n",
              "std       NaN       NaN        NaN  ...       1.318932      1.471905     NaN\n",
              "min       NaN       NaN        NaN  ...       1.000000      1.000000     NaN\n",
              "25%       NaN       NaN        NaN  ...       3.000000      2.000000     NaN\n",
              "50%       NaN       NaN        NaN  ...       4.000000      4.000000     NaN\n",
              "75%       NaN       NaN        NaN  ...       5.000000      5.000000     NaN\n",
              "max       NaN       NaN        NaN  ...       5.000000      5.000000     NaN\n",
              "\n",
              "[11 rows x 7 columns]"
            ]
          },
          "metadata": {
            "tags": []
          },
          "execution_count": 14
        }
      ]
    },
    {
      "cell_type": "markdown",
      "metadata": {
        "id": "EhmWp13Ppmaq"
      },
      "source": [
        "# Exploratory Data Analysis"
      ]
    },
    {
      "cell_type": "markdown",
      "metadata": {
        "id": "qfN9ZfjXwkiP"
      },
      "source": [
        "In this section we try to visualize and statistically hypothesize to understand the dataset better and and the best way to represent it to actually gain meaningful insights.  "
      ]
    },
    {
      "cell_type": "code",
      "metadata": {
        "id": "4tHP3gJvLvPG"
      },
      "source": [
        "# discretization on age for age_group & age_bin_label\n",
        "# before getting into grouping, lets replace the existing group to approximate age. \n",
        "df8.replace(to_replace=['0-2', '3-6','7-12', '13-18','19-24','25-34','35-44','45-54','55-64','65-74','75 or over'], \n",
        "           value=[0,5,10,15,20,30,40,50,60,70,80], inplace=True)\n",
        "\n",
        "age_bins = [0, 20, 30, 40, 50, 60, 70,80]\n",
        "age_bin_labels = [1,2,3,4,5,6,7]\n",
        "# Stratification: age_group, Generate age_group and age_group_label\n",
        "df8['Age_group'] = pd.cut(np.array(df8['Age']),bins=age_bins) \n",
        "df8['Age_group_label'] = pd.cut(np.array(df8['Age']),bins=age_bins, labels=age_bin_labels) "
      ],
      "execution_count": null,
      "outputs": []
    },
    {
      "cell_type": "code",
      "metadata": {
        "colab": {
          "base_uri": "https://localhost:8080/",
          "height": 350
        },
        "id": "hTpo_GgbADlP",
        "outputId": "c14a0032-1098-40df-9323-00f6adc927e3"
      },
      "source": [
        "# Count frequencies and shows patients breakdown by stroke condition:\n",
        "df_sex = pd.DataFrame(df8.groupby('Sex')['Sex'].count())\n",
        "df_sex.columns = ['count']\n",
        "plt.figure(figsize=(6,5), dpi= 80)\n",
        "plt.pie(df_sex, labels=['Female','Male'], autopct='%.0f%%', colors=['pink','blue'], shadow=True)\n",
        "plt.title('Patients gender proportion')\n",
        "plt.show()"
      ],
      "execution_count": null,
      "outputs": [
        {
          "output_type": "display_data",
          "data": {
            "image/png": "[encoded data removed]",
            "text/plain": [
              "<Figure size 480x400 with 1 Axes>"
            ]
          },
          "metadata": {
            "tags": []
          }
        }
      ]
    },
    {
      "cell_type": "code",
      "metadata": {
        "colab": {
          "base_uri": "https://localhost:8080/",
          "height": 400
        },
        "id": "KPVaO2JjSL_P",
        "outputId": "9e83d02d-27f3-4c0f-f248-d6e212a3731d"
      },
      "source": [
        "#visualize age distribution of the patient \n",
        "plt.figure(figsize=(12,5), dpi= 80)\n",
        "plt.subplot(1, 2, 1)\n",
        "sns.countplot(x=\"Age\", data=df8,);\n",
        "plt.ylabel('Age frequency')\n",
        "plt.title('Age distribution')\n",
        "plt.subplot(1, 2, 2)\n",
        "sns.countplot(x=\"Age\", hue=\"Sex\",data=df8,);\n",
        "plt.ylabel('Age frequency')\n",
        "plt.title('Age distribution')\n",
        "# plt.subplot(1, 3, 2)\n",
        "# sns.countplot(x=\"Effectiveness\", hue=\"Sex\",data=df);\n",
        "# plt.subplot(1, 3, 3)\n",
        "# sns.countplot(x=\"Satisfaction\", hue=\"Sex\",data=df);"
      ],
      "execution_count": null,
      "outputs": [
        {
          "output_type": "execute_result",
          "data": {
            "text/plain": [
              "Text(0.5, 1.0, 'Age distribution')"
            ]
          },
          "metadata": {
            "tags": []
          },
          "execution_count": 17
        },
        {
          "output_type": "display_data",
          "data": {
            "image/png": "[encoded data removed]",
            "text/plain": [
              "<Figure size 960x400 with 2 Axes>"
            ]
          },
          "metadata": {
            "tags": [],
            "needs_background": "light"
          }
        }
      ]
    },
    {
      "cell_type": "code",
      "metadata": {
        "colab": {
          "base_uri": "https://localhost:8080/",
          "height": 400
        },
        "id": "to1Kbv_kw4U4",
        "outputId": "16257ff1-f869-4083-b786-1c8c61f5f5b3"
      },
      "source": [
        "#The frequency of selected drugs across age.\n",
        "plt.figure(figsize=(12,5), dpi= 80)\n",
        "\n",
        "sns.countplot(x=\"Age\", hue=\"Drug\",data=df8,);\n",
        "plt.ylabel('Drug frequency')\n",
        "plt.title('Age distribution ')\n",
        "plt.legend(loc='upper left')"
      ],
      "execution_count": null,
      "outputs": [
        {
          "output_type": "execute_result",
          "data": {
            "text/plain": [
              "<matplotlib.legend.Legend at 0x7fd0ea696438>"
            ]
          },
          "metadata": {
            "tags": []
          },
          "execution_count": 18
        },
        {
          "output_type": "display_data",
          "data": {
            "image/png": "[encoded data removed]",
            "text/plain": [
              "<Figure size 960x400 with 1 Axes>"
            ]
          },
          "metadata": {
            "tags": [],
            "needs_background": "light"
          }
        }
      ]
    },
    {
      "cell_type": "code",
      "metadata": {
        "colab": {
          "base_uri": "https://localhost:8080/",
          "height": 426
        },
        "id": "ypER7VexwDBM",
        "outputId": "293939f8-6d08-412c-ce27-8e7942580d40"
      },
      "source": [
        "plt.figure(figsize=(18,6), dpi= 80)\n",
        "plt.subplot(1, 3, 1)\n",
        "sns.countplot(x=\"EaseofUse\", hue=\"Sex\",data=df8,);\n",
        "plt.subplot(1, 3, 2)\n",
        "sns.countplot(x=\"Effectiveness\", hue=\"Sex\",data=df8);\n",
        "plt.subplot(1, 3, 3)\n",
        "sns.countplot(x=\"Satisfaction\", hue=\"Sex\",data=df8);"
      ],
      "execution_count": null,
      "outputs": [
        {
          "output_type": "display_data",
          "data": {
            "image/png": "[encoded data removed]",
            "text/plain": [
              "<Figure size 1440x480 with 3 Axes>"
            ]
          },
          "metadata": {
            "tags": [],
            "needs_background": "light"
          }
        }
      ]
    },
    {
      "cell_type": "code",
      "metadata": {
        "colab": {
          "base_uri": "https://localhost:8080/",
          "height": 449
        },
        "id": "c7o4V3NaS45k",
        "outputId": "7d49ecdd-b348-4d70-fb3e-0f42f3b68849"
      },
      "source": [
        "plt.figure(figsize=(6,5), dpi= 80)\n",
        "av=sns.countplot(x=\"Drug\", data=df8,);\n",
        "av.set_xticklabels(av.get_xticklabels(), rotation=45);\n",
        "av.set_title('Frequency of Drug')\n"
      ],
      "execution_count": null,
      "outputs": [
        {
          "output_type": "execute_result",
          "data": {
            "text/plain": [
              "Text(0.5, 1.0, 'Frequency of Drug')"
            ]
          },
          "metadata": {
            "tags": []
          },
          "execution_count": 20
        },
        {
          "output_type": "display_data",
          "data": {
            "image/png": "[encoded data removed]",
            "text/plain": [
              "<Figure size 480x400 with 1 Axes>"
            ]
          },
          "metadata": {
            "tags": [],
            "needs_background": "light"
          }
        }
      ]
    },
    {
      "cell_type": "code",
      "metadata": {
        "colab": {
          "base_uri": "https://localhost:8080/",
          "height": 417
        },
        "id": "4M0500xPwDBT",
        "outputId": "86485005-32d1-406b-f0be-d6f2d2e19f96"
      },
      "source": [
        "df_mean=df8.groupby('Age').mean()\n",
        "df_mean"
      ],
      "execution_count": null,
      "outputs": [
        {
          "output_type": "execute_result",
          "data": {
            "text/html": [
              "<div>\n",
              "<style scoped>\n",
              "    .dataframe tbody tr th:only-of-type {\n",
              "        vertical-align: middle;\n",
              "    }\n",
              "\n",
              "    .dataframe tbody tr th {\n",
              "        vertical-align: top;\n",
              "    }\n",
              "\n",
              "    .dataframe thead th {\n",
              "        text-align: right;\n",
              "    }\n",
              "</style>\n",
              "<table border=\"1\" class=\"dataframe\">\n",
              "  <thead>\n",
              "    <tr style=\"text-align: right;\">\n",
              "      <th></th>\n",
              "      <th>EaseofUse</th>\n",
              "      <th>Effectiveness</th>\n",
              "      <th>Satisfaction</th>\n",
              "    </tr>\n",
              "    <tr>\n",
              "      <th>Age</th>\n",
              "      <th></th>\n",
              "      <th></th>\n",
              "      <th></th>\n",
              "    </tr>\n",
              "  </thead>\n",
              "  <tbody>\n",
              "    <tr>\n",
              "      <th>0</th>\n",
              "      <td>3.333333</td>\n",
              "      <td>3.333333</td>\n",
              "      <td>3.333333</td>\n",
              "    </tr>\n",
              "    <tr>\n",
              "      <th>5</th>\n",
              "      <td>3.200000</td>\n",
              "      <td>3.500000</td>\n",
              "      <td>3.300000</td>\n",
              "    </tr>\n",
              "    <tr>\n",
              "      <th>10</th>\n",
              "      <td>3.857143</td>\n",
              "      <td>3.714286</td>\n",
              "      <td>3.714286</td>\n",
              "    </tr>\n",
              "    <tr>\n",
              "      <th>15</th>\n",
              "      <td>4.300000</td>\n",
              "      <td>3.890909</td>\n",
              "      <td>3.672727</td>\n",
              "    </tr>\n",
              "    <tr>\n",
              "      <th>20</th>\n",
              "      <td>4.218203</td>\n",
              "      <td>3.745624</td>\n",
              "      <td>3.494749</td>\n",
              "    </tr>\n",
              "    <tr>\n",
              "      <th>30</th>\n",
              "      <td>4.215567</td>\n",
              "      <td>3.628005</td>\n",
              "      <td>3.426936</td>\n",
              "    </tr>\n",
              "    <tr>\n",
              "      <th>40</th>\n",
              "      <td>4.208769</td>\n",
              "      <td>3.628855</td>\n",
              "      <td>3.448381</td>\n",
              "    </tr>\n",
              "    <tr>\n",
              "      <th>50</th>\n",
              "      <td>4.182529</td>\n",
              "      <td>3.547754</td>\n",
              "      <td>3.373544</td>\n",
              "    </tr>\n",
              "    <tr>\n",
              "      <th>60</th>\n",
              "      <td>4.240713</td>\n",
              "      <td>3.559850</td>\n",
              "      <td>3.381614</td>\n",
              "    </tr>\n",
              "    <tr>\n",
              "      <th>70</th>\n",
              "      <td>4.195303</td>\n",
              "      <td>3.468892</td>\n",
              "      <td>3.304079</td>\n",
              "    </tr>\n",
              "    <tr>\n",
              "      <th>80</th>\n",
              "      <td>4.223226</td>\n",
              "      <td>3.414194</td>\n",
              "      <td>3.254194</td>\n",
              "    </tr>\n",
              "  </tbody>\n",
              "</table>\n",
              "</div>"
            ],
            "text/plain": [
              "     EaseofUse  Effectiveness  Satisfaction\n",
              "Age                                        \n",
              "0     3.333333       3.333333      3.333333\n",
              "5     3.200000       3.500000      3.300000\n",
              "10    3.857143       3.714286      3.714286\n",
              "15    4.300000       3.890909      3.672727\n",
              "20    4.218203       3.745624      3.494749\n",
              "30    4.215567       3.628005      3.426936\n",
              "40    4.208769       3.628855      3.448381\n",
              "50    4.182529       3.547754      3.373544\n",
              "60    4.240713       3.559850      3.381614\n",
              "70    4.195303       3.468892      3.304079\n",
              "80    4.223226       3.414194      3.254194"
            ]
          },
          "metadata": {
            "tags": []
          },
          "execution_count": 21
        }
      ]
    },
    {
      "cell_type": "code",
      "metadata": {
        "colab": {
          "base_uri": "https://localhost:8080/",
          "height": 329
        },
        "id": "Y0qhMy9AwDBg",
        "outputId": "5a4525c2-6754-44a6-ce14-f51177a764d8"
      },
      "source": [
        "plt.figure(figsize=(6,5), dpi= 80)\n",
        "df_mean.plot(style='o')\n",
        "# Plot formatting\n",
        "plt.xlabel('Age')\n",
        "plt.ylabel('mean value')\n",
        "plt.xlim(0,90)\n",
        "plt.ylim(0,5)\n",
        "plt.title('Comparison of mean value')\n",
        "plt.legend(loc='lower right')"
      ],
      "execution_count": null,
      "outputs": [
        {
          "output_type": "execute_result",
          "data": {
            "text/plain": [
              "<matplotlib.legend.Legend at 0x7fd087549ac8>"
            ]
          },
          "metadata": {
            "tags": []
          },
          "execution_count": 22
        },
        {
          "output_type": "display_data",
          "data": {
            "text/plain": [
              "<Figure size 480x400 with 0 Axes>"
            ]
          },
          "metadata": {
            "tags": []
          }
        },
        {
          "output_type": "display_data",
          "data": {
            "image/png": "[encoded data removed]",
            "text/plain": [
              "<Figure size 432x288 with 1 Axes>"
            ]
          },
          "metadata": {
            "tags": [],
            "needs_background": "light"
          }
        }
      ]
    },
    {
      "cell_type": "code",
      "metadata": {
        "colab": {
          "base_uri": "https://localhost:8080/",
          "height": 404
        },
        "id": "z39irRSeC8xw",
        "outputId": "d64af934-e5c0-48c4-868a-ca9f7eae9b5c"
      },
      "source": [
        "#graphical representation of corellation\n",
        "plt.figure(figsize=(6,5), dpi= 80)\n",
        "hm=sns.heatmap(df8.corr(), annot=True,center = 0,cmap='bwr_r', cbar=True)\n",
        "plt.title('Heatmap of Correlation Matrix')\n",
        "plt.tight_layout()"
      ],
      "execution_count": null,
      "outputs": [
        {
          "output_type": "display_data",
          "data": {
            "image/png": "[encoded data removed]",
            "text/plain": [
              "<Figure size 480x400 with 2 Axes>"
            ]
          },
          "metadata": {
            "tags": [],
            "needs_background": "light"
          }
        }
      ]
    },
    {
      "cell_type": "markdown",
      "metadata": {
        "id": "GGIPJV2FPzd6"
      },
      "source": [
        "## Balancing classes"
      ]
    },
    {
      "cell_type": "code",
      "metadata": {
        "colab": {
          "base_uri": "https://localhost:8080/"
        },
        "id": "0VpoDq19obRp",
        "outputId": "a6547020-5845-4338-9b7c-fa0f740460b1"
      },
      "source": [
        "# Filter dataframe by a target label\n",
        "df_hyd=df8[df8['Drug']=='hydrocodone']\n",
        "df_oxy=df8[df8['Drug']=='oxycodone']\n",
        "df_neu=df8[df8['Drug']=='neurontin']\n",
        "df_gab=df8[df8['Drug']=='gabapentin']\n",
        "df_trm=df8[df8['Drug']=='tramadol']\n",
        "# Stratified by age_group_label of oxycodone drug:\n",
        "df_oxy_grp1 = df_oxy[df_oxy['Age_group_label'] == 1] \n",
        "df_oxy_grp2 = df_oxy[df_oxy['Age_group_label'] == 2] \n",
        "df_oxy_grp3 = df_oxy[df_oxy['Age_group_label'] == 3] \n",
        "df_oxy_grp4 = df_oxy[df_oxy['Age_group_label'] == 4] \n",
        "df_oxy_grp5 = df_oxy[df_oxy['Age_group_label'] == 5] \n",
        "df_oxy_grp6 = df_oxy[df_oxy['Age_group_label'] == 6] \n",
        "df_oxy_grp7 = df_oxy[df_oxy['Age_group_label'] == 7] \n",
        "\n",
        "# Stratified by age_group_label of neurontin drug: \n",
        "df_neu_grp1 = df_neu[df_neu['Age_group_label'] == 1] \n",
        "df_neu_grp2 = df_neu[df_neu['Age_group_label'] == 2] \n",
        "df_neu_grp3 = df_neu[df_neu['Age_group_label'] == 3] \n",
        "df_neu_grp4 = df_neu[df_neu['Age_group_label'] == 4] \n",
        "df_neu_grp5 = df_neu[df_neu['Age_group_label'] == 5] \n",
        "df_neu_grp6 = df_neu[df_neu['Age_group_label'] == 6] \n",
        "df_neu_grp7 = df_neu[df_neu['Age_group_label'] == 7] \n",
        "\n",
        "# Stratified by age_group_label of gabapentin drug:\n",
        "df_gab_grp1 = df_gab[df_gab['Age_group_label'] == 1]  \n",
        "df_gab_grp2 = df_gab[df_gab['Age_group_label'] == 2] \n",
        "df_gab_grp3 = df_gab[df_gab['Age_group_label'] == 3] \n",
        "df_gab_grp4 = df_gab[df_gab['Age_group_label'] == 4] \n",
        "df_gab_grp5 = df_gab[df_gab['Age_group_label'] == 5] \n",
        "df_gab_grp6 = df_gab[df_gab['Age_group_label'] == 6] \n",
        "df_gab_grp7 = df_gab[df_gab['Age_group_label'] == 7] \n",
        "\n",
        "# Stratified by age_group_label of tramadol drug:\n",
        "df_trm_grp1 = df_trm[df_trm['Age_group_label'] == 1]  \n",
        "df_trm_grp2 = df_trm[df_trm['Age_group_label'] == 2] \n",
        "df_trm_grp3 = df_trm[df_trm['Age_group_label'] == 3] \n",
        "df_trm_grp4 = df_trm[df_trm['Age_group_label'] == 4] \n",
        "df_trm_grp5 = df_trm[df_trm['Age_group_label'] == 5] \n",
        "df_trm_grp6 = df_trm[df_trm['Age_group_label'] == 6] \n",
        "df_trm_grp7 = df_trm[df_trm['Age_group_label'] == 7] \n",
        "# Age group counts index for stratification by major class \"drug\" %:\n",
        "df_hyd_counts = df_hyd[['Age_group','Age_group_label']]\n",
        "df_hyd_counts = pd.DataFrame(df_hyd_counts.groupby('Age_group_label')['Age_group'].count())\n",
        "df_hyd_counts.columns = ['counts']\n",
        "\n",
        "# Compute age group label proporiton % on hydrocodone drug:\n",
        "df_hyd_counts['Age_group_pct'] = df_hyd_counts['counts']/df_hyd_counts['counts'].sum()\n",
        "\n",
        "# Print the count index for each age group from hydrocodone drug:\n",
        "print(df_hyd_counts)"
      ],
      "execution_count": null,
      "outputs": [
        {
          "output_type": "stream",
          "text": [
            "                 counts  Age_group_pct\n",
            "Age_group_label                       \n",
            "1                   268       0.057289\n",
            "2                   628       0.134245\n",
            "3                   867       0.185336\n",
            "4                  1222       0.261223\n",
            "5                  1023       0.218683\n",
            "6                   482       0.103035\n",
            "7                   188       0.040188\n"
          ],
          "name": "stdout"
        }
      ]
    },
    {
      "cell_type": "code",
      "metadata": {
        "id": "JJHxh6eWoPh3"
      },
      "source": [
        "# downsampling on hydrocodone drug by oxycodone drug proporition %\n",
        "\n",
        "sampled_oxy_grp1 = resample(df_oxy_grp1, replace=True, n_samples=270,random_state=0)\n",
        "sampled_oxy_grp2 = resample(df_oxy_grp2, replace=True, n_samples=630,random_state=0)\n",
        "sampled_oxy_grp3 = resample(df_oxy_grp3, replace=True, n_samples=870,random_state=0)\n",
        "sampled_oxy_grp4 = resample(df_oxy_grp4, replace=True, n_samples=1225,random_state=0)\n",
        "sampled_oxy_grp5 = resample(df_oxy_grp5, replace=True, n_samples=1025,random_state=0)\n",
        "sampled_oxy_grp6 = resample(df_oxy_grp6, replace=True, n_samples=480,random_state=0)\n",
        "sampled_oxy_grp7 = resample(df_oxy_grp7, replace=True, n_samples=190,random_state=0)\n",
        "\n",
        "# Concatentate downsampled majority class: \"oxycodone\" drug of all age groups\n",
        "df_oxy_downsampled = pd.concat([sampled_oxy_grp1,sampled_oxy_grp2,sampled_oxy_grp3, sampled_oxy_grp4,sampled_oxy_grp5,sampled_oxy_grp6,\n",
        "                              sampled_oxy_grp7], axis=0)"
      ],
      "execution_count": null,
      "outputs": []
    },
    {
      "cell_type": "code",
      "metadata": {
        "id": "PwtyaKspuFbw"
      },
      "source": [
        "# Upsampling on hydrocodone drug by neurontin drug proporition %\n",
        "\n",
        "sampled_neu_grp1 = resample(df_neu_grp1, replace=True, n_samples=265,random_state=0)\n",
        "sampled_neu_grp2 = resample(df_neu_grp2, replace=True, n_samples=630,random_state=0)\n",
        "sampled_neu_grp3 = resample(df_neu_grp3, replace=True, n_samples=870,random_state=0)\n",
        "sampled_neu_grp4 = resample(df_neu_grp4, replace=True, n_samples=1225,random_state=0)\n",
        "sampled_neu_grp5 = resample(df_neu_grp5, replace=True, n_samples=1020,random_state=0)\n",
        "sampled_neu_grp6 = resample(df_neu_grp6, replace=True, n_samples=480,random_state=0)\n",
        "sampled_neu_grp7 = resample(df_neu_grp7, replace=True, n_samples=190,random_state=0)\n",
        "\n",
        "# Concatentate upsampled minority class: \"neurontin\" drug of all age groups\n",
        "df_neu_upsampled = pd.concat([sampled_neu_grp1,sampled_neu_grp2,sampled_neu_grp3, sampled_neu_grp4,sampled_neu_grp5,sampled_neu_grp6,\n",
        "                               sampled_neu_grp7], axis=0)"
      ],
      "execution_count": null,
      "outputs": []
    },
    {
      "cell_type": "code",
      "metadata": {
        "id": "PWajzAyHuGQr"
      },
      "source": [
        "# Upsampling on hydrocodone drug by gabapentin drug proporition %\n",
        "\n",
        "sampled_trm_grp1 = resample(df_trm_grp1, replace=True, n_samples=265,random_state=0)\n",
        "sampled_trm_grp2 = resample(df_trm_grp2, replace=True, n_samples=630,random_state=0)\n",
        "sampled_trm_grp3 = resample(df_trm_grp3, replace=True, n_samples=870,random_state=0)\n",
        "sampled_trm_grp4 = resample(df_trm_grp4, replace=True, n_samples=1225,random_state=0)\n",
        "sampled_trm_grp5 = resample(df_trm_grp5, replace=True, n_samples=1025,random_state=0)\n",
        "sampled_trm_grp6 = resample(df_trm_grp6, replace=True, n_samples=480,random_state=0)\n",
        "sampled_trm_grp7 = resample(df_trm_grp7, replace=True, n_samples=190,random_state=0)\n",
        "\n",
        "# Concatentate upsampled minority class: \"gabapentin\" drug of all age groups\n",
        "df_trm_upsampled = pd.concat([sampled_trm_grp1,sampled_trm_grp2,sampled_trm_grp3, sampled_trm_grp4,sampled_trm_grp5,sampled_trm_grp6,\n",
        "                               sampled_trm_grp7], axis=0)"
      ],
      "execution_count": null,
      "outputs": []
    },
    {
      "cell_type": "code",
      "metadata": {
        "id": "kmwwe_pPKO3a"
      },
      "source": [
        "# Upsampling on hydrocodone drug by tramadol drug proporition %\n",
        "\n",
        "sampled_gab_grp1 = resample(df_gab_grp1, replace=True, n_samples=265,random_state=0)\n",
        "sampled_gab_grp2 = resample(df_gab_grp2, replace=True, n_samples=630,random_state=0)\n",
        "sampled_gab_grp3 = resample(df_gab_grp3, replace=True, n_samples=8370,random_state=0)\n",
        "sampled_gab_grp4 = resample(df_gab_grp4, replace=True, n_samples=1225,random_state=0)\n",
        "sampled_gab_grp5 = resample(df_gab_grp5, replace=True, n_samples=1020,random_state=0)\n",
        "sampled_gab_grp6 = resample(df_gab_grp6, replace=True, n_samples=480,random_state=0)\n",
        "sampled_gab_grp7 = resample(df_gab_grp7, replace=True, n_samples=190,random_state=0)\n",
        "\n",
        "# Concatentate upsampled minority class: \"tramadol\" drug of all age groups\n",
        "df_gab_upsampled = pd.concat([sampled_gab_grp1,sampled_gab_grp2,sampled_gab_grp3, sampled_gab_grp4,sampled_gab_grp5,sampled_gab_grp6,\n",
        "                              sampled_gab_grp7], axis=0)\n",
        "\n",
        "# Conbine downsampled majority class: \"oxycodone\" and upsampled minority classes: \"gabapentin,neurontin,tramadol\" \n",
        "# drug with unsampled hydrocodone drug\n",
        "df9 = pd.concat([df_oxy_downsampled,df_neu_upsampled,df_trm_upsampled,df_gab_upsampled,df_hyd],axis=0)"
      ],
      "execution_count": null,
      "outputs": []
    },
    {
      "cell_type": "code",
      "metadata": {
        "colab": {
          "base_uri": "https://localhost:8080/",
          "height": 202
        },
        "id": "dewAZ-BgZYfl",
        "outputId": "c32b3610-c236-45d5-c77b-f94b5ed19f54"
      },
      "source": [
        "#reset index\n",
        "df9.reset_index(drop=True, inplace=True)\n",
        "#pickle dataframe for later use\n",
        "df9.to_pickle(\"Neuropathic Pain.pkl\")\n",
        "#Let's see the first 5 rows\n",
        "df9.head()"
      ],
      "execution_count": null,
      "outputs": [
        {
          "output_type": "execute_result",
          "data": {
            "text/html": [
              "<div>\n",
              "<style scoped>\n",
              "    .dataframe tbody tr th:only-of-type {\n",
              "        vertical-align: middle;\n",
              "    }\n",
              "\n",
              "    .dataframe tbody tr th {\n",
              "        vertical-align: top;\n",
              "    }\n",
              "\n",
              "    .dataframe thead th {\n",
              "        text-align: right;\n",
              "    }\n",
              "</style>\n",
              "<table border=\"1\" class=\"dataframe\">\n",
              "  <thead>\n",
              "    <tr style=\"text-align: right;\">\n",
              "      <th></th>\n",
              "      <th>Age</th>\n",
              "      <th>Condition</th>\n",
              "      <th>Drug</th>\n",
              "      <th>EaseofUse</th>\n",
              "      <th>Effectiveness</th>\n",
              "      <th>Satisfaction</th>\n",
              "      <th>Sex</th>\n",
              "      <th>Age_group</th>\n",
              "      <th>Age_group_label</th>\n",
              "    </tr>\n",
              "  </thead>\n",
              "  <tbody>\n",
              "    <tr>\n",
              "      <th>0</th>\n",
              "      <td>20</td>\n",
              "      <td>Pain</td>\n",
              "      <td>oxycodone</td>\n",
              "      <td>5</td>\n",
              "      <td>5</td>\n",
              "      <td>5</td>\n",
              "      <td>Male</td>\n",
              "      <td>(0, 20]</td>\n",
              "      <td>1</td>\n",
              "    </tr>\n",
              "    <tr>\n",
              "      <th>1</th>\n",
              "      <td>20</td>\n",
              "      <td>Pain</td>\n",
              "      <td>oxycodone</td>\n",
              "      <td>5</td>\n",
              "      <td>4</td>\n",
              "      <td>4</td>\n",
              "      <td>Male</td>\n",
              "      <td>(0, 20]</td>\n",
              "      <td>1</td>\n",
              "    </tr>\n",
              "    <tr>\n",
              "      <th>2</th>\n",
              "      <td>20</td>\n",
              "      <td>Pain</td>\n",
              "      <td>oxycodone</td>\n",
              "      <td>5</td>\n",
              "      <td>5</td>\n",
              "      <td>1</td>\n",
              "      <td>Male</td>\n",
              "      <td>(0, 20]</td>\n",
              "      <td>1</td>\n",
              "    </tr>\n",
              "    <tr>\n",
              "      <th>3</th>\n",
              "      <td>20</td>\n",
              "      <td>Pain</td>\n",
              "      <td>oxycodone</td>\n",
              "      <td>1</td>\n",
              "      <td>1</td>\n",
              "      <td>1</td>\n",
              "      <td>Female</td>\n",
              "      <td>(0, 20]</td>\n",
              "      <td>1</td>\n",
              "    </tr>\n",
              "    <tr>\n",
              "      <th>4</th>\n",
              "      <td>20</td>\n",
              "      <td>Pain</td>\n",
              "      <td>oxycodone</td>\n",
              "      <td>5</td>\n",
              "      <td>5</td>\n",
              "      <td>5</td>\n",
              "      <td>Female</td>\n",
              "      <td>(0, 20]</td>\n",
              "      <td>1</td>\n",
              "    </tr>\n",
              "  </tbody>\n",
              "</table>\n",
              "</div>"
            ],
            "text/plain": [
              "   Age Condition       Drug  ...     Sex  Age_group  Age_group_label\n",
              "0   20      Pain  oxycodone  ...    Male    (0, 20]                1\n",
              "1   20      Pain  oxycodone  ...    Male    (0, 20]                1\n",
              "2   20      Pain  oxycodone  ...    Male    (0, 20]                1\n",
              "3   20      Pain  oxycodone  ...  Female    (0, 20]                1\n",
              "4   20      Pain  oxycodone  ...  Female    (0, 20]                1\n",
              "\n",
              "[5 rows x 9 columns]"
            ]
          },
          "metadata": {
            "tags": []
          },
          "execution_count": 29
        }
      ]
    },
    {
      "cell_type": "code",
      "metadata": {
        "colab": {
          "base_uri": "https://localhost:8080/",
          "height": 404
        },
        "id": "cySZEOWk0cjQ",
        "outputId": "b951107e-4007-46c2-e58e-b12b7f463bb7"
      },
      "source": [
        "#graphical representation of corellation\n",
        "plt.figure(figsize=(6,5), dpi= 80)\n",
        "hm=sns.heatmap(df9 .corr(), annot=True,center = 0,cmap='bwr_r', cbar=True)\n",
        "plt.title('Heatmap of Correlation Matrix')\n",
        "plt.tight_layout()"
      ],
      "execution_count": null,
      "outputs": [
        {
          "output_type": "display_data",
          "data": {
            "image/png": "[encoded data removed]",
            "text/plain": [
              "<Figure size 480x400 with 2 Axes>"
            ]
          },
          "metadata": {
            "tags": [],
            "needs_background": "light"
          }
        }
      ]
    },
    {
      "cell_type": "markdown",
      "metadata": {
        "id": "1pBIPbSwnHjN"
      },
      "source": [
        "# Statistical Test"
      ]
    },
    {
      "cell_type": "markdown",
      "metadata": {
        "id": "8PK4hdDinSR4"
      },
      "source": [
        "#### Impact of EaseofUse and Satisfaction\n",
        "\n",
        "Paired sampled t-test :- The paired sample t-test is also called dependent sample t-test. It’s an uni variate test that tests for a significant difference between 2 related variables.\n",
        "\n",
        "Hypothesis Testing:  Is there a significant difference between the patient's response towards EaseofUse and Satisfaction?\n",
        "\n",
        "##### Null  Hypothesis: \n",
        "\\begin{array}{c}\n",
        "H_0: \\rho_{EaseofUse} = \\rho_{Satisfaction}\n",
        "\\end{array}\n",
        "\n",
        "The null hypothesis would be that there is no difference in patients response of EaseofUse and Satisfaction:\n",
        "\n",
        "##### Alternate Hypothesis:  \n",
        "\\begin{array}{c}\n",
        "H_A: \\rho_{EaseofUse} \\neq \\rho_{Satisfaction}\n",
        "\\end{array}\n",
        "\n",
        "\n",
        "The alternative hypothesis would be that there is a difference in patients response of EaseofUse and Satisfaction.\n",
        "\n",
        "In oder to test this hypothesis, we conducted t-test using ttest_ind()"
      ]
    },
    {
      "cell_type": "code",
      "metadata": {
        "colab": {
          "base_uri": "https://localhost:8080/"
        },
        "id": "coQvzmAAO0vU",
        "outputId": "294acce0-c0d6-4c42-cdfc-0cfc7e56ca7e"
      },
      "source": [
        "from scipy.stats import ttest_ind\n",
        "from scipy import stats\n",
        "ttest,pval = stats.ttest_ind(df9['EaseofUse'], df9['Satisfaction'])\n",
        "print(ttest,pval)\n",
        "if pval < 0.05:\n",
        "    print(\"fail to accepet null hypothesis\")\n",
        "else:\n",
        "    print(\"accept null hypothesis\")"
      ],
      "execution_count": null,
      "outputs": [
        {
          "output_type": "stream",
          "text": [
            "79.90737947210577 0.0\n",
            "fail to accepet null hypothesis\n"
          ],
          "name": "stdout"
        }
      ]
    },
    {
      "cell_type": "markdown",
      "metadata": {
        "id": "S3erwhfKb-0r"
      },
      "source": [
        "#### Impact of Effectiveness and Satisfaction\n",
        "\n",
        "Hypothesis Testing:  Is there significant difference between the patients response towards Effectiveness and Satisfaction?\n",
        "\n",
        "\n",
        "##### Null  Hypothesis: \n",
        "\\begin{array}{c}\n",
        "H_0: \\rho_{Effectiveness} = \\rho_{Satisfaction}\n",
        "\\end{array}\n",
        "\n",
        "The null hypothesis would be that there is no difference in patients response of Effectiveness and Satisfaction:\n",
        "\n",
        "##### Alternate Hypothesis:  \n",
        "\\begin{array}{c}\n",
        "H_A: \\rho_{Effectiveness} \\neq \\rho_{Satisfaction}\n",
        "\\end{array}\n",
        "\n",
        "The alternative hypothesis would be that there is a difference in patients response of Effectiveness and Satisfaction.\n",
        "\n",
        "In oder to test this hypothesis, we conducted t-test using ttest_ind()"
      ]
    },
    {
      "cell_type": "code",
      "metadata": {
        "colab": {
          "base_uri": "https://localhost:8080/"
        },
        "id": "sIBe_UvybwHL",
        "outputId": "b8802782-8a95-43a2-e518-37da85189073"
      },
      "source": [
        "from scipy.stats import ttest_ind\n",
        "from scipy import stats\n",
        "ttest,pval = stats.ttest_ind(df9['Effectiveness'], df9['Satisfaction'])\n",
        "print(ttest,pval)\n",
        "if pval < 0.05:\n",
        "    print(\"fail to accept null hypothesis\")\n",
        "else:\n",
        "    print(\"accept null hypothesis\")"
      ],
      "execution_count": null,
      "outputs": [
        {
          "output_type": "stream",
          "text": [
            "18.644628052793802 2.278111779704571e-77\n",
            "fail to accept null hypothesis\n"
          ],
          "name": "stdout"
        }
      ]
    },
    {
      "cell_type": "markdown",
      "metadata": {
        "id": "xVrq-_K5cy6_"
      },
      "source": [
        "#### Impact of EaseofUse and Effectiveness\n",
        "\n",
        "Hypothesis Testing:  Is there significant difference between the patients response towards EaseofUse and Effectiveness?\n",
        "\n",
        "\n",
        "##### Null  Hypothesis: \n",
        "\\begin{array}{c}\n",
        "H_0: \\rho_{EaseofUse} = \\rho_{Effectiveness}\n",
        "\\end{array}\n",
        "\n",
        "The null hypothesis would be that there is no difference in patients response of EaseofUse and Effectiveness:\n",
        "\n",
        "##### Alternate Hypothesis:  \n",
        "\\begin{array}{c}\n",
        "H_A: \\rho_{EaseofUse} \\neq \\rho_{Effectiveness}\n",
        "\\end{array}\n",
        "\n",
        "The alternative hypothesis would be that there is a difference in patients response of EaseofUse and Effectiveness.\n",
        "\n",
        "In oder to test this hypothesis, we conducted t-test using ttest_ind()"
      ]
    },
    {
      "cell_type": "code",
      "metadata": {
        "colab": {
          "base_uri": "https://localhost:8080/"
        },
        "id": "fg4M8H6jclnn",
        "outputId": "23b2a2b2-cd2f-4df2-a019-9f546e947264"
      },
      "source": [
        "from scipy.stats import ttest_ind\n",
        "from scipy import stats\n",
        "ttest,pval = stats.ttest_ind(df9['EaseofUse'], df9['Effectiveness'])\n",
        "print(ttest,pval)\n",
        "if pval < 0.05:\n",
        "  print(\"fail to accept null hypothesis\")\n",
        "else:\n",
        "  print(\"accept null hypothesis\")"
      ],
      "execution_count": null,
      "outputs": [
        {
          "output_type": "stream",
          "text": [
            "64.69098599398261 0.0\n",
            "fail to accept null hypothesis\n"
          ],
          "name": "stdout"
        }
      ]
    },
    {
      "cell_type": "markdown",
      "metadata": {
        "id": "GcrsSAa2lQlt"
      },
      "source": [
        "#### Impact of Age and Satisfaction\n",
        "\n",
        "Hypothesis Testing:  Is there a significant difference between the patient's Satisfaction depending on their age?\n",
        "\n",
        "\n",
        "##### Null  Hypothesis: \n",
        "\\begin{array}{c}\n",
        "H_0: \\rho_{Age} = \\rho_{Satisfaction}\n",
        "\\end{array}\n",
        "\n",
        "The null hypothesis would be that there is no difference in patients response of Age and Satisfaction:\n",
        "\n",
        "##### Alternate Hypothesis:  \n",
        "\\begin{array}{c}\n",
        "H_A: \\rho_{Age} \\neq \\rho_{Satisfaction}\n",
        "\\end{array}\n",
        "\n",
        "The alternative hypothesis would be that there is a difference in patients response of Age and Satisfaction.\n",
        "\n",
        "In oder to test this hypothesis, we conducted t-test using ttest_ind()"
      ]
    },
    {
      "cell_type": "code",
      "metadata": {
        "colab": {
          "base_uri": "https://localhost:8080/"
        },
        "id": "6dq_ytZHljca",
        "outputId": "d905279f-2da2-4a8d-9cb4-7a1bf2fe9d20"
      },
      "source": [
        "from scipy.stats import ttest_ind\n",
        "from scipy import stats\n",
        "ttest,pval = stats.ttest_ind(df9['Age'], df9['Satisfaction'])\n",
        "print(ttest,pval)\n",
        "if pval < 0.05:\n",
        "  print(\"fail to accept null hypothesis\")\n",
        "else:\n",
        "  print(\"accept null hypothesis\")"
      ],
      "execution_count": null,
      "outputs": [
        {
          "output_type": "stream",
          "text": [
            "557.9792331967918 0.0\n",
            "fail to accept null hypothesis\n"
          ],
          "name": "stdout"
        }
      ]
    },
    {
      "cell_type": "markdown",
      "metadata": {
        "id": "pL24wYk0w9WZ"
      },
      "source": [
        "### Multicollinearity\n",
        "Multicollinearity refers to predictors that are correlated with other predictors. Multicollinearity occurs when model includes multiple factors that are correlated not just to the response variable, but also to each other. In other words, it results when we have factors that are a bit redundant. Sklearn does not have a built-in way to check for multicollinearity\n"
      ]
    },
    {
      "cell_type": "code",
      "metadata": {
        "colab": {
          "base_uri": "https://localhost:8080/",
          "height": 172
        },
        "id": "A5ftTsOjxA3N",
        "outputId": "84bf53b1-1ebf-49b9-ec21-c173f91083f7"
      },
      "source": [
        "# Here's the relevant module\n",
        "from statsmodels.stats.outliers_influence import variance_inflation_factor\n",
        "\n",
        "# To make this as easy as possible to use, we declare a variable where we put\n",
        "# all features where we want to check for multicollinearity\n",
        "# since our categorical data is not yet preprocessed, we will only take the numerical ones\n",
        "variables = df9[['Age','EaseofUse','Effectiveness','Satisfaction']]\n",
        "\n",
        "# we create a new data frame which will include all the VIFs\n",
        "# note that each variable has its own variance inflation factor as this measure is variable specific (not model specific)\n",
        "vif = pd.DataFrame()\n",
        "\n",
        "# here we make use of the variance_inflation_factor, which will basically output the respective VIFs\n",
        "vif[\"VIF\"] = [variance_inflation_factor(variables.values, i) for i in range(variables.shape[1])]\n",
        "# Finally, I like to include names so it is easier to explore the result\n",
        "vif[\"Features\"] = variables.columns\n",
        "vif"
      ],
      "execution_count": null,
      "outputs": [
        {
          "output_type": "execute_result",
          "data": {
            "text/html": [
              "<div>\n",
              "<style scoped>\n",
              "    .dataframe tbody tr th:only-of-type {\n",
              "        vertical-align: middle;\n",
              "    }\n",
              "\n",
              "    .dataframe tbody tr th {\n",
              "        vertical-align: top;\n",
              "    }\n",
              "\n",
              "    .dataframe thead th {\n",
              "        text-align: right;\n",
              "    }\n",
              "</style>\n",
              "<table border=\"1\" class=\"dataframe\">\n",
              "  <thead>\n",
              "    <tr style=\"text-align: right;\">\n",
              "      <th></th>\n",
              "      <th>VIF</th>\n",
              "      <th>Features</th>\n",
              "    </tr>\n",
              "  </thead>\n",
              "  <tbody>\n",
              "    <tr>\n",
              "      <th>0</th>\n",
              "      <td>7.277050</td>\n",
              "      <td>Age</td>\n",
              "    </tr>\n",
              "    <tr>\n",
              "      <th>1</th>\n",
              "      <td>15.196056</td>\n",
              "      <td>EaseofUse</td>\n",
              "    </tr>\n",
              "    <tr>\n",
              "      <th>2</th>\n",
              "      <td>23.901570</td>\n",
              "      <td>Effectiveness</td>\n",
              "    </tr>\n",
              "    <tr>\n",
              "      <th>3</th>\n",
              "      <td>18.684840</td>\n",
              "      <td>Satisfaction</td>\n",
              "    </tr>\n",
              "  </tbody>\n",
              "</table>\n",
              "</div>"
            ],
            "text/plain": [
              "         VIF       Features\n",
              "0   7.277050            Age\n",
              "1  15.196056      EaseofUse\n",
              "2  23.901570  Effectiveness\n",
              "3  18.684840   Satisfaction"
            ]
          },
          "metadata": {
            "tags": []
          },
          "execution_count": 35
        }
      ]
    },
    {
      "cell_type": "markdown",
      "metadata": {
        "id": "efGvHc2mxDg1"
      },
      "source": [
        "Looking at the result of variance inflation factor, all numerical features have high multicolinearity. However, the VIF of Effectiveness is highest, so we will remove it from the model."
      ]
    },
    {
      "cell_type": "code",
      "metadata": {
        "colab": {
          "base_uri": "https://localhost:8080/",
          "height": 202
        },
        "id": "ecSPY7c1xGiB",
        "outputId": "8ad3641e-d752-4bee-869c-7bf2b7b5ef47"
      },
      "source": [
        "#drop effectiveness\n",
        "df10 = df9.drop(['Effectiveness'],axis=1)\n",
        "#display new dataframe\n",
        "df10.head()"
      ],
      "execution_count": null,
      "outputs": [
        {
          "output_type": "execute_result",
          "data": {
            "text/html": [
              "<div>\n",
              "<style scoped>\n",
              "    .dataframe tbody tr th:only-of-type {\n",
              "        vertical-align: middle;\n",
              "    }\n",
              "\n",
              "    .dataframe tbody tr th {\n",
              "        vertical-align: top;\n",
              "    }\n",
              "\n",
              "    .dataframe thead th {\n",
              "        text-align: right;\n",
              "    }\n",
              "</style>\n",
              "<table border=\"1\" class=\"dataframe\">\n",
              "  <thead>\n",
              "    <tr style=\"text-align: right;\">\n",
              "      <th></th>\n",
              "      <th>Age</th>\n",
              "      <th>Condition</th>\n",
              "      <th>Drug</th>\n",
              "      <th>EaseofUse</th>\n",
              "      <th>Satisfaction</th>\n",
              "      <th>Sex</th>\n",
              "      <th>Age_group</th>\n",
              "      <th>Age_group_label</th>\n",
              "    </tr>\n",
              "  </thead>\n",
              "  <tbody>\n",
              "    <tr>\n",
              "      <th>0</th>\n",
              "      <td>20</td>\n",
              "      <td>Pain</td>\n",
              "      <td>oxycodone</td>\n",
              "      <td>5</td>\n",
              "      <td>5</td>\n",
              "      <td>Male</td>\n",
              "      <td>(0, 20]</td>\n",
              "      <td>1</td>\n",
              "    </tr>\n",
              "    <tr>\n",
              "      <th>1</th>\n",
              "      <td>20</td>\n",
              "      <td>Pain</td>\n",
              "      <td>oxycodone</td>\n",
              "      <td>5</td>\n",
              "      <td>4</td>\n",
              "      <td>Male</td>\n",
              "      <td>(0, 20]</td>\n",
              "      <td>1</td>\n",
              "    </tr>\n",
              "    <tr>\n",
              "      <th>2</th>\n",
              "      <td>20</td>\n",
              "      <td>Pain</td>\n",
              "      <td>oxycodone</td>\n",
              "      <td>5</td>\n",
              "      <td>1</td>\n",
              "      <td>Male</td>\n",
              "      <td>(0, 20]</td>\n",
              "      <td>1</td>\n",
              "    </tr>\n",
              "    <tr>\n",
              "      <th>3</th>\n",
              "      <td>20</td>\n",
              "      <td>Pain</td>\n",
              "      <td>oxycodone</td>\n",
              "      <td>1</td>\n",
              "      <td>1</td>\n",
              "      <td>Female</td>\n",
              "      <td>(0, 20]</td>\n",
              "      <td>1</td>\n",
              "    </tr>\n",
              "    <tr>\n",
              "      <th>4</th>\n",
              "      <td>20</td>\n",
              "      <td>Pain</td>\n",
              "      <td>oxycodone</td>\n",
              "      <td>5</td>\n",
              "      <td>5</td>\n",
              "      <td>Female</td>\n",
              "      <td>(0, 20]</td>\n",
              "      <td>1</td>\n",
              "    </tr>\n",
              "  </tbody>\n",
              "</table>\n",
              "</div>"
            ],
            "text/plain": [
              "   Age Condition       Drug  ...     Sex  Age_group Age_group_label\n",
              "0   20      Pain  oxycodone  ...    Male    (0, 20]               1\n",
              "1   20      Pain  oxycodone  ...    Male    (0, 20]               1\n",
              "2   20      Pain  oxycodone  ...    Male    (0, 20]               1\n",
              "3   20      Pain  oxycodone  ...  Female    (0, 20]               1\n",
              "4   20      Pain  oxycodone  ...  Female    (0, 20]               1\n",
              "\n",
              "[5 rows x 8 columns]"
            ]
          },
          "metadata": {
            "tags": []
          },
          "execution_count": 36
        }
      ]
    },
    {
      "cell_type": "markdown",
      "metadata": {
        "id": "XeWAu8N1iiNR"
      },
      "source": [
        "# **MACHINE LEARNING MODELING**"
      ]
    },
    {
      "cell_type": "markdown",
      "metadata": {
        "id": "VN5a0Pw8MJ3-"
      },
      "source": [
        "## Create dummy variable\n",
        "To include the categorical data in the regression, let's create dummy variable encoding on nominal features using a very 'convenient method called: get_dummies' which does that seemlessly. It is extremely important that we drop one of the dummies, alternatively will introduce multicollinearity."
      ]
    },
    {
      "cell_type": "code",
      "metadata": {
        "id": "xLv_OpzPqmOp"
      },
      "source": [
        "df11 = pd.get_dummies(df10[['Condition','Age','EaseofUse','Satisfaction','Sex']], drop_first=True)\n",
        "\n",
        "# Concatenated with a Drug label on transformed dataframe: \n",
        "df = pd.concat([df11, df10['Drug']], axis=1)"
      ],
      "execution_count": null,
      "outputs": []
    },
    {
      "cell_type": "markdown",
      "metadata": {
        "id": "7AsS2is6M9hK"
      },
      "source": [
        "## Split input features and output label\n",
        "Using split_train_test function partition original data into training and test sets for training and evaluation of any machine learning modeling task.  \n",
        "After partitioning the data, we feature scale, the features to re-scale them into a similar range on each feature using scaler function.\n"
      ]
    },
    {
      "cell_type": "code",
      "metadata": {
        "colab": {
          "base_uri": "https://localhost:8080/"
        },
        "id": "yNQhRcYIJQzR",
        "outputId": "8f1dcf9d-6817-4091-eebb-4b74365e3957"
      },
      "source": [
        "y=df['Drug']\n",
        "y.value_counts()"
      ],
      "execution_count": null,
      "outputs": [
        {
          "output_type": "execute_result",
          "data": {
            "text/plain": [
              "gabapentin     12180\n",
              "oxycodone       4690\n",
              "tramadol        4685\n",
              "hydrocodone     4681\n",
              "neurontin       4680\n",
              "Name: Drug, dtype: int64"
            ]
          },
          "metadata": {
            "tags": []
          },
          "execution_count": 38
        }
      ]
    },
    {
      "cell_type": "code",
      "metadata": {
        "id": "5ruExE1BwDCZ"
      },
      "source": [
        "#Split train and test\n",
        "X=df.drop('Drug', axis=1)\n",
        "#Feature Scaling\n",
        "scaler=StandardScaler()\n",
        "X=scaler.fit_transform(X)\n",
        "\n",
        "y=df['Drug']\n",
        "#encoding the categical classes using label encoder\n",
        "lab_enc = preprocessing.LabelEncoder()\n",
        "y=lab_enc.fit_transform(y)\n",
        "y = y.astype(np.int)\n",
        "\n",
        "X_train, X_test, y_train, y_test = train_test_split(X,y,test_size = 0.25,stratify=y)"
      ],
      "execution_count": null,
      "outputs": []
    },
    {
      "cell_type": "markdown",
      "metadata": {
        "id": "e1j3wlOJQZVj"
      },
      "source": [
        "## **Data Modeling**"
      ]
    },
    {
      "cell_type": "markdown",
      "metadata": {
        "id": "JaDjXFET10vx"
      },
      "source": [
        "We modeled the data using different classification: Decission Tree, Random Forest, Gradient Boosting, XGBoosting, Extra tree and KNeighbors classifiers and the best model performance out of six will be selected.  \n",
        "\n",
        "#### Tune Hyperparameters for Classification\n",
        "Machine learning algorithms have hyperparameters that allow us to tailor the behavior of the algorithm to your specific dataset. In order to find out the best hyperparameters, we modeled cross-validation on the training dataset and create hyperparameter options then selected the best hyperparameter."
      ]
    },
    {
      "cell_type": "markdown",
      "metadata": {
        "id": "x2lorwKc3Zf4"
      },
      "source": [
        "### Logistic Regression\n",
        "Logistic regression works by using a logit function to transform input value of features and calculate estimated probabilities of a label in range of [0,1]."
      ]
    },
    {
      "cell_type": "code",
      "metadata": {
        "colab": {
          "base_uri": "https://localhost:8080/"
        },
        "id": "za_76seq3Zrj",
        "outputId": "7d7e791c-650f-4cdd-8b69-f7486ad48d97"
      },
      "source": [
        "# Model: Logistic Regression\n",
        "lr_cv = LogisticRegression(C=0.1,penalty='l2',random_state=0)\n",
        "lr_cv.fit(X_train, y_train)\n",
        "\n",
        "# RandomizedSearchCV: LogisticRegression #\n",
        "# Create hyperparameter options:\n",
        "param_dist = dict(C=randint(2,100), penalty=['l1','l2'])\n",
        "random_search = RandomizedSearchCV(estimator=lr_cv, param_distributions=param_dist, random_state=0, n_iter=100, cv=4)\n",
        "random_search_lr = random_search.fit(X_train, y_train)\n",
        "\n",
        "# View best hyperparameters\n",
        "print('Best Penalty:', random_search_lr.best_estimator_.get_params()['penalty'])\n",
        "print('Best C:', random_search_lr.best_estimator_.get_params()['C'])\n"
      ],
      "execution_count": null,
      "outputs": [
        {
          "output_type": "stream",
          "text": [
            "Best Penalty: l2\n",
            "Best C: 69\n"
          ],
          "name": "stdout"
        }
      ]
    },
    {
      "cell_type": "code",
      "metadata": {
        "id": "fyYjfYvp57F8"
      },
      "source": [
        "lr= LogisticRegression(C=46,penalty='l2',random_state=0)\n",
        "lr.fit(X_train, y_train)\n",
        "y_lr_pred = lr.predict(X_test);"
      ],
      "execution_count": null,
      "outputs": []
    },
    {
      "cell_type": "markdown",
      "metadata": {
        "id": "z0jqc62c3aKW"
      },
      "source": [
        "### Support vector machine\n",
        "\n",
        "Support Vector Machine is used for both regression and classification tasks. In SVM algorithm is to find a hyperplane in an n-dimensional space(n: the number of features) that distinctly classifies the data points. Hyperplanes are decision boundaries that help classify the data points. "
      ]
    },
    {
      "cell_type": "code",
      "metadata": {
        "id": "ud9lj04RAgCp"
      },
      "source": [
        "# Model: support vector machine\r\n",
        "svm_cv = SVC(C=1.0, kernel='rbf', degree=3, gamma='scale', coef0=0.0, shrinking=True, probability=False, tol=0.001, \r\n",
        "                                 random_state=0)\r\n",
        "svm_cv.fit(X_train, y_train)\r\n",
        "\r\n",
        "# Hyperparameters Tuning: Create hyperparameter options\r\n",
        "param_dist_svm = {\"C\": randint(1, 100),\r\n",
        "                  \"kernel\": ['linear', 'poly', 'rbf', 'sigmoid'],\r\n",
        "                  \"gamma\": ['scale', 'auto'],\r\n",
        "                  \"shrinking\":[True, False],\r\n",
        "                  }\r\n",
        "random_search = RandomizedSearchCV(estimator=svm_cv, param_distributions=param_dist_svm, random_state=0, n_iter=100, cv=4)\r\n",
        "random_search_svm = random_search.fit(X_train, y_train)\r\n",
        "\r\n",
        "# View best hyperparameters\r\n",
        "print('Best shrinking:', random_search_svm.best_estimator_.get_params()['shrinking'])\r\n",
        "print('Best gamma:', random_search_svm.best_estimator_.get_params()['gamma'])\r\n",
        "print('Best kernel:', random_search_svm.best_estimator_.get_params()['kernel'])\r\n",
        "print('Best C:', random_search_svm.best_estimator_.get_params()['C'])"
      ],
      "execution_count": null,
      "outputs": []
    },
    {
      "cell_type": "code",
      "metadata": {
        "id": "9CcEC6DF9-II"
      },
      "source": [
        "svm = SVC(C=94, kernel='rbf', degree=3, gamma='auto', coef0=0.0, shrinking=True, probability=False, tol=0.001, random_state=0)\n",
        "svm.fit(X_train, y_train)\n",
        "y_svm_pred = svm.predict(X_test);"
      ],
      "execution_count": null,
      "outputs": []
    },
    {
      "cell_type": "markdown",
      "metadata": {
        "id": "4BlIco8xEW-B"
      },
      "source": [
        "### Decision Tree Classifier"
      ]
    },
    {
      "cell_type": "markdown",
      "metadata": {
        "id": "RhMcqSkPUrLg"
      },
      "source": [
        "Decision tree is a Supervised Machine Learning where the data is continuously split according to a certain parameter. Decision tree classifier: using the decision algorithm, we start at the tree root and split the data on the feature that results in the largest information gain (IG). In an iterative process, we can then repeat this splitting procedure at each child node until the leaves are pure.\n"
      ]
    },
    {
      "cell_type": "code",
      "metadata": {
        "id": "FzCfMhJSl7Vn"
      },
      "source": [
        "# Model: DecisionTree [cross-validated train set]\n",
        "tree_cv = DecisionTreeClassifier(criterion='gini', max_depth=8, min_samples_split=2, min_samples_leaf=2, random_state=0)\n",
        "tree_cv.fit(X_train, y_train)\n",
        "\n",
        "# Hyperparameters Tuning: Create hyperparameter options\n",
        "param_dist_dt = {\"criterion\": [\"gini\", \"entropy\"],\n",
        "                  \"max_depth\": randint(10, 100),\n",
        "                  \"max_leaf_nodes\": randint(10, 20),\n",
        "                  \"min_samples_split\": randint(2, 10),\n",
        "                  \"min_samples_leaf\": randint(2, 10)}\n",
        "random_search = RandomizedSearchCV(estimator=tree_cv, param_distributions=param_dist_dt, random_state=0, n_iter=100, cv=4)\n",
        "random_search_dt = random_search.fit(X_train, y_train)\n",
        "\n",
        "# View best hyperparameters\n",
        "print('Best min_samples_split:', random_search_dt.best_estimator_.get_params()['min_samples_split'])\n",
        "print('Best min_samples_leaf:', random_search_dt.best_estimator_.get_params()['min_samples_leaf'])\n",
        "print('Best max_leaf_nodes:', random_search_dt.best_estimator_.get_params()['max_leaf_nodes'])\n",
        "print('Best max_depth:', random_search_dt.best_estimator_.get_params()['max_depth'])\n",
        "print('Best criterion:', random_search_dt.best_estimator_.get_params()['criterion'])"
      ],
      "execution_count": null,
      "outputs": []
    },
    {
      "cell_type": "code",
      "metadata": {
        "id": "BBn5nl9RwDDS"
      },
      "source": [
        "tree = DecisionTreeClassifier(criterion='entropy', max_depth=51, min_samples_split=8, min_samples_leaf=5, max_leaf_nodes=19,\n",
        "                               random_state=0)\n",
        "feat_labels = df.columns[:-1]\n",
        "tree.fit(X_train, y_train)\n",
        "y_tree_pred = tree.predict(X_test);\n",
        "importances = tree.feature_importances_\n",
        "indices = np.argsort(importances)[::-1]\n",
        "\n",
        "for f in range(X_train.shape[1]):\n",
        "  print(\"%2d) %-*s %f\" % (f + 1, 30,  feat_labels[indices[f]], importances[indices[f]]))\n",
        "\n",
        "plt.title('Feature Importance: Decision Tree')\n",
        "plt.bar(range(X_train.shape[1]), importances[indices],  align='center')\n",
        "plt.xticks(range(X_train.shape[1]), feat_labels[indices], rotation=90)\n",
        "plt.xlim(-1, X_train.shape[1])\n",
        "plt.show()"
      ],
      "execution_count": null,
      "outputs": []
    },
    {
      "cell_type": "markdown",
      "metadata": {
        "id": "l5RNzkUi24WU"
      },
      "source": [
        "### Random Forest Classifier\n",
        "\n",
        "random forest is comprised of trees that the more trees it has, the more robust a forest is. Random forests creates decision trees on randomly selected data samples, gets prediction from each tree and selects the best solution by means of voting. \n",
        "\n",
        "\n"
      ]
    },
    {
      "cell_type": "code",
      "metadata": {
        "id": "JBsDb56mmCgk"
      },
      "source": [
        "# Model: RandomForest [cross-validated and train set]\n",
        "rf_cv = RandomForestClassifier(criterion='gini',n_estimators=50, max_depth=1, min_samples_split=2, random_state=0, n_jobs=1)\n",
        "rf_cv.fit(X_train, y_train)\n",
        "\n",
        "# Hyperparameters Tuning: Create hyperparameter options\n",
        "param_dist_rf = {\"n_estimators\": randint(20, 200), \n",
        "                 \"max_depth\": randint(10, 100),\n",
        "                  \"min_samples_split\": randint(2, 10),\n",
        "                  \"min_samples_leaf\": randint(2, 10),\n",
        "                  \"bootstrap\": [True, False],\n",
        "                  \"criterion\": [\"gini\", \"entropy\"]}\n",
        "random_search = RandomizedSearchCV(estimator=rf_cv, param_distributions=param_dist_rf, random_state=0, n_iter=100, cv=4)\n",
        "random_search_rf = random_search.fit(X_train, y_train)\n",
        "\n",
        "# View best hyperparameters\n",
        "print('Best n_estimators:', random_search_rf.best_estimator_.get_params()['n_estimators'])\n",
        "print('Best max_depth:', random_search_rf.best_estimator_.get_params()['max_depth'])\n",
        "print('Best min_samples_split:', random_search_rf.best_estimator_.get_params()['min_samples_split'])\n",
        "print('Best bootstrap:', random_search_rf.best_estimator_.get_params()['bootstrap'])\n",
        "print('Best min_samples_leaf:', random_search_rf.best_estimator_.get_params()['min_samples_leaf'])"
      ],
      "execution_count": null,
      "outputs": []
    },
    {
      "cell_type": "code",
      "metadata": {
        "id": "8Qfm1qxRwDDY"
      },
      "source": [
        "# Model prediction: Using a Random Forest:\n",
        "rf = RandomForestClassifier(criterion='entropy', max_depth=33, min_samples_split=6, min_samples_leaf=2, n_estimators=120, \n",
        "                            bootstrap= True,random_state=0)\n",
        "rf.fit(X_train, y_train)\n",
        "y_rf_pred = rf.predict(X_test);\n",
        "feat_labels = df.columns[:-1]\n",
        "importances = rf.feature_importances_\n",
        "indices = np.argsort(importances)[::-1]\n",
        "\n",
        "for f in range(X_train.shape[1]):\n",
        "  print(\"%2d) %-*s %f\" % (f + 1, 30, feat_labels[indices[f]], importances[indices[f]]))\n",
        "\n",
        "plt.figure()    \n",
        "plt.title('Feature Importance: Random Forest')\n",
        "plt.bar(range(X_train.shape[1]), importances[indices], align='center')\n",
        "plt.xticks(range(X_train.shape[1]), feat_labels[indices], rotation=90)\n",
        "plt.xlim(-1, X_train.shape[1])\n",
        "plt.show()"
      ],
      "execution_count": null,
      "outputs": []
    },
    {
      "cell_type": "markdown",
      "metadata": {
        "id": "5lP8aNwWHNBK"
      },
      "source": [
        "### KNeighbors Classifier\n",
        "The KNN algorithm assumes that similar things exist in close proximity. It involves three steps: calculating the distance between points, finding the closest neighbors and voting for the labels."
      ]
    },
    {
      "cell_type": "code",
      "metadata": {
        "id": "JvEBBkfWwDD5"
      },
      "source": [
        "knn = KNeighborsClassifier(3)\n",
        "knn.fit(X_train, y_train)\n",
        "y_knn_pred = knn.predict(X_test)\n",
        "sk_report = classification_report(digits=3, y_true=y_test, y_pred=y_knn_pred)\n",
        "print('KNeighborsClassifier Result')\n",
        "print(sk_report)\n",
        "print('roc_auc_score of KNeighborsClassifier is: '+str(roc_auc_score(y_test, y_knn_pred)))"
      ],
      "execution_count": null,
      "outputs": []
    },
    {
      "cell_type": "markdown",
      "metadata": {
        "id": "t2H5M8VTHzGA"
      },
      "source": [
        "In order to address the issue of the above error \"ValueError: multiclass format is not supported\" we converted the target class Label binarizer using the following function."
      ]
    },
    {
      "cell_type": "code",
      "metadata": {
        "id": "SXQ83EkTHrs6"
      },
      "source": [
        "def multiclass_roc_auc_score(y_test,y_pred,average=\"macro\"):\n",
        "  lb = preprocessing.LabelBinarizer()\n",
        "  lb.fit(y_test)\n",
        "  y_test=lb.transform(y_test)\n",
        "  y_pred=lb.transform(y_pred)\n",
        "  return roc_auc_score(y_test,y_pred,average=average)"
      ],
      "execution_count": null,
      "outputs": []
    },
    {
      "cell_type": "code",
      "metadata": {
        "id": "RB79oRETH49d"
      },
      "source": [
        "print('roc_auc_score of KNeighborsClassifier is: '+str(multiclass_roc_auc_score(y_test, y_knn_pred)))"
      ],
      "execution_count": null,
      "outputs": []
    },
    {
      "cell_type": "markdown",
      "metadata": {
        "id": "bBR3nArnG4z2"
      },
      "source": [
        "Compare the accuracy the models so far."
      ]
    },
    {
      "cell_type": "code",
      "metadata": {
        "id": "ETCkhnZiG5HD"
      },
      "source": [
        "names = [\"Logistic Regression\", \"Support Vector Machine\",\"Decision Tree\", \"Random Forest\", \"KNeighbors\", ]\n",
        "\n",
        "classifiers = [\n",
        "    LogisticRegression(C=46,penalty='l2',random_state=0),\n",
        "    SVC(C=94, kernel='rbf', degree=3, gamma='auto', coef0=0.0, shrinking=True, probability=False, tol=0.001, random_state=0),\n",
        "    DecisionTreeClassifier(criterion='entropy', max_depth=51, min_samples_split=8, min_samples_leaf=5, max_leaf_nodes=19,\n",
        "                               random_state=0),\n",
        "    RandomForestClassifier(criterion='entropy', max_depth=33, min_samples_split=6, min_samples_leaf=2, n_estimators=120, \n",
        "                            bootstrap= True,random_state=0),\n",
        "    KNeighborsClassifier(3)\n",
        "    ]\n",
        "\n",
        "res = []\n",
        "res2 = []\n",
        "for name, clf in zip(names, classifiers):\n",
        "    clf.fit(X_train, y_train)\n",
        "    res.append(clf.predict(X_test))\n",
        "    temp = clf.predict(X_train)\n",
        "    res2.append(temp)\n",
        "    print(name, \" : \", accuracy_score(y_train, temp))"
      ],
      "execution_count": null,
      "outputs": []
    },
    {
      "cell_type": "markdown",
      "metadata": {
        "id": "c7IwLnv3SjWg"
      },
      "source": [
        "Looking at the model accuracies above, Random Forest performs well compared to othe models (Logistic Regression, Support Vector Machine, Decision Tree and KNeighbors Classifier). Hence, let's explore more with an ensemble of decision trees and other related ensembles of decision trees algorithms. "
      ]
    },
    {
      "cell_type": "markdown",
      "metadata": {
        "id": "VG--MeTL3JpV"
      },
      "source": [
        "### Gradient Boosting Classifier\n",
        "Gradient Boosting Classifiers are a group of machine learning algorithms that combine many weak learning models together to create a strong predictive model. The idea behind is to take a weak hypothesis or weak learning algorithm and make a series of tweaks to it that will improve the strength of the hypothesis/learner based on the idea of Probability Approximately Correct Learning (PAC).\n",
        "\n",
        "\n",
        " "
      ]
    },
    {
      "cell_type": "code",
      "metadata": {
        "id": "MTZqumCgyHHi"
      },
      "source": [
        "# Model: Gradient Boosting Classifier [cross-validated and train set]\n",
        "gbc_cv = GradientBoostingClassifier(criterion='mse',n_estimators=50, max_depth=1, min_samples_split=2, random_state=0)\n",
        "gbc_cv.fit(X_train, y_train)\n",
        "\n",
        "# Hyperparameters Tuning: Create hyperparameter options\n",
        "param_dist_gbc = {\"n_estimators\": randint(20, 200), \n",
        "                 \"max_depth\": randint(10, 100),\n",
        "                 \"min_samples_split\": randint(2, 10),\n",
        "                 \"min_samples_leaf\": randint(2, 10),\n",
        "                 \"criterion\": [\"friedman_mse\", \"mse\", \"mae\"]}\n",
        "random_search = RandomizedSearchCV(estimator=gbc_cv, param_distributions=param_dist_gbc, random_state=0, n_iter=100, cv=4)\n",
        "random_search_gbc = random_search.fit(X_train, y_train)\n",
        "\n",
        "# View best hyperparameters\n",
        "print('Best n_estimators:', random_search_gbc.best_estimator_.get_params()['n_estimators'])\n",
        "print('Best max_depth:', random_search_gbc.best_estimator_.get_params()['max_depth'])\n",
        "print('Best min_samples_split:', random_search_gbc.best_estimator_.get_params()['min_samples_split'])\n",
        "print('Best min_samples_leaf:', random_search_gbc.best_estimator_.get_params()['min_samples_leaf'])\n"
      ],
      "execution_count": null,
      "outputs": []
    },
    {
      "cell_type": "code",
      "metadata": {
        "id": "lG_ik9lawDDc"
      },
      "source": [
        "# Feature Selection: Using a Gradient Boosting Classifier:\n",
        "gbc = GradientBoostingClassifier(criterion='mse', max_depth=89, min_samples_split=7, min_samples_leaf=9, n_estimators=159, \n",
        "                            random_state=0)\n",
        "gbc.fit(X_train, y_train)\n",
        "y_gbc_pred = gbc.predict(X_test)\n",
        "feat_labels = df.columns[:-1]\n",
        "importances = gbc.feature_importances_\n",
        "indices = np.argsort(importances)[::-1]\n",
        "\n",
        "for f in range(X_train.shape[1]):\n",
        "  print(\"%2d) %-*s %f\" % (f + 1, 30, feat_labels[indices[f]], importances[indices[f]]))\n",
        "\n",
        "plt.figure()    \n",
        "plt.title('Feature Importance: Gradient Boosting')\n",
        "plt.bar(range(X_train.shape[1]), importances[indices], align='center')\n",
        "plt.xticks(range(X_train.shape[1]), feat_labels[indices], rotation=90)\n",
        "plt.xlim(-1, X_train.shape[1])\n",
        "plt.show()"
      ],
      "execution_count": null,
      "outputs": []
    },
    {
      "cell_type": "markdown",
      "metadata": {
        "id": "3IitN2Et3Rp7"
      },
      "source": [
        "### XGBoost Classifier\n",
        "XGBoost (eXtreme Gradient Boosting) is an advanced implementation of gradient boosting algorithm designed to be highly efficient, flexible and portable."
      ]
    },
    {
      "cell_type": "code",
      "metadata": {
        "id": "-wxWpvlR7CyA"
      },
      "source": [
        "# Model: XGBClassifier [cross-validated and standardization of train set]\n",
        "xgb_cv = XGBClassifier(n_estimators=50, learning_rate=0.2, max_depth=1, random_state=0, n_jobs=1)\n",
        "xgb_cv.fit(X_train, y_train)\n",
        "\n",
        "# Hyperparameters Tuning: Create hyperparameter options:\n",
        "param_dist_xgb = {\"n_estimators\": randint(20, 200), \n",
        "                 \"max_depth\": randint(10, 100),\n",
        "                  \"learning_rate\": np.random.uniform(0,1,10),\n",
        "                  \"objective\": ['binary:logistic','reg:linear'],\n",
        "                  \"booster\": ['gbtree','gblinear']}\n",
        "random_search = RandomizedSearchCV(estimator=xgb_cv, param_distributions=param_dist_xgb,\n",
        "                                   random_state=0, n_iter=100, cv=4)\n",
        "random_search_xgb = random_search.fit(X_train, y_train)\n",
        "\n",
        "# View best hyperparameters\n",
        "print('Best n_estimators:', random_search_xgb.best_estimator_.get_params()['n_estimators'])\n",
        "print('Best max_depth:', random_search_xgb.best_estimator_.get_params()['max_depth'])\n",
        "print('Best learning_rate:', random_search_xgb.best_estimator_.get_params()['learning_rate'])\n",
        "print('Best objective:', random_search_xgb.best_estimator_.get_params()['objective'])\n",
        "print('Best booster:', random_search_xgb.best_estimator_.get_params()['booster'])\n"
      ],
      "execution_count": null,
      "outputs": []
    },
    {
      "cell_type": "code",
      "metadata": {
        "id": "uGwe-ZTDwDDh"
      },
      "source": [
        "# Model prediction using a XGBClassifier: hold-out test set:  \n",
        "xgb = XGBClassifier(n_estimators=63, learning_rate=0.97, max_depth=45, objective=\"multi:softprob\",  random_state=0)\n",
        "xgb.fit(X_train, y_train)\n",
        "y_xgb_pred = xgb.predict(X_test)\n",
        "feat_labels = df.columns[:-1]\n",
        "importances = xgb.feature_importances_\n",
        "indices = np.argsort(importances)[::-1]\n",
        "\n",
        "for f in range(X_train.shape[1]):\n",
        "  print(\"%2d) %-*s %f\" % (f + 1, 30, feat_labels[indices[f]], importances[indices[f]]))\n",
        "\n",
        "plt.figure()    \n",
        "plt.title('Feature Importance: XGBClassifier')\n",
        "plt.bar(range(X_train.shape[1]), importances[indices], align='center')\n",
        "plt.xticks(range(X_train.shape[1]), feat_labels[indices], rotation=90)\n",
        "plt.xlim(-1, X_train.shape[1])\n",
        "plt.show()"
      ],
      "execution_count": null,
      "outputs": []
    },
    {
      "cell_type": "markdown",
      "metadata": {
        "id": "LejjtG_i3Yr4"
      },
      "source": [
        "### Extra Trees Classifier\n",
        "The predictions of the trees are aggregated to yield the final prediction, by majority vote in classification problems and arithmetic average in regression problems.\n"
      ]
    },
    {
      "cell_type": "code",
      "metadata": {
        "id": "KVnGw0FVFd-N"
      },
      "source": [
        "# Model: XGBClassifier [cross-validated and standardization of train set]\n",
        "etc_cv = ExtraTreesClassifier(n_estimators=50, criterion='gini', max_depth=1, random_state=0, n_jobs=1)\n",
        "etc_cv.fit(X_train, y_train)\n",
        "\n",
        "# Hyperparameters Tuning: Create hyperparameter options:\n",
        "param_dist_etc = {\"n_estimators\": randint(20, 200), \n",
        "                 \"max_depth\": randint(10, 100),\n",
        "                  \"min_samples_split\": randint(2, 10),\n",
        "                  \"min_samples_leaf\": randint(2, 10),\n",
        "                  \"criterion\": ['gini', 'entropy'],\n",
        "                  \"bootstrap\": ['True','False']}\n",
        "random_search = RandomizedSearchCV(estimator=etc_cv, param_distributions=param_dist_etc,\n",
        "                                   random_state=0, n_iter=100, cv=4)\n",
        "random_search_etc = random_search.fit(X_train, y_train)\n",
        "\n",
        "# View best hyperparameters\n",
        "print('Best n_estimators:', random_search_etc.best_estimator_.get_params()['n_estimators'])\n",
        "print('Best max_depth:', random_search_etc.best_estimator_.get_params()['max_depth'])\n",
        "print('Best criterion:', random_search_etc.best_estimator_.get_params()['criterion'])\n",
        "print('Best min_samples_split:', random_search_etc.best_estimator_.get_params()['min_samples_split'])\n",
        "print('Best min_samples_leaf:', random_search_etc.best_estimator_.get_params()['min_samples_leaf'])\n"
      ],
      "execution_count": null,
      "outputs": []
    },
    {
      "cell_type": "code",
      "metadata": {
        "id": "_RQz15igwDDn"
      },
      "source": [
        "# Feature Selection: Using a Extra Trees Classifier:\n",
        "etc = ExtraTreesClassifier(n_estimators=72, max_depth=55, criterion= 'entropy', min_samples_split=7, min_samples_leaf=9,random_state=0)\n",
        "etc.fit(X_train, y_train)\n",
        "y_etc_pred = etc.predict(X_test)\n",
        "feat_labels = df.columns[:-1]\n",
        "importances = etc.feature_importances_\n",
        "indices = np.argsort(importances)[::-1]\n",
        "\n",
        "for f in range(X_train.shape[1]):\n",
        "  print(\"%2d) %-*s %f\" % (f + 1, 30, feat_labels[indices[f]], importances[indices[f]]))\n",
        "\n",
        "plt.figure()    \n",
        "plt.title('Feature Importance: Extra Trees')\n",
        "plt.bar(range(X_train.shape[1]), importances[indices], align='center')\n",
        "plt.xticks(range(X_train.shape[1]), feat_labels[indices], rotation=90)\n",
        "plt.xlim(-1, X_train.shape[1])\n",
        "plt.show()"
      ],
      "execution_count": null,
      "outputs": []
    },
    {
      "cell_type": "markdown",
      "metadata": {
        "id": "S4IstWE64GOO"
      },
      "source": [
        "### Bagging Classifier\n",
        "In bagging classifier the algorithm builds multiple models from randomly taken subsets of train dataset and aggregates learners to build overall stronger learner."
      ]
    },
    {
      "cell_type": "code",
      "metadata": {
        "id": "8OAh1AFOb0vm"
      },
      "source": [
        "# Model: XGBClassifier [cross-validated and standardization of train set]\n",
        "bag_cv = BaggingClassifier(n_estimators=50, max_samples=1.0, max_features=1.0, random_state=0, n_jobs=1)\n",
        "bag_cv.fit(X_train, y_train)\n",
        "\n",
        "# Hyperparameters Tuning: Create hyperparameter options:\n",
        "param_dist_bag = {\"n_estimators\": randint(20, 200), \n",
        "                 \"max_features\": randint(1, 100),\n",
        "                  \"max_samples\": randint(1, 10),\n",
        "                  \"bootstrap\":[True, False]\n",
        "                  }\n",
        "random_search = RandomizedSearchCV(estimator=bag_cv, param_distributions=param_dist_bag,\n",
        "                                   random_state=0, n_iter=100, cv=4)\n",
        "random_search_bag = random_search.fit(X_train, y_train)\n",
        "\n",
        "# View best hyperparameters\n",
        "print('Best n_estimators:', random_search_bag.best_estimator_.get_params()['n_estimators'])\n",
        "print('Best max_features:', random_search_bag.best_estimator_.get_params()['max_features'])\n",
        "print('Best max_samples:', random_search_bag.best_estimator_.get_params()['max_samples'])\n",
        "print('Best bootstrap:', random_search_bag.best_estimator_.get_params()['bootstrap'])\n"
      ],
      "execution_count": null,
      "outputs": []
    },
    {
      "cell_type": "code",
      "metadata": {
        "id": "TYelfSptwDD-"
      },
      "source": [
        "bag =  BaggingClassifier(n_estimators=83,  max_features=1.0, random_state=0, bootstrap= True)\n",
        "bag.fit(X_train, y_train)\n",
        "y_bag_pred = bag.predict(X_test)\n",
        "sk_report = classification_report(digits=3, y_true=y_test, y_pred=y_bag_pred)\n",
        "print('BaggingClassifier Result')\n",
        "print(sk_report)\n",
        "print('roc_auc_score of BaggingClassifier is: '+str(multiclass_roc_auc_score(y_test, y_bag_pred)))"
      ],
      "execution_count": null,
      "outputs": []
    },
    {
      "cell_type": "markdown",
      "metadata": {
        "id": "1olbYFXrnSNj"
      },
      "source": [
        "## Majority Vote Classifier (Ensemble Learning)"
      ]
    },
    {
      "cell_type": "code",
      "metadata": {
        "id": "9Kw_HL_L0MZy"
      },
      "source": [
        "names = [\"LogisticRegression\",\"Support Vector Machine\",\"Decision Tree\", \"Random Forest\", \"Gradient Boosting\", \"XGBoost\", \"Extra Tree\", \"KNeighbors\", \"Bagging\"]\n",
        "\n",
        "classifiers = [\n",
        "     LogisticRegression(C=46,penalty='l2',random_state=0),          \n",
        "    SVC(C=94, kernel='rbf', degree=3, gamma='auto', coef0=0.0, shrinking=True, probability=False, tol=0.001, random_state=0),\n",
        "    DecisionTreeClassifier(criterion='entropy', max_depth=51, min_samples_split=8, min_samples_leaf=5, max_leaf_nodes=19,\n",
        "                               random_state=0),\n",
        "    RandomForestClassifier(criterion='entropy', max_depth=33, min_samples_split=6, min_samples_leaf=2, n_estimators=120, \n",
        "                            bootstrap= True,random_state=0),\n",
        "    KNeighborsClassifier(3),\n",
        "    GradientBoostingClassifier(criterion='mse', max_depth=89, min_samples_split=7, min_samples_leaf=9, n_estimators=159, \n",
        "                            random_state=0),\n",
        "    XGBClassifier(n_estimators=107, learning_rate=0.33, max_depth=49, objective=\"multi:softprob\",  random_state=0),\n",
        "    ExtraTreesClassifier(n_estimators=72, max_depth=55, criterion= 'entropy', min_samples_split=7, min_samples_leaf=9,random_state=0),\n",
        "    BaggingClassifier(n_estimators=83,  max_features=1.0, random_state=0, bootstrap= True)\n",
        "    ]\n",
        "\n",
        "res = []\n",
        "res2 = []\n",
        "for name, clf in zip(names, classifiers):\n",
        "    clf.fit(X_train, y_train)\n",
        "    res.append(clf.predict(X_test))\n",
        "    temp = clf.predict(X_train)\n",
        "    res2.append(temp)\n",
        "    print(name, \" accuracy is : \", accuracy_score(y_train, temp))\n",
        "    print(name, \" ROC is : \", multiclass_roc_auc_score(y_train, temp))\n",
        "       "
      ],
      "execution_count": null,
      "outputs": []
    },
    {
      "cell_type": "markdown",
      "metadata": {
        "id": "8GCrcVa3Fubc"
      },
      "source": [
        "# Evaluation of Model using Confusion Matrix\n",
        "Confusion matix is one of the methods to evaluate the performance of a classifies and it a tabular summay of classifiers with their corresponding number of correct and incorrrect predictions. \n",
        "Since we already knew the accuracy of each model, we'll draw the confusion matrix of selected models."
      ]
    },
    {
      "cell_type": "code",
      "metadata": {
        "id": "afle99rWwDEJ"
      },
      "source": [
        "#Confussion matrix plotting function\n",
        "def plot_cm (cm, classes):\n",
        "  fig, ax = plt.subplots(figsize=(10,10))\n",
        "  cmn = cm.astype('float') / cm.sum(axis=1)[:, np.newaxis]\n",
        "  sns.heatmap(cmn, annot=True, fmt='.2f', xticklabels=class_labels, yticklabels=class_labels)\n",
        "  plt.ylabel('Actual')\n",
        "  plt.xlabel('Predicted')   \n",
        "    \n",
        "class_labels=np.array(['neurontin','oxycodone','hydrocodone','tramadol','gabapentin'],dtype=str)\n"
      ],
      "execution_count": null,
      "outputs": []
    },
    {
      "cell_type": "code",
      "metadata": {
        "id": "n5blfOmvwDEW"
      },
      "source": [
        "# Confusion matrix of Random Forest\n",
        "cm=confusion_matrix(y_test, y_rf_pred)\n",
        "plot_cm(cm, class_labels)\n",
        "plt.title('Normilized Random Forest Confusion Matrix')\n",
        "plt.show()\n",
        "sk_report = classification_report(digits=3, y_true=y_test, y_pred=y_rf_pred,target_names=class_labels)\n",
        "print('Random Forest Result')\n",
        "print(sk_report)\n",
        "print('ROC score of Random Forest is %0.2f'% (multiclass_roc_auc_score(y_test, y_rf_pred)))\n"
      ],
      "execution_count": null,
      "outputs": []
    },
    {
      "cell_type": "code",
      "metadata": {
        "id": "YJRalz7aYbCh"
      },
      "source": [
        "y_test"
      ],
      "execution_count": null,
      "outputs": []
    },
    {
      "cell_type": "code",
      "metadata": {
        "id": "Le85z83jwDEm"
      },
      "source": [
        "# Confusion matrix of XGBClassifier\n",
        "cm=confusion_matrix(y_test, y_xgb_pred)\n",
        "plot_cm(cm, class_labels)\n",
        "plt.title('Normilized XGBClassifier Confusion Matrix')\n",
        "plt.show()\n",
        "sk_report = classification_report(digits=3, y_true=y_test, y_pred=y_xgb_pred,target_names=class_labels)\n",
        "print('XGBClassifier Result')\n",
        "print(sk_report)\n",
        "print('ROC score of XGBClassifier is %0.2f'% (multiclass_roc_auc_score(y_test, y_xgb_pred)))\n"
      ],
      "execution_count": null,
      "outputs": []
    },
    {
      "cell_type": "code",
      "metadata": {
        "id": "HMBagLS5MoQp"
      },
      "source": [
        "# Confusion matrix of ExtraTreelassifier\n",
        "cm=confusion_matrix(y_test, y_etc_pred)\n",
        "plot_cm(cm, class_labels)\n",
        "plt.title('Normilized ExtraTreelassifier Confusion Matrix')\n",
        "plt.show()\n",
        "sk_report = classification_report(digits=3, y_true=y_test, y_pred=y_etc_pred,target_names=class_labels)\n",
        "print('ExtraTreelassifier Result')\n",
        "print(sk_report)\n",
        "print('ROC score of ExtraTreelassifier is %0.2f'% (multiclass_roc_auc_score(y_test, y_etc_pred)))\n"
      ],
      "execution_count": null,
      "outputs": []
    },
    {
      "cell_type": "code",
      "metadata": {
        "id": "Nu3jK2-1M6LR"
      },
      "source": [
        "# Confusion matrix of  BaggingClassifier\n",
        "cm=confusion_matrix(y_test, y_bag_pred)\n",
        "plot_cm(cm, class_labels)\n",
        "plt.title('Normilized  BaggingClassifier Confusion Matrix')\n",
        "plt.show()\n",
        "sk_report = classification_report(digits=3, y_true=y_test, y_pred=y_bag_pred,target_names=class_labels)\n",
        "print(' BaggingClassifier Result')\n",
        "print(sk_report)\n",
        "print('ROC score of  BaggingClassifier is %0.2f'% (multiclass_roc_auc_score(y_test, y_bag_pred)))\n"
      ],
      "execution_count": null,
      "outputs": []
    },
    {
      "cell_type": "markdown",
      "metadata": {
        "id": "0kr-7CsWoyYD"
      },
      "source": [
        "# Evaluation of Model using ROC curve"
      ]
    },
    {
      "cell_type": "code",
      "metadata": {
        "id": "Uoe4nVLXbsKu"
      },
      "source": [
        "#Split train and test\n",
        "X=df.drop('Drug', axis=1)\n",
        "#Feature Scaling\n",
        "scaler=StandardScaler()\n",
        "X=scaler.fit_transform(X)\n",
        "\n",
        "y=df['Drug']\n",
        "y=y.map({'gabapentin': 0, 'hydrocodone':1, 'neurontin': 1, 'oxycodone': 1, 'tramadol':1  })\n",
        "X_train, X_test, y_train, y_test = train_test_split(X,y,test_size = 0.25,stratify=y)\n",
        "\n",
        "lr.fit(X_train, y_train)\n",
        "y_lr_pred = lr.predict(X_test);\n",
        "lr_roc_auc = roc_auc_score(y_test, lr.predict(X_test))\n",
        "svm.fit(X_train, y_train)\n",
        "y_svm_pred = svm.predict(X_test);\n",
        "svm_roc_auc = roc_auc_score(y_test, svm.predict(X_test))\n",
        "tree.fit(X_train, y_train)\n",
        "y_tree_pred = tree.predict(X_test);\n",
        "tree_roc_auc = roc_auc_score(y_test, tree.predict(X_test))\n",
        "rf.fit(X_train, y_train)\n",
        "y_rf_pred = rf.predict(X_test);\n",
        "rf_roc_auc = roc_auc_score(y_test, rf.predict(X_test))\n",
        "gbc.fit(X_train, y_train)\n",
        "y_gbc_pred = gbc.predict(X_test);\n",
        "gbc_roc_auc = roc_auc_score(y_test, gbc.predict(X_test))\n",
        "# xgb.fit(X_train, y_train)\n",
        "# y_xgb_pred = xgb.predict(X_test);\n",
        "# xgb_roc_auc = roc_auc_score(y_test, xgb.predict(X_test))\n",
        "etc.fit(X_train, y_train)\n",
        "y_etc_pred = etc.predict(X_test);\n",
        "etc_roc_auc = roc_auc_score(y_test, etc.predict(X_test))\n",
        "knn.fit(X_train, y_train)\n",
        "y_knn_pred = knn.predict(X_test);\n",
        "knn_roc_auc = roc_auc_score(y_test, knn.predict(X_test))\n",
        "bag.fit(X_train, y_train)\n",
        "y_bag_pred = bag.predict(X_test);\n",
        "bag_roc_auc = roc_auc_score(y_test, bag.predict(X_test))"
      ],
      "execution_count": null,
      "outputs": []
    },
    {
      "cell_type": "code",
      "metadata": {
        "id": "_f49I6GvF0Q5"
      },
      "source": [
        "# Create ROC Graph\n",
        "\n",
        "lr_ev, lr_evn, lr_thresholds = roc_curve(y_test, lr.predict_proba(X_test)[:,1])\n",
        "# svm_ev, svm_evn, svm_thresholds = roc_curve(y_test, svm.predict_proba(X_test)[:,1])\n",
        "tree_ev, tree_evn, tree_thresholds = roc_curve(y_test, tree.predict_proba(X_test)[:,1])\n",
        "rf_ev, rf_evn, rf_thresholds = roc_curve(y_test, rf.predict_proba(X_test)[:,1])\n",
        "gbc_ev, gbc_evn, gbc_thresholds = roc_curve(y_test, gbc.predict_proba(X_test)[:,1])\n",
        "knn_ev, knn_evn, knn_thresholds = roc_curve(y_test, knn.predict_proba(X_test)[:,1])\n",
        "etc_ev, etc_evn, etc_thresholds = roc_curve(y_test, etc.predict_proba(X_test)[:,1])\n",
        "bag_ev, bag_evn, bag_thresholds = roc_curve(y_test, bag.predict_proba(X_test)[:,1])\n",
        "\n",
        "plt.figure()\n",
        "\n",
        "# Plot Support Vector Machine ROC\n",
        "# plt.plot(svm_ev, svm_evn, label='SVM (area = %0.2f)' % svm_roc_auc)\n",
        "# Plot Random Forest ROC\n",
        "plt.plot(rf_ev, rf_evn, label='Random Forest (area = %0.2f)' % rf_roc_auc)\n",
        "# Plot KNeighbors ROC\n",
        "plt.plot(knn_ev, knn_evn, label='KNeighbors (area = %0.2f)' % knn_roc_auc)\n",
        "# Plot Gradient Boosting ROC\n",
        "plt.plot(gbc_ev, gbc_evn, label='Gradient Boosting (area = %0.2f)' % gbc_roc_auc)\n",
        "# Plot Extra Tree ROC\n",
        "plt.plot(etc_ev, etc_evn, label='Extra Tree (area = %0.2f)' % etc_roc_auc)\n",
        "# # Plot XGBClassifier ROC\n",
        "# plt.plot(xgb_ev, xgb_evn, label='XGBClassifier (area = %0.2f)' % xgb_roc_auc)\n",
        "# Plot Bagging ROC\n",
        "plt.plot(bag_ev, bag_evn, label='Bagging (area = %0.2f)' % bag_roc_auc)\n",
        "# Plot Base Rate ROC\n",
        "plt.plot([0,1], [0,1],label='Base Rate' 'k--')\n",
        "\n",
        "plt.xlim([0.0, 1.0])\n",
        "plt.ylim([0.0, 1.05])\n",
        "plt.xlabel('False Positive Rate')\n",
        "plt.ylabel('True Positive Rate')\n",
        "plt.title('ROC Graph')\n",
        "plt.legend(loc=\"lower right\")\n",
        "plt.show()"
      ],
      "execution_count": null,
      "outputs": []
    },
    {
      "cell_type": "code",
      "metadata": {
        "id": "IBuLv0gGiBQ3"
      },
      "source": [
        "#Split train and test\n",
        "X=df.drop('Drug', axis=1)\n",
        "#Feature Scaling\n",
        "scaler=StandardScaler()\n",
        "X=scaler.fit_transform(X)\n",
        "\n",
        "y=df['Drug']\n",
        "y=y.map({'gabapentin': 1, 'hydrocodone':0, 'neurontin': 1, 'oxycodone': 1, 'tramadol':1  })\n",
        "X_train, X_test, y_train, y_test = train_test_split(X,y,test_size = 0.25,stratify=y)\n",
        "\n",
        "lr.fit(X_train, y_train)\n",
        "y_lr_pred = lr.predict(X_test);\n",
        "lr_roc_auc = roc_auc_score(y_test, lr.predict(X_test))\n",
        "svm.fit(X_train, y_train)\n",
        "y_svm_pred = svm.predict(X_test);\n",
        "svm_roc_auc = roc_auc_score(y_test, svm.predict(X_test))\n",
        "tree.fit(X_train, y_train)\n",
        "y_tree_pred = tree.predict(X_test);\n",
        "tree_roc_auc = roc_auc_score(y_test, tree.predict(X_test))\n",
        "rf.fit(X_train, y_train)\n",
        "y_rf_pred = rf.predict(X_test);\n",
        "rf_roc_auc = roc_auc_score(y_test, rf.predict(X_test))\n",
        "gbc.fit(X_train, y_train)\n",
        "y_gbc_pred = gbc.predict(X_test);\n",
        "gbc_roc_auc = roc_auc_score(y_test, gbc.predict(X_test))\n",
        "# xgb.fit(X_train, y_train)\n",
        "# y_xgb_pred = xgb.predict(X_test);\n",
        "# xgb_roc_auc = roc_auc_score(y_test, xgb.predict(X_test))\n",
        "etc.fit(X_train, y_train)\n",
        "y_etc_pred = etc.predict(X_test);\n",
        "etc_roc_auc = roc_auc_score(y_test, etc.predict(X_test))\n",
        "knn.fit(X_train, y_train)\n",
        "y_knn_pred = knn.predict(X_test);\n",
        "knn_roc_auc = roc_auc_score(y_test, knn.predict(X_test))\n",
        "bag.fit(X_train, y_train)\n",
        "y_bag_pred = bag.predict(X_test);\n",
        "bag_roc_auc = roc_auc_score(y_test, bag.predict(X_test))"
      ],
      "execution_count": null,
      "outputs": []
    },
    {
      "cell_type": "code",
      "metadata": {
        "id": "FQBESf4_iBNx"
      },
      "source": [
        "# Create ROC Graph\n",
        "\n",
        "lr_ev, lr_evn, lr_thresholds = roc_curve(y_test, lr.predict_proba(X_test)[:,1])\n",
        "# svm_ev, svm_evn, svm_thresholds = roc_curve(y_test, svm.predict_proba(X_test)[:,1])\n",
        "tree_ev, tree_evn, tree_thresholds = roc_curve(y_test, tree.predict_proba(X_test)[:,1])\n",
        "rf_ev, rf_evn, rf_thresholds = roc_curve(y_test, rf.predict_proba(X_test)[:,1])\n",
        "gbc_ev, gbc_evn, gbc_thresholds = roc_curve(y_test, gbc.predict_proba(X_test)[:,1])\n",
        "knn_ev, knn_evn, knn_thresholds = roc_curve(y_test, knn.predict_proba(X_test)[:,1])\n",
        "etc_ev, etc_evn, etc_thresholds = roc_curve(y_test, etc.predict_proba(X_test)[:,1])\n",
        "bag_ev, bag_evn, bag_thresholds = roc_curve(y_test, bag.predict_proba(X_test)[:,1])\n",
        "\n",
        "plt.figure()\n",
        "\n",
        "# # Plot Support Vector Machine ROC\n",
        "# plt.plot(svm_ev, svm_evn, label='SVM (area = %0.2f)' % svm_roc_auc)\n",
        "# Plot Random Forest ROC\n",
        "plt.plot(rf_ev, rf_evn, label='Random Forest (area = %0.2f)' % rf_roc_auc)\n",
        "# Plot KNeighbors ROC\n",
        "plt.plot(knn_ev, knn_evn, label='KNeighbors (area = %0.2f)' % knn_roc_auc)\n",
        "# Plot Gradient Boosting ROC\n",
        "plt.plot(gbc_ev, gbc_evn, label='Gradient Boosting (area = %0.2f)' % gbc_roc_auc)\n",
        "# Plot Extra Tree ROC\n",
        "plt.plot(etc_ev, etc_evn, label='Extra Tree (area = %0.2f)' % etc_roc_auc)\n",
        "# # Plot XGBClassifier ROC\n",
        "# plt.plot(xgb_ev, xgb_evn, label='XGBClassifier (area = %0.2f)' % xgb_roc_auc)\n",
        "# Plot Bagging ROC\n",
        "plt.plot(bag_ev, bag_evn, label='Bagging (area = %0.2f)' % bag_roc_auc)\n",
        "# Plot Base Rate ROC\n",
        "plt.plot([0,1], [0,1],label='Base Rate' 'k--')\n",
        "\n",
        "plt.xlim([0.0, 1.0])\n",
        "plt.ylim([0.0, 1.05])\n",
        "plt.xlabel('False Positive Rate')\n",
        "plt.ylabel('True Positive Rate')\n",
        "plt.title('ROC Graph')\n",
        "plt.legend(loc=\"lower right\")\n",
        "plt.show()"
      ],
      "execution_count": null,
      "outputs": []
    },
    {
      "cell_type": "code",
      "metadata": {
        "id": "2G77Tngpktu7"
      },
      "source": [
        "#Split train and test\n",
        "X=df.drop('Drug', axis=1)\n",
        "#Feature Scaling\n",
        "scaler=StandardScaler()\n",
        "X=scaler.fit_transform(X)\n",
        "\n",
        "y=df['Drug']\n",
        "y=y.map({'gabapentin': 1, 'hydrocodone':1, 'neurontin': 0, 'oxycodone': 1, 'tramadol':1  })\n",
        "X_train, X_test, y_train, y_test = train_test_split(X,y,test_size = 0.25,stratify=y)\n",
        "\n",
        "lr.fit(X_train, y_train)\n",
        "y_lr_pred = lr.predict(X_test);\n",
        "lr_roc_auc = roc_auc_score(y_test, lr.predict(X_test))\n",
        "svm.fit(X_train, y_train)\n",
        "y_svm_pred = svm.predict(X_test);\n",
        "svm_roc_auc = roc_auc_score(y_test, svm.predict(X_test))\n",
        "tree.fit(X_train, y_train)\n",
        "y_tree_pred = tree.predict(X_test);\n",
        "tree_roc_auc = roc_auc_score(y_test, tree.predict(X_test))\n",
        "rf.fit(X_train, y_train)\n",
        "y_rf_pred = rf.predict(X_test);\n",
        "rf_roc_auc = roc_auc_score(y_test, rf.predict(X_test))\n",
        "gbc.fit(X_train, y_train)\n",
        "y_gbc_pred = gbc.predict(X_test);\n",
        "gbc_roc_auc = roc_auc_score(y_test, gbc.predict(X_test))\n",
        "# xgb.fit(X_train, y_train)\n",
        "# y_xgb_pred = xgb.predict(X_test);\n",
        "# xgb_roc_auc = roc_auc_score(y_test, xgb.predict(X_test))\n",
        "etc.fit(X_train, y_train)\n",
        "y_etc_pred = etc.predict(X_test);\n",
        "etc_roc_auc = roc_auc_score(y_test, etc.predict(X_test))\n",
        "knn.fit(X_train, y_train)\n",
        "y_knn_pred = knn.predict(X_test);\n",
        "knn_roc_auc = roc_auc_score(y_test, knn.predict(X_test))\n",
        "bag.fit(X_train, y_train)\n",
        "y_bag_pred = bag.predict(X_test);\n",
        "bag_roc_auc = roc_auc_score(y_test, bag.predict(X_test))"
      ],
      "execution_count": null,
      "outputs": []
    },
    {
      "cell_type": "code",
      "metadata": {
        "id": "v-x-33mfktr5"
      },
      "source": [
        "# Create ROC Graph\n",
        "\n",
        "lr_ev, lr_evn, lr_thresholds = roc_curve(y_test, lr.predict_proba(X_test)[:,1])\n",
        "# svm_ev, svm_evn, svm_thresholds = roc_curve(y_test, svm.predict_proba(X_test)[:,1])\n",
        "tree_ev, tree_evn, tree_thresholds = roc_curve(y_test, tree.predict_proba(X_test)[:,1])\n",
        "rf_ev, rf_evn, rf_thresholds = roc_curve(y_test, rf.predict_proba(X_test)[:,1])\n",
        "gbc_ev, gbc_evn, gbc_thresholds = roc_curve(y_test, gbc.predict_proba(X_test)[:,1])\n",
        "knn_ev, knn_evn, knn_thresholds = roc_curve(y_test, knn.predict_proba(X_test)[:,1])\n",
        "etc_ev, etc_evn, etc_thresholds = roc_curve(y_test, etc.predict_proba(X_test)[:,1])\n",
        "bag_ev, bag_evn, bag_thresholds = roc_curve(y_test, bag.predict_proba(X_test)[:,1])\n",
        "\n",
        "plt.figure()\n",
        "\n",
        "# Plot Support Vector Machine ROC\n",
        "# plt.plot(svm_ev, svm_evn, label='SVM (area = %0.2f)' % svm_roc_auc)\n",
        "# Plot Random Forest ROC\n",
        "plt.plot(rf_ev, rf_evn, label='Random Forest (area = %0.2f)' % rf_roc_auc)\n",
        "# Plot KNeighbors ROC\n",
        "plt.plot(knn_ev, knn_evn, label='KNeighbors (area = %0.2f)' % knn_roc_auc)\n",
        "# Plot Gradient Boosting ROC\n",
        "plt.plot(gbc_ev, gbc_evn, label='Gradient Boosting (area = %0.2f)' % gbc_roc_auc)\n",
        "# Plot Extra Tree ROC\n",
        "plt.plot(etc_ev, etc_evn, label='Extra Tree (area = %0.2f)' % etc_roc_auc)\n",
        "# # Plot XGBClassifier ROC\n",
        "# plt.plot(xgb_ev, xgb_evn, label='XGBClassifier (area = %0.2f)' % xgb_roc_auc)\n",
        "# Plot Bagging ROC\n",
        "plt.plot(bag_ev, bag_evn, label='Bagging (area = %0.2f)' % bag_roc_auc)\n",
        "# Plot Base Rate ROC\n",
        "plt.plot([0,1], [0,1],label='Base Rate' 'k--')\n",
        "\n",
        "plt.xlim([0.0, 1.0])\n",
        "plt.ylim([0.0, 1.05])\n",
        "plt.xlabel('False Positive Rate')\n",
        "plt.ylabel('True Positive Rate')\n",
        "plt.title('ROC Graph')\n",
        "plt.legend(loc=\"lower right\")\n",
        "plt.show()"
      ],
      "execution_count": null,
      "outputs": []
    },
    {
      "cell_type": "code",
      "metadata": {
        "id": "7AdwMPvIlGgB"
      },
      "source": [
        "#Split train and test\n",
        "X=df.drop('Drug', axis=1)\n",
        "#Feature Scaling\n",
        "scaler=StandardScaler()\n",
        "X=scaler.fit_transform(X)\n",
        "\n",
        "y=df['Drug']\n",
        "y=y.map({'gabapentin': 1, 'hydrocodone':1, 'neurontin': 1, 'oxycodone': 0, 'tramadol':1  })\n",
        "X_train, X_test, y_train, y_test = train_test_split(X,y,test_size = 0.25,stratify=y)\n",
        "\n",
        "lr.fit(X_train, y_train)\n",
        "y_lr_pred = lr.predict(X_test);\n",
        "lr_roc_auc = roc_auc_score(y_test, lr.predict(X_test))\n",
        "svm.fit(X_train, y_train)\n",
        "y_svm_pred = svm.predict(X_test);\n",
        "svm_roc_auc = roc_auc_score(y_test, svm.predict(X_test))\n",
        "tree.fit(X_train, y_train)\n",
        "y_tree_pred = tree.predict(X_test);\n",
        "tree_roc_auc = roc_auc_score(y_test, tree.predict(X_test))\n",
        "rf.fit(X_train, y_train)\n",
        "y_rf_pred = rf.predict(X_test);\n",
        "rf_roc_auc = roc_auc_score(y_test, rf.predict(X_test))\n",
        "gbc.fit(X_train, y_train)\n",
        "y_gbc_pred = gbc.predict(X_test);\n",
        "gbc_roc_auc = roc_auc_score(y_test, gbc.predict(X_test))\n",
        "# xgb.fit(X_train, y_train)\n",
        "# y_xgb_pred = xgb.predict(X_test);\n",
        "# xgb_roc_auc = roc_auc_score(y_test, xgb.predict(X_test))\n",
        "etc.fit(X_train, y_train)\n",
        "y_etc_pred = etc.predict(X_test);\n",
        "etc_roc_auc = roc_auc_score(y_test, etc.predict(X_test))\n",
        "knn.fit(X_train, y_train)\n",
        "y_knn_pred = knn.predict(X_test);\n",
        "knn_roc_auc = roc_auc_score(y_test, knn.predict(X_test))\n",
        "bag.fit(X_train, y_train)\n",
        "y_bag_pred = bag.predict(X_test);\n",
        "bag_roc_auc = roc_auc_score(y_test, bag.predict(X_test))"
      ],
      "execution_count": null,
      "outputs": []
    },
    {
      "cell_type": "code",
      "metadata": {
        "id": "yVgu9dJNlHF6"
      },
      "source": [
        "# Create ROC Graph\n",
        "\n",
        "lr_ev, lr_evn, lr_thresholds = roc_curve(y_test, lr.predict_proba(X_test)[:,1])\n",
        "# svm_ev, svm_evn, svm_thresholds = roc_curve(y_test, svm.predict_proba(X_test)[:,1])\n",
        "tree_ev, tree_evn, tree_thresholds = roc_curve(y_test, tree.predict_proba(X_test)[:,1])\n",
        "rf_ev, rf_evn, rf_thresholds = roc_curve(y_test, rf.predict_proba(X_test)[:,1])\n",
        "gbc_ev, gbc_evn, gbc_thresholds = roc_curve(y_test, gbc.predict_proba(X_test)[:,1])\n",
        "knn_ev, knn_evn, knn_thresholds = roc_curve(y_test, knn.predict_proba(X_test)[:,1])\n",
        "etc_ev, etc_evn, etc_thresholds = roc_curve(y_test, etc.predict_proba(X_test)[:,1])\n",
        "bag_ev, bag_evn, bag_thresholds = roc_curve(y_test, bag.predict_proba(X_test)[:,1])\n",
        "\n",
        "plt.figure()\n",
        "\n",
        "# Plot Support Vector Machine ROC\n",
        "# plt.plot(svm_ev, svm_evn, label='SVM (area = %0.2f)' % svm_roc_auc)\n",
        "# Plot Random Forest ROC\n",
        "plt.plot(rf_ev, rf_evn, label='Random Forest (area = %0.2f)' % rf_roc_auc)\n",
        "# Plot KNeighbors ROC\n",
        "plt.plot(knn_ev, knn_evn, label='KNeighbors (area = %0.2f)' % knn_roc_auc)\n",
        "# Plot Gradient Boosting ROC\n",
        "plt.plot(gbc_ev, gbc_evn, label='Gradient Boosting (area = %0.2f)' % gbc_roc_auc)\n",
        "# Plot Extra Tree ROC\n",
        "plt.plot(etc_ev, etc_evn, label='Extra Tree (area = %0.2f)' % etc_roc_auc)\n",
        "# # Plot XGBClassifier ROC\n",
        "# plt.plot(xgb_ev, xgb_evn, label='XGBClassifier (area = %0.2f)' % xgb_roc_auc)\n",
        "# Plot Bagging ROC\n",
        "plt.plot(bag_ev, bag_evn, label='Bagging (area = %0.2f)' % bag_roc_auc)\n",
        "# Plot Base Rate ROC\n",
        "plt.plot([0,1], [0,1],label='Base Rate' 'k--')\n",
        "\n",
        "plt.xlim([0.0, 1.0])\n",
        "plt.ylim([0.0, 1.05])\n",
        "plt.xlabel('False Positive Rate')\n",
        "plt.ylabel('True Positive Rate')\n",
        "plt.title('ROC Graph')\n",
        "plt.legend(loc=\"lower right\")\n",
        "plt.show()"
      ],
      "execution_count": null,
      "outputs": []
    },
    {
      "cell_type": "code",
      "metadata": {
        "id": "oRQxQvIQF0NG"
      },
      "source": [
        "#Split train and test\n",
        "X=df.drop('Drug', axis=1)\n",
        "#Feature Scaling\n",
        "scaler=StandardScaler()\n",
        "X=scaler.fit_transform(X)\n",
        "\n",
        "y=df['Drug']\n",
        "y=y.map({'gabapentin': 1, 'hydrocodone':1, 'neurontin': 1, 'oxycodone': 1, 'tramadol':0})\n",
        "X_train, X_test, y_train, y_test = train_test_split(X,y,test_size = 0.25,stratify=y)\n",
        "\n",
        "lr.fit(X_train, y_train)\n",
        "y_lr_pred = lr.predict(X_test);\n",
        "lr_roc_auc = roc_auc_score(y_test, lr.predict(X_test))\n",
        "svm.fit(X_train, y_train)\n",
        "y_svm_pred = svm.predict(X_test);\n",
        "svm_roc_auc = roc_auc_score(y_test, svm.predict(X_test))\n",
        "tree.fit(X_train, y_train)\n",
        "y_tree_pred = tree.predict(X_test);\n",
        "tree_roc_auc = roc_auc_score(y_test, tree.predict(X_test))\n",
        "rf.fit(X_train, y_train)\n",
        "y_rf_pred = rf.predict(X_test);\n",
        "rf_roc_auc = roc_auc_score(y_test, rf.predict(X_test))\n",
        "gbc.fit(X_train, y_train)\n",
        "y_gbc_pred = gbc.predict(X_test);\n",
        "gbc_roc_auc = roc_auc_score(y_test, gbc.predict(X_test))\n",
        "# xgb.fit(X_train, y_train)\n",
        "# y_xgb_pred = xgb.predict(X_test);\n",
        "# xgb_roc_auc = roc_auc_score(y_test, xgb.predict(X_test))\n",
        "etc.fit(X_train, y_train)\n",
        "y_etc_pred = etc.predict(X_test);\n",
        "etc_roc_auc = roc_auc_score(y_test, etc.predict(X_test))\n",
        "knn.fit(X_train, y_train)\n",
        "y_knn_pred = knn.predict(X_test);\n",
        "knn_roc_auc = roc_auc_score(y_test, knn.predict(X_test))\n",
        "bag.fit(X_train, y_train)\n",
        "y_bag_pred = bag.predict(X_test);\n",
        "bag_roc_auc = roc_auc_score(y_test, bag.predict(X_test))"
      ],
      "execution_count": null,
      "outputs": []
    },
    {
      "cell_type": "code",
      "metadata": {
        "id": "k911uUxUF0JC"
      },
      "source": [
        "# Create ROC Graph\n",
        "\n",
        "lr_ev, lr_evn, lr_thresholds = roc_curve(y_test, lr.predict_proba(X_test)[:,1])\n",
        "# svm_ev, svm_evn, svm_thresholds = roc_curve(y_test, svm.predict_proba(X_test)[:,1])\n",
        "tree_ev, tree_evn, tree_thresholds = roc_curve(y_test, tree.predict_proba(X_test)[:,1])\n",
        "rf_ev, rf_evn, rf_thresholds = roc_curve(y_test, rf.predict_proba(X_test)[:,1])\n",
        "gbc_ev, gbc_evn, gbc_thresholds = roc_curve(y_test, gbc.predict_proba(X_test)[:,1])\n",
        "knn_ev, knn_evn, knn_thresholds = roc_curve(y_test, knn.predict_proba(X_test)[:,1])\n",
        "etc_ev, etc_evn, etc_thresholds = roc_curve(y_test, etc.predict_proba(X_test)[:,1])\n",
        "bag_ev, bag_evn, bag_thresholds = roc_curve(y_test, bag.predict_proba(X_test)[:,1])\n",
        "\n",
        "plt.figure()\n",
        "\n",
        "# Plot Support Vector Machine ROC\n",
        "# plt.plot(svm_ev, svm_evn, label='SVM (area = %0.2f)' % svm_roc_auc)\n",
        "# Plot Random Forest ROC\n",
        "plt.plot(rf_ev, rf_evn, label='Random Forest (area = %0.2f)' % rf_roc_auc)\n",
        "# Plot KNeighbors ROC\n",
        "plt.plot(knn_ev, knn_evn, label='KNeighbors (area = %0.2f)' % knn_roc_auc)\n",
        "# Plot Gradient Boosting ROC\n",
        "plt.plot(gbc_ev, gbc_evn, label='Gradient Boosting (area = %0.2f)' % gbc_roc_auc)\n",
        "# Plot Extra Tree ROC\n",
        "plt.plot(etc_ev, etc_evn, label='Extra Tree (area = %0.2f)' % etc_roc_auc)\n",
        "# # Plot XGBClassifier ROC\n",
        "# plt.plot(xgb_ev, xgb_evn, label='XGBClassifier (area = %0.2f)' % xgb_roc_auc)\n",
        "# Plot Bagging ROC\n",
        "plt.plot(bag_ev, bag_evn, label='Bagging (area = %0.2f)' % bag_roc_auc)\n",
        "# Plot Base Rate ROC\n",
        "plt.plot([0,1], [0,1],label='Base Rate' 'k--')\n",
        "\n",
        "plt.xlim([0.0, 1.0])\n",
        "plt.ylim([0.0, 1.05])\n",
        "plt.xlabel('False Positive Rate')\n",
        "plt.ylabel('True Positive Rate')\n",
        "plt.title('ROC Graph')\n",
        "plt.legend(loc=\"lower right\")\n",
        "plt.show()"
      ],
      "execution_count": null,
      "outputs": []
    }
  ]
}