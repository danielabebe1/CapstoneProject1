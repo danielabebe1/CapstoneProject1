{
 "cells": [
  {
   "cell_type": "markdown",
   "metadata": {},
   "source": [
    "# 1. Importing the possibly required libraries for EDA"
   ]
  },
  {
   "cell_type": "code",
   "execution_count": 1,
   "metadata": {},
   "outputs": [],
   "source": [
    "import pandas as pd\n",
    "import numpy as np\n",
    "import seaborn as sns\n",
    "import matplotlib.pyplot as plt\n",
    "from IPython.core.pylabtools import figsize\n",
    "%matplotlib inline"
   ]
  },
  {
   "cell_type": "code",
   "execution_count": null,
   "metadata": {},
   "outputs": [],
   "source": [
    "# 2. Loading the data into the data frame"
   ]
  },
  {
   "cell_type": "code",
   "execution_count": 3,
   "metadata": {},
   "outputs": [
    {
     "data": {
      "text/plain": [
       "(362806, 12)"
      ]
     },
     "execution_count": 3,
     "metadata": {},
     "output_type": "execute_result"
    }
   ],
   "source": [
    "df_data=pd.read_csv('webmd.csv', na_values=' ')\n",
    "df_data.shape"
   ]
  },
  {
   "cell_type": "code",
   "execution_count": 4,
   "metadata": {},
   "outputs": [
    {
     "data": {
      "text/html": [
       "<div>\n",
       "<style scoped>\n",
       "    .dataframe tbody tr th:only-of-type {\n",
       "        vertical-align: middle;\n",
       "    }\n",
       "\n",
       "    .dataframe tbody tr th {\n",
       "        vertical-align: top;\n",
       "    }\n",
       "\n",
       "    .dataframe thead th {\n",
       "        text-align: right;\n",
       "    }\n",
       "</style>\n",
       "<table border=\"1\" class=\"dataframe\">\n",
       "  <thead>\n",
       "    <tr style=\"text-align: right;\">\n",
       "      <th></th>\n",
       "      <th>Age</th>\n",
       "      <th>Condition</th>\n",
       "      <th>Date</th>\n",
       "      <th>Drug</th>\n",
       "      <th>DrugId</th>\n",
       "      <th>EaseofUse</th>\n",
       "      <th>Effectiveness</th>\n",
       "      <th>Reviews</th>\n",
       "      <th>Satisfaction</th>\n",
       "      <th>Sex</th>\n",
       "      <th>Sides</th>\n",
       "      <th>UsefulCount</th>\n",
       "    </tr>\n",
       "  </thead>\n",
       "  <tbody>\n",
       "    <tr>\n",
       "      <td>0</td>\n",
       "      <td>75 or over</td>\n",
       "      <td>Stuffy Nose</td>\n",
       "      <td>9/21/2014</td>\n",
       "      <td>25dph-7.5peh</td>\n",
       "      <td>146724</td>\n",
       "      <td>5</td>\n",
       "      <td>5</td>\n",
       "      <td>I'm a retired physician and of all the meds I ...</td>\n",
       "      <td>5</td>\n",
       "      <td>Male</td>\n",
       "      <td>Drowsiness,  dizziness ,  dry mouth /nose/thro...</td>\n",
       "      <td>0</td>\n",
       "    </tr>\n",
       "    <tr>\n",
       "      <td>1</td>\n",
       "      <td>25-34</td>\n",
       "      <td>Cold Symptoms</td>\n",
       "      <td>1/13/2011</td>\n",
       "      <td>25dph-7.5peh</td>\n",
       "      <td>146724</td>\n",
       "      <td>5</td>\n",
       "      <td>5</td>\n",
       "      <td>cleared me right up even with my throat hurtin...</td>\n",
       "      <td>5</td>\n",
       "      <td>Female</td>\n",
       "      <td>Drowsiness,  dizziness ,  dry mouth /nose/thro...</td>\n",
       "      <td>1</td>\n",
       "    </tr>\n",
       "    <tr>\n",
       "      <td>2</td>\n",
       "      <td>65-74</td>\n",
       "      <td>Other</td>\n",
       "      <td>7/16/2012</td>\n",
       "      <td>warfarin (bulk) 100 % powder</td>\n",
       "      <td>144731</td>\n",
       "      <td>2</td>\n",
       "      <td>3</td>\n",
       "      <td>why did my PTINR go from a normal of 2.5 to ov...</td>\n",
       "      <td>3</td>\n",
       "      <td>Female</td>\n",
       "      <td>NaN</td>\n",
       "      <td>0</td>\n",
       "    </tr>\n",
       "    <tr>\n",
       "      <td>3</td>\n",
       "      <td>75 or over</td>\n",
       "      <td>Other</td>\n",
       "      <td>9/23/2010</td>\n",
       "      <td>warfarin (bulk) 100 % powder</td>\n",
       "      <td>144731</td>\n",
       "      <td>2</td>\n",
       "      <td>2</td>\n",
       "      <td>FALLING AND DON'T REALISE IT</td>\n",
       "      <td>1</td>\n",
       "      <td>Female</td>\n",
       "      <td>NaN</td>\n",
       "      <td>0</td>\n",
       "    </tr>\n",
       "    <tr>\n",
       "      <td>4</td>\n",
       "      <td>35-44</td>\n",
       "      <td>Other</td>\n",
       "      <td>1/6/2009</td>\n",
       "      <td>warfarin (bulk) 100 % powder</td>\n",
       "      <td>144731</td>\n",
       "      <td>1</td>\n",
       "      <td>1</td>\n",
       "      <td>My grandfather was prescribed this medication ...</td>\n",
       "      <td>1</td>\n",
       "      <td>Male</td>\n",
       "      <td>NaN</td>\n",
       "      <td>1</td>\n",
       "    </tr>\n",
       "  </tbody>\n",
       "</table>\n",
       "</div>"
      ],
      "text/plain": [
       "          Age      Condition       Date                          Drug  DrugId  \\\n",
       "0  75 or over    Stuffy Nose  9/21/2014                  25dph-7.5peh  146724   \n",
       "1       25-34  Cold Symptoms  1/13/2011                  25dph-7.5peh  146724   \n",
       "2       65-74          Other  7/16/2012  warfarin (bulk) 100 % powder  144731   \n",
       "3  75 or over          Other  9/23/2010  warfarin (bulk) 100 % powder  144731   \n",
       "4       35-44          Other   1/6/2009  warfarin (bulk) 100 % powder  144731   \n",
       "\n",
       "   EaseofUse  Effectiveness  \\\n",
       "0          5              5   \n",
       "1          5              5   \n",
       "2          2              3   \n",
       "3          2              2   \n",
       "4          1              1   \n",
       "\n",
       "                                             Reviews  Satisfaction     Sex  \\\n",
       "0  I'm a retired physician and of all the meds I ...             5    Male   \n",
       "1  cleared me right up even with my throat hurtin...             5  Female   \n",
       "2  why did my PTINR go from a normal of 2.5 to ov...             3  Female   \n",
       "3                       FALLING AND DON'T REALISE IT             1  Female   \n",
       "4  My grandfather was prescribed this medication ...             1    Male   \n",
       "\n",
       "                                               Sides  UsefulCount  \n",
       "0  Drowsiness,  dizziness ,  dry mouth /nose/thro...            0  \n",
       "1  Drowsiness,  dizziness ,  dry mouth /nose/thro...            1  \n",
       "2                                                NaN            0  \n",
       "3                                                NaN            0  \n",
       "4                                                NaN            1  "
      ]
     },
     "execution_count": 4,
     "metadata": {},
     "output_type": "execute_result"
    }
   ],
   "source": [
    "#to display the top 5 rows\n",
    "df_data.head(5)"
   ]
  },
  {
   "cell_type": "code",
   "execution_count": 5,
   "metadata": {},
   "outputs": [
    {
     "data": {
      "text/html": [
       "<div>\n",
       "<style scoped>\n",
       "    .dataframe tbody tr th:only-of-type {\n",
       "        vertical-align: middle;\n",
       "    }\n",
       "\n",
       "    .dataframe tbody tr th {\n",
       "        vertical-align: top;\n",
       "    }\n",
       "\n",
       "    .dataframe thead th {\n",
       "        text-align: right;\n",
       "    }\n",
       "</style>\n",
       "<table border=\"1\" class=\"dataframe\">\n",
       "  <thead>\n",
       "    <tr style=\"text-align: right;\">\n",
       "      <th></th>\n",
       "      <th>Age</th>\n",
       "      <th>Condition</th>\n",
       "      <th>Date</th>\n",
       "      <th>Drug</th>\n",
       "      <th>DrugId</th>\n",
       "      <th>EaseofUse</th>\n",
       "      <th>Effectiveness</th>\n",
       "      <th>Reviews</th>\n",
       "      <th>Satisfaction</th>\n",
       "      <th>Sex</th>\n",
       "      <th>Sides</th>\n",
       "      <th>UsefulCount</th>\n",
       "    </tr>\n",
       "  </thead>\n",
       "  <tbody>\n",
       "    <tr>\n",
       "      <td>362801</td>\n",
       "      <td>55-64</td>\n",
       "      <td>Stop Smoking</td>\n",
       "      <td>11/14/2008</td>\n",
       "      <td>chantix</td>\n",
       "      <td>144470</td>\n",
       "      <td>5</td>\n",
       "      <td>5</td>\n",
       "      <td>I took the whole 12 weeks.I could have stopped...</td>\n",
       "      <td>5</td>\n",
       "      <td>Female</td>\n",
       "      <td>Nausea ,  headache ,  vomiting , drowsiness, g...</td>\n",
       "      <td>2</td>\n",
       "    </tr>\n",
       "    <tr>\n",
       "      <td>362802</td>\n",
       "      <td>NaN</td>\n",
       "      <td>Other</td>\n",
       "      <td>11/14/2008</td>\n",
       "      <td>chantix</td>\n",
       "      <td>144470</td>\n",
       "      <td>2</td>\n",
       "      <td>3</td>\n",
       "      <td>My dad strated taking Chantix about 1 month ag...</td>\n",
       "      <td>1</td>\n",
       "      <td>NaN</td>\n",
       "      <td>Nausea ,  headache ,  vomiting , drowsiness, g...</td>\n",
       "      <td>16</td>\n",
       "    </tr>\n",
       "    <tr>\n",
       "      <td>362803</td>\n",
       "      <td>25-34</td>\n",
       "      <td>Stop Smoking</td>\n",
       "      <td>11/13/2008</td>\n",
       "      <td>chantix</td>\n",
       "      <td>144470</td>\n",
       "      <td>2</td>\n",
       "      <td>4</td>\n",
       "      <td>As long as I was on chantix, I didn't smoke.  ...</td>\n",
       "      <td>2</td>\n",
       "      <td>Female</td>\n",
       "      <td>Nausea ,  headache ,  vomiting , drowsiness, g...</td>\n",
       "      <td>3</td>\n",
       "    </tr>\n",
       "    <tr>\n",
       "      <td>362804</td>\n",
       "      <td>55-64</td>\n",
       "      <td>Stop Smoking</td>\n",
       "      <td>11/13/2008</td>\n",
       "      <td>chantix</td>\n",
       "      <td>144470</td>\n",
       "      <td>5</td>\n",
       "      <td>5</td>\n",
       "      <td>Started this medication Oct 5th 2008. Haven't ...</td>\n",
       "      <td>5</td>\n",
       "      <td>Male</td>\n",
       "      <td>Nausea ,  headache ,  vomiting , drowsiness, g...</td>\n",
       "      <td>1</td>\n",
       "    </tr>\n",
       "    <tr>\n",
       "      <td>362805</td>\n",
       "      <td>45-54</td>\n",
       "      <td>Stop Smoking</td>\n",
       "      <td>11/12/2008</td>\n",
       "      <td>chantix</td>\n",
       "      <td>144470</td>\n",
       "      <td>4</td>\n",
       "      <td>5</td>\n",
       "      <td>One year ago, I tried Chantix and had to stop ...</td>\n",
       "      <td>5</td>\n",
       "      <td>Female</td>\n",
       "      <td>Nausea ,  headache ,  vomiting , drowsiness, g...</td>\n",
       "      <td>3</td>\n",
       "    </tr>\n",
       "  </tbody>\n",
       "</table>\n",
       "</div>"
      ],
      "text/plain": [
       "          Age     Condition        Date     Drug  DrugId  EaseofUse  \\\n",
       "362801  55-64  Stop Smoking  11/14/2008  chantix  144470          5   \n",
       "362802    NaN         Other  11/14/2008  chantix  144470          2   \n",
       "362803  25-34  Stop Smoking  11/13/2008  chantix  144470          2   \n",
       "362804  55-64  Stop Smoking  11/13/2008  chantix  144470          5   \n",
       "362805  45-54  Stop Smoking  11/12/2008  chantix  144470          4   \n",
       "\n",
       "        Effectiveness                                            Reviews  \\\n",
       "362801              5  I took the whole 12 weeks.I could have stopped...   \n",
       "362802              3  My dad strated taking Chantix about 1 month ag...   \n",
       "362803              4  As long as I was on chantix, I didn't smoke.  ...   \n",
       "362804              5  Started this medication Oct 5th 2008. Haven't ...   \n",
       "362805              5  One year ago, I tried Chantix and had to stop ...   \n",
       "\n",
       "        Satisfaction     Sex  \\\n",
       "362801             5  Female   \n",
       "362802             1     NaN   \n",
       "362803             2  Female   \n",
       "362804             5    Male   \n",
       "362805             5  Female   \n",
       "\n",
       "                                                    Sides  UsefulCount  \n",
       "362801  Nausea ,  headache ,  vomiting , drowsiness, g...            2  \n",
       "362802  Nausea ,  headache ,  vomiting , drowsiness, g...           16  \n",
       "362803  Nausea ,  headache ,  vomiting , drowsiness, g...            3  \n",
       "362804  Nausea ,  headache ,  vomiting , drowsiness, g...            1  \n",
       "362805  Nausea ,  headache ,  vomiting , drowsiness, g...            3  "
      ]
     },
     "execution_count": 5,
     "metadata": {},
     "output_type": "execute_result"
    }
   ],
   "source": [
    "#to display the bottom 5 rows\n",
    "df_data.tail(5)"
   ]
  },
  {
   "cell_type": "markdown",
   "metadata": {},
   "source": [
    "# 3. Checking the dataframe detail"
   ]
  },
  {
   "cell_type": "code",
   "execution_count": 6,
   "metadata": {},
   "outputs": [
    {
     "name": "stdout",
     "output_type": "stream",
     "text": [
      "<class 'pandas.core.frame.DataFrame'>\n",
      "RangeIndex: 362806 entries, 0 to 362805\n",
      "Data columns (total 12 columns):\n",
      "Age              350604 non-null object\n",
      "Condition        362763 non-null object\n",
      "Date             362806 non-null object\n",
      "Drug             362806 non-null object\n",
      "DrugId           362806 non-null int64\n",
      "EaseofUse        362806 non-null int64\n",
      "Effectiveness    362806 non-null int64\n",
      "Reviews          320945 non-null object\n",
      "Satisfaction     362806 non-null int64\n",
      "Sex              336269 non-null object\n",
      "Sides            345346 non-null object\n",
      "UsefulCount      362806 non-null int64\n",
      "dtypes: int64(5), object(7)\n",
      "memory usage: 33.2+ MB\n"
     ]
    }
   ],
   "source": [
    "df_data.info()"
   ]
  },
  {
   "cell_type": "markdown",
   "metadata": {},
   "source": [
    "# 4. Dropping irrelevant columns"
   ]
  },
  {
   "cell_type": "code",
   "execution_count": 7,
   "metadata": {},
   "outputs": [],
   "source": [
    "df_data=df_data.drop(['Date', 'DrugId', 'Reviews', 'Sides', 'UsefulCount'], axis=1)"
   ]
  },
  {
   "cell_type": "code",
   "execution_count": 8,
   "metadata": {},
   "outputs": [
    {
     "data": {
      "text/html": [
       "<div>\n",
       "<style scoped>\n",
       "    .dataframe tbody tr th:only-of-type {\n",
       "        vertical-align: middle;\n",
       "    }\n",
       "\n",
       "    .dataframe tbody tr th {\n",
       "        vertical-align: top;\n",
       "    }\n",
       "\n",
       "    .dataframe thead th {\n",
       "        text-align: right;\n",
       "    }\n",
       "</style>\n",
       "<table border=\"1\" class=\"dataframe\">\n",
       "  <thead>\n",
       "    <tr style=\"text-align: right;\">\n",
       "      <th></th>\n",
       "      <th>Age</th>\n",
       "      <th>Condition</th>\n",
       "      <th>Drug</th>\n",
       "      <th>EaseofUse</th>\n",
       "      <th>Effectiveness</th>\n",
       "      <th>Satisfaction</th>\n",
       "      <th>Sex</th>\n",
       "    </tr>\n",
       "  </thead>\n",
       "  <tbody>\n",
       "    <tr>\n",
       "      <td>88965</td>\n",
       "      <td>55-64</td>\n",
       "      <td>Type of Leukemia - Acute Lymphocytic Leukemia</td>\n",
       "      <td>methotrexate</td>\n",
       "      <td>2</td>\n",
       "      <td>4</td>\n",
       "      <td>3</td>\n",
       "      <td>Female</td>\n",
       "    </tr>\n",
       "    <tr>\n",
       "      <td>166726</td>\n",
       "      <td>65-74</td>\n",
       "      <td>Other</td>\n",
       "      <td>salex shampoo</td>\n",
       "      <td>3</td>\n",
       "      <td>1</td>\n",
       "      <td>1</td>\n",
       "      <td>Female</td>\n",
       "    </tr>\n",
       "    <tr>\n",
       "      <td>47901</td>\n",
       "      <td>45-54</td>\n",
       "      <td>Pain</td>\n",
       "      <td>nucynta</td>\n",
       "      <td>5</td>\n",
       "      <td>5</td>\n",
       "      <td>5</td>\n",
       "      <td>Female</td>\n",
       "    </tr>\n",
       "    <tr>\n",
       "      <td>165924</td>\n",
       "      <td>45-54</td>\n",
       "      <td>Chronic Trouble Sleeping</td>\n",
       "      <td>zzzquil</td>\n",
       "      <td>5</td>\n",
       "      <td>1</td>\n",
       "      <td>1</td>\n",
       "      <td>Female</td>\n",
       "    </tr>\n",
       "    <tr>\n",
       "      <td>138280</td>\n",
       "      <td>45-54</td>\n",
       "      <td>Chronic Trouble Sleeping</td>\n",
       "      <td>rozerem</td>\n",
       "      <td>5</td>\n",
       "      <td>1</td>\n",
       "      <td>1</td>\n",
       "      <td>Female</td>\n",
       "    </tr>\n",
       "  </tbody>\n",
       "</table>\n",
       "</div>"
      ],
      "text/plain": [
       "          Age                                      Condition           Drug  \\\n",
       "88965   55-64  Type of Leukemia - Acute Lymphocytic Leukemia   methotrexate   \n",
       "166726  65-74                                          Other  salex shampoo   \n",
       "47901   45-54                                           Pain        nucynta   \n",
       "165924  45-54                       Chronic Trouble Sleeping        zzzquil   \n",
       "138280  45-54                       Chronic Trouble Sleeping        rozerem   \n",
       "\n",
       "        EaseofUse  Effectiveness  Satisfaction     Sex  \n",
       "88965           2              4             3  Female  \n",
       "166726          3              1             1  Female  \n",
       "47901           5              5             5  Female  \n",
       "165924          5              1             1  Female  \n",
       "138280          5              1             1  Female  "
      ]
     },
     "execution_count": 8,
     "metadata": {},
     "output_type": "execute_result"
    }
   ],
   "source": [
    "#to display the random 5 rows\n",
    "df_data.sample(5)"
   ]
  },
  {
   "cell_type": "markdown",
   "metadata": {},
   "source": [
    "# 5. Renaming the columns"
   ]
  },
  {
   "cell_type": "code",
   "execution_count": 9,
   "metadata": {},
   "outputs": [
    {
     "data": {
      "text/html": [
       "<div>\n",
       "<style scoped>\n",
       "    .dataframe tbody tr th:only-of-type {\n",
       "        vertical-align: middle;\n",
       "    }\n",
       "\n",
       "    .dataframe tbody tr th {\n",
       "        vertical-align: top;\n",
       "    }\n",
       "\n",
       "    .dataframe thead th {\n",
       "        text-align: right;\n",
       "    }\n",
       "</style>\n",
       "<table border=\"1\" class=\"dataframe\">\n",
       "  <thead>\n",
       "    <tr style=\"text-align: right;\">\n",
       "      <th></th>\n",
       "      <th>Age</th>\n",
       "      <th>Condition</th>\n",
       "      <th>Drug</th>\n",
       "      <th>EaseofUse</th>\n",
       "      <th>Effectiveness</th>\n",
       "      <th>Rating</th>\n",
       "      <th>Sex</th>\n",
       "    </tr>\n",
       "  </thead>\n",
       "  <tbody>\n",
       "    <tr>\n",
       "      <td>0</td>\n",
       "      <td>75 or over</td>\n",
       "      <td>Stuffy Nose</td>\n",
       "      <td>25dph-7.5peh</td>\n",
       "      <td>5</td>\n",
       "      <td>5</td>\n",
       "      <td>5</td>\n",
       "      <td>Male</td>\n",
       "    </tr>\n",
       "    <tr>\n",
       "      <td>1</td>\n",
       "      <td>25-34</td>\n",
       "      <td>Cold Symptoms</td>\n",
       "      <td>25dph-7.5peh</td>\n",
       "      <td>5</td>\n",
       "      <td>5</td>\n",
       "      <td>5</td>\n",
       "      <td>Female</td>\n",
       "    </tr>\n",
       "    <tr>\n",
       "      <td>2</td>\n",
       "      <td>65-74</td>\n",
       "      <td>Other</td>\n",
       "      <td>warfarin (bulk) 100 % powder</td>\n",
       "      <td>2</td>\n",
       "      <td>3</td>\n",
       "      <td>3</td>\n",
       "      <td>Female</td>\n",
       "    </tr>\n",
       "    <tr>\n",
       "      <td>3</td>\n",
       "      <td>75 or over</td>\n",
       "      <td>Other</td>\n",
       "      <td>warfarin (bulk) 100 % powder</td>\n",
       "      <td>2</td>\n",
       "      <td>2</td>\n",
       "      <td>1</td>\n",
       "      <td>Female</td>\n",
       "    </tr>\n",
       "    <tr>\n",
       "      <td>4</td>\n",
       "      <td>35-44</td>\n",
       "      <td>Other</td>\n",
       "      <td>warfarin (bulk) 100 % powder</td>\n",
       "      <td>1</td>\n",
       "      <td>1</td>\n",
       "      <td>1</td>\n",
       "      <td>Male</td>\n",
       "    </tr>\n",
       "  </tbody>\n",
       "</table>\n",
       "</div>"
      ],
      "text/plain": [
       "          Age      Condition                          Drug  EaseofUse  \\\n",
       "0  75 or over    Stuffy Nose                  25dph-7.5peh          5   \n",
       "1       25-34  Cold Symptoms                  25dph-7.5peh          5   \n",
       "2       65-74          Other  warfarin (bulk) 100 % powder          2   \n",
       "3  75 or over          Other  warfarin (bulk) 100 % powder          2   \n",
       "4       35-44          Other  warfarin (bulk) 100 % powder          1   \n",
       "\n",
       "   Effectiveness  Rating     Sex  \n",
       "0              5       5    Male  \n",
       "1              5       5  Female  \n",
       "2              3       3  Female  \n",
       "3              2       1  Female  \n",
       "4              1       1    Male  "
      ]
     },
     "execution_count": 9,
     "metadata": {},
     "output_type": "execute_result"
    }
   ],
   "source": [
    "df_data=df_data.rename(columns={\"Satisfaction\": \"Rating\"})\n",
    "df_data.head(5)"
   ]
  },
  {
   "cell_type": "markdown",
   "metadata": {},
   "source": [
    "# 6. Dropping the unused rows"
   ]
  },
  {
   "cell_type": "code",
   "execution_count": 10,
   "metadata": {},
   "outputs": [
    {
     "data": {
      "text/plain": [
       "(53649, 7)"
      ]
     },
     "execution_count": 10,
     "metadata": {},
     "output_type": "execute_result"
    }
   ],
   "source": [
    "#selecting the rows of our target which is pain condition  \n",
    "df_data=df_data[df_data.Condition.str.contains('Pain', na=False)]\n",
    "df_data.shape"
   ]
  },
  {
   "cell_type": "code",
   "execution_count": 11,
   "metadata": {},
   "outputs": [
    {
     "data": {
      "text/html": [
       "<div>\n",
       "<style scoped>\n",
       "    .dataframe tbody tr th:only-of-type {\n",
       "        vertical-align: middle;\n",
       "    }\n",
       "\n",
       "    .dataframe tbody tr th {\n",
       "        vertical-align: top;\n",
       "    }\n",
       "\n",
       "    .dataframe thead th {\n",
       "        text-align: right;\n",
       "    }\n",
       "</style>\n",
       "<table border=\"1\" class=\"dataframe\">\n",
       "  <thead>\n",
       "    <tr style=\"text-align: right;\">\n",
       "      <th></th>\n",
       "      <th>Age</th>\n",
       "      <th>Condition</th>\n",
       "      <th>Drug</th>\n",
       "      <th>EaseofUse</th>\n",
       "      <th>Effectiveness</th>\n",
       "      <th>Rating</th>\n",
       "      <th>Sex</th>\n",
       "    </tr>\n",
       "  </thead>\n",
       "  <tbody>\n",
       "    <tr>\n",
       "      <td>286209</td>\n",
       "      <td>55-64</td>\n",
       "      <td>Pain</td>\n",
       "      <td>hydrocodone-acetaminophen</td>\n",
       "      <td>5</td>\n",
       "      <td>4</td>\n",
       "      <td>4</td>\n",
       "      <td>Male</td>\n",
       "    </tr>\n",
       "    <tr>\n",
       "      <td>55314</td>\n",
       "      <td>45-54</td>\n",
       "      <td>Pain</td>\n",
       "      <td>oxycodone tablet, oral only</td>\n",
       "      <td>4</td>\n",
       "      <td>3</td>\n",
       "      <td>3</td>\n",
       "      <td>Male</td>\n",
       "    </tr>\n",
       "    <tr>\n",
       "      <td>183500</td>\n",
       "      <td>35-44</td>\n",
       "      <td>Pain</td>\n",
       "      <td>tramadol hcl er</td>\n",
       "      <td>4</td>\n",
       "      <td>3</td>\n",
       "      <td>3</td>\n",
       "      <td>Female</td>\n",
       "    </tr>\n",
       "    <tr>\n",
       "      <td>50246</td>\n",
       "      <td>35-44</td>\n",
       "      <td>Pain</td>\n",
       "      <td>oxycodone hcl solution</td>\n",
       "      <td>2</td>\n",
       "      <td>3</td>\n",
       "      <td>2</td>\n",
       "      <td>Female</td>\n",
       "    </tr>\n",
       "    <tr>\n",
       "      <td>341999</td>\n",
       "      <td>75 or over</td>\n",
       "      <td>Leg Pain when Walking; Absent at Rest</td>\n",
       "      <td>cilostazol</td>\n",
       "      <td>5</td>\n",
       "      <td>5</td>\n",
       "      <td>5</td>\n",
       "      <td>NaN</td>\n",
       "    </tr>\n",
       "  </tbody>\n",
       "</table>\n",
       "</div>"
      ],
      "text/plain": [
       "               Age                              Condition  \\\n",
       "286209       55-64                                   Pain   \n",
       "55314        45-54                                   Pain   \n",
       "183500       35-44                                   Pain   \n",
       "50246        35-44                                   Pain   \n",
       "341999  75 or over  Leg Pain when Walking; Absent at Rest   \n",
       "\n",
       "                               Drug  EaseofUse  Effectiveness  Rating     Sex  \n",
       "286209    hydrocodone-acetaminophen          5              4       4    Male  \n",
       "55314   oxycodone tablet, oral only          4              3       3    Male  \n",
       "183500              tramadol hcl er          4              3       3  Female  \n",
       "50246        oxycodone hcl solution          2              3       2  Female  \n",
       "341999                   cilostazol          5              5       5     NaN  "
      ]
     },
     "execution_count": 11,
     "metadata": {},
     "output_type": "execute_result"
    }
   ],
   "source": [
    "#to display the random 5 rows\n",
    "df_data.sample(5)"
   ]
  },
  {
   "cell_type": "markdown",
   "metadata": {},
   "source": [
    "# 7. Data Cleaning and Manupulation"
   ]
  },
  {
   "cell_type": "code",
   "execution_count": 12,
   "metadata": {},
   "outputs": [
    {
     "data": {
      "text/plain": [
       "Age              1905\n",
       "Condition           0\n",
       "Drug                0\n",
       "EaseofUse           0\n",
       "Effectiveness       0\n",
       "Rating              0\n",
       "Sex              3698\n",
       "dtype: int64"
      ]
     },
     "execution_count": 12,
     "metadata": {},
     "output_type": "execute_result"
    }
   ],
   "source": [
    "#calculate the total null vaues in each column:\n",
    "df_data.isna().sum()"
   ]
  },
  {
   "cell_type": "code",
   "execution_count": 13,
   "metadata": {},
   "outputs": [
    {
     "data": {
      "text/plain": [
       "(49313, 7)"
      ]
     },
     "execution_count": 13,
     "metadata": {},
     "output_type": "execute_result"
    }
   ],
   "source": [
    "#since Age and Sex are both the determining variable through out this project, \n",
    "#they cant be null, hence drop the null values from data set\n",
    "df_data.dropna(inplace=True)\n",
    "df_data.shape"
   ]
  },
  {
   "cell_type": "code",
   "execution_count": 14,
   "metadata": {},
   "outputs": [
    {
     "data": {
      "text/plain": [
       "606"
      ]
     },
     "execution_count": 14,
     "metadata": {},
     "output_type": "execute_result"
    }
   ],
   "source": [
    "#check types drug used for pain reliever\n",
    "df_data['Drug'].nunique()"
   ]
  },
  {
   "cell_type": "code",
   "execution_count": 15,
   "metadata": {},
   "outputs": [
    {
     "data": {
      "text/plain": [
       "45-54         13966\n",
       "55-64         11851\n",
       "35-44          8579\n",
       "25-34          5545\n",
       "65-74          5215\n",
       "19-24          1962\n",
       "75 or over     1738\n",
       "13-18           410\n",
       "7-12             21\n",
       "3-6              14\n",
       "0-2              12\n",
       "Name: Age, dtype: int64"
      ]
     },
     "execution_count": 15,
     "metadata": {},
     "output_type": "execute_result"
    }
   ],
   "source": [
    "#check age demography\n",
    "df_data.Age.value_counts()"
   ]
  },
  {
   "cell_type": "markdown",
   "metadata": {},
   "source": [
    "# 8 Univariate Data Analysis"
   ]
  },
  {
   "cell_type": "markdown",
   "metadata": {},
   "source": [
    "##### Extracting Female users across Age group"
   ]
  },
  {
   "cell_type": "code",
   "execution_count": 16,
   "metadata": {},
   "outputs": [],
   "source": [
    "#Exrtacting female users\n",
    "df_female=df_data[df_data['Sex']=='Female']"
   ]
  },
  {
   "cell_type": "code",
   "execution_count": 17,
   "metadata": {},
   "outputs": [
    {
     "data": {
      "text/html": [
       "<div>\n",
       "<style scoped>\n",
       "    .dataframe tbody tr th:only-of-type {\n",
       "        vertical-align: middle;\n",
       "    }\n",
       "\n",
       "    .dataframe tbody tr th {\n",
       "        vertical-align: top;\n",
       "    }\n",
       "\n",
       "    .dataframe thead th {\n",
       "        text-align: right;\n",
       "    }\n",
       "</style>\n",
       "<table border=\"1\" class=\"dataframe\">\n",
       "  <thead>\n",
       "    <tr style=\"text-align: right;\">\n",
       "      <th></th>\n",
       "      <th>EaseofUse</th>\n",
       "      <th>Effectiveness</th>\n",
       "      <th>Rating</th>\n",
       "    </tr>\n",
       "    <tr>\n",
       "      <th>Age</th>\n",
       "      <th></th>\n",
       "      <th></th>\n",
       "      <th></th>\n",
       "    </tr>\n",
       "  </thead>\n",
       "  <tbody>\n",
       "    <tr>\n",
       "      <td>0-2</td>\n",
       "      <td>2.714286</td>\n",
       "      <td>3.285714</td>\n",
       "      <td>3.142857</td>\n",
       "    </tr>\n",
       "    <tr>\n",
       "      <td>13-18</td>\n",
       "      <td>4.016892</td>\n",
       "      <td>3.307432</td>\n",
       "      <td>2.912162</td>\n",
       "    </tr>\n",
       "    <tr>\n",
       "      <td>19-24</td>\n",
       "      <td>4.210140</td>\n",
       "      <td>3.625276</td>\n",
       "      <td>3.243204</td>\n",
       "    </tr>\n",
       "    <tr>\n",
       "      <td>25-34</td>\n",
       "      <td>4.112437</td>\n",
       "      <td>3.521612</td>\n",
       "      <td>3.248475</td>\n",
       "    </tr>\n",
       "    <tr>\n",
       "      <td>3-6</td>\n",
       "      <td>3.777778</td>\n",
       "      <td>3.666667</td>\n",
       "      <td>3.444444</td>\n",
       "    </tr>\n",
       "    <tr>\n",
       "      <td>35-44</td>\n",
       "      <td>4.111505</td>\n",
       "      <td>3.493590</td>\n",
       "      <td>3.276991</td>\n",
       "    </tr>\n",
       "    <tr>\n",
       "      <td>45-54</td>\n",
       "      <td>4.129394</td>\n",
       "      <td>3.474443</td>\n",
       "      <td>3.241712</td>\n",
       "    </tr>\n",
       "    <tr>\n",
       "      <td>55-64</td>\n",
       "      <td>4.177722</td>\n",
       "      <td>3.509804</td>\n",
       "      <td>3.274371</td>\n",
       "    </tr>\n",
       "    <tr>\n",
       "      <td>65-74</td>\n",
       "      <td>4.188132</td>\n",
       "      <td>3.509292</td>\n",
       "      <td>3.289534</td>\n",
       "    </tr>\n",
       "    <tr>\n",
       "      <td>7-12</td>\n",
       "      <td>4.000000</td>\n",
       "      <td>3.900000</td>\n",
       "      <td>3.400000</td>\n",
       "    </tr>\n",
       "    <tr>\n",
       "      <td>75 or over</td>\n",
       "      <td>4.046103</td>\n",
       "      <td>3.331504</td>\n",
       "      <td>3.126235</td>\n",
       "    </tr>\n",
       "  </tbody>\n",
       "</table>\n",
       "</div>"
      ],
      "text/plain": [
       "            EaseofUse  Effectiveness    Rating\n",
       "Age                                           \n",
       "0-2          2.714286       3.285714  3.142857\n",
       "13-18        4.016892       3.307432  2.912162\n",
       "19-24        4.210140       3.625276  3.243204\n",
       "25-34        4.112437       3.521612  3.248475\n",
       "3-6          3.777778       3.666667  3.444444\n",
       "35-44        4.111505       3.493590  3.276991\n",
       "45-54        4.129394       3.474443  3.241712\n",
       "55-64        4.177722       3.509804  3.274371\n",
       "65-74        4.188132       3.509292  3.289534\n",
       "7-12         4.000000       3.900000  3.400000\n",
       "75 or over   4.046103       3.331504  3.126235"
      ]
     },
     "execution_count": 17,
     "metadata": {},
     "output_type": "execute_result"
    }
   ],
   "source": [
    "#The average ease of use, effectivess and rating for all age group of female\n",
    "df_female.groupby('Age').mean()"
   ]
  },
  {
   "cell_type": "code",
   "execution_count": 18,
   "metadata": {},
   "outputs": [
    {
     "data": {
      "text/plain": [
       "<matplotlib.axes._subplots.AxesSubplot at 0x208d53fb8c8>"
      ]
     },
     "execution_count": 18,
     "metadata": {},
     "output_type": "execute_result"
    },
    {
     "data": {
      "image/png": "[encoded data removed]",
      "text/plain": [
       "<Figure size 432x288 with 1 Axes>"
      ]
     },
     "metadata": {
      "needs_background": "light"
     },
     "output_type": "display_data"
    }
   ],
   "source": [
    "#univariate data (plot of age distribution) of female\n",
    "df_female.groupby('Age')['Sex'].count().plot(kind='bar')"
   ]
  },
  {
   "cell_type": "code",
   "execution_count": 19,
   "metadata": {},
   "outputs": [],
   "source": [
    "#Exrtacting female users\n",
    "df_male=df_data[df_data['Sex']=='Male']"
   ]
  },
  {
   "cell_type": "code",
   "execution_count": 20,
   "metadata": {},
   "outputs": [
    {
     "data": {
      "text/html": [
       "<div>\n",
       "<style scoped>\n",
       "    .dataframe tbody tr th:only-of-type {\n",
       "        vertical-align: middle;\n",
       "    }\n",
       "\n",
       "    .dataframe tbody tr th {\n",
       "        vertical-align: top;\n",
       "    }\n",
       "\n",
       "    .dataframe thead th {\n",
       "        text-align: right;\n",
       "    }\n",
       "</style>\n",
       "<table border=\"1\" class=\"dataframe\">\n",
       "  <thead>\n",
       "    <tr style=\"text-align: right;\">\n",
       "      <th></th>\n",
       "      <th>EaseofUse</th>\n",
       "      <th>Effectiveness</th>\n",
       "      <th>Rating</th>\n",
       "    </tr>\n",
       "    <tr>\n",
       "      <th>Age</th>\n",
       "      <th></th>\n",
       "      <th></th>\n",
       "      <th></th>\n",
       "    </tr>\n",
       "  </thead>\n",
       "  <tbody>\n",
       "    <tr>\n",
       "      <td>0-2</td>\n",
       "      <td>4.200000</td>\n",
       "      <td>4.400000</td>\n",
       "      <td>4.200000</td>\n",
       "    </tr>\n",
       "    <tr>\n",
       "      <td>13-18</td>\n",
       "      <td>4.263158</td>\n",
       "      <td>3.666667</td>\n",
       "      <td>3.377193</td>\n",
       "    </tr>\n",
       "    <tr>\n",
       "      <td>19-24</td>\n",
       "      <td>4.276206</td>\n",
       "      <td>3.668885</td>\n",
       "      <td>3.430948</td>\n",
       "    </tr>\n",
       "    <tr>\n",
       "      <td>25-34</td>\n",
       "      <td>4.310598</td>\n",
       "      <td>3.673055</td>\n",
       "      <td>3.483089</td>\n",
       "    </tr>\n",
       "    <tr>\n",
       "      <td>3-6</td>\n",
       "      <td>2.000000</td>\n",
       "      <td>2.800000</td>\n",
       "      <td>2.600000</td>\n",
       "    </tr>\n",
       "    <tr>\n",
       "      <td>35-44</td>\n",
       "      <td>4.313844</td>\n",
       "      <td>3.701999</td>\n",
       "      <td>3.528480</td>\n",
       "    </tr>\n",
       "    <tr>\n",
       "      <td>45-54</td>\n",
       "      <td>4.225793</td>\n",
       "      <td>3.580958</td>\n",
       "      <td>3.416010</td>\n",
       "    </tr>\n",
       "    <tr>\n",
       "      <td>55-64</td>\n",
       "      <td>4.289270</td>\n",
       "      <td>3.570172</td>\n",
       "      <td>3.407725</td>\n",
       "    </tr>\n",
       "    <tr>\n",
       "      <td>65-74</td>\n",
       "      <td>4.198790</td>\n",
       "      <td>3.440410</td>\n",
       "      <td>3.297020</td>\n",
       "    </tr>\n",
       "    <tr>\n",
       "      <td>7-12</td>\n",
       "      <td>3.818182</td>\n",
       "      <td>4.090909</td>\n",
       "      <td>4.181818</td>\n",
       "    </tr>\n",
       "    <tr>\n",
       "      <td>75 or over</td>\n",
       "      <td>4.241838</td>\n",
       "      <td>3.451028</td>\n",
       "      <td>3.344619</td>\n",
       "    </tr>\n",
       "  </tbody>\n",
       "</table>\n",
       "</div>"
      ],
      "text/plain": [
       "            EaseofUse  Effectiveness    Rating\n",
       "Age                                           \n",
       "0-2          4.200000       4.400000  4.200000\n",
       "13-18        4.263158       3.666667  3.377193\n",
       "19-24        4.276206       3.668885  3.430948\n",
       "25-34        4.310598       3.673055  3.483089\n",
       "3-6          2.000000       2.800000  2.600000\n",
       "35-44        4.313844       3.701999  3.528480\n",
       "45-54        4.225793       3.580958  3.416010\n",
       "55-64        4.289270       3.570172  3.407725\n",
       "65-74        4.198790       3.440410  3.297020\n",
       "7-12         3.818182       4.090909  4.181818\n",
       "75 or over   4.241838       3.451028  3.344619"
      ]
     },
     "execution_count": 20,
     "metadata": {},
     "output_type": "execute_result"
    }
   ],
   "source": [
    "#The average ease of use, effectivess and rating for all age group of male\n",
    "df_male.groupby('Age').mean()"
   ]
  },
  {
   "cell_type": "code",
   "execution_count": 21,
   "metadata": {},
   "outputs": [
    {
     "data": {
      "text/plain": [
       "<matplotlib.axes._subplots.AxesSubplot at 0x208d54c9288>"
      ]
     },
     "execution_count": 21,
     "metadata": {},
     "output_type": "execute_result"
    },
    {
     "data": {
      "image/png": "[encoded data removed]",
      "text/plain": [
       "<Figure size 432x288 with 1 Axes>"
      ]
     },
     "metadata": {
      "needs_background": "light"
     },
     "output_type": "display_data"
    }
   ],
   "source": [
    "#univariate data (plot of age distribution) of male\n",
    "df_male.groupby('Age')['Sex'].count().plot(kind='bar')"
   ]
  },
  {
   "cell_type": "code",
   "execution_count": null,
   "metadata": {},
   "outputs": [],
   "source": []
  },
  {
   "cell_type": "markdown",
   "metadata": {},
   "source": [
    "# 9. Bivariate Data Analysis (Frequency and Density Histograms Plots)"
   ]
  },
  {
   "cell_type": "markdown",
   "metadata": {},
   "source": [
    "#### 9.1 Frequency Hinstogram"
   ]
  },
  {
   "cell_type": "markdown",
   "metadata": {},
   "source": [
    "##### Frequency Histogram of top five Drug by Age and Sex"
   ]
  },
  {
   "cell_type": "code",
   "execution_count": 22,
   "metadata": {},
   "outputs": [],
   "source": [
    "#replace age range with approximate average age for simplicity\n",
    "df_data['Age'].replace(['0-2','3-6','7-12','13-18','19-24','25-34','35-44','45-54','55-64','65-74','75 or over'],\n",
    "                  [1,5,10,15,20,30,40,50,60,70,80], inplace=True)"
   ]
  },
  {
   "cell_type": "code",
   "execution_count": 23,
   "metadata": {},
   "outputs": [
    {
     "data": {
      "text/html": [
       "<div>\n",
       "<style scoped>\n",
       "    .dataframe tbody tr th:only-of-type {\n",
       "        vertical-align: middle;\n",
       "    }\n",
       "\n",
       "    .dataframe tbody tr th {\n",
       "        vertical-align: top;\n",
       "    }\n",
       "\n",
       "    .dataframe thead th {\n",
       "        text-align: right;\n",
       "    }\n",
       "</style>\n",
       "<table border=\"1\" class=\"dataframe\">\n",
       "  <thead>\n",
       "    <tr style=\"text-align: right;\">\n",
       "      <th></th>\n",
       "      <th>Age</th>\n",
       "      <th>Condition</th>\n",
       "      <th>Drug</th>\n",
       "      <th>EaseofUse</th>\n",
       "      <th>Effectiveness</th>\n",
       "      <th>Rating</th>\n",
       "      <th>Sex</th>\n",
       "    </tr>\n",
       "  </thead>\n",
       "  <tbody>\n",
       "    <tr>\n",
       "      <td>58339</td>\n",
       "      <td>50</td>\n",
       "      <td>Pain</td>\n",
       "      <td>oxycodone hcl er</td>\n",
       "      <td>5</td>\n",
       "      <td>5</td>\n",
       "      <td>5</td>\n",
       "      <td>Female</td>\n",
       "    </tr>\n",
       "    <tr>\n",
       "      <td>286820</td>\n",
       "      <td>40</td>\n",
       "      <td>Pain</td>\n",
       "      <td>hydrocodone-acetaminophen</td>\n",
       "      <td>5</td>\n",
       "      <td>2</td>\n",
       "      <td>2</td>\n",
       "      <td>Female</td>\n",
       "    </tr>\n",
       "    <tr>\n",
       "      <td>332444</td>\n",
       "      <td>70</td>\n",
       "      <td>Rheumatic Disease causing Pain &amp; Stiffness in ...</td>\n",
       "      <td>diclofenac submicronized capsule</td>\n",
       "      <td>5</td>\n",
       "      <td>3</td>\n",
       "      <td>2</td>\n",
       "      <td>Male</td>\n",
       "    </tr>\n",
       "    <tr>\n",
       "      <td>189248</td>\n",
       "      <td>40</td>\n",
       "      <td>Pain</td>\n",
       "      <td>tramadol hcl</td>\n",
       "      <td>4</td>\n",
       "      <td>1</td>\n",
       "      <td>1</td>\n",
       "      <td>Female</td>\n",
       "    </tr>\n",
       "    <tr>\n",
       "      <td>168203</td>\n",
       "      <td>50</td>\n",
       "      <td>Pain</td>\n",
       "      <td>zipsor</td>\n",
       "      <td>5</td>\n",
       "      <td>5</td>\n",
       "      <td>5</td>\n",
       "      <td>Male</td>\n",
       "    </tr>\n",
       "  </tbody>\n",
       "</table>\n",
       "</div>"
      ],
      "text/plain": [
       "        Age                                          Condition  \\\n",
       "58339    50                                               Pain   \n",
       "286820   40                                               Pain   \n",
       "332444   70  Rheumatic Disease causing Pain & Stiffness in ...   \n",
       "189248   40                                               Pain   \n",
       "168203   50                                               Pain   \n",
       "\n",
       "                                    Drug  EaseofUse  Effectiveness  Rating  \\\n",
       "58339                   oxycodone hcl er          5              5       5   \n",
       "286820         hydrocodone-acetaminophen          5              2       2   \n",
       "332444  diclofenac submicronized capsule          5              3       2   \n",
       "189248                      tramadol hcl          4              1       1   \n",
       "168203                            zipsor          5              5       5   \n",
       "\n",
       "           Sex  \n",
       "58339   Female  \n",
       "286820  Female  \n",
       "332444    Male  \n",
       "189248  Female  \n",
       "168203    Male  "
      ]
     },
     "execution_count": 23,
     "metadata": {},
     "output_type": "execute_result"
    }
   ],
   "source": [
    "df_data.sample(5)"
   ]
  },
  {
   "cell_type": "code",
   "execution_count": null,
   "metadata": {},
   "outputs": [],
   "source": [
    "#Frequency Histogram"
   ]
  },
  {
   "cell_type": "code",
   "execution_count": 24,
   "metadata": {},
   "outputs": [
    {
     "data": {
      "text/plain": [
       "Text(0, 0.5, 'Drug Frequency')"
      ]
     },
     "execution_count": 24,
     "metadata": {},
     "output_type": "execute_result"
    },
    {
     "data": {
      "image/png": "[encoded data removed]",
      "text/plain": [
       "<Figure size 800x560 with 1 Axes>"
      ]
     },
     "metadata": {
      "needs_background": "light"
     },
     "output_type": "display_data"
    }
   ],
   "source": [
    "# Extract top five drugs used the most \n",
    "drug_data=pd.Series(df_data.groupby('Drug')['Drug'].count())\n",
    "drug_data=drug_data.sort_values(ascending=False)\n",
    "top_five=drug_data.index[:5]\n",
    "\n",
    "# Subset to the top 5 drugs\n",
    "top_five_drug=df_data[df_data['Drug'].isin(top_five)]\n",
    "\n",
    "#figure size\n",
    "plt.figure(figsize=(10,7), dpi= 80)\n",
    "bins=[0,10,20,30,40,50,60,70,80, 90]\n",
    "\n",
    "# Iterate through each of the five drugs\n",
    "for medicine in top_five:\n",
    "    subset=top_five_drug[top_five_drug['Drug']==medicine]\n",
    "    plt.hist(subset['Age'],bins=bins,alpha=0.7, edgecolor='k',\n",
    "                label=medicine)\n",
    "plt.xlim(0,90)    \n",
    "plt.legend()\n",
    "plt.title('Histogram of Drugs Frequency by Age'); plt.xlabel('Age'); plt.ylabel('Drug Frequency')"
   ]
  },
  {
   "cell_type": "code",
   "execution_count": 26,
   "metadata": {},
   "outputs": [],
   "source": [
    "df_female=df_data[df_data['Sex']=='Female']"
   ]
  },
  {
   "cell_type": "code",
   "execution_count": 27,
   "metadata": {},
   "outputs": [],
   "source": [
    "df_male=df_data[df_data['Sex']=='Male']"
   ]
  },
  {
   "cell_type": "code",
   "execution_count": 28,
   "metadata": {},
   "outputs": [
    {
     "data": {
      "text/plain": [
       "Text(0, 0.5, 'Drug Frequency')"
      ]
     },
     "execution_count": 28,
     "metadata": {},
     "output_type": "execute_result"
    },
    {
     "data": {
      "image/png": "[encoded data removed]",
      "text/plain": [
       "<Figure size 800x560 with 1 Axes>"
      ]
     },
     "metadata": {
      "needs_background": "light"
     },
     "output_type": "display_data"
    }
   ],
   "source": [
    "# Extract top five drugs used the most among Female users\n",
    "drug_female=pd.Series(df_female.groupby('Drug')['Drug'].count())\n",
    "drug_female=drug_female.sort_values(ascending=False)\n",
    "top_five_female=drug_female.index[:5]\n",
    "\n",
    "# Subset to the top 5 drugs\n",
    "top_five_drug_female=df_female[df_female['Drug'].isin(top_five_female)]\n",
    "\n",
    "#figure size\n",
    "plt.figure(figsize=(10,7), dpi= 80)\n",
    "bins=[0,10,20,30,40,50,60,70,80, 90]\n",
    "\n",
    "# Iterate through each of the five drugs\n",
    "for medicine in top_five_female:\n",
    "    subset=top_five_drug_female[top_five_drug_female['Drug']==medicine]\n",
    "    plt.hist(subset['Age'],bins=bins,alpha=0.7, edgecolor='k',\n",
    "                label=medicine)\n",
    "plt.xlim(0,90)    \n",
    "plt.legend()\n",
    "plt.title('Histogram of Drugs Frequency Females by Age'); plt.xlabel('Age'); plt.ylabel('Drug Frequency')"
   ]
  },
  {
   "cell_type": "code",
   "execution_count": 29,
   "metadata": {},
   "outputs": [
    {
     "data": {
      "text/plain": [
       "Text(0, 0.5, 'Drug Frequency')"
      ]
     },
     "execution_count": 29,
     "metadata": {},
     "output_type": "execute_result"
    },
    {
     "data": {
      "image/png": "[encoded data removed]",
      "text/plain": [
       "<Figure size 800x560 with 1 Axes>"
      ]
     },
     "metadata": {
      "needs_background": "light"
     },
     "output_type": "display_data"
    }
   ],
   "source": [
    "# Extract top five drugs used the most among male users\n",
    "drug_male=pd.Series(df_male.groupby('Drug')['Drug'].count())\n",
    "drug_male=drug_male.sort_values(ascending=False)\n",
    "top_five_male=drug_male.index[:5]\n",
    "\n",
    "# Subset to the top 5 drugs\n",
    "top_five_drug_male=df_male[df_male['Drug'].isin(top_five_male)]\n",
    "\n",
    "#figure size\n",
    "plt.figure(figsize=(10,7), dpi= 80)\n",
    "bins=[0,10,20,30,40,50,60,70,80, 90]\n",
    "\n",
    "# Iterate through each of the five drugs\n",
    "for medicine in top_five:\n",
    "    subset=top_five_drug_male[top_five_drug_male['Drug']==medicine]\n",
    "    plt.hist(subset['Age'],bins=bins,alpha=0.7, edgecolor='k',\n",
    "                label=medicine)\n",
    "plt.xlim(0,90)    \n",
    "plt.legend()\n",
    "plt.title('Histogram of Drugs Frequency Males by Age'); plt.xlabel('Age'); plt.ylabel('Drug Frequency')"
   ]
  },
  {
   "cell_type": "markdown",
   "metadata": {},
   "source": [
    "#### Frequency Histogram of EaseofUse for top five drugs"
   ]
  },
  {
   "cell_type": "code",
   "execution_count": 30,
   "metadata": {},
   "outputs": [
    {
     "data": {
      "text/plain": [
       "Text(0.5, 1.0, 'Histogram of EaseofUse Frequency')"
      ]
     },
     "execution_count": 30,
     "metadata": {},
     "output_type": "execute_result"
    },
    {
     "data": {
      "image/png": "[encoded data removed]",
      "text/plain": [
       "<Figure size 432x288 with 1 Axes>"
      ]
     },
     "metadata": {
      "needs_background": "light"
     },
     "output_type": "display_data"
    }
   ],
   "source": [
    "# Extract EaseofUse for top five drugs used  \n",
    "x1 = list(df_data[df_data['Drug'] == 'hydrocodone-acetaminophen']['EaseofUse'])\n",
    "x2 = list(df_data[df_data['Drug'] == 'tramadol hcl']['EaseofUse'])\n",
    "x3 = list(df_data[df_data['Drug'] == 'tramadol hcl er']['EaseofUse'])\n",
    "x4 = list(df_data[df_data['Drug'] == 'lyrica']['EaseofUse'])\n",
    "x5 = list(df_data[df_data['Drug'] == 'oxycodone tablet, oral only']['EaseofUse'])\n",
    "\n",
    "# Assign colors for each Drug and EaseofUse\n",
    "colors = ['#E69F00', '#56B4E9', '#F0E442', '#009E73', '#D55E00']\n",
    "druglist = ['hydrocodone-acetaminophen.', 'tramadol hcl', 'tramadol hcl er',\n",
    "         'lyrica', 'oxycodone tablet, oral only']\n",
    "\n",
    "plt.hist([x1, x2, x3, x4, x5], bins = 5, edgecolor='k',\n",
    "         color = colors, label=druglist)\n",
    "\n",
    "# Plot formatting\n",
    "plt.legend()\n",
    "plt.xlabel('EaseofUse')\n",
    "plt.ylabel('EaseofUse Frequency')\n",
    "plt.title('Histogram of EaseofUse Frequency')"
   ]
  },
  {
   "cell_type": "code",
   "execution_count": null,
   "metadata": {},
   "outputs": [],
   "source": [
    "#### Frequency Histogram of EaseofUse for top five drugs among Female Users"
   ]
  },
  {
   "cell_type": "code",
   "execution_count": 35,
   "metadata": {},
   "outputs": [
    {
     "data": {
      "text/plain": [
       "Text(0.5, 1.0, 'Histogram of EaseofUse Frequency of Female')"
      ]
     },
     "execution_count": 35,
     "metadata": {},
     "output_type": "execute_result"
    },
    {
     "data": {
      "image/png": "[encoded data removed]",
      "text/plain": [
       "<Figure size 432x288 with 1 Axes>"
      ]
     },
     "metadata": {
      "needs_background": "light"
     },
     "output_type": "display_data"
    }
   ],
   "source": [
    "# Extract EaseofUse for top five drugs used  \n",
    "x1 = list(df_female[df_female['Drug'] == 'hydrocodone-acetaminophen']['EaseofUse'])\n",
    "x2 = list(df_female[df_female['Drug'] == 'tramadol hcl']['EaseofUse'])\n",
    "x3 = list(df_female[df_female['Drug'] == 'tramadol hcl er']['EaseofUse'])\n",
    "x4 = list(df_female[df_female['Drug'] == 'lyrica']['EaseofUse'])\n",
    "x5 = list(df_female[df_female['Drug'] == 'oxycodone tablet, oral only']['EaseofUse'])\n",
    "\n",
    "# Assign colors for each Drug and EaseofUse\n",
    "colors = ['#E69F00', '#56B4E9', '#F0E442', '#009E73', '#D55E00']\n",
    "druglist = ['hydrocodone-acetaminophen.', 'tramadol hcl', 'tramadol hcl er',\n",
    "         'lyrica', 'oxycodone tablet, oral only']\n",
    "\n",
    "plt.hist([x1, x2, x3, x4, x5], bins = 5, edgecolor='k',\n",
    "         color = colors, label=druglist)\n",
    "\n",
    "# Plot formatting\n",
    "plt.legend()\n",
    "plt.xlabel('EaseofUse')\n",
    "plt.ylabel('EaseofUse Frequency of Female')\n",
    "plt.title('Histogram of EaseofUse Frequency of Female')"
   ]
  },
  {
   "cell_type": "code",
   "execution_count": null,
   "metadata": {},
   "outputs": [],
   "source": [
    "#### Frequency Histogram of EaseofUse for top five drugs among Male Users"
   ]
  },
  {
   "cell_type": "code",
   "execution_count": 38,
   "metadata": {},
   "outputs": [
    {
     "data": {
      "text/plain": [
       "Text(0.5, 1.0, 'Histogram of EaseofUse Frequency of Male')"
      ]
     },
     "execution_count": 38,
     "metadata": {},
     "output_type": "execute_result"
    },
    {
     "data": {
      "image/png": "[encoded data removed]",
      "text/plain": [
       "<Figure size 432x288 with 1 Axes>"
      ]
     },
     "metadata": {
      "needs_background": "light"
     },
     "output_type": "display_data"
    }
   ],
   "source": [
    "# Extract EaseofUse for top five drugs used  \n",
    "x1 = list(df_male[df_male['Drug'] == 'hydrocodone-acetaminophen']['EaseofUse'])\n",
    "x2 = list(df_male[df_male['Drug'] == 'tramadol hcl']['EaseofUse'])\n",
    "x3 = list(df_male[df_male['Drug'] == 'tramadol hcl er']['EaseofUse'])\n",
    "x4 = list(df_male[df_male['Drug'] == 'lyrica']['EaseofUse'])\n",
    "x5 = list(df_male[df_male['Drug'] == 'oxycodone tablet, oral only']['EaseofUse'])\n",
    "\n",
    "# Assign colors for each Drug and EaseofUse\n",
    "colors = ['#E69F00', '#56B4E9', '#F0E442', '#009E73', '#D55E00']\n",
    "druglist = ['hydrocodone-acetaminophen.', 'tramadol hcl', 'tramadol hcl er',\n",
    "         'lyrica', 'oxycodone tablet, oral only']\n",
    "\n",
    "plt.hist([x1, x2, x3, x4, x5], bins = 5, edgecolor='k',\n",
    "         color = colors, label=druglist)\n",
    "\n",
    "# Plot formatting\n",
    "plt.legend()\n",
    "plt.xlabel('EaseofUse of male')\n",
    "plt.ylabel('EaseofUse Frequency of Male')\n",
    "plt.title('Histogram of EaseofUse Frequency of Male')"
   ]
  },
  {
   "cell_type": "code",
   "execution_count": null,
   "metadata": {},
   "outputs": [],
   "source": [
    "### Frequency Histogram of Effectiveness for top five drugs"
   ]
  },
  {
   "cell_type": "code",
   "execution_count": 33,
   "metadata": {},
   "outputs": [
    {
     "data": {
      "text/plain": [
       "Text(0.5, 1.0, 'Histogram of Effectiveness Frequency')"
      ]
     },
     "execution_count": 33,
     "metadata": {},
     "output_type": "execute_result"
    },
    {
     "data": {
      "image/png": "[encoded data removed]",
      "text/plain": [
       "<Figure size 432x288 with 1 Axes>"
      ]
     },
     "metadata": {
      "needs_background": "light"
     },
     "output_type": "display_data"
    }
   ],
   "source": [
    "# Extract Effectiveness for top five drugs used  \n",
    "x6 = list(df_data[df_data['Drug'] == 'hydrocodone-acetaminophen']['Effectiveness'])\n",
    "x7 = list(df_data[df_data['Drug'] == 'tramadol hcl']['Effectiveness'])\n",
    "x8 = list(df_data[df_data['Drug'] == 'tramadol hcl er']['Effectiveness'])\n",
    "x9 = list(df_data[df_data['Drug'] == 'lyrica']['Effectiveness'])\n",
    "x10 = list(df_data[df_data['Drug'] == 'oxycodone tablet, oral only']['Effectiveness'])\n",
    "\n",
    "# Assign colors for each Drug and EaseofUse\n",
    "colors = ['#E69F00', '#56B4E9', '#F0E442', '#009E73', '#D55E00']\n",
    "druglist = ['hydrocodone-acetaminophen.', 'tramadol hcl', 'tramadol hcl er',\n",
    "         'lyrica', 'oxycodone tablet, oral only']\n",
    "\n",
    "plt.hist([x6, x7, x8, x9, x10], bins = 5, edgecolor='k',\n",
    "         color = colors, label=druglist)\n",
    "\n",
    "# Plot formatting\n",
    "plt.legend()\n",
    "plt.xlabel('Effectiveness')\n",
    "plt.ylabel('Effectiveness Frequency')\n",
    "plt.title('Histogram of Effectiveness Frequency')"
   ]
  },
  {
   "cell_type": "code",
   "execution_count": null,
   "metadata": {},
   "outputs": [],
   "source": [
    "#### Frequency Histogram of Effectiveness for top five drugs among Female Users"
   ]
  },
  {
   "cell_type": "code",
   "execution_count": 39,
   "metadata": {},
   "outputs": [
    {
     "data": {
      "text/plain": [
       "Text(0.5, 1.0, 'Histogram of Effectiveness Frequency of Female')"
      ]
     },
     "execution_count": 39,
     "metadata": {},
     "output_type": "execute_result"
    },
    {
     "data": {
      "image/png": "[encoded data removed]",
      "text/plain": [
       "<Figure size 432x288 with 1 Axes>"
      ]
     },
     "metadata": {
      "needs_background": "light"
     },
     "output_type": "display_data"
    }
   ],
   "source": [
    "# Extract Effectiveness for top five drugs used  \n",
    "x6 = list(df_female[df_female['Drug'] == 'hydrocodone-acetaminophen']['Effectiveness'])\n",
    "x7 = list(df_female[df_female['Drug'] == 'tramadol hcl']['Effectiveness'])\n",
    "x8 = list(df_female[df_female['Drug'] == 'tramadol hcl er']['Effectiveness'])\n",
    "x9 = list(df_female[df_female['Drug'] == 'lyrica']['Effectiveness'])\n",
    "x10 = list(df_female[df_female['Drug'] == 'oxycodone tablet, oral only']['Effectiveness'])\n",
    "\n",
    "# Assign colors for each Drug and EaseofUse\n",
    "colors = ['#E69F00', '#56B4E9', '#F0E442', '#009E73', '#D55E00']\n",
    "druglist = ['hydrocodone-acetaminophen.', 'tramadol hcl', 'tramadol hcl er',\n",
    "         'lyrica', 'oxycodone tablet, oral only']\n",
    "\n",
    "plt.hist([x6, x7, x8, x9, x10], bins = 5, edgecolor='k',\n",
    "         color = colors, label=druglist)\n",
    "\n",
    "# Plot formatting\n",
    "plt.legend()\n",
    "plt.xlabel('Effectiveness of Female')\n",
    "plt.ylabel('Effectiveness Frequency of Female')\n",
    "plt.title('Histogram of Effectiveness Frequency of Female')"
   ]
  },
  {
   "cell_type": "code",
   "execution_count": 40,
   "metadata": {},
   "outputs": [
    {
     "data": {
      "text/plain": [
       "Text(0.5, 1.0, 'Histogram of Effectiveness Frequency of Male')"
      ]
     },
     "execution_count": 40,
     "metadata": {},
     "output_type": "execute_result"
    },
    {
     "data": {
      "image/png": "[encoded data removed]",
      "text/plain": [
       "<Figure size 432x288 with 1 Axes>"
      ]
     },
     "metadata": {
      "needs_background": "light"
     },
     "output_type": "display_data"
    }
   ],
   "source": [
    "# Extract Effectiveness for top five drugs used  \n",
    "x6 = list(df_male[df_male['Drug'] == 'hydrocodone-acetaminophen']['Effectiveness'])\n",
    "x7 = list(df_male[df_male['Drug'] == 'tramadol hcl']['Effectiveness'])\n",
    "x8 = list(df_male[df_male['Drug'] == 'tramadol hcl er']['Effectiveness'])\n",
    "x9 = list(df_male[df_male['Drug'] == 'lyrica']['Effectiveness'])\n",
    "x10 = list(df_male[df_male['Drug'] == 'oxycodone tablet, oral only']['Effectiveness'])\n",
    "\n",
    "# Assign colors for each Drug and EaseofUse\n",
    "colors = ['#E69F00', '#56B4E9', '#F0E442', '#009E73', '#D55E00']\n",
    "druglist = ['hydrocodone-acetaminophen.', 'tramadol hcl', 'tramadol hcl er',\n",
    "         'lyrica', 'oxycodone tablet, oral only']\n",
    "\n",
    "plt.hist([x6, x7, x8, x9, x10], bins = 5, edgecolor='k',\n",
    "         color = colors, label=druglist)\n",
    "\n",
    "# Plot formatting\n",
    "plt.legend()\n",
    "plt.xlabel('Effectiveness of Male')\n",
    "plt.ylabel('Effectiveness Frequency of Male')\n",
    "plt.title('Histogram of Effectiveness Frequency of Male')"
   ]
  },
  {
   "cell_type": "markdown",
   "metadata": {},
   "source": [
    "# 9.2 Probability Hinstogram"
   ]
  },
  {
   "cell_type": "markdown",
   "metadata": {},
   "source": [
    "### Proability Histogram of top five Drug by Age"
   ]
  },
  {
   "cell_type": "code",
   "execution_count": 46,
   "metadata": {},
   "outputs": [
    {
     "data": {
      "text/plain": [
       "Text(0, 0.5, 'Drug Probability')"
      ]
     },
     "execution_count": 46,
     "metadata": {},
     "output_type": "execute_result"
    },
    {
     "data": {
      "image/png": "[encoded data removed]",
      "text/plain": [
       "<Figure size 432x288 with 1 Axes>"
      ]
     },
     "metadata": {
      "needs_background": "light"
     },
     "output_type": "display_data"
    }
   ],
   "source": [
    "#figure size\n",
    "#plt.figure(figsize=(10,7), dpi= 80)\n",
    "bins=[0,10,20,30,40,50,60,70,80, 90]\n",
    "\n",
    "# Iterate through each of the five drugs\n",
    "for medicine in top_five:\n",
    "    subset=top_five_drug[top_five_drug['Drug']==medicine]\n",
    "    plt.hist(subset['Age'],bins=bins,alpha=0.6,edgecolor='k', density=True,\n",
    "                label=medicine)\n",
    "plt.xlim(0,90)    \n",
    "plt.legend()\n",
    "plt.title('Histogram of Drugs Probability by Age'); plt.xlabel('Age'); plt.ylabel('Drug Probability')"
   ]
  },
  {
   "cell_type": "code",
   "execution_count": null,
   "metadata": {},
   "outputs": [],
   "source": [
    "### Proability Histogram of top five Drug by Age of Female"
   ]
  },
  {
   "cell_type": "code",
   "execution_count": 47,
   "metadata": {},
   "outputs": [
    {
     "data": {
      "text/plain": [
       "Text(0, 0.5, 'Drug Frequency')"
      ]
     },
     "execution_count": 47,
     "metadata": {},
     "output_type": "execute_result"
    },
    {
     "data": {
      "image/png": "[encoded data removed]",
      "text/plain": [
       "<Figure size 432x288 with 1 Axes>"
      ]
     },
     "metadata": {
      "needs_background": "light"
     },
     "output_type": "display_data"
    }
   ],
   "source": [
    "#figure size\n",
    "#plt.figure(figsize=(10,7), dpi= 80)\n",
    "bins=[0,10,20,30,40,50,60,70,80, 90]\n",
    "\n",
    "# Iterate through each of the five drugs\n",
    "for medicine in top_five_female:\n",
    "    subset=top_five_drug_female[top_five_drug_female['Drug']==medicine]\n",
    "    plt.hist(subset['Age'],bins=bins,alpha=0.7,density=True, edgecolor='k',\n",
    "                label=medicine)\n",
    "plt.xlim(0,90)    \n",
    "plt.legend()\n",
    "plt.title('Histogram of Drugs Frequency Females by Age'); plt.xlabel('Age'); plt.ylabel('Drug Frequency')"
   ]
  },
  {
   "cell_type": "code",
   "execution_count": null,
   "metadata": {},
   "outputs": [],
   "source": [
    "### Proability Histogram of top five Drug by Age of Male"
   ]
  },
  {
   "cell_type": "code",
   "execution_count": 48,
   "metadata": {},
   "outputs": [
    {
     "data": {
      "text/plain": [
       "Text(0, 0.5, 'Drug Frequency')"
      ]
     },
     "execution_count": 48,
     "metadata": {},
     "output_type": "execute_result"
    },
    {
     "data": {
      "image/png": "[encoded data removed]",
      "text/plain": [
       "<Figure size 432x288 with 1 Axes>"
      ]
     },
     "metadata": {
      "needs_background": "light"
     },
     "output_type": "display_data"
    }
   ],
   "source": [
    "bins=[0,10,20,30,40,50,60,70,80, 90]\n",
    "\n",
    "# Iterate through each of the five drugs\n",
    "for medicine in top_five:\n",
    "    subset=top_five_drug_male[top_five_drug_male['Drug']==medicine]\n",
    "    plt.hist(subset['Age'],bins=bins,alpha=0.7, density=True, edgecolor='k',\n",
    "                label=medicine)\n",
    "plt.xlim(0,90)    \n",
    "plt.legend()\n",
    "plt.title('Histogram of Drugs Frequency Males by Age'); plt.xlabel('Age'); plt.ylabel('Drug Frequency')"
   ]
  },
  {
   "cell_type": "code",
   "execution_count": null,
   "metadata": {},
   "outputs": [],
   "source": [
    "### Proability Histogram of EaseofUse for top five drugs"
   ]
  },
  {
   "cell_type": "code",
   "execution_count": 49,
   "metadata": {},
   "outputs": [
    {
     "data": {
      "text/plain": [
       "Text(0.5, 1.0, 'Histogram of EaseofUse Probability')"
      ]
     },
     "execution_count": 49,
     "metadata": {},
     "output_type": "execute_result"
    },
    {
     "data": {
      "image/png": "[encoded data removed]",
      "text/plain": [
       "<Figure size 432x288 with 1 Axes>"
      ]
     },
     "metadata": {
      "needs_background": "light"
     },
     "output_type": "display_data"
    }
   ],
   "source": [
    "plt.hist([x1, x2, x3, x4, x5], bins = 5, edgecolor='k', density=True,\n",
    "         color = colors, label=druglist)\n",
    "\n",
    "# Plot formatting\n",
    "plt.legend()\n",
    "plt.xlabel('EaseofUse')\n",
    "plt.ylabel('EaseofUse Probability')\n",
    "plt.title('Histogram of EaseofUse Probability')"
   ]
  },
  {
   "cell_type": "code",
   "execution_count": null,
   "metadata": {},
   "outputs": [],
   "source": [
    "### Proability Histogram of Effectiveness for top five drugs"
   ]
  },
  {
   "cell_type": "code",
   "execution_count": 50,
   "metadata": {},
   "outputs": [
    {
     "data": {
      "text/plain": [
       "Text(0.5, 1.0, 'Histogram of Effectiveness Probability')"
      ]
     },
     "execution_count": 50,
     "metadata": {},
     "output_type": "execute_result"
    },
    {
     "data": {
      "image/png": "[encoded data removed]",
      "text/plain": [
       "<Figure size 432x288 with 1 Axes>"
      ]
     },
     "metadata": {
      "needs_background": "light"
     },
     "output_type": "display_data"
    }
   ],
   "source": [
    "plt.hist([x6, x7, x8, x9, x10], bins = 5, edgecolor='k', density=True,\n",
    "         color = colors, label=druglist)\n",
    "\n",
    "# Plot formatting\n",
    "plt.legend()\n",
    "plt.xlabel('Effectiveness')\n",
    "plt.ylabel('Effectiveness Probability')\n",
    "plt.title('Histogram of Effectiveness Probability')"
   ]
  },
  {
   "cell_type": "markdown",
   "metadata": {},
   "source": [
    "# 10 Which variable Effectiveness and EaseofUse determine the RATING of the drug "
   ]
  },
  {
   "cell_type": "code",
   "execution_count": null,
   "metadata": {},
   "outputs": [],
   "source": [
    "#### Commulative EaseofUse per drug in descending order"
   ]
  },
  {
   "cell_type": "code",
   "execution_count": 51,
   "metadata": {},
   "outputs": [],
   "source": [
    "commulative_EaseofUse_per_drug=df_data.groupby('Drug').EaseofUse.sum().sort_values(ascending=False)"
   ]
  },
  {
   "cell_type": "code",
   "execution_count": 52,
   "metadata": {},
   "outputs": [
    {
     "data": {
      "text/plain": [
       "Drug\n",
       "hydrocodone-acetaminophen    15034\n",
       "tramadol hcl                 10745\n",
       "tramadol hcl er              10745\n",
       "lyrica                        8291\n",
       "oxycodone hcl solution        7494\n",
       "Name: EaseofUse, dtype: int64"
      ]
     },
     "execution_count": 52,
     "metadata": {},
     "output_type": "execute_result"
    }
   ],
   "source": [
    "#to display the top 5 rows\n",
    "commulative_EaseofUse_per_drug.head(5)"
   ]
  },
  {
   "cell_type": "code",
   "execution_count": null,
   "metadata": {},
   "outputs": [],
   "source": [
    "#### Commulative Effectiveness per drug in descending order"
   ]
  },
  {
   "cell_type": "code",
   "execution_count": 56,
   "metadata": {},
   "outputs": [],
   "source": [
    "commulative_Effectiveness_per_drug=df_data.groupby('Drug').Effectiveness.sum().sort_values(ascending=False)"
   ]
  },
  {
   "cell_type": "code",
   "execution_count": 57,
   "metadata": {},
   "outputs": [
    {
     "data": {
      "text/plain": [
       "Drug\n",
       "hydrocodone-acetaminophen    12843\n",
       "tramadol hcl er               8374\n",
       "tramadol hcl                  8374\n",
       "lyrica                        6828\n",
       "oxycodone hcl                 6735\n",
       "Name: Effectiveness, dtype: int64"
      ]
     },
     "execution_count": 57,
     "metadata": {},
     "output_type": "execute_result"
    }
   ],
   "source": [
    "#to display the top 5 rows\n",
    "commulative_Effectiveness_per_drug.head(5)"
   ]
  },
  {
   "cell_type": "code",
   "execution_count": null,
   "metadata": {},
   "outputs": [],
   "source": [
    "#### Drug count"
   ]
  },
  {
   "cell_type": "code",
   "execution_count": 53,
   "metadata": {},
   "outputs": [],
   "source": [
    "Drug_count=df_data.Drug.value_counts()"
   ]
  },
  {
   "cell_type": "code",
   "execution_count": 54,
   "metadata": {},
   "outputs": [
    {
     "data": {
      "text/plain": [
       "hydrocodone-acetaminophen      3504\n",
       "tramadol hcl er                2557\n",
       "tramadol hcl                   2557\n",
       "lyrica                         2039\n",
       "oxycodone tablet, oral only    1713\n",
       "Name: Drug, dtype: int64"
      ]
     },
     "execution_count": 54,
     "metadata": {},
     "output_type": "execute_result"
    }
   ],
   "source": [
    "#to display the top 5 rows\n",
    "Drug_count.head(5)"
   ]
  },
  {
   "cell_type": "markdown",
   "metadata": {},
   "source": [
    "#### In order to compare the effect of EaseofUse and Effectiveness of the drug on the Rating, the commulative Easeof Use and Effectiveness should be normilized by number of drugs used since all top five the drug types are the same\n"
   ]
  },
  {
   "cell_type": "code",
   "execution_count": 58,
   "metadata": {},
   "outputs": [],
   "source": [
    "EaseofUse_Drug_ratio = (commulative_EaseofUse_per_drug / Drug_count).sort_values(ascending=False)"
   ]
  },
  {
   "cell_type": "code",
   "execution_count": 59,
   "metadata": {},
   "outputs": [],
   "source": [
    "Effectiveness_Drug_ratio=(commulative_Effectiveness_per_drug / Drug_count).sort_values(ascending=False)"
   ]
  },
  {
   "cell_type": "markdown",
   "metadata": {},
   "source": [
    "#### calculate the commulative rating for each drugs for comparison porpuse"
   ]
  },
  {
   "cell_type": "code",
   "execution_count": 60,
   "metadata": {},
   "outputs": [],
   "source": [
    "commulative_Rating_per_drug=df_data.groupby('Drug').Rating.sum().sort_values(ascending=False)"
   ]
  },
  {
   "cell_type": "code",
   "execution_count": 61,
   "metadata": {},
   "outputs": [
    {
     "data": {
      "text/plain": [
       "Drug\n",
       "hydrocodone-acetaminophen    12475\n",
       "tramadol hcl er               7862\n",
       "tramadol hcl                  7862\n",
       "oxycodone hcl                 6424\n",
       "oxycodone hcl er              6424\n",
       "Name: Rating, dtype: int64"
      ]
     },
     "execution_count": 61,
     "metadata": {},
     "output_type": "execute_result"
    }
   ],
   "source": [
    "commulative_Rating_per_drug.head()"
   ]
  },
  {
   "cell_type": "code",
   "execution_count": 62,
   "metadata": {},
   "outputs": [],
   "source": [
    "Rating_Drug_ratio = (commulative_Rating_per_drug / Drug_count).sort_values(ascending=False)"
   ]
  },
  {
   "cell_type": "code",
   "execution_count": null,
   "metadata": {},
   "outputs": [],
   "source": [
    "##### ploting the comparison graph"
   ]
  },
  {
   "cell_type": "code",
   "execution_count": 63,
   "metadata": {},
   "outputs": [
    {
     "data": {
      "text/plain": [
       "Text(0, 0.5, 'EaseandEffectiveness')"
      ]
     },
     "execution_count": 63,
     "metadata": {},
     "output_type": "execute_result"
    },
    {
     "data": {
      "image/png": "[encoded data removed]",
      "text/plain": [
       "<Figure size 432x288 with 1 Axes>"
      ]
     },
     "metadata": {
      "needs_background": "light"
     },
     "output_type": "display_data"
    }
   ],
   "source": [
    "#Imaginary y=x function for comparison porpuse\n",
    "x=[0,1,2,3,4,5]\n",
    "y=[0,1,2,3,4,5]\n",
    "plt.plot(Rating_Drug_ratio,EaseofUse_Drug_ratio, 'k', \n",
    "        Rating_Drug_ratio, Effectiveness_Drug_ratio, 'g',\n",
    "        x,y,'-r')\n",
    "plt.xlabel('Rating_Drug_ratio')\n",
    "plt.ylabel('EaseandEffectiveness')"
   ]
  },
  {
   "cell_type": "code",
   "execution_count": null,
   "metadata": {},
   "outputs": [],
   "source": [
    "###### Looking at the comparison plot: drug effectiveness variable can determine the rating of the drug over the EaseofUse."
   ]
  },
  {
   "cell_type": "markdown",
   "metadata": {},
   "source": []
  }
 ],
 "metadata": {
  "kernelspec": {
   "display_name": "Python 3",
   "language": "python",
   "name": "python3"
  },
  "language_info": {
   "codemirror_mode": {
    "name": "ipython",
    "version": 3
   },
   "file_extension": ".py",
   "mimetype": "text/x-python",
   "name": "python",
   "nbconvert_exporter": "python",
   "pygments_lexer": "ipython3",
   "version": "3.7.4"
  }
 },
 "nbformat": 4,
 "nbformat_minor": 2
}
