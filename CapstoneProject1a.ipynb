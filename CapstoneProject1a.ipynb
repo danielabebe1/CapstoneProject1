{
 "cells": [
  {
   "cell_type": "markdown",
   "metadata": {},
   "source": [
    "# 1. Importing the possibly required libraries for EDA"
   ]
  },
  {
   "cell_type": "code",
   "execution_count": 1,
   "metadata": {},
   "outputs": [],
   "source": [
    "import pandas as pd\n",
    "import numpy as np\n",
    "import seaborn as sns\n",
    "import matplotlib.pyplot as plt\n",
    "from IPython.core.pylabtools import figsize\n",
    "%matplotlib inline"
   ]
  },
  {
   "cell_type": "markdown",
   "metadata": {},
   "source": [
    "# 2. Loading the data into the data frame"
   ]
  },
  {
   "cell_type": "code",
   "execution_count": 2,
   "metadata": {},
   "outputs": [
    {
     "data": {
      "text/plain": [
       "(362806, 12)"
      ]
     },
     "execution_count": 2,
     "metadata": {},
     "output_type": "execute_result"
    }
   ],
   "source": [
    "#the dataset is in csv format so we'll use read_csv function in pandas and replace blank space with NaN by \"na_values=' ' \"\n",
    "df_data=pd.read_csv('webmd.csv', na_values=' ')\n",
    "\n",
    "df_data.shape"
   ]
  },
  {
   "cell_type": "code",
   "execution_count": 3,
   "metadata": {},
   "outputs": [
    {
     "data": {
      "text/html": [
       "<div>\n",
       "<style scoped>\n",
       "    .dataframe tbody tr th:only-of-type {\n",
       "        vertical-align: middle;\n",
       "    }\n",
       "\n",
       "    .dataframe tbody tr th {\n",
       "        vertical-align: top;\n",
       "    }\n",
       "\n",
       "    .dataframe thead th {\n",
       "        text-align: right;\n",
       "    }\n",
       "</style>\n",
       "<table border=\"1\" class=\"dataframe\">\n",
       "  <thead>\n",
       "    <tr style=\"text-align: right;\">\n",
       "      <th></th>\n",
       "      <th>Age</th>\n",
       "      <th>Condition</th>\n",
       "      <th>Date</th>\n",
       "      <th>Drug</th>\n",
       "      <th>DrugId</th>\n",
       "      <th>EaseofUse</th>\n",
       "      <th>Effectiveness</th>\n",
       "      <th>Reviews</th>\n",
       "      <th>Satisfaction</th>\n",
       "      <th>Sex</th>\n",
       "      <th>Sides</th>\n",
       "      <th>UsefulCount</th>\n",
       "    </tr>\n",
       "  </thead>\n",
       "  <tbody>\n",
       "    <tr>\n",
       "      <td>0</td>\n",
       "      <td>75 or over</td>\n",
       "      <td>Stuffy Nose</td>\n",
       "      <td>9/21/2014</td>\n",
       "      <td>25dph-7.5peh</td>\n",
       "      <td>146724</td>\n",
       "      <td>5</td>\n",
       "      <td>5</td>\n",
       "      <td>I'm a retired physician and of all the meds I ...</td>\n",
       "      <td>5</td>\n",
       "      <td>Male</td>\n",
       "      <td>Drowsiness,  dizziness ,  dry mouth /nose/thro...</td>\n",
       "      <td>0</td>\n",
       "    </tr>\n",
       "    <tr>\n",
       "      <td>1</td>\n",
       "      <td>25-34</td>\n",
       "      <td>Cold Symptoms</td>\n",
       "      <td>1/13/2011</td>\n",
       "      <td>25dph-7.5peh</td>\n",
       "      <td>146724</td>\n",
       "      <td>5</td>\n",
       "      <td>5</td>\n",
       "      <td>cleared me right up even with my throat hurtin...</td>\n",
       "      <td>5</td>\n",
       "      <td>Female</td>\n",
       "      <td>Drowsiness,  dizziness ,  dry mouth /nose/thro...</td>\n",
       "      <td>1</td>\n",
       "    </tr>\n",
       "    <tr>\n",
       "      <td>2</td>\n",
       "      <td>65-74</td>\n",
       "      <td>Other</td>\n",
       "      <td>7/16/2012</td>\n",
       "      <td>warfarin (bulk) 100 % powder</td>\n",
       "      <td>144731</td>\n",
       "      <td>2</td>\n",
       "      <td>3</td>\n",
       "      <td>why did my PTINR go from a normal of 2.5 to ov...</td>\n",
       "      <td>3</td>\n",
       "      <td>Female</td>\n",
       "      <td>NaN</td>\n",
       "      <td>0</td>\n",
       "    </tr>\n",
       "    <tr>\n",
       "      <td>3</td>\n",
       "      <td>75 or over</td>\n",
       "      <td>Other</td>\n",
       "      <td>9/23/2010</td>\n",
       "      <td>warfarin (bulk) 100 % powder</td>\n",
       "      <td>144731</td>\n",
       "      <td>2</td>\n",
       "      <td>2</td>\n",
       "      <td>FALLING AND DON'T REALISE IT</td>\n",
       "      <td>1</td>\n",
       "      <td>Female</td>\n",
       "      <td>NaN</td>\n",
       "      <td>0</td>\n",
       "    </tr>\n",
       "    <tr>\n",
       "      <td>4</td>\n",
       "      <td>35-44</td>\n",
       "      <td>Other</td>\n",
       "      <td>1/6/2009</td>\n",
       "      <td>warfarin (bulk) 100 % powder</td>\n",
       "      <td>144731</td>\n",
       "      <td>1</td>\n",
       "      <td>1</td>\n",
       "      <td>My grandfather was prescribed this medication ...</td>\n",
       "      <td>1</td>\n",
       "      <td>Male</td>\n",
       "      <td>NaN</td>\n",
       "      <td>1</td>\n",
       "    </tr>\n",
       "  </tbody>\n",
       "</table>\n",
       "</div>"
      ],
      "text/plain": [
       "          Age      Condition       Date                          Drug  DrugId  \\\n",
       "0  75 or over    Stuffy Nose  9/21/2014                  25dph-7.5peh  146724   \n",
       "1       25-34  Cold Symptoms  1/13/2011                  25dph-7.5peh  146724   \n",
       "2       65-74          Other  7/16/2012  warfarin (bulk) 100 % powder  144731   \n",
       "3  75 or over          Other  9/23/2010  warfarin (bulk) 100 % powder  144731   \n",
       "4       35-44          Other   1/6/2009  warfarin (bulk) 100 % powder  144731   \n",
       "\n",
       "   EaseofUse  Effectiveness  \\\n",
       "0          5              5   \n",
       "1          5              5   \n",
       "2          2              3   \n",
       "3          2              2   \n",
       "4          1              1   \n",
       "\n",
       "                                             Reviews  Satisfaction     Sex  \\\n",
       "0  I'm a retired physician and of all the meds I ...             5    Male   \n",
       "1  cleared me right up even with my throat hurtin...             5  Female   \n",
       "2  why did my PTINR go from a normal of 2.5 to ov...             3  Female   \n",
       "3                       FALLING AND DON'T REALISE IT             1  Female   \n",
       "4  My grandfather was prescribed this medication ...             1    Male   \n",
       "\n",
       "                                               Sides  UsefulCount  \n",
       "0  Drowsiness,  dizziness ,  dry mouth /nose/thro...            0  \n",
       "1  Drowsiness,  dizziness ,  dry mouth /nose/thro...            1  \n",
       "2                                                NaN            0  \n",
       "3                                                NaN            0  \n",
       "4                                                NaN            1  "
      ]
     },
     "execution_count": 3,
     "metadata": {},
     "output_type": "execute_result"
    }
   ],
   "source": [
    "#to display the top 5 rows\n",
    "df_data.head(5)"
   ]
  },
  {
   "cell_type": "code",
   "execution_count": 4,
   "metadata": {},
   "outputs": [
    {
     "data": {
      "text/html": [
       "<div>\n",
       "<style scoped>\n",
       "    .dataframe tbody tr th:only-of-type {\n",
       "        vertical-align: middle;\n",
       "    }\n",
       "\n",
       "    .dataframe tbody tr th {\n",
       "        vertical-align: top;\n",
       "    }\n",
       "\n",
       "    .dataframe thead th {\n",
       "        text-align: right;\n",
       "    }\n",
       "</style>\n",
       "<table border=\"1\" class=\"dataframe\">\n",
       "  <thead>\n",
       "    <tr style=\"text-align: right;\">\n",
       "      <th></th>\n",
       "      <th>Age</th>\n",
       "      <th>Condition</th>\n",
       "      <th>Date</th>\n",
       "      <th>Drug</th>\n",
       "      <th>DrugId</th>\n",
       "      <th>EaseofUse</th>\n",
       "      <th>Effectiveness</th>\n",
       "      <th>Reviews</th>\n",
       "      <th>Satisfaction</th>\n",
       "      <th>Sex</th>\n",
       "      <th>Sides</th>\n",
       "      <th>UsefulCount</th>\n",
       "    </tr>\n",
       "  </thead>\n",
       "  <tbody>\n",
       "    <tr>\n",
       "      <td>362801</td>\n",
       "      <td>55-64</td>\n",
       "      <td>Stop Smoking</td>\n",
       "      <td>11/14/2008</td>\n",
       "      <td>chantix</td>\n",
       "      <td>144470</td>\n",
       "      <td>5</td>\n",
       "      <td>5</td>\n",
       "      <td>I took the whole 12 weeks.I could have stopped...</td>\n",
       "      <td>5</td>\n",
       "      <td>Female</td>\n",
       "      <td>Nausea ,  headache ,  vomiting , drowsiness, g...</td>\n",
       "      <td>2</td>\n",
       "    </tr>\n",
       "    <tr>\n",
       "      <td>362802</td>\n",
       "      <td>NaN</td>\n",
       "      <td>Other</td>\n",
       "      <td>11/14/2008</td>\n",
       "      <td>chantix</td>\n",
       "      <td>144470</td>\n",
       "      <td>2</td>\n",
       "      <td>3</td>\n",
       "      <td>My dad strated taking Chantix about 1 month ag...</td>\n",
       "      <td>1</td>\n",
       "      <td>NaN</td>\n",
       "      <td>Nausea ,  headache ,  vomiting , drowsiness, g...</td>\n",
       "      <td>16</td>\n",
       "    </tr>\n",
       "    <tr>\n",
       "      <td>362803</td>\n",
       "      <td>25-34</td>\n",
       "      <td>Stop Smoking</td>\n",
       "      <td>11/13/2008</td>\n",
       "      <td>chantix</td>\n",
       "      <td>144470</td>\n",
       "      <td>2</td>\n",
       "      <td>4</td>\n",
       "      <td>As long as I was on chantix, I didn't smoke.  ...</td>\n",
       "      <td>2</td>\n",
       "      <td>Female</td>\n",
       "      <td>Nausea ,  headache ,  vomiting , drowsiness, g...</td>\n",
       "      <td>3</td>\n",
       "    </tr>\n",
       "    <tr>\n",
       "      <td>362804</td>\n",
       "      <td>55-64</td>\n",
       "      <td>Stop Smoking</td>\n",
       "      <td>11/13/2008</td>\n",
       "      <td>chantix</td>\n",
       "      <td>144470</td>\n",
       "      <td>5</td>\n",
       "      <td>5</td>\n",
       "      <td>Started this medication Oct 5th 2008. Haven't ...</td>\n",
       "      <td>5</td>\n",
       "      <td>Male</td>\n",
       "      <td>Nausea ,  headache ,  vomiting , drowsiness, g...</td>\n",
       "      <td>1</td>\n",
       "    </tr>\n",
       "    <tr>\n",
       "      <td>362805</td>\n",
       "      <td>45-54</td>\n",
       "      <td>Stop Smoking</td>\n",
       "      <td>11/12/2008</td>\n",
       "      <td>chantix</td>\n",
       "      <td>144470</td>\n",
       "      <td>4</td>\n",
       "      <td>5</td>\n",
       "      <td>One year ago, I tried Chantix and had to stop ...</td>\n",
       "      <td>5</td>\n",
       "      <td>Female</td>\n",
       "      <td>Nausea ,  headache ,  vomiting , drowsiness, g...</td>\n",
       "      <td>3</td>\n",
       "    </tr>\n",
       "  </tbody>\n",
       "</table>\n",
       "</div>"
      ],
      "text/plain": [
       "          Age     Condition        Date     Drug  DrugId  EaseofUse  \\\n",
       "362801  55-64  Stop Smoking  11/14/2008  chantix  144470          5   \n",
       "362802    NaN         Other  11/14/2008  chantix  144470          2   \n",
       "362803  25-34  Stop Smoking  11/13/2008  chantix  144470          2   \n",
       "362804  55-64  Stop Smoking  11/13/2008  chantix  144470          5   \n",
       "362805  45-54  Stop Smoking  11/12/2008  chantix  144470          4   \n",
       "\n",
       "        Effectiveness                                            Reviews  \\\n",
       "362801              5  I took the whole 12 weeks.I could have stopped...   \n",
       "362802              3  My dad strated taking Chantix about 1 month ag...   \n",
       "362803              4  As long as I was on chantix, I didn't smoke.  ...   \n",
       "362804              5  Started this medication Oct 5th 2008. Haven't ...   \n",
       "362805              5  One year ago, I tried Chantix and had to stop ...   \n",
       "\n",
       "        Satisfaction     Sex  \\\n",
       "362801             5  Female   \n",
       "362802             1     NaN   \n",
       "362803             2  Female   \n",
       "362804             5    Male   \n",
       "362805             5  Female   \n",
       "\n",
       "                                                    Sides  UsefulCount  \n",
       "362801  Nausea ,  headache ,  vomiting , drowsiness, g...            2  \n",
       "362802  Nausea ,  headache ,  vomiting , drowsiness, g...           16  \n",
       "362803  Nausea ,  headache ,  vomiting , drowsiness, g...            3  \n",
       "362804  Nausea ,  headache ,  vomiting , drowsiness, g...            1  \n",
       "362805  Nausea ,  headache ,  vomiting , drowsiness, g...            3  "
      ]
     },
     "execution_count": 4,
     "metadata": {},
     "output_type": "execute_result"
    }
   ],
   "source": [
    "#to display the bottom 5 rows\n",
    "df_data.tail(5)"
   ]
  },
  {
   "cell_type": "markdown",
   "metadata": {},
   "source": [
    "# 3. Checking the dataframe detail"
   ]
  },
  {
   "cell_type": "code",
   "execution_count": 5,
   "metadata": {},
   "outputs": [
    {
     "name": "stdout",
     "output_type": "stream",
     "text": [
      "Dataset contains: 362806 rows and 12 columns\n",
      "<class 'pandas.core.frame.DataFrame'>\n",
      "RangeIndex: 362806 entries, 0 to 362805\n",
      "Data columns (total 12 columns):\n",
      "Age              350604 non-null object\n",
      "Condition        362763 non-null object\n",
      "Date             362806 non-null object\n",
      "Drug             362806 non-null object\n",
      "DrugId           362806 non-null int64\n",
      "EaseofUse        362806 non-null int64\n",
      "Effectiveness    362806 non-null int64\n",
      "Reviews          320945 non-null object\n",
      "Satisfaction     362806 non-null int64\n",
      "Sex              336269 non-null object\n",
      "Sides            345346 non-null object\n",
      "UsefulCount      362806 non-null int64\n",
      "dtypes: int64(5), object(7)\n",
      "memory usage: 33.2+ MB\n"
     ]
    }
   ],
   "source": [
    "#check the number of features and rows of data\n",
    "print(\"Dataset contains: \" + str(df_data.shape[0]) + \" rows and \" + str(df_data.shape[1]) + \" columns\")\n",
    "\n",
    "#describe the model's detail information datatype of each attributes\n",
    "df_data.info()"
   ]
  },
  {
   "cell_type": "markdown",
   "metadata": {},
   "source": [
    "looking at the dataframe information detail there are columns with null values since the total value count is less that row value (362806)."
   ]
  },
  {
   "cell_type": "markdown",
   "metadata": {},
   "source": [
    "# 4. Dropping irrelevant columns"
   ]
  },
  {
   "cell_type": "code",
   "execution_count": 6,
   "metadata": {},
   "outputs": [],
   "source": [
    "#Only some attributes are considered in this project we'll drop attributes that aren't considered for the time being. \n",
    "df_data=df_data.drop(['Date', 'DrugId', 'Reviews', 'Sides', 'UsefulCount'], axis=1)"
   ]
  },
  {
   "cell_type": "code",
   "execution_count": 7,
   "metadata": {},
   "outputs": [
    {
     "data": {
      "text/html": [
       "<div>\n",
       "<style scoped>\n",
       "    .dataframe tbody tr th:only-of-type {\n",
       "        vertical-align: middle;\n",
       "    }\n",
       "\n",
       "    .dataframe tbody tr th {\n",
       "        vertical-align: top;\n",
       "    }\n",
       "\n",
       "    .dataframe thead th {\n",
       "        text-align: right;\n",
       "    }\n",
       "</style>\n",
       "<table border=\"1\" class=\"dataframe\">\n",
       "  <thead>\n",
       "    <tr style=\"text-align: right;\">\n",
       "      <th></th>\n",
       "      <th>Age</th>\n",
       "      <th>Condition</th>\n",
       "      <th>Drug</th>\n",
       "      <th>EaseofUse</th>\n",
       "      <th>Effectiveness</th>\n",
       "      <th>Satisfaction</th>\n",
       "      <th>Sex</th>\n",
       "    </tr>\n",
       "  </thead>\n",
       "  <tbody>\n",
       "    <tr>\n",
       "      <td>165166</td>\n",
       "      <td>19-24</td>\n",
       "      <td>Bipolar I Disorder with Most Recent Episode Mixed</td>\n",
       "      <td>saphris tablet, sublingual</td>\n",
       "      <td>4</td>\n",
       "      <td>4</td>\n",
       "      <td>5</td>\n",
       "      <td>Female</td>\n",
       "    </tr>\n",
       "    <tr>\n",
       "      <td>113280</td>\n",
       "      <td>45-54</td>\n",
       "      <td>Post-Menopausal Osteoporosis Prevention</td>\n",
       "      <td>prempro</td>\n",
       "      <td>5</td>\n",
       "      <td>3</td>\n",
       "      <td>3</td>\n",
       "      <td>Female</td>\n",
       "    </tr>\n",
       "    <tr>\n",
       "      <td>256663</td>\n",
       "      <td>55-64</td>\n",
       "      <td>Advanced Breast Cancer Progression Post-Anties...</td>\n",
       "      <td>exemestane</td>\n",
       "      <td>5</td>\n",
       "      <td>5</td>\n",
       "      <td>5</td>\n",
       "      <td>Female</td>\n",
       "    </tr>\n",
       "    <tr>\n",
       "      <td>270184</td>\n",
       "      <td>55-64</td>\n",
       "      <td>Pain Originating From a Nerve</td>\n",
       "      <td>gabapentin tablet, extended release 24 hr</td>\n",
       "      <td>5</td>\n",
       "      <td>1</td>\n",
       "      <td>1</td>\n",
       "      <td>Female</td>\n",
       "    </tr>\n",
       "    <tr>\n",
       "      <td>256770</td>\n",
       "      <td>45-54</td>\n",
       "      <td>High Blood Pressure</td>\n",
       "      <td>exforge</td>\n",
       "      <td>5</td>\n",
       "      <td>5</td>\n",
       "      <td>3</td>\n",
       "      <td>Male</td>\n",
       "    </tr>\n",
       "  </tbody>\n",
       "</table>\n",
       "</div>"
      ],
      "text/plain": [
       "          Age                                          Condition  \\\n",
       "165166  19-24  Bipolar I Disorder with Most Recent Episode Mixed   \n",
       "113280  45-54            Post-Menopausal Osteoporosis Prevention   \n",
       "256663  55-64  Advanced Breast Cancer Progression Post-Anties...   \n",
       "270184  55-64                      Pain Originating From a Nerve   \n",
       "256770  45-54                                High Blood Pressure   \n",
       "\n",
       "                                             Drug  EaseofUse  Effectiveness  \\\n",
       "165166                 saphris tablet, sublingual          4              4   \n",
       "113280                                    prempro          5              3   \n",
       "256663                                 exemestane          5              5   \n",
       "270184  gabapentin tablet, extended release 24 hr          5              1   \n",
       "256770                                    exforge          5              5   \n",
       "\n",
       "        Satisfaction     Sex  \n",
       "165166             5  Female  \n",
       "113280             3  Female  \n",
       "256663             5  Female  \n",
       "270184             1  Female  \n",
       "256770             3    Male  "
      ]
     },
     "execution_count": 7,
     "metadata": {},
     "output_type": "execute_result"
    }
   ],
   "source": [
    "#to display the random 5 rows\n",
    "df_data.sample(5)"
   ]
  },
  {
   "cell_type": "markdown",
   "metadata": {},
   "source": [
    "# 5. Renaming the columns"
   ]
  },
  {
   "cell_type": "code",
   "execution_count": 8,
   "metadata": {},
   "outputs": [
    {
     "data": {
      "text/html": [
       "<div>\n",
       "<style scoped>\n",
       "    .dataframe tbody tr th:only-of-type {\n",
       "        vertical-align: middle;\n",
       "    }\n",
       "\n",
       "    .dataframe tbody tr th {\n",
       "        vertical-align: top;\n",
       "    }\n",
       "\n",
       "    .dataframe thead th {\n",
       "        text-align: right;\n",
       "    }\n",
       "</style>\n",
       "<table border=\"1\" class=\"dataframe\">\n",
       "  <thead>\n",
       "    <tr style=\"text-align: right;\">\n",
       "      <th></th>\n",
       "      <th>Age</th>\n",
       "      <th>Condition</th>\n",
       "      <th>Drug</th>\n",
       "      <th>EaseofUse</th>\n",
       "      <th>Effectiveness</th>\n",
       "      <th>Rating</th>\n",
       "      <th>Sex</th>\n",
       "    </tr>\n",
       "  </thead>\n",
       "  <tbody>\n",
       "    <tr>\n",
       "      <td>0</td>\n",
       "      <td>75 or over</td>\n",
       "      <td>Stuffy Nose</td>\n",
       "      <td>25dph-7.5peh</td>\n",
       "      <td>5</td>\n",
       "      <td>5</td>\n",
       "      <td>5</td>\n",
       "      <td>Male</td>\n",
       "    </tr>\n",
       "    <tr>\n",
       "      <td>1</td>\n",
       "      <td>25-34</td>\n",
       "      <td>Cold Symptoms</td>\n",
       "      <td>25dph-7.5peh</td>\n",
       "      <td>5</td>\n",
       "      <td>5</td>\n",
       "      <td>5</td>\n",
       "      <td>Female</td>\n",
       "    </tr>\n",
       "    <tr>\n",
       "      <td>2</td>\n",
       "      <td>65-74</td>\n",
       "      <td>Other</td>\n",
       "      <td>warfarin (bulk) 100 % powder</td>\n",
       "      <td>2</td>\n",
       "      <td>3</td>\n",
       "      <td>3</td>\n",
       "      <td>Female</td>\n",
       "    </tr>\n",
       "    <tr>\n",
       "      <td>3</td>\n",
       "      <td>75 or over</td>\n",
       "      <td>Other</td>\n",
       "      <td>warfarin (bulk) 100 % powder</td>\n",
       "      <td>2</td>\n",
       "      <td>2</td>\n",
       "      <td>1</td>\n",
       "      <td>Female</td>\n",
       "    </tr>\n",
       "    <tr>\n",
       "      <td>4</td>\n",
       "      <td>35-44</td>\n",
       "      <td>Other</td>\n",
       "      <td>warfarin (bulk) 100 % powder</td>\n",
       "      <td>1</td>\n",
       "      <td>1</td>\n",
       "      <td>1</td>\n",
       "      <td>Male</td>\n",
       "    </tr>\n",
       "  </tbody>\n",
       "</table>\n",
       "</div>"
      ],
      "text/plain": [
       "          Age      Condition                          Drug  EaseofUse  \\\n",
       "0  75 or over    Stuffy Nose                  25dph-7.5peh          5   \n",
       "1       25-34  Cold Symptoms                  25dph-7.5peh          5   \n",
       "2       65-74          Other  warfarin (bulk) 100 % powder          2   \n",
       "3  75 or over          Other  warfarin (bulk) 100 % powder          2   \n",
       "4       35-44          Other  warfarin (bulk) 100 % powder          1   \n",
       "\n",
       "   Effectiveness  Rating     Sex  \n",
       "0              5       5    Male  \n",
       "1              5       5  Female  \n",
       "2              3       3  Female  \n",
       "3              2       1  Female  \n",
       "4              1       1    Male  "
      ]
     },
     "execution_count": 8,
     "metadata": {},
     "output_type": "execute_result"
    }
   ],
   "source": [
    "df_data=df_data.rename(columns={\"Satisfaction\": \"Rating\"})\n",
    "df_data.head(5)"
   ]
  },
  {
   "cell_type": "markdown",
   "metadata": {},
   "source": [
    "# 6. Dropping the unused rows"
   ]
  },
  {
   "cell_type": "code",
   "execution_count": 9,
   "metadata": {},
   "outputs": [
    {
     "name": "stdout",
     "output_type": "stream",
     "text": [
      "Dataset contains: 53649 rows and 7 columns\n"
     ]
    }
   ],
   "source": [
    "#selecting the rows of our target which is only in pain condition  \n",
    "df_data=df_data[df_data.Condition.str.contains('Pain', na=False)]\n",
    "\n",
    "#check the number of features and rows of remaining data\n",
    "print(\"Dataset contains: \" + str(df_data.shape[0]) + \" rows and \" + str(df_data.shape[1]) + \" columns\")"
   ]
  },
  {
   "cell_type": "code",
   "execution_count": 10,
   "metadata": {},
   "outputs": [
    {
     "data": {
      "text/html": [
       "<div>\n",
       "<style scoped>\n",
       "    .dataframe tbody tr th:only-of-type {\n",
       "        vertical-align: middle;\n",
       "    }\n",
       "\n",
       "    .dataframe tbody tr th {\n",
       "        vertical-align: top;\n",
       "    }\n",
       "\n",
       "    .dataframe thead th {\n",
       "        text-align: right;\n",
       "    }\n",
       "</style>\n",
       "<table border=\"1\" class=\"dataframe\">\n",
       "  <thead>\n",
       "    <tr style=\"text-align: right;\">\n",
       "      <th></th>\n",
       "      <th>Age</th>\n",
       "      <th>Condition</th>\n",
       "      <th>Drug</th>\n",
       "      <th>EaseofUse</th>\n",
       "      <th>Effectiveness</th>\n",
       "      <th>Rating</th>\n",
       "      <th>Sex</th>\n",
       "    </tr>\n",
       "  </thead>\n",
       "  <tbody>\n",
       "    <tr>\n",
       "      <td>48286</td>\n",
       "      <td>55-64</td>\n",
       "      <td>Nerve Pain after Herpes</td>\n",
       "      <td>neurontin</td>\n",
       "      <td>4</td>\n",
       "      <td>4</td>\n",
       "      <td>4</td>\n",
       "      <td>Female</td>\n",
       "    </tr>\n",
       "    <tr>\n",
       "      <td>68917</td>\n",
       "      <td>35-44</td>\n",
       "      <td>Chronic Pain</td>\n",
       "      <td>opana er</td>\n",
       "      <td>5</td>\n",
       "      <td>4</td>\n",
       "      <td>4</td>\n",
       "      <td>Female</td>\n",
       "    </tr>\n",
       "    <tr>\n",
       "      <td>3087</td>\n",
       "      <td>55-64</td>\n",
       "      <td>Neuropathic Pain</td>\n",
       "      <td>lyrica</td>\n",
       "      <td>5</td>\n",
       "      <td>4</td>\n",
       "      <td>4</td>\n",
       "      <td>Female</td>\n",
       "    </tr>\n",
       "    <tr>\n",
       "      <td>289703</td>\n",
       "      <td>NaN</td>\n",
       "      <td>Pain</td>\n",
       "      <td>hydrocodone-acetaminophen</td>\n",
       "      <td>5</td>\n",
       "      <td>2</td>\n",
       "      <td>3</td>\n",
       "      <td>NaN</td>\n",
       "    </tr>\n",
       "    <tr>\n",
       "      <td>297617</td>\n",
       "      <td>65-74</td>\n",
       "      <td>Pain</td>\n",
       "      <td>ibuprofen</td>\n",
       "      <td>3</td>\n",
       "      <td>3</td>\n",
       "      <td>3</td>\n",
       "      <td>Male</td>\n",
       "    </tr>\n",
       "  </tbody>\n",
       "</table>\n",
       "</div>"
      ],
      "text/plain": [
       "          Age                Condition                       Drug  EaseofUse  \\\n",
       "48286   55-64  Nerve Pain after Herpes                  neurontin          4   \n",
       "68917   35-44             Chronic Pain                   opana er          5   \n",
       "3087    55-64         Neuropathic Pain                     lyrica          5   \n",
       "289703    NaN                     Pain  hydrocodone-acetaminophen          5   \n",
       "297617  65-74                     Pain                  ibuprofen          3   \n",
       "\n",
       "        Effectiveness  Rating     Sex  \n",
       "48286               4       4  Female  \n",
       "68917               4       4  Female  \n",
       "3087                4       4  Female  \n",
       "289703              2       3     NaN  \n",
       "297617              3       3    Male  "
      ]
     },
     "execution_count": 10,
     "metadata": {},
     "output_type": "execute_result"
    }
   ],
   "source": [
    "#to display the random 5 rows\n",
    "df_data.sample(5)"
   ]
  },
  {
   "cell_type": "markdown",
   "metadata": {},
   "source": [
    "# 7. Data Cleaning and Manupulation"
   ]
  },
  {
   "cell_type": "markdown",
   "metadata": {},
   "source": [
    "Before diving into data analysis it is important to check whether there are missing values, inconsistent formatting, malformed records or nonsensical outliers. Null values checked in the main dataset and after the selecting pain condition the null values needs to be check. Looking at the dataset under consideration, there is no variables that inconsistent formatting and records or nonsensical outliers."
   ]
  },
  {
   "cell_type": "code",
   "execution_count": 11,
   "metadata": {},
   "outputs": [
    {
     "name": "stdout",
     "output_type": "stream",
     "text": [
      "Do null values exist in the dataset? True\n"
     ]
    },
    {
     "data": {
      "text/plain": [
       "Age              1905\n",
       "Condition           0\n",
       "Drug                0\n",
       "EaseofUse           0\n",
       "Effectiveness       0\n",
       "Rating              0\n",
       "Sex              3698\n",
       "dtype: int64"
      ]
     },
     "execution_count": 11,
     "metadata": {},
     "output_type": "execute_result"
    }
   ],
   "source": [
    "#Check if null values exist in the dataset\n",
    "print('Do null values exist in the dataset? ' + str(df_data.isnull().values.any()))\n",
    "#if null values exist calculate the total null vaues in each column:\n",
    "df_data.isna().sum()"
   ]
  },
  {
   "cell_type": "markdown",
   "metadata": {},
   "source": [
    "since Age and Sex are the determining variable through out this project, they cant be null, hence drop the null values from data set."
   ]
  },
  {
   "cell_type": "code",
   "execution_count": 12,
   "metadata": {},
   "outputs": [
    {
     "name": "stdout",
     "output_type": "stream",
     "text": [
      "Do null values exist in the dataset? False\n",
      "Dataset contains: 49313 rows and 7 columns\n"
     ]
    }
   ],
   "source": [
    "df_data.dropna(inplace=True)\n",
    "\n",
    "#Check if null values exist in the dataset\n",
    "print('Do null values exist in the dataset? ' + str(df_data.isnull().values.any()))\n",
    "\n",
    "#check the number of features and rows of remaining data\n",
    "print(\"Dataset contains: \" + str(df_data.shape[0]) + \" rows and \" + str(df_data.shape[1]) + \" columns\")"
   ]
  },
  {
   "cell_type": "markdown",
   "metadata": {},
   "source": [
    "# 8 Histograms and Density Plots"
   ]
  },
  {
   "cell_type": "markdown",
   "metadata": {},
   "source": [
    "It is important to visualization the data in a graph to communicate relationships of data with images. We need data visualization maily because visual summary of information makes it easier to identify patterns and trends than looking through thousands of rows. Before considering the relationship between two variables it is important to to summarize information having a single variable. Data analysis that involves the relationship between two different variables is called bivariate data and data that has single or only one variable is known as univariate data.   "
   ]
  },
  {
   "cell_type": "markdown",
   "metadata": {},
   "source": [
    "## 8.1 Univariate Data Analysis"
   ]
  },
  {
   "cell_type": "markdown",
   "metadata": {},
   "source": [
    "The variable that does not deal with relationships, but rather it is used to describe something in a dataset the age of the drug users which can be considered as univariate data. Hence, let's see the age demography using value_counts function. As shown in the result the highest and the least number of pain medicine users age range is 45-54 and 0-2 respectively.  "
   ]
  },
  {
   "cell_type": "code",
   "execution_count": 13,
   "metadata": {},
   "outputs": [
    {
     "data": {
      "text/plain": [
       "45-54         13966\n",
       "55-64         11851\n",
       "35-44          8579\n",
       "25-34          5545\n",
       "65-74          5215\n",
       "19-24          1962\n",
       "75 or over     1738\n",
       "13-18           410\n",
       "7-12             21\n",
       "3-6              14\n",
       "0-2              12\n",
       "Name: Age, dtype: int64"
      ]
     },
     "execution_count": 13,
     "metadata": {},
     "output_type": "execute_result"
    }
   ],
   "source": [
    "df_data.Age.value_counts()"
   ]
  },
  {
   "cell_type": "markdown",
   "metadata": {},
   "source": [
    "Using describe fuction, we analyse he above results for further understanding of cumulative number of pain drug users age range including unique age range, mean, standard deviation as well as the persentile.  "
   ]
  },
  {
   "cell_type": "code",
   "execution_count": 14,
   "metadata": {},
   "outputs": [
    {
     "data": {
      "text/plain": [
       "count       11.000000\n",
       "mean      4483.000000\n",
       "std       5029.976521\n",
       "min         12.000000\n",
       "25%        215.500000\n",
       "50%       1962.000000\n",
       "75%       7062.000000\n",
       "max      13966.000000\n",
       "Name: Age, dtype: float64"
      ]
     },
     "execution_count": 14,
     "metadata": {},
     "output_type": "execute_result"
    }
   ],
   "source": [
    "#describe the model's Age range feature for initial observations such as min/max \n",
    "df_data.Age.value_counts().describe()"
   ]
  },
  {
   "cell_type": "markdown",
   "metadata": {},
   "source": [
    "The visual representation of the agreegated age range using rectangular bars with lengths proportional to the values that they represent. "
   ]
  },
  {
   "cell_type": "code",
   "execution_count": 15,
   "metadata": {},
   "outputs": [
    {
     "data": {
      "text/plain": [
       "Text(0.5, 1.0, 'Age Frequency')"
      ]
     },
     "execution_count": 15,
     "metadata": {},
     "output_type": "execute_result"
    },
    {
     "data": {
      "image/png": "[encoded data removed]",
      "text/plain": [
       "<Figure size 480x400 with 1 Axes>"
      ]
     },
     "metadata": {
      "needs_background": "light"
     },
     "output_type": "display_data"
    }
   ],
   "source": [
    "plt.figure(figsize=(6,5), dpi= 80)\n",
    "df_data.groupby('Age')['Sex'].count().plot(kind='bar', color='k')\n",
    "plt.title('Age Frequency') "
   ]
  },
  {
   "cell_type": "markdown",
   "metadata": {},
   "source": [
    "### 8.1.1 Categorize the Gender of users across Age group"
   ]
  },
  {
   "cell_type": "markdown",
   "metadata": {},
   "source": [
    "In this sub-section we categorize the gender of users (Female and Male) across all age groups. This categoization helps us to identify the type of condition and satisfaction level toward the type of drug depending on the gender of the users.  "
   ]
  },
  {
   "cell_type": "code",
   "execution_count": 16,
   "metadata": {},
   "outputs": [],
   "source": [
    "#Exrtacting female users\n",
    "df_female=df_data[df_data['Sex']=='Female']"
   ]
  },
  {
   "cell_type": "code",
   "execution_count": 17,
   "metadata": {},
   "outputs": [
    {
     "data": {
      "text/plain": [
       "45-54         9019\n",
       "55-64         7191\n",
       "35-44         5928\n",
       "25-34         3771\n",
       "65-74         3067\n",
       "19-24         1361\n",
       "75 or over     911\n",
       "13-18          296\n",
       "7-12            10\n",
       "3-6              9\n",
       "0-2              7\n",
       "Name: Age, dtype: int64"
      ]
     },
     "execution_count": 17,
     "metadata": {},
     "output_type": "execute_result"
    }
   ],
   "source": [
    "df_female.Age.value_counts()"
   ]
  },
  {
   "cell_type": "code",
   "execution_count": 18,
   "metadata": {},
   "outputs": [
    {
     "data": {
      "text/html": [
       "<div>\n",
       "<style scoped>\n",
       "    .dataframe tbody tr th:only-of-type {\n",
       "        vertical-align: middle;\n",
       "    }\n",
       "\n",
       "    .dataframe tbody tr th {\n",
       "        vertical-align: top;\n",
       "    }\n",
       "\n",
       "    .dataframe thead th {\n",
       "        text-align: right;\n",
       "    }\n",
       "</style>\n",
       "<table border=\"1\" class=\"dataframe\">\n",
       "  <thead>\n",
       "    <tr style=\"text-align: right;\">\n",
       "      <th></th>\n",
       "      <th>EaseofUse</th>\n",
       "      <th>Effectiveness</th>\n",
       "      <th>Rating</th>\n",
       "    </tr>\n",
       "    <tr>\n",
       "      <th>Age</th>\n",
       "      <th></th>\n",
       "      <th></th>\n",
       "      <th></th>\n",
       "    </tr>\n",
       "  </thead>\n",
       "  <tbody>\n",
       "    <tr>\n",
       "      <td>0-2</td>\n",
       "      <td>2.714286</td>\n",
       "      <td>3.285714</td>\n",
       "      <td>3.142857</td>\n",
       "    </tr>\n",
       "    <tr>\n",
       "      <td>13-18</td>\n",
       "      <td>4.016892</td>\n",
       "      <td>3.307432</td>\n",
       "      <td>2.912162</td>\n",
       "    </tr>\n",
       "    <tr>\n",
       "      <td>19-24</td>\n",
       "      <td>4.210140</td>\n",
       "      <td>3.625276</td>\n",
       "      <td>3.243204</td>\n",
       "    </tr>\n",
       "    <tr>\n",
       "      <td>25-34</td>\n",
       "      <td>4.112437</td>\n",
       "      <td>3.521612</td>\n",
       "      <td>3.248475</td>\n",
       "    </tr>\n",
       "    <tr>\n",
       "      <td>3-6</td>\n",
       "      <td>3.777778</td>\n",
       "      <td>3.666667</td>\n",
       "      <td>3.444444</td>\n",
       "    </tr>\n",
       "    <tr>\n",
       "      <td>35-44</td>\n",
       "      <td>4.111505</td>\n",
       "      <td>3.493590</td>\n",
       "      <td>3.276991</td>\n",
       "    </tr>\n",
       "    <tr>\n",
       "      <td>45-54</td>\n",
       "      <td>4.129394</td>\n",
       "      <td>3.474443</td>\n",
       "      <td>3.241712</td>\n",
       "    </tr>\n",
       "    <tr>\n",
       "      <td>55-64</td>\n",
       "      <td>4.177722</td>\n",
       "      <td>3.509804</td>\n",
       "      <td>3.274371</td>\n",
       "    </tr>\n",
       "    <tr>\n",
       "      <td>65-74</td>\n",
       "      <td>4.188132</td>\n",
       "      <td>3.509292</td>\n",
       "      <td>3.289534</td>\n",
       "    </tr>\n",
       "    <tr>\n",
       "      <td>7-12</td>\n",
       "      <td>4.000000</td>\n",
       "      <td>3.900000</td>\n",
       "      <td>3.400000</td>\n",
       "    </tr>\n",
       "    <tr>\n",
       "      <td>75 or over</td>\n",
       "      <td>4.046103</td>\n",
       "      <td>3.331504</td>\n",
       "      <td>3.126235</td>\n",
       "    </tr>\n",
       "  </tbody>\n",
       "</table>\n",
       "</div>"
      ],
      "text/plain": [
       "            EaseofUse  Effectiveness    Rating\n",
       "Age                                           \n",
       "0-2          2.714286       3.285714  3.142857\n",
       "13-18        4.016892       3.307432  2.912162\n",
       "19-24        4.210140       3.625276  3.243204\n",
       "25-34        4.112437       3.521612  3.248475\n",
       "3-6          3.777778       3.666667  3.444444\n",
       "35-44        4.111505       3.493590  3.276991\n",
       "45-54        4.129394       3.474443  3.241712\n",
       "55-64        4.177722       3.509804  3.274371\n",
       "65-74        4.188132       3.509292  3.289534\n",
       "7-12         4.000000       3.900000  3.400000\n",
       "75 or over   4.046103       3.331504  3.126235"
      ]
     },
     "execution_count": 18,
     "metadata": {},
     "output_type": "execute_result"
    }
   ],
   "source": [
    "#The average ease of use, effectivess and rating for all age group of female users\n",
    "df_female.groupby('Age').mean()"
   ]
  },
  {
   "cell_type": "code",
   "execution_count": 19,
   "metadata": {},
   "outputs": [],
   "source": [
    "#Exrtacting male users\n",
    "df_male=df_data[df_data['Sex']=='Male']"
   ]
  },
  {
   "cell_type": "code",
   "execution_count": 20,
   "metadata": {},
   "outputs": [
    {
     "data": {
      "text/plain": [
       "45-54         4947\n",
       "55-64         4660\n",
       "35-44         2651\n",
       "65-74         2148\n",
       "25-34         1774\n",
       "75 or over     827\n",
       "19-24          601\n",
       "13-18          114\n",
       "7-12            11\n",
       "3-6              5\n",
       "0-2              5\n",
       "Name: Age, dtype: int64"
      ]
     },
     "execution_count": 20,
     "metadata": {},
     "output_type": "execute_result"
    }
   ],
   "source": [
    "df_male.Age.value_counts()"
   ]
  },
  {
   "cell_type": "code",
   "execution_count": 21,
   "metadata": {},
   "outputs": [
    {
     "data": {
      "text/html": [
       "<div>\n",
       "<style scoped>\n",
       "    .dataframe tbody tr th:only-of-type {\n",
       "        vertical-align: middle;\n",
       "    }\n",
       "\n",
       "    .dataframe tbody tr th {\n",
       "        vertical-align: top;\n",
       "    }\n",
       "\n",
       "    .dataframe thead th {\n",
       "        text-align: right;\n",
       "    }\n",
       "</style>\n",
       "<table border=\"1\" class=\"dataframe\">\n",
       "  <thead>\n",
       "    <tr style=\"text-align: right;\">\n",
       "      <th></th>\n",
       "      <th>EaseofUse</th>\n",
       "      <th>Effectiveness</th>\n",
       "      <th>Rating</th>\n",
       "    </tr>\n",
       "    <tr>\n",
       "      <th>Age</th>\n",
       "      <th></th>\n",
       "      <th></th>\n",
       "      <th></th>\n",
       "    </tr>\n",
       "  </thead>\n",
       "  <tbody>\n",
       "    <tr>\n",
       "      <td>0-2</td>\n",
       "      <td>4.200000</td>\n",
       "      <td>4.400000</td>\n",
       "      <td>4.200000</td>\n",
       "    </tr>\n",
       "    <tr>\n",
       "      <td>13-18</td>\n",
       "      <td>4.263158</td>\n",
       "      <td>3.666667</td>\n",
       "      <td>3.377193</td>\n",
       "    </tr>\n",
       "    <tr>\n",
       "      <td>19-24</td>\n",
       "      <td>4.276206</td>\n",
       "      <td>3.668885</td>\n",
       "      <td>3.430948</td>\n",
       "    </tr>\n",
       "    <tr>\n",
       "      <td>25-34</td>\n",
       "      <td>4.310598</td>\n",
       "      <td>3.673055</td>\n",
       "      <td>3.483089</td>\n",
       "    </tr>\n",
       "    <tr>\n",
       "      <td>3-6</td>\n",
       "      <td>2.000000</td>\n",
       "      <td>2.800000</td>\n",
       "      <td>2.600000</td>\n",
       "    </tr>\n",
       "    <tr>\n",
       "      <td>35-44</td>\n",
       "      <td>4.313844</td>\n",
       "      <td>3.701999</td>\n",
       "      <td>3.528480</td>\n",
       "    </tr>\n",
       "    <tr>\n",
       "      <td>45-54</td>\n",
       "      <td>4.225793</td>\n",
       "      <td>3.580958</td>\n",
       "      <td>3.416010</td>\n",
       "    </tr>\n",
       "    <tr>\n",
       "      <td>55-64</td>\n",
       "      <td>4.289270</td>\n",
       "      <td>3.570172</td>\n",
       "      <td>3.407725</td>\n",
       "    </tr>\n",
       "    <tr>\n",
       "      <td>65-74</td>\n",
       "      <td>4.198790</td>\n",
       "      <td>3.440410</td>\n",
       "      <td>3.297020</td>\n",
       "    </tr>\n",
       "    <tr>\n",
       "      <td>7-12</td>\n",
       "      <td>3.818182</td>\n",
       "      <td>4.090909</td>\n",
       "      <td>4.181818</td>\n",
       "    </tr>\n",
       "    <tr>\n",
       "      <td>75 or over</td>\n",
       "      <td>4.241838</td>\n",
       "      <td>3.451028</td>\n",
       "      <td>3.344619</td>\n",
       "    </tr>\n",
       "  </tbody>\n",
       "</table>\n",
       "</div>"
      ],
      "text/plain": [
       "            EaseofUse  Effectiveness    Rating\n",
       "Age                                           \n",
       "0-2          4.200000       4.400000  4.200000\n",
       "13-18        4.263158       3.666667  3.377193\n",
       "19-24        4.276206       3.668885  3.430948\n",
       "25-34        4.310598       3.673055  3.483089\n",
       "3-6          2.000000       2.800000  2.600000\n",
       "35-44        4.313844       3.701999  3.528480\n",
       "45-54        4.225793       3.580958  3.416010\n",
       "55-64        4.289270       3.570172  3.407725\n",
       "65-74        4.198790       3.440410  3.297020\n",
       "7-12         3.818182       4.090909  4.181818\n",
       "75 or over   4.241838       3.451028  3.344619"
      ]
     },
     "execution_count": 21,
     "metadata": {},
     "output_type": "execute_result"
    }
   ],
   "source": [
    "#The average ease of use, effectivess and rating for all age group of male users\n",
    "df_male.groupby('Age').mean()"
   ]
  },
  {
   "cell_type": "markdown",
   "metadata": {},
   "source": [
    "In order to compare the number (frequency) of Female and Male pain medicine users we plot side-by-side bar plots using subplot function. From the side-by-side rectangular bars with lengths proportional to the values for Female and male plot, one can note that the number of female pain medicine users are higher than male users."
   ]
  },
  {
   "cell_type": "code",
   "execution_count": 22,
   "metadata": {},
   "outputs": [
    {
     "data": {
      "text/plain": [
       "Text(0.5, 1.0, 'Male Age Frequency')"
      ]
     },
     "execution_count": 22,
     "metadata": {},
     "output_type": "execute_result"
    },
    {
     "data": {
      "image/png": "[encoded data removed]",
      "text/plain": [
       "<Figure size 960x400 with 2 Axes>"
      ]
     },
     "metadata": {
      "needs_background": "light"
     },
     "output_type": "display_data"
    }
   ],
   "source": [
    "plt.figure(figsize=(12,5), dpi= 80)\n",
    "plt.subplot(1, 2, 1)\n",
    "df_female.groupby('Age')['Sex'].count().plot(kind='bar', color='k')\n",
    "plt.ylim(0,10000)\n",
    "plt.ylabel('Number of occurence')\n",
    "plt.title('Female Age Frequency')\n",
    "plt.subplot(1, 2, 2)\n",
    "df_male.groupby('Age')['Sex'].count().plot(kind='bar', color='k')\n",
    "plt.ylim(0,10000)\n",
    "plt.title('Male Age Frequency')"
   ]
  },
  {
   "cell_type": "markdown",
   "metadata": {},
   "source": [
    "## 8.2 Bivariate Data (Frequency and Density Histograms Plots)"
   ]
  },
  {
   "cell_type": "markdown",
   "metadata": {},
   "source": [
    "The purpose of bivariate data is to analyze and explain the relationship between two different variables. In this section we examine and present the relationship between the variables in the dataset."
   ]
  },
  {
   "cell_type": "markdown",
   "metadata": {},
   "source": [
    "## 8.2.1 Frequency Histogram"
   ]
  },
  {
   "cell_type": "markdown",
   "metadata": {},
   "source": [
    "##### 8.2.1.1 Frequency Histogram of top five Drug by Age and Sex"
   ]
  },
  {
   "cell_type": "markdown",
   "metadata": {},
   "source": [
    "The first bivariate data analysis is teh relationship between users age and drug type. Then we separate this relationship by users sex for comparison purpose. The total unique drugs used for pain relievers is more than 600 which makes it difficult to simply figure out the relationship between the variables. Hence we selected the top five (five most used pain drugs) for analysis purpose. In addition, the age in the dataset is represented as range and for the remaining analysis we replace them with approximate average age for simplicity. "
   ]
  },
  {
   "cell_type": "code",
   "execution_count": 23,
   "metadata": {},
   "outputs": [],
   "source": [
    "df_data['Age'].replace(['0-2','3-6','7-12','13-18','19-24','25-34','35-44','45-54','55-64','65-74','75 or over'],\n",
    "                  [1,5,10,15,20,30,40,50,60,70,80], inplace=True)"
   ]
  },
  {
   "cell_type": "code",
   "execution_count": 24,
   "metadata": {},
   "outputs": [
    {
     "data": {
      "text/html": [
       "<div>\n",
       "<style scoped>\n",
       "    .dataframe tbody tr th:only-of-type {\n",
       "        vertical-align: middle;\n",
       "    }\n",
       "\n",
       "    .dataframe tbody tr th {\n",
       "        vertical-align: top;\n",
       "    }\n",
       "\n",
       "    .dataframe thead th {\n",
       "        text-align: right;\n",
       "    }\n",
       "</style>\n",
       "<table border=\"1\" class=\"dataframe\">\n",
       "  <thead>\n",
       "    <tr style=\"text-align: right;\">\n",
       "      <th></th>\n",
       "      <th>Age</th>\n",
       "      <th>Condition</th>\n",
       "      <th>Drug</th>\n",
       "      <th>EaseofUse</th>\n",
       "      <th>Effectiveness</th>\n",
       "      <th>Rating</th>\n",
       "      <th>Sex</th>\n",
       "    </tr>\n",
       "  </thead>\n",
       "  <tbody>\n",
       "    <tr>\n",
       "      <td>164123</td>\n",
       "      <td>50</td>\n",
       "      <td>Disorder characterized by Stiff, Tender &amp; Pain...</td>\n",
       "      <td>savella</td>\n",
       "      <td>5</td>\n",
       "      <td>5</td>\n",
       "      <td>5</td>\n",
       "      <td>Female</td>\n",
       "    </tr>\n",
       "    <tr>\n",
       "      <td>131741</td>\n",
       "      <td>40</td>\n",
       "      <td>Painful Periods</td>\n",
       "      <td>ponstel</td>\n",
       "      <td>4</td>\n",
       "      <td>1</td>\n",
       "      <td>1</td>\n",
       "      <td>Female</td>\n",
       "    </tr>\n",
       "    <tr>\n",
       "      <td>185930</td>\n",
       "      <td>50</td>\n",
       "      <td>Pain</td>\n",
       "      <td>tramadol hcl er</td>\n",
       "      <td>1</td>\n",
       "      <td>1</td>\n",
       "      <td>1</td>\n",
       "      <td>Female</td>\n",
       "    </tr>\n",
       "    <tr>\n",
       "      <td>77893</td>\n",
       "      <td>70</td>\n",
       "      <td>Pain</td>\n",
       "      <td>morphine sulfate</td>\n",
       "      <td>4</td>\n",
       "      <td>3</td>\n",
       "      <td>3</td>\n",
       "      <td>Female</td>\n",
       "    </tr>\n",
       "    <tr>\n",
       "      <td>68622</td>\n",
       "      <td>50</td>\n",
       "      <td>Pain</td>\n",
       "      <td>opana</td>\n",
       "      <td>5</td>\n",
       "      <td>4</td>\n",
       "      <td>4</td>\n",
       "      <td>Male</td>\n",
       "    </tr>\n",
       "  </tbody>\n",
       "</table>\n",
       "</div>"
      ],
      "text/plain": [
       "        Age                                          Condition  \\\n",
       "164123   50  Disorder characterized by Stiff, Tender & Pain...   \n",
       "131741   40                                    Painful Periods   \n",
       "185930   50                                               Pain   \n",
       "77893    70                                               Pain   \n",
       "68622    50                                               Pain   \n",
       "\n",
       "                    Drug  EaseofUse  Effectiveness  Rating     Sex  \n",
       "164123           savella          5              5       5  Female  \n",
       "131741           ponstel          4              1       1  Female  \n",
       "185930   tramadol hcl er          1              1       1  Female  \n",
       "77893   morphine sulfate          4              3       3  Female  \n",
       "68622              opana          5              4       4    Male  "
      ]
     },
     "execution_count": 24,
     "metadata": {},
     "output_type": "execute_result"
    }
   ],
   "source": [
    "df_data.sample(5)"
   ]
  },
  {
   "cell_type": "code",
   "execution_count": 25,
   "metadata": {},
   "outputs": [
    {
     "data": {
      "text/plain": [
       "606"
      ]
     },
     "execution_count": 25,
     "metadata": {},
     "output_type": "execute_result"
    }
   ],
   "source": [
    "#check types drug used for pain reliever\n",
    "df_data['Drug'].nunique()"
   ]
  },
  {
   "cell_type": "markdown",
   "metadata": {},
   "source": [
    "As explained above, select the top five drugs used the most by the users for analysis and demonstration porpose. "
   ]
  },
  {
   "cell_type": "code",
   "execution_count": 26,
   "metadata": {},
   "outputs": [],
   "source": [
    "drug_data=pd.Series(df_data.groupby('Drug')['Drug'].count())\n",
    "drug_data=drug_data.sort_values(ascending=False)\n",
    "top_five=drug_data.index[:5]\n",
    "# Subset to the top 5 drugs\n",
    "top_five_drug=df_data[df_data['Drug'].isin(top_five)]"
   ]
  },
  {
   "cell_type": "markdown",
   "metadata": {},
   "source": [
    "Below is the histogram representing the relationship between Age and top five drugs. Since we selected the top five drugs, we iterate through using 'for loop' for each drug and plot the histogram using hist function. The bins are uniformly divided with the size of 10 and to difrentiate each bin from one another edgecolor is used. From the top five drug distribution across age group, we can see that the distribution is closely resembling of Gaussian distribution where the drug frequency increases as the age increases and after attaing the pick at average age 50 it starts to decrease."
   ]
  },
  {
   "cell_type": "code",
   "execution_count": 27,
   "metadata": {},
   "outputs": [
    {
     "data": {
      "text/plain": [
       "Text(0, 0.5, 'Drug Frequency')"
      ]
     },
     "execution_count": 27,
     "metadata": {},
     "output_type": "execute_result"
    },
    {
     "data": {
      "image/png": "[encoded data removed]",
      "text/plain": [
       "<Figure size 480x400 with 1 Axes>"
      ]
     },
     "metadata": {
      "needs_background": "light"
     },
     "output_type": "display_data"
    }
   ],
   "source": [
    "#figure size\n",
    "plt.figure(figsize=(6,5), dpi= 80)\n",
    "bins=[0,10,20,30,40,50,60,70,80, 90]\n",
    "\n",
    "# Iterate through each of the five drugs\n",
    "for medicine in top_five:\n",
    "    subset=top_five_drug[top_five_drug['Drug']==medicine]\n",
    "    plt.hist(subset['Age'],bins=bins,alpha=0.7, edgecolor='k',\n",
    "                label=medicine)\n",
    "plt.xlim(0,90)\n",
    "plt.ylim(0,900)\n",
    "plt.legend()\n",
    "plt.title('Histogram of Drug Frequency by Age'); plt.xlabel('Age'); plt.ylabel('Drug Frequency')"
   ]
  },
  {
   "cell_type": "markdown",
   "metadata": {},
   "source": [
    "The frequency relationship of drug and age for female and male users are analyzed. First we selected female and male users then exratct the top five drugs for each gender. We note that the top five drugs are different for male and female users. The top five drugs for female users are: hydrocodone-acetaminophen, tramadol hcl er, tramadol hcl,lyrica and cymbalta. The drugs used by male in top five are: hydrocodone-acetaminophen, tramadol hcl, tramadol hcl er,lyrica and oxycodone tablet, oral only. Even though the top drugs are different, the distribution trend is the similar except at the pick. Average age of 50 is the pick for female users and for male users teh pick is 50 and 60. One can obivously note that the female users are greater in number than male users."
   ]
  },
  {
   "cell_type": "code",
   "execution_count": 28,
   "metadata": {},
   "outputs": [],
   "source": [
    "# Selecting only female users\n",
    "df_female=df_data[df_data['Sex']=='Female']"
   ]
  },
  {
   "cell_type": "code",
   "execution_count": 29,
   "metadata": {},
   "outputs": [],
   "source": [
    "# ESelecting only male users\n",
    "df_male=df_data[df_data['Sex']=='Male']"
   ]
  },
  {
   "cell_type": "code",
   "execution_count": 30,
   "metadata": {},
   "outputs": [
    {
     "data": {
      "text/plain": [
       "Text(0, 0.5, 'Drug Frequency')"
      ]
     },
     "execution_count": 30,
     "metadata": {},
     "output_type": "execute_result"
    },
    {
     "data": {
      "image/png": "[encoded data removed]",
      "text/plain": [
       "<Figure size 960x400 with 2 Axes>"
      ]
     },
     "metadata": {
      "needs_background": "light"
     },
     "output_type": "display_data"
    }
   ],
   "source": [
    "# Extract top five drugs used the most among Female users\n",
    "drug_female=pd.Series(df_female.groupby('Drug')['Drug'].count())\n",
    "drug_female=drug_female.sort_values(ascending=False)\n",
    "top_five_female=drug_female.index[:5]\n",
    "\n",
    "# Subset to the top 5 drugs\n",
    "top_five_drug_female=df_female[df_female['Drug'].isin(top_five_female)]\n",
    "\n",
    "#figure size\n",
    "plt.figure(figsize=(12,5), dpi= 80)\n",
    "bins=[0,10,20,30,40,50,60,70,80, 90]\n",
    "\n",
    "# Iterate through each of the five drugs\n",
    "plt.subplot(1,2,1)\n",
    "for medicine in top_five_female:\n",
    "    subset=top_five_drug_female[top_five_drug_female['Drug']==medicine]\n",
    "    plt.hist(subset['Age'],bins=bins,alpha=0.7, edgecolor='k',\n",
    "                label=medicine)\n",
    "plt.xlim(0,90)  \n",
    "plt.ylim(0,600)\n",
    "plt.legend(loc='upper left')\n",
    "plt.title('Histogram of Drug Frequency Females by Age'); plt.xlabel('Age'); plt.ylabel('Drug Frequency')\n",
    "\n",
    "# Extract top five drugs used the most among male users\n",
    "drug_male=pd.Series(df_male.groupby('Drug')['Drug'].count())\n",
    "drug_male=drug_male.sort_values(ascending=False)\n",
    "top_five_male=drug_male.index[:5]\n",
    "\n",
    "# Subset to the top 5 drugs\n",
    "top_five_drug_male=df_male[df_male['Drug'].isin(top_five_male)]\n",
    "\n",
    "\n",
    "\n",
    "# Iterate through each of the five drugs\n",
    "plt.subplot(1,2,2)\n",
    "for medicine in top_five:\n",
    "    subset=top_five_drug_male[top_five_drug_male['Drug']==medicine]\n",
    "    plt.hist(subset['Age'],bins=bins,alpha=0.7, edgecolor='k',\n",
    "                label=medicine)\n",
    "plt.xlim(0,90)\n",
    "plt.ylim(0,600)\n",
    "plt.legend(loc='upper left')\n",
    "plt.title('Histogram of Drug Frequency Males by Age'); plt.xlabel('Age'); plt.ylabel('Drug Frequency')"
   ]
  },
  {
   "cell_type": "markdown",
   "metadata": {},
   "source": [
    "#### 8.2.1.2 Frequency Histogram of EaseofUse and Effectiveness for top five drugs"
   ]
  },
  {
   "cell_type": "markdown",
   "metadata": {},
   "source": [
    "#### a. Frequency Histogram of EaseofUse for top five drugs"
   ]
  },
  {
   "cell_type": "markdown",
   "metadata": {},
   "source": [
    "Since we know the top five drugs used by the both male and female, we hard coded the drug type and extract the coresponding EaseofUse and plot histogram with hist function. Looking at the plot, the EaseofUse frequency generaly increases as the EasofUse increase. "
   ]
  },
  {
   "cell_type": "code",
   "execution_count": 31,
   "metadata": {},
   "outputs": [
    {
     "data": {
      "text/plain": [
       "Text(0.5, 1.0, 'Histogram of EaseofUse Frequency')"
      ]
     },
     "execution_count": 31,
     "metadata": {},
     "output_type": "execute_result"
    },
    {
     "data": {
      "image/png": "[encoded data removed]",
      "text/plain": [
       "<Figure size 480x400 with 1 Axes>"
      ]
     },
     "metadata": {
      "needs_background": "light"
     },
     "output_type": "display_data"
    }
   ],
   "source": [
    "# Extract EaseofUse for top five drugs used  \n",
    "\n",
    "x1 = list(df_data[df_data['Drug'] == 'hydrocodone-acetaminophen']['EaseofUse'])\n",
    "x2 = list(df_data[df_data['Drug'] == 'tramadol hcl']['EaseofUse'])\n",
    "x3 = list(df_data[df_data['Drug'] == 'tramadol hcl er']['EaseofUse'])\n",
    "x4 = list(df_data[df_data['Drug'] == 'lyrica']['EaseofUse'])\n",
    "x5 = list(df_data[df_data['Drug'] == 'oxycodone tablet, oral only']['EaseofUse'])\n",
    "\n",
    "plt.figure(figsize=(6,5), dpi= 80)\n",
    "# Assign colors for each Drug and EaseofUse\n",
    "colors = ['#E69F00', '#56B4E9', '#F0E442', '#009E73', '#D55E00']\n",
    "druglist = ['hydrocodone-acetaminophen.', 'tramadol hcl', 'tramadol hcl er',\n",
    "         'lyrica', 'oxycodone tablet, oral only']\n",
    "\n",
    "plt.hist([x1, x2, x3, x4, x5], bins = 5, edgecolor='k',\n",
    "         color = colors, label=druglist)\n",
    "\n",
    "# Plot formatting\n",
    "plt.legend()\n",
    "plt.xlabel('EaseofUse')\n",
    "plt.ylabel('EaseofUse Frequency')\n",
    "plt.title('Histogram of EaseofUse Frequency')"
   ]
  },
  {
   "cell_type": "markdown",
   "metadata": {},
   "source": [
    "#### b. The comparison of frequency histogram of EaseofUse for top five drugs between Female and Male Users"
   ]
  },
  {
   "cell_type": "markdown",
   "metadata": {},
   "source": [
    "To see the effect of gender on the EaseofUse frequency for top five drugs, we plot the histogram for both gender implementing the same method above. The frequency trend for female users is very similar eith the over all frequency distribution presented above but the for male it is a little different.  "
   ]
  },
  {
   "cell_type": "code",
   "execution_count": 32,
   "metadata": {},
   "outputs": [
    {
     "data": {
      "text/plain": [
       "Text(0.5, 1.0, 'Histogram of EaseofUse Frequency of Male')"
      ]
     },
     "execution_count": 32,
     "metadata": {},
     "output_type": "execute_result"
    },
    {
     "data": {
      "image/png": "[encoded data removed]",
      "text/plain": [
       "<Figure size 960x400 with 2 Axes>"
      ]
     },
     "metadata": {
      "needs_background": "light"
     },
     "output_type": "display_data"
    }
   ],
   "source": [
    "# Extract EaseofUse for top five drugs used  \n",
    "plt.figure(figsize=(12,5), dpi= 80)\n",
    "y1 = list(df_female[df_female['Drug'] == 'hydrocodone-acetaminophen']['EaseofUse'])\n",
    "y2 = list(df_female[df_female['Drug'] == 'tramadol hcl er']['EaseofUse'])\n",
    "y3 = list(df_female[df_female['Drug'] == 'tramadol hcl']['EaseofUse'])\n",
    "y4 = list(df_female[df_female['Drug'] == 'lyrica']['EaseofUse'])\n",
    "y5 = list(df_female[df_female['Drug'] == 'cymbalta']['EaseofUse'])\n",
    "\n",
    "# Assign colors for each Drug and EaseofUse\n",
    "colors = ['#E69F00', '#56B4E9', '#F0E442', '#009E73', '#D55E00']\n",
    "druglist = ['hydrocodone-acetaminophen.', 'tramadol hcl er', 'tramadol hcl',\n",
    "         'lyrica', 'cymbalta']\n",
    "plt.subplot(1, 2, 1)\n",
    "plt.hist([y1, y2, y3, y4, y5], bins = 5, edgecolor='k',\n",
    "         color = colors, label=druglist)\n",
    "\n",
    "# Plot formatting\n",
    "plt.legend()\n",
    "plt.xlabel('EaseofUse')\n",
    "plt.ylabel('EaseofUse Frequency of Female')\n",
    "plt.ylim(0,1200)\n",
    "plt.title('Histogram of EaseofUse Frequency of Female')\n",
    "# Extract EaseofUse for top five drugs used  \n",
    "x11 = list(df_male[df_male['Drug'] == 'hydrocodone-acetaminophen']['EaseofUse'])\n",
    "x12 = list(df_male[df_male['Drug'] == 'tramadol hcl']['EaseofUse'])\n",
    "x13 = list(df_male[df_male['Drug'] == 'tramadol hcl er']['EaseofUse'])\n",
    "x14 = list(df_male[df_male['Drug'] == 'lyrica']['EaseofUse'])\n",
    "x15 = list(df_male[df_male['Drug'] == 'oxycodone tablet, oral only']['EaseofUse'])\n",
    "druglist = ['hydrocodone-acetaminophen.', 'tramadol hcl', 'tramadol hcl er',\n",
    "         'lyrica', 'oxycodone tablet, oral only']\n",
    "\n",
    "plt.subplot(1, 2, 2)\n",
    "plt.hist([x11, x12, x13, x14, x15], bins = 5, edgecolor='k',\n",
    "         color = colors, label=druglist)\n",
    "\n",
    "# Plot formatting\n",
    "plt.legend()\n",
    "plt.xlabel('EaseofUse')\n",
    "plt.ylabel('EaseofUse Frequency of Male')\n",
    "plt.ylim(0,1200)\n",
    "plt.title('Histogram of EaseofUse Frequency of Male')"
   ]
  },
  {
   "cell_type": "markdown",
   "metadata": {},
   "source": [
    "#### c. Frequency Histogram of Effectiveness for top five drugs "
   ]
  },
  {
   "cell_type": "markdown",
   "metadata": {},
   "source": [
    "Frequency Histogram of Effectiveness for top five drugs are also plotted for both gender in aggregate and in separate. Both extraction and plotting methods are the same as that used EaseofUse variable. Looking at the plot, the frequency of the first drug hydrocodone-acetaminophen is much higher that the next drugs."
   ]
  },
  {
   "cell_type": "code",
   "execution_count": 33,
   "metadata": {},
   "outputs": [
    {
     "data": {
      "text/plain": [
       "Text(0.5, 1.0, 'Histogram of Effectiveness Frequency')"
      ]
     },
     "execution_count": 33,
     "metadata": {},
     "output_type": "execute_result"
    },
    {
     "data": {
      "image/png": "[encoded data removed]",
      "text/plain": [
       "<Figure size 480x400 with 1 Axes>"
      ]
     },
     "metadata": {
      "needs_background": "light"
     },
     "output_type": "display_data"
    }
   ],
   "source": [
    "# Extract Effectiveness for top five drugs used  \n",
    "plt.figure(figsize=(6,5), dpi= 80)\n",
    "x6 = list(df_data[df_data['Drug'] == 'hydrocodone-acetaminophen']['Effectiveness'])\n",
    "x7 = list(df_data[df_data['Drug'] == 'tramadol hcl']['Effectiveness'])\n",
    "x8 = list(df_data[df_data['Drug'] == 'tramadol hcl er']['Effectiveness'])\n",
    "x9 = list(df_data[df_data['Drug'] == 'lyrica']['Effectiveness'])\n",
    "x10 = list(df_data[df_data['Drug'] == 'oxycodone tablet, oral only']['Effectiveness'])\n",
    "\n",
    "# Assign colors for each Drug and EaseofUse\n",
    "colors = ['#E69F00', '#56B4E9', '#F0E442', '#009E73', '#D55E00']\n",
    "druglist = ['hydrocodone-acetaminophen.', 'tramadol hcl', 'tramadol hcl er',\n",
    "         'lyrica', 'oxycodone tablet, oral only']\n",
    "\n",
    "plt.hist([x6, x7, x8, x9, x10], bins = 5, edgecolor='k',\n",
    "         color = colors, label=druglist)\n",
    "\n",
    "# Plot formatting\n",
    "plt.legend()\n",
    "plt.xlabel('Effectiveness')\n",
    "plt.ylabel('Effectiveness Frequency')\n",
    "plt.title('Histogram of Effectiveness Frequency')"
   ]
  },
  {
   "cell_type": "code",
   "execution_count": null,
   "metadata": {},
   "outputs": [],
   "source": []
  },
  {
   "cell_type": "markdown",
   "metadata": {},
   "source": [
    "#### d. Frequency Histogram of Effectiveness for top five drugs among Female and Male Users"
   ]
  },
  {
   "cell_type": "markdown",
   "metadata": {},
   "source": [
    "In this section we plot the comparison of the frequency of effectiveness for top five drugs between Female and Male users. The effectiveness frequency distribution of female users and the aggregated frequency distribution is similar  "
   ]
  },
  {
   "cell_type": "code",
   "execution_count": 34,
   "metadata": {},
   "outputs": [
    {
     "data": {
      "text/plain": [
       "Text(0.5, 1.0, 'Histogram of Effectiveness Frequency of Male')"
      ]
     },
     "execution_count": 34,
     "metadata": {},
     "output_type": "execute_result"
    },
    {
     "data": {
      "image/png": "[encoded data removed]",
      "text/plain": [
       "<Figure size 960x400 with 2 Axes>"
      ]
     },
     "metadata": {
      "needs_background": "light"
     },
     "output_type": "display_data"
    }
   ],
   "source": [
    "plt.figure(figsize=(12,5), dpi= 80)\n",
    "# Extract Effectiveness for top five drugs used  \n",
    "x6 = list(df_female[df_female['Drug'] == 'hydrocodone-acetaminophen']['Effectiveness'])\n",
    "x7 = list(df_female[df_female['Drug'] == 'tramadol hcl er']['Effectiveness'])\n",
    "x8 = list(df_female[df_female['Drug'] == 'tramadol hcl']['Effectiveness'])\n",
    "x9 = list(df_female[df_female['Drug'] == 'lyrica']['Effectiveness'])\n",
    "x10 = list(df_female[df_female['Drug'] == 'cymbalta']['Effectiveness'])\n",
    "\n",
    "# Assign colors for each Drug and EaseofUse\n",
    "colors = ['#E69F00', '#56B4E9', '#F0E442', '#009E73', '#D55E00']\n",
    "druglist = ['hydrocodone-acetaminophen.', 'tramadol hcl er', 'tramadol hcl',\n",
    "         'lyrica', 'cymbalta']\n",
    "plt.subplot(1,2,1)\n",
    "plt.hist([x6, x7, x8, x9, x10], bins = 5, edgecolor='k',\n",
    "         color = colors, label=druglist)\n",
    "\n",
    "# Plot formatting\n",
    "plt.legend()\n",
    "plt.xlabel('Effectiveness')\n",
    "plt.ylabel('Effectiveness Frequency of Female')\n",
    "plt.ylim(0,700)\n",
    "plt.title('Histogram of Effectiveness Frequency of Female')\n",
    "\n",
    "# Extract Effectiveness for top five drugs used  \n",
    "x16 = list(df_male[df_male['Drug'] == 'hydrocodone-acetaminophen']['Effectiveness'])\n",
    "x17 = list(df_male[df_male['Drug'] == 'tramadol hcl']['Effectiveness'])\n",
    "x18 = list(df_male[df_male['Drug'] == 'tramadol hcl er']['Effectiveness'])\n",
    "x19 = list(df_male[df_male['Drug'] == 'lyrica']['Effectiveness'])\n",
    "x110 = list(df_male[df_male['Drug'] == 'oxycodone tablet, oral only']['Effectiveness'])\n",
    "\n",
    "plt.subplot(1,2,2)\n",
    "druglist = ['hydrocodone-acetaminophen.', 'tramadol hcl', 'tramadol hcl er',\n",
    "         'lyrica', 'oxycodone tablet, oral only']\n",
    "plt.hist([x16, x17, x18, x19, x110], bins = 5, edgecolor='k',\n",
    "         color = colors, label=druglist)\n",
    "\n",
    "# Plot formatting\n",
    "plt.legend(loc='upper left')\n",
    "plt.xlabel('Effectiveness')\n",
    "plt.ylabel('Effectiveness Frequency of Male')\n",
    "plt.ylim(0,700)\n",
    "plt.title('Histogram of Effectiveness Frequency of Male')"
   ]
  },
  {
   "cell_type": "markdown",
   "metadata": {},
   "source": [
    "# 9.2 Probability Histogram"
   ]
  },
  {
   "cell_type": "markdown",
   "metadata": {},
   "source": [
    "### 9.2.1 Probability Histogram of top five Drug by Age"
   ]
  },
  {
   "cell_type": "code",
   "execution_count": 35,
   "metadata": {},
   "outputs": [
    {
     "data": {
      "text/plain": [
       "Text(0, 0.5, 'Drug Probability')"
      ]
     },
     "execution_count": 35,
     "metadata": {},
     "output_type": "execute_result"
    },
    {
     "data": {
      "image/png": "[encoded data removed]",
      "text/plain": [
       "<Figure size 480x400 with 1 Axes>"
      ]
     },
     "metadata": {
      "needs_background": "light"
     },
     "output_type": "display_data"
    }
   ],
   "source": [
    "#figure size\n",
    "plt.figure(figsize=(6,5), dpi= 80)\n",
    "bins=[0,10,20,30,40,50,60,70,80, 90]\n",
    "\n",
    "# Iterate through each of the five drugs\n",
    "for medicine in top_five:\n",
    "    subset=top_five_drug[top_five_drug['Drug']==medicine]\n",
    "    plt.hist(subset['Age'],bins=bins,alpha=0.6,edgecolor='k', density=True,\n",
    "                label=medicine)\n",
    "plt.xlim(0,90)    \n",
    "plt.legend()\n",
    "plt.title('Histogram of Drugs Probability by Age'); plt.xlabel('Age'); plt.ylabel('Drug Probability')"
   ]
  },
  {
   "cell_type": "code",
   "execution_count": 36,
   "metadata": {},
   "outputs": [],
   "source": [
    "### Proability Histogram of top five Drug by Age of Female and Male"
   ]
  },
  {
   "cell_type": "code",
   "execution_count": 37,
   "metadata": {},
   "outputs": [
    {
     "name": "stderr",
     "output_type": "stream",
     "text": [
      "C:\\ProgramData\\Anaconda3\\lib\\site-packages\\numpy\\lib\\histograms.py:893: RuntimeWarning: invalid value encountered in true_divide\n",
      "  return n/db/n.sum(), bin_edges\n"
     ]
    },
    {
     "data": {
      "text/plain": [
       "Text(0, 0.5, 'Drug Probability')"
      ]
     },
     "execution_count": 37,
     "metadata": {},
     "output_type": "execute_result"
    },
    {
     "data": {
      "image/png": "[encoded data removed]",
      "text/plain": [
       "<Figure size 960x400 with 2 Axes>"
      ]
     },
     "metadata": {
      "needs_background": "light"
     },
     "output_type": "display_data"
    }
   ],
   "source": [
    "#figure size\n",
    "plt.figure(figsize=(12,5), dpi= 80)\n",
    "bins=[0,10,20,30,40,50,60,70,80, 90]\n",
    "\n",
    "# Iterate through each of the five drugs\n",
    "plt.subplot(1,2,1)\n",
    "for medicine in top_five_female:\n",
    "    subset=top_five_drug_female[top_five_drug_female['Drug']==medicine]\n",
    "    plt.hist(subset['Age'],bins=bins,alpha=0.7,density=True, edgecolor='k',\n",
    "                label=medicine)\n",
    "plt.xlim(0,90)    \n",
    "plt.legend()\n",
    "plt.title('Histogram of Drugs Probability Females by Age'); plt.xlabel('Age'); plt.ylabel('Drug Probability')\n",
    "\n",
    "plt.subplot(1,2,2)\n",
    "for medicine in top_five:\n",
    "    subset=top_five_drug_male[top_five_drug_male['Drug']==medicine]\n",
    "    plt.hist(subset['Age'],bins=bins,alpha=0.7, density=True, edgecolor='k',\n",
    "                label=medicine)\n",
    "plt.xlim(0,90)    \n",
    "plt.legend()\n",
    "plt.title('Histogram of Drugs Probability Males by Age'); plt.xlabel('Age'); plt.ylabel('Drug Probability')"
   ]
  },
  {
   "cell_type": "code",
   "execution_count": 38,
   "metadata": {},
   "outputs": [],
   "source": [
    "### Proability Histogram of EaseofUse for top five drugs"
   ]
  },
  {
   "cell_type": "code",
   "execution_count": 39,
   "metadata": {},
   "outputs": [
    {
     "data": {
      "text/plain": [
       "Text(0.5, 1.0, 'Histogram of EaseofUse Probability')"
      ]
     },
     "execution_count": 39,
     "metadata": {},
     "output_type": "execute_result"
    },
    {
     "data": {
      "image/png": "[encoded data removed]",
      "text/plain": [
       "<Figure size 480x400 with 1 Axes>"
      ]
     },
     "metadata": {
      "needs_background": "light"
     },
     "output_type": "display_data"
    }
   ],
   "source": [
    "plt.figure(figsize=(6,5), dpi= 80)\n",
    "plt.hist([x1, x2, x3, x4, x5], bins = 5, edgecolor='k', density=True,\n",
    "         color = colors, label=druglist)\n",
    "\n",
    "# Plot formatting\n",
    "plt.legend()\n",
    "plt.xlabel('EaseofUse')\n",
    "plt.ylabel('EaseofUse Probability')\n",
    "plt.title('Histogram of EaseofUse Probability')"
   ]
  },
  {
   "cell_type": "code",
   "execution_count": 40,
   "metadata": {},
   "outputs": [],
   "source": [
    "### Proability Histogram of Effectiveness for top five drugs"
   ]
  },
  {
   "cell_type": "code",
   "execution_count": 41,
   "metadata": {},
   "outputs": [
    {
     "data": {
      "text/plain": [
       "Text(0.5, 1.0, 'Histogram of Effectiveness Probability')"
      ]
     },
     "execution_count": 41,
     "metadata": {},
     "output_type": "execute_result"
    },
    {
     "data": {
      "image/png": "[encoded data removed]",
      "text/plain": [
       "<Figure size 480x400 with 1 Axes>"
      ]
     },
     "metadata": {
      "needs_background": "light"
     },
     "output_type": "display_data"
    }
   ],
   "source": [
    "plt.figure(figsize=(6,5), dpi= 80)\n",
    "plt.hist([x6, x7, x8, x9, x10], bins = 5, edgecolor='k', density=True,\n",
    "         color = colors, label=druglist)\n",
    "\n",
    "# Plot formatting\n",
    "plt.legend()\n",
    "plt.xlabel('Effectiveness')\n",
    "plt.ylabel('Effectiveness Probability')\n",
    "plt.title('Histogram of Effectiveness Probability')"
   ]
  },
  {
   "cell_type": "markdown",
   "metadata": {},
   "source": [
    "# 10 Which variable Effectiveness or EaseofUse determine the RATING of the drug the best"
   ]
  },
  {
   "cell_type": "markdown",
   "metadata": {},
   "source": [
    "## 10.1 Relationship between variables"
   ]
  },
  {
   "cell_type": "markdown",
   "metadata": {},
   "source": [
    "It is always good to start to figure out the relationship between variable before dealing with which variables are more determine the our target variable. We plot the relationship between Age and EaseofUse, Age and Effectiveness, Age and Rating, EaseofUse and Effectiveness, Rating and EaseofUse and Rating and Effectiveness. Looking at the plot it is difficult to come up with conclusion. "
   ]
  },
  {
   "cell_type": "code",
   "execution_count": 42,
   "metadata": {},
   "outputs": [
    {
     "data": {
      "image/png": "[encoded data removed]",
      "text/plain": [
       "<Figure size 1440x800 with 6 Axes>"
      ]
     },
     "metadata": {
      "needs_background": "light"
     },
     "output_type": "display_data"
    }
   ],
   "source": [
    "plt.figure(figsize=(18,10), dpi= 80)\n",
    "\n",
    "Age=df_data['Age']\n",
    "EaseofUse=df_data['EaseofUse']\n",
    "Effectiveness=df_data['Effectiveness']\n",
    "Rating=df_data['Rating']\n",
    "plt.subplot(2,3,1)\n",
    "plt.scatter(Age,EaseofUse, marker=(5,1))\n",
    "plt.title('Age-EaseofUse R/ship')\n",
    "plt.xlabel('Age')\n",
    "plt.ylabel('EaseofUse')\n",
    "plt.subplot(2,3,2)\n",
    "plt.scatter(Age,Effectiveness, marker='o')\n",
    "plt.title('Age-Effectiveness R/ship')\n",
    "plt.xlabel('Age')\n",
    "plt.ylabel('Effectiveness')\n",
    "plt.subplot(2,3,3)\n",
    "plt.scatter(Age,Rating, marker='>')\n",
    "plt.title('Age-Rating R/ship')\n",
    "plt.xlabel('Age')\n",
    "plt.ylabel('Rating')\n",
    "plt.subplot(2,3,4)\n",
    "plt.scatter(EaseofUse,Effectiveness, marker='<')\n",
    "plt.title('EaseofUse-Effectiveness R/ship')\n",
    "plt.xlabel('EaseofUse')\n",
    "plt.ylabel('Effectiveness')\n",
    "plt.subplot(2,3,5)\n",
    "plt.scatter(Rating,EaseofUse, marker=(5,2))\n",
    "plt.title('Rating-EaseofUse R/ship')\n",
    "plt.xlabel('Rating')\n",
    "plt.ylabel('EaseofUse')\n",
    "plt.subplot(2,3,6)\n",
    "plt.scatter(Rating,Effectiveness, marker='^')\n",
    "plt.title('Rating-Effectiveness R/ship')\n",
    "plt.xlabel('Rating')\n",
    "plt.ylabel('Effectiveness')\n",
    "plt.tight_layout()\n",
    "plt.show()"
   ]
  },
  {
   "cell_type": "markdown",
   "metadata": {},
   "source": [
    "## 10.2 Calculate the comparison ratio"
   ]
  },
  {
   "cell_type": "markdown",
   "metadata": {},
   "source": [
    "Since the total number of each drug used is different and the corresponding cumulative EaseofUse and Effectiveness are also diffrent. Thus, in order to compare the effect of EaseofUse and Effectiveness of the drug on the Rating, the commulative Easeof Use and Effectiveness should be normilized by number of drugs used for each condition. In onther words we will group the drug and sum the corresponding EaseofUse and Effectiveness and normilize by the total drug. "
   ]
  },
  {
   "cell_type": "code",
   "execution_count": 43,
   "metadata": {},
   "outputs": [],
   "source": [
    "#### Commulative EaseofUse per drug in descending order\n",
    "commulative_EaseofUse_per_drug=df_data.groupby('Drug').EaseofUse.sum().sort_values(ascending=False)"
   ]
  },
  {
   "cell_type": "code",
   "execution_count": 44,
   "metadata": {},
   "outputs": [
    {
     "data": {
      "text/plain": [
       "Drug\n",
       "hydrocodone-acetaminophen    15034\n",
       "tramadol hcl                 10745\n",
       "tramadol hcl er              10745\n",
       "lyrica                        8291\n",
       "oxycodone hcl solution        7494\n",
       "Name: EaseofUse, dtype: int64"
      ]
     },
     "execution_count": 44,
     "metadata": {},
     "output_type": "execute_result"
    }
   ],
   "source": [
    "#to display the top 5 rows\n",
    "commulative_EaseofUse_per_drug.head(5)"
   ]
  },
  {
   "cell_type": "code",
   "execution_count": 45,
   "metadata": {},
   "outputs": [],
   "source": [
    "#### Commulative Effectiveness per drug in descending order\n",
    "commulative_Effectiveness_per_drug=df_data.groupby('Drug').Effectiveness.sum().sort_values(ascending=False)"
   ]
  },
  {
   "cell_type": "code",
   "execution_count": 46,
   "metadata": {},
   "outputs": [
    {
     "data": {
      "text/plain": [
       "Drug\n",
       "hydrocodone-acetaminophen    12843\n",
       "tramadol hcl er               8374\n",
       "tramadol hcl                  8374\n",
       "lyrica                        6828\n",
       "oxycodone hcl                 6735\n",
       "Name: Effectiveness, dtype: int64"
      ]
     },
     "execution_count": 46,
     "metadata": {},
     "output_type": "execute_result"
    }
   ],
   "source": [
    "#to display the top 5 rows\n",
    "commulative_Effectiveness_per_drug.head(5)"
   ]
  },
  {
   "cell_type": "code",
   "execution_count": 47,
   "metadata": {},
   "outputs": [],
   "source": [
    "#### Drug count\n",
    "Drug_count=df_data.Drug.value_counts()"
   ]
  },
  {
   "cell_type": "code",
   "execution_count": 48,
   "metadata": {},
   "outputs": [
    {
     "data": {
      "text/plain": [
       "hydrocodone-acetaminophen      3504\n",
       "tramadol hcl er                2557\n",
       "tramadol hcl                   2557\n",
       "lyrica                         2039\n",
       "oxycodone hcl er               1713\n",
       "oxycodone hcl solution         1713\n",
       "oxycodone hcl                  1713\n",
       "oxycodone tablet, oral only    1713\n",
       "cymbalta                       1442\n",
       "neurontin                      1387\n",
       "Name: Drug, dtype: int64"
      ]
     },
     "execution_count": 48,
     "metadata": {},
     "output_type": "execute_result"
    }
   ],
   "source": [
    "#to display the top 10 rows\n",
    "Drug_count.head(10)"
   ]
  },
  {
   "cell_type": "markdown",
   "metadata": {},
   "source": [
    "Once we calculate the cumulative EaseofUse and cumulative Effectiveness as well the corresponding total drug, the next step will be normilizing the calculated cumulative EaseofUse and cumulative Effectiveness by total drug."
   ]
  },
  {
   "cell_type": "code",
   "execution_count": 49,
   "metadata": {},
   "outputs": [],
   "source": [
    "#normilize EaseofUse\n",
    "EaseofUse_Drug_ratio = (commulative_EaseofUse_per_drug / Drug_count).sort_values(ascending=False)"
   ]
  },
  {
   "cell_type": "code",
   "execution_count": 50,
   "metadata": {},
   "outputs": [],
   "source": [
    "#normilize Effectiveness\n",
    "Effectiveness_Drug_ratio = (commulative_Effectiveness_per_drug / Drug_count).sort_values(ascending=False)"
   ]
  },
  {
   "cell_type": "markdown",
   "metadata": {},
   "source": [
    "In order to decide the effective variable to that determine the rating, it important to compare with rating itself. So we'll calculate the commulative rating for each drugs and normilize with total drug."
   ]
  },
  {
   "cell_type": "code",
   "execution_count": 51,
   "metadata": {},
   "outputs": [],
   "source": [
    "#### Commulative Rating per drug in descending order\n",
    "commulative_Rating_per_drug=df_data.groupby('Drug').Rating.sum().sort_values(ascending=False)"
   ]
  },
  {
   "cell_type": "code",
   "execution_count": 52,
   "metadata": {},
   "outputs": [
    {
     "data": {
      "text/plain": [
       "Drug\n",
       "hydrocodone-acetaminophen      12475\n",
       "tramadol hcl er                 7862\n",
       "tramadol hcl                    7862\n",
       "oxycodone hcl                   6424\n",
       "oxycodone hcl er                6424\n",
       "oxycodone hcl solution          6424\n",
       "oxycodone tablet, oral only     6424\n",
       "lyrica                          6119\n",
       "oxycontin                       4805\n",
       "vicodin                         4613\n",
       "Name: Rating, dtype: int64"
      ]
     },
     "execution_count": 52,
     "metadata": {},
     "output_type": "execute_result"
    }
   ],
   "source": [
    "#to display the top 10 rows\n",
    "commulative_Rating_per_drug.head(10)"
   ]
  },
  {
   "cell_type": "code",
   "execution_count": 53,
   "metadata": {},
   "outputs": [],
   "source": [
    "#normilize Rating\n",
    "Rating_Drug_ratio = (commulative_Rating_per_drug / Drug_count).sort_values(ascending=False)"
   ]
  },
  {
   "cell_type": "markdown",
   "metadata": {},
   "source": [
    "Finally we plot the comparison graph including the imaginary x=y graph  included for comparison porpuse. Looking at the comparison plot: drug effectiveness variable can determine the rating of the drug over the EaseofUse."
   ]
  },
  {
   "cell_type": "code",
   "execution_count": 54,
   "metadata": {},
   "outputs": [
    {
     "data": {
      "image/png": "[encoded data removed]",
      "text/plain": [
       "<Figure size 480x400 with 1 Axes>"
      ]
     },
     "metadata": {
      "needs_background": "light"
     },
     "output_type": "display_data"
    }
   ],
   "source": [
    "#Imaginary y=x function for comparison porpuse\n",
    "plt.figure(figsize=(6,5), dpi= 80)\n",
    "x=[0,1,2,3,4,5]\n",
    "y=[0,1,2,3,4,5]\n",
    "plt.plot(Rating_Drug_ratio,EaseofUse_Drug_ratio, 'k', label='EaseofUse-Rating Relationship')\n",
    "plt.plot(Rating_Drug_ratio, Effectiveness_Drug_ratio, 'g', label='Effectiveness-Rating Relationship')\n",
    "plt.plot(x,y,'r', label='Benchamrk')\n",
    "plt.xlabel('Rating_Drug_ratio')\n",
    "plt.ylabel('EaseandEffectiveness')\n",
    "plt.legend()\n",
    "plt.show()"
   ]
  },
  {
   "cell_type": "markdown",
   "metadata": {},
   "source": [
    "For further comparison to know which variable is effective to determine the rating, the effect of these variables for Female and Male separately. Thus, we calculate the cumulative EaseofUse, Effectiveness and Rating of Female and Male users. As shown in the plot, the effectiveness variable is more detrmine the rating for Male users but the same didn't work for Female users. "
   ]
  },
  {
   "cell_type": "code",
   "execution_count": 55,
   "metadata": {},
   "outputs": [],
   "source": [
    "#cumulative EaseofUse, Effectiveness and Rating of Female users\n",
    "commulative_EaseofUse_per_drug_female = df_female.groupby('Drug').EaseofUse.sum().sort_values(ascending=False)\n",
    "commulative_Effectiveness_per_drug_female = df_female.groupby('Drug').Effectiveness.sum().sort_values(ascending=False)\n",
    "commulative_Rating_per_drug_female = df_female.groupby('Drug').Rating.sum().sort_values(ascending=False)"
   ]
  },
  {
   "cell_type": "code",
   "execution_count": 56,
   "metadata": {},
   "outputs": [],
   "source": [
    "#cumulative EaseofUse, Effectiveness and Rating of Male users\n",
    "commulative_EaseofUse_per_drug_male = df_male.groupby('Drug').EaseofUse.sum().sort_values(ascending=False)\n",
    "commulative_Effectiveness_per_drug_male = df_male.groupby('Drug').Effectiveness.sum().sort_values(ascending=False)\n",
    "commulative_Rating_per_drug_male = df_male.groupby('Drug').Rating.sum().sort_values(ascending=False)"
   ]
  },
  {
   "cell_type": "code",
   "execution_count": 57,
   "metadata": {},
   "outputs": [],
   "source": [
    "#normilized EaseofUse, Effectiveness and Rating of Female users\n",
    "EaseofUse_Drug_ratio_female = (commulative_EaseofUse_per_drug_female / Drug_count).sort_values(ascending=False)\n",
    "Effectiveness_Drug_ratio_female = (commulative_Effectiveness_per_drug_female / Drug_count).sort_values(ascending=False)\n",
    "Rating_Drug_ratio_female = (commulative_Rating_per_drug_female / Drug_count).sort_values(ascending=False)"
   ]
  },
  {
   "cell_type": "code",
   "execution_count": 58,
   "metadata": {},
   "outputs": [],
   "source": [
    "#normilized EaseofUse, Effectiveness and Rating of Male users\n",
    "EaseofUse_Drug_ratio_male = (commulative_EaseofUse_per_drug_male / Drug_count).sort_values(ascending=False)\n",
    "Effectiveness_Drug_ratio_male = (commulative_Effectiveness_per_drug_male / Drug_count).sort_values(ascending=False)\n",
    "Rating_Drug_ratio_male = (commulative_Rating_per_drug_male / Drug_count).sort_values(ascending=False)"
   ]
  },
  {
   "cell_type": "code",
   "execution_count": 59,
   "metadata": {},
   "outputs": [
    {
     "data": {
      "text/plain": [
       "<matplotlib.legend.Legend at 0x22ab799d988>"
      ]
     },
     "execution_count": 59,
     "metadata": {},
     "output_type": "execute_result"
    },
    {
     "data": {
      "image/png": "[encoded data removed]",
      "text/plain": [
       "<Figure size 960x400 with 2 Axes>"
      ]
     },
     "metadata": {
      "needs_background": "light"
     },
     "output_type": "display_data"
    }
   ],
   "source": [
    "#Imaginary y=x function for comparison porpuse\n",
    "plt.figure(figsize=(12,5), dpi= 80)\n",
    "\n",
    "x=[0,1,2,3,4,5]\n",
    "y=[0,1,2,3,4,5]\n",
    "plt.subplot(1,2,1)\n",
    "plt.plot(Rating_Drug_ratio_female,EaseofUse_Drug_ratio_female, 'k', label='EaseofUse-Rating Relationship')\n",
    "plt.plot(Rating_Drug_ratio, Effectiveness_Drug_ratio_female, 'g', label='Effectiveness-Rating Relationship')\n",
    "plt.plot(x,y,'r', label='Benchamrk')\n",
    "plt.xlabel('Rating_Drug_ratio')\n",
    "plt.ylabel('EaseandEffectiveness')\n",
    "plt.title('Female Users')\n",
    "plt.legend(loc='lower right')\n",
    "\n",
    "plt.subplot(1,2,2)\n",
    "plt.plot(Rating_Drug_ratio_male,EaseofUse_Drug_ratio_male, 'k', label='EaseofUse-Rating Relationship')\n",
    "plt.plot(Rating_Drug_ratio_male, Effectiveness_Drug_ratio_male, 'g', label='Effectiveness-Rating Relationship')\n",
    "plt.plot(x,y,'r', label='Benchamrk')\n",
    "plt.xlabel('Rating_Drug_ratio')\n",
    "plt.ylabel('EaseandEffectiveness')\n",
    "plt.title('Male Users')\n",
    "plt.legend(loc='lower right')"
   ]
  },
  {
   "cell_type": "markdown",
   "metadata": {},
   "source": [
    "Since the above calculated ratio specially for Female users doesn't determine the effective variable to dertermine the rating we come up with another method comparing the mean value of EaseofUse and Effectiveness with mean value of Rating for different age. Looking at the plot, the Effectiveness determine more compared to EaseofUse for both genders."
   ]
  },
  {
   "cell_type": "code",
   "execution_count": 60,
   "metadata": {},
   "outputs": [],
   "source": [
    "df_female_mean=df_female.groupby('Age').mean()"
   ]
  },
  {
   "cell_type": "code",
   "execution_count": 61,
   "metadata": {},
   "outputs": [
    {
     "data": {
      "text/html": [
       "<div>\n",
       "<style scoped>\n",
       "    .dataframe tbody tr th:only-of-type {\n",
       "        vertical-align: middle;\n",
       "    }\n",
       "\n",
       "    .dataframe tbody tr th {\n",
       "        vertical-align: top;\n",
       "    }\n",
       "\n",
       "    .dataframe thead th {\n",
       "        text-align: right;\n",
       "    }\n",
       "</style>\n",
       "<table border=\"1\" class=\"dataframe\">\n",
       "  <thead>\n",
       "    <tr style=\"text-align: right;\">\n",
       "      <th></th>\n",
       "      <th>EaseofUse</th>\n",
       "      <th>Effectiveness</th>\n",
       "      <th>Rating</th>\n",
       "    </tr>\n",
       "    <tr>\n",
       "      <th>Age</th>\n",
       "      <th></th>\n",
       "      <th></th>\n",
       "      <th></th>\n",
       "    </tr>\n",
       "  </thead>\n",
       "  <tbody>\n",
       "    <tr>\n",
       "      <td>1</td>\n",
       "      <td>2.714286</td>\n",
       "      <td>3.285714</td>\n",
       "      <td>3.142857</td>\n",
       "    </tr>\n",
       "    <tr>\n",
       "      <td>5</td>\n",
       "      <td>3.777778</td>\n",
       "      <td>3.666667</td>\n",
       "      <td>3.444444</td>\n",
       "    </tr>\n",
       "    <tr>\n",
       "      <td>10</td>\n",
       "      <td>4.000000</td>\n",
       "      <td>3.900000</td>\n",
       "      <td>3.400000</td>\n",
       "    </tr>\n",
       "    <tr>\n",
       "      <td>15</td>\n",
       "      <td>4.016892</td>\n",
       "      <td>3.307432</td>\n",
       "      <td>2.912162</td>\n",
       "    </tr>\n",
       "    <tr>\n",
       "      <td>20</td>\n",
       "      <td>4.210140</td>\n",
       "      <td>3.625276</td>\n",
       "      <td>3.243204</td>\n",
       "    </tr>\n",
       "    <tr>\n",
       "      <td>30</td>\n",
       "      <td>4.112437</td>\n",
       "      <td>3.521612</td>\n",
       "      <td>3.248475</td>\n",
       "    </tr>\n",
       "    <tr>\n",
       "      <td>40</td>\n",
       "      <td>4.111505</td>\n",
       "      <td>3.493590</td>\n",
       "      <td>3.276991</td>\n",
       "    </tr>\n",
       "    <tr>\n",
       "      <td>50</td>\n",
       "      <td>4.129394</td>\n",
       "      <td>3.474443</td>\n",
       "      <td>3.241712</td>\n",
       "    </tr>\n",
       "    <tr>\n",
       "      <td>60</td>\n",
       "      <td>4.177722</td>\n",
       "      <td>3.509804</td>\n",
       "      <td>3.274371</td>\n",
       "    </tr>\n",
       "    <tr>\n",
       "      <td>70</td>\n",
       "      <td>4.188132</td>\n",
       "      <td>3.509292</td>\n",
       "      <td>3.289534</td>\n",
       "    </tr>\n",
       "    <tr>\n",
       "      <td>80</td>\n",
       "      <td>4.046103</td>\n",
       "      <td>3.331504</td>\n",
       "      <td>3.126235</td>\n",
       "    </tr>\n",
       "  </tbody>\n",
       "</table>\n",
       "</div>"
      ],
      "text/plain": [
       "     EaseofUse  Effectiveness    Rating\n",
       "Age                                    \n",
       "1     2.714286       3.285714  3.142857\n",
       "5     3.777778       3.666667  3.444444\n",
       "10    4.000000       3.900000  3.400000\n",
       "15    4.016892       3.307432  2.912162\n",
       "20    4.210140       3.625276  3.243204\n",
       "30    4.112437       3.521612  3.248475\n",
       "40    4.111505       3.493590  3.276991\n",
       "50    4.129394       3.474443  3.241712\n",
       "60    4.177722       3.509804  3.274371\n",
       "70    4.188132       3.509292  3.289534\n",
       "80    4.046103       3.331504  3.126235"
      ]
     },
     "execution_count": 61,
     "metadata": {},
     "output_type": "execute_result"
    }
   ],
   "source": [
    "df_female_mean"
   ]
  },
  {
   "cell_type": "code",
   "execution_count": 62,
   "metadata": {},
   "outputs": [],
   "source": [
    "df_male_mean=df_male.groupby('Age').mean()"
   ]
  },
  {
   "cell_type": "code",
   "execution_count": 63,
   "metadata": {},
   "outputs": [
    {
     "data": {
      "text/html": [
       "<div>\n",
       "<style scoped>\n",
       "    .dataframe tbody tr th:only-of-type {\n",
       "        vertical-align: middle;\n",
       "    }\n",
       "\n",
       "    .dataframe tbody tr th {\n",
       "        vertical-align: top;\n",
       "    }\n",
       "\n",
       "    .dataframe thead th {\n",
       "        text-align: right;\n",
       "    }\n",
       "</style>\n",
       "<table border=\"1\" class=\"dataframe\">\n",
       "  <thead>\n",
       "    <tr style=\"text-align: right;\">\n",
       "      <th></th>\n",
       "      <th>EaseofUse</th>\n",
       "      <th>Effectiveness</th>\n",
       "      <th>Rating</th>\n",
       "    </tr>\n",
       "    <tr>\n",
       "      <th>Age</th>\n",
       "      <th></th>\n",
       "      <th></th>\n",
       "      <th></th>\n",
       "    </tr>\n",
       "  </thead>\n",
       "  <tbody>\n",
       "    <tr>\n",
       "      <td>1</td>\n",
       "      <td>4.200000</td>\n",
       "      <td>4.400000</td>\n",
       "      <td>4.200000</td>\n",
       "    </tr>\n",
       "    <tr>\n",
       "      <td>5</td>\n",
       "      <td>2.000000</td>\n",
       "      <td>2.800000</td>\n",
       "      <td>2.600000</td>\n",
       "    </tr>\n",
       "    <tr>\n",
       "      <td>10</td>\n",
       "      <td>3.818182</td>\n",
       "      <td>4.090909</td>\n",
       "      <td>4.181818</td>\n",
       "    </tr>\n",
       "    <tr>\n",
       "      <td>15</td>\n",
       "      <td>4.263158</td>\n",
       "      <td>3.666667</td>\n",
       "      <td>3.377193</td>\n",
       "    </tr>\n",
       "    <tr>\n",
       "      <td>20</td>\n",
       "      <td>4.276206</td>\n",
       "      <td>3.668885</td>\n",
       "      <td>3.430948</td>\n",
       "    </tr>\n",
       "    <tr>\n",
       "      <td>30</td>\n",
       "      <td>4.310598</td>\n",
       "      <td>3.673055</td>\n",
       "      <td>3.483089</td>\n",
       "    </tr>\n",
       "    <tr>\n",
       "      <td>40</td>\n",
       "      <td>4.313844</td>\n",
       "      <td>3.701999</td>\n",
       "      <td>3.528480</td>\n",
       "    </tr>\n",
       "    <tr>\n",
       "      <td>50</td>\n",
       "      <td>4.225793</td>\n",
       "      <td>3.580958</td>\n",
       "      <td>3.416010</td>\n",
       "    </tr>\n",
       "    <tr>\n",
       "      <td>60</td>\n",
       "      <td>4.289270</td>\n",
       "      <td>3.570172</td>\n",
       "      <td>3.407725</td>\n",
       "    </tr>\n",
       "    <tr>\n",
       "      <td>70</td>\n",
       "      <td>4.198790</td>\n",
       "      <td>3.440410</td>\n",
       "      <td>3.297020</td>\n",
       "    </tr>\n",
       "    <tr>\n",
       "      <td>80</td>\n",
       "      <td>4.241838</td>\n",
       "      <td>3.451028</td>\n",
       "      <td>3.344619</td>\n",
       "    </tr>\n",
       "  </tbody>\n",
       "</table>\n",
       "</div>"
      ],
      "text/plain": [
       "     EaseofUse  Effectiveness    Rating\n",
       "Age                                    \n",
       "1     4.200000       4.400000  4.200000\n",
       "5     2.000000       2.800000  2.600000\n",
       "10    3.818182       4.090909  4.181818\n",
       "15    4.263158       3.666667  3.377193\n",
       "20    4.276206       3.668885  3.430948\n",
       "30    4.310598       3.673055  3.483089\n",
       "40    4.313844       3.701999  3.528480\n",
       "50    4.225793       3.580958  3.416010\n",
       "60    4.289270       3.570172  3.407725\n",
       "70    4.198790       3.440410  3.297020\n",
       "80    4.241838       3.451028  3.344619"
      ]
     },
     "execution_count": 63,
     "metadata": {},
     "output_type": "execute_result"
    }
   ],
   "source": [
    "df_male_mean"
   ]
  },
  {
   "cell_type": "code",
   "execution_count": 65,
   "metadata": {},
   "outputs": [
    {
     "data": {
      "text/plain": [
       "<matplotlib.legend.Legend at 0x22ab57c6f48>"
      ]
     },
     "execution_count": 65,
     "metadata": {},
     "output_type": "execute_result"
    },
    {
     "data": {
      "text/plain": [
       "<Figure size 480x400 with 0 Axes>"
      ]
     },
     "metadata": {},
     "output_type": "display_data"
    },
    {
     "data": {
      "image/png": "[encoded data removed]",
      "text/plain": [
       "<Figure size 432x288 with 1 Axes>"
      ]
     },
     "metadata": {
      "needs_background": "light"
     },
     "output_type": "display_data"
    }
   ],
   "source": [
    "plt.figure(figsize=(6,5), dpi= 80)\n",
    "Age=[0,5,10,15,20,30,40,50,60,70,80]\n",
    "df_female_mean.plot(style='o')\n",
    "# Plot formatting\n",
    "plt.xlabel('Age')\n",
    "plt.ylabel('mean value')\n",
    "plt.xlim(0,90)\n",
    "plt.ylim(0,5)\n",
    "plt.title('Comparison of mean value of Female')\n",
    "plt.legend(loc='lower right')"
   ]
  },
  {
   "cell_type": "code",
   "execution_count": 66,
   "metadata": {},
   "outputs": [
    {
     "data": {
      "text/plain": [
       "<matplotlib.legend.Legend at 0x22ab74fad88>"
      ]
     },
     "execution_count": 66,
     "metadata": {},
     "output_type": "execute_result"
    },
    {
     "data": {
      "text/plain": [
       "<Figure size 480x400 with 0 Axes>"
      ]
     },
     "metadata": {},
     "output_type": "display_data"
    },
    {
     "data": {
      "image/png": "[encoded data removed]",
      "text/plain": [
       "<Figure size 432x288 with 1 Axes>"
      ]
     },
     "metadata": {
      "needs_background": "light"
     },
     "output_type": "display_data"
    }
   ],
   "source": [
    "plt.figure(figsize=(6,5), dpi= 80)\n",
    "Age=[0,5,10,15,20,30,40,50,60,70,80]\n",
    "df_male_mean.plot(style='o')\n",
    "# Plot formatting\n",
    "plt.xlabel('Age')\n",
    "plt.ylabel('mean value')\n",
    "plt.xlim(0,90)\n",
    "plt.ylim(0,5)\n",
    "plt.title('Comparison of mean value of Male')\n",
    "plt.legend(loc='lower right')\n"
   ]
  },
  {
   "cell_type": "code",
   "execution_count": null,
   "metadata": {},
   "outputs": [],
   "source": []
  }
 ],
 "metadata": {
  "kernelspec": {
   "display_name": "Python 3",
   "language": "python",
   "name": "python3"
  },
  "language_info": {
   "codemirror_mode": {
    "name": "ipython",
    "version": 3
   },
   "file_extension": ".py",
   "mimetype": "text/x-python",
   "name": "python",
   "nbconvert_exporter": "python",
   "pygments_lexer": "ipython3",
   "version": "3.7.4"
  },
  "widgets": {
   "application/vnd.jupyter.widget-state+json": {
    "state": {},
    "version_major": 2,
    "version_minor": 0
   }
  }
 },
 "nbformat": 4,
 "nbformat_minor": 2
}
