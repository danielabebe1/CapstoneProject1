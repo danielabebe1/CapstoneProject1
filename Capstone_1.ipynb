{
  "nbformat": 4,
  "nbformat_minor": 0,
  "metadata": {
    "kernelspec": {
      "display_name": "Python 3",
      "language": "python",
      "name": "python3"
    },
    "language_info": {
      "codemirror_mode": {
        "name": "ipython",
        "version": 3
      },
      "file_extension": ".py",
      "mimetype": "text/x-python",
      "name": "python",
      "nbconvert_exporter": "python",
      "pygments_lexer": "ipython3",
      "version": "3.7.7"
    },
    "colab": {
      "name": "Capstone-1.ipynb",
      "provenance": [],
      "collapsed_sections": [
        "1pBIPbSwnHjN",
        "8PK4hdDinSR4"
      ],
      "toc_visible": true,
      "include_colab_link": true
    }
  },
  "cells": [
    {
      "cell_type": "markdown",
      "metadata": {
        "id": "view-in-github",
        "colab_type": "text"
      },
      "source": [
        "<a href=\"https://colab.research.google.com/github/danielabebe1/CapstoneProject1/blob/master/Capstone_1.ipynb\" target=\"_parent\"><img src=\"https://colab.research.google.com/assets/colab-badge.svg\" alt=\"Open In Colab\"/></a>"
      ]
    },
    {
      "cell_type": "markdown",
      "metadata": {
        "id": "ZNrWmOqjC_tU",
        "colab_type": "text"
      },
      "source": [
        "# Capstone Project I"
      ]
    },
    {
      "cell_type": "markdown",
      "metadata": {
        "id": "tur5lZpTDBwP",
        "colab_type": "text"
      },
      "source": [
        "## Predicting Pain Relievers Based on Age and Satisfaction Level"
      ]
    },
    {
      "cell_type": "markdown",
      "metadata": {
        "id": "WoouTxEiDRDf",
        "colab_type": "text"
      },
      "source": [
        "Both prescribed and non-prescribed use of pain relievers, as well as rates of opioid-related mortality and admissions to emergency departments, have increased in the last few years. There is no exact figure on how many people are affected by this problem but the number has increased according to ‘National Center for Biotechnology Information’. There are many different pain relievers, and each one has advantages and risks. Some types of pain respond better to certain medicines than others. Each person has a different response to a pain reliever for the same type of condition. This is mainly because the conditions that cause pain are very complicated, which is one of the reasons why pain management is so difficult. This difficulty decreases the quality of life of patients that, in many cases, can suffer from constant pain with little to no relief. General-purpose pain-relieving medication is often ineffective even the best painkiller like morphine can sometimes fail to inhibit pain in cancer patients. Painkillers are working by activating a receptor cell call REV_ERBs that sends chemical signals inside the cell to block the production of certain genes regulates pain-causing and inflammatory molecules inside the body. The goal of this project is to build a model that can predict painkiller selected conditions and for different age groups. \n",
        "The possible stakeholders of this project includes pharmaceutical companies, physicians and clinicians, insurance companies and patients. Knowing the consumers’ response for the product is crucial in many majors in addition to the available research and development in the field will help physicians and clinicians while subscribing to these drugs. Pharmaceutical companies and insurance companies will also identify their focus drugs for their consumers. \n",
        "The dataset used in this project was acquired from kaggle where uploaded on kaggle by scraping the WebMD site (https://www.kaggle.com/rohanharode07/webmd-drug-reviews-dataset). The dataset provides user reviews on specific drugs along with related conditions, side effects, age, sex, and ratings reflecting overall patient satisfaction. The dataset contains 12 features with mixed variables including categorical, numerical and date. There are above 360 thousands of rows of unique reviews and are updated till Mar 2020.\n"
      ]
    },
    {
      "cell_type": "code",
      "metadata": {
        "id": "9X4k8qgKwC-c",
        "colab_type": "code",
        "colab": {
          "base_uri": "https://localhost:8080/",
          "height": 74
        },
        "outputId": "350a8b64-2ae3-4902-8725-bd0d03e9c6a1"
      },
      "source": [
        "#Importing the relevant libraries and load the data into the data frameles\n",
        "import numpy as np\n",
        "import pandas as pd\n",
        "import statsmodels.api as sm\n",
        "import matplotlib.pyplot as plt\n",
        "import seaborn as sns\n",
        "sns.set\n",
        "from scipy.stats import ttest_ind\n",
        "from sklearn.utils import resample\n",
        "from sklearn.model_selection import train_test_split\n",
        "from sklearn.linear_model import LinearRegression, LogisticRegression\n",
        "from sklearn import preprocessing, metrics\n",
        "from sklearn import utils\n",
        "from sklearn.model_selection import StratifiedKFold, RandomizedSearchCV\n",
        "from sklearn.preprocessing import RobustScaler\n",
        "from sklearn.datasets import load_svmlight_file\n",
        "from sklearn.svm import LinearSVC\n",
        "from sklearn.tree import DecisionTreeClassifier\n",
        "from sklearn.ensemble import RandomForestClassifier, ExtraTreesClassifier, BaggingClassifier, AdaBoostClassifier, GradientBoostingClassifier, VotingClassifier\n",
        "from sklearn.cluster import KMeans\n",
        "from sklearn.naive_bayes import GaussianNB\n",
        "from sklearn.neighbors import KNeighborsClassifier\n",
        "from xgboost import XGBClassifier\n",
        "from sklearn.naive_bayes import GaussianNB\n",
        "from sklearn.metrics import *\n",
        "import warnings\n",
        "warnings.filterwarnings('ignore')\n",
        "%matplotlib inline"
      ],
      "execution_count": null,
      "outputs": [
        {
          "output_type": "stream",
          "text": [
            "/usr/local/lib/python3.6/dist-packages/statsmodels/tools/_testing.py:19: FutureWarning: pandas.util.testing is deprecated. Use the functions in the public API at pandas.testing instead.\n",
            "  import pandas.util.testing as tm\n"
          ],
          "name": "stderr"
        }
      ]
    },
    {
      "cell_type": "code",
      "metadata": {
        "id": "Xfub0K4KwC-o",
        "colab_type": "code",
        "colab": {
          "base_uri": "https://localhost:8080/",
          "height": 128
        },
        "outputId": "66933c8c-45bf-44dd-892f-efa4029c42c0"
      },
      "source": [
        "from google.colab import drive\n",
        "drive.mount('/content/drive')\n",
        "path='/content/drive/My Drive/webmd.csv'\n",
        "#the dataset is in csv format so we'll use read_csv function in pandas and replace blank space with NaN by \"na_values=' '\"\n",
        "df=pd.read_csv(path, na_values=' ')"
      ],
      "execution_count": null,
      "outputs": [
        {
          "output_type": "stream",
          "text": [
            "Go to this URL in a browser: https://accounts.google.com/o/oauth2/auth?client_id=947318989803-6bn6qk8qdgf4n4g3pfee6491hc0brc4i.apps.googleusercontent.com&redirect_uri=urn%3aietf%3awg%3aoauth%3a2.0%3aoob&scope=email%20https%3a%2f%2fwww.googleapis.com%2fauth%2fdocs.test%20https%3a%2f%2fwww.googleapis.com%2fauth%2fdrive%20https%3a%2f%2fwww.googleapis.com%2fauth%2fdrive.photos.readonly%20https%3a%2f%2fwww.googleapis.com%2fauth%2fpeopleapi.readonly&response_type=code\n",
            "\n",
            "Enter your authorization code:\n",
            "··········\n",
            "Mounted at /content/drive\n"
          ],
          "name": "stdout"
        }
      ]
    },
    {
      "cell_type": "code",
      "metadata": {
        "id": "uRs-L0fdwC-u",
        "colab_type": "code",
        "colab": {}
      },
      "source": [
        "#Only some attributes are considered in this project we'll drop attributes that aren't considered.\n",
        "df=df.drop(['Date', 'DrugId', 'Reviews', 'Sides', 'UsefulCount'], axis=1)"
      ],
      "execution_count": null,
      "outputs": []
    },
    {
      "cell_type": "code",
      "metadata": {
        "id": "ruUD18MIwC-2",
        "colab_type": "code",
        "colab": {
          "base_uri": "https://localhost:8080/",
          "height": 35
        },
        "outputId": "565c02fe-17db-4f9a-e2a6-f366bfc4deff"
      },
      "source": [
        "df=df[df.Condition.str.contains('Pain', na=False)]\n",
        "\n",
        "#check the number of features and rows of remaining data\n",
        "print(\"Dataset contains: \" + str(df.shape[0]) + \" rows and \" + str(df.shape[1]) + \" columns\")"
      ],
      "execution_count": null,
      "outputs": [
        {
          "output_type": "stream",
          "text": [
            "Dataset contains: 53649 rows and 7 columns\n"
          ],
          "name": "stdout"
        }
      ]
    },
    {
      "cell_type": "code",
      "metadata": {
        "id": "HNlyIeQQwC--",
        "colab_type": "code",
        "colab": {
          "base_uri": "https://localhost:8080/",
          "height": 126
        },
        "outputId": "26266a8c-1999-4598-c5b1-07a69dc32839"
      },
      "source": [
        "df.Condition.value_counts().head(5)"
      ],
      "execution_count": null,
      "outputs": [
        {
          "output_type": "execute_result",
          "data": {
            "text/plain": [
              "Pain                                                         25232\n",
              "Neuropathic Pain                                              8988\n",
              "Disorder characterized by Stiff, Tender & Painful Muscles     3472\n",
              "Chronic Pain                                                  2913\n",
              "Joint Damage causing Pain and Loss of Function                2451\n",
              "Name: Condition, dtype: int64"
            ]
          },
          "metadata": {
            "tags": []
          },
          "execution_count": 5
        }
      ]
    },
    {
      "cell_type": "markdown",
      "metadata": {
        "id": "qW5FjGEnzcAC",
        "colab_type": "text"
      },
      "source": [
        "For this project let's use one condition that is frequently occured in the dataset. Looking at the value_counts() above the top condition is 'Pain' but it is very general so we chose Neuropathic Pain for our model. "
      ]
    },
    {
      "cell_type": "code",
      "metadata": {
        "id": "YTxy9iLVwC_H",
        "colab_type": "code",
        "colab": {
          "base_uri": "https://localhost:8080/",
          "height": 399
        },
        "outputId": "dbe66371-63b2-417f-da43-0cf0b740ee10"
      },
      "source": [
        "df=df[df['Condition']=='Neuropathic Pain']\n",
        "df.Drug.value_counts().head(20)"
      ],
      "execution_count": null,
      "outputs": [
        {
          "output_type": "execute_result",
          "data": {
            "text/plain": [
              "lyrica                                       1283\n",
              "neurontin                                     790\n",
              "neurontin capsule                             790\n",
              "cymbalta                                      699\n",
              "gabapentin                                    661\n",
              "gabapentin solution                           661\n",
              "gabapentin tablet, extended release 24 hr     661\n",
              "oxycodone hcl er                              402\n",
              "oxycodone hcl solution                        402\n",
              "oxycodone hcl                                 402\n",
              "oxycodone tablet, oral only                   402\n",
              "tramadol hcl er                               327\n",
              "tramadol hcl                                  327\n",
              "amitriptyline hcl                             240\n",
              "nortriptyline hcl                             218\n",
              "oxycontin                                     105\n",
              "ultram                                         88\n",
              "pamelor                                        55\n",
              "roxicodone                                     52\n",
              "effexor xr                                     49\n",
              "Name: Drug, dtype: int64"
            ]
          },
          "metadata": {
            "tags": []
          },
          "execution_count": 6
        }
      ]
    },
    {
      "cell_type": "markdown",
      "metadata": {
        "id": "Qy1HYMJmEBdN",
        "colab_type": "text"
      },
      "source": [
        "LWe merged drugs in one family for instance 'tramadol hcl' and 'tramadol hcl er' are the same chemical composition with minor difference."
      ]
    },
    {
      "cell_type": "code",
      "metadata": {
        "id": "UHW-Ay99wC_a",
        "colab_type": "code",
        "colab": {}
      },
      "source": [
        "df.replace(to_replace=['gabapentin tablet, extended release 24 hr','gabapentin solution','neurontin capsule',\n",
        "                       'oxycodone tablet, oral only', 'oxycodone hcl er','oxycodone hcl','oxycodone hcl solution',\n",
        "                      'tramadol hcl','tramadol hcl er','methadone hcl','methadone hcl tablet, soluble','methadone hcl solution',\n",
        "                     'morphine sulfate er tablet, extended release', 'morphine sulfate', \n",
        "                       'morphine sulfate er capsule, extended release multiphase 24 hr',\n",
        "                       'morphine tablet,oral only, extended release','morphine sulfate er'], \n",
        "           value=['gabapentin','gabapentin','neurontin','oxycodone','oxycodone','oxycodone','oxycodone',\n",
        "                 'tramadol','tramadol','methadone','methadone','methadone','morphine','morphine','morphine','morphine',\n",
        "                  'morphine'], inplace=True)"
      ],
      "execution_count": null,
      "outputs": []
    },
    {
      "cell_type": "code",
      "metadata": {
        "id": "q3Dm4Z_8wC_g",
        "colab_type": "code",
        "colab": {
          "base_uri": "https://localhost:8080/",
          "height": 163
        },
        "outputId": "25fe5e57-788e-40d5-baab-590942a7fed8"
      },
      "source": [
        "df.Drug.value_counts().head(7)"
      ],
      "execution_count": null,
      "outputs": [
        {
          "output_type": "execute_result",
          "data": {
            "text/plain": [
              "gabapentin           1983\n",
              "oxycodone            1608\n",
              "neurontin            1580\n",
              "lyrica               1283\n",
              "cymbalta              699\n",
              "tramadol              654\n",
              "amitriptyline hcl     240\n",
              "Name: Drug, dtype: int64"
            ]
          },
          "metadata": {
            "tags": []
          },
          "execution_count": 8
        }
      ]
    },
    {
      "cell_type": "code",
      "metadata": {
        "id": "bS9UxpsZ4NBE",
        "colab_type": "code",
        "colab": {}
      },
      "source": [
        "df.to_pickle(\"Neuropathic Pain.pkl\")"
      ],
      "execution_count": null,
      "outputs": []
    },
    {
      "cell_type": "code",
      "metadata": {
        "id": "REcv5QNGwC_n",
        "colab_type": "code",
        "colab": {}
      },
      "source": [
        "df=df[df['Drug'].isin(['gabapentin','oxycodone','neurontin','lyrica'])]"
      ],
      "execution_count": null,
      "outputs": []
    },
    {
      "cell_type": "code",
      "metadata": {
        "id": "snYVLUwbwC_s",
        "colab_type": "code",
        "colab": {
          "base_uri": "https://localhost:8080/",
          "height": 54
        },
        "outputId": "fd671d46-fb57-49c6-863b-cad38ff1b494"
      },
      "source": [
        "df.Condition.value_counts()"
      ],
      "execution_count": null,
      "outputs": [
        {
          "output_type": "execute_result",
          "data": {
            "text/plain": [
              "Neuropathic Pain    6454\n",
              "Name: Condition, dtype: int64"
            ]
          },
          "metadata": {
            "tags": []
          },
          "execution_count": 11
        }
      ]
    },
    {
      "cell_type": "code",
      "metadata": {
        "id": "5azZEJhDwDAv",
        "colab_type": "code",
        "colab": {
          "base_uri": "https://localhost:8080/",
          "height": 163
        },
        "outputId": "97690314-0d14-43f7-a78f-28df01a316f4"
      },
      "source": [
        "df.isnull().sum()"
      ],
      "execution_count": null,
      "outputs": [
        {
          "output_type": "execute_result",
          "data": {
            "text/plain": [
              "Age              236\n",
              "Condition          0\n",
              "Drug               0\n",
              "EaseofUse          0\n",
              "Effectiveness      0\n",
              "Satisfaction       0\n",
              "Sex              426\n",
              "dtype: int64"
            ]
          },
          "metadata": {
            "tags": []
          },
          "execution_count": 12
        }
      ]
    },
    {
      "cell_type": "code",
      "metadata": {
        "id": "E1QbygYI-I2L",
        "colab_type": "code",
        "colab": {
          "base_uri": "https://localhost:8080/",
          "height": 35
        },
        "outputId": "d46b8d93-98af-46f8-c92f-89a2e2f607f2"
      },
      "source": [
        "df.fillna(method ='pad', inplace=True) \n",
        "df.dropna(inplace=True)\n",
        "print('Do null values exist in the dataset? ' + str(df.isnull().values.any()))"
      ],
      "execution_count": null,
      "outputs": [
        {
          "output_type": "stream",
          "text": [
            "Do null values exist in the dataset? False\n"
          ],
          "name": "stdout"
        }
      ]
    },
    {
      "cell_type": "code",
      "metadata": {
        "id": "g-J54qA7wDA_",
        "colab_type": "code",
        "colab": {
          "base_uri": "https://localhost:8080/",
          "height": 198
        },
        "outputId": "5271a5af-0e88-4527-c587-9c3d86a78e8b"
      },
      "source": [
        "df.head()"
      ],
      "execution_count": null,
      "outputs": [
        {
          "output_type": "execute_result",
          "data": {
            "text/html": [
              "<div>\n",
              "<style scoped>\n",
              "    .dataframe tbody tr th:only-of-type {\n",
              "        vertical-align: middle;\n",
              "    }\n",
              "\n",
              "    .dataframe tbody tr th {\n",
              "        vertical-align: top;\n",
              "    }\n",
              "\n",
              "    .dataframe thead th {\n",
              "        text-align: right;\n",
              "    }\n",
              "</style>\n",
              "<table border=\"1\" class=\"dataframe\">\n",
              "  <thead>\n",
              "    <tr style=\"text-align: right;\">\n",
              "      <th></th>\n",
              "      <th>Age</th>\n",
              "      <th>Condition</th>\n",
              "      <th>Drug</th>\n",
              "      <th>EaseofUse</th>\n",
              "      <th>Effectiveness</th>\n",
              "      <th>Satisfaction</th>\n",
              "      <th>Sex</th>\n",
              "    </tr>\n",
              "  </thead>\n",
              "  <tbody>\n",
              "    <tr>\n",
              "      <th>186</th>\n",
              "      <td>65-74</td>\n",
              "      <td>Neuropathic Pain</td>\n",
              "      <td>lyrica</td>\n",
              "      <td>5</td>\n",
              "      <td>5</td>\n",
              "      <td>5</td>\n",
              "      <td>Female</td>\n",
              "    </tr>\n",
              "    <tr>\n",
              "      <th>187</th>\n",
              "      <td>19-24</td>\n",
              "      <td>Neuropathic Pain</td>\n",
              "      <td>lyrica</td>\n",
              "      <td>1</td>\n",
              "      <td>3</td>\n",
              "      <td>1</td>\n",
              "      <td>Female</td>\n",
              "    </tr>\n",
              "    <tr>\n",
              "      <th>188</th>\n",
              "      <td>35-44</td>\n",
              "      <td>Neuropathic Pain</td>\n",
              "      <td>lyrica</td>\n",
              "      <td>5</td>\n",
              "      <td>5</td>\n",
              "      <td>5</td>\n",
              "      <td>Female</td>\n",
              "    </tr>\n",
              "    <tr>\n",
              "      <th>190</th>\n",
              "      <td>65-74</td>\n",
              "      <td>Neuropathic Pain</td>\n",
              "      <td>lyrica</td>\n",
              "      <td>3</td>\n",
              "      <td>3</td>\n",
              "      <td>2</td>\n",
              "      <td>Female</td>\n",
              "    </tr>\n",
              "    <tr>\n",
              "      <th>191</th>\n",
              "      <td>55-64</td>\n",
              "      <td>Neuropathic Pain</td>\n",
              "      <td>lyrica</td>\n",
              "      <td>2</td>\n",
              "      <td>2</td>\n",
              "      <td>1</td>\n",
              "      <td>Female</td>\n",
              "    </tr>\n",
              "  </tbody>\n",
              "</table>\n",
              "</div>"
            ],
            "text/plain": [
              "       Age         Condition    Drug  ...  Effectiveness  Satisfaction     Sex\n",
              "186  65-74  Neuropathic Pain  lyrica  ...              5             5  Female\n",
              "187  19-24  Neuropathic Pain  lyrica  ...              3             1  Female\n",
              "188  35-44  Neuropathic Pain  lyrica  ...              5             5  Female\n",
              "190  65-74  Neuropathic Pain  lyrica  ...              3             2  Female\n",
              "191  55-64  Neuropathic Pain  lyrica  ...              2             1  Female\n",
              "\n",
              "[5 rows x 7 columns]"
            ]
          },
          "metadata": {
            "tags": []
          },
          "execution_count": 14
        }
      ]
    },
    {
      "cell_type": "code",
      "metadata": {
        "id": "CJ8WaX7IpFvz",
        "colab_type": "code",
        "colab": {}
      },
      "source": [
        "import pickle\n",
        "df.to_pickle(\"Neuropathic_Pain.pkl\")"
      ],
      "execution_count": null,
      "outputs": []
    },
    {
      "cell_type": "markdown",
      "metadata": {
        "id": "EhmWp13Ppmaq",
        "colab_type": "text"
      },
      "source": [
        "# Exploratory Data Analysis"
      ]
    },
    {
      "cell_type": "code",
      "metadata": {
        "id": "I5TjnpWOJAWO",
        "colab_type": "code",
        "colab": {
          "base_uri": "https://localhost:8080/",
          "height": 108
        },
        "outputId": "a631e79a-5bc0-4d0a-f0e2-2bf1dbf3ffbc"
      },
      "source": [
        "df.Drug.value_counts()"
      ],
      "execution_count": null,
      "outputs": [
        {
          "output_type": "execute_result",
          "data": {
            "text/plain": [
              "gabapentin    1983\n",
              "oxycodone     1608\n",
              "neurontin     1580\n",
              "lyrica        1282\n",
              "Name: Drug, dtype: int64"
            ]
          },
          "metadata": {
            "tags": []
          },
          "execution_count": 16
        }
      ]
    },
    {
      "cell_type": "code",
      "metadata": {
        "id": "4tHP3gJvLvPG",
        "colab_type": "code",
        "colab": {}
      },
      "source": [
        "# Feature engineering: discretization on age for age_group & age_bin_label\n",
        "# before getting into grouping, lets replace the existing group to approximate age. \n",
        "df.replace(to_replace=['0-2', '3-6','7-12', '13-18','19-24','25-34','35-44','45-54','55-64','65-74','75 or over'], \n",
        "           value=[0,5,10,15,20,30,40,50,60,70,80], inplace=True)\n",
        "\n",
        "age_bins = [0, 20, 30, 40, 50, 60, 70,80]\n",
        "age_bin_labels = [1,2,3,4,5,6,7]\n",
        "# Stratification: age_group #\n",
        "###############################################################################\n",
        "# Generate age_group and age_group_label\n",
        "df['Age_group'] = pd.cut(np.array(df['Age']),bins=age_bins) \n",
        "df['Age_group_label'] = pd.cut(np.array(df['Age']),bins=age_bins, labels=age_bin_labels) "
      ],
      "execution_count": null,
      "outputs": []
    },
    {
      "cell_type": "code",
      "metadata": {
        "id": "hTpo_GgbADlP",
        "colab_type": "code",
        "colab": {
          "base_uri": "https://localhost:8080/",
          "height": 351
        },
        "outputId": "9db21f2b-4598-40e1-d3cf-726a765360df"
      },
      "source": [
        "# Count frequencies and shows patients breakdown by stroke condition:\n",
        "df_sex = pd.DataFrame(df.groupby('Sex')['Sex'].count())\n",
        "df_sex.columns = ['count']\n",
        "plt.figure(figsize=(6,5), dpi= 80)\n",
        "plt.pie(df_sex, labels=['Female','Male'], autopct='%.0f%%', colors=['pink','blue'], shadow=True)\n",
        "plt.title('Patients gender proportion')\n",
        "plt.show()"
      ],
      "execution_count": null,
      "outputs": [
        {
          "output_type": "display_data",
          "data": {
            "image/png": "[encoded data removed]",
            "text/plain": [
              "<Figure size 480x400 with 1 Axes>"
            ]
          },
          "metadata": {
            "tags": []
          }
        }
      ]
    },
    {
      "cell_type": "code",
      "metadata": {
        "id": "KPVaO2JjSL_P",
        "colab_type": "code",
        "colab": {
          "base_uri": "https://localhost:8080/",
          "height": 401
        },
        "outputId": "14d7bef8-f1d1-496c-efa8-c970728e6cbf"
      },
      "source": [
        "plt.figure(figsize=(12,5), dpi= 80)\n",
        "plt.subplot(1, 2, 1)\n",
        "sns.countplot(x=\"Age\", data=df,);\n",
        "plt.ylabel('Age frequency')\n",
        "plt.title('Age distribution')\n",
        "plt.subplot(1, 2, 2)\n",
        "sns.countplot(x=\"Age\", hue=\"Sex\",data=df,);\n",
        "plt.ylabel('Age frequency')\n",
        "plt.title('Age distribution')\n",
        "# plt.subplot(1, 3, 2)\n",
        "# sns.countplot(x=\"Effectiveness\", hue=\"Sex\",data=df);\n",
        "# plt.subplot(1, 3, 3)\n",
        "# sns.countplot(x=\"Satisfaction\", hue=\"Sex\",data=df);"
      ],
      "execution_count": null,
      "outputs": [
        {
          "output_type": "execute_result",
          "data": {
            "text/plain": [
              "Text(0.5, 1.0, 'Age distribution')"
            ]
          },
          "metadata": {
            "tags": []
          },
          "execution_count": 19
        },
        {
          "output_type": "display_data",
          "data": {
            "image/png": "[encoded data removed]",
            "text/plain": [
              "<Figure size 960x400 with 2 Axes>"
            ]
          },
          "metadata": {
            "tags": [],
            "needs_background": "light"
          }
        }
      ]
    },
    {
      "cell_type": "code",
      "metadata": {
        "id": "to1Kbv_kw4U4",
        "colab_type": "code",
        "colab": {
          "base_uri": "https://localhost:8080/",
          "height": 401
        },
        "outputId": "f2da8d54-8231-4e15-e71d-6f8ccef0c0d1"
      },
      "source": [
        "plt.figure(figsize=(12,5), dpi= 80)\n",
        "\n",
        "sns.countplot(x=\"Age\", hue=\"Drug\",data=df,);\n",
        "plt.ylabel('Drug frequency')\n",
        "plt.title('Age distribution ')\n",
        "plt.legend(loc='upper left')"
      ],
      "execution_count": null,
      "outputs": [
        {
          "output_type": "execute_result",
          "data": {
            "text/plain": [
              "<matplotlib.legend.Legend at 0x7f08386a6d68>"
            ]
          },
          "metadata": {
            "tags": []
          },
          "execution_count": 20
        },
        {
          "output_type": "display_data",
          "data": {
            "image/png": "[encoded data removed]",
            "text/plain": [
              "<Figure size 960x400 with 1 Axes>"
            ]
          },
          "metadata": {
            "tags": [],
            "needs_background": "light"
          }
        }
      ]
    },
    {
      "cell_type": "code",
      "metadata": {
        "id": "ypER7VexwDBM",
        "colab_type": "code",
        "colab": {
          "base_uri": "https://localhost:8080/",
          "height": 301
        },
        "outputId": "3297381b-9b0c-4838-cf2f-26c643c11eff"
      },
      "source": [
        "plt.figure(figsize=(18,6), dpi= 80)\n",
        "plt.subplot(1, 3, 1)\n",
        "sns.countplot(x=\"EaseofUse\", hue=\"Sex\",data=df,);\n",
        "plt.subplot(1, 3, 2)\n",
        "sns.countplot(x=\"Effectiveness\", hue=\"Sex\",data=df);\n",
        "plt.subplot(1, 3, 3)\n",
        "sns.countplot(x=\"Satisfaction\", hue=\"Sex\",data=df);"
      ],
      "execution_count": null,
      "outputs": [
        {
          "output_type": "display_data",
          "data": {
            "image/png": "[encoded data removed]",
            "text/plain": [
              "<Figure size 1440x480 with 3 Axes>"
            ]
          },
          "metadata": {
            "tags": [],
            "needs_background": "light"
          }
        }
      ]
    },
    {
      "cell_type": "code",
      "metadata": {
        "id": "c7o4V3NaS45k",
        "colab_type": "code",
        "colab": {
          "base_uri": "https://localhost:8080/",
          "height": 443
        },
        "outputId": "18792fc7-bf28-482e-bb1f-bbdd0872e4e9"
      },
      "source": [
        "plt.figure(figsize=(6,5), dpi= 80)\n",
        "av=sns.countplot(x=\"Drug\", data=df,);\n",
        "av.set_xticklabels(av.get_xticklabels(), rotation=45);\n",
        "av.set_title('Frequency of Drug')\n"
      ],
      "execution_count": null,
      "outputs": [
        {
          "output_type": "execute_result",
          "data": {
            "text/plain": [
              "Text(0.5, 1.0, 'Frequency of Drug')"
            ]
          },
          "metadata": {
            "tags": []
          },
          "execution_count": 22
        },
        {
          "output_type": "display_data",
          "data": {
            "image/png": "[encoded data removed]",
            "text/plain": [
              "<Figure size 480x400 with 1 Axes>"
            ]
          },
          "metadata": {
            "tags": [],
            "needs_background": "light"
          }
        }
      ]
    },
    {
      "cell_type": "code",
      "metadata": {
        "id": "4M0500xPwDBT",
        "colab_type": "code",
        "colab": {
          "base_uri": "https://localhost:8080/",
          "height": 378
        },
        "outputId": "38c57976-ebd3-4a1f-e1a1-b84c5232e8eb"
      },
      "source": [
        "df_mean=df.groupby('Age').mean()\n",
        "df_mean"
      ],
      "execution_count": null,
      "outputs": [
        {
          "output_type": "execute_result",
          "data": {
            "text/html": [
              "<div>\n",
              "<style scoped>\n",
              "    .dataframe tbody tr th:only-of-type {\n",
              "        vertical-align: middle;\n",
              "    }\n",
              "\n",
              "    .dataframe tbody tr th {\n",
              "        vertical-align: top;\n",
              "    }\n",
              "\n",
              "    .dataframe thead th {\n",
              "        text-align: right;\n",
              "    }\n",
              "</style>\n",
              "<table border=\"1\" class=\"dataframe\">\n",
              "  <thead>\n",
              "    <tr style=\"text-align: right;\">\n",
              "      <th></th>\n",
              "      <th>EaseofUse</th>\n",
              "      <th>Effectiveness</th>\n",
              "      <th>Satisfaction</th>\n",
              "    </tr>\n",
              "    <tr>\n",
              "      <th>Age</th>\n",
              "      <th></th>\n",
              "      <th></th>\n",
              "      <th></th>\n",
              "    </tr>\n",
              "  </thead>\n",
              "  <tbody>\n",
              "    <tr>\n",
              "      <th>5</th>\n",
              "      <td>5.000000</td>\n",
              "      <td>5.000000</td>\n",
              "      <td>5.000000</td>\n",
              "    </tr>\n",
              "    <tr>\n",
              "      <th>10</th>\n",
              "      <td>3.000000</td>\n",
              "      <td>4.000000</td>\n",
              "      <td>3.000000</td>\n",
              "    </tr>\n",
              "    <tr>\n",
              "      <th>15</th>\n",
              "      <td>4.750000</td>\n",
              "      <td>3.625000</td>\n",
              "      <td>3.375000</td>\n",
              "    </tr>\n",
              "    <tr>\n",
              "      <th>20</th>\n",
              "      <td>3.820225</td>\n",
              "      <td>3.505618</td>\n",
              "      <td>3.258427</td>\n",
              "    </tr>\n",
              "    <tr>\n",
              "      <th>30</th>\n",
              "      <td>4.026258</td>\n",
              "      <td>3.527352</td>\n",
              "      <td>3.236324</td>\n",
              "    </tr>\n",
              "    <tr>\n",
              "      <th>40</th>\n",
              "      <td>4.161359</td>\n",
              "      <td>3.537155</td>\n",
              "      <td>3.249469</td>\n",
              "    </tr>\n",
              "    <tr>\n",
              "      <th>50</th>\n",
              "      <td>4.126623</td>\n",
              "      <td>3.550325</td>\n",
              "      <td>3.287338</td>\n",
              "    </tr>\n",
              "    <tr>\n",
              "      <th>60</th>\n",
              "      <td>4.194681</td>\n",
              "      <td>3.565426</td>\n",
              "      <td>3.375532</td>\n",
              "    </tr>\n",
              "    <tr>\n",
              "      <th>70</th>\n",
              "      <td>4.110991</td>\n",
              "      <td>3.368534</td>\n",
              "      <td>3.134698</td>\n",
              "    </tr>\n",
              "    <tr>\n",
              "      <th>80</th>\n",
              "      <td>4.175676</td>\n",
              "      <td>3.300676</td>\n",
              "      <td>3.054054</td>\n",
              "    </tr>\n",
              "  </tbody>\n",
              "</table>\n",
              "</div>"
            ],
            "text/plain": [
              "     EaseofUse  Effectiveness  Satisfaction\n",
              "Age                                        \n",
              "5     5.000000       5.000000      5.000000\n",
              "10    3.000000       4.000000      3.000000\n",
              "15    4.750000       3.625000      3.375000\n",
              "20    3.820225       3.505618      3.258427\n",
              "30    4.026258       3.527352      3.236324\n",
              "40    4.161359       3.537155      3.249469\n",
              "50    4.126623       3.550325      3.287338\n",
              "60    4.194681       3.565426      3.375532\n",
              "70    4.110991       3.368534      3.134698\n",
              "80    4.175676       3.300676      3.054054"
            ]
          },
          "metadata": {
            "tags": []
          },
          "execution_count": 23
        }
      ]
    },
    {
      "cell_type": "code",
      "metadata": {
        "id": "Y0qhMy9AwDBg",
        "colab_type": "code",
        "colab": {
          "base_uri": "https://localhost:8080/",
          "height": 331
        },
        "outputId": "59609ccd-bf17-4a8a-e4b3-2ac810f95ca8"
      },
      "source": [
        "plt.figure(figsize=(6,5), dpi= 80)\n",
        "df_mean.plot(style='o')\n",
        "# Plot formatting\n",
        "plt.xlabel('Age')\n",
        "plt.ylabel('mean value')\n",
        "plt.xlim(0,90)\n",
        "plt.ylim(0,5)\n",
        "plt.title('Comparison of mean value')\n",
        "plt.legend(loc='lower right')"
      ],
      "execution_count": null,
      "outputs": [
        {
          "output_type": "execute_result",
          "data": {
            "text/plain": [
              "<matplotlib.legend.Legend at 0x7f0837f255c0>"
            ]
          },
          "metadata": {
            "tags": []
          },
          "execution_count": 24
        },
        {
          "output_type": "display_data",
          "data": {
            "text/plain": [
              "<Figure size 480x400 with 0 Axes>"
            ]
          },
          "metadata": {
            "tags": []
          }
        },
        {
          "output_type": "display_data",
          "data": {
            "image/png": "[encoded data removed]",
            "text/plain": [
              "<Figure size 432x288 with 1 Axes>"
            ]
          },
          "metadata": {
            "tags": [],
            "needs_background": "light"
          }
        }
      ]
    },
    {
      "cell_type": "code",
      "metadata": {
        "id": "z39irRSeC8xw",
        "colab_type": "code",
        "colab": {
          "base_uri": "https://localhost:8080/",
          "height": 404
        },
        "outputId": "7e2d8443-110d-4fcd-b1b2-41a3b5aa0e0e"
      },
      "source": [
        "#graphical representation of corellation\n",
        "plt.figure(figsize=(6,5), dpi= 80)\n",
        "hm=sns.heatmap(df.corr(), annot=True,center = 0,cmap='bwr_r', cbar=True)\n",
        "plt.title('Heatmap of Correlation Matrix')\n",
        "plt.tight_layout()"
      ],
      "execution_count": null,
      "outputs": [
        {
          "output_type": "display_data",
          "data": {
            "image/png": "[encoded data removed]",
            "text/plain": [
              "<Figure size 480x400 with 2 Axes>"
            ]
          },
          "metadata": {
            "tags": [],
            "needs_background": "light"
          }
        }
      ]
    },
    {
      "cell_type": "code",
      "metadata": {
        "id": "LddbfFEPmtfx",
        "colab_type": "code",
        "colab": {
          "base_uri": "https://localhost:8080/",
          "height": 143
        },
        "outputId": "8e5dd5d6-7d8b-424c-9200-5f721b1f4ea4"
      },
      "source": [
        "df.head(2)"
      ],
      "execution_count": null,
      "outputs": [
        {
          "output_type": "execute_result",
          "data": {
            "text/html": [
              "<div>\n",
              "<style scoped>\n",
              "    .dataframe tbody tr th:only-of-type {\n",
              "        vertical-align: middle;\n",
              "    }\n",
              "\n",
              "    .dataframe tbody tr th {\n",
              "        vertical-align: top;\n",
              "    }\n",
              "\n",
              "    .dataframe thead th {\n",
              "        text-align: right;\n",
              "    }\n",
              "</style>\n",
              "<table border=\"1\" class=\"dataframe\">\n",
              "  <thead>\n",
              "    <tr style=\"text-align: right;\">\n",
              "      <th></th>\n",
              "      <th>Age</th>\n",
              "      <th>Condition</th>\n",
              "      <th>Drug</th>\n",
              "      <th>EaseofUse</th>\n",
              "      <th>Effectiveness</th>\n",
              "      <th>Satisfaction</th>\n",
              "      <th>Sex</th>\n",
              "      <th>Age_group</th>\n",
              "      <th>Age_group_label</th>\n",
              "    </tr>\n",
              "  </thead>\n",
              "  <tbody>\n",
              "    <tr>\n",
              "      <th>186</th>\n",
              "      <td>70</td>\n",
              "      <td>Neuropathic Pain</td>\n",
              "      <td>lyrica</td>\n",
              "      <td>5</td>\n",
              "      <td>5</td>\n",
              "      <td>5</td>\n",
              "      <td>Female</td>\n",
              "      <td>(60, 70]</td>\n",
              "      <td>6</td>\n",
              "    </tr>\n",
              "    <tr>\n",
              "      <th>187</th>\n",
              "      <td>20</td>\n",
              "      <td>Neuropathic Pain</td>\n",
              "      <td>lyrica</td>\n",
              "      <td>1</td>\n",
              "      <td>3</td>\n",
              "      <td>1</td>\n",
              "      <td>Female</td>\n",
              "      <td>(0, 20]</td>\n",
              "      <td>1</td>\n",
              "    </tr>\n",
              "  </tbody>\n",
              "</table>\n",
              "</div>"
            ],
            "text/plain": [
              "     Age         Condition    Drug  ...     Sex  Age_group  Age_group_label\n",
              "186   70  Neuropathic Pain  lyrica  ...  Female   (60, 70]                6\n",
              "187   20  Neuropathic Pain  lyrica  ...  Female    (0, 20]                1\n",
              "\n",
              "[2 rows x 9 columns]"
            ]
          },
          "metadata": {
            "tags": []
          },
          "execution_count": 26
        }
      ]
    },
    {
      "cell_type": "code",
      "metadata": {
        "id": "0VpoDq19obRp",
        "colab_type": "code",
        "colab": {
          "base_uri": "https://localhost:8080/",
          "height": 181
        },
        "outputId": "808c574d-b13c-4480-bf76-60bdec65f2a7"
      },
      "source": [
        "# Filter dataframe by a target label\n",
        "df_gab=df[df['Drug']=='gabapentin']\n",
        "df_oxy=df[df['Drug']=='oxycodone']\n",
        "df_neu=df[df['Drug']=='neurontin']\n",
        "df_lyr=df[df['Drug']=='lyrica']\n",
        "# Stratified by age_group_label of oxycodone drug:\n",
        "df_oxy_grp1 = df_oxy[df_oxy['Age_group_label'] == 1] # age: <20 \n",
        "df_oxy_grp2 = df_oxy[df_oxy['Age_group_label'] == 2] # age: 20-30\n",
        "df_oxy_grp3 = df_oxy[df_oxy['Age_group_label'] == 3] # age: 30-40\n",
        "df_oxy_grp4 = df_oxy[df_oxy['Age_group_label'] == 4] # age: 40-50\n",
        "df_oxy_grp5 = df_oxy[df_oxy['Age_group_label'] == 5] # age: 50-60\n",
        "df_oxy_grp6 = df_oxy[df_oxy['Age_group_label'] == 6] # age: 60-70\n",
        "df_oxy_grp7 = df_oxy[df_oxy['Age_group_label'] == 7] # age: >70\n",
        "\n",
        "# Stratified by age_group_label of neurontin drug: \n",
        "df_neu_grp1 = df_neu[df_neu['Age_group_label'] == 1] \n",
        "df_neu_grp2 = df_neu[df_neu['Age_group_label'] == 2] \n",
        "df_neu_grp3 = df_neu[df_neu['Age_group_label'] == 3] \n",
        "df_neu_grp4 = df_neu[df_neu['Age_group_label'] == 4] \n",
        "df_neu_grp5 = df_neu[df_neu['Age_group_label'] == 5] \n",
        "df_neu_grp6 = df_neu[df_neu['Age_group_label'] == 6] \n",
        "df_neu_grp7 = df_neu[df_neu['Age_group_label'] == 7] \n",
        "\n",
        "# Stratified by age_group_label of lyrica drug:\n",
        "df_lyr_grp1 = df_lyr[df_lyr['Age_group_label'] == 1]  \n",
        "df_lyr_grp2 = df_lyr[df_lyr['Age_group_label'] == 2] \n",
        "df_lyr_grp3 = df_lyr[df_lyr['Age_group_label'] == 3] \n",
        "df_lyr_grp4 = df_lyr[df_lyr['Age_group_label'] == 4] \n",
        "df_lyr_grp5 = df_lyr[df_lyr['Age_group_label'] == 5] \n",
        "df_lyr_grp6 = df_lyr[df_lyr['Age_group_label'] == 6] \n",
        "df_lyr_grp7 = df_lyr[df_lyr['Age_group_label'] == 7] \n",
        "\n",
        "# Age group counts index for stratification by major class \"drug\" %:\n",
        "df_gab_counts = df_gab[['Age_group','Age_group_label']]\n",
        "df_gab_counts = pd.DataFrame(df_gab_counts.groupby('Age_group_label')['Age_group'].count())\n",
        "df_gab_counts.columns = ['counts']\n",
        "\n",
        "# Compute age group label proporiton % on gabapentin drug:\n",
        "df_gab_counts['Age_group_pct'] = df_gab_counts['counts']/df_gab_counts['counts'].sum()\n",
        "\n",
        "# Print the count index for each age group from gabapentin drug:\n",
        "print(df_gab_counts)"
      ],
      "execution_count": null,
      "outputs": [
        {
          "output_type": "stream",
          "text": [
            "                 counts  Age_group_pct\n",
            "Age_group_label                       \n",
            "1                    19       0.009581\n",
            "2                   100       0.050429\n",
            "3                   184       0.092789\n",
            "4                   498       0.251135\n",
            "5                   582       0.293495\n",
            "6                   453       0.228442\n",
            "7                   147       0.074130\n"
          ],
          "name": "stdout"
        }
      ]
    },
    {
      "cell_type": "code",
      "metadata": {
        "id": "JJHxh6eWoPh3",
        "colab_type": "code",
        "colab": {}
      },
      "source": [
        "# Upsampling on oxycodone drug by gabapentin drug proporition %\n",
        "\n",
        "sampled_oxy_grp1 = resample(df_oxy_grp1, replace=True, n_samples=20,random_state=0)\n",
        "sampled_oxy_grp2 = resample(df_oxy_grp2, replace=True, n_samples=100,random_state=0)\n",
        "sampled_oxy_grp3 = resample(df_oxy_grp3, replace=True, n_samples=185,random_state=0)\n",
        "sampled_oxy_grp4 = resample(df_oxy_grp4, replace=True, n_samples=500,random_state=0)\n",
        "sampled_oxy_grp5 = resample(df_oxy_grp5, replace=True, n_samples=580,random_state=0)\n",
        "sampled_oxy_grp6 = resample(df_oxy_grp6, replace=True, n_samples=455,random_state=0)\n",
        "sampled_oxy_grp7 = resample(df_oxy_grp7, replace=True, n_samples=150,random_state=0)\n",
        "\n",
        "# Concatentate upsampled minority class: \"oxycodone\" drug of all age groups\n",
        "df_oxy_upsampled = pd.concat([sampled_oxy_grp1,sampled_oxy_grp2,sampled_oxy_grp3, sampled_oxy_grp4,sampled_oxy_grp5,sampled_oxy_grp6,\n",
        "                              sampled_oxy_grp7], axis=0)"
      ],
      "execution_count": null,
      "outputs": []
    },
    {
      "cell_type": "code",
      "metadata": {
        "id": "PwtyaKspuFbw",
        "colab_type": "code",
        "colab": {}
      },
      "source": [
        "# Upsampling on neurontin drug by gabapentin drug proporition %\n",
        "\n",
        "sampled_neu_grp1 = resample(df_neu_grp1, replace=True, n_samples=20,random_state=0)\n",
        "sampled_neu_grp2 = resample(df_neu_grp2, replace=True, n_samples=100,random_state=0)\n",
        "sampled_neu_grp3 = resample(df_neu_grp3, replace=True, n_samples=185,random_state=0)\n",
        "sampled_neu_grp4 = resample(df_neu_grp4, replace=True, n_samples=500,random_state=0)\n",
        "sampled_neu_grp5 = resample(df_neu_grp5, replace=True, n_samples=580,random_state=0)\n",
        "sampled_neu_grp6 = resample(df_neu_grp6, replace=True, n_samples=455,random_state=0)\n",
        "sampled_neu_grp7 = resample(df_neu_grp7, replace=True, n_samples=150,random_state=0)\n",
        "\n",
        "# Concatentate upsampled minority class: \"neurontin\" drug of all age groups\n",
        "df_neu_upsampled = pd.concat([sampled_neu_grp1,sampled_neu_grp2,sampled_neu_grp3, sampled_neu_grp4,sampled_neu_grp5,sampled_neu_grp6,\n",
        "                               sampled_neu_grp7], axis=0)"
      ],
      "execution_count": null,
      "outputs": []
    },
    {
      "cell_type": "code",
      "metadata": {
        "id": "PWajzAyHuGQr",
        "colab_type": "code",
        "colab": {}
      },
      "source": [
        "# Upsampling on lyrica drug by gabapentin drug proporition %\n",
        "\n",
        "sampled_lyr_grp1 = resample(df_lyr_grp1, replace=True, n_samples=20,random_state=0)\n",
        "sampled_lyr_grp2 = resample(df_lyr_grp2, replace=True, n_samples=100,random_state=0)\n",
        "sampled_lyr_grp3 = resample(df_lyr_grp3, replace=True, n_samples=185,random_state=0)\n",
        "sampled_lyr_grp4 = resample(df_lyr_grp4, replace=True, n_samples=500,random_state=0)\n",
        "sampled_lyr_grp5 = resample(df_lyr_grp5, replace=True, n_samples=580,random_state=0)\n",
        "sampled_lyr_grp6 = resample(df_lyr_grp6, replace=True, n_samples=455,random_state=0)\n",
        "sampled_lyr_grp7 = resample(df_lyr_grp7, replace=True, n_samples=150,random_state=0)\n",
        "\n",
        "# Concatentate upsampled minority class: \"lyrica\" drug of all age groups\n",
        "df_lyr_upsampled = pd.concat([sampled_lyr_grp1,sampled_lyr_grp2,sampled_lyr_grp3, sampled_lyr_grp4,sampled_lyr_grp5,sampled_lyr_grp6,\n",
        "                              sampled_lyr_grp7], axis=0)\n",
        "\n",
        "# Conbine upsampled minority classes: \"oxycodone,neurontin,lyrica\" drug with upsampled gabapentin drug\n",
        "df = pd.concat([df_oxy_upsampled,df_neu_upsampled,df_lyr_upsampled,df_gab],axis=0)"
      ],
      "execution_count": null,
      "outputs": []
    },
    {
      "cell_type": "code",
      "metadata": {
        "id": "cySZEOWk0cjQ",
        "colab_type": "code",
        "colab": {
          "base_uri": "https://localhost:8080/",
          "height": 404
        },
        "outputId": "6f588c74-b4eb-42d5-ea35-73d3a2522913"
      },
      "source": [
        "#graphical representation of corellation\n",
        "plt.figure(figsize=(6,5), dpi= 80)\n",
        "hm=sns.heatmap(df .corr(), annot=True,center = 0,cmap='bwr_r', cbar=True)\n",
        "plt.title('Heatmap of Correlation Matrix')\n",
        "plt.tight_layout()"
      ],
      "execution_count": null,
      "outputs": [
        {
          "output_type": "display_data",
          "data": {
            "image/png": "[encoded data removed]",
            "text/plain": [
              "<Figure size 480x400 with 2 Axes>"
            ]
          },
          "metadata": {
            "tags": [],
            "needs_background": "light"
          }
        }
      ]
    },
    {
      "cell_type": "markdown",
      "metadata": {
        "id": "1pBIPbSwnHjN",
        "colab_type": "text"
      },
      "source": [
        "# Statistical Test"
      ]
    },
    {
      "cell_type": "markdown",
      "metadata": {
        "id": "8PK4hdDinSR4",
        "colab_type": "text"
      },
      "source": [
        "#### Impact of EaseofUse and Satisfaction\n",
        "\n",
        "Paired sampled t-test :- The paired sample t-test is also called dependent sample t-test. It’s an uni variate test that tests for a significant difference between 2 related variables.\n",
        "\n",
        "Hypothesis Testing:  Is there significant difference between the patients response towards EaseofUse and Satisfaction?\n",
        "\n",
        "\n",
        "##### Null  Hypothesis: \n",
        "\\begin{array}{c}\n",
        "H_0: \\rho_{EaseofUse} = \\rho_{Satisfaction}\n",
        "\\end{array}\n",
        "\n",
        "The null hypothesis would be that there is no difference in patients response of EaseofUse and Satisfaction:\n",
        "\n",
        "##### Alternate Hypothesis:  \n",
        "\\begin{array}{c}\n",
        "H_A: \\rho_{EaseofUse} \\neq \\rho_{Satisfaction}\n",
        "\\end{array}\n",
        "\n",
        "\n",
        "The alternative hypothesis would be that there is a difference in patients response of EaseofUse and Satisfaction.\n",
        "\n",
        "In oder to test this hypothesis, we conducted t-test using ttest_ind()"
      ]
    },
    {
      "cell_type": "code",
      "metadata": {
        "id": "coQvzmAAO0vU",
        "colab_type": "code",
        "colab": {
          "base_uri": "https://localhost:8080/"
        },
        "outputId": "fd0bd346-9b19-40cd-f3d4-424059ddea0e"
      },
      "source": [
        "from scipy.stats import ttest_ind\n",
        "from scipy import stats\n",
        "ttest,pval = stats.ttest_ind(df['EaseofUse'], df['Satisfaction'])\n",
        "print(ttest,pval)\n",
        "if pval < 0.05:\n",
        "    print(\"fail to accepet null hypothesis\")\n",
        "else:\n",
        "    print(\"accept null hypothesis\")"
      ],
      "execution_count": null,
      "outputs": [
        {
          "output_type": "stream",
          "text": [
            "40.6586087199659 0.0\n",
            "fail to accepet null hypothesis\n"
          ],
          "name": "stdout"
        }
      ]
    },
    {
      "cell_type": "markdown",
      "metadata": {
        "id": "S3erwhfKb-0r",
        "colab_type": "text"
      },
      "source": [
        "#### Impact of Effectiveness and Satisfaction\n",
        "\n",
        "Hypothesis Testing:  Is there significant difference between the patients response towards Effectiveness and Satisfaction?\n",
        "\n",
        "\n",
        "##### Null  Hypothesis: \n",
        "\\begin{array}{c}\n",
        "H_0: \\rho_{Effectiveness} = \\rho_{Satisfaction}\n",
        "\\end{array}\n",
        "\n",
        "The null hypothesis would be that there is no difference in patients response of Effectiveness and Satisfaction:\n",
        "\n",
        "##### Alternate Hypothesis:  \n",
        "\\begin{array}{c}\n",
        "H_A: \\rho_{Effectiveness} \\neq \\rho_{Satisfaction}\n",
        "\\end{array}\n",
        "\n",
        "The alternative hypothesis would be that there is a difference in patients response of Effectiveness and Satisfaction.\n",
        "\n",
        "In oder to test this hypothesis, we conducted t-test using ttest_ind()"
      ]
    },
    {
      "cell_type": "code",
      "metadata": {
        "id": "sIBe_UvybwHL",
        "colab_type": "code",
        "colab": {
          "base_uri": "https://localhost:8080/"
        },
        "outputId": "f771e5e6-6463-469b-cad9-3bdf00dc76c0"
      },
      "source": [
        "from scipy.stats import ttest_ind\n",
        "from scipy import stats\n",
        "ttest,pval = stats.ttest_ind(df['Effectiveness'], df['Satisfaction'])\n",
        "print(ttest,pval)\n",
        "if pval < 0.05:\n",
        "    print(\"fail to accept null hypothesis\")\n",
        "else:\n",
        "    print(\"accept null hypothesis\")"
      ],
      "execution_count": null,
      "outputs": [
        {
          "output_type": "stream",
          "text": [
            "11.317109888665783 1.4009999799830085e-29\n",
            "fail to accept null hypothesis\n"
          ],
          "name": "stdout"
        }
      ]
    },
    {
      "cell_type": "markdown",
      "metadata": {
        "id": "xVrq-_K5cy6_",
        "colab_type": "text"
      },
      "source": [
        "#### Impact of EaseofUse and Effectiveness\n",
        "\n",
        "Hypothesis Testing:  Is there significant difference between the patients response towards EaseofUse and Effectiveness?\n",
        "\n",
        "\n",
        "##### Null  Hypothesis: \n",
        "\\begin{array}{c}\n",
        "H_0: \\rho_{EaseofUse} = \\rho_{Effectiveness}\n",
        "\\end{array}\n",
        "\n",
        "The null hypothesis would be that there is no difference in patients response of EaseofUse and Effectiveness:\n",
        "\n",
        "##### Alternate Hypothesis:  \n",
        "\\begin{array}{c}\n",
        "H_A: \\rho_{EaseofUse} \\neq \\rho_{Effectiveness}\n",
        "\\end{array}\n",
        "\n",
        "The alternative hypothesis would be that there is a difference in patients response of EaseofUse and Effectiveness.\n",
        "\n",
        "In oder to test this hypothesis, we conducted t-test using ttest_ind()"
      ]
    },
    {
      "cell_type": "markdown",
      "metadata": {
        "id": "XV8loxBecy3T",
        "colab_type": "text"
      },
      "source": [
        ""
      ]
    },
    {
      "cell_type": "code",
      "metadata": {
        "id": "fg4M8H6jclnn",
        "colab_type": "code",
        "colab": {
          "base_uri": "https://localhost:8080/"
        },
        "outputId": "c19aa476-e818-4d9c-e3ee-b6ba77e24348"
      },
      "source": [
        "from scipy.stats import ttest_ind\n",
        "from scipy import stats\n",
        "ttest,pval = stats.ttest_ind(df['EaseofUse'], df['Effectiveness'])\n",
        "print(ttest,pval)\n",
        "if pval < 0.05:\n",
        "    print(\"fail to accept null hypothesis\")\n",
        "else:\n",
        "    print(\"accept null hypothesis\")"
      ],
      "execution_count": null,
      "outputs": [
        {
          "output_type": "stream",
          "text": [
            "30.797822502772792 2.334344815019319e-202\n",
            "fail to accept null hypothesis\n"
          ],
          "name": "stdout"
        }
      ]
    },
    {
      "cell_type": "markdown",
      "metadata": {
        "id": "XeWAu8N1iiNR",
        "colab_type": "text"
      },
      "source": [
        "# **MACHINE LEARNING MODELING**"
      ]
    },
    {
      "cell_type": "code",
      "metadata": {
        "id": "gS-3_c5nwDCT",
        "colab_type": "code",
        "colab": {}
      },
      "source": [
        "from sklearn.preprocessing import LabelEncoder\n",
        "from sklearn.preprocessing import OrdinalEncoder"
      ],
      "execution_count": null,
      "outputs": []
    },
    {
      "cell_type": "code",
      "metadata": {
        "id": "xLv_OpzPqmOp",
        "colab_type": "code",
        "colab": {}
      },
      "source": [
        "# Perform dummy variable encoding on nominal features #\n",
        "# Drop first dummy variable to avoid dummy variable trap on each converted feature!\n",
        "df2 = pd.get_dummies(df[['Age','EaseofUse','Effectiveness','Satisfaction','Sex']], drop_first=True)\n",
        "\n",
        "# Concatenated with a Drug label on transformed dataframe: \n",
        "df = pd.concat([df2, df['Drug']], axis=1)\n"
      ],
      "execution_count": null,
      "outputs": []
    },
    {
      "cell_type": "code",
      "metadata": {
        "id": "5ruExE1BwDCZ",
        "colab_type": "code",
        "colab": {}
      },
      "source": [
        "#Split train and test\n",
        "X=df.drop('Drug', axis=1)\n",
        "y=df['Drug']\n",
        "X_train, X_test, y_train, y_test=train_test_split(X,y,test_size=0.25)"
      ],
      "execution_count": null,
      "outputs": []
    },
    {
      "cell_type": "code",
      "metadata": {
        "id": "qwFzGmm4wDCf",
        "colab_type": "code",
        "colab": {
          "base_uri": "https://localhost:8080/",
          "height": 35
        },
        "outputId": "5be27564-0e7a-4dcc-fada-7620e79b32b4"
      },
      "source": [
        "print(y.shape, X.shape)"
      ],
      "execution_count": null,
      "outputs": [
        {
          "output_type": "stream",
          "text": [
            "(7953,) (7953, 5)\n"
          ],
          "name": "stdout"
        }
      ]
    },
    {
      "cell_type": "code",
      "metadata": {
        "id": "loSqPO3bwDC6",
        "colab_type": "code",
        "colab": {}
      },
      "source": [
        "def prepare_targets(y_train,y_test):\n",
        "    enc=LabelEncoder()\n",
        "    enc.fit(y_train)\n",
        "    y_train_enc = enc.transform(y_train)\n",
        "    y_test_enc = enc.transform(y_test)\n",
        "    return y_train_enc,y_test_enc"
      ],
      "execution_count": null,
      "outputs": []
    },
    {
      "cell_type": "code",
      "metadata": {
        "id": "VwSKtqMzwDDF",
        "colab_type": "code",
        "colab": {}
      },
      "source": [
        "# prepare output dat\n",
        "y_train  = pd.DataFrame(y_train)\n",
        "y_test = pd.DataFrame(y_test)\n",
        "y_train_enc, y_test_enc = prepare_targets(y_train, y_test)"
      ],
      "execution_count": null,
      "outputs": []
    },
    {
      "cell_type": "code",
      "metadata": {
        "id": "-UU7VNqKwDDM",
        "colab_type": "code",
        "colab": {}
      },
      "source": [
        "from sklearn.preprocessing import LabelEncoder\n",
        "lab_enc = preprocessing.LabelEncoder()\n",
        "y_train_enc = lab_enc.fit_transform(y_train)\n",
        "y_test_enc = lab_enc.fit_transform(y_test)"
      ],
      "execution_count": null,
      "outputs": []
    },
    {
      "cell_type": "code",
      "metadata": {
        "id": "BBn5nl9RwDDS",
        "colab_type": "code",
        "colab": {
          "base_uri": "https://localhost:8080/",
          "height": 429
        },
        "outputId": "321b5e40-354b-4e40-9d33-d0e18dc5770e"
      },
      "source": [
        "tree = DecisionTreeClassifier(criterion='gini',  max_depth=4,   random_state=0)\n",
        "tree.fit(X_train, y_train_enc)\n",
        "y_tree_pred = tree.predict(X_test)\n",
        "tree_pred_y = lab_enc.fit_transform(y_tree_pred)\n",
        "feat_labels = df.columns[:-1]\n",
        "importances = tree.feature_importances_\n",
        "indices = np.argsort(importances)[::-1]\n",
        "\n",
        "for f in range(X_train.shape[1]):\n",
        "    print(\"%2d) %-*s %f\" % (f + 1, 30, \n",
        "                            feat_labels[indices[f]],\n",
        "                            importances[indices[f]]))\n",
        "\n",
        "plt.title('Feature Importance: Decision Tree')\n",
        "plt.bar(range(X_train.shape[1]),\n",
        "        importances[indices],\n",
        "        align='center')\n",
        "plt.xticks(range(X_train.shape[1]),\n",
        "           feat_labels[indices], rotation=90)\n",
        "plt.xlim(-1, X_train.shape[1])\n",
        "plt.show()"
      ],
      "execution_count": null,
      "outputs": [
        {
          "output_type": "stream",
          "text": [
            " 1) Satisfaction                   0.387042\n",
            " 2) Sex_Male                       0.319104\n",
            " 3) EaseofUse                      0.119767\n",
            " 4) Effectiveness                  0.102680\n",
            " 5) Age                            0.071406\n"
          ],
          "name": "stdout"
        },
        {
          "output_type": "display_data",
          "data": {
            "image/png": "[encoded data removed]",
            "text/plain": [
              "<Figure size 432x288 with 1 Axes>"
            ]
          },
          "metadata": {
            "tags": [],
            "needs_background": "light"
          }
        }
      ]
    },
    {
      "cell_type": "code",
      "metadata": {
        "id": "8Qfm1qxRwDDY",
        "colab_type": "code",
        "colab": {
          "base_uri": "https://localhost:8080/",
          "height": 429
        },
        "outputId": "4e082a32-763c-4b28-c30a-0c0afae4b813"
      },
      "source": [
        "# Feature Selection: \n",
        "# Using a Random Forest:\n",
        "rf = RandomForestClassifier()\n",
        "rf.fit(X_train, y_train_enc)\n",
        "y_rf_pred = rf.predict(X_test);\n",
        "rf_pred_y = lab_enc.fit_transform(y_rf_pred)\n",
        "feat_labels = df.columns[:-1]\n",
        "importances = rf.feature_importances_\n",
        "indices = np.argsort(importances)[::-1]\n",
        "\n",
        "for f in range(X_train.shape[1]):\n",
        "    print(\"%2d) %-*s %f\" % (f + 1, 30, \n",
        "                            feat_labels[indices[f]],\n",
        "                            importances[indices[f]]))\n",
        "\n",
        "plt.figure()    \n",
        "plt.title('Feature Importance: Random Forest')\n",
        "plt.bar(range(X_train.shape[1]),\n",
        "        importances[indices],\n",
        "        align='center')\n",
        "plt.xticks(range(X_train.shape[1]),\n",
        "           feat_labels[indices], rotation=90)\n",
        "plt.xlim(-1, X_train.shape[1])\n",
        "plt.show()"
      ],
      "execution_count": null,
      "outputs": [
        {
          "output_type": "stream",
          "text": [
            " 1) Age                            0.346846\n",
            " 2) EaseofUse                      0.221183\n",
            " 3) Effectiveness                  0.189950\n",
            " 4) Satisfaction                   0.179096\n",
            " 5) Sex_Male                       0.062925\n"
          ],
          "name": "stdout"
        },
        {
          "output_type": "display_data",
          "data": {
            "image/png": "[encoded data removed]",
            "text/plain": [
              "<Figure size 432x288 with 1 Axes>"
            ]
          },
          "metadata": {
            "tags": [],
            "needs_background": "light"
          }
        }
      ]
    },
    {
      "cell_type": "code",
      "metadata": {
        "id": "lG_ik9lawDDc",
        "colab_type": "code",
        "colab": {
          "base_uri": "https://localhost:8080/",
          "height": 429
        },
        "outputId": "096d6b0e-d11b-4794-ef1c-ec336c6c6223"
      },
      "source": [
        "# Feature Selection: \n",
        "# Using a Gradient Boosting Classifier:\n",
        "gbc = GradientBoostingClassifier()\n",
        "gbc.fit(X_train, y_train_enc)\n",
        "y_gbc_pred = gbc.predict(X_test)\n",
        "gb_pred_y = lab_enc.fit_transform(y_gbc_pred)\n",
        "feat_labels = df.columns[:-1]\n",
        "importances = gbc.feature_importances_\n",
        "indices = np.argsort(importances)[::-1]\n",
        "\n",
        "for f in range(X_train.shape[1]):\n",
        "    print(\"%2d) %-*s %f\" % (f + 1, 30, \n",
        "                            feat_labels[indices[f]],\n",
        "                            importances[indices[f]]))\n",
        "\n",
        "plt.figure()    \n",
        "plt.title('Feature Importance: Gradient Boosting')\n",
        "plt.bar(range(X_train.shape[1]),\n",
        "        importances[indices],\n",
        "        align='center')\n",
        "plt.xticks(range(X_train.shape[1]),\n",
        "           feat_labels[indices], rotation=90)\n",
        "plt.xlim(-1, X_train.shape[1])\n",
        "plt.show()\n"
      ],
      "execution_count": null,
      "outputs": [
        {
          "output_type": "stream",
          "text": [
            " 1) Satisfaction                   0.303005\n",
            " 2) Sex_Male                       0.187140\n",
            " 3) Age                            0.184749\n",
            " 4) Effectiveness                  0.166186\n",
            " 5) EaseofUse                      0.158920\n"
          ],
          "name": "stdout"
        },
        {
          "output_type": "display_data",
          "data": {
            "image/png": "[encoded data removed]",
            "text/plain": [
              "<Figure size 432x288 with 1 Axes>"
            ]
          },
          "metadata": {
            "tags": [],
            "needs_background": "light"
          }
        }
      ]
    },
    {
      "cell_type": "code",
      "metadata": {
        "id": "uGwe-ZTDwDDh",
        "colab_type": "code",
        "colab": {
          "base_uri": "https://localhost:8080/",
          "height": 429
        },
        "outputId": "a0608996-ab90-41df-b4bb-4c2893017550"
      },
      "source": [
        "# Feature Selection:  Using a XGBClassifier:\n",
        "xgbc = XGBClassifier()\n",
        "xgbc.fit(X_train, y_train_enc)\n",
        "y_xgbc_pred = xgbc.predict(X_test)\n",
        "xgb_pred_y = lab_enc.fit_transform(y_xgbc_pred)\n",
        "feat_labels = df.columns[:-1]\n",
        "importances = xgbc.feature_importances_\n",
        "indices = np.argsort(importances)[::-1]\n",
        "\n",
        "for f in range(X_train.shape[1]):\n",
        "    print(\"%2d) %-*s %f\" % (f + 1, 30, \n",
        "                            feat_labels[indices[f]],\n",
        "                            importances[indices[f]]))\n",
        "\n",
        "plt.figure()    \n",
        "plt.title('Feature Importance: XGBClassifier')\n",
        "plt.bar(range(X_train.shape[1]),\n",
        "        importances[indices],\n",
        "        align='center')\n",
        "plt.xticks(range(X_train.shape[1]),\n",
        "           feat_labels[indices], rotation=90)\n",
        "plt.xlim(-1, X_train.shape[1])\n",
        "plt.show()\n"
      ],
      "execution_count": null,
      "outputs": [
        {
          "output_type": "stream",
          "text": [
            " 1) Sex_Male                       0.369003\n",
            " 2) Satisfaction                   0.266251\n",
            " 3) Effectiveness                  0.158243\n",
            " 4) EaseofUse                      0.114084\n",
            " 5) Age                            0.092420\n"
          ],
          "name": "stdout"
        },
        {
          "output_type": "display_data",
          "data": {
            "image/png": "[encoded data removed]",
            "text/plain": [
              "<Figure size 432x288 with 1 Axes>"
            ]
          },
          "metadata": {
            "tags": [],
            "needs_background": "light"
          }
        }
      ]
    },
    {
      "cell_type": "code",
      "metadata": {
        "id": "_RQz15igwDDn",
        "colab_type": "code",
        "colab": {
          "base_uri": "https://localhost:8080/",
          "height": 429
        },
        "outputId": "7d997422-7e05-4945-d097-c521e502cc1b"
      },
      "source": [
        "# Feature Selection: Using a Extra Trees Classifier:\n",
        "ext = ExtraTreesClassifier()\n",
        "ext.fit(X_train, y_train_enc)\n",
        "y_ext_pred = ext.predict(X_test)\n",
        "ex_pred_y = lab_enc.fit_transform(y_ext_pred)\n",
        "feat_labels = df.columns[:-1]\n",
        "importances = ext.feature_importances_\n",
        "indices = np.argsort(importances)[::-1]\n",
        "\n",
        "for f in range(X_train.shape[1]):\n",
        "    print(\"%2d) %-*s %f\" % (f + 1, 30, \n",
        "                            feat_labels[indices[f]],\n",
        "                            importances[indices[f]]))\n",
        "\n",
        "plt.figure()    \n",
        "plt.title('Feature Importance: Extra Trees')\n",
        "plt.bar(range(X_train.shape[1]),\n",
        "        importances[indices],\n",
        "        align='center')\n",
        "plt.xticks(range(X_train.shape[1]),\n",
        "           feat_labels[indices], rotation=90)\n",
        "plt.xlim(-1, X_train.shape[1])\n",
        "plt.show()\n"
      ],
      "execution_count": null,
      "outputs": [
        {
          "output_type": "stream",
          "text": [
            " 1) Age                            0.389829\n",
            " 2) EaseofUse                      0.212613\n",
            " 3) Effectiveness                  0.175526\n",
            " 4) Satisfaction                   0.164156\n",
            " 5) Sex_Male                       0.057876\n"
          ],
          "name": "stdout"
        },
        {
          "output_type": "display_data",
          "data": {
            "image/png": "[encoded data removed]",
            "text/plain": [
              "<Figure size 432x288 with 1 Axes>"
            ]
          },
          "metadata": {
            "tags": [],
            "needs_background": "light"
          }
        }
      ]
    },
    {
      "cell_type": "code",
      "metadata": {
        "id": "Uy3T57EOwDDu",
        "colab_type": "code",
        "colab": {}
      },
      "source": [
        "from sklearn import preprocessing\n",
        "\n",
        "def multiclass_roc_auc_score(y_test,y_pred,average=\"macro\"):\n",
        "    lb = preprocessing.LabelBinarizer()\n",
        "    lb.fit(y_test)\n",
        "    y_test=lb.transform(y_test)\n",
        "    y_pred=lb.transform(y_pred)\n",
        "    return roc_auc_score(y_test,y_pred,average=average)"
      ],
      "execution_count": null,
      "outputs": []
    },
    {
      "cell_type": "code",
      "metadata": {
        "id": "JvEBBkfWwDD5",
        "colab_type": "code",
        "colab": {
          "base_uri": "https://localhost:8080/",
          "height": 254
        },
        "outputId": "32d82153-c6f3-4826-e380-aec6397f56c4"
      },
      "source": [
        "knn = KNeighborsClassifier()\n",
        "knn.fit(X_train, y_train_enc)\n",
        "y_knn_pred = knn.predict(X_test)\n",
        "kn_pred_y = lab_enc.fit_transform(y_knn_pred)\n",
        "sk_report = classification_report(\n",
        "    digits=3, y_true=y_test_enc, y_pred=kn_pred_y)\n",
        "print('KNeighborsClassifier Result')\n",
        "print(sk_report)\n",
        "print('roc_auc_score of KNeighborsClassifier is: '+str(multiclass_roc_auc_score(y_test_enc, kn_pred_y)))"
      ],
      "execution_count": null,
      "outputs": [
        {
          "output_type": "stream",
          "text": [
            "KNeighborsClassifier Result\n",
            "              precision    recall  f1-score   support\n",
            "\n",
            "           0      0.330     0.489     0.394       485\n",
            "           1      0.358     0.374     0.366       462\n",
            "           2      0.533     0.342     0.417       520\n",
            "           3      0.491     0.427     0.457       522\n",
            "\n",
            "    accuracy                          0.408      1989\n",
            "   macro avg      0.428     0.408     0.408      1989\n",
            "weighted avg      0.432     0.408     0.410      1989\n",
            "\n",
            "roc_auc_score of KNeighborsClassifier is: 0.6057680312856677\n"
          ],
          "name": "stdout"
        }
      ]
    },
    {
      "cell_type": "code",
      "metadata": {
        "id": "TYelfSptwDD-",
        "colab_type": "code",
        "colab": {
          "base_uri": "https://localhost:8080/",
          "height": 254
        },
        "outputId": "029f06a8-700d-4778-ecec-2ac6c55e7be4"
      },
      "source": [
        "bag =  BaggingClassifier()\n",
        "bag.fit(X_train, y_train_enc)\n",
        "y_bag_pred = bag.predict(X_test)\n",
        "ba_pred_y = lab_enc.fit_transform(y_bag_pred)\n",
        "sk_report = classification_report(\n",
        "    digits=3, y_true=y_test_enc, y_pred=ba_pred_y)\n",
        "print('BaggingClassifier Result')\n",
        "print(sk_report)\n",
        "print('roc_auc_score of BaggingClassifier is: '+str(multiclass_roc_auc_score(y_test_enc, ba_pred_y)))"
      ],
      "execution_count": null,
      "outputs": [
        {
          "output_type": "stream",
          "text": [
            "BaggingClassifier Result\n",
            "              precision    recall  f1-score   support\n",
            "\n",
            "           0      0.455     0.402     0.427       485\n",
            "           1      0.471     0.370     0.415       462\n",
            "           2      0.522     0.471     0.495       520\n",
            "           3      0.507     0.707     0.590       522\n",
            "\n",
            "    accuracy                          0.493      1989\n",
            "   macro avg      0.489     0.488     0.482      1989\n",
            "weighted avg      0.490     0.493     0.485      1989\n",
            "\n",
            "roc_auc_score of BaggingClassifier is: 0.6589648106732149\n"
          ],
          "name": "stdout"
        }
      ]
    },
    {
      "cell_type": "markdown",
      "metadata": {
        "id": "8GCrcVa3Fubc",
        "colab_type": "text"
      },
      "source": [
        "# Evaluation of Model using Confusion Matrix"
      ]
    },
    {
      "cell_type": "code",
      "metadata": {
        "id": "afle99rWwDEJ",
        "colab_type": "code",
        "colab": {}
      },
      "source": [
        "#Confussion matrix plotting function\n",
        "def plot_cm (cm, classes):\n",
        "    fig, ax = plt.subplots(figsize=(10,10))\n",
        "    cmn = cm.astype('float') / cm.sum(axis=1)[:, np.newaxis]\n",
        "    sns.heatmap(cmn, annot=True, fmt='.2f', xticklabels=class_labels, yticklabels=class_labels)\n",
        "    plt.ylabel('Actual')\n",
        "    plt.xlabel('Predicted')   \n",
        "    \n",
        "class_labels=np.array(['gabapentin','oxycodone','neurontin','lyrica'],dtype=str)"
      ],
      "execution_count": null,
      "outputs": []
    },
    {
      "cell_type": "code",
      "metadata": {
        "id": "fNxs9Iw_wDEO",
        "colab_type": "code",
        "colab": {
          "base_uri": "https://localhost:8080/",
          "height": 857
        },
        "outputId": "eb78a964-7b52-45ef-a42e-d814c3c2c107"
      },
      "source": [
        "# Confusion matrix of Decision Tree\n",
        "cm=confusion_matrix(y_test_enc, tree_pred_y)\n",
        "plot_cm(cm, class_labels)\n",
        "plt.title('Normilized Decision Tree Confusion Matrix')\n",
        "plt.show()\n",
        "sk_report = classification_report(\n",
        "    digits=3, y_true=y_test_enc, y_pred=tree_pred_y,target_names=class_labels)\n",
        "print('Decision Tree Result')\n",
        "print(sk_report)\n",
        "print('ROC score of Decision Tree is %0.2f'% (multiclass_roc_auc_score(y_test_enc, tree_pred_y)))\n"
      ],
      "execution_count": null,
      "outputs": [
        {
          "output_type": "display_data",
          "data": {
            "image/png": "[encoded data removed]",
            "text/plain": [
              "<Figure size 720x720 with 2 Axes>"
            ]
          },
          "metadata": {
            "tags": [],
            "needs_background": "light"
          }
        },
        {
          "output_type": "stream",
          "text": [
            "Decision Tree Result\n",
            "              precision    recall  f1-score   support\n",
            "\n",
            "  gabapentin      0.411     0.153     0.223       485\n",
            "   oxycodone      0.325     0.190     0.240       462\n",
            "   neurontin      0.306     0.546     0.392       520\n",
            "      lyrica      0.417     0.487     0.449       522\n",
            "\n",
            "    accuracy                          0.352      1989\n",
            "   macro avg      0.365     0.344     0.326      1989\n",
            "weighted avg      0.365     0.352     0.330      1989\n",
            "\n",
            "ROC score of Decision Tree is 0.56\n"
          ],
          "name": "stdout"
        }
      ]
    },
    {
      "cell_type": "code",
      "metadata": {
        "id": "n5blfOmvwDEW",
        "colab_type": "code",
        "colab": {
          "base_uri": "https://localhost:8080/",
          "height": 857
        },
        "outputId": "6c2c7a88-69bc-41e0-f107-d6ac09b91ab3"
      },
      "source": [
        "# Confusion matrix of Random Forest\n",
        "cm=confusion_matrix(y_test_enc, rf_pred_y)\n",
        "plot_cm(cm, class_labels)\n",
        "plt.title('Normilized Random Forest Confusion Matrix')\n",
        "plt.show()\n",
        "sk_report = classification_report(\n",
        "    digits=3, y_true=y_test_enc, y_pred=rf_pred_y,target_names=class_labels)\n",
        "print('Random Forest Result')\n",
        "print(sk_report)\n",
        "print('ROC score of Random Forest is %0.2f'% (multiclass_roc_auc_score(y_test_enc, rf_pred_y)))\n"
      ],
      "execution_count": null,
      "outputs": [
        {
          "output_type": "display_data",
          "data": {
            "image/png": "[encoded data removed]",
            "text/plain": [
              "<Figure size 720x720 with 2 Axes>"
            ]
          },
          "metadata": {
            "tags": [],
            "needs_background": "light"
          }
        },
        {
          "output_type": "stream",
          "text": [
            "Random Forest Result\n",
            "              precision    recall  f1-score   support\n",
            "\n",
            "  gabapentin      0.455     0.392     0.421       485\n",
            "   oxycodone      0.458     0.379     0.415       462\n",
            "   neurontin      0.528     0.448     0.485       520\n",
            "      lyrica      0.500     0.716     0.589       522\n",
            "\n",
            "    accuracy                          0.489      1989\n",
            "   macro avg      0.485     0.484     0.477      1989\n",
            "weighted avg      0.487     0.489     0.480      1989\n",
            "\n",
            "ROC score of Random Forest is 0.66\n"
          ],
          "name": "stdout"
        }
      ]
    },
    {
      "cell_type": "code",
      "metadata": {
        "id": "7ei5LX4owDEa",
        "colab_type": "code",
        "colab": {
          "base_uri": "https://localhost:8080/",
          "height": 857
        },
        "outputId": "41482cf0-65af-4138-91ab-52d9c54d9f91"
      },
      "source": [
        " # Confusion matrix of KNeighbors\n",
        "cm=confusion_matrix(y_test_enc, kn_pred_y)\n",
        "plot_cm(cm, class_labels)\n",
        "plt.title('Normilized KNeighbors Confusion Matrix')\n",
        "plt.show()\n",
        "sk_report = classification_report(\n",
        "    digits=3, y_true=y_test_enc, y_pred=kn_pred_y,target_names=class_labels)\n",
        "print('KNeighbors Result')\n",
        "print(sk_report)\n",
        "print('ROC score of KNeighbors is %0.2f'% (multiclass_roc_auc_score(y_test_enc, kn_pred_y)))\n"
      ],
      "execution_count": null,
      "outputs": [
        {
          "output_type": "display_data",
          "data": {
            "image/png": "[encoded data removed]",
            "text/plain": [
              "<Figure size 720x720 with 2 Axes>"
            ]
          },
          "metadata": {
            "tags": [],
            "needs_background": "light"
          }
        },
        {
          "output_type": "stream",
          "text": [
            "KNeighbors Result\n",
            "              precision    recall  f1-score   support\n",
            "\n",
            "  gabapentin      0.330     0.489     0.394       485\n",
            "   oxycodone      0.358     0.374     0.366       462\n",
            "   neurontin      0.533     0.342     0.417       520\n",
            "      lyrica      0.491     0.427     0.457       522\n",
            "\n",
            "    accuracy                          0.408      1989\n",
            "   macro avg      0.428     0.408     0.408      1989\n",
            "weighted avg      0.432     0.408     0.410      1989\n",
            "\n",
            "ROC score of KNeighbors is 0.61\n"
          ],
          "name": "stdout"
        }
      ]
    },
    {
      "cell_type": "code",
      "metadata": {
        "id": "Ei9CoIJMwDEf",
        "colab_type": "code",
        "colab": {
          "base_uri": "https://localhost:8080/",
          "height": 857
        },
        "outputId": "6fa55584-f732-41e1-decf-559c75850c95"
      },
      "source": [
        "# Confusion matrix of Gradient Boosting\n",
        "cm=confusion_matrix(y_test_enc, gb_pred_y)\n",
        "plot_cm(cm, class_labels)\n",
        "plt.title('Normilized Gradient Boosting Confusion Matrix')\n",
        "plt.show()\n",
        "sk_report = classification_report(\n",
        "    digits=3, y_true=y_test_enc, y_pred=gb_pred_y,target_names=class_labels)\n",
        "print('Gradient Boosting Result')\n",
        "print(sk_report)\n",
        "print('ROC score of Gradient Boosting is %0.2f'% (multiclass_roc_auc_score(y_test_enc, gb_pred_y)))\n"
      ],
      "execution_count": null,
      "outputs": [
        {
          "output_type": "display_data",
          "data": {
            "image/png": "[encoded data removed]",
            "text/plain": [
              "<Figure size 720x720 with 2 Axes>"
            ]
          },
          "metadata": {
            "tags": [],
            "needs_background": "light"
          }
        },
        {
          "output_type": "stream",
          "text": [
            "Gradient Boosting Result\n",
            "              precision    recall  f1-score   support\n",
            "\n",
            "  gabapentin      0.427     0.241     0.308       485\n",
            "   oxycodone      0.378     0.294     0.331       462\n",
            "   neurontin      0.418     0.362     0.388       520\n",
            "      lyrica      0.425     0.738     0.540       522\n",
            "\n",
            "    accuracy                          0.415      1989\n",
            "   macro avg      0.412     0.409     0.392      1989\n",
            "weighted avg      0.413     0.415     0.395      1989\n",
            "\n",
            "ROC score of Gradient Boosting is 0.61\n"
          ],
          "name": "stdout"
        }
      ]
    },
    {
      "cell_type": "code",
      "metadata": {
        "id": "Le85z83jwDEm",
        "colab_type": "code",
        "colab": {
          "base_uri": "https://localhost:8080/",
          "height": 857
        },
        "outputId": "83a92bf4-d965-4fc9-8f1a-5df322884a73"
      },
      "source": [
        "# Confusion matrix of XGBClassifier\n",
        "cm=confusion_matrix(y_test_enc, xgb_pred_y)\n",
        "plot_cm(cm, class_labels)\n",
        "plt.title('Normilized XGBClassifier Confusion Matrix')\n",
        "plt.show()\n",
        "sk_report = classification_report(\n",
        "    digits=3, y_true=y_test_enc, y_pred=xgb_pred_y,target_names=class_labels)\n",
        "print('XGBClassifier Result')\n",
        "print(sk_report)\n",
        "print('ROC score of XGBClassifier is %0.2f'% (multiclass_roc_auc_score(y_test_enc, xgb_pred_y)))\n"
      ],
      "execution_count": null,
      "outputs": [
        {
          "output_type": "display_data",
          "data": {
            "image/png": "[encoded data removed]",
            "text/plain": [
              "<Figure size 720x720 with 2 Axes>"
            ]
          },
          "metadata": {
            "tags": [],
            "needs_background": "light"
          }
        },
        {
          "output_type": "stream",
          "text": [
            "XGBClassifier Result\n",
            "              precision    recall  f1-score   support\n",
            "\n",
            "  gabapentin      0.417     0.229     0.296       485\n",
            "   oxycodone      0.376     0.281     0.322       462\n",
            "   neurontin      0.368     0.308     0.335       520\n",
            "      lyrica      0.384     0.693     0.495       522\n",
            "\n",
            "    accuracy                          0.384      1989\n",
            "   macro avg      0.386     0.378     0.362      1989\n",
            "weighted avg      0.386     0.384     0.364      1989\n",
            "\n",
            "ROC score of XGBClassifier is 0.59\n"
          ],
          "name": "stdout"
        }
      ]
    },
    {
      "cell_type": "markdown",
      "metadata": {
        "id": "s9TYsKgm8P1w",
        "colab_type": "text"
      },
      "source": [
        "#Ensemble Learning: Majority Vote Classifier"
      ]
    },
    {
      "cell_type": "code",
      "metadata": {
        "id": "h6JyMUzi8YXH",
        "colab_type": "code",
        "colab": {}
      },
      "source": [
        "from sklearn.base import BaseEstimator"
      ],
      "execution_count": null,
      "outputs": []
    },
    {
      "cell_type": "code",
      "metadata": {
        "id": "kU-Z8RTQ8PPz",
        "colab_type": "code",
        "colab": {}
      },
      "source": [
        ""
      ],
      "execution_count": null,
      "outputs": []
    },
    {
      "cell_type": "markdown",
      "metadata": {
        "id": "DGXKmNA08d_6",
        "colab_type": "text"
      },
      "source": [
        "# Model Evaluation: precision-recall curve"
      ]
    },
    {
      "cell_type": "code",
      "metadata": {
        "id": "dv37kUP38f4b",
        "colab_type": "code",
        "colab": {}
      },
      "source": [
        ""
      ],
      "execution_count": null,
      "outputs": []
    },
    {
      "cell_type": "markdown",
      "metadata": {
        "id": "C_Sc2Owm8h7t",
        "colab_type": "text"
      },
      "source": [
        "# Practical Utilization of Model"
      ]
    },
    {
      "cell_type": "markdown",
      "metadata": {
        "id": "KPbZbsgdXFCo",
        "colab_type": "text"
      },
      "source": [
        "After modeling"
      ]
    },
    {
      "cell_type": "code",
      "metadata": {
        "id": "YtvEZfYgwDEr",
        "colab_type": "code",
        "colab": {}
      },
      "source": [
        ""
      ],
      "execution_count": null,
      "outputs": []
    },
    {
      "cell_type": "code",
      "metadata": {
        "id": "wGcUfCh0wDEv",
        "colab_type": "code",
        "colab": {}
      },
      "source": [
        "# First gather the data I need and choose the display colors\n",
        "condition = list(df['Condition'].unique().tolist());\n",
        "sex = list(df['Sex'].unique().tolist());\n",
        "age = list(df['Age'].unique().tolist());\n",
        "drug=list(df['Drug'].unique().tolist());\n",
        "\n",
        "EaseofUse = list(df['EaseofUse'].unique().tolist());\n",
        "Effectiveness = list(df['Effectiveness'].unique().tolist());\n",
        "Satisfaction = list(df['Satisfaction'].unique().tolist());\n",
        "color1 = 'red'\n",
        "color2 = 'blue'\n",
        "color3 = 'black'\n",
        "\n",
        "# This creates the initial figure.\n",
        "# Note that px.scatter generates multiple scatter plot 'traces'. Each trace contains \n",
        "# the data points associated with 1 team/season/player depending on what the property\n",
        "# of 'color' is set to.\n",
        "trace1 = px.bar(df, x='drug', y='values' color='rate')\n",
        "fig = go.FigureWidget(trace1)\n",
        "\n",
        "# Create all our drop down widgets\n",
        "filterDrop = widgets.Dropdown(\n",
        "    description='Filter:',\n",
        "    value='Condition',\n",
        "    options=['Sex', 'Age','Drug']  \n",
        ")\n",
        "conditionDrop1 = widgets.Dropdown(\n",
        "    description='Condition:',\n",
        "    value='Pain',\n",
        "    options=list(df['Condition'].unique().tolist())  \n",
        "\n",
        "sexDrop1 = widgets.Dropdown(\n",
        "    description='Sex',\n",
        "    value='Male',\n",
        "    options=list(df['Sex'].unique().tolist())  \n",
        ")\n",
        "\n",
        "ageDrop1 = widgets.Dropdown(\n",
        "    description='AgeGroup:',\n",
        "    value='0-5',\n",
        "    options=list(df['Age'].unique().tolist())  \n",
        ")\n",
        "\n",
        "\n",
        "drugDrop1 = widgets.Dropdown(\n",
        "    description='SelectDrug:',\n",
        "    value='tramadol',\n",
        "    options=list(df['Drug'].unique().tolist())  \n",
        ")\n",
        "\n",
        "\n",
        "# This will be called when the filter dropdown changes. \n",
        "def filterResponse(change):\n",
        "    # generate the new traces that are filtered by teamname, season, or player\n",
        "    tempTrace = px.bar(df, color=filterDrop.value)\n",
        "    with fig.batch_update():\n",
        "        # Delete the old traces and add the new traces in one at a time\n",
        "        fig.data = []\n",
        "        for tr in tempTrace.data:\n",
        "            fig.add_scatter(x = tr.x, y = tr.y, hoverlabel = tr.hoverlabel, hovertemplate = tr.hovertemplate, \\\n",
        "                           legendgroup = tr.legendgroup, marker = tr.marker, mode = tr.mode, name = tr.name)\n",
        "    # Call response so that it will color the markers appropriately\n",
        "    response(change)\n",
        "\n",
        "# Write dropdown function\n"
      ],
      "execution_count": null,
      "outputs": []
    },
    {
      "cell_type": "code",
      "metadata": {
        "id": "2rFHeyaFwDEz",
        "colab_type": "code",
        "colab": {}
      },
      "source": [
        ""
      ],
      "execution_count": null,
      "outputs": []
    },
    {
      "cell_type": "code",
      "metadata": {
        "id": "fPJOs618wDE2",
        "colab_type": "code",
        "colab": {}
      },
      "source": [
        ""
      ],
      "execution_count": null,
      "outputs": []
    },
    {
      "cell_type": "code",
      "metadata": {
        "id": "w4IquupgwDE7",
        "colab_type": "code",
        "colab": {}
      },
      "source": [
        ""
      ],
      "execution_count": null,
      "outputs": []
    },
    {
      "cell_type": "code",
      "metadata": {
        "id": "DK0do3u-wDE_",
        "colab_type": "code",
        "colab": {}
      },
      "source": [
        ""
      ],
      "execution_count": null,
      "outputs": []
    },
    {
      "cell_type": "code",
      "metadata": {
        "id": "Jl4Nz599wDFC",
        "colab_type": "code",
        "colab": {}
      },
      "source": [
        ""
      ],
      "execution_count": null,
      "outputs": []
    },
    {
      "cell_type": "code",
      "metadata": {
        "id": "iRg3hyO7wDFF",
        "colab_type": "code",
        "colab": {}
      },
      "source": [
        ""
      ],
      "execution_count": null,
      "outputs": []
    },
    {
      "cell_type": "code",
      "metadata": {
        "id": "Zg0T3HfnwDFJ",
        "colab_type": "code",
        "colab": {}
      },
      "source": [
        ""
      ],
      "execution_count": null,
      "outputs": []
    },
    {
      "cell_type": "code",
      "metadata": {
        "id": "9b6WHfgdwDFQ",
        "colab_type": "code",
        "colab": {}
      },
      "source": [
        ""
      ],
      "execution_count": null,
      "outputs": []
    },
    {
      "cell_type": "code",
      "metadata": {
        "id": "dj1UjYsDwDFT",
        "colab_type": "code",
        "colab": {}
      },
      "source": [
        ""
      ],
      "execution_count": null,
      "outputs": []
    },
    {
      "cell_type": "code",
      "metadata": {
        "id": "BxO4HRMlwDFc",
        "colab_type": "code",
        "colab": {}
      },
      "source": [
        ""
      ],
      "execution_count": null,
      "outputs": []
    },
    {
      "cell_type": "code",
      "metadata": {
        "id": "EkW845sawDFf",
        "colab_type": "code",
        "colab": {}
      },
      "source": [
        ""
      ],
      "execution_count": null,
      "outputs": []
    },
    {
      "cell_type": "code",
      "metadata": {
        "id": "Ko7Pl2SBwDFj",
        "colab_type": "code",
        "colab": {}
      },
      "source": [
        ""
      ],
      "execution_count": null,
      "outputs": []
    },
    {
      "cell_type": "code",
      "metadata": {
        "id": "ItJvrOcRwDFo",
        "colab_type": "code",
        "colab": {}
      },
      "source": [
        ""
      ],
      "execution_count": null,
      "outputs": []
    },
    {
      "cell_type": "code",
      "metadata": {
        "id": "V04jgr9HwDFs",
        "colab_type": "code",
        "colab": {}
      },
      "source": [
        ""
      ],
      "execution_count": null,
      "outputs": []
    },
    {
      "cell_type": "code",
      "metadata": {
        "id": "v82hRtQjwDFv",
        "colab_type": "code",
        "colab": {}
      },
      "source": [
        ""
      ],
      "execution_count": null,
      "outputs": []
    },
    {
      "cell_type": "code",
      "metadata": {
        "id": "7sULT5CQwDFz",
        "colab_type": "code",
        "colab": {}
      },
      "source": [
        ""
      ],
      "execution_count": null,
      "outputs": []
    },
    {
      "cell_type": "code",
      "metadata": {
        "id": "0NJ_5ZxewDF2",
        "colab_type": "code",
        "colab": {}
      },
      "source": [
        ""
      ],
      "execution_count": null,
      "outputs": []
    },
    {
      "cell_type": "code",
      "metadata": {
        "id": "asiak-IewDF5",
        "colab_type": "code",
        "colab": {}
      },
      "source": [
        ""
      ],
      "execution_count": null,
      "outputs": []
    },
    {
      "cell_type": "code",
      "metadata": {
        "id": "eeHIg2GCwDF8",
        "colab_type": "code",
        "colab": {}
      },
      "source": [
        ""
      ],
      "execution_count": null,
      "outputs": []
    },
    {
      "cell_type": "code",
      "metadata": {
        "id": "4dAv720BwDGA",
        "colab_type": "code",
        "colab": {}
      },
      "source": [
        ""
      ],
      "execution_count": null,
      "outputs": []
    },
    {
      "cell_type": "code",
      "metadata": {
        "id": "7hteHXUEwDGF",
        "colab_type": "code",
        "colab": {}
      },
      "source": [
        ""
      ],
      "execution_count": null,
      "outputs": []
    },
    {
      "cell_type": "code",
      "metadata": {
        "id": "5VO9dGNlwDGK",
        "colab_type": "code",
        "colab": {}
      },
      "source": [
        ""
      ],
      "execution_count": null,
      "outputs": []
    },
    {
      "cell_type": "code",
      "metadata": {
        "id": "xLSzVCXkwDGP",
        "colab_type": "code",
        "colab": {}
      },
      "source": [
        ""
      ],
      "execution_count": null,
      "outputs": []
    },
    {
      "cell_type": "code",
      "metadata": {
        "id": "atCARgMAwDGU",
        "colab_type": "code",
        "colab": {}
      },
      "source": [
        ""
      ],
      "execution_count": null,
      "outputs": []
    },
    {
      "cell_type": "code",
      "metadata": {
        "id": "PnT5LsazwDGW",
        "colab_type": "code",
        "colab": {}
      },
      "source": [
        ""
      ],
      "execution_count": null,
      "outputs": []
    },
    {
      "cell_type": "code",
      "metadata": {
        "id": "FUQ9uIexwDGa",
        "colab_type": "code",
        "colab": {}
      },
      "source": [
        ""
      ],
      "execution_count": null,
      "outputs": []
    },
    {
      "cell_type": "code",
      "metadata": {
        "id": "xn94IcPtwDGc",
        "colab_type": "code",
        "colab": {}
      },
      "source": [
        ""
      ],
      "execution_count": null,
      "outputs": []
    },
    {
      "cell_type": "code",
      "metadata": {
        "id": "QkowLWjvwDGg",
        "colab_type": "code",
        "colab": {}
      },
      "source": [
        ""
      ],
      "execution_count": null,
      "outputs": []
    },
    {
      "cell_type": "code",
      "metadata": {
        "id": "DmaYX3FawDGi",
        "colab_type": "code",
        "colab": {}
      },
      "source": [
        ""
      ],
      "execution_count": null,
      "outputs": []
    },
    {
      "cell_type": "code",
      "metadata": {
        "id": "XAhgaOgCwDGl",
        "colab_type": "code",
        "colab": {}
      },
      "source": [
        ""
      ],
      "execution_count": null,
      "outputs": []
    },
    {
      "cell_type": "code",
      "metadata": {
        "id": "ciwHR1f7wDGp",
        "colab_type": "code",
        "colab": {}
      },
      "source": [
        ""
      ],
      "execution_count": null,
      "outputs": []
    },
    {
      "cell_type": "code",
      "metadata": {
        "id": "rluR_3FTwDGr",
        "colab_type": "code",
        "colab": {}
      },
      "source": [
        ""
      ],
      "execution_count": null,
      "outputs": []
    },
    {
      "cell_type": "code",
      "metadata": {
        "id": "WSVcST2qwDGv",
        "colab_type": "code",
        "colab": {}
      },
      "source": [
        ""
      ],
      "execution_count": null,
      "outputs": []
    },
    {
      "cell_type": "code",
      "metadata": {
        "id": "sf_aWlJ0wDGy",
        "colab_type": "code",
        "colab": {}
      },
      "source": [
        ""
      ],
      "execution_count": null,
      "outputs": []
    },
    {
      "cell_type": "code",
      "metadata": {
        "id": "rG_aF0cawDG1",
        "colab_type": "code",
        "colab": {}
      },
      "source": [
        ""
      ],
      "execution_count": null,
      "outputs": []
    },
    {
      "cell_type": "code",
      "metadata": {
        "id": "4YeBFg3OwDG9",
        "colab_type": "code",
        "colab": {}
      },
      "source": [
        ""
      ],
      "execution_count": null,
      "outputs": []
    },
    {
      "cell_type": "code",
      "metadata": {
        "id": "H7pqqS4gwDG_",
        "colab_type": "code",
        "colab": {}
      },
      "source": [
        ""
      ],
      "execution_count": null,
      "outputs": []
    },
    {
      "cell_type": "code",
      "metadata": {
        "id": "loIN31SnwDHF",
        "colab_type": "code",
        "colab": {}
      },
      "source": [
        ""
      ],
      "execution_count": null,
      "outputs": []
    },
    {
      "cell_type": "code",
      "metadata": {
        "id": "NycWNRJYwDHJ",
        "colab_type": "code",
        "colab": {}
      },
      "source": [
        ""
      ],
      "execution_count": null,
      "outputs": []
    },
    {
      "cell_type": "code",
      "metadata": {
        "id": "T6M6PFDlwDHS",
        "colab_type": "code",
        "colab": {}
      },
      "source": [
        ""
      ],
      "execution_count": null,
      "outputs": []
    },
    {
      "cell_type": "code",
      "metadata": {
        "id": "DHrZLyd_wDHU",
        "colab_type": "code",
        "colab": {}
      },
      "source": [
        ""
      ],
      "execution_count": null,
      "outputs": []
    },
    {
      "cell_type": "code",
      "metadata": {
        "id": "VhJtf-WMwDHW",
        "colab_type": "code",
        "colab": {}
      },
      "source": [
        ""
      ],
      "execution_count": null,
      "outputs": []
    },
    {
      "cell_type": "code",
      "metadata": {
        "id": "X5QeP7nlwDHZ",
        "colab_type": "code",
        "colab": {}
      },
      "source": [
        ""
      ],
      "execution_count": null,
      "outputs": []
    },
    {
      "cell_type": "code",
      "metadata": {
        "id": "1E3oBBP3wDHc",
        "colab_type": "code",
        "colab": {}
      },
      "source": [
        ""
      ],
      "execution_count": null,
      "outputs": []
    },
    {
      "cell_type": "code",
      "metadata": {
        "id": "pZRz1YzgwDHf",
        "colab_type": "code",
        "colab": {}
      },
      "source": [
        ""
      ],
      "execution_count": null,
      "outputs": []
    },
    {
      "cell_type": "code",
      "metadata": {
        "id": "WbF83B96wDHh",
        "colab_type": "code",
        "colab": {}
      },
      "source": [
        ""
      ],
      "execution_count": null,
      "outputs": []
    },
    {
      "cell_type": "code",
      "metadata": {
        "id": "C8tdZOEfwDHk",
        "colab_type": "code",
        "colab": {}
      },
      "source": [
        ""
      ],
      "execution_count": null,
      "outputs": []
    },
    {
      "cell_type": "code",
      "metadata": {
        "id": "VK9ZO9lMwDHs",
        "colab_type": "code",
        "colab": {}
      },
      "source": [
        ""
      ],
      "execution_count": null,
      "outputs": []
    },
    {
      "cell_type": "code",
      "metadata": {
        "id": "EwBqiKckwDHu",
        "colab_type": "code",
        "colab": {}
      },
      "source": [
        ""
      ],
      "execution_count": null,
      "outputs": []
    },
    {
      "cell_type": "code",
      "metadata": {
        "id": "E2rxRiF8wDHw",
        "colab_type": "code",
        "colab": {}
      },
      "source": [
        ""
      ],
      "execution_count": null,
      "outputs": []
    },
    {
      "cell_type": "code",
      "metadata": {
        "id": "RCUUL_9ewDHz",
        "colab_type": "code",
        "colab": {}
      },
      "source": [
        ""
      ],
      "execution_count": null,
      "outputs": []
    },
    {
      "cell_type": "code",
      "metadata": {
        "id": "1VQxPJRmwDH5",
        "colab_type": "code",
        "colab": {}
      },
      "source": [
        ""
      ],
      "execution_count": null,
      "outputs": []
    },
    {
      "cell_type": "code",
      "metadata": {
        "id": "8vbNFWAdwDH8",
        "colab_type": "code",
        "colab": {}
      },
      "source": [
        ""
      ],
      "execution_count": null,
      "outputs": []
    },
    {
      "cell_type": "code",
      "metadata": {
        "id": "KIrNtkZMwDH_",
        "colab_type": "code",
        "colab": {}
      },
      "source": [
        ""
      ],
      "execution_count": null,
      "outputs": []
    },
    {
      "cell_type": "code",
      "metadata": {
        "id": "ElQALGz_wDID",
        "colab_type": "code",
        "colab": {}
      },
      "source": [
        ""
      ],
      "execution_count": null,
      "outputs": []
    },
    {
      "cell_type": "code",
      "metadata": {
        "id": "V77YHcrNwDIF",
        "colab_type": "code",
        "colab": {}
      },
      "source": [
        ""
      ],
      "execution_count": null,
      "outputs": []
    },
    {
      "cell_type": "code",
      "metadata": {
        "id": "f3jHl3s7wDIH",
        "colab_type": "code",
        "colab": {}
      },
      "source": [
        ""
      ],
      "execution_count": null,
      "outputs": []
    },
    {
      "cell_type": "code",
      "metadata": {
        "id": "I4JMwXVgwDIJ",
        "colab_type": "code",
        "colab": {}
      },
      "source": [
        ""
      ],
      "execution_count": null,
      "outputs": []
    },
    {
      "cell_type": "code",
      "metadata": {
        "id": "AvDIpr_gwDIL",
        "colab_type": "code",
        "colab": {}
      },
      "source": [
        ""
      ],
      "execution_count": null,
      "outputs": []
    },
    {
      "cell_type": "code",
      "metadata": {
        "id": "6nbe2BdgwDIN",
        "colab_type": "code",
        "colab": {}
      },
      "source": [
        ""
      ],
      "execution_count": null,
      "outputs": []
    },
    {
      "cell_type": "code",
      "metadata": {
        "id": "r76kuZv4wDIP",
        "colab_type": "code",
        "colab": {}
      },
      "source": [
        ""
      ],
      "execution_count": null,
      "outputs": []
    }
  ]
}